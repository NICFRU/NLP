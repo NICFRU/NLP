{
 "cells": [
  {
   "cell_type": "code",
   "execution_count": 1,
   "metadata": {},
   "outputs": [],
   "source": [
    "import os\n",
    "\n",
    "DATA_DIR='raw'\n",
    "data_names = os.listdir(DATA_DIR)\n",
    "data_names = [name[:-4] for name in data_names if name != \".DS_Store\"]"
   ]
  },
  {
   "cell_type": "code",
   "execution_count": 2,
   "metadata": {},
   "outputs": [],
   "source": [
    "from string import punctuation\n",
    "import re\n",
    "from transformers import pipeline, AutoTokenizer\n",
    "import pandas as pd\n",
    "from tqdm import tqdm\n",
    "\n",
    "\n",
    "\n",
    "def load_markdown_file(file_path):\n",
    "    with open(file_path, \"r\", encoding='UTF-8') as stream:\n",
    "        markdown_str = stream.read()\n",
    "        return markdown_str\n",
    "\n",
    "def _add_sentence_to_list(sentence: str, sentences_list):\n",
    "    \"\"\"\n",
    "    Add a sentence to the list of sentences.\n",
    "    Args:\n",
    "        sentence (str):\n",
    "            Sentence to be added.\n",
    "        sentences (List[str]):\n",
    "            List of sentences.\n",
    "    \"\"\"\n",
    "    while sentence.startswith(\" \"):\n",
    "        # remove leading space\n",
    "        sentence = sentence[1:]\n",
    "    if all(c in punctuation for c in sentence) or len(sentence) == 1:\n",
    "        # skip sentences with only punctuation\n",
    "        return\n",
    "    sentences_list.append(sentence)\n",
    "\n",
    "def get_sentences(text: str):\n",
    "    \"\"\"\n",
    "    Get sentences from a text.\n",
    "    Args:\n",
    "        text (str):\n",
    "            Text to be processed.\n",
    "    Returns:\n",
    "        List[str]:\n",
    "            List of sentences.\n",
    "    \"\"\"\n",
    "    # get the paragraphs\n",
    "    text=   re.sub(\" \\d+\\n\", \".\", text)\n",
    "    text=   re.sub(\"\\n\\d+\", \" \", text)\n",
    "    text=   re.sub(\"\\n\", \" \", text)\n",
    "    text=   re.sub(\"\\d+.\", \"\", text)\n",
    "    paragraphs = re.split(r' *[\\.\\?!][\\'\"\\)\\]]* *', text)\n",
    "    paragraphs = [p for p in paragraphs if p != \"\"]\n",
    "    # get the sentences from the paragraphs\n",
    "    sentences = list()\n",
    "    for paragraph in paragraphs:\n",
    "        if paragraph.startswith(\"#\"):\n",
    "            _add_sentence_to_list(paragraph, sentences)\n",
    "            continue\n",
    "        prev_sentence_idx = 0\n",
    "        for idx in range(len(paragraph)):\n",
    "            if idx + 1 < len(paragraph):\n",
    "                if (paragraph[idx] == \".\" and not paragraph[idx + 1].isdigit()) or (\n",
    "                    paragraph[idx] in \"!?\"\n",
    "                ):\n",
    "                    sentence = paragraph[prev_sentence_idx : idx + 1]\n",
    "                    _add_sentence_to_list(sentence, sentences)\n",
    "                    prev_sentence_idx = idx + 1\n",
    "            else:\n",
    "                sentence = paragraph[prev_sentence_idx:]\n",
    "                _add_sentence_to_list(sentence, sentences)\n",
    "    return sentences\n",
    "\n",
    "def get_hate_speech(\n",
    "    sentences, sentiment_df, label_col: str = \"label\"\n",
    "):\n",
    "    \"Get the hate speech of a list of sentences.\"\n",
    "    \n",
    "    hate_model_path = \"Hate-speech-CNERG/dehatebert-mono-german\"\n",
    "    hate_task = pipeline(\n",
    "        \"text-classification\", model=hate_model_path, tokenizer=hate_model_path\n",
    "    )\n",
    "    hate_outputs = [\n",
    "        hate_task(sentence) for sentence in tqdm(sentences, desc=\"Hate speech analysis\")\n",
    "    ]\n",
    "    hate_dict = dict(label=[], score=[], sentence=[])\n",
    "    for idx, output in enumerate(hate_outputs):\n",
    "        hate_dict[\"label\"].append(output[0][\"label\"])\n",
    "        hate_dict[\"score\"].append(output[0][\"score\"])\n",
    "        hate_dict[\"sentence\"].append(sentences[idx])\n",
    "    hate_df = pd.DataFrame(hate_dict)\n",
    "    hate_df[\"label\"] = hate_df.label.map(dict(HATE=\"negativ\", NON_HATE=\"neutral\"))\n",
    "    hate_condition = (hate_df.label == \"negativ\") & (sentiment_df[label_col] == \"negativ\")\n",
    "    hate_df.loc[hate_condition, \"label\"] = \"negativ\"\n",
    "    hate_df.loc[~hate_condition, \"label\"] = \"neutral\"\n",
    "    return hate_df\n",
    "\n",
    "def get_sentiment(sentences):\n",
    "    \"based on pretrained model try to identify which elements have which sentiment\"\n",
    "    sentiment_model_path = \"cardiffnlp/twitter-xlm-roberta-base-sentiment\"\n",
    "    tokenizer=AutoTokenizer.from_pretrained(\"cardiffnlp/twitter-xlm-roberta-base-sentiment\",use_fast=False)\n",
    "    sentiment_task = pipeline(\n",
    "        \"sentiment-analysis\", model=sentiment_model_path, tokenizer=tokenizer\n",
    "    )\n",
    "    sentiment_outputs = [\n",
    "        sentiment_task(sentence)\n",
    "        for sentence in tqdm(sentences, desc=\"Sentiment analysis\")\n",
    "    ]\n",
    "    sentiments_dict = dict(label=[], score=[], sentence=[])\n",
    "    for idx, output in enumerate(sentiment_outputs):\n",
    "        sentiments_dict[\"label\"].append(output[0][\"label\"])\n",
    "        sentiments_dict[\"score\"].append(output[0][\"score\"])\n",
    "        sentiments_dict[\"sentence\"].append(sentences[idx])\n",
    "    sentiment_df = pd.DataFrame(sentiments_dict)\n",
    "    sentiment_df[\"label\"] = sentiment_df.label.map(\n",
    "        dict(positive=\"positiv\", negative=\"negativ\", neutral=\"neutral\")\n",
    "    )\n",
    "    return sentiment_df"
   ]
  },
  {
   "cell_type": "code",
   "execution_count": 3,
   "metadata": {},
   "outputs": [
    {
     "name": "stderr",
     "output_type": "stream",
     "text": [
      "Sentiment analysis: 100%|██████████| 4880/4880 [04:46<00:00, 17.05it/s]\n"
     ]
    },
    {
     "data": {
      "application/vnd.jupyter.widget-view+json": {
       "model_id": "3633b7ce7cfb4e418e517e05d834d8f2",
       "version_major": 2,
       "version_minor": 0
      },
      "text/plain": [
       "Downloading:   0%|          | 0.00/1.23k [00:00<?, ?B/s]"
      ]
     },
     "metadata": {},
     "output_type": "display_data"
    },
    {
     "data": {
      "application/vnd.jupyter.widget-view+json": {
       "model_id": "619abb619384428c96d8dc3f52e7b259",
       "version_major": 2,
       "version_minor": 0
      },
      "text/plain": [
       "Downloading:   0%|          | 0.00/669M [00:00<?, ?B/s]"
      ]
     },
     "metadata": {},
     "output_type": "display_data"
    },
    {
     "data": {
      "application/vnd.jupyter.widget-view+json": {
       "model_id": "c16be86943cf4175ac9eeffab11315ad",
       "version_major": 2,
       "version_minor": 0
      },
      "text/plain": [
       "Downloading:   0%|          | 0.00/152 [00:00<?, ?B/s]"
      ]
     },
     "metadata": {},
     "output_type": "display_data"
    },
    {
     "data": {
      "application/vnd.jupyter.widget-view+json": {
       "model_id": "450abaef1ec044149153a4efe94701c5",
       "version_major": 2,
       "version_minor": 0
      },
      "text/plain": [
       "Downloading:   0%|          | 0.00/872k [00:00<?, ?B/s]"
      ]
     },
     "metadata": {},
     "output_type": "display_data"
    }
   ],
   "source": [
    "for element in list(filter(None, data_names)):\n",
    "    program_txt = load_markdown_file(f\"raw/{element}.txt\")\n",
    "    sentences = get_sentences(program_txt)\n",
    "    sentiment_df1 = get_sentiment(sentences)     \n",
    "    hate_df1 = get_hate_speech(sentences,sentiment_df1,label_col= \"label\")     \n",
    "    sentiment_df1.to_csv(f\"data/{element}_sentiment.csv\",sep='§')     \n",
    "    hate_df1.to_csv(f\"data/{element}_hate.csv\",sep='§')\n"
   ]
  }
 ],
 "metadata": {
  "kernelspec": {
   "display_name": "base",
   "language": "python",
   "name": "python3"
  },
  "language_info": {
   "codemirror_mode": {
    "name": "ipython",
    "version": 3
   },
   "file_extension": ".py",
   "mimetype": "text/x-python",
   "name": "python",
   "nbconvert_exporter": "python",
   "pygments_lexer": "ipython3",
   "version": "3.8.15 (default, Nov 10 2022, 13:17:42) \n[Clang 14.0.6 ]"
  },
  "orig_nbformat": 4,
  "vscode": {
   "interpreter": {
    "hash": "40d3a090f54c6569ab1632332b64b2c03c39dcf918b08424e98f38b5ae0af88f"
   }
  }
 },
 "nbformat": 4,
 "nbformat_minor": 2
}
