{
 "cells": [
  {
   "cell_type": "code",
   "execution_count": 1,
   "metadata": {},
   "outputs": [],
   "source": [
    "import pandas as pd\n",
    "\n",
    "bartlargemnli = ['/Users/constantin/Documents/GitHub/NLP/newmods/DIE_LINKE_Wahlprogramm_2021_topicpred_bart-large-mnli.csv',\n",
    "'/Users/constantin/Documents/GitHub/NLP/newmods/SPD_Wahlprogramm_2021_topicpred_bart-large-mnli.csv',\n",
    "'/Users/constantin/Documents/GitHub/NLP/newmods/CDU-CSU_Wahlrprogramm_2021_topicpred_bart-large-mnli.csv',\n",
    "'/Users/constantin/Documents/GitHub/NLP/newmods/AFD_Wahlprogramm_2021_topicpred_bart-large-mnli.csv',\n",
    "'/Users/constantin/Documents/GitHub/NLP/newmods/FDP_Wahlprogramm_2021_topicpred_bart-large-mnli.csv',\n",
    "'/Users/constantin/Documents/GitHub/NLP/newmods/DIE_GRUENEN_Wahlprogramm_2021_topicpred_bart-large-mnli.csv']\n",
    "\n",
    "\n",
    "xlmrobertalargexnli = ['/Users/constantin/Documents/GitHub/NLP/newmods/AFD_Wahlprogramm_2021_topicpred_xlm-roberta-large-xnli.csv'\n",
    ", '/Users/constantin/Documents/GitHub/NLP/newmods/DIE_LINKE_Wahlprogramm_2021_topicpred_xlm-roberta-large-xnli.csv'\n",
    ", '/Users/constantin/Documents/GitHub/NLP/newmods/SPD_Wahlprogramm_2021_topicpred_xlm-roberta-large-xnli.csv'\n",
    ", '/Users/constantin/Documents/GitHub/NLP/newmods/FDP_Wahlprogramm_2021_topicpred_xlm-roberta-large-xnli.csv'\n",
    ", '/Users/constantin/Documents/GitHub/NLP/newmods/CDU-CSU_Wahlrprogramm_2021_topicpred_xlm-roberta-large-xnli.csv'\n",
    ", '/Users/constantin/Documents/GitHub/NLP/newmods/DIE_GRUENEN_Wahlprogramm_2021_topicpred_xlm-roberta-large-xnli.csv'\n",
    "]\n",
    "\n",
    "mDeBERTav3basemnlixnli = ['/Users/constantin/Documents/GitHub/NLP/newmods/AFD_Wahlprogramm_2021_topicpred_mDeBERTa-v3-base-mnli-xnli.csv',\n",
    "'/Users/constantin/Documents/GitHub/NLP/newmods/DIE_LINKE_Wahlprogramm_2021_topicpred_mDeBERTa-v3-base-mnli-xnli.csv',\n",
    "'/Users/constantin/Documents/GitHub/NLP/newmods/DIE_GRUENEN_Wahlprogramm_2021_topicpred_mDeBERTa-v3-base-mnli-xnli.csv',\n",
    "'/Users/constantin/Documents/GitHub/NLP/newmods/FDP_Wahlprogramm_2021_topicpred_mDeBERTa-v3-base-mnli-xnli.csv',\n",
    "'/Users/constantin/Documents/GitHub/NLP/newmods/SPD_Wahlprogramm_2021_topicpred_mDeBERTa-v3-base-mnli-xnli.csv',\n",
    "'/Users/constantin/Documents/GitHub/NLP/newmods/CDU-CSU_Wahlrprogramm_2021_topicpred_mDeBERTa-v3-base-mnli-xnli.csv'\n",
    "]\n"
   ]
  },
  {
   "cell_type": "code",
   "execution_count": null,
   "metadata": {},
   "outputs": [],
   "source": [
    "DeBERT_df = pd.DataFrame()\n",
    "\n",
    "for i in mDeBERTav3basemnlixnli:\n",
    "    DeBERT_df = DeBERT_df.append(pd.read_csv(i, sep=\"§\",index_col= \"Unnamed: 0\"))\n",
    "DeBERT_df = DeBERT_df.reset_index(drop = True)\n",
    "DeBERT_df= DeBERT_df.rename(columns={\"labels\":\"y_pred\"})\n",
    "\n",
    "xlmroberta = pd.DataFrame()\n",
    "\n",
    "for i in xlmrobertalargexnli:\n",
    "    xlmroberta = xlmroberta.append(pd.read_csv(i, sep=\"§\",index_col= \"Unnamed: 0\"))\n",
    "xlmroberta = xlmroberta.reset_index(drop = True)\n",
    "xlmroberta= xlmroberta.rename(columns={\"labels\":\"y_pred\"})\n",
    "\n",
    "bartlarge = pd.DataFrame()\n",
    "\n",
    "for i in bartlargemnli:\n",
    "    bartlarge = bartlarge.append(pd.read_csv(i, sep=\"§\",index_col= \"Unnamed: 0\"))\n",
    "bartlarge = bartlarge.reset_index(drop = True)\n",
    "bartlarge= bartlarge.rename(columns={\"labels\":\"y_pred\"})\n"
   ]
  },
  {
   "cell_type": "code",
   "execution_count": 3,
   "metadata": {},
   "outputs": [
    {
     "name": "stderr",
     "output_type": "stream",
     "text": [
      "/var/folders/d0/_y2f7ycs76b8ryly86zqzgw00000gn/T/ipykernel_36482/900581463.py:2: FutureWarning: The frame.append method is deprecated and will be removed from pandas in a future version. Use pandas.concat instead.\n",
      "  selfannot_df = selfannot_df.append(pd.read_csv('rückmeldungen_data2/sample_df_DIE_GRUENEN2.csv', sep = ';'))\n",
      "/var/folders/d0/_y2f7ycs76b8ryly86zqzgw00000gn/T/ipykernel_36482/900581463.py:3: FutureWarning: The frame.append method is deprecated and will be removed from pandas in a future version. Use pandas.concat instead.\n",
      "  selfannot_df = selfannot_df.append(pd.read_csv('rückmeldungen_data2/sample_df_CDU-CSU2.csv', sep = ';'))\n",
      "/var/folders/d0/_y2f7ycs76b8ryly86zqzgw00000gn/T/ipykernel_36482/900581463.py:4: FutureWarning: The frame.append method is deprecated and will be removed from pandas in a future version. Use pandas.concat instead.\n",
      "  selfannot_df = selfannot_df.append(pd.read_csv('rückmeldungen_data2/sample_df_SPD2.csv', sep = ';'))\n",
      "/var/folders/d0/_y2f7ycs76b8ryly86zqzgw00000gn/T/ipykernel_36482/900581463.py:5: FutureWarning: The frame.append method is deprecated and will be removed from pandas in a future version. Use pandas.concat instead.\n",
      "  selfannot_df = selfannot_df.append(pd.read_csv('rückmeldungen_data2/sample_df_DIE_LINKE2.csv', sep = ';'))\n",
      "/var/folders/d0/_y2f7ycs76b8ryly86zqzgw00000gn/T/ipykernel_36482/900581463.py:6: FutureWarning: The frame.append method is deprecated and will be removed from pandas in a future version. Use pandas.concat instead.\n",
      "  selfannot_df = selfannot_df.append(pd.read_csv('rückmeldungen_data2/sample_df_AFD2.csv', sep = ';'))\n",
      "/var/folders/d0/_y2f7ycs76b8ryly86zqzgw00000gn/T/ipykernel_36482/900581463.py:7: FutureWarning: The frame.append method is deprecated and will be removed from pandas in a future version. Use pandas.concat instead.\n",
      "  selfannot_df = selfannot_df.append(pd.read_csv('rückmeldungen_data2/sample_df_FDP2.csv', sep = ';'))\n"
     ]
    }
   ],
   "source": [
    "selfannot_df = pd.DataFrame()\n",
    "selfannot_df = selfannot_df.append(pd.read_csv('rückmeldungen_data2/sample_df_DIE_GRUENEN2.csv', sep = ';'))\n",
    "selfannot_df = selfannot_df.append(pd.read_csv('rückmeldungen_data2/sample_df_CDU-CSU2.csv', sep = ';'))\n",
    "selfannot_df = selfannot_df.append(pd.read_csv('rückmeldungen_data2/sample_df_SPD2.csv', sep = ';'))\n",
    "selfannot_df = selfannot_df.append(pd.read_csv('rückmeldungen_data2/sample_df_DIE_LINKE2.csv', sep = ';'))\n",
    "selfannot_df = selfannot_df.append(pd.read_csv('rückmeldungen_data2/sample_df_AFD2.csv', sep = ';'))\n",
    "selfannot_df = selfannot_df.append(pd.read_csv('rückmeldungen_data2/sample_df_FDP2.csv', sep = ';'))"
   ]
  },
  {
   "cell_type": "code",
   "execution_count": 4,
   "metadata": {},
   "outputs": [],
   "source": [
    "selfannot_df= selfannot_df.drop(axis = 1, columns = ['scores', 'Top 3', 'Unnamed: 11',\n",
    "       'Unnamed: 12','text', 'sentiment_label', 'score', 'sentence', 'hate_label',\n",
    "       'hate_score','labels'])"
   ]
  },
  {
   "cell_type": "code",
   "execution_count": 5,
   "metadata": {},
   "outputs": [],
   "source": [
    "selfannot_df[\"topic\"]= selfannot_df[\"topic\"].str.lower()\n",
    "selfannot_df = selfannot_df.rename(columns={\"topic\":\"y_true\"})"
   ]
  },
  {
   "cell_type": "markdown",
   "metadata": {},
   "source": []
  },
  {
   "cell_type": "code",
   "execution_count": 6,
   "metadata": {},
   "outputs": [],
   "source": [
    "acc_df_DeBERT = pd.merge(selfannot_df, DeBERT_df, left_on='sequence', right_on='sequence', how='left')\n",
    "acc_df_xlmroberta = pd.merge(selfannot_df, xlmroberta, left_on='sequence', right_on='sequence', how='left')\n",
    "acc_df_bartlarge = pd.merge(selfannot_df, bartlarge, left_on='sequence', right_on='sequence', how='left')"
   ]
  },
  {
   "cell_type": "code",
   "execution_count": null,
   "metadata": {},
   "outputs": [],
   "source": [
    "acc_df_DeBERT.drop_duplicates()\n",
    "acc_df_bartlarge.drop_duplicates()\n",
    "acc_df_xlmroberta.drop_duplicates()"
   ]
  },
  {
   "cell_type": "code",
   "execution_count": null,
   "metadata": {},
   "outputs": [],
   "source": [
    "acc_df_DeBERT "
   ]
  },
  {
   "cell_type": "code",
   "execution_count": 7,
   "metadata": {},
   "outputs": [
    {
     "name": "stdout",
     "output_type": "stream",
     "text": [
      "Acc von mDeBERTa-v3-base-mnli-xnli ist 32.84%\n",
      "Acc von xlm-roberta-large-xnli ist 24.38%\n",
      "Acc von bart-large-mnli ist 52.24%\n"
     ]
    }
   ],
   "source": [
    "from sklearn.metrics import accuracy_score\n",
    "print(f\"Acc von mDeBERTa-v3-base-mnli-xnli ist {round(accuracy_score(acc_df_DeBERT['y_true'], acc_df_DeBERT['y_pred'])*100,2)}%\")\n",
    "print(f\"Acc von xlm-roberta-large-xnli ist {round(accuracy_score(acc_df_xlmroberta['y_true'], acc_df_xlmroberta['y_pred'])*100,2)}%\")\n",
    "print(f\"Acc von bart-large-mnli ist {round(accuracy_score(acc_df_bartlarge['y_true'], acc_df_bartlarge['y_pred'])*100,2)}%\")"
   ]
  }
 ],
 "metadata": {
  "kernelspec": {
   "display_name": "Python 3",
   "language": "python",
   "name": "python3"
  },
  "language_info": {
   "codemirror_mode": {
    "name": "ipython",
    "version": 3
   },
   "file_extension": ".py",
   "mimetype": "text/x-python",
   "name": "python",
   "nbconvert_exporter": "python",
   "pygments_lexer": "ipython3",
   "version": "3.10.5 (tags/v3.10.5:f377153, Jun  6 2022, 16:14:13) [MSC v.1929 64 bit (AMD64)]"
  },
  "orig_nbformat": 4,
  "vscode": {
   "interpreter": {
    "hash": "864e1f20dbb28239d950687f39028fbb4c0d085af87de4b77635b27f74266f13"
   }
  }
 },
 "nbformat": 4,
 "nbformat_minor": 2
}
