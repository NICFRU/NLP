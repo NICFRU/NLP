{
 "cells": [
  {
   "cell_type": "code",
   "execution_count": 46,
   "metadata": {},
   "outputs": [],
   "source": [
    "import pandas as pd\n",
    "\n",
    "\n",
    "# read dataframes\n",
    "df_AFD = pd.read_csv('complete_data/AFD_complete_eval5.csv')\n",
    "df_CDU_CSU = pd.read_csv('complete_data/CDU-CSU_complete_eval5.csv')\n",
    "df_GRUENEN = pd.read_csv('complete_data/DIE_GRUENEN_complete_eval5.csv')\n",
    "df_LINKE = pd.read_csv('complete_data/DIE_LINKE_complete_eval5.csv')\n",
    "df_FDP = pd.read_csv('complete_data/FDP_complete_eval5.csv')\n",
    "df_SPD = pd.read_csv('complete_data/SPD_complete_eval5.csv')\n",
    "\n"
   ]
  },
  {
   "cell_type": "code",
   "execution_count": 53,
   "metadata": {},
   "outputs": [],
   "source": [
    "sample_df_AFD = df_AFD.groupby('topic').sample(n=3, random_state=1)\n",
    "sample_df_CDU_CSU = df_CDU_CSU.groupby('topic').sample(n=3, random_state=2)\n",
    "sample_df_GRUENEN = df_GRUENEN.groupby('topic').sample(n=3, random_state=3)\n",
    "sample_df_LINKE = df_LINKE.groupby('topic').sample(n=3, random_state=4)\n",
    "sample_df_FDP = df_FDP.groupby('topic').sample(n=3, random_state=5)\n",
    "sample_df_SPD = df_SPD.groupby('topic').sample(n=3, random_state=6)"
   ]
  },
  {
   "cell_type": "code",
   "execution_count": null,
   "metadata": {},
   "outputs": [],
   "source": [
    "sample_df_GRUENEN"
   ]
  },
  {
   "cell_type": "code",
   "execution_count": null,
   "metadata": {},
   "outputs": [],
   "source": [
    "\n",
    "#display dataframes \n",
    "dataframes = [sample_df_AFD, sample_df_CDU_CSU, sample_df_GRUENEN, sample_df_LINKE, sample_df_FDP, sample_df_SPD]\n",
    "for i in dataframes: \n",
    "    display(i)"
   ]
  },
  {
   "cell_type": "code",
   "execution_count": 6,
   "metadata": {},
   "outputs": [],
   "source": [
    "# sample_df_AFD.to_csv('sample_df_AFD2.csv', index = False)\n",
    "# sample_df_CDU_CSU.to_csv('sample_df_CDU-CSU2.csv', index = False)\n",
    "# sample_df_GRUENEN.to_csv('sample_df_DIE_GRUENEN2.csv', index = False)\n",
    "# sample_df_LINKE.to_csv('sample_df_DIE_LINKE2.csv', index = False)\n",
    "#sample_df_FDP.to_csv('sample_df_FDP2.csv', index = False)\n",
    "#sample_df_SPD.to_csv('sample_df_SPD2.csv', index = False)\n"
   ]
  },
  {
   "cell_type": "code",
   "execution_count": 54,
   "metadata": {},
   "outputs": [],
   "source": [
    "df_GRUENEN_rueck = pd.read_csv('rückmeldungen_data2/sample_df_DIE_GRUENEN2.csv', sep = ';')\n",
    "df_CDU_CSU_rueck = pd.read_csv('rückmeldungen_data2/sample_df_CDU-CSU2.csv', sep = ';')\n",
    "df_SPD_rueck = pd.read_csv('rückmeldungen_data2/sample_df_SPD2.csv', sep = ';')\n",
    "df_Linke_rueck = pd.read_csv('rückmeldungen_data2/sample_df_DIE_LINKE2.csv', sep = ';')\n",
    "df_AFD_rueck = pd.read_csv('rückmeldungen_data2/sample_df_AFD2.csv', sep = ';')\n",
    "df_FDP_rueck = pd.read_csv('rückmeldungen_data2/sample_df_FDP2.csv', sep = ';')\n"
   ]
  },
  {
   "cell_type": "code",
   "execution_count": 55,
   "metadata": {},
   "outputs": [],
   "source": [
    "df_GRUENEN_rueck_merged = pd.merge(sample_df_GRUENEN, df_GRUENEN_rueck, on=['text'], how='inner') \n",
    "df_CDU_CSU_rueck_merged = pd.merge(sample_df_CDU_CSU, df_CDU_CSU_rueck, on=['text'], how='inner') \n",
    "df_SPD_rueck_merged = pd.merge(sample_df_SPD, df_SPD_rueck, on=['text'], how='inner') \n",
    "df_LINKE_rueck_merged = pd.merge(sample_df_LINKE, df_Linke_rueck, on=['text'], how='inner') \n",
    "df_AFD_rueck_merged = pd.merge(sample_df_AFD, df_AFD_rueck, on=['text'], how='inner') \n",
    "df_FDP_rueck_merged = pd.merge(sample_df_FDP, df_FDP_rueck, on=['text'], how='inner') "
   ]
  },
  {
   "cell_type": "code",
   "execution_count": null,
   "metadata": {},
   "outputs": [],
   "source": [
    "df_CDU_CSU_rueck_merged"
   ]
  },
  {
   "cell_type": "code",
   "execution_count": 70,
   "metadata": {},
   "outputs": [],
   "source": [
    "correctly_classified_topic = []\n",
    "wrongly_classified_topic = []\n",
    "correctly_classified_label = []\n",
    "wrongly_classified_label = []\n",
    "correctly_classified_hatelabel = []\n",
    "wrongly_classified_hataelabel = []\n",
    "correctly_classified_topiclabels = []\n",
    "wrongly_classified_topiclabels = []\n"
   ]
  },
  {
   "cell_type": "code",
   "execution_count": 71,
   "metadata": {},
   "outputs": [],
   "source": [
    "for index, row in df_GRUENEN_rueck_merged.iterrows():\n",
    "    if row['topic_x'] == row['topic_y']:\n",
    "        correctly_classified_topic.append([row['topic_x'], row['topic_y']])\n",
    "    if not row['topic_x'] == row['topic_y']:\n",
    "        wrongly_classified_topic.append([row['topic_x'], row['topic_y']])\n",
    "    if row['sentiment_label_x'] == row['sentiment_label_y']:\n",
    "        correctly_classified_label.append([row['sentiment_label_x'], row['sentiment_label_y']])\n",
    "    if not row['sentiment_label_x'] == row['sentiment_label_y']:\n",
    "        wrongly_classified_label.append([row['sentiment_label_x'], row['sentiment_label_y']])\n",
    "    if row['hate_label_x'] == row['hate_label_y']:\n",
    "        correctly_classified_hatelabel.append([row['hate_label_x'], row['hate_label_y']])\n",
    "    if not row['hate_label_x'] == row['hate_label_y']:\n",
    "         wrongly_classified_hataelabel.append([row['hate_label_x'], row['hate_label_y']])\n",
    "    if row['labels_x'] == row['labels_y']:\n",
    "        correctly_classified_topiclabels.append([row['labels_x'], row['labels_y']])\n",
    "    if not row['labels_x'] == row['labels_y']:\n",
    "        wrongly_classified_topiclabels.append([row['labels_x'], row['labels_y']])\n",
    "              "
   ]
  },
  {
   "cell_type": "code",
   "execution_count": 72,
   "metadata": {},
   "outputs": [],
   "source": [
    "for index, row in df_CDU_CSU_rueck_merged.iterrows():\n",
    "    if row['topic_x'] == row['topic_y']:\n",
    "        correctly_classified_topic.append([row['topic_x'], row['topic_y']])\n",
    "    if not row['topic_x'] == row['topic_y']:\n",
    "        wrongly_classified_topic.append([row['topic_x'], row['topic_y']])\n",
    "    if row['sentiment_label_x'] == row['sentiment_label_y']:\n",
    "        correctly_classified_label.append([row['sentiment_label_x'], row['sentiment_label_y']])\n",
    "    if not row['sentiment_label_x'] == row['sentiment_label_y']:\n",
    "        wrongly_classified_label.append([row['sentiment_label_x'], row['sentiment_label_y']])\n",
    "    if row['hate_label_x'] == row['hate_label_y']:\n",
    "        correctly_classified_hatelabel.append([row['hate_label_x'], row['hate_label_y']])\n",
    "    if not row['hate_label_x'] == row['hate_label_y']:\n",
    "         wrongly_classified_hataelabel.append([row['hate_label_x'], row['hate_label_y']])\n",
    "    if row['labels_x'] == row['labels_y']:\n",
    "        correctly_classified_topiclabels.append([row['labels_x'], row['labels_y']])\n",
    "    if not row['labels_x'] == row['labels_y']:\n",
    "        wrongly_classified_topiclabels.append([row['labels_x'], row['labels_y']])\n",
    "              "
   ]
  },
  {
   "cell_type": "code",
   "execution_count": 73,
   "metadata": {},
   "outputs": [],
   "source": [
    "for index, row in df_SPD_rueck_merged.iterrows():\n",
    "    if row['topic_x'] == row['topic_y']:\n",
    "        correctly_classified_topic.append([row['topic_x'], row['topic_y']])\n",
    "    if not row['topic_x'] == row['topic_y']:\n",
    "        wrongly_classified_topic.append([row['topic_x'], row['topic_y']])\n",
    "    if row['sentiment_label_x'] == row['sentiment_label_y']:\n",
    "        correctly_classified_label.append([row['sentiment_label_x'], row['sentiment_label_y']])\n",
    "    if not row['sentiment_label_x'] == row['sentiment_label_y']:\n",
    "        wrongly_classified_label.append([row['sentiment_label_x'], row['sentiment_label_y']])\n",
    "    if row['hate_label_x'] == row['hate_label_y']:\n",
    "        correctly_classified_hatelabel.append([row['hate_label_x'], row['hate_label_y']])\n",
    "    if not row['hate_label_x'] == row['hate_label_y']:\n",
    "         wrongly_classified_hataelabel.append([row['hate_label_x'], row['hate_label_y']])\n",
    "    if row['labels_x'] == row['labels_y']:\n",
    "        correctly_classified_topiclabels.append([row['labels_x'], row['labels_y']])\n",
    "    if not row['labels_x'] == row['labels_y']:\n",
    "        wrongly_classified_topiclabels.append([row['labels_x'], row['labels_y']])\n",
    "              "
   ]
  },
  {
   "cell_type": "code",
   "execution_count": 74,
   "metadata": {},
   "outputs": [],
   "source": [
    "for index, row in df_LINKE_rueck_merged.iterrows():\n",
    "    if row['topic_x'] == row['topic_y']:\n",
    "        correctly_classified_topic.append([row['topic_x'], row['topic_y']])\n",
    "    if not row['topic_x'] == row['topic_y']:\n",
    "        wrongly_classified_topic.append([row['topic_x'], row['topic_y']])\n",
    "    if row['sentiment_label_x'] == row['sentiment_label_y']:\n",
    "        correctly_classified_label.append([row['sentiment_label_x'], row['sentiment_label_y']])\n",
    "    if not row['sentiment_label_x'] == row['sentiment_label_y']:\n",
    "        wrongly_classified_label.append([row['sentiment_label_x'], row['sentiment_label_y']])\n",
    "    if row['hate_label_x'] == row['hate_label_y']:\n",
    "        correctly_classified_hatelabel.append([row['hate_label_x'], row['hate_label_y']])\n",
    "    if not row['hate_label_x'] == row['hate_label_y']:\n",
    "         wrongly_classified_hataelabel.append([row['hate_label_x'], row['hate_label_y']])\n",
    "    if row['labels_x'] == row['labels_y']:\n",
    "        correctly_classified_topiclabels.append([row['labels_x'], row['labels_y']])\n",
    "    if not row['labels_x'] == row['labels_y']:\n",
    "        wrongly_classified_topiclabels.append([row['labels_x'], row['labels_y']])\n",
    "              "
   ]
  },
  {
   "cell_type": "code",
   "execution_count": 75,
   "metadata": {},
   "outputs": [],
   "source": [
    "for index, row in df_AFD_rueck_merged.iterrows():\n",
    "    if row['topic_x'] == row['topic_y']:\n",
    "        correctly_classified_topic.append([row['topic_x'], row['topic_y']])\n",
    "    if not row['topic_x'] == row['topic_y']:\n",
    "        wrongly_classified_topic.append([row['topic_x'], row['topic_y']])\n",
    "    if row['sentiment_label_x'] == row['sentiment_label_y']:\n",
    "        correctly_classified_label.append([row['sentiment_label_x'], row['sentiment_label_y']])\n",
    "    if not row['sentiment_label_x'] == row['sentiment_label_y']:\n",
    "        wrongly_classified_label.append([row['sentiment_label_x'], row['sentiment_label_y']])\n",
    "    if row['hate_label_x'] == row['hate_label_y']:\n",
    "        correctly_classified_hatelabel.append([row['hate_label_x'], row['hate_label_y']])\n",
    "    if not row['hate_label_x'] == row['hate_label_y']:\n",
    "         wrongly_classified_hataelabel.append([row['hate_label_x'], row['hate_label_y']])\n",
    "    if row['labels_x'] == row['labels_y']:\n",
    "        correctly_classified_topiclabels.append([row['labels_x'], row['labels_y']])\n",
    "    if not row['labels_x'] == row['labels_y']:\n",
    "        wrongly_classified_topiclabels.append([row['labels_x'], row['labels_y']])\n",
    "              "
   ]
  },
  {
   "cell_type": "code",
   "execution_count": 76,
   "metadata": {},
   "outputs": [],
   "source": [
    "for index, row in df_FDP_rueck_merged.iterrows():\n",
    "    if row['topic_x'] == row['topic_y']:\n",
    "        correctly_classified_topic.append([row['topic_x'], row['topic_y']])\n",
    "    if not row['topic_x'] == row['topic_y']:\n",
    "        wrongly_classified_topic.append([row['topic_x'], row['topic_y']])\n",
    "    if row['sentiment_label_x'] == row['sentiment_label_y']:\n",
    "        correctly_classified_label.append([row['sentiment_label_x'], row['sentiment_label_y']])\n",
    "    if not row['sentiment_label_x'] == row['sentiment_label_y']:\n",
    "        wrongly_classified_label.append([row['sentiment_label_x'], row['sentiment_label_y']])\n",
    "    if row['hate_label_x'] == row['hate_label_y']:\n",
    "        correctly_classified_hatelabel.append([row['hate_label_x'], row['hate_label_y']])\n",
    "    if not row['hate_label_x'] == row['hate_label_y']:\n",
    "         wrongly_classified_hataelabel.append([row['hate_label_x'], row['hate_label_y']])\n",
    "    if row['labels_x'] == row['labels_y']:\n",
    "        correctly_classified_topiclabels.append([row['labels_x'], row['labels_y']])\n",
    "    if not row['labels_x'] == row['labels_y']:\n",
    "        wrongly_classified_topiclabels.append([row['labels_x'], row['labels_y']])\n",
    "              "
   ]
  },
  {
   "cell_type": "code",
   "execution_count": 77,
   "metadata": {},
   "outputs": [
    {
     "name": "stdout",
     "output_type": "stream",
     "text": [
      "[['Bildung', 'Bildung'], ['Gesundheit', 'Gesundheit'], ['Infrastruktur', 'Infrastruktur'], ['Klima', 'Klima'], ['Politik und Ideologie', 'Politik und Ideologie'], ['Wissenschaft', 'Wissenschaft'], ['Wissenschaft', 'Wissenschaft'], ['wirtschaft', 'wirtschaft'], ['Bildung', 'Bildung'], ['Bildung', 'Bildung'], ['Bildung', 'Bildung'], ['Infrastruktur', 'Infrastruktur'], ['Klima', 'Klima'], ['Klima', 'Klima'], ['Politik und Ideologie', 'Politik und Ideologie'], ['Wissenschaft', 'Wissenschaft'], ['Wissenschaft', 'Wissenschaft'], ['soziale Ursachen', 'soziale Ursachen'], ['soziale Ursachen', 'soziale Ursachen'], ['wirtschaft', 'wirtschaft'], ['wirtschaft', 'wirtschaft'], ['Bildung', 'Bildung'], ['Bildung', 'Bildung'], ['Gesundheit', 'Gesundheit'], ['Gesundheit', 'Gesundheit'], ['Infrastruktur', 'Infrastruktur'], ['Klima', 'Klima'], ['Politik und Ideologie', 'Politik und Ideologie'], ['Politik und Ideologie', 'Politik und Ideologie'], ['Bildung', 'Bildung'], ['Bildung', 'Bildung'], ['Bildung', 'Bildung'], ['Gesundheit', 'Gesundheit'], ['Gesundheit', 'Gesundheit'], ['Gesundheit', 'Gesundheit'], ['Infrastruktur', 'Infrastruktur'], ['Infrastruktur', 'Infrastruktur'], ['Infrastruktur', 'Infrastruktur'], ['Klima', 'Klima'], ['Klima', 'Klima'], ['Klima', 'Klima'], ['Politik und Ideologie', 'Politik und Ideologie'], ['Politik und Ideologie', 'Politik und Ideologie'], ['Politik und Ideologie', 'Politik und Ideologie'], ['Wissenschaft', 'Wissenschaft'], ['Wissenschaft', 'Wissenschaft'], ['Wissenschaft', 'Wissenschaft'], ['soziale Ursachen', 'soziale Ursachen'], ['soziale Ursachen', 'soziale Ursachen'], ['soziale Ursachen', 'soziale Ursachen'], ['wirtschaft', 'wirtschaft'], ['wirtschaft', 'wirtschaft'], ['wirtschaft', 'wirtschaft'], ['Bildung', 'Bildung'], ['Infrastruktur', 'Infrastruktur'], ['Klima', 'Klima'], ['Klima', 'Klima'], ['wirtschaft', 'wirtschaft'], ['wirtschaft', 'wirtschaft'], ['Bildung', 'Bildung'], ['Bildung', 'Bildung'], ['Bildung', 'Bildung'], ['Gesundheit', 'Gesundheit'], ['Gesundheit', 'Gesundheit'], ['Gesundheit', 'Gesundheit'], ['Infrastruktur', 'Infrastruktur'], ['Infrastruktur', 'Infrastruktur'], ['Infrastruktur', 'Infrastruktur'], ['Klima', 'Klima'], ['Klima', 'Klima'], ['Klima', 'Klima'], ['Politik und Ideologie', 'Politik und Ideologie'], ['Politik und Ideologie', 'Politik und Ideologie'], ['Politik und Ideologie', 'Politik und Ideologie'], ['Wissenschaft', 'Wissenschaft'], ['Wissenschaft', 'Wissenschaft'], ['Wissenschaft', 'Wissenschaft'], ['soziale Ursachen', 'soziale Ursachen'], ['wirtschaft', 'wirtschaft'], ['wirtschaft', 'wirtschaft'], ['wirtschaft', 'wirtschaft']]\n",
      "81\n",
      "[['neutral', 'neutral'], ['neutral', 'neutral'], ['neutral', 'neutral'], ['neutral', 'neutral'], ['neutral', 'neutral'], ['neutral', 'neutral'], ['neutral', 'neutral'], ['positiv', 'positiv'], ['neutral', 'neutral'], ['neutral', 'neutral'], ['neutral', 'neutral'], ['positiv', 'positiv'], ['neutral', 'neutral'], ['neutral', 'neutral'], ['neutral', 'neutral'], ['neutral', 'neutral'], ['neutral', 'neutral'], ['neutral', 'neutral'], ['neutral', 'neutral'], ['neutral', 'neutral'], ['neutral', 'neutral'], ['neutral', 'neutral'], ['neutral', 'neutral'], ['neutral', 'neutral'], ['neutral', 'neutral'], ['neutral', 'neutral'], ['neutral', 'neutral'], ['neutral', 'neutral'], ['neutral', 'neutral'], ['neutral', 'neutral'], ['neutral', 'neutral'], ['neutral', 'neutral'], ['neutral', 'neutral'], ['neutral', 'neutral'], ['neutral', 'neutral'], ['neutral', 'neutral'], ['neutral', 'neutral'], ['negativ', 'negativ'], ['neutral', 'neutral'], ['neutral', 'neutral'], ['neutral', 'neutral'], ['neutral', 'neutral'], ['neutral', 'neutral'], ['neutral', 'neutral'], ['neutral', 'neutral'], ['neutral', 'neutral'], ['neutral', 'neutral'], ['neutral', 'neutral'], ['neutral', 'neutral'], ['neutral', 'neutral'], ['neutral', 'neutral'], ['neutral', 'neutral'], ['neutral', 'neutral'], ['neutral', 'neutral'], ['neutral', 'neutral'], ['neutral', 'neutral'], ['neutral', 'neutral'], ['neutral', 'neutral'], ['neutral', 'neutral'], ['neutral', 'neutral'], ['neutral', 'neutral'], ['neutral', 'neutral'], ['neutral', 'neutral'], ['neutral', 'neutral'], ['neutral', 'neutral'], ['neutral', 'neutral'], ['neutral', 'neutral'], ['neutral', 'neutral'], ['neutral', 'neutral'], ['neutral', 'neutral'], ['neutral', 'neutral'], ['neutral', 'neutral'], ['neutral', 'neutral'], ['neutral', 'neutral'], ['neutral', 'neutral'], ['neutral', 'neutral'], ['neutral', 'neutral'], ['neutral', 'neutral'], ['neutral', 'neutral'], ['neutral', 'neutral'], ['neutral', 'neutral'], ['neutral', 'neutral'], ['neutral', 'neutral'], ['neutral', 'neutral'], ['neutral', 'neutral'], ['neutral', 'neutral'], ['neutral', 'neutral'], ['negativ', 'negativ'], ['neutral', 'neutral'], ['neutral', 'neutral'], ['neutral', 'neutral'], ['neutral', 'neutral'], ['neutral', 'neutral'], ['neutral', 'neutral'], ['neutral', 'neutral'], ['neutral', 'neutral'], ['neutral', 'neutral'], ['neutral', 'neutral'], ['neutral', 'neutral']]\n",
      "99\n",
      "[['neutral', 'neutral'], ['neutral', 'neutral'], ['neutral', 'neutral'], ['neutral', 'neutral'], ['neutral', 'neutral'], ['neutral', 'neutral'], ['neutral', 'neutral'], ['neutral', 'neutral'], ['neutral', 'neutral'], ['neutral', 'neutral'], ['neutral', 'neutral'], ['neutral', 'neutral'], ['neutral', 'neutral'], ['neutral', 'neutral'], ['neutral', 'neutral'], ['neutral', 'neutral'], ['neutral', 'neutral'], ['neutral', 'neutral'], ['neutral', 'neutral'], ['neutral', 'neutral'], ['neutral', 'neutral'], ['neutral', 'neutral'], ['neutral', 'neutral'], ['neutral', 'neutral'], ['neutral', 'neutral'], ['neutral', 'neutral'], ['neutral', 'neutral'], ['neutral', 'neutral'], ['neutral', 'neutral'], ['neutral', 'neutral'], ['neutral', 'neutral'], ['neutral', 'neutral'], ['neutral', 'neutral'], ['neutral', 'neutral'], ['neutral', 'neutral'], ['neutral', 'neutral'], ['neutral', 'neutral'], ['neutral', 'neutral'], ['neutral', 'neutral'], ['neutral', 'neutral'], ['neutral', 'neutral'], ['neutral', 'neutral'], ['neutral', 'neutral'], ['neutral', 'neutral'], ['neutral', 'neutral'], ['neutral', 'neutral'], ['neutral', 'neutral'], ['neutral', 'neutral'], ['neutral', 'neutral'], ['neutral', 'neutral'], ['neutral', 'neutral'], ['neutral', 'neutral'], ['neutral', 'neutral'], ['neutral', 'neutral'], ['neutral', 'neutral'], ['neutral', 'neutral'], ['neutral', 'neutral'], ['neutral', 'neutral'], ['neutral', 'neutral'], ['neutral', 'neutral'], ['neutral', 'neutral'], ['neutral', 'neutral'], ['neutral', 'neutral'], ['neutral', 'neutral'], ['neutral', 'neutral'], ['neutral', 'neutral'], ['neutral', 'neutral'], ['neutral', 'neutral'], ['neutral', 'neutral'], ['neutral', 'neutral'], ['neutral', 'neutral'], ['neutral', 'neutral'], ['neutral', 'neutral'], ['neutral', 'neutral'], ['neutral', 'neutral'], ['neutral', 'neutral'], ['neutral', 'neutral'], ['neutral', 'neutral'], ['neutral', 'neutral'], ['neutral', 'neutral'], ['neutral', 'neutral'], ['neutral', 'neutral'], ['neutral', 'neutral'], ['neutral', 'neutral'], ['neutral', 'neutral'], ['neutral', 'neutral'], ['neutral', 'neutral'], ['neutral', 'neutral'], ['neutral', 'neutral'], ['neutral', 'neutral'], ['neutral', 'neutral'], ['neutral', 'neutral'], ['neutral', 'neutral'], ['neutral', 'neutral'], ['neutral', 'neutral'], ['neutral', 'neutral'], ['neutral', 'neutral'], ['neutral', 'neutral'], ['neutral', 'neutral'], ['neutral', 'neutral'], ['neutral', 'neutral'], ['neutral', 'neutral'], ['neutral', 'neutral'], ['neutral', 'neutral'], ['neutral', 'neutral'], ['neutral', 'neutral'], ['neutral', 'neutral'], ['neutral', 'neutral'], ['neutral', 'neutral'], ['neutral', 'neutral'], ['neutral', 'neutral'], ['neutral', 'neutral'], ['neutral', 'neutral'], ['neutral', 'neutral'], ['neutral', 'neutral'], ['neutral', 'neutral'], ['neutral', 'neutral'], ['neutral', 'neutral'], ['neutral', 'neutral'], ['neutral', 'neutral'], ['neutral', 'neutral'], ['neutral', 'neutral'], ['neutral', 'neutral'], ['neutral', 'neutral'], ['neutral', 'neutral'], ['neutral', 'neutral'], ['neutral', 'neutral'], ['neutral', 'neutral'], ['neutral', 'neutral'], ['neutral', 'neutral'], ['neutral', 'neutral'], ['neutral', 'neutral'], ['neutral', 'neutral'], ['neutral', 'neutral'], ['neutral', 'neutral'], ['neutral', 'neutral'], ['neutral', 'neutral'], ['neutral', 'neutral'], ['neutral', 'neutral'], ['neutral', 'neutral'], ['neutral', 'neutral'], ['neutral', 'neutral'], ['neutral', 'neutral']]\n",
      "143\n",
      "[['wissenschaft', 'wissenschaft'], ['klima', 'klima'], ['infrastruktur', 'infrastruktur'], ['wirtschaft', 'wirtschaft'], ['wissenschaft', 'wissenschaft'], ['bildung', 'bildung'], ['wirtschaft', 'wirtschaft'], ['bildung', 'bildung'], ['infrastruktur', 'infrastruktur'], ['gesundheit', 'gesundheit'], ['infrastruktur', 'infrastruktur'], ['wissenschaft', 'wissenschaft'], ['gesundheit', 'gesundheit'], ['bildung', 'bildung'], ['bildung', 'bildung'], ['gesundheit', 'gesundheit'], ['bildung', 'bildung'], ['klima', 'klima'], ['politik und ideologie', 'politik und ideologie'], ['politik und ideologie', 'politik und ideologie'], ['bildung', 'bildung'], ['bildung', 'bildung'], ['gesundheit', 'gesundheit'], ['bildung', 'bildung'], ['bildung', 'bildung'], ['gesundheit', 'gesundheit'], ['gesundheit', 'gesundheit'], ['gesundheit', 'gesundheit'], ['bildung', 'bildung'], ['gesundheit', 'gesundheit'], ['politik und ideologie', 'politik und ideologie'], ['infrastruktur', 'infrastruktur'], ['politik und ideologie', 'politik und ideologie'], ['gesundheit', 'gesundheit'], ['bildung', 'bildung'], ['gesundheit', 'gesundheit'], ['klima', 'klima'], ['wissenschaft', 'wissenschaft'], ['wirtschaft', 'wirtschaft']]\n",
      "39\n"
     ]
    }
   ],
   "source": [
    "print(correctly_classified_topic)\n",
    "print(len(correctly_classified_topic))\n",
    "print(correctly_classified_label)\n",
    "print(len(correctly_classified_label))\n",
    "print(correctly_classified_hatelabel)\n",
    "print(len(correctly_classified_hatelabel))\n",
    "print(correctly_classified_topiclabels)\n",
    "print(len(correctly_classified_topiclabels))"
   ]
  },
  {
   "cell_type": "code",
   "execution_count": 69,
   "metadata": {},
   "outputs": [
    {
     "name": "stdout",
     "output_type": "stream",
     "text": [
      "result topic 57.34265734265735 %\n",
      "result sentiment_label 69.23076923076923 %\n",
      "result hate_label 100.0 %\n",
      "result topic_labels 27.27272727272727 %\n"
     ]
    }
   ],
   "source": [
    "# Calc Prozent\n",
    "\n",
    "result_topic = 100* (((len(correctly_classified_topic)) / 143 ))\n",
    "result_sentiment_label =  100* (((len(correctly_classified_label)) / 143 ))\n",
    "result_hatelabel =  100* (((len(correctly_classified_hatelabel)) / 143 ))\n",
    "result_topiclabels =  100* (((len(correctly_classified_topiclabels)) / 143 ))\n",
    "\n",
    "print(f'result topic {result_topic} %')\n",
    "print(f'result sentiment_label {result_sentiment_label} %')\n",
    "print(f'result hate_label {result_hatelabel} %')\n",
    "print(f'result topic_labels {result_topiclabels} %')\n"
   ]
  },
  {
   "cell_type": "code",
   "execution_count": 85,
   "metadata": {},
   "outputs": [],
   "source": [
    "from sklearn.metrics import accuracy_score"
   ]
  },
  {
   "cell_type": "code",
   "execution_count": null,
   "metadata": {},
   "outputs": [],
   "source": [
    "df_accuracy = df_CDU_CSU_rueck_merged\n",
    "df_accuracy = df_accuracy.append(df_AFD_rueck_merged)\n",
    "df_accuracy = df_accuracy.append(df_FDP_rueck_merged)\n",
    "df_accuracy = df_accuracy.append(df_GRUENEN_rueck_merged)\n",
    "df_accuracy = df_accuracy.append(df_SPD_rueck_merged)\n",
    "df_accuracy = df_accuracy.append(df_LINKE_rueck_merged).reset_index(drop=True)"
   ]
  },
  {
   "cell_type": "code",
   "execution_count": 90,
   "metadata": {},
   "outputs": [
    {
     "data": {
      "text/plain": [
       "143"
      ]
     },
     "execution_count": 90,
     "metadata": {},
     "output_type": "execute_result"
    }
   ],
   "source": [
    "len(df_accuracy)"
   ]
  },
  {
   "cell_type": "code",
   "execution_count": 83,
   "metadata": {},
   "outputs": [
    {
     "data": {
      "text/plain": [
       "0.5416666666666666"
      ]
     },
     "execution_count": 83,
     "metadata": {},
     "output_type": "execute_result"
    }
   ],
   "source": [
    "print(accuracy_score(df_accuracy['topic_x'], df_accuracy['topic_y']))\n",
    "print(accuracy_score(df_accuracy['sentiment_label_x'], df_accuracy['sentiment_label_y']))\n",
    "print(accuracy_score(df_accuracy['hate_label_x'], df_accuracy['hate_label_y']))\n",
    "print(accuracy_score(df_accuracy['topic_x'], df_accuracy['topic_y']))"
   ]
  }
 ],
 "metadata": {
  "kernelspec": {
   "display_name": "Python 3",
   "language": "python",
   "name": "python3"
  },
  "language_info": {
   "codemirror_mode": {
    "name": "ipython",
    "version": 3
   },
   "file_extension": ".py",
   "mimetype": "text/x-python",
   "name": "python",
   "nbconvert_exporter": "python",
   "pygments_lexer": "ipython3",
   "version": "3.10.5"
  },
  "orig_nbformat": 4,
  "vscode": {
   "interpreter": {
    "hash": "864e1f20dbb28239d950687f39028fbb4c0d085af87de4b77635b27f74266f13"
   }
  }
 },
 "nbformat": 4,
 "nbformat_minor": 2
}
