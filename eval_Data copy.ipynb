{
 "cells": [
  {
   "cell_type": "code",
   "execution_count": 2,
   "metadata": {},
   "outputs": [],
   "source": [
    "import pandas as pd\n",
    "\n",
    "\n",
    "# read dataframes\n",
    "df_AFD = pd.read_csv('complete_data/AFD_complete_eval5.csv')\n",
    "df_CDU_CSU = pd.read_csv('complete_data/CDU-CSU_complete_eval5.csv')\n",
    "df_GRUENEN = pd.read_csv('complete_data/DIE_GRUENEN_complete_eval5.csv')\n",
    "df_LINKE = pd.read_csv('complete_data/DIE_LINKE_complete_eval5.csv')\n",
    "df_FDP = pd.read_csv('complete_data/FDP_complete_eval5.csv')\n",
    "df_SPD = pd.read_csv('complete_data/SPD_complete_eval5.csv')"
   ]
  },
  {
   "cell_type": "code",
   "execution_count": 194,
   "metadata": {},
   "outputs": [],
   "source": [
    "bartlargemnli = ['newmods\\AFD_Wahlprogramm_2021_topicpred_bart-large-mnli.csv',\n",
    "'newmods\\CDU-CSU_Wahlrprogramm_2021_topicpred_bart-large-mnli.csv',\n",
    "'newmods\\DIE_GRUENEN_Wahlprogramm_2021_topicpred_bart-large-mnli.csv',\n",
    "'newmods\\DIE_LINKE_Wahlprogramm_2021_topicpred_bart-large-mnli.csv',\n",
    "'newmods\\FDP_Wahlprogramm_2021_topicpred_bart-large-mnli.csv',\n",
    "'newmods\\SPD_Wahlprogramm_2021_topicpred_bart-large-mnli.csv']\n",
    "\n",
    "\n",
    "mDeBERTav3basemnlixnli = ['newmods\\AFD_Wahlprogramm_2021_topicpred_mDeBERTa-v3-base-mnli-xnli.csv'\n",
    ", 'newmods\\CDU-CSU_Wahlrprogramm_2021_topicpred_mDeBERTa-v3-base-mnli-xnli.csv'\n",
    ", 'newmods\\DIE_GRUENEN_Wahlprogramm_2021_topicpred_mDeBERTa-v3-base-mnli-xnli.csv'\n",
    ", 'newmods\\DIE_LINKE_Wahlprogramm_2021_topicpred_mDeBERTa-v3-base-mnli-xnli.csv'\n",
    ", 'newmods\\FDP_Wahlprogramm_2021_topicpred_mDeBERTa-v3-base-mnli-xnli.csv'\n",
    ", 'newmods\\SPD_Wahlprogramm_2021_topicpred_mDeBERTa-v3-base-mnli-xnli.csv'\n",
    "]\n",
    "\n",
    "xlmrobertalargexnli = ['newmods\\AFD_Wahlprogramm_2021_topicpred_xlm-roberta-large-xnli.csv',\n",
    "'newmods\\CDU-CSU_Wahlrprogramm_2021_topicpred_xlm-roberta-large-xnli.csv',\n",
    "'newmods\\DIE_GRUENEN_Wahlprogramm_2021_topicpred_xlm-roberta-large-xnli.csv',\n",
    "'newmods\\DIE_LINKE_Wahlprogramm_2021_topicpred_xlm-roberta-large-xnli.csv',\n",
    "'newmods\\FDP_Wahlprogramm_2021_topicpred_xlm-roberta-large-xnli.csv',\n",
    "'newmods\\SPD_Wahlprogramm_2021_topicpred_xlm-roberta-large-xnli.csv'\n",
    "]"
   ]
  },
  {
   "cell_type": "code",
   "execution_count": null,
   "metadata": {},
   "outputs": [],
   "source": [
    "DeBERT_df = pd.DataFrame()\n",
    "\n",
    "for i in mDeBERTav3basemnlixnli:\n",
    "    DeBERT_df = DeBERT_df.append(pd.read_csv(i, sep=\"§\",index_col= \"Unnamed: 0\"))\n",
    "DeBERT_df = DeBERT_df.reset_index(drop = True)\n",
    "DeBERT_df= DeBERT_df.rename(columns={\"labels\":\"DeBert_label\"})\n",
    "\n",
    "xlmroberta = pd.DataFrame()\n",
    "\n",
    "for i in xlmrobertalargexnli:\n",
    "    xlmroberta = xlmroberta.append(pd.read_csv(i, sep=\"§\",index_col= \"Unnamed: 0\"))\n",
    "xlmroberta = xlmroberta.reset_index(drop = True)\n",
    "xlmroberta= xlmroberta.rename(columns={\"labels\":\"xlmroberta_label\"})\n",
    "\n",
    "bartlarge = pd.DataFrame()\n",
    "\n",
    "for i in bartlargemnli:\n",
    "    bartlarge = bartlarge.append(pd.read_csv(i, sep=\"§\",index_col= \"Unnamed: 0\"))\n",
    "bartlarge = bartlarge.reset_index(drop = True)\n",
    "bartlarge= bartlarge.rename(columns={\"labels\":\"bertlarge_label\"})\n"
   ]
  },
  {
   "cell_type": "code",
   "execution_count": null,
   "metadata": {},
   "outputs": [],
   "source": [
    "selfannot_df = pd.DataFrame()\n",
    "selfannot_df = selfannot_df.append(pd.read_csv('rückmeldungen_data2/sample_df_DIE_GRUENEN2.csv', sep = ';'))\n",
    "selfannot_df = selfannot_df.append(pd.read_csv('rückmeldungen_data2/sample_df_CDU-CSU2.csv', sep = ';'))\n",
    "selfannot_df = selfannot_df.append(pd.read_csv('rückmeldungen_data2/sample_df_SPD2.csv', sep = ';'))\n",
    "selfannot_df = selfannot_df.append(pd.read_csv('rückmeldungen_data2/sample_df_DIE_LINKE2.csv', sep = ';'))\n",
    "selfannot_df = selfannot_df.append(pd.read_csv('rückmeldungen_data2/sample_df_AFD2.csv', sep = ';'))\n",
    "selfannot_df = selfannot_df.append(pd.read_csv('rückmeldungen_data2/sample_df_FDP2.csv', sep = ';'))"
   ]
  },
  {
   "cell_type": "code",
   "execution_count": 245,
   "metadata": {},
   "outputs": [],
   "source": [
    "selfannot_df= selfannot_df.drop(axis = 1, columns = ['scores', 'Top 3', 'Unnamed: 11',\n",
    "       'Unnamed: 12','text', 'sentiment_label', 'score', 'sentence', 'hate_label',\n",
    "       'hate_score','labels'])"
   ]
  },
  {
   "cell_type": "code",
   "execution_count": 246,
   "metadata": {},
   "outputs": [],
   "source": [
    "selfannot_df[\"topic\"]= selfannot_df[\"topic\"].str.lower()\n",
    "#selfannot_df = selfannot_df.rename(columns={\"topic\":\"y_true\"})"
   ]
  },
  {
   "cell_type": "code",
   "execution_count": 247,
   "metadata": {},
   "outputs": [],
   "source": [
    "acc_df_DeBERT = pd.merge(selfannot_df, DeBERT_df, left_on='sequence', right_on='sequence', how='left').drop_duplicates()\n",
    "acc_df_xlmroberta = pd.merge(selfannot_df, xlmroberta, left_on='sequence', right_on='sequence', how='left').drop_duplicates()\n",
    "acc_df_bartlarge = pd.merge(selfannot_df, bartlarge, left_on='sequence', right_on='sequence', how='left').drop_duplicates()"
   ]
  },
  {
   "cell_type": "code",
   "execution_count": null,
   "metadata": {},
   "outputs": [],
   "source": [
    "acc_df_xlmroberta"
   ]
  },
  {
   "cell_type": "code",
   "execution_count": 249,
   "metadata": {},
   "outputs": [
    {
     "name": "stdout",
     "output_type": "stream",
     "text": [
      "Acc von mDeBERTa-v3-base-mnli-xnli ist 46.48%\n",
      "Acc von xlm-roberta-large-xnli ist 34.51%\n",
      "Acc von bart-large-mnli ist 32.39%\n"
     ]
    }
   ],
   "source": [
    "from sklearn.metrics import accuracy_score\n",
    "print(f\"Acc von mDeBERTa-v3-base-mnli-xnli ist {round(accuracy_score(acc_df_DeBERT['topic'], acc_df_DeBERT['DeBert_label'])*100,2)}%\")\n",
    "print(f\"Acc von xlm-roberta-large-xnli ist {round(accuracy_score(acc_df_xlmroberta['topic'], acc_df_xlmroberta['xlmroberta_label'])*100,2)}%\")\n",
    "print(f\"Acc von bart-large-mnli ist {round(accuracy_score(acc_df_bartlarge['topic'], acc_df_bartlarge['bertlarge_label'])*100,2)}%\")"
   ]
  },
  {
   "cell_type": "code",
   "execution_count": 3,
   "metadata": {},
   "outputs": [],
   "source": [
    "sample_df_AFD = df_AFD.groupby('topic').sample(n=3, random_state=1)\n",
    "sample_df_CDU_CSU = df_CDU_CSU.groupby('topic').sample(n=3, random_state=2)\n",
    "sample_df_GRUENEN = df_GRUENEN.groupby('topic').sample(n=3, random_state=3)\n",
    "sample_df_LINKE = df_LINKE.groupby('topic').sample(n=3, random_state=4)\n",
    "sample_df_FDP = df_FDP.groupby('topic').sample(n=3, random_state=5)\n",
    "sample_df_SPD = df_SPD.groupby('topic').sample(n=3, random_state=6)"
   ]
  },
  {
   "cell_type": "code",
   "execution_count": null,
   "metadata": {},
   "outputs": [],
   "source": [
    "sample_df_GRUENEN"
   ]
  },
  {
   "cell_type": "code",
   "execution_count": null,
   "metadata": {},
   "outputs": [],
   "source": [
    "\n",
    "#display dataframes \n",
    "dataframes = [sample_df_AFD, sample_df_CDU_CSU, sample_df_GRUENEN, sample_df_LINKE, sample_df_FDP, sample_df_SPD]\n",
    "for i in dataframes: \n",
    "    display(i)"
   ]
  },
  {
   "cell_type": "code",
   "execution_count": 4,
   "metadata": {},
   "outputs": [],
   "source": [
    "sample_df_AFD.to_csv('sample_df_AFD2.csv', index = False)\n",
    "sample_df_CDU_CSU.to_csv('sample_df_CDU-CSU2.csv', index = False)\n",
    "sample_df_GRUENEN.to_csv('sample_df_DIE_GRUENEN2.csv', index = False)\n",
    "sample_df_LINKE.to_csv('sample_df_DIE_LINKE2.csv', index = False)\n",
    "sample_df_FDP.to_csv('sample_df_FDP2.csv', index = False)\n",
    "sample_df_SPD.to_csv('sample_df_SPD2.csv', index = False)\n"
   ]
  },
  {
   "cell_type": "code",
   "execution_count": 5,
   "metadata": {},
   "outputs": [],
   "source": [
    "df_GRUENEN_rueck = pd.read_csv('rückmeldungen_data2/sample_df_DIE_GRUENEN2.csv', sep = ';')\n",
    "df_CDU_CSU_rueck = pd.read_csv('rückmeldungen_data2/sample_df_CDU-CSU2.csv', sep = ';')\n",
    "df_SPD_rueck = pd.read_csv('rückmeldungen_data2/sample_df_SPD2.csv', sep = ';')\n",
    "df_Linke_rueck = pd.read_csv('rückmeldungen_data2/sample_df_DIE_LINKE2.csv', sep = ';')\n",
    "df_AFD_rueck = pd.read_csv('rückmeldungen_data2/sample_df_AFD2.csv', sep = ';')\n",
    "df_FDP_rueck = pd.read_csv('rückmeldungen_data2/sample_df_FDP2.csv', sep = ';')\n"
   ]
  },
  {
   "cell_type": "code",
   "execution_count": 6,
   "metadata": {},
   "outputs": [],
   "source": [
    "df_GRUENEN_rueck_merged = pd.merge(sample_df_GRUENEN, df_GRUENEN_rueck, on=['text'], how='inner') \n",
    "df_CDU_CSU_rueck_merged = pd.merge(sample_df_CDU_CSU, df_CDU_CSU_rueck, on=['text'], how='inner') \n",
    "df_SPD_rueck_merged = pd.merge(sample_df_SPD, df_SPD_rueck, on=['text'], how='inner') \n",
    "df_LINKE_rueck_merged = pd.merge(sample_df_LINKE, df_Linke_rueck, on=['text'], how='inner') \n",
    "df_AFD_rueck_merged = pd.merge(sample_df_AFD, df_AFD_rueck, on=['text'], how='inner') \n",
    "df_FDP_rueck_merged = pd.merge(sample_df_FDP, df_FDP_rueck, on=['text'], how='inner') "
   ]
  },
  {
   "cell_type": "code",
   "execution_count": 36,
   "metadata": {},
   "outputs": [],
   "source": [
    "correctly_classified_topic = []\n",
    "wrongly_classified_topic = []\n",
    "correctly_classified_label = []\n",
    "wrongly_classified_label = []\n",
    "correctly_classified_hatelabel = []\n",
    "wrongly_classified_hataelabel = []\n",
    "correctly_classified_topiclabels = []\n",
    "wrongly_classified_topiclabels = []\n"
   ]
  },
  {
   "cell_type": "code",
   "execution_count": 37,
   "metadata": {},
   "outputs": [],
   "source": [
    "for index, row in df_GRUENEN_rueck_merged.iterrows():\n",
    "    if row['topic_x'] == row['topic_y']:\n",
    "        correctly_classified_topic.append([row['topic_x'], row['topic_y']])\n",
    "    if not row['topic_x'] == row['topic_y']:\n",
    "        wrongly_classified_topic.append([row['topic_x'], row['topic_y']])\n",
    "    if row['sentiment_label_x'] == row['sentiment_label_y']:\n",
    "        correctly_classified_label.append([row['sentiment_label_x'], row['sentiment_label_y']])\n",
    "    if not row['sentiment_label_x'] == row['sentiment_label_y']:\n",
    "        wrongly_classified_label.append([row['sentiment_label_x'], row['sentiment_label_y']])\n",
    "    if row['hate_label_x'] == row['hate_label_y']:\n",
    "        correctly_classified_hatelabel.append([row['hate_label_x'], row['hate_label_y']])\n",
    "    if not row['hate_label_x'] == row['hate_label_y']:\n",
    "         wrongly_classified_hataelabel.append([row['hate_label_x'], row['hate_label_y']])\n",
    "    if row['labels_x'] == row['labels_y']:\n",
    "        correctly_classified_topiclabels.append([row['labels_x'], row['labels_y']])\n",
    "    if not row['labels_x'] == row['labels_y']:\n",
    "        wrongly_classified_topiclabels.append([row['labels_x'], row['labels_y']])\n",
    "              "
   ]
  },
  {
   "cell_type": "code",
   "execution_count": 38,
   "metadata": {},
   "outputs": [],
   "source": [
    "for index, row in df_CDU_CSU_rueck_merged.iterrows():\n",
    "    if row['topic_x'] == row['topic_y']:\n",
    "        correctly_classified_topic.append([row['topic_x'], row['topic_y']])\n",
    "    if not row['topic_x'] == row['topic_y']:\n",
    "        wrongly_classified_topic.append([row['topic_x'], row['topic_y']])\n",
    "    if row['sentiment_label_x'] == row['sentiment_label_y']:\n",
    "        correctly_classified_label.append([row['sentiment_label_x'], row['sentiment_label_y']])\n",
    "    if not row['sentiment_label_x'] == row['sentiment_label_y']:\n",
    "        wrongly_classified_label.append([row['sentiment_label_x'], row['sentiment_label_y']])\n",
    "    if row['hate_label_x'] == row['hate_label_y']:\n",
    "        correctly_classified_hatelabel.append([row['hate_label_x'], row['hate_label_y']])\n",
    "    if not row['hate_label_x'] == row['hate_label_y']:\n",
    "         wrongly_classified_hataelabel.append([row['hate_label_x'], row['hate_label_y']])\n",
    "    if row['labels_x'] == row['labels_y']:\n",
    "        correctly_classified_topiclabels.append([row['labels_x'], row['labels_y']])\n",
    "    if not row['labels_x'] == row['labels_y']:\n",
    "        wrongly_classified_topiclabels.append([row['labels_x'], row['labels_y']])\n",
    "              "
   ]
  },
  {
   "cell_type": "code",
   "execution_count": 39,
   "metadata": {},
   "outputs": [],
   "source": [
    "for index, row in df_SPD_rueck_merged.iterrows():\n",
    "    if row['topic_x'] == row['topic_y']:\n",
    "        correctly_classified_topic.append([row['topic_x'], row['topic_y']])\n",
    "    if not row['topic_x'] == row['topic_y']:\n",
    "        wrongly_classified_topic.append([row['topic_x'], row['topic_y']])\n",
    "    if row['sentiment_label_x'] == row['sentiment_label_y']:\n",
    "        correctly_classified_label.append([row['sentiment_label_x'], row['sentiment_label_y']])\n",
    "    if not row['sentiment_label_x'] == row['sentiment_label_y']:\n",
    "        wrongly_classified_label.append([row['sentiment_label_x'], row['sentiment_label_y']])\n",
    "    if row['hate_label_x'] == row['hate_label_y']:\n",
    "        correctly_classified_hatelabel.append([row['hate_label_x'], row['hate_label_y']])\n",
    "    if not row['hate_label_x'] == row['hate_label_y']:\n",
    "         wrongly_classified_hataelabel.append([row['hate_label_x'], row['hate_label_y']])\n",
    "    if row['labels_x'] == row['labels_y']:\n",
    "        correctly_classified_topiclabels.append([row['labels_x'], row['labels_y']])\n",
    "    if not row['labels_x'] == row['labels_y']:\n",
    "        wrongly_classified_topiclabels.append([row['labels_x'], row['labels_y']])\n",
    "              "
   ]
  },
  {
   "cell_type": "code",
   "execution_count": 40,
   "metadata": {},
   "outputs": [],
   "source": [
    "for index, row in df_LINKE_rueck_merged.iterrows():\n",
    "    if row['topic_x'] == row['topic_y']:\n",
    "        correctly_classified_topic.append([row['topic_x'], row['topic_y']])\n",
    "    if not row['topic_x'] == row['topic_y']:\n",
    "        wrongly_classified_topic.append([row['topic_x'], row['topic_y']])\n",
    "    if row['sentiment_label_x'] == row['sentiment_label_y']:\n",
    "        correctly_classified_label.append([row['sentiment_label_x'], row['sentiment_label_y']])\n",
    "    if not row['sentiment_label_x'] == row['sentiment_label_y']:\n",
    "        wrongly_classified_label.append([row['sentiment_label_x'], row['sentiment_label_y']])\n",
    "    if row['hate_label_x'] == row['hate_label_y']:\n",
    "        correctly_classified_hatelabel.append([row['hate_label_x'], row['hate_label_y']])\n",
    "    if not row['hate_label_x'] == row['hate_label_y']:\n",
    "         wrongly_classified_hataelabel.append([row['hate_label_x'], row['hate_label_y']])\n",
    "    if row['labels_x'] == row['labels_y']:\n",
    "        correctly_classified_topiclabels.append([row['labels_x'], row['labels_y']])\n",
    "    if not row['labels_x'] == row['labels_y']:\n",
    "        wrongly_classified_topiclabels.append([row['labels_x'], row['labels_y']])\n",
    "              "
   ]
  },
  {
   "cell_type": "code",
   "execution_count": 41,
   "metadata": {},
   "outputs": [],
   "source": [
    "for index, row in df_AFD_rueck_merged.iterrows():\n",
    "    if row['topic_x'] == row['topic_y']:\n",
    "        correctly_classified_topic.append([row['topic_x'], row['topic_y']])\n",
    "    if not row['topic_x'] == row['topic_y']:\n",
    "        wrongly_classified_topic.append([row['topic_x'], row['topic_y']])\n",
    "    if row['sentiment_label_x'] == row['sentiment_label_y']:\n",
    "        correctly_classified_label.append([row['sentiment_label_x'], row['sentiment_label_y']])\n",
    "    if not row['sentiment_label_x'] == row['sentiment_label_y']:\n",
    "        wrongly_classified_label.append([row['sentiment_label_x'], row['sentiment_label_y']])\n",
    "    if row['hate_label_x'] == row['hate_label_y']:\n",
    "        correctly_classified_hatelabel.append([row['hate_label_x'], row['hate_label_y']])\n",
    "    if not row['hate_label_x'] == row['hate_label_y']:\n",
    "         wrongly_classified_hataelabel.append([row['hate_label_x'], row['hate_label_y']])\n",
    "    if row['labels_x'] == row['labels_y']:\n",
    "        correctly_classified_topiclabels.append([row['labels_x'], row['labels_y']])\n",
    "    if not row['labels_x'] == row['labels_y']:\n",
    "        wrongly_classified_topiclabels.append([row['labels_x'], row['labels_y']])\n",
    "              "
   ]
  },
  {
   "cell_type": "code",
   "execution_count": 42,
   "metadata": {},
   "outputs": [],
   "source": [
    "for index, row in df_FDP_rueck_merged.iterrows():\n",
    "    if row['topic_x'] == row['topic_y']:\n",
    "        correctly_classified_topic.append([row['topic_x'], row['topic_y']])\n",
    "    if not row['topic_x'] == row['topic_y']:\n",
    "        wrongly_classified_topic.append([row['topic_x'], row['topic_y']])\n",
    "    if row['sentiment_label_x'] == row['sentiment_label_y']:\n",
    "        correctly_classified_label.append([row['sentiment_label_x'], row['sentiment_label_y']])\n",
    "    if not row['sentiment_label_x'] == row['sentiment_label_y']:\n",
    "        wrongly_classified_label.append([row['sentiment_label_x'], row['sentiment_label_y']])\n",
    "    if row['hate_label_x'] == row['hate_label_y']:\n",
    "        correctly_classified_hatelabel.append([row['hate_label_x'], row['hate_label_y']])\n",
    "    if not row['hate_label_x'] == row['hate_label_y']:\n",
    "         wrongly_classified_hataelabel.append([row['hate_label_x'], row['hate_label_y']])\n",
    "    if row['labels_x'] == row['labels_y']:\n",
    "        correctly_classified_topiclabels.append([row['labels_x'], row['labels_y']])\n",
    "    if not row['labels_x'] == row['labels_y']:\n",
    "        wrongly_classified_topiclabels.append([row['labels_x'], row['labels_y']])\n",
    "              "
   ]
  },
  {
   "cell_type": "code",
   "execution_count": null,
   "metadata": {},
   "outputs": [],
   "source": [
    "print(correctly_classified_topic)\n",
    "print(len(correctly_classified_topic))\n",
    "print(correctly_classified_label)\n",
    "print(len(correctly_classified_label))\n",
    "print(correctly_classified_hatelabel)\n",
    "print(len(correctly_classified_hatelabel))\n",
    "print(correctly_classified_topiclabels)\n",
    "print(len(correctly_classified_topiclabels))"
   ]
  },
  {
   "cell_type": "code",
   "execution_count": null,
   "metadata": {},
   "outputs": [],
   "source": [
    "wrongly_classified_topic\n"
   ]
  },
  {
   "cell_type": "code",
   "execution_count": 69,
   "metadata": {},
   "outputs": [
    {
     "name": "stdout",
     "output_type": "stream",
     "text": [
      "result topic 57.34265734265735 %\n",
      "result sentiment_label 69.23076923076923 %\n",
      "result hate_label 100.0 %\n",
      "result topic_labels 27.27272727272727 %\n"
     ]
    }
   ],
   "source": []
  },
  {
   "cell_type": "code",
   "execution_count": 22,
   "metadata": {},
   "outputs": [],
   "source": [
    "from sklearn.metrics import accuracy_score\n",
    "from sklearn.metrics import confusion_matrix\n",
    "\n",
    "import matplotlib.pyplot as plt\n",
    "from sklearn.datasets import make_classification\n",
    "from sklearn.metrics import ConfusionMatrixDisplay\n",
    "from sklearn.model_selection import train_test_split\n",
    "from sklearn.svm import SVC\n"
   ]
  },
  {
   "cell_type": "code",
   "execution_count": null,
   "metadata": {},
   "outputs": [],
   "source": [
    "df_accuracy"
   ]
  },
  {
   "cell_type": "code",
   "execution_count": null,
   "metadata": {},
   "outputs": [],
   "source": [
    "df_accuracy = df_CDU_CSU_rueck_merged\n",
    "df_accuracy = df_accuracy.append(df_AFD_rueck_merged)\n",
    "df_accuracy = df_accuracy.append(df_FDP_rueck_merged)\n",
    "df_accuracy = df_accuracy.append(df_GRUENEN_rueck_merged)\n",
    "df_accuracy = df_accuracy.append(df_SPD_rueck_merged)\n",
    "df_accuracy = df_accuracy.append(df_LINKE_rueck_merged)\n",
    "\n",
    "\n"
   ]
  },
  {
   "cell_type": "code",
   "execution_count": 237,
   "metadata": {},
   "outputs": [
    {
     "name": "stderr",
     "output_type": "stream",
     "text": [
      "C:\\Users\\DELSTEI9\\AppData\\Local\\Temp\\ipykernel_17012\\2088716899.py:3: FutureWarning: Passing 'suffixes' which cause duplicate columns {'scores_x', 'labels_x', 'Top 3_x', 'sequence_x', 'topic_x'} in the result is deprecated and will raise a MergeError in a future version.\n",
      "  df_accuracy_final2 = pd.merge(df_accuracy_final1, acc_df_xlmroberta, left_on='sequence_x', right_on='sequence', how='left')\n"
     ]
    }
   ],
   "source": [
    "\n",
    "df_accuracy_final1 = pd.merge(df_accuracy, acc_df_DeBERT, left_on='sequence_x', right_on='sequence', how='left')\n",
    "df_accuracy_final1 = df_accuracy_final1.loc[:, ~df_accuracy_final1.columns.duplicated()]\n",
    "df_accuracy_final2 = pd.merge(df_accuracy_final1, acc_df_xlmroberta, left_on='sequence_x', right_on='sequence', how='left')\n",
    "df_accuracy_final2 = df_accuracy_final2.loc[:, ~df_accuracy_final2.columns.duplicated()]\n",
    "df_accuracy_final3 = pd.merge(df_accuracy_final2, acc_df_bartlarge, left_on='sequence_x', right_on='sequence', how='left')"
   ]
  },
  {
   "cell_type": "code",
   "execution_count": null,
   "metadata": {},
   "outputs": [],
   "source": [
    "df_accuracy_final3"
   ]
  },
  {
   "cell_type": "code",
   "execution_count": 262,
   "metadata": {},
   "outputs": [],
   "source": [
    "acc_df_DeBERT = pd.merge(selfannot_df, DeBERT_df, left_on='sequence', right_on='sequence', how='left').drop_duplicates()\n",
    "acc_df_xlmroberta = pd.merge(selfannot_df, xlmroberta, left_on='sequence', right_on='sequence', how='left').drop_duplicates()\n",
    "acc_df_bartlarge = pd.merge(selfannot_df, bartlarge, left_on='sequence', right_on='sequence', how='left').drop_duplicates()"
   ]
  },
  {
   "cell_type": "code",
   "execution_count": 133,
   "metadata": {},
   "outputs": [
    {
     "data": {
      "text/plain": [
       "0     neutral\n",
       "1     neutral\n",
       "2     neutral\n",
       "3     neutral\n",
       "4     neutral\n",
       "       ...   \n",
       "19    neutral\n",
       "20    neutral\n",
       "21    neutral\n",
       "22    neutral\n",
       "23    neutral\n",
       "Name: hate_label_y, Length: 143, dtype: object"
      ]
     },
     "execution_count": 133,
     "metadata": {},
     "output_type": "execute_result"
    }
   ],
   "source": [
    "df_accuracy['hate_label_y']"
   ]
  },
  {
   "cell_type": "code",
   "execution_count": 268,
   "metadata": {},
   "outputs": [
    {
     "name": "stdout",
     "output_type": "stream",
     "text": [
      "result topic 56.64335664335665 %\n",
      "result sentiment_label 69.23076923076923 %\n",
      "result hate_label 100.0 %\n",
      "result topic_labels 27.27272727272727 %\n"
     ]
    }
   ],
   "source": [
    "# Calc Prozent\n",
    "\n",
    "result_topic = 100* (((len(correctly_classified_topic)) / 143 ))\n",
    "result_sentiment_label =  100* (((len(correctly_classified_label)) / 143 ))\n",
    "result_hatelabel =  100* (((len(correctly_classified_hatelabel)) / 143 ))\n",
    "result_topiclabels =  100* (((len(correctly_classified_topiclabels)) / 143 ))\n",
    "\n",
    "print(f'result topic {result_topic} %')\n",
    "print(f'result sentiment_label {result_sentiment_label} %')\n",
    "print(f'result hate_label {result_hatelabel} %')\n",
    "print(f'result topic_labels {result_topiclabels} %')\n"
   ]
  },
  {
   "cell_type": "code",
   "execution_count": null,
   "metadata": {},
   "outputs": [],
   "source": [
    "result_topic = accuracy_score(df_accuracy['topic_x'], df_accuracy['topic_y'])\n",
    "result_sentiment = accuracy_score(df_accuracy['sentiment_label_x'], df_accuracy['sentiment_label_y'])\n",
    "result_hate_label = accuracy_score(df_accuracy['hate_label_x'], df_accuracy['hate_label_y'])\n",
    "result_topic_labels = accuracy_score(df_accuracy['labels_x'], df_accuracy['labels_y'])"
   ]
  },
  {
   "cell_type": "code",
   "execution_count": 157,
   "metadata": {},
   "outputs": [
    {
     "name": "stdout",
     "output_type": "stream",
     "text": [
      "Accuracy Score Spacy Topics: 56.643 %\n",
      "Accuracy Score Sentiment_label: 69.231 %\n",
      "Accuracy Score Hates_label: 100.0 %\n",
      "Accuracy Score Valhalla Topic: 27.273 %\n"
     ]
    }
   ],
   "source": [
    "print(f'Accuracy Score Spacy Topics: {round(result_topic * 100,3)} %')\n",
    "print(f'Accuracy Score Sentiment_label: {round(result_sentiment * 100,3)} %')\n",
    "print(f'Accuracy Score Hates_label: {round(result_hate_label * 100,3)} %')\n",
    "print(f'Accuracy Score Valhalla Topic: {round(result_topic_labels* 100,3)} %')"
   ]
  },
  {
   "cell_type": "code",
   "execution_count": 272,
   "metadata": {},
   "outputs": [],
   "source": [
    "matrix_topic1 = confusion_matrix(acc_df_DeBERT['topic'], acc_df_DeBERT['DeBert_label'], labels = ['bildung', 'infrastruktur', 'soziale ursachen', 'wirtschaft', 'klima', 'politik und ideologie', 'wissenschaft', 'gesundheit'])"
   ]
  },
  {
   "cell_type": "code",
   "execution_count": 273,
   "metadata": {},
   "outputs": [
    {
     "data": {
      "image/png": "[encoded data removed]",
      "text/plain": [
       "<Figure size 432x288 with 2 Axes>"
      ]
     },
     "metadata": {
      "needs_background": "light"
     },
     "output_type": "display_data"
    }
   ],
   "source": [
    "disp = ConfusionMatrixDisplay(matrix_topic1, display_labels=['Bildung', 'Infrastruktur', 'soziale Ursachen', 'wirtschaft', 'Klima', 'Politik und Ideologie', 'Wissenschaft', 'Gesundheit'])\n",
    "\n",
    "disp.plot()\n",
    "plt.title('Huggungface DeBert Topic prediction')\n",
    "plt.show()"
   ]
  },
  {
   "cell_type": "code",
   "execution_count": 274,
   "metadata": {},
   "outputs": [],
   "source": [
    "matrix_topic2 = confusion_matrix(df_accuracy['topic_y'], df_accuracy['topic_x'], labels = ['Bildung', 'Infrastruktur', 'soziale Ursachen', 'wirtschaft', 'Klima', 'Politik und Ideologie', 'Wissenschaft', 'Gesundheit'])\n"
   ]
  },
  {
   "cell_type": "code",
   "execution_count": 275,
   "metadata": {},
   "outputs": [
    {
     "data": {
      "image/png": "[encoded data removed]",
      "text/plain": [
       "<Figure size 432x288 with 2 Axes>"
      ]
     },
     "metadata": {
      "needs_background": "light"
     },
     "output_type": "display_data"
    }
   ],
   "source": [
    "disp = ConfusionMatrixDisplay(matrix_topic2, display_labels=['Bildung', 'Infrastruktur', 'soziale Ursachen', 'wirtschaft', 'Klima', 'Politik und Ideologie', 'Wissenschaft', 'Gesundheit'])\n",
    "\n",
    "disp.plot()\n",
    "plt.title('Spacy Topic prediction')\n",
    "plt.show()"
   ]
  },
  {
   "cell_type": "code",
   "execution_count": 137,
   "metadata": {},
   "outputs": [],
   "source": [
    "import numpy as np\n",
    "df_accuracy['new_topic'] = np.where(df_accuracy['topic_x'] == df_accuracy['topic_y'], 'True', 'False')\n",
    "df_accuracy['new_sentiment'] = np.where(df_accuracy['sentiment_label_x'] == df_accuracy['sentiment_label_y'], 'True', 'False')\n",
    "df_accuracy['new_hate'] = np.where(df_accuracy['hate_label_x'] == df_accuracy['hate_label_y'], 'True', 'False')\n",
    "df_accuracy['new_topiclabels'] = np.where(df_accuracy['labels_x'] == df_accuracy['labels_y'], 'True', 'False')\n"
   ]
  },
  {
   "cell_type": "code",
   "execution_count": 140,
   "metadata": {},
   "outputs": [
    {
     "data": {
      "text/plain": [
       "0     neutral\n",
       "1     neutral\n",
       "2     neutral\n",
       "3     neutral\n",
       "4     neutral\n",
       "       ...   \n",
       "19    neutral\n",
       "20    neutral\n",
       "21    neutral\n",
       "22    neutral\n",
       "23    neutral\n",
       "Name: hate_label_y, Length: 143, dtype: object"
      ]
     },
     "execution_count": 140,
     "metadata": {},
     "output_type": "execute_result"
    }
   ],
   "source": [
    "df_accuracy['hate_label_y']"
   ]
  },
  {
   "cell_type": "code",
   "execution_count": 150,
   "metadata": {},
   "outputs": [
    {
     "name": "stdout",
     "output_type": "stream",
     "text": [
      "1\n",
      "1\n",
      "1\n",
      "1\n"
     ]
    }
   ],
   "source": [
    "a = df_accuracy[df_accuracy['new_topic'] == 'False']['topic_y']\n",
    "print(1)\n",
    "b = df_accuracy[df_accuracy['new_sentiment'] == 'False']['sentiment_label_y'].value_counts()\n",
    "print(1)\n",
    "c = df_accuracy[df_accuracy['new_hate'] == 'False']['hate_label_y'].value_counts()\n",
    "print(1)\n",
    "d = df_accuracy[df_accuracy['new_topiclabels'] == 'False']['labels_y'].value_counts()\n",
    "print(1)"
   ]
  },
  {
   "cell_type": "code",
   "execution_count": 142,
   "metadata": {},
   "outputs": [
    {
     "data": {
      "image/png": "[encoded data removed]",
      "text/plain": [
       "<Figure size 432x288 with 1 Axes>"
      ]
     },
     "metadata": {
      "needs_background": "light"
     },
     "output_type": "display_data"
    }
   ],
   "source": [
    "import matplotlib.pyplot as plt\n",
    "\n",
    "\n",
    "labels = ['Politik und Ideologie', 'Infrastruktur', 'wirtschaft', 'Wissenschaft', 'Klima', 'Gesundheit', 'soziale Ursachen', 'Bildung']\n",
    "falsch_klassifiziert = [a[0], a[1], a[2], a[4], a[5], a[7], a[3], a[6]]\n",
    "women_means = [25, 32, 34, 20, 25]\n",
    "men_std = [2, 3, 4, 1, 2]\n",
    "women_std = [3, 5, 2, 3, 3]\n",
    "width = 0.35       # the width of the bars: can also be len(x) sequence\n",
    "\n",
    "fig, ax = plt.subplots()\n",
    "\n",
    "ax.bar(labels, falsch_klassifiziert, width, yerr=men_std, label='Men')\n",
    "ax.bar(labels, women_means, width, yerr=women_std, bottom=men_means,\n",
    "       label='Women')\n",
    "\n",
    "ax.set_ylabel('Scores')\n",
    "ax.set_title('Scores by group and gender')\n",
    "ax.legend()\n",
    "\n",
    "plt.show()"
   ]
  }
 ],
 "metadata": {
  "kernelspec": {
   "display_name": "Python 3",
   "language": "python",
   "name": "python3"
  },
  "language_info": {
   "codemirror_mode": {
    "name": "ipython",
    "version": 3
   },
   "file_extension": ".py",
   "mimetype": "text/x-python",
   "name": "python",
   "nbconvert_exporter": "python",
   "pygments_lexer": "ipython3",
   "version": "3.10.5"
  },
  "orig_nbformat": 4,
  "vscode": {
   "interpreter": {
    "hash": "864e1f20dbb28239d950687f39028fbb4c0d085af87de4b77635b27f74266f13"
   }
  }
 },
 "nbformat": 4,
 "nbformat_minor": 2
}
