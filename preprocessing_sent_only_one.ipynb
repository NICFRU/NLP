{
 "cells": [
  {
   "cell_type": "markdown",
   "metadata": {},
   "source": [
    "# Imports"
   ]
  },
  {
   "cell_type": "code",
   "execution_count": 3,
   "metadata": {},
   "outputs": [
    {
     "name": "stderr",
     "output_type": "stream",
     "text": [
      "/Users/niclascramer/opt/miniconda3/envs/NLP/lib/python3.9/site-packages/scipy/__init__.py:146: UserWarning: A NumPy version >=1.16.5 and <1.23.0 is required for this version of SciPy (detected version 1.23.4\n",
      "  warnings.warn(f\"A NumPy version >={np_minversion} and <{np_maxversion}\"\n"
     ]
    }
   ],
   "source": [
    "import spacy\n",
    "import pandas as pd\n",
    "import matplotlib.pyplot as mltp\n",
    "#from nltk.tokenize import word_tokenize, sent_tokenize\n",
    "#import nltk\n",
    "import sklearn as sk\n",
    "import seaborn as sea\n",
    "import re \n",
    "from tqdm import tqdm"
   ]
  },
  {
   "cell_type": "markdown",
   "metadata": {},
   "source": [
    "Pyteseract --> ausgabe der inhalte der lokalitäten --> basierend davon die inhalte rausmacht --> coordinaten der paragrapthen oder der seitenzahlen zu erkennen \n",
    "whaitet baises sehen\n",
    "\n"
   ]
  },
  {
   "cell_type": "markdown",
   "metadata": {},
   "source": [
    "# processing"
   ]
  },
  {
   "cell_type": "code",
   "execution_count": 10,
   "metadata": {},
   "outputs": [],
   "source": [
    "filename='data/AFD_Wahlprogramm_2021.txt'"
   ]
  },
  {
   "cell_type": "code",
   "execution_count": 77,
   "metadata": {},
   "outputs": [],
   "source": [
    "def sentence_file(filename):\n",
    "    with open(filename) as f:\n",
    "        text = f.read()\n",
    "        \n",
    "        #text = text.replace(r'\\\\d+\\\\n', '$')\n",
    "        #text=   re.sub(\"\\n\\n\", \".\", text)\n",
    "        #text=   re.sub(\"\\d+.\", \".\", text)\n",
    "        text=   re.sub(\" \\d+\\n\", \".\", text)\n",
    "        text=   re.sub(\"\\n\\d+\", \" \", text)\n",
    "        text=   re.sub(\"\\n\", \" \", text)\n",
    "        \n",
    "    return re.split(r' *[\\.\\?!][\\'\"\\)\\]]* *', text)\n"
   ]
  },
  {
   "cell_type": "code",
   "execution_count": 84,
   "metadata": {},
   "outputs": [],
   "source": [
    "def multi_sentence_file(filenames,folder):\n",
    "    liste_files=[]\n",
    "    for fname in filenames:\n",
    "        with open(folder+'/'+fname) as f:\n",
    "            text = f.read()\n",
    "            \n",
    "        \n",
    "            #text = text.replace(r'\\\\d+\\\\n', '$')\n",
    "            #text=   re.sub(\"\\n\\n\", \".\", text)\n",
    "            #text=   re.sub(\"\\d+.\", \".\", text)\n",
    "            text=   re.sub(\" \\d+\\n\", \".\", text)\n",
    "            text=   re.sub(\"\\n\\d+\", \" \", text)\n",
    "            text=   re.sub(\"\\n\", \" \", text)\n",
    "            text=re.split(r' *[\\.\\?!][\\'\"\\)\\]]* *', text)\n",
    "        liste_files.append(text)\n",
    "    return liste_files"
   ]
  },
  {
   "cell_type": "code",
   "execution_count": 78,
   "metadata": {},
   "outputs": [],
   "source": [
    "sentences=sentence_file(filename)"
   ]
  },
  {
   "cell_type": "code",
   "execution_count": 79,
   "metadata": {},
   "outputs": [
    {
     "data": {
      "text/plain": [
       "['Deutschland',\n",
       " 'Aber normal',\n",
       " 'normal',\n",
       " 'Programm der Alternative für Deutschland für die Wahl zum 20',\n",
       " 'Deutschen Bundestag  AD',\n",
       " 'Inhaltsverzeichnis  Demokratie und Rechtsstaat',\n",
       " 'Das Volk ist der Souverän',\n",
       " 'Volksabstimmungen nach Schweizer Modell',\n",
       " 'Die Gewaltenteilung gewährleisten',\n",
       " 'Entpolitisierung der Justiz']"
      ]
     },
     "execution_count": 79,
     "metadata": {},
     "output_type": "execute_result"
    }
   ],
   "source": [
    "sentences[0:10]"
   ]
  },
  {
   "cell_type": "code",
   "execution_count": 80,
   "metadata": {},
   "outputs": [],
   "source": [
    "def string_create(senten):\n",
    "    string=''\n",
    "    for sent in tqdm(senten):\n",
    "        string+=' '+sent\n",
    "    return string"
   ]
  },
  {
   "cell_type": "code",
   "execution_count": 81,
   "metadata": {},
   "outputs": [],
   "source": [
    "from os import listdir\n",
    "from os.path import isfile, join\n",
    "onlyfiles = [f for f in listdir('data') if isfile(join('data', f))]"
   ]
  },
  {
   "cell_type": "code",
   "execution_count": 82,
   "metadata": {},
   "outputs": [
    {
     "data": {
      "text/plain": [
       "['DIE_GRUENEN_Wahlprogramm_2021.txt',\n",
       " 'FDP_Wahlprogramm_2021.txt',\n",
       " 'DIE_LINKE_Wahlprogramm_2021.txt',\n",
       " 'CDU-CSU_Wahlrprogramm_2021.txt',\n",
       " 'SPD_Wahlprogramm_2021.txt',\n",
       " 'AFD_Wahlprogramm_2021.txt']"
      ]
     },
     "execution_count": 82,
     "metadata": {},
     "output_type": "execute_result"
    }
   ],
   "source": [
    "onlyfiles"
   ]
  },
  {
   "cell_type": "code",
   "execution_count": 93,
   "metadata": {},
   "outputs": [
    {
     "name": "stdout",
     "output_type": "stream",
     "text": [
      "['IEITTESALTENTR Alles ist drin', 'Bundestagswahlprogramm', 'Bereit, weil Ihr es seid', 'Dieses Bundestagswahlprogramm wurde auf der 46', 'Bundesdelegiertenkonferenz von BÜNDNIS 90/DIE GRÜNEN beschlossen, die vom 11', 'bis 13', 'Juni 2021 digital stattgefunden hat', 'Herausgeberin:  BÜNDNIS 90/DIE GRÜNEN Platz vor dem Neuen Tor', '10115 Berlin  Telefon: 030 28442-0  Fax: 030 28442-210 E-Mail: info@gruene', 'de Internet: gruene']\n"
     ]
    },
    {
     "name": "stderr",
     "output_type": "stream",
     "text": [
      "100%|██████████| 5068/5068 [00:00<00:00, 3921906.40it/s]\n"
     ]
    },
    {
     "name": "stdout",
     "output_type": "stream",
     "text": [
      "['Freie Demokraten Freie Demokraten  Beschluss des 72', 'Ord', 'Bundesparteitag der Freien Demokraten vom 14', '-16', 'Mai', 'Wie es ist, darf es nicht bleiben', 'cccccceeee seen essen een ee e ee error eeeeeereeeeee ne', 'Werden wir das Land, das in uns steckt', '22 ccccoeeeeeneenee nennen een nee ers seen eeeeen ne', 'Die richtige Richtung: durch die Mitte nach vorne']\n"
     ]
    },
    {
     "name": "stderr",
     "output_type": "stream",
     "text": [
      "100%|██████████| 2414/2414 [00:00<00:00, 3888267.99it/s]\n"
     ]
    },
    {
     "name": "stdout",
     "output_type": "stream",
     "text": [
      "['Zeitzu handeln', 'Für soziale Sicherheit, Frieden und Klimagerechtigkeit  WE Lelleigersägzlanlge zur Bundestagswahl', 'DIE LINKE', 'Wahlprogramm der Partei DIE LINKE zur Bundestagswahl', 'Beschlossen auf dem Bundesparteitag am 19', 'und 20', 'Juni', 'Inhalt  Einführung', '22ccccccccsscn', 'Es kommt auf unsaalle an']\n"
     ]
    },
    {
     "name": "stderr",
     "output_type": "stream",
     "text": [
      "100%|██████████| 5356/5356 [00:00<00:00, 4123475.08it/s]\n"
     ]
    },
    {
     "name": "stdout",
     "output_type": "stream",
     "text": [
      "['Inhaltsverzeichnis  Einleitung', '2s0000000000ssssonnsnsssnnsnssnnnnnnsnnnnnnsnnnnnssnnnssnsnnnnssnnnsnnsnnnssssnnnnsnsnnsnsssnssnnsnnnee', 'Neue Verantwortung Deutschlands in der Welt - aus Überzeugung für Frieden,  Freiheit und Menschenrechte', 'oossss0ossssssnnssssonnnnsssnnnnssnnnnsssnnnnsnsnnnnnsnnnsnssnnnne', '1', '1', 'Stärkung der werte- und regelbasierten internationalen Ordnung', '1', '2', 'Deutschland als Stabilitätsanker in der globalen Welt']\n"
     ]
    },
    {
     "name": "stderr",
     "output_type": "stream",
     "text": [
      "100%|██████████| 3078/3078 [00:00<00:00, 4103645.17it/s]\n"
     ]
    },
    {
     "name": "stdout",
     "output_type": "stream",
     "text": [
      "['> | >\" EZDRESPEKT  VOR DEINER AU] (0) |', '> *  DAS ZUKUNFTSPROGRAMM DER SPD  WOFÜR WIR STEHEN', 'WAS UNS ANTREIBT', 'WONACH WIR STREBEN', 'Soziale Politik für Dich', '0', 'Zukunft', 'Respekt', 'Europa', '>»3']\n"
     ]
    },
    {
     "name": "stderr",
     "output_type": "stream",
     "text": [
      "100%|██████████| 1837/1837 [00:00<00:00, 4425580.96it/s]\n"
     ]
    },
    {
     "name": "stdout",
     "output_type": "stream",
     "text": [
      "['Deutschland', 'Aber normal', 'normal', 'Programm der Alternative für Deutschland für die Wahl zum 20', 'Deutschen Bundestag  AD', 'Inhaltsverzeichnis  Demokratie und Rechtsstaat', 'Das Volk ist der Souverän', 'Volksabstimmungen nach Schweizer Modell', 'Die Gewaltenteilung gewährleisten', 'Entpolitisierung der Justiz']\n"
     ]
    },
    {
     "name": "stderr",
     "output_type": "stream",
     "text": [
      "100%|██████████| 1983/1983 [00:00<00:00, 3528767.43it/s]\n"
     ]
    }
   ],
   "source": [
    "liste_programmtexte=[]\n",
    "liste_fil=multi_sentence_file(onlyfiles,'data')\n",
    "for elemente in liste_fil:\n",
    "    elemente=[x for x in elemente if x]\n",
    "    print(elemente[0:10])\n",
    "    liste_programmtexte.append(string_create(elemente))"
   ]
  },
  {
   "cell_type": "code",
   "execution_count": 95,
   "metadata": {},
   "outputs": [
    {
     "data": {
      "text/plain": [
       "' IEITTESALTENTR Alles ist drin Bundestagswahlprogramm Bereit, weil Ihr es seid Dieses Bundestagswahlprogramm wurde auf der 46 Bundesdelegiertenkonferenz von BÜNDNIS 90/DIE GRÜNEN beschlossen, die vom '"
      ]
     },
     "execution_count": 95,
     "metadata": {},
     "output_type": "execute_result"
    }
   ],
   "source": [
    "liste_programmtexte[0][0:200]"
   ]
  },
  {
   "cell_type": "code",
   "execution_count": 97,
   "metadata": {},
   "outputs": [],
   "source": [
    "text=sentences"
   ]
  },
  {
   "cell_type": "code",
   "execution_count": 98,
   "metadata": {},
   "outputs": [
    {
     "data": {
      "text/plain": [
       "2086"
      ]
     },
     "execution_count": 98,
     "metadata": {},
     "output_type": "execute_result"
    }
   ],
   "source": [
    "len(text)"
   ]
  },
  {
   "cell_type": "code",
   "execution_count": 30,
   "metadata": {},
   "outputs": [
    {
     "data": {
      "text/plain": [
       "''"
      ]
     },
     "execution_count": 30,
     "metadata": {},
     "output_type": "execute_result"
    }
   ],
   "source": [
    "text[0:20:-1]"
   ]
  },
  {
   "cell_type": "code",
   "execution_count": 99,
   "metadata": {},
   "outputs": [],
   "source": [
    "import numpy as np\n",
    "import json\n",
    "import glob\n",
    "\n",
    "import gensim\n",
    "import gensim.corpora as corpora\n",
    "from gensim.utils import simple_preprocess\n",
    "from gensim.models import CoherenceModel\n",
    "\n",
    "import spacy\n",
    "from spacy.lang.de.examples import sentences \n",
    "from nltk.corpus import stopwords\n",
    "\n",
    "import pyLDAvis\n",
    "import pyLDAvis.gensim_models as gensimvis\n",
    "\n",
    "import pickle \n",
    "\n",
    "import warnings\n",
    "warnings.filterwarnings('ignore',category=DeprecationWarning)"
   ]
  },
  {
   "cell_type": "code",
   "execution_count": 100,
   "metadata": {},
   "outputs": [],
   "source": [
    "german_stop_words= stopwords.words('german')"
   ]
  },
  {
   "cell_type": "code",
   "execution_count": null,
   "metadata": {},
   "outputs": [],
   "source": [
    "python -m spacy download de_core_news_lg \n",
    "\n",
    "#--> morgen"
   ]
  },
  {
   "cell_type": "code",
   "execution_count": 101,
   "metadata": {},
   "outputs": [],
   "source": [
    "def lemmatization_test(texts,  allowed_posttags=['NOUN','ADJ','VERB','ADV']):\n",
    "    nlp=spacy.load('de_core_news_lg',disable=['parser','ner'])\n",
    "    texts_out=[]\n",
    "    for text in tqdm(texts):\n",
    "        doc= nlp(text)\n",
    "        new_text=[]\n",
    "        for token in doc:\n",
    "            if token.pos_ in allowed_posttags:\n",
    "                new_text.append(token.lemma_)\n",
    "        final=' '.join(new_text)\n",
    "        texts_out.append(final)\n",
    "    return texts_out"
   ]
  },
  {
   "cell_type": "code",
   "execution_count": 102,
   "metadata": {},
   "outputs": [
    {
     "ename": "OSError",
     "evalue": "[E050] Can't find model 'de_core_news_lg'. It doesn't seem to be a Python package or a valid path to a data directory.",
     "output_type": "error",
     "traceback": [
      "\u001b[0;31m---------------------------------------------------------------------------\u001b[0m",
      "\u001b[0;31mOSError\u001b[0m                                   Traceback (most recent call last)",
      "Cell \u001b[0;32mIn[102], line 1\u001b[0m\n\u001b[0;32m----> 1\u001b[0m lemma_text\u001b[39m=\u001b[39mlemmatization_test(liste_programmtexte)\n",
      "Cell \u001b[0;32mIn[101], line 2\u001b[0m, in \u001b[0;36mlemmatization_test\u001b[0;34m(texts, allowed_posttags)\u001b[0m\n\u001b[1;32m      1\u001b[0m \u001b[39mdef\u001b[39;00m \u001b[39mlemmatization_test\u001b[39m(texts,  allowed_posttags\u001b[39m=\u001b[39m[\u001b[39m'\u001b[39m\u001b[39mNOUN\u001b[39m\u001b[39m'\u001b[39m,\u001b[39m'\u001b[39m\u001b[39mADJ\u001b[39m\u001b[39m'\u001b[39m,\u001b[39m'\u001b[39m\u001b[39mVERB\u001b[39m\u001b[39m'\u001b[39m,\u001b[39m'\u001b[39m\u001b[39mADV\u001b[39m\u001b[39m'\u001b[39m]):\n\u001b[0;32m----> 2\u001b[0m     nlp\u001b[39m=\u001b[39mspacy\u001b[39m.\u001b[39;49mload(\u001b[39m'\u001b[39;49m\u001b[39mde_core_news_lg\u001b[39;49m\u001b[39m'\u001b[39;49m,disable\u001b[39m=\u001b[39;49m[\u001b[39m'\u001b[39;49m\u001b[39mparser\u001b[39;49m\u001b[39m'\u001b[39;49m,\u001b[39m'\u001b[39;49m\u001b[39mner\u001b[39;49m\u001b[39m'\u001b[39;49m])\n\u001b[1;32m      3\u001b[0m     texts_out\u001b[39m=\u001b[39m[]\n\u001b[1;32m      4\u001b[0m     \u001b[39mfor\u001b[39;00m text \u001b[39min\u001b[39;00m tqdm(texts):\n",
      "File \u001b[0;32m~/opt/miniconda3/envs/NLP/lib/python3.9/site-packages/spacy/__init__.py:51\u001b[0m, in \u001b[0;36mload\u001b[0;34m(name, vocab, disable, exclude, config)\u001b[0m\n\u001b[1;32m     30\u001b[0m \u001b[39mdef\u001b[39;00m \u001b[39mload\u001b[39m(\n\u001b[1;32m     31\u001b[0m     name: Union[\u001b[39mstr\u001b[39m, Path],\n\u001b[1;32m     32\u001b[0m     \u001b[39m*\u001b[39m,\n\u001b[0;32m   (...)\u001b[0m\n\u001b[1;32m     36\u001b[0m     config: Union[Dict[\u001b[39mstr\u001b[39m, Any], Config] \u001b[39m=\u001b[39m util\u001b[39m.\u001b[39mSimpleFrozenDict(),\n\u001b[1;32m     37\u001b[0m ) \u001b[39m-\u001b[39m\u001b[39m>\u001b[39m Language:\n\u001b[1;32m     38\u001b[0m     \u001b[39m\"\"\"Load a spaCy model from an installed package or a local path.\u001b[39;00m\n\u001b[1;32m     39\u001b[0m \n\u001b[1;32m     40\u001b[0m \u001b[39m    name (str): Package name or model path.\u001b[39;00m\n\u001b[0;32m   (...)\u001b[0m\n\u001b[1;32m     49\u001b[0m \u001b[39m    RETURNS (Language): The loaded nlp object.\u001b[39;00m\n\u001b[1;32m     50\u001b[0m \u001b[39m    \"\"\"\u001b[39;00m\n\u001b[0;32m---> 51\u001b[0m     \u001b[39mreturn\u001b[39;00m util\u001b[39m.\u001b[39;49mload_model(\n\u001b[1;32m     52\u001b[0m         name, vocab\u001b[39m=\u001b[39;49mvocab, disable\u001b[39m=\u001b[39;49mdisable, exclude\u001b[39m=\u001b[39;49mexclude, config\u001b[39m=\u001b[39;49mconfig\n\u001b[1;32m     53\u001b[0m     )\n",
      "File \u001b[0;32m~/opt/miniconda3/envs/NLP/lib/python3.9/site-packages/spacy/util.py:427\u001b[0m, in \u001b[0;36mload_model\u001b[0;34m(name, vocab, disable, exclude, config)\u001b[0m\n\u001b[1;32m    425\u001b[0m \u001b[39mif\u001b[39;00m name \u001b[39min\u001b[39;00m OLD_MODEL_SHORTCUTS:\n\u001b[1;32m    426\u001b[0m     \u001b[39mraise\u001b[39;00m \u001b[39mIOError\u001b[39;00m(Errors\u001b[39m.\u001b[39mE941\u001b[39m.\u001b[39mformat(name\u001b[39m=\u001b[39mname, full\u001b[39m=\u001b[39mOLD_MODEL_SHORTCUTS[name]))  \u001b[39m# type: ignore[index]\u001b[39;00m\n\u001b[0;32m--> 427\u001b[0m \u001b[39mraise\u001b[39;00m \u001b[39mIOError\u001b[39;00m(Errors\u001b[39m.\u001b[39mE050\u001b[39m.\u001b[39mformat(name\u001b[39m=\u001b[39mname))\n",
      "\u001b[0;31mOSError\u001b[0m: [E050] Can't find model 'de_core_news_lg'. It doesn't seem to be a Python package or a valid path to a data directory."
     ]
    }
   ],
   "source": [
    "lemma_text=lemmatization_test(liste_programmtexte)"
   ]
  },
  {
   "cell_type": "code",
   "execution_count": 129,
   "metadata": {},
   "outputs": [
    {
     "name": "stderr",
     "output_type": "stream",
     "text": [
      "100%|██████████| 2086/2086 [00:05<00:00, 406.47it/s]\n",
      "100%|██████████| 2086/2086 [00:04<00:00, 454.54it/s]\n"
     ]
    }
   ],
   "source": [
    "#lemma_text=lemmatization_test(text)\n",
    "#lemma_text = list(filter(None, lemma_text))\n"
   ]
  },
  {
   "cell_type": "code",
   "execution_count": 105,
   "metadata": {},
   "outputs": [],
   "source": [
    "def gen_words(texts):\n",
    "    final=[]\n",
    "    for text in tqdm(texts):\n",
    "        new= gensim.utils.simple_preprocess(text,deacc=True)\n",
    "        final.append(new)\n",
    "    return final"
   ]
  },
  {
   "cell_type": "code",
   "execution_count": 106,
   "metadata": {},
   "outputs": [
    {
     "name": "stderr",
     "output_type": "stream",
     "text": [
      "100%|██████████| 1901/1901 [00:00<00:00, 42826.84it/s]\n",
      "100%|██████████| 1860/1860 [00:00<00:00, 70207.66it/s]\n"
     ]
    }
   ],
   "source": [
    "data_words=gen_words(lemma_text)\n"
   ]
  },
  {
   "cell_type": "code",
   "execution_count": 107,
   "metadata": {},
   "outputs": [],
   "source": [
    "bigram_phrases=gensim.models.Phrases(data_words,min_count=3,threshold=100)\n",
    "trigram_phases=gensim.models.Phrases(bigram_phrases[data_words],threshold=50)\n",
    "\n",
    "bigram=gensim.models.phrases.Phraser(bigram_phrases)\n",
    "trigram=gensim.models.phrases.Phraser(trigram_phases)\n",
    "\n",
    "def make_bigrams(texts):\n",
    "    return [bigram[doc] for doc in texts]\n",
    "\n",
    "def make_trgram(texts):\n",
    "    return [trigram[bigram[doc]] for doc in texts]\n",
    "\n",
    "data_bigrams=make_bigrams(data_words)\n",
    "data_bigrams_trigrams=make_trgram(data_bigrams)"
   ]
  },
  {
   "cell_type": "code",
   "execution_count": 109,
   "metadata": {},
   "outputs": [],
   "source": []
  },
  {
   "cell_type": "code",
   "execution_count": 110,
   "metadata": {},
   "outputs": [
    {
     "name": "stdout",
     "output_type": "stream",
     "text": [
      "[(4, 1), (5, 1)]\n"
     ]
    },
    {
     "name": "stderr",
     "output_type": "stream",
     "text": [
      "100%|██████████| 1901/1901 [00:00<00:00, 39946.15it/s]\n"
     ]
    }
   ],
   "source": [
    "from gensim.models import TfidfModel\n",
    "\n",
    "id2word=corpora.Dictionary(data_bigrams_trigrams)\n",
    "\n",
    "texts = data_bigrams_trigrams\n",
    "\n",
    "corpus=[id2word.doc2bow(text) for text in texts]\n",
    "\n",
    "print(corpus[3])\n",
    "\n",
    "tfidf=TfidfModel(corpus,id2word=id2word)\n",
    "\n",
    "low_value=0.03\n",
    "words=[]\n",
    "words_missing_in_tfdf=[]\n",
    "\n",
    "for i in tqdm(range(0,len(corpus))):\n",
    "    bow = corpus[i]\n",
    "    low_value_words = [] #reinitialize to be safe. You can skip this.\n",
    "    tfidf_ids = [id for id, value in tfidf[bow]]\n",
    "    bow_ids = [id for id, value in bow]\n",
    "    low_value_words = [id for id, value in tfidf[bow] if value < low_value]\n",
    "    drops=low_value_words+words_missing_in_tfdf\n",
    "    for item in drops:\n",
    "        words.append(id2word[item])\n",
    "    words_missing_in_tfidf = [id for id in bow_ids if id not in tfidf_ids] # The words with tf-idf socre 0 will be missing\n",
    "\n",
    "    new_bow = [b for b in bow if b[0] not in low_value_words and b[0] not in words_missing_in_tfidf]  \n",
    "    corpus[i]=new_bow\n"
   ]
  },
  {
   "cell_type": "code",
   "execution_count": 111,
   "metadata": {},
   "outputs": [],
   "source": [
    "topics=['climate',\n",
    "'economy',\n",
    "'education',\n",
    "'health',\n",
    "'infrastructure',\n",
    "'science',\n",
    "'social causes',\n",
    "'politics and ideology',\n",
    "'technology and entrepreneurship']"
   ]
  },
  {
   "cell_type": "code",
   "execution_count": 112,
   "metadata": {},
   "outputs": [],
   "source": [
    "num_topics=len(topics)"
   ]
  },
  {
   "cell_type": "code",
   "execution_count": 113,
   "metadata": {},
   "outputs": [],
   "source": [
    "lda_model=gensim.models.ldamodel.LdaModel(\n",
    "corpus=corpus,\n",
    "id2word=id2word,\n",
    "num_topics=num_topics,\n",
    "random_state=100,\n",
    "update_every=1,\n",
    "chunksize=100,\n",
    "passes=10,\n",
    "alpha='auto'\n",
    ")"
   ]
  },
  {
   "cell_type": "code",
   "execution_count": 114,
   "metadata": {},
   "outputs": [
    {
     "name": "stdout",
     "output_type": "stream",
     "text": [
      "{0: 0.5030000000000003, 1: 0.47600000000000026, 2: 0.49400000000000027, 3: 0.4700000000000003, 4: 0.5220000000000004, 5: 0.4940000000000003, 6: 0.6790000000000003, 7: 0.49500000000000033, 8: 0.5420000000000004}\n"
     ]
    }
   ],
   "source": [
    "dic={}\n",
    "dic_sum={}\n",
    "for idx, topic in lda_model.print_topics(num_topics,num_words=100):\n",
    "    elements=[]\n",
    "    percent=[]\n",
    "\n",
    "    for e in topic.split('+'):\n",
    "        elements.append(e.split('*')[1].replace('\"','').strip())\n",
    "        percent.append(float(e.split('*')[0].replace('\"','').strip()))\n",
    "\n",
    "    dic[str(idx)+'_word']=elements\n",
    "    dic[str(idx)+'_per']=percent\n",
    "    dic_sum[idx]=sum(percent)\n",
    "print(dic_sum)"
   ]
  },
  {
   "cell_type": "code",
   "execution_count": 115,
   "metadata": {},
   "outputs": [
    {
     "data": {
      "text/html": [
       "<div>\n",
       "<style scoped>\n",
       "    .dataframe tbody tr th:only-of-type {\n",
       "        vertical-align: middle;\n",
       "    }\n",
       "\n",
       "    .dataframe tbody tr th {\n",
       "        vertical-align: top;\n",
       "    }\n",
       "\n",
       "    .dataframe thead th {\n",
       "        text-align: right;\n",
       "    }\n",
       "</style>\n",
       "<table border=\"1\" class=\"dataframe\">\n",
       "  <thead>\n",
       "    <tr style=\"text-align: right;\">\n",
       "      <th></th>\n",
       "      <th>0_word</th>\n",
       "      <th>0_per</th>\n",
       "      <th>1_word</th>\n",
       "      <th>1_per</th>\n",
       "      <th>2_word</th>\n",
       "      <th>2_per</th>\n",
       "      <th>3_word</th>\n",
       "      <th>3_per</th>\n",
       "      <th>4_word</th>\n",
       "      <th>4_per</th>\n",
       "      <th>5_word</th>\n",
       "      <th>5_per</th>\n",
       "      <th>6_word</th>\n",
       "      <th>6_per</th>\n",
       "      <th>7_word</th>\n",
       "      <th>7_per</th>\n",
       "      <th>8_word</th>\n",
       "      <th>8_per</th>\n",
       "    </tr>\n",
       "  </thead>\n",
       "  <tbody>\n",
       "    <tr>\n",
       "      <th>0</th>\n",
       "      <td>deutsch</td>\n",
       "      <td>0.057</td>\n",
       "      <td>offentlich</td>\n",
       "      <td>0.026</td>\n",
       "      <td>wieder</td>\n",
       "      <td>0.020</td>\n",
       "      <td>landwirtschaft</td>\n",
       "      <td>0.025</td>\n",
       "      <td>fordern</td>\n",
       "      <td>0.074</td>\n",
       "      <td>setzen</td>\n",
       "      <td>0.032</td>\n",
       "      <td>paypal</td>\n",
       "      <td>0.115</td>\n",
       "      <td>ausbau</td>\n",
       "      <td>0.020</td>\n",
       "      <td>auch</td>\n",
       "      <td>0.063</td>\n",
       "    </tr>\n",
       "    <tr>\n",
       "      <th>1</th>\n",
       "      <td>gut</td>\n",
       "      <td>0.027</td>\n",
       "      <td>erhalten</td>\n",
       "      <td>0.023</td>\n",
       "      <td>dazu</td>\n",
       "      <td>0.015</td>\n",
       "      <td>regional</td>\n",
       "      <td>0.022</td>\n",
       "      <td>nur</td>\n",
       "      <td>0.030</td>\n",
       "      <td>ein</td>\n",
       "      <td>0.025</td>\n",
       "      <td>alternativefuer</td>\n",
       "      <td>0.115</td>\n",
       "      <td>digital</td>\n",
       "      <td>0.020</td>\n",
       "      <td>lehnen</td>\n",
       "      <td>0.033</td>\n",
       "    </tr>\n",
       "    <tr>\n",
       "      <th>2</th>\n",
       "      <td>kultur</td>\n",
       "      <td>0.018</td>\n",
       "      <td>frei</td>\n",
       "      <td>0.016</td>\n",
       "      <td>insbesondere</td>\n",
       "      <td>0.013</td>\n",
       "      <td>mensch</td>\n",
       "      <td>0.018</td>\n",
       "      <td>familie</td>\n",
       "      <td>0.020</td>\n",
       "      <td>deshalb</td>\n",
       "      <td>0.015</td>\n",
       "      <td>spenden</td>\n",
       "      <td>0.115</td>\n",
       "      <td>eu</td>\n",
       "      <td>0.017</td>\n",
       "      <td>hoch</td>\n",
       "      <td>0.019</td>\n",
       "    </tr>\n",
       "    <tr>\n",
       "      <th>3</th>\n",
       "      <td>sprache</td>\n",
       "      <td>0.014</td>\n",
       "      <td>neu</td>\n",
       "      <td>0.013</td>\n",
       "      <td>ermoglichen</td>\n",
       "      <td>0.013</td>\n",
       "      <td>europaisch</td>\n",
       "      <td>0.015</td>\n",
       "      <td>bleiben</td>\n",
       "      <td>0.017</td>\n",
       "      <td>wald</td>\n",
       "      <td>0.012</td>\n",
       "      <td>burger</td>\n",
       "      <td>0.020</td>\n",
       "      <td>versorgung</td>\n",
       "      <td>0.017</td>\n",
       "      <td>fuhren</td>\n",
       "      <td>0.017</td>\n",
       "    </tr>\n",
       "    <tr>\n",
       "      <th>4</th>\n",
       "      <td>schule</td>\n",
       "      <td>0.013</td>\n",
       "      <td>nutzung</td>\n",
       "      <td>0.012</td>\n",
       "      <td>landlich</td>\n",
       "      <td>0.013</td>\n",
       "      <td>starken</td>\n",
       "      <td>0.015</td>\n",
       "      <td>daher</td>\n",
       "      <td>0.016</td>\n",
       "      <td>dafur</td>\n",
       "      <td>0.011</td>\n",
       "      <td>land</td>\n",
       "      <td>0.013</td>\n",
       "      <td>klima_energie_technik_digitalisierung</td>\n",
       "      <td>0.016</td>\n",
       "      <td>sozial</td>\n",
       "      <td>0.017</td>\n",
       "    </tr>\n",
       "    <tr>\n",
       "      <th>...</th>\n",
       "      <td>...</td>\n",
       "      <td>...</td>\n",
       "      <td>...</td>\n",
       "      <td>...</td>\n",
       "      <td>...</td>\n",
       "      <td>...</td>\n",
       "      <td>...</td>\n",
       "      <td>...</td>\n",
       "      <td>...</td>\n",
       "      <td>...</td>\n",
       "      <td>...</td>\n",
       "      <td>...</td>\n",
       "      <td>...</td>\n",
       "      <td>...</td>\n",
       "      <td>...</td>\n",
       "      <td>...</td>\n",
       "      <td>...</td>\n",
       "      <td>...</td>\n",
       "    </tr>\n",
       "    <tr>\n",
       "      <th>95</th>\n",
       "      <td>stellung</td>\n",
       "      <td>0.002</td>\n",
       "      <td>bitte</td>\n",
       "      <td>0.002</td>\n",
       "      <td>bzw</td>\n",
       "      <td>0.002</td>\n",
       "      <td>konventionell</td>\n",
       "      <td>0.002</td>\n",
       "      <td>last</td>\n",
       "      <td>0.002</td>\n",
       "      <td>gesondert</td>\n",
       "      <td>0.002</td>\n",
       "      <td>ungerechtigkeit</td>\n",
       "      <td>0.001</td>\n",
       "      <td>anteil</td>\n",
       "      <td>0.002</td>\n",
       "      <td>wie</td>\n",
       "      <td>0.002</td>\n",
       "    </tr>\n",
       "    <tr>\n",
       "      <th>96</th>\n",
       "      <td>kulturgut</td>\n",
       "      <td>0.002</td>\n",
       "      <td>iban</td>\n",
       "      <td>0.002</td>\n",
       "      <td>standig</td>\n",
       "      <td>0.002</td>\n",
       "      <td>islam</td>\n",
       "      <td>0.002</td>\n",
       "      <td>beteiligter</td>\n",
       "      <td>0.002</td>\n",
       "      <td>gesicherte</td>\n",
       "      <td>0.002</td>\n",
       "      <td>app</td>\n",
       "      <td>0.001</td>\n",
       "      <td>fachen</td>\n",
       "      <td>0.002</td>\n",
       "      <td>zugute</td>\n",
       "      <td>0.002</td>\n",
       "    </tr>\n",
       "    <tr>\n",
       "      <th>97</th>\n",
       "      <td>rentensystem</td>\n",
       "      <td>0.002</td>\n",
       "      <td>folgend</td>\n",
       "      <td>0.002</td>\n",
       "      <td>lebensabend</td>\n",
       "      <td>0.002</td>\n",
       "      <td>entweren</td>\n",
       "      <td>0.002</td>\n",
       "      <td>festgelegt</td>\n",
       "      <td>0.002</td>\n",
       "      <td>zensur</td>\n",
       "      <td>0.002</td>\n",
       "      <td>endlich</td>\n",
       "      <td>0.001</td>\n",
       "      <td>erwarmung</td>\n",
       "      <td>0.002</td>\n",
       "      <td>derart</td>\n",
       "      <td>0.002</td>\n",
       "    </tr>\n",
       "    <tr>\n",
       "      <th>98</th>\n",
       "      <td>festschreiben</td>\n",
       "      <td>0.002</td>\n",
       "      <td>abgabenlast</td>\n",
       "      <td>0.002</td>\n",
       "      <td>rentenalter</td>\n",
       "      <td>0.002</td>\n",
       "      <td>aufheizung</td>\n",
       "      <td>0.002</td>\n",
       "      <td>wirken</td>\n",
       "      <td>0.002</td>\n",
       "      <td>werbung</td>\n",
       "      <td>0.002</td>\n",
       "      <td>grundsicherung</td>\n",
       "      <td>0.001</td>\n",
       "      <td>emissione</td>\n",
       "      <td>0.002</td>\n",
       "      <td>zugang</td>\n",
       "      <td>0.002</td>\n",
       "    </tr>\n",
       "    <tr>\n",
       "      <th>99</th>\n",
       "      <td>kulturpolitisch</td>\n",
       "      <td>0.002</td>\n",
       "      <td>bauer</td>\n",
       "      <td>0.002</td>\n",
       "      <td>taktung</td>\n",
       "      <td>0.002</td>\n",
       "      <td>verstarken</td>\n",
       "      <td>0.002</td>\n",
       "      <td>rahmenbedingung</td>\n",
       "      <td>0.002</td>\n",
       "      <td>streben</td>\n",
       "      <td>0.002</td>\n",
       "      <td>oft</td>\n",
       "      <td>0.001</td>\n",
       "      <td>konzern</td>\n",
       "      <td>0.002</td>\n",
       "      <td>enteignung</td>\n",
       "      <td>0.002</td>\n",
       "    </tr>\n",
       "  </tbody>\n",
       "</table>\n",
       "<p>100 rows × 18 columns</p>\n",
       "</div>"
      ],
      "text/plain": [
       "             0_word  0_per       1_word  1_per        2_word  2_per  \\\n",
       "0           deutsch  0.057   offentlich  0.026        wieder  0.020   \n",
       "1               gut  0.027     erhalten  0.023          dazu  0.015   \n",
       "2            kultur  0.018         frei  0.016  insbesondere  0.013   \n",
       "3           sprache  0.014          neu  0.013   ermoglichen  0.013   \n",
       "4            schule  0.013      nutzung  0.012      landlich  0.013   \n",
       "..              ...    ...          ...    ...           ...    ...   \n",
       "95         stellung  0.002        bitte  0.002           bzw  0.002   \n",
       "96        kulturgut  0.002         iban  0.002       standig  0.002   \n",
       "97     rentensystem  0.002      folgend  0.002   lebensabend  0.002   \n",
       "98    festschreiben  0.002  abgabenlast  0.002   rentenalter  0.002   \n",
       "99  kulturpolitisch  0.002        bauer  0.002       taktung  0.002   \n",
       "\n",
       "            3_word  3_per           4_word  4_per      5_word  5_per  \\\n",
       "0   landwirtschaft  0.025          fordern  0.074      setzen  0.032   \n",
       "1         regional  0.022              nur  0.030         ein  0.025   \n",
       "2           mensch  0.018          familie  0.020     deshalb  0.015   \n",
       "3       europaisch  0.015          bleiben  0.017        wald  0.012   \n",
       "4          starken  0.015            daher  0.016       dafur  0.011   \n",
       "..             ...    ...              ...    ...         ...    ...   \n",
       "95   konventionell  0.002             last  0.002   gesondert  0.002   \n",
       "96           islam  0.002      beteiligter  0.002  gesicherte  0.002   \n",
       "97        entweren  0.002       festgelegt  0.002      zensur  0.002   \n",
       "98      aufheizung  0.002           wirken  0.002     werbung  0.002   \n",
       "99      verstarken  0.002  rahmenbedingung  0.002     streben  0.002   \n",
       "\n",
       "             6_word  6_per                                 7_word  7_per  \\\n",
       "0            paypal  0.115                                 ausbau  0.020   \n",
       "1   alternativefuer  0.115                                digital  0.020   \n",
       "2           spenden  0.115                                     eu  0.017   \n",
       "3            burger  0.020                             versorgung  0.017   \n",
       "4              land  0.013  klima_energie_technik_digitalisierung  0.016   \n",
       "..              ...    ...                                    ...    ...   \n",
       "95  ungerechtigkeit  0.001                                 anteil  0.002   \n",
       "96              app  0.001                                 fachen  0.002   \n",
       "97          endlich  0.001                              erwarmung  0.002   \n",
       "98   grundsicherung  0.001                              emissione  0.002   \n",
       "99              oft  0.001                                konzern  0.002   \n",
       "\n",
       "        8_word  8_per  \n",
       "0         auch  0.063  \n",
       "1       lehnen  0.033  \n",
       "2         hoch  0.019  \n",
       "3       fuhren  0.017  \n",
       "4       sozial  0.017  \n",
       "..         ...    ...  \n",
       "95         wie  0.002  \n",
       "96      zugute  0.002  \n",
       "97      derart  0.002  \n",
       "98      zugang  0.002  \n",
       "99  enteignung  0.002  \n",
       "\n",
       "[100 rows x 18 columns]"
      ]
     },
     "execution_count": 115,
     "metadata": {},
     "output_type": "execute_result"
    }
   ],
   "source": [
    "pd.DataFrame(data=dic)"
   ]
  },
  {
   "cell_type": "code",
   "execution_count": 116,
   "metadata": {},
   "outputs": [
    {
     "name": "stderr",
     "output_type": "stream",
     "text": [
      "/opt/anaconda3/envs/NLP_spacy/lib/python3.9/site-packages/pyLDAvis/_prepare.py:246: FutureWarning: In a future version of pandas all arguments of DataFrame.drop except for the argument 'labels' will be keyword-only.\n",
      "  default_term_info = default_term_info.sort_values(\n",
      "/opt/anaconda3/envs/NLP_spacy/lib/python3.9/site-packages/past/builtins/misc.py:45: DeprecationWarning: the imp module is deprecated in favour of importlib; see the module's documentation for alternative uses\n",
      "  from imp import reload\n",
      "/opt/anaconda3/envs/NLP_spacy/lib/python3.9/site-packages/past/builtins/misc.py:45: DeprecationWarning: the imp module is deprecated in favour of importlib; see the module's documentation for alternative uses\n",
      "  from imp import reload\n",
      "/opt/anaconda3/envs/NLP_spacy/lib/python3.9/site-packages/past/builtins/misc.py:45: DeprecationWarning: the imp module is deprecated in favour of importlib; see the module's documentation for alternative uses\n",
      "  from imp import reload\n",
      "/opt/anaconda3/envs/NLP_spacy/lib/python3.9/site-packages/past/builtins/misc.py:45: DeprecationWarning: the imp module is deprecated in favour of importlib; see the module's documentation for alternative uses\n",
      "  from imp import reload\n",
      "/opt/anaconda3/envs/NLP_spacy/lib/python3.9/site-packages/past/builtins/misc.py:45: DeprecationWarning: the imp module is deprecated in favour of importlib; see the module's documentation for alternative uses\n",
      "  from imp import reload\n",
      "/opt/anaconda3/envs/NLP_spacy/lib/python3.9/site-packages/past/builtins/misc.py:45: DeprecationWarning: the imp module is deprecated in favour of importlib; see the module's documentation for alternative uses\n",
      "  from imp import reload\n",
      "/opt/anaconda3/envs/NLP_spacy/lib/python3.9/site-packages/past/builtins/misc.py:45: DeprecationWarning: the imp module is deprecated in favour of importlib; see the module's documentation for alternative uses\n",
      "  from imp import reload\n",
      "/opt/anaconda3/envs/NLP_spacy/lib/python3.9/site-packages/past/builtins/misc.py:45: DeprecationWarning: the imp module is deprecated in favour of importlib; see the module's documentation for alternative uses\n",
      "  from imp import reload\n",
      "/opt/anaconda3/envs/NLP_spacy/lib/python3.9/site-packages/past/builtins/misc.py:45: DeprecationWarning: the imp module is deprecated in favour of importlib; see the module's documentation for alternative uses\n",
      "  from imp import reload\n"
     ]
    },
    {
     "data": {
      "text/html": [
       "\n",
       "<link rel=\"stylesheet\" type=\"text/css\" href=\"https://cdn.jsdelivr.net/gh/bmabey/pyLDAvis@3.3.1/pyLDAvis/js/ldavis.v1.0.0.css\">\n",
       "\n",
       "\n",
       "<div id=\"ldavis_el574971403162772223048970549141\"></div>\n",
       "<script type=\"text/javascript\">\n",
       "\n",
       "var ldavis_el574971403162772223048970549141_data = {\"mdsDat\": {\"x\": [-0.10026596165508843, 0.29405468564309095, -0.24125680303196084, 0.05778381891112739, 0.0992177989395188, -0.1498932610222978, -0.21011591923206754, 0.03407585289158243, 0.21639978855609515], \"y\": [0.35109525666281466, 0.09238311702380561, 0.10545983761567772, -0.2727118731753442, 0.18534876402796496, -0.22367364120441666, -0.06653752380179352, -0.034137363417117386, -0.13722657373159125], \"topics\": [1, 2, 3, 4, 5, 6, 7, 8, 9], \"cluster\": [1, 1, 1, 1, 1, 1, 1, 1, 1], \"Freq\": [16.098735330092918, 14.714888259305278, 13.28903707580548, 10.686050792824814, 10.054407819199307, 9.554732085036251, 8.970946920832464, 8.434544672095203, 8.196657044808287]}, \"tinfo\": {\"Term\": [\"spenden\", \"alternativefuer\", \"paypal\", \"fordern\", \"auch\", \"deutsch\", \"lehnen\", \"nur\", \"setzen\", \"gut\", \"ein\", \"offentlich\", \"burger\", \"familie\", \"hoch\", \"landwirtschaft\", \"erhalten\", \"fuhren\", \"sozial\", \"ausbau\", \"digital\", \"regional\", \"bleiben\", \"stehen\", \"wieder\", \"daher\", \"kultur\", \"eu\", \"versorgung\", \"mensch\", \"alternativefuer\", \"paypal\", \"spenden\", \"burger\", \"land\", \"kind\", \"staatlich\", \"forderung\", \"politisch\", \"weit\", \"sicherheit\", \"anderer\", \"gelten\", \"immer\", \"technik\", \"verantwortung\", \"stark\", \"bringen\", \"bund\", \"sichern\", \"mobilitat_infrastruktur\", \"weiter\", \"entscheiden\", \"hand\", \"geben\", \"entscheidung\", \"mehr\", \"partei\", \"aber\", \"arbeit\", \"jedoch\", \"auch\", \"lehnen\", \"hoch\", \"fuhren\", \"sozial\", \"stehen\", \"moglich\", \"noch\", \"heimisch\", \"schutz\", \"staat\", \"gewahrleisten\", \"schaffen\", \"landwirt\", \"tier\", \"standard\", \"wichtig\", \"eigen\", \"freiheit\", \"haben\", \"machen\", \"gesetzlich\", \"struktur\", \"selbst\", \"grundlage\", \"international\", \"nehmen\", \"gesundheitlich\", \"praxis\", \"einkommen\", \"jahr\", \"jedoch\", \"fordern\", \"nur\", \"familie\", \"bleiben\", \"daher\", \"unterstutzen\", \"damit\", \"afd\", \"dabei\", \"ideologisch\", \"medium\", \"politik\", \"produkt\", \"lebensmittel\", \"nutzen\", \"beruf\", \"bedarf\", \"industrie\", \"flachendeckend\", \"erfolgen\", \"verwaltung\", \"sprechen\", \"bundesweit\", \"gesund\", \"hier\", \"produktion\", \"unabhangig\", \"umsetzung\", \"energietrager\", \"sinn\", \"verbraucher\", \"setzen\", \"ein\", \"deshalb\", \"wald\", \"dafur\", \"bereich\", \"einrichtung\", \"grund\", \"wirtschaft\", \"konsequent\", \"rahmen\", \"zahlen\", \"mittel\", \"flache\", \"entsprechend\", \"wert\", \"beitrag\", \"leisten\", \"voraussetzung\", \"brauchen\", \"technisch\", \"entwicklung\", \"sehen\", \"vermeiden\", \"finanzierung\", \"wirkung\", \"krankenhaus\", \"intakt\", \"bewahrung\", \"etwa\", \"ausbau\", \"digital\", \"eu\", \"versorgung\", \"klima_energie_technik_digitalisierung\", \"digitalisierung\", \"ziel\", \"infrastruktur\", \"verhindern\", \"gesellschaft\", \"gehoren\", \"energie\", \"behorde\", \"kommen\", \"teil\", \"steuer\", \"gro\\u00df\", \"zunehmend\", \"erneuerbar\", \"agrarpolitik\", \"liegen\", \"verursachen\", \"sauber\", \"deutlich\", \"bundesregierung\", \"orientieren\", \"gleich\", \"plattform\", \"bauen_wohnen_miete\", \"grundsatzlich\", \"eigentum\", \"bevolkerung\", \"deutsch\", \"gut\", \"kultur\", \"sprache\", \"schule\", \"identitat\", \"leben\", \"grundgesetz\", \"recht\", \"entlasten\", \"integration\", \"prinzip\", \"arbeitsplatz\", \"erreichen\", \"richten\", \"verbessern\", \"streichen\", \"bekennen\", \"pragen\", \"trager\", \"betrieb\", \"netz\", \"souveranitat\", \"wesentlich\", \"sozialpolitik\", \"unrealistisch\", \"treffen\", \"besonderer\", \"freihalten\", \"angst\", \"patient\", \"offentlich\", \"erhalten\", \"frei\", \"neu\", \"nutzung\", \"notwendig\", \"art\", \"gebiet\", \"leistung\", \"generell\", \"befurworten\", \"finanziell\", \"region\", \"bestehend\", \"form\", \"schaden\", \"internet\", \"stream\", \"fortschritt\", \"mindestens\", \"rechtlich\", \"ort\", \"gestalten\", \"okologisch\", \"mafsnahm\", \"abschiebung\", \"moglichkeit\", \"gerecht\", \"fahrzeug\", \"alternative\", \"co\", \"wieder\", \"dazu\", \"ermoglichen\", \"landlich\", \"national\", \"schutzen\", \"aufgabe\", \"stellen\", \"so\", \"abschaffung\", \"heimat\", \"eltern\", \"sogenannter\", \"rente\", \"it\", \"einfuhren\", \"grundlegend\", \"zentral\", \"betrachten\", \"vollstandig\", \"schaffung\", \"ausweisung\", \"einstieg\", \"daraus\", \"historisch\", \"reduzieren\", \"ausstatten\", \"un\", \"einseitig\", \"reform\", \"insbesondere\", \"landwirtschaft\", \"regional\", \"mensch\", \"europaisch\", \"starken\", \"bildung\", \"kommune\", \"natur\", \"klima\", \"zudem\", \"sicherstellen\", \"inhalt\", \"grundrecht\", \"bewahren\", \"ausbauen\", \"bereits\", \"daseinsvorsorge\", \"bevorzugen\", \"maf\\u00dfnahme\", \"jahrzehnt\", \"mikroklima\", \"familienpolitik\", \"pauschal\", \"bedeutung\", \"flugverkehr\", \"erfullung\", \"verbotspolitik\", \"forschung\", \"person\", \"kulturell\"], \"Freq\": [249.0, 249.0, 249.0, 132.0, 124.0, 73.0, 66.0, 53.0, 46.0, 35.0, 36.0, 32.0, 43.0, 36.0, 37.0, 27.0, 28.0, 35.0, 35.0, 28.0, 28.0, 24.0, 30.0, 31.0, 23.0, 28.0, 23.0, 23.0, 23.0, 20.0, 248.94663908731408, 248.94663908731408, 248.94663908731408, 42.54343949707013, 27.87614470522498, 26.294270485022757, 23.014081240270972, 19.616360424916454, 18.382334174972684, 15.981393931456848, 15.909278814387026, 15.89966982657356, 14.977865875544698, 14.134337962589923, 13.370037243919057, 12.408160187864405, 12.082364578474822, 10.81581722302125, 10.564297171047132, 10.41148343007631, 9.976646348755178, 9.340590011810539, 9.259822085081156, 9.239070407730466, 9.044902965992014, 8.662780227349053, 8.402071022087027, 8.34679900328604, 7.588902769907593, 7.463296917603963, 7.777214624842185, 124.02591720751765, 65.5230296245163, 37.06276267433578, 34.34250243416526, 34.2645084451525, 30.870872068663953, 22.445699840975006, 20.924541639755798, 20.10648424852399, 18.8825323897295, 18.692739916866326, 15.894100106024482, 15.867197522875205, 15.87222293715855, 15.641621235993725, 15.579063366045665, 15.33173660141464, 15.01062052395239, 14.778521480680123, 13.48391086490136, 13.226388219555897, 11.785768846296, 11.423501107297225, 11.230720376580145, 10.79451735455083, 10.499489548497023, 10.484304057510393, 10.365779009821091, 10.137104298897542, 9.634744644773527, 13.23304225732091, 12.76588804472735, 131.5943508767924, 53.11537460530774, 35.86175206312647, 29.730700239589012, 27.741001353627755, 18.932005030316674, 18.914872637857027, 18.815761117366737, 16.89014288438681, 15.448455043644723, 15.040706756204958, 13.402280781320037, 13.248926633832067, 13.02258487961741, 12.798223001186418, 11.420182197414414, 11.264184899173378, 10.881903883277507, 10.773208868573073, 10.227210862886041, 9.955408242268582, 9.437232963360533, 9.180648357822289, 8.74859767550364, 8.689582785101114, 8.33731247428954, 8.214613237699899, 7.943313047871763, 7.79936828491847, 7.582074430380165, 10.718256537358133, 45.93056455341877, 36.128691402869514, 21.62513021092109, 17.79502749978739, 15.78629746526749, 15.283707939204833, 14.961579475677846, 14.145705864895646, 13.543141390208788, 13.054828475617756, 12.946379830729224, 12.108165263077028, 10.565953209664514, 10.454652442618723, 9.826252194711154, 9.687668925814155, 9.669789493365945, 9.446833277416562, 9.42234822871446, 9.258565213837992, 9.249862174417492, 9.024902539327725, 9.003744966475761, 8.20788687963122, 7.815496073413338, 7.615273497819372, 7.520195425596546, 7.5113583804365405, 7.392171275616497, 7.264195127692391, 27.604677885510995, 27.334525250168543, 23.229079380766002, 22.463229140514777, 21.154418949052655, 19.091883983919526, 17.678952856307166, 17.443731350400103, 16.09791872631336, 14.366379516309632, 13.854763864844228, 13.15282041632914, 12.835434289907678, 12.295011089180507, 9.680048523219554, 9.03943371498459, 8.880750061085742, 8.6487534400048, 8.216945062783312, 7.9959567093183175, 7.792176732712874, 7.799740564892091, 7.685401743324097, 7.653807783169969, 7.222300503928746, 7.167710812819406, 6.890257178743011, 6.747731195210085, 6.688174642001306, 6.553948926124328, 6.563797966516257, 7.498188428507768, 72.7326437886225, 34.69754874358026, 22.776408637223998, 18.099718236050403, 17.080747642318546, 16.520819856125634, 15.12997606468578, 11.834540380591505, 10.83235752229054, 10.238462022855561, 9.72012862013775, 9.183800353083162, 9.004518760207095, 8.869962932604952, 7.789595676324106, 7.445439350521327, 7.321032943537264, 7.303299772825023, 6.732445830722983, 6.636959847871783, 6.618938754561248, 6.521017649941879, 6.48435312130711, 6.186121344101582, 6.121741731900716, 6.020247525719925, 5.965976202337382, 5.9184648008278, 5.893596753140474, 5.717529997888822, 5.733246518186934, 31.808863418952768, 28.057672674209336, 19.16592073275168, 15.669293168272159, 14.741365634504257, 14.023183457069434, 13.785306907040223, 12.55653645594371, 11.86800223506596, 11.622427693749163, 11.409020838288312, 11.33075923281041, 10.659592226535958, 10.55758180861696, 9.753540778813319, 9.650365084039535, 9.150203295741845, 8.363549629420834, 8.035128493195579, 7.696192440413693, 7.238354492538221, 6.966181751427916, 6.948446260085688, 6.543552291114471, 6.307219928809736, 6.229974162664899, 6.212933807659677, 6.021333636548608, 5.871133815556972, 5.5791401740934194, 8.78926914425651, 22.641013307725103, 16.59383491367155, 14.793528594090665, 14.590315105124846, 14.450104470275644, 14.383755875497238, 14.259406724609606, 13.941820264602995, 13.884951092957884, 13.656878719301448, 12.654612060033237, 10.287305312218756, 9.634252307869847, 9.444103941450571, 9.401973288908229, 9.247036764364228, 9.013469545789514, 8.502341618421944, 8.368213622187026, 8.268499710223848, 7.732605513824119, 7.642372077444899, 7.428402016464666, 7.354350535274295, 6.976447601471679, 6.8871597920143275, 6.661402809819338, 6.117920970355382, 5.95810423208105, 5.945515869685433, 15.090465972063834, 27.023792892869135, 24.099833914555997, 20.178257406576797, 16.767925491998316, 16.280133977377567, 14.372450874035234, 13.91036252642942, 10.921902723326307, 8.763308189833722, 8.509569830646454, 7.77640977368881, 7.670169300756579, 7.56947989777674, 7.55047227741189, 7.3815080380116145, 6.952539966457078, 7.066297268245155, 6.607997251013115, 6.4805190134449715, 6.463382034617279, 6.478107839347732, 6.215663172842226, 5.927685630090476, 5.845419335918088, 5.484690815309394, 5.485431810275862, 5.355748486237455, 5.091396869952817, 5.025874811934382, 4.925560253199141], \"Total\": [249.0, 249.0, 249.0, 132.0, 124.0, 73.0, 66.0, 53.0, 46.0, 35.0, 36.0, 32.0, 43.0, 36.0, 37.0, 27.0, 28.0, 35.0, 35.0, 28.0, 28.0, 24.0, 30.0, 31.0, 23.0, 28.0, 23.0, 23.0, 23.0, 20.0, 249.7218514792158, 249.7218514792158, 249.7218514792158, 43.31868888182981, 28.651110006056708, 27.069416908616983, 23.78899199071266, 20.391370164135715, 19.157353207873435, 16.75642738584262, 16.684627881489277, 16.67471522788317, 15.75287556265675, 14.909504902875742, 14.146412143314842, 13.183255059818784, 12.857437163521805, 11.591018115160782, 11.339741434391287, 11.186686325206201, 10.76617394086745, 10.115501762136034, 10.034671473605005, 10.014197544664913, 9.820052353264801, 9.437667322772132, 9.177036553661797, 9.12174509161535, 8.363832768560732, 8.238721851899285, 21.211334973627416, 124.77128774987666, 66.26855085922635, 37.808064085864345, 35.08790586868915, 35.00979685674288, 31.616250345295477, 23.1911744332667, 21.669909982267683, 20.85197822692653, 19.628317284483224, 19.437957895728985, 16.63959764279175, 16.612523131718156, 16.620809140429444, 16.38771328894094, 16.324666931394823, 16.07713911563886, 15.755874316616033, 15.523847720132043, 14.229259113837758, 13.97178097367695, 12.531031025787538, 12.169048421145414, 11.976103640129612, 11.539933849805044, 11.244839169738459, 11.229710836642955, 11.113610194301874, 10.882629867595815, 10.380267233462412, 18.94709661242059, 21.211334973627416, 132.33616473851538, 53.85723070397768, 36.603505471342594, 30.472594743565402, 28.482734187130934, 19.67391512386847, 19.656668582346946, 19.5576643429874, 17.63188148401798, 16.190696531433343, 15.783122557595412, 14.144050134954831, 13.991101746537213, 13.772862919744497, 13.540798795269296, 12.161854230574336, 12.006019522029867, 11.624126652589903, 11.516543163894903, 10.96900896242344, 10.69763791744994, 10.179254864085344, 9.923632923705538, 9.491801373471132, 9.431363424650142, 9.081458488991338, 8.956549006375283, 8.68554336715007, 8.545462980657135, 8.324226201047422, 15.310133990744085, 46.68197535484191, 36.88005543581232, 22.376635963984196, 18.547129035073954, 16.537637932149593, 16.035360622516748, 15.713261640641765, 14.897173939152475, 14.294667061307054, 13.806687576785421, 13.697892492854923, 12.859960118582388, 11.317651309722184, 11.206430598953329, 10.57773513890483, 10.439154691557109, 10.421236793035568, 10.198247619102425, 10.173763947087302, 10.010132342252044, 10.00141472690053, 9.776279997454795, 9.755432414240293, 8.959616923997071, 8.56689467638369, 8.366976268079423, 8.271607059994075, 8.266522651198619, 8.143902921480068, 8.016043630778064, 28.36493164317166, 28.09561463057549, 23.988927719040607, 23.2235111683174, 21.91585986959976, 19.85190133122328, 18.438815530663256, 18.204260689105887, 16.857833904677324, 15.12632003338758, 14.614839615082246, 13.91361688856362, 13.595475168977783, 13.054964439926676, 10.439941702092662, 9.79990180700115, 9.640671304082394, 9.408606211742311, 8.981479188709178, 8.764666553363089, 8.551997436129211, 8.560442616992875, 8.445734945585148, 8.413791024950319, 7.982186540606277, 7.927752145963853, 7.653376527540175, 7.511606793652419, 7.450432524873688, 7.313797214293633, 7.3254979769907855, 10.362002394264676, 73.4857121266701, 35.45096675249493, 23.529620419281688, 18.852772640019083, 17.83388244134259, 17.274028335792053, 15.883194602991622, 12.587789301434015, 11.585444969482037, 10.991699349300262, 10.473419917950986, 9.93751954520654, 9.758328024421905, 9.623241838921853, 8.543056775382777, 8.19948542057993, 8.074577740968579, 8.056346339850489, 7.486076428564499, 7.3904385398225205, 7.372946906440311, 7.275577818972451, 7.2392800670010855, 6.9396509195052, 6.87547203736269, 6.778772239385047, 6.719499425029814, 6.671614088850721, 6.650457905448886, 6.471711821828288, 6.490994842552698, 32.568565921256805, 28.817398653877447, 19.925531884360037, 16.429140697069524, 15.501542580444747, 14.78290727619207, 14.545593186708766, 13.316327192715196, 12.627907324120603, 12.382621804378452, 12.168903112201312, 12.09055656397359, 11.4199005354014, 11.317562373412779, 10.513227647091883, 10.410245099760065, 9.910123553922414, 9.123409662906798, 8.798316390643857, 8.456078883718563, 7.9979050134243, 7.726411216870225, 7.708041607963216, 7.304650450016357, 7.066846472519549, 6.9895795251833865, 6.972641673186398, 6.7809807757734255, 6.652209176124604, 6.338687442160179, 13.272661014036206, 23.40228851086073, 17.355310012744653, 15.555077271676817, 15.351819175187265, 15.211447367475126, 15.145400593891525, 15.020868503258136, 14.703110902799487, 14.646272795305638, 14.418333665200857, 13.416595443982176, 11.048787206520705, 10.395756322975163, 10.205674260652286, 10.164484231223087, 10.00845808004439, 9.775192495223745, 9.263983584188319, 9.129512463301497, 9.029996369671041, 8.49403510838935, 8.403670267360669, 8.190580063139487, 8.115927301292142, 7.738520070748941, 7.64863922258101, 7.423111032815663, 6.879769056078926, 6.719497948863705, 6.706675717510609, 17.659482983366367, 27.793419049400878, 24.86885069931, 20.946963607886786, 17.536605084253935, 17.048624107227486, 15.14113306087799, 14.679596631868707, 11.6924257584546, 9.53918725867165, 9.27840765948873, 8.544967598483026, 8.438899767325761, 8.338326774153288, 8.319336792556152, 8.15036845854923, 7.721059601362893, 7.866253696250595, 7.3769423535954175, 7.2502788451073705, 7.232189193241143, 7.274294468046782, 6.984333917007597, 6.69762229645673, 6.616044502175561, 6.255614957765827, 6.257392429309802, 6.135932198227748, 5.860212703769443, 5.794436129590615, 5.694080796084689], \"Category\": [\"Default\", \"Default\", \"Default\", \"Default\", \"Default\", \"Default\", \"Default\", \"Default\", \"Default\", \"Default\", \"Default\", \"Default\", \"Default\", \"Default\", \"Default\", \"Default\", \"Default\", \"Default\", \"Default\", \"Default\", \"Default\", \"Default\", \"Default\", \"Default\", \"Default\", \"Default\", \"Default\", \"Default\", \"Default\", \"Default\", \"Topic1\", \"Topic1\", \"Topic1\", \"Topic1\", \"Topic1\", \"Topic1\", \"Topic1\", \"Topic1\", \"Topic1\", \"Topic1\", \"Topic1\", \"Topic1\", \"Topic1\", \"Topic1\", \"Topic1\", \"Topic1\", \"Topic1\", \"Topic1\", \"Topic1\", \"Topic1\", \"Topic1\", \"Topic1\", \"Topic1\", \"Topic1\", \"Topic1\", \"Topic1\", \"Topic1\", \"Topic1\", \"Topic1\", \"Topic1\", \"Topic1\", \"Topic2\", \"Topic2\", \"Topic2\", \"Topic2\", \"Topic2\", \"Topic2\", \"Topic2\", \"Topic2\", \"Topic2\", \"Topic2\", \"Topic2\", \"Topic2\", \"Topic2\", \"Topic2\", \"Topic2\", \"Topic2\", \"Topic2\", \"Topic2\", \"Topic2\", \"Topic2\", \"Topic2\", \"Topic2\", \"Topic2\", \"Topic2\", \"Topic2\", \"Topic2\", \"Topic2\", \"Topic2\", \"Topic2\", \"Topic2\", \"Topic2\", \"Topic2\", \"Topic3\", \"Topic3\", \"Topic3\", \"Topic3\", \"Topic3\", \"Topic3\", \"Topic3\", \"Topic3\", \"Topic3\", \"Topic3\", \"Topic3\", \"Topic3\", \"Topic3\", \"Topic3\", \"Topic3\", \"Topic3\", \"Topic3\", \"Topic3\", \"Topic3\", \"Topic3\", \"Topic3\", \"Topic3\", \"Topic3\", \"Topic3\", \"Topic3\", \"Topic3\", \"Topic3\", \"Topic3\", \"Topic3\", \"Topic3\", \"Topic3\", \"Topic4\", \"Topic4\", \"Topic4\", \"Topic4\", \"Topic4\", \"Topic4\", \"Topic4\", \"Topic4\", \"Topic4\", \"Topic4\", \"Topic4\", \"Topic4\", \"Topic4\", \"Topic4\", \"Topic4\", \"Topic4\", \"Topic4\", \"Topic4\", \"Topic4\", \"Topic4\", \"Topic4\", \"Topic4\", \"Topic4\", \"Topic4\", \"Topic4\", \"Topic4\", \"Topic4\", \"Topic4\", \"Topic4\", \"Topic4\", \"Topic5\", \"Topic5\", \"Topic5\", \"Topic5\", \"Topic5\", \"Topic5\", \"Topic5\", \"Topic5\", \"Topic5\", \"Topic5\", \"Topic5\", \"Topic5\", \"Topic5\", \"Topic5\", \"Topic5\", \"Topic5\", \"Topic5\", \"Topic5\", \"Topic5\", \"Topic5\", \"Topic5\", \"Topic5\", \"Topic5\", \"Topic5\", \"Topic5\", \"Topic5\", \"Topic5\", \"Topic5\", \"Topic5\", \"Topic5\", \"Topic5\", \"Topic5\", \"Topic6\", \"Topic6\", \"Topic6\", \"Topic6\", \"Topic6\", \"Topic6\", \"Topic6\", \"Topic6\", \"Topic6\", \"Topic6\", \"Topic6\", \"Topic6\", \"Topic6\", \"Topic6\", \"Topic6\", \"Topic6\", \"Topic6\", \"Topic6\", \"Topic6\", \"Topic6\", \"Topic6\", \"Topic6\", \"Topic6\", \"Topic6\", \"Topic6\", \"Topic6\", \"Topic6\", \"Topic6\", \"Topic6\", \"Topic6\", \"Topic6\", \"Topic7\", \"Topic7\", \"Topic7\", \"Topic7\", \"Topic7\", \"Topic7\", \"Topic7\", \"Topic7\", \"Topic7\", \"Topic7\", \"Topic7\", \"Topic7\", \"Topic7\", \"Topic7\", \"Topic7\", \"Topic7\", \"Topic7\", \"Topic7\", \"Topic7\", \"Topic7\", \"Topic7\", \"Topic7\", \"Topic7\", \"Topic7\", \"Topic7\", \"Topic7\", \"Topic7\", \"Topic7\", \"Topic7\", \"Topic7\", \"Topic7\", \"Topic8\", \"Topic8\", \"Topic8\", \"Topic8\", \"Topic8\", \"Topic8\", \"Topic8\", \"Topic8\", \"Topic8\", \"Topic8\", \"Topic8\", \"Topic8\", \"Topic8\", \"Topic8\", \"Topic8\", \"Topic8\", \"Topic8\", \"Topic8\", \"Topic8\", \"Topic8\", \"Topic8\", \"Topic8\", \"Topic8\", \"Topic8\", \"Topic8\", \"Topic8\", \"Topic8\", \"Topic8\", \"Topic8\", \"Topic8\", \"Topic8\", \"Topic9\", \"Topic9\", \"Topic9\", \"Topic9\", \"Topic9\", \"Topic9\", \"Topic9\", \"Topic9\", \"Topic9\", \"Topic9\", \"Topic9\", \"Topic9\", \"Topic9\", \"Topic9\", \"Topic9\", \"Topic9\", \"Topic9\", \"Topic9\", \"Topic9\", \"Topic9\", \"Topic9\", \"Topic9\", \"Topic9\", \"Topic9\", \"Topic9\", \"Topic9\", \"Topic9\", \"Topic9\", \"Topic9\", \"Topic9\"], \"logprob\": [30.0, 29.0, 28.0, 27.0, 26.0, 25.0, 24.0, 23.0, 22.0, 21.0, 20.0, 19.0, 18.0, 17.0, 16.0, 15.0, 14.0, 13.0, 12.0, 11.0, 10.0, 9.0, 8.0, 7.0, 6.0, 5.0, 4.0, 3.0, 2.0, 1.0, -2.1592, -2.1592, -2.1592, -3.9259, -4.3487, -4.4071, -4.5403, -4.7001, -4.765, -4.905, -4.9095, -4.9101, -4.9699, -5.0278, -5.0834, -5.1581, -5.1847, -5.2954, -5.319, -5.3335, -5.3762, -5.4421, -5.4507, -5.453, -5.4742, -5.5174, -5.548, -5.5546, -5.6497, -5.6664, -5.6252, -2.7661, -3.4041, -3.9739, -4.0502, -4.0524, -4.1567, -4.4755, -4.5456, -4.5855, -4.6483, -4.6584, -4.8206, -4.8223, -4.822, -4.8366, -4.8406, -4.8566, -4.8778, -4.8934, -4.9851, -5.0043, -5.1197, -5.1509, -5.1679, -5.2075, -5.2352, -5.2367, -5.248, -5.2703, -5.3212, -5.0038, -5.0398, -2.6049, -3.5122, -3.905, -4.0924, -4.1617, -4.5438, -4.5447, -4.5499, -4.6579, -4.7471, -4.7739, -4.8892, -4.9007, -4.9179, -4.9353, -5.0492, -5.063, -5.0975, -5.1076, -5.1596, -5.1865, -5.24, -5.2675, -5.3157, -5.3225, -5.3639, -5.3787, -5.4123, -5.4306, -5.4588, -5.1127, -3.4395, -3.6795, -4.1928, -4.3877, -4.5075, -4.5398, -4.5611, -4.6172, -4.6607, -4.6975, -4.7058, -4.7727, -4.909, -4.9196, -4.9816, -4.9958, -4.9976, -5.021, -5.0235, -5.0411, -5.042, -5.0666, -5.069, -5.1615, -5.2105, -5.2365, -5.249, -5.2502, -5.2662, -5.2837, -3.8877, -3.8976, -4.0603, -4.0938, -4.1539, -4.2564, -4.3333, -4.3467, -4.427, -4.5408, -4.5771, -4.6291, -4.6535, -4.6965, -4.9356, -5.0041, -5.0218, -5.0483, -5.0995, -5.1268, -5.1526, -5.1516, -5.1664, -5.1705, -5.2285, -5.2361, -5.2756, -5.2965, -5.3054, -5.3256, -5.3241, -5.191, -2.8679, -3.6081, -4.029, -4.2588, -4.3168, -4.3501, -4.438, -4.6837, -4.7722, -4.8286, -4.8805, -4.9373, -4.957, -4.9721, -5.1019, -5.1471, -5.164, -5.1664, -5.2478, -5.2621, -5.2648, -5.2797, -5.2853, -5.3324, -5.3429, -5.3596, -5.3687, -5.3766, -5.3809, -5.4112, -5.4084, -3.6319, -3.7574, -4.1385, -4.34, -4.401, -4.451, -4.4681, -4.5614, -4.6178, -4.6387, -4.6573, -4.6642, -4.7252, -4.7348, -4.8141, -4.8247, -4.8779, -4.9678, -5.0079, -5.051, -5.1123, -5.1506, -5.1532, -5.2132, -5.25, -5.2623, -5.265, -5.2964, -5.3216, -5.3726, -4.9182, -3.9103, -4.221, -4.3358, -4.3497, -4.3593, -4.3639, -4.3726, -4.3951, -4.3992, -4.4158, -4.492, -4.6991, -4.7647, -4.7846, -4.7891, -4.8057, -4.8313, -4.8897, -4.9056, -4.9176, -4.9846, -4.9963, -5.0247, -5.0347, -5.0875, -5.1004, -5.1337, -5.2188, -5.2453, -5.2474, -4.316, -3.7047, -3.8192, -3.9968, -4.1819, -4.2115, -4.3361, -4.3688, -4.6106, -4.8308, -4.8602, -4.9503, -4.9641, -4.9773, -4.9798, -5.0024, -5.0623, -5.0461, -5.1131, -5.1326, -5.1353, -5.133, -5.1743, -5.2218, -5.2358, -5.2995, -5.2993, -5.3232, -5.3739, -5.3868, -5.407], \"loglift\": [30.0, 29.0, 28.0, 27.0, 26.0, 25.0, 24.0, 23.0, 22.0, 21.0, 20.0, 19.0, 18.0, 17.0, 16.0, 15.0, 14.0, 13.0, 12.0, 11.0, 10.0, 9.0, 8.0, 7.0, 6.0, 5.0, 4.0, 3.0, 2.0, 1.0, 1.8233, 1.8233, 1.8233, 1.8084, 1.799, 1.7974, 1.7933, 1.7877, 1.7851, 1.7791, 1.7788, 1.7788, 1.776, 1.773, 1.77, 1.7658, 1.7643, 1.7572, 1.7556, 1.7546, 1.7503, 1.7467, 1.7461, 1.7459, 1.7442, 1.7408, 1.7382, 1.7376, 1.7292, 1.7276, 0.8231, 1.9103, 1.905, 1.8964, 1.8948, 1.8948, 1.8925, 1.8836, 1.8813, 1.8799, 1.8776, 1.8772, 1.8705, 1.8704, 1.8702, 1.8697, 1.8696, 1.8688, 1.8679, 1.8671, 1.8625, 1.8615, 1.855, 1.8531, 1.8521, 1.8495, 1.8477, 1.8476, 1.8466, 1.8453, 1.8418, 1.5574, 1.4086, 2.0126, 2.0044, 1.9978, 1.9936, 1.9918, 1.9798, 1.9798, 1.9796, 1.9753, 1.9713, 1.97, 1.9644, 1.9637, 1.9622, 1.9618, 1.9553, 1.9545, 1.9522, 1.9515, 1.9482, 1.9463, 1.9425, 1.9404, 1.9367, 1.9363, 1.9327, 1.9318, 1.9289, 1.9269, 1.9248, 1.6617, 2.22, 2.2156, 2.2021, 2.1948, 2.1897, 2.1882, 2.1872, 2.1845, 2.1822, 2.1802, 2.1798, 2.176, 2.1675, 2.1668, 2.1625, 2.1615, 2.1614, 2.1597, 2.1595, 2.1582, 2.1581, 2.1563, 2.156, 2.1486, 2.1444, 2.1421, 2.141, 2.1404, 2.1394, 2.1377, 2.27, 2.2697, 2.265, 2.2639, 2.2618, 2.2581, 2.2551, 2.2545, 2.251, 2.2456, 2.2438, 2.2409, 2.2396, 2.2372, 2.2216, 2.2164, 2.2151, 2.2129, 2.2082, 2.2054, 2.2041, 2.2041, 2.2028, 2.2025, 2.1971, 2.1964, 2.1921, 2.1899, 2.1892, 2.1875, 2.1874, 1.9737, 2.3378, 2.3267, 2.3156, 2.3074, 2.305, 2.3036, 2.2995, 2.2864, 2.2809, 2.2771, 2.2735, 2.2693, 2.2677, 2.2666, 2.2558, 2.2517, 2.2502, 2.25, 2.242, 2.2406, 2.2403, 2.2386, 2.238, 2.2332, 2.232, 2.2295, 2.2292, 2.2283, 2.2273, 2.2242, 2.224, 2.3876, 2.3845, 2.3723, 2.3638, 2.3609, 2.3584, 2.3575, 2.3524, 2.3491, 2.3478, 2.3467, 2.3463, 2.3423, 2.3417, 2.3362, 2.3354, 2.3314, 2.3242, 2.3204, 2.317, 2.3114, 2.3076, 2.3074, 2.3011, 2.2975, 2.2961, 2.2958, 2.2924, 2.2863, 2.2835, 1.999, 2.4398, 2.428, 2.4226, 2.422, 2.4215, 2.4212, 2.4208, 2.4197, 2.4195, 2.4186, 2.4144, 2.4014, 2.3968, 2.3953, 2.3949, 2.3937, 2.3917, 2.387, 2.3858, 2.3847, 2.3789, 2.3779, 2.3752, 2.3743, 2.3692, 2.368, 2.3646, 2.3555, 2.3526, 2.3524, 2.3156, 2.4734, 2.47, 2.4641, 2.4566, 2.4553, 2.4493, 2.4476, 2.4333, 2.4166, 2.4149, 2.4072, 2.4059, 2.4047, 2.4045, 2.4024, 2.3966, 2.3942, 2.3914, 2.3892, 2.3891, 2.3855, 2.3848, 2.3793, 2.3776, 2.3699, 2.3698, 2.3655, 2.3608, 2.3591, 2.3565]}, \"token.table\": {\"Topic\": [1, 8, 7, 3, 5, 7, 1, 1, 6, 1, 6, 7, 2, 8, 5, 9, 8, 8, 5, 3, 9, 7, 5, 4, 6, 4, 9, 3, 6, 7, 8, 6, 1, 5, 9, 9, 4, 9, 3, 4, 1, 1, 5, 3, 1, 5, 7, 3, 4, 3, 3, 8, 9, 8, 4, 5, 6, 5, 5, 2, 5, 4, 8, 2, 4, 8, 8, 8, 5, 3, 6, 1, 1, 4, 4, 3, 9, 7, 8, 5, 6, 4, 5, 9, 7, 3, 9, 7, 4, 4, 3, 9, 3, 1, 7, 9, 7, 7, 6, 2, 2, 1, 7, 5, 1, 7, 7, 5, 2, 7, 3, 2, 2, 5, 5, 4, 6, 2, 8, 9, 5, 6, 2, 1, 8, 2, 3, 8, 2, 6, 3, 1, 3, 5, 9, 1, 8, 4, 6, 2, 7, 8, 2, 3, 9, 1, 2, 1, 9, 5, 5, 9, 4, 4, 6, 9, 1, 8, 2, 9, 6, 3, 2, 4, 7, 5, 2, 7, 9, 3, 1, 9, 9, 7, 4, 1, 2, 7, 8, 9, 2, 6, 7, 2, 7, 3, 3, 7, 7, 7, 5, 7, 1, 6, 9, 1, 9, 5, 3, 1, 6, 2, 6, 3, 3, 4, 6, 7, 8, 8, 7, 9, 8, 6, 5, 7, 2, 8, 6, 2, 8, 4, 2, 4, 1, 1, 9, 3, 8, 8, 6, 2, 6, 1, 6, 3, 2, 1, 2, 1, 9, 2, 8, 5, 7, 6, 2, 1, 4, 5, 2, 6, 6, 3, 8, 3, 6, 3, 1, 6, 9, 3, 9, 5, 4, 5, 5, 3, 8, 4, 4, 1, 1, 4, 6, 2, 8, 4, 4, 4, 8, 5, 9, 5], \"Freq\": [0.9564992774690136, 0.9709859908284326, 0.8584207359515774, 0.9714861481817302, 0.9127557735702245, 0.9465682059179185, 0.9971093779941966, 0.9595366266432591, 0.9271117387771715, 0.8496463560529451, 0.9222891439471949, 0.9624908259356992, 0.9938183875169836, 0.9320366526718011, 0.9871344078045924, 0.8588568769130228, 0.9430008481692921, 0.9519650040377596, 0.9395427683735282, 0.9162070726118744, 0.9068862819811767, 0.9039434284730811, 0.9562004886495956, 0.9595790018592536, 0.8688802224619737, 0.9354326574319195, 0.9066113152091697, 0.9044673444898321, 0.8993325932965621, 0.9719407445759878, 0.8762789943228763, 0.949416846320358, 0.19301288726848698, 0.6755451054397044, 0.948902629907132, 0.9616151142189744, 0.8595387331468612, 0.9246335755527784, 0.9844911551660629, 0.8990890122412919, 0.9490106814355036, 0.9700397547548204, 0.8769526951531659, 0.9069259281548829, 0.992643154950992, 0.30137136748764165, 0.6780855768471937, 0.9641625606098398, 0.9674900409384093, 0.983051690755551, 0.9665930887731058, 0.8625015651490033, 0.889877223682286, 0.9795273024518873, 0.9831683384137633, 0.9508199070165565, 0.9933903868845572, 0.9610040696748748, 0.9570871667650593, 0.9520258729267157, 0.9555664368465916, 0.976137361362051, 0.8992394161039522, 0.9633663349016139, 0.9546076647258936, 0.8929238531897498, 0.8546403241331442, 0.9050767123199062, 0.9343364923814618, 0.9361692886749607, 0.9097774313338188, 0.8968903489938277, 0.9536254767408378, 0.9453819620818521, 0.9205955641965149, 0.9116593882142885, 0.7990548869174098, 0.9716352380138426, 0.9643153639173803, 0.8907218768660047, 0.9352357709227352, 0.8732487399548443, 0.9587756597283975, 0.9694008571399175, 0.9019560030575342, 0.9835123586232721, 0.8590654558181076, 0.9098009625774269, 0.933827285405242, 0.892344793616443, 0.9551477247517902, 0.7992819305147474, 0.9974597666542656, 0.9808070688244356, 0.9511826753571869, 0.8532113513190175, 0.9092648689591581, 0.9535504552786114, 0.9021935158906954, 0.9662552912411855, 0.9689948476047427, 0.9164920589255143, 0.9762451621879459, 0.9579304575845127, 0.9522071027818253, 0.969100097667268, 0.8848277555123509, 0.9255390583498492, 0.9576227187775106, 0.9081424771719272, 0.9481867188197091, 0.8997976197803986, 0.961561712216712, 0.9146289843196604, 0.9335449489071266, 0.9397755612697426, 0.9533048029833918, 0.9532117032183711, 0.9206979815893639, 0.9594251001049736, 0.957095171618873, 0.9872791409147342, 0.9136104624981971, 0.8987240325406572, 0.9689492430682901, 0.9591416115221933, 0.9542628774623704, 0.9045657226450191, 0.9786272028097185, 0.9841363965332706, 0.9264579797958864, 0.938998316255269, 0.946307652072008, 0.9338473168632132, 0.9479908780259342, 0.11325359875392835, 0.8494019906544626, 0.967758795028527, 0.9547979626846084, 0.8892968453396375, 0.9081622394544023, 0.8854359744446212, 0.6861209538287767, 0.2638926745495295, 0.8296243142542942, 0.3771568366605214, 0.6128798595733472, 0.9604935373293336, 0.9434766040281368, 0.958210178608133, 0.9191905543074308, 0.9537046794328575, 0.9415726927766667, 0.9671639310204044, 0.9774913317833346, 0.878104856439349, 0.9772745277261835, 0.9770829000021117, 0.9626486812294023, 0.9714529886376833, 0.9443943976594437, 0.9438850931539777, 0.9959475368671207, 0.8825045572674685, 0.9502762169531261, 0.9354539754891397, 0.9304468789263302, 0.849035000736448, 0.8275543780014636, 0.9503822798855132, 0.8717411065348608, 0.9547923209485959, 0.8248222595821114, 0.9460649681737593, 0.9719331068762198, 0.9288350768735845, 0.9486367352074239, 0.8605060006271749, 0.9203594938595111, 0.9407799739114086, 0.8904948796517215, 0.9621228958263865, 0.9738792974640439, 0.969085705348298, 0.9470396951313531, 0.984083275490168, 0.9600615293494921, 0.9676456341140239, 0.9825424944214165, 0.9582936305986175, 0.8829741231962975, 0.9059833606469013, 0.8770251656509837, 0.9243575361770575, 0.8958403048756876, 0.9971093779941966, 0.8628967319988834, 0.9318911642067387, 0.919114389157354, 0.9395869985109542, 0.9350692671651354, 0.9188955355153684, 0.9056585960971758, 0.9291619942094618, 0.8809157702694677, 0.949051104524367, 0.9494672003514587, 0.8752291991778672, 0.9151954741614642, 0.8946309994285941, 0.9632308062491683, 0.965062691886517, 0.8818623610886023, 0.9364329665995408, 0.9472236639609265, 0.9605921766655119, 0.9631288319744356, 0.9418374068290107, 0.9532416766744252, 0.9679892435313379, 0.9243730407267345, 0.922562898069227, 0.9184957253660634, 0.985391034769672, 0.9589665477496903, 0.8939197640205284, 0.9362235617394531, 0.9610502894543369, 0.9558745897787198, 0.9619309734972797, 0.82881169736061, 0.9711567347598479, 0.8726673554040799, 0.9971093779941966, 0.954766725494324, 0.8841511603913156, 0.9774689348501359, 0.966833735913624, 0.9801118802142028, 0.9333119693593009, 0.938492156280052, 0.9805084303620725, 0.9521794464145942, 0.9183765487905509, 0.8768651519097883, 0.8669183980338173, 0.90393263460814, 0.9189609258021935, 0.8998726925894742, 0.9578597549060569, 0.976341220882685, 0.9471697737937083, 0.8929236570287196, 0.9210707565236632, 0.8721222981603478, 0.8932011642325174, 0.8851160340127174, 0.9657457542321675, 0.9102456066844049, 0.8537121100832334, 0.814872107198994, 0.7184783625440623, 0.26126485910693176, 0.9491136340808701, 0.892895317719793, 0.9473158404235371, 0.934531116898048, 0.934785798245054, 0.8859361258294102, 0.8846283486434394, 0.9705006077199714, 0.9548574783619018, 0.8897235363734958, 0.9579319681973595, 0.8645968031527157, 0.9330018165613131, 0.9828098644850896, 0.9561399176570559, 0.9793862242440986, 0.9331288658244156, 0.9715043121796023, 0.9762015336650276, 0.969994025946466, 0.9565710156694246], \"Term\": [\"aber\", \"abschaffung\", \"abschiebung\", \"afd\", \"agrarpolitik\", \"alternative\", \"alternativefuer\", \"anderer\", \"angst\", \"arbeit\", \"arbeitsplatz\", \"art\", \"auch\", \"aufgabe\", \"ausbau\", \"ausbauen\", \"ausstatten\", \"ausweisung\", \"bauen_wohnen_miete\", \"bedarf\", \"bedeutung\", \"befurworten\", \"behorde\", \"beitrag\", \"bekennen\", \"bereich\", \"bereits\", \"beruf\", \"besonderer\", \"bestehend\", \"betrachten\", \"betrieb\", \"bevolkerung\", \"bevolkerung\", \"bevorzugen\", \"bewahren\", \"bewahrung\", \"bildung\", \"bleiben\", \"brauchen\", \"bringen\", \"bund\", \"bundesregierung\", \"bundesweit\", \"burger\", \"co\", \"co\", \"dabei\", \"dafur\", \"daher\", \"damit\", \"daraus\", \"daseinsvorsorge\", \"dazu\", \"deshalb\", \"deutlich\", \"deutsch\", \"digital\", \"digitalisierung\", \"eigen\", \"eigentum\", \"ein\", \"einfuhren\", \"einkommen\", \"einrichtung\", \"einseitig\", \"einstieg\", \"eltern\", \"energie\", \"energietrager\", \"entlasten\", \"entscheiden\", \"entscheidung\", \"entsprechend\", \"entwicklung\", \"erfolgen\", \"erfullung\", \"erhalten\", \"ermoglichen\", \"erneuerbar\", \"erreichen\", \"etwa\", \"eu\", \"europaisch\", \"fahrzeug\", \"familie\", \"familienpolitik\", \"finanziell\", \"finanzierung\", \"flache\", \"flachendeckend\", \"flugverkehr\", \"fordern\", \"forderung\", \"form\", \"forschung\", \"fortschritt\", \"frei\", \"freihalten\", \"freiheit\", \"fuhren\", \"geben\", \"gebiet\", \"gehoren\", \"gelten\", \"generell\", \"gerecht\", \"gesellschaft\", \"gesetzlich\", \"gestalten\", \"gesund\", \"gesundheitlich\", \"gewahrleisten\", \"gleich\", \"gro\\u00df\", \"grund\", \"grundgesetz\", \"grundlage\", \"grundlegend\", \"grundrecht\", \"grundsatzlich\", \"gut\", \"haben\", \"hand\", \"heimat\", \"heimisch\", \"hier\", \"historisch\", \"hoch\", \"identitat\", \"ideologisch\", \"immer\", \"industrie\", \"infrastruktur\", \"inhalt\", \"insbesondere\", \"insbesondere\", \"intakt\", \"integration\", \"international\", \"internet\", \"it\", \"jahr\", \"jahr\", \"jahrzehnt\", \"jedoch\", \"jedoch\", \"kind\", \"klima\", \"klima_energie_technik_digitalisierung\", \"kommen\", \"kommune\", \"konsequent\", \"krankenhaus\", \"kultur\", \"kulturell\", \"land\", \"landlich\", \"landwirt\", \"landwirtschaft\", \"leben\", \"lebensmittel\", \"lehnen\", \"leisten\", \"leistung\", \"liegen\", \"machen\", \"mafsnahm\", \"maf\\u00dfnahme\", \"medium\", \"mehr\", \"mensch\", \"mikroklima\", \"mindestens\", \"mittel\", \"mobilitat_infrastruktur\", \"moglich\", \"moglichkeit\", \"national\", \"natur\", \"nehmen\", \"netz\", \"neu\", \"noch\", \"notwendig\", \"nur\", \"nutzen\", \"nutzung\", \"offentlich\", \"okologisch\", \"orientieren\", \"ort\", \"partei\", \"patient\", \"pauschal\", \"paypal\", \"person\", \"plattform\", \"politik\", \"politisch\", \"pragen\", \"praxis\", \"prinzip\", \"produkt\", \"produktion\", \"rahmen\", \"recht\", \"rechtlich\", \"reduzieren\", \"reform\", \"region\", \"regional\", \"rente\", \"richten\", \"sauber\", \"schaden\", \"schaffen\", \"schaffung\", \"schule\", \"schutz\", \"schutzen\", \"sehen\", \"selbst\", \"setzen\", \"sicherheit\", \"sichern\", \"sicherstellen\", \"sinn\", \"so\", \"sogenannter\", \"souveranitat\", \"sozial\", \"sozialpolitik\", \"spenden\", \"sprache\", \"sprechen\", \"staat\", \"staatlich\", \"standard\", \"stark\", \"starken\", \"stehen\", \"stellen\", \"steuer\", \"stream\", \"streichen\", \"struktur\", \"technik\", \"technisch\", \"teil\", \"tier\", \"trager\", \"treffen\", \"umsetzung\", \"un\", \"unabhangig\", \"unrealistisch\", \"unterstutzen\", \"verantwortung\", \"verbessern\", \"verbotspolitik\", \"verbraucher\", \"verbraucher\", \"verhindern\", \"vermeiden\", \"versorgung\", \"verursachen\", \"verwaltung\", \"vollstandig\", \"voraussetzung\", \"wald\", \"weit\", \"weiter\", \"wert\", \"wesentlich\", \"wichtig\", \"wieder\", \"wirkung\", \"wirtschaft\", \"zahlen\", \"zentral\", \"ziel\", \"zudem\", \"zunehmend\"]}, \"R\": 30, \"lambda.step\": 0.01, \"plot.opts\": {\"xlab\": \"PC1\", \"ylab\": \"PC2\"}, \"topic.order\": [7, 9, 5, 6, 8, 1, 2, 3, 4]};\n",
       "\n",
       "function LDAvis_load_lib(url, callback){\n",
       "  var s = document.createElement('script');\n",
       "  s.src = url;\n",
       "  s.async = true;\n",
       "  s.onreadystatechange = s.onload = callback;\n",
       "  s.onerror = function(){console.warn(\"failed to load library \" + url);};\n",
       "  document.getElementsByTagName(\"head\")[0].appendChild(s);\n",
       "}\n",
       "\n",
       "if(typeof(LDAvis) !== \"undefined\"){\n",
       "   // already loaded: just create the visualization\n",
       "   !function(LDAvis){\n",
       "       new LDAvis(\"#\" + \"ldavis_el574971403162772223048970549141\", ldavis_el574971403162772223048970549141_data);\n",
       "   }(LDAvis);\n",
       "}else if(typeof define === \"function\" && define.amd){\n",
       "   // require.js is available: use it to load d3/LDAvis\n",
       "   require.config({paths: {d3: \"https://d3js.org/d3.v5\"}});\n",
       "   require([\"d3\"], function(d3){\n",
       "      window.d3 = d3;\n",
       "      LDAvis_load_lib(\"https://cdn.jsdelivr.net/gh/bmabey/pyLDAvis@3.3.1/pyLDAvis/js/ldavis.v3.0.0.js\", function(){\n",
       "        new LDAvis(\"#\" + \"ldavis_el574971403162772223048970549141\", ldavis_el574971403162772223048970549141_data);\n",
       "      });\n",
       "    });\n",
       "}else{\n",
       "    // require.js not available: dynamically load d3 & LDAvis\n",
       "    LDAvis_load_lib(\"https://d3js.org/d3.v5.js\", function(){\n",
       "         LDAvis_load_lib(\"https://cdn.jsdelivr.net/gh/bmabey/pyLDAvis@3.3.1/pyLDAvis/js/ldavis.v3.0.0.js\", function(){\n",
       "                 new LDAvis(\"#\" + \"ldavis_el574971403162772223048970549141\", ldavis_el574971403162772223048970549141_data);\n",
       "            })\n",
       "         });\n",
       "}\n",
       "</script>"
      ],
      "text/plain": [
       "PreparedData(topic_coordinates=              x         y  topics  cluster       Freq\n",
       "topic                                                \n",
       "6     -0.100266  0.351095       1        1  16.098735\n",
       "8      0.294055  0.092383       2        1  14.714888\n",
       "4     -0.241257  0.105460       3        1  13.289037\n",
       "5      0.057784 -0.272712       4        1  10.686051\n",
       "7      0.099218  0.185349       5        1  10.054408\n",
       "0     -0.149893 -0.223674       6        1   9.554732\n",
       "1     -0.210116 -0.066538       7        1   8.970947\n",
       "2      0.034076 -0.034137       8        1   8.434545\n",
       "3      0.216400 -0.137227       9        1   8.196657, topic_info=                 Term        Freq       Total Category  logprob  loglift\n",
       "4708          spenden  249.000000  249.000000  Default  30.0000  30.0000\n",
       "4706  alternativefuer  249.000000  249.000000  Default  29.0000  29.0000\n",
       "4707           paypal  249.000000  249.000000  Default  28.0000  28.0000\n",
       "173           fordern  132.000000  132.000000  Default  27.0000  27.0000\n",
       "485              auch  124.000000  124.000000  Default  26.0000  26.0000\n",
       "...               ...         ...         ...      ...      ...      ...\n",
       "381         erfullung    5.485432    6.257392   Topic9  -5.2993   2.3698\n",
       "4329   verbotspolitik    5.355748    6.135932   Topic9  -5.3232   2.3655\n",
       "318         forschung    5.091397    5.860213   Topic9  -5.3739   2.3608\n",
       "2346           person    5.025875    5.794436   Topic9  -5.3868   2.3591\n",
       "472         kulturell    4.925560    5.694081   Topic9  -5.4070   2.3565\n",
       "\n",
       "[309 rows x 6 columns], token_table=      Topic      Freq          Term\n",
       "term                               \n",
       "461       1  0.956499          aber\n",
       "57        8  0.970986   abschaffung\n",
       "155       7  0.858421   abschiebung\n",
       "1281      3  0.971486           afd\n",
       "390       5  0.912756  agrarpolitik\n",
       "...     ...       ...           ...\n",
       "515       4  0.933129        zahlen\n",
       "1101      8  0.971504       zentral\n",
       "884       5  0.976202          ziel\n",
       "1151      9  0.969994         zudem\n",
       "1490      5  0.956571     zunehmend\n",
       "\n",
       "[284 rows x 3 columns], R=30, lambda_step=0.01, plot_opts={'xlab': 'PC1', 'ylab': 'PC2'}, topic_order=[7, 9, 5, 6, 8, 1, 2, 3, 4])"
      ]
     },
     "execution_count": 116,
     "metadata": {},
     "output_type": "execute_result"
    }
   ],
   "source": [
    "pyLDAvis.enable_notebook()\n",
    "vis=gensimvis.prepare(lda_model,corpus,id2word,mds='mmds',R=30)\n",
    "vis"
   ]
  },
  {
   "cell_type": "code",
   "execution_count": 130,
   "metadata": {},
   "outputs": [
    {
     "name": "stderr",
     "output_type": "stream",
     "text": [
      "100%|██████████| 2086/2086 [00:04<00:00, 449.06it/s]\n",
      "100%|██████████| 1889/1889 [00:00<00:00, 56001.92it/s]\n"
     ]
    }
   ],
   "source": [
    "lemma_text_2=lemmatization_test(text,allowed_posttags=['NOUN','VERB'])\n",
    "lemma_text_2 = list(filter(None, lemma_text_2))\n",
    "data_words_2=gen_words(lemma_text_2)"
   ]
  },
  {
   "cell_type": "code",
   "execution_count": 131,
   "metadata": {},
   "outputs": [],
   "source": [
    "bigram_phrases_2=gensim.models.Phrases(data_words_2,min_count=3,threshold=100)\n",
    "trigram_phases_2=gensim.models.Phrases(bigram_phrases_2[data_words_2],threshold=50)\n",
    "\n",
    "bigram_2=gensim.models.phrases.Phraser(bigram_phrases_2)\n",
    "trigram_2=gensim.models.phrases.Phraser(trigram_phases_2)\n",
    "\n",
    "def make_bigrams_2(texts):\n",
    "    return [bigram_2[doc] for doc in texts]\n",
    "\n",
    "def make_trgram_2(texts):\n",
    "    return [trigram_2[bigram_2[doc]] for doc in texts]\n",
    "\n",
    "data_bigrams_2=make_bigrams_2(data_words_2)\n",
    "data_bigrams_trigrams_2=make_trgram_2(data_bigrams_2)"
   ]
  },
  {
   "cell_type": "code",
   "execution_count": 132,
   "metadata": {},
   "outputs": [
    {
     "name": "stdout",
     "output_type": "stream",
     "text": [
      "[(5, 1), (6, 1)]\n"
     ]
    },
    {
     "name": "stderr",
     "output_type": "stream",
     "text": [
      "100%|██████████| 1860/1860 [00:00<00:00, 53664.38it/s]\n"
     ]
    }
   ],
   "source": [
    "from gensim.models import TfidfModel\n",
    "\n",
    "id2word_2=corpora.Dictionary(data_bigrams_trigrams_2)\n",
    "\n",
    "texts_2 = data_bigrams_trigrams_2\n",
    "\n",
    "corpus_2=[id2word_2.doc2bow(text) for text in texts]\n",
    "\n",
    "print(corpus_2[3])\n",
    "\n",
    "tfidf=TfidfModel(corpus_2,id2word=id2word_2)\n",
    "\n",
    "low_value=0.03\n",
    "words=[]\n",
    "words_missing_in_tfdf=[]\n",
    "\n",
    "for i in tqdm(range(0,len(corpus_2))):\n",
    "    bow = corpus_2[i]\n",
    "    low_value_words = [] #reinitialize to be safe. You can skip this.\n",
    "    tfidf_ids = [id for id, value in tfidf[bow]]\n",
    "    bow_ids = [id for id, value in bow]\n",
    "    low_value_words = [id for id, value in tfidf[bow] if value < low_value]\n",
    "    drops=low_value_words+words_missing_in_tfdf\n",
    "    for item in drops:\n",
    "        words.append(id2word_2[item])\n",
    "    words_missing_in_tfidf = [id for id in bow_ids if id not in tfidf_ids] # The words with tf-idf socre 0 will be missing\n",
    "\n",
    "    new_bow = [b for b in bow if b[0] not in low_value_words and b[0] not in words_missing_in_tfidf]  \n",
    "    corpus_2[i]=new_bow\n"
   ]
  },
  {
   "cell_type": "code",
   "execution_count": null,
   "metadata": {},
   "outputs": [],
   "source": []
  },
  {
   "cell_type": "code",
   "execution_count": 133,
   "metadata": {},
   "outputs": [],
   "source": [
    "lda_model_2=gensim.models.ldamodel.LdaModel(\n",
    "corpus=corpus_2,\n",
    "id2word=id2word_2,\n",
    "num_topics=num_topics,\n",
    "random_state=100,\n",
    "update_every=1,\n",
    "chunksize=100,\n",
    "passes=10,\n",
    "alpha='auto'\n",
    ")"
   ]
  },
  {
   "cell_type": "code",
   "execution_count": 134,
   "metadata": {},
   "outputs": [
    {
     "name": "stdout",
     "output_type": "stream",
     "text": [
      "{0: 0.5190000000000003, 1: 0.5540000000000004, 2: 0.5960000000000003, 3: 0.5540000000000004, 4: 0.4940000000000003, 5: 0.5320000000000004, 6: 0.5740000000000003, 7: 0.5970000000000004, 8: 0.5200000000000004}\n"
     ]
    }
   ],
   "source": [
    "dic={}\n",
    "dic_sum={}\n",
    "for idx, topic in lda_model_2.print_topics(num_topics,num_words=100):\n",
    "    elements=[]\n",
    "    percent=[]\n",
    "\n",
    "    for e in topic.split('+'):\n",
    "        elements.append(e.split('*')[1].replace('\"','').strip())\n",
    "        percent.append(float(e.split('*')[0].replace('\"','').strip()))\n",
    "\n",
    "    dic[str(idx)+'_word']=elements\n",
    "    dic[str(idx)+'_per']=percent\n",
    "    dic_sum[idx]=sum(percent)\n",
    "print(dic_sum)"
   ]
  },
  {
   "cell_type": "code",
   "execution_count": 135,
   "metadata": {},
   "outputs": [
    {
     "data": {
      "text/html": [
       "<div>\n",
       "<style scoped>\n",
       "    .dataframe tbody tr th:only-of-type {\n",
       "        vertical-align: middle;\n",
       "    }\n",
       "\n",
       "    .dataframe tbody tr th {\n",
       "        vertical-align: top;\n",
       "    }\n",
       "\n",
       "    .dataframe thead th {\n",
       "        text-align: right;\n",
       "    }\n",
       "</style>\n",
       "<table border=\"1\" class=\"dataframe\">\n",
       "  <thead>\n",
       "    <tr style=\"text-align: right;\">\n",
       "      <th></th>\n",
       "      <th>0_word</th>\n",
       "      <th>0_per</th>\n",
       "      <th>1_word</th>\n",
       "      <th>1_per</th>\n",
       "      <th>2_word</th>\n",
       "      <th>2_per</th>\n",
       "      <th>3_word</th>\n",
       "      <th>3_per</th>\n",
       "      <th>4_word</th>\n",
       "      <th>4_per</th>\n",
       "      <th>5_word</th>\n",
       "      <th>5_per</th>\n",
       "      <th>6_word</th>\n",
       "      <th>6_per</th>\n",
       "      <th>7_word</th>\n",
       "      <th>7_per</th>\n",
       "      <th>8_word</th>\n",
       "      <th>8_per</th>\n",
       "    </tr>\n",
       "  </thead>\n",
       "  <tbody>\n",
       "    <tr>\n",
       "      <th>0</th>\n",
       "      <td>natur</td>\n",
       "      <td>0.023</td>\n",
       "      <td>landwirtschaft</td>\n",
       "      <td>0.040</td>\n",
       "      <td>kind</td>\n",
       "      <td>0.037</td>\n",
       "      <td>eu</td>\n",
       "      <td>0.025</td>\n",
       "      <td>klima_energie_technik_digitalisierung</td>\n",
       "      <td>0.032</td>\n",
       "      <td>aufgabe</td>\n",
       "      <td>0.023</td>\n",
       "      <td>ausbau</td>\n",
       "      <td>0.038</td>\n",
       "      <td>burger</td>\n",
       "      <td>0.047</td>\n",
       "      <td>familie</td>\n",
       "      <td>0.037</td>\n",
       "    </tr>\n",
       "    <tr>\n",
       "      <th>1</th>\n",
       "      <td>tier</td>\n",
       "      <td>0.022</td>\n",
       "      <td>art</td>\n",
       "      <td>0.019</td>\n",
       "      <td>wald</td>\n",
       "      <td>0.029</td>\n",
       "      <td>hand</td>\n",
       "      <td>0.022</td>\n",
       "      <td>ziel</td>\n",
       "      <td>0.026</td>\n",
       "      <td>heimat</td>\n",
       "      <td>0.023</td>\n",
       "      <td>mensch</td>\n",
       "      <td>0.033</td>\n",
       "      <td>land</td>\n",
       "      <td>0.031</td>\n",
       "      <td>forderung</td>\n",
       "      <td>0.028</td>\n",
       "    </tr>\n",
       "    <tr>\n",
       "      <th>2</th>\n",
       "      <td>gesellschaft</td>\n",
       "      <td>0.020</td>\n",
       "      <td>schutz</td>\n",
       "      <td>0.018</td>\n",
       "      <td>kultur</td>\n",
       "      <td>0.025</td>\n",
       "      <td>verantwortung</td>\n",
       "      <td>0.019</td>\n",
       "      <td>co</td>\n",
       "      <td>0.016</td>\n",
       "      <td>medium</td>\n",
       "      <td>0.015</td>\n",
       "      <td>energie</td>\n",
       "      <td>0.023</td>\n",
       "      <td>versorgung</td>\n",
       "      <td>0.023</td>\n",
       "      <td>sicherheit</td>\n",
       "      <td>0.024</td>\n",
       "    </tr>\n",
       "    <tr>\n",
       "      <th>3</th>\n",
       "      <td>rahmen</td>\n",
       "      <td>0.015</td>\n",
       "      <td>lebensmittel</td>\n",
       "      <td>0.017</td>\n",
       "      <td>identitat</td>\n",
       "      <td>0.024</td>\n",
       "      <td>bildung</td>\n",
       "      <td>0.019</td>\n",
       "      <td>arbeitsplatz</td>\n",
       "      <td>0.015</td>\n",
       "      <td>rente</td>\n",
       "      <td>0.014</td>\n",
       "      <td>afd</td>\n",
       "      <td>0.022</td>\n",
       "      <td>digitalisierung</td>\n",
       "      <td>0.019</td>\n",
       "      <td>einrichtung</td>\n",
       "      <td>0.018</td>\n",
       "    </tr>\n",
       "    <tr>\n",
       "      <th>4</th>\n",
       "      <td>wirkung</td>\n",
       "      <td>0.015</td>\n",
       "      <td>schule</td>\n",
       "      <td>0.017</td>\n",
       "      <td>sprache</td>\n",
       "      <td>0.021</td>\n",
       "      <td>bevolkerung</td>\n",
       "      <td>0.017</td>\n",
       "      <td>leben</td>\n",
       "      <td>0.015</td>\n",
       "      <td>steuer</td>\n",
       "      <td>0.014</td>\n",
       "      <td>infrastruktur</td>\n",
       "      <td>0.021</td>\n",
       "      <td>standard</td>\n",
       "      <td>0.015</td>\n",
       "      <td>abschaffung</td>\n",
       "      <td>0.016</td>\n",
       "    </tr>\n",
       "    <tr>\n",
       "      <th>...</th>\n",
       "      <td>...</td>\n",
       "      <td>...</td>\n",
       "      <td>...</td>\n",
       "      <td>...</td>\n",
       "      <td>...</td>\n",
       "      <td>...</td>\n",
       "      <td>...</td>\n",
       "      <td>...</td>\n",
       "      <td>...</td>\n",
       "      <td>...</td>\n",
       "      <td>...</td>\n",
       "      <td>...</td>\n",
       "      <td>...</td>\n",
       "      <td>...</td>\n",
       "      <td>...</td>\n",
       "      <td>...</td>\n",
       "      <td>...</td>\n",
       "      <td>...</td>\n",
       "    </tr>\n",
       "    <tr>\n",
       "      <th>95</th>\n",
       "      <td>filtern</td>\n",
       "      <td>0.002</td>\n",
       "      <td>renteneintritt</td>\n",
       "      <td>0.002</td>\n",
       "      <td>bekampfung</td>\n",
       "      <td>0.002</td>\n",
       "      <td>zentren</td>\n",
       "      <td>0.002</td>\n",
       "      <td>debatte</td>\n",
       "      <td>0.002</td>\n",
       "      <td>nutzungsdauer</td>\n",
       "      <td>0.002</td>\n",
       "      <td>milliarde</td>\n",
       "      <td>0.002</td>\n",
       "      <td>verankerung</td>\n",
       "      <td>0.002</td>\n",
       "      <td>informations</td>\n",
       "      <td>0.002</td>\n",
       "    </tr>\n",
       "    <tr>\n",
       "      <th>96</th>\n",
       "      <td>verladestelle</td>\n",
       "      <td>0.002</td>\n",
       "      <td>angebot</td>\n",
       "      <td>0.002</td>\n",
       "      <td>eigentumsquote</td>\n",
       "      <td>0.002</td>\n",
       "      <td>befugnis</td>\n",
       "      <td>0.002</td>\n",
       "      <td>bezugsdauer</td>\n",
       "      <td>0.002</td>\n",
       "      <td>laufzeit</td>\n",
       "      <td>0.002</td>\n",
       "      <td>kommunikation</td>\n",
       "      <td>0.002</td>\n",
       "      <td>einzeln</td>\n",
       "      <td>0.002</td>\n",
       "      <td>bundesamt</td>\n",
       "      <td>0.002</td>\n",
       "    </tr>\n",
       "    <tr>\n",
       "      <th>97</th>\n",
       "      <td>sicherstellung</td>\n",
       "      <td>0.002</td>\n",
       "      <td>begabung</td>\n",
       "      <td>0.002</td>\n",
       "      <td>jugendamt</td>\n",
       "      <td>0.002</td>\n",
       "      <td>zulassigkeit</td>\n",
       "      <td>0.002</td>\n",
       "      <td>koranunterricht</td>\n",
       "      <td>0.002</td>\n",
       "      <td>kernkraftwerk</td>\n",
       "      <td>0.002</td>\n",
       "      <td>voreinstellung</td>\n",
       "      <td>0.002</td>\n",
       "      <td>bezug</td>\n",
       "      <td>0.002</td>\n",
       "      <td>weg</td>\n",
       "      <td>0.002</td>\n",
       "    </tr>\n",
       "    <tr>\n",
       "      <th>98</th>\n",
       "      <td>energiepolitik</td>\n",
       "      <td>0.002</td>\n",
       "      <td>pflegebedurftig</td>\n",
       "      <td>0.002</td>\n",
       "      <td>politiker</td>\n",
       "      <td>0.002</td>\n",
       "      <td>ostrente</td>\n",
       "      <td>0.002</td>\n",
       "      <td>umbau</td>\n",
       "      <td>0.002</td>\n",
       "      <td>bruchteil</td>\n",
       "      <td>0.002</td>\n",
       "      <td>zu</td>\n",
       "      <td>0.002</td>\n",
       "      <td>rahmenbedingung</td>\n",
       "      <td>0.002</td>\n",
       "      <td>reduktionsziel</td>\n",
       "      <td>0.002</td>\n",
       "    </tr>\n",
       "    <tr>\n",
       "      <th>99</th>\n",
       "      <td>arbeitsleben</td>\n",
       "      <td>0.002</td>\n",
       "      <td>speicherung</td>\n",
       "      <td>0.002</td>\n",
       "      <td>rassismus</td>\n",
       "      <td>0.002</td>\n",
       "      <td>uberleitung</td>\n",
       "      <td>0.002</td>\n",
       "      <td>lockdown</td>\n",
       "      <td>0.002</td>\n",
       "      <td>wohnungsneubau</td>\n",
       "      <td>0.002</td>\n",
       "      <td>verschlusselung</td>\n",
       "      <td>0.002</td>\n",
       "      <td>verein</td>\n",
       "      <td>0.002</td>\n",
       "      <td>reduktionsziele</td>\n",
       "      <td>0.002</td>\n",
       "    </tr>\n",
       "  </tbody>\n",
       "</table>\n",
       "<p>100 rows × 18 columns</p>\n",
       "</div>"
      ],
      "text/plain": [
       "            0_word  0_per           1_word  1_per          2_word  2_per  \\\n",
       "0            natur  0.023   landwirtschaft  0.040            kind  0.037   \n",
       "1             tier  0.022              art  0.019            wald  0.029   \n",
       "2     gesellschaft  0.020           schutz  0.018          kultur  0.025   \n",
       "3           rahmen  0.015     lebensmittel  0.017       identitat  0.024   \n",
       "4          wirkung  0.015           schule  0.017         sprache  0.021   \n",
       "..             ...    ...              ...    ...             ...    ...   \n",
       "95         filtern  0.002   renteneintritt  0.002      bekampfung  0.002   \n",
       "96   verladestelle  0.002          angebot  0.002  eigentumsquote  0.002   \n",
       "97  sicherstellung  0.002         begabung  0.002       jugendamt  0.002   \n",
       "98  energiepolitik  0.002  pflegebedurftig  0.002       politiker  0.002   \n",
       "99    arbeitsleben  0.002      speicherung  0.002       rassismus  0.002   \n",
       "\n",
       "           3_word  3_per                                 4_word  4_per  \\\n",
       "0              eu  0.025  klima_energie_technik_digitalisierung  0.032   \n",
       "1            hand  0.022                                   ziel  0.026   \n",
       "2   verantwortung  0.019                                     co  0.016   \n",
       "3         bildung  0.019                           arbeitsplatz  0.015   \n",
       "4     bevolkerung  0.017                                  leben  0.015   \n",
       "..            ...    ...                                    ...    ...   \n",
       "95        zentren  0.002                                debatte  0.002   \n",
       "96       befugnis  0.002                            bezugsdauer  0.002   \n",
       "97   zulassigkeit  0.002                        koranunterricht  0.002   \n",
       "98       ostrente  0.002                                  umbau  0.002   \n",
       "99    uberleitung  0.002                               lockdown  0.002   \n",
       "\n",
       "            5_word  5_per           6_word  6_per           7_word  7_per  \\\n",
       "0          aufgabe  0.023           ausbau  0.038           burger  0.047   \n",
       "1           heimat  0.023           mensch  0.033             land  0.031   \n",
       "2           medium  0.015          energie  0.023       versorgung  0.023   \n",
       "3            rente  0.014              afd  0.022  digitalisierung  0.019   \n",
       "4           steuer  0.014    infrastruktur  0.021         standard  0.015   \n",
       "..             ...    ...              ...    ...              ...    ...   \n",
       "95   nutzungsdauer  0.002        milliarde  0.002      verankerung  0.002   \n",
       "96        laufzeit  0.002    kommunikation  0.002          einzeln  0.002   \n",
       "97   kernkraftwerk  0.002   voreinstellung  0.002            bezug  0.002   \n",
       "98       bruchteil  0.002               zu  0.002  rahmenbedingung  0.002   \n",
       "99  wohnungsneubau  0.002  verschlusselung  0.002           verein  0.002   \n",
       "\n",
       "             8_word  8_per  \n",
       "0           familie  0.037  \n",
       "1         forderung  0.028  \n",
       "2        sicherheit  0.024  \n",
       "3       einrichtung  0.018  \n",
       "4       abschaffung  0.016  \n",
       "..              ...    ...  \n",
       "95     informations  0.002  \n",
       "96        bundesamt  0.002  \n",
       "97              weg  0.002  \n",
       "98   reduktionsziel  0.002  \n",
       "99  reduktionsziele  0.002  \n",
       "\n",
       "[100 rows x 18 columns]"
      ]
     },
     "execution_count": 135,
     "metadata": {},
     "output_type": "execute_result"
    }
   ],
   "source": [
    "pd.DataFrame(data=dic)"
   ]
  },
  {
   "cell_type": "code",
   "execution_count": 136,
   "metadata": {},
   "outputs": [
    {
     "name": "stderr",
     "output_type": "stream",
     "text": [
      "/opt/anaconda3/envs/NLP_spacy/lib/python3.9/site-packages/pyLDAvis/_prepare.py:246: FutureWarning: In a future version of pandas all arguments of DataFrame.drop except for the argument 'labels' will be keyword-only.\n",
      "  default_term_info = default_term_info.sort_values(\n",
      "/opt/anaconda3/envs/NLP_spacy/lib/python3.9/site-packages/past/builtins/misc.py:45: DeprecationWarning: the imp module is deprecated in favour of importlib; see the module's documentation for alternative uses\n",
      "  from imp import reload\n",
      "/opt/anaconda3/envs/NLP_spacy/lib/python3.9/site-packages/past/builtins/misc.py:45: DeprecationWarning: the imp module is deprecated in favour of importlib; see the module's documentation for alternative uses\n",
      "  from imp import reload\n",
      "/opt/anaconda3/envs/NLP_spacy/lib/python3.9/site-packages/past/builtins/misc.py:45: DeprecationWarning: the imp module is deprecated in favour of importlib; see the module's documentation for alternative uses\n",
      "  from imp import reload\n",
      "/opt/anaconda3/envs/NLP_spacy/lib/python3.9/site-packages/past/builtins/misc.py:45: DeprecationWarning: the imp module is deprecated in favour of importlib; see the module's documentation for alternative uses\n",
      "  from imp import reload\n",
      "/opt/anaconda3/envs/NLP_spacy/lib/python3.9/site-packages/past/builtins/misc.py:45: DeprecationWarning: the imp module is deprecated in favour of importlib; see the module's documentation for alternative uses\n",
      "  from imp import reload\n",
      "/opt/anaconda3/envs/NLP_spacy/lib/python3.9/site-packages/past/builtins/misc.py:45: DeprecationWarning: the imp module is deprecated in favour of importlib; see the module's documentation for alternative uses\n",
      "  from imp import reload\n",
      "/opt/anaconda3/envs/NLP_spacy/lib/python3.9/site-packages/past/builtins/misc.py:45: DeprecationWarning: the imp module is deprecated in favour of importlib; see the module's documentation for alternative uses\n",
      "  from imp import reload\n",
      "/opt/anaconda3/envs/NLP_spacy/lib/python3.9/site-packages/past/builtins/misc.py:45: DeprecationWarning: the imp module is deprecated in favour of importlib; see the module's documentation for alternative uses\n",
      "  from imp import reload\n",
      "/opt/anaconda3/envs/NLP_spacy/lib/python3.9/site-packages/past/builtins/misc.py:45: DeprecationWarning: the imp module is deprecated in favour of importlib; see the module's documentation for alternative uses\n",
      "  from imp import reload\n"
     ]
    },
    {
     "data": {
      "text/html": [
       "\n",
       "<link rel=\"stylesheet\" type=\"text/css\" href=\"https://cdn.jsdelivr.net/gh/bmabey/pyLDAvis@3.3.1/pyLDAvis/js/ldavis.v1.0.0.css\">\n",
       "\n",
       "\n",
       "<div id=\"ldavis_el574971403154221040322103352135\"></div>\n",
       "<script type=\"text/javascript\">\n",
       "\n",
       "var ldavis_el574971403154221040322103352135_data = {\"mdsDat\": {\"x\": [0.2527573097816307, 0.013223837818036687, -0.2862610261093806, -0.17849369468424334, 0.2133238915649937, 0.1927120597248047, 0.026290304912936362, -0.12488786491205021, -0.10866481809672802], \"y\": [0.20944593907442785, -0.288766044074888, -0.05332536578492555, 0.24176173039838866, -0.18338017674153592, -0.0029903127681658328, 0.20133338084768215, -0.16746583456457662, 0.04338668361359322], \"topics\": [1, 2, 3, 4, 5, 6, 7, 8, 9], \"cluster\": [1, 1, 1, 1, 1, 1, 1, 1, 1], \"Freq\": [15.769562761495969, 15.051975002297485, 13.934506566153173, 11.167079679247278, 10.042819696646136, 9.80833758556305, 8.537549145925805, 8.000583530686379, 7.687586031984722]}, \"tinfo\": {\"Term\": [\"burger\", \"kind\", \"familie\", \"ausbau\", \"landwirtschaft\", \"land\", \"wald\", \"mensch\", \"forderung\", \"kultur\", \"identitat\", \"klima_energie_technik_digitalisierung\", \"sicherheit\", \"versorgung\", \"eu\", \"sprache\", \"energie\", \"afd\", \"kommune\", \"ziel\", \"burger\", \"land\", \"versorgung\", \"digitalisierung\", \"standard\", \"wirtschaft\", \"grundgesetz\", \"region\", \"grund\", \"bund\", \"mobilitat_infrastruktur\", \"entscheidung\", \"migration\", \"energietrager\", \"wissenschaft\", \"ausweisung\", \"einstieg\", \"wert\", \"bedarf\", \"wertschopfung\", \"jahr\", \"kind\", \"wald\", \"kultur\", \"identitat\", \"sprache\", \"kommune\", \"staat\", \"landwirt\", \"nutzung\", \"gebiet\", \"integration\", \"struktur\", \"industrie\", \"prinzip\", \"betrieb\", \"abschiebung\", \"nutzen\", \"leitkultur\", \"trager\", \"erfullung\", \"familie\", \"forderung\", \"sicherheit\", \"einrichtung\", \"abschaffung\", \"politik\", \"un\", \"internet\", \"mittel\", \"beruf\", \"markt\", \"ort\", \"test\", \"mafsnahm\", \"pcr\", \"keit\", \"verbotspolitik\", \"prioritat\", \"migrationspakt\", \"mitglied\", \"technik\", \"ausbau\", \"mensch\", \"energie\", \"afd\", \"infrastruktur\", \"bereich\", \"mikroklima\", \"klima\", \"form\", \"teil\", \"grundlage\", \"voraussetzung\", \"ende\", \"entwicklung\", \"euro\", \"finanzierung\", \"krankenhaus\", \"einkommen\", \"landschaft\", \"system\", \"landwirtschaft\", \"art\", \"schutz\", \"lebensmittel\", \"schule\", \"produkt\", \"behorde\", \"leistung\", \"freiheit\", \"hochschule\", \"leitbild\", \"pflege\", \"bewahrung\", \"wasser\", \"forstwirtschaft\", \"schaffung\", \"schuler\", \"angst\", \"alternative\", \"justiz\", \"eu\", \"hand\", \"verantwortung\", \"bildung\", \"bevolkerung\", \"partei\", \"stream\", \"schaden\", \"liberalisierung\", \"wassermarkt\", \"agrarpolitik\", \"sicherung\", \"plattform\", \"unterstutzung\", \"bundesregierung\", \"familienpolitik\", \"richtlinie\", \"erforschung\", \"mittelstand\", \"unternehmen\", \"natur\", \"tier\", \"gesellschaft\", \"rahmen\", \"wirkung\", \"eltern\", \"grundrecht\", \"praxis\", \"flache\", \"bildung_wissenschaft_forschung\", \"burokratie\", \"polizei\", \"verwaltung\", \"kosten\", \"netz\", \"reform\", \"unterricht\", \"tourismus\", \"verschuldung\", \"studie\", \"rechtsstaat\", \"verbraucher\", \"aufgabe\", \"heimat\", \"medium\", \"rente\", \"steuer\", \"wohngeld\", \"it\", \"beitrag\", \"transparenz\", \"eigentum\", \"maf\\u00dfnahme\", \"subvention\", \"bauen_wohnen_miete\", \"lage\", \"rundfunk\", \"km\", \"bundespolizei\", \"umsetzung\", \"fache\", \"gesamthohe\", \"verbraucher\", \"klima_energie_technik_digitalisierung\", \"ziel\", \"co\", \"arbeitsplatz\", \"leben\", \"abtreibung\", \"jahrzehnt\", \"risiko\", \"heit\", \"autobahn\", \"anspruch\", \"aufklarung\", \"fluchtling\", \"burka\", \"bundesland\", \"dauer\", \"abhangigkeit\", \"moscheeverein\", \"verpflichtung\", \"gerechtigkeit\", \"ernahrungsform\"], \"Freq\": [52.0, 38.0, 36.0, 30.0, 28.0, 34.0, 31.0, 25.0, 27.0, 26.0, 26.0, 17.0, 23.0, 25.0, 17.0, 22.0, 18.0, 17.0, 20.0, 14.0, 51.69060322378435, 34.06366485194622, 24.645815786098538, 20.369976235483854, 15.863662928249278, 13.334274797010371, 12.220625808666757, 11.975301335279466, 11.276086621049709, 11.228812772707105, 10.556954534815349, 10.137034099443847, 9.78532106647878, 9.517293375281223, 9.45166715676271, 8.936600312230222, 8.741121707106993, 8.695441370710977, 8.365727966575287, 8.328511062319869, 14.68940957501052, 38.227481664693045, 30.615174033581347, 26.01730142674613, 25.476014039555654, 21.50889859667559, 19.99478556143077, 17.82026121127549, 16.599602979257266, 16.12317141277831, 15.774306537828615, 11.832600052820064, 11.453148017446095, 9.96883977531043, 9.910747301364056, 9.176243371999314, 8.91282855801884, 7.849861560759132, 7.513607377855869, 7.1930763482744124, 7.207728970419067, 35.8950616188934, 27.24311397572838, 23.42708637348311, 17.464985013140247, 15.285997277393992, 12.419661463447099, 11.188121585643971, 10.262742341876294, 10.207887511924861, 9.675636948759776, 8.953860644799859, 8.581109083157049, 7.414445694592423, 6.906424900660247, 6.5792555361536325, 6.357468123045972, 6.252159949629829, 6.072126376135672, 5.9183163768733165, 5.896241464577384, 11.02448741815829, 29.757132455554263, 25.3968549729899, 17.976854702275315, 16.870729154249556, 16.12106256926269, 12.326643483302746, 11.530486953414947, 10.34128647825721, 10.10006310697614, 8.385704928802653, 8.353173648262677, 8.121928064957586, 6.833826497883601, 6.829591814491281, 6.8174054729258815, 6.267055982346561, 5.978713916987286, 5.903367845854335, 5.827934168041294, 5.703197758010198, 28.064338832548696, 13.164173995338517, 12.20210523057791, 11.654048924229855, 11.56913689257374, 11.400821125701508, 9.358592285097938, 8.587776287070117, 8.561493281349547, 6.939869697914106, 6.895147995172309, 6.695201449260216, 6.640311390338012, 6.6366178148770345, 6.63447792740842, 6.353509405877853, 5.899199624177551, 5.609225418657858, 5.590819144174034, 5.481978631463573, 17.230654145869874, 14.688772251809578, 12.894790873093644, 12.80393360579141, 11.420446404442778, 10.529204275108945, 9.00748880929545, 7.72789493997713, 7.611781880540664, 7.611781880540664, 7.499960766822338, 6.916157986017293, 6.286279328160817, 6.2600305050562355, 6.174468347411576, 5.963493597952529, 5.791483281178825, 5.781210983768727, 5.773109674985129, 5.572900571868514, 13.733325967663403, 13.16030036478169, 11.949350710766764, 9.081406321561069, 8.672844548411435, 8.311624773221837, 8.23830586597127, 6.690321207778654, 6.241640013022877, 5.622001725913094, 5.607089106807193, 5.022432520984647, 4.9712080161355505, 4.48787863090723, 4.488426580906907, 4.296209414445707, 3.804728583900258, 3.694057016661638, 3.7335992716182207, 3.63444678203881, 3.6641692107184825, 8.563707130920402, 12.988127608747467, 12.762883527140799, 8.423164908445399, 7.978158243842064, 7.867760624206826, 7.471098184079848, 7.111384071780776, 6.6130677539347715, 6.535902139349157, 6.483668019053998, 6.376365268721609, 5.4683917790989565, 5.287919726804362, 5.231498673493079, 5.01300637652808, 4.703871241602063, 4.546819668289823, 4.530254291235162, 4.3075636963525765, 4.3075636963525765, 4.833878998711088, 17.311819681146478, 13.829565933686098, 8.7127965869253, 8.224664780922422, 8.159150512508782, 5.910642347386611, 5.90064184758944, 5.417303054245592, 4.980020565745172, 4.9031839465908025, 4.603384876506108, 4.438951185792392, 4.367143854568977, 3.7903671259583667, 3.6836459041068923, 3.639984120086494, 3.595882794567591, 3.590202756885602, 3.573875937045003, 3.456472442106467, 3.47957678833961], \"Total\": [52.0, 38.0, 36.0, 30.0, 28.0, 34.0, 31.0, 25.0, 27.0, 26.0, 26.0, 17.0, 23.0, 25.0, 17.0, 22.0, 18.0, 17.0, 20.0, 14.0, 52.267876737207715, 34.64074203359444, 25.223196226409605, 20.94728964386907, 16.441001638116063, 13.911531944698844, 12.797812256514472, 12.552670090293018, 11.85332680329528, 11.806165121888254, 11.135332934910178, 10.714191352215742, 10.362607440084819, 10.09461612158318, 10.029357879013503, 9.51367205829112, 9.31927349826927, 9.272579936144163, 8.942988815239577, 8.907279310413454, 19.1529464173587, 38.79058842227075, 31.179266589031176, 26.580604739457144, 26.039209001843123, 22.071885404450928, 20.55817711090322, 18.383251024607244, 17.173281693206015, 16.68641227585288, 16.33777758787618, 12.395960168829884, 12.016450954492576, 10.532127189384827, 10.473814221790647, 9.740170926210343, 9.476070551145812, 8.413454194776005, 8.076699251626406, 7.756142877965409, 7.77229559450336, 36.45812516452059, 27.806074438096363, 23.990198646527894, 18.028355210275713, 15.849077043579896, 12.982551949364641, 11.751747740230728, 10.825720299807928, 10.770781002151226, 10.238488873927281, 9.517270020049308, 9.144353888177587, 7.9777273322875395, 7.469327614407295, 7.1425854737942975, 6.920985752055991, 6.815003496618839, 6.636459192013618, 6.481812168429993, 6.459063389209163, 17.578285289017295, 30.338945512653673, 25.978492863263707, 18.559806043256682, 17.452322234274604, 16.702872525058975, 12.90842902043773, 12.11354219290714, 10.92505416147871, 10.681629076106521, 8.967261331197033, 8.935219076867787, 8.703562061511606, 7.415517670885489, 7.411160654831591, 7.398911148006099, 6.848606561332194, 6.560536552648102, 6.48504893290168, 6.41025262842332, 6.284904551865733, 28.65589088250309, 13.755284205558565, 12.79303609738195, 12.245451363287836, 12.160028682203299, 11.992987039907417, 9.949972962583628, 9.178657962678907, 9.152393301234092, 7.531741130778977, 7.486057079025059, 7.286686899082952, 7.231806327893397, 7.228201648154199, 7.226469722038492, 6.9445955235501415, 6.490591285914344, 6.200542676608632, 6.181628746093807, 6.073737242785141, 17.813133389168208, 15.271363132090658, 13.477249615526139, 13.386636465375071, 12.003984925588023, 11.111833992662742, 9.590075790209907, 8.310478388838996, 8.194442541100273, 8.194442541100273, 8.083328468901787, 7.498928390833617, 6.871013676637692, 6.842589571585862, 6.7571703567544175, 6.546159901061436, 6.374021233389441, 6.363805479546551, 6.356365318053373, 6.155365286011786, 14.322568255982976, 13.749353025098518, 12.537971448101674, 9.670024688685235, 9.261299954831083, 8.900522952106765, 8.826958323542845, 7.278727666462665, 6.830062599406557, 6.211123370304455, 6.196416264602017, 5.611680668000878, 5.56018544919485, 5.076313287032896, 5.077847582948112, 4.884659954717969, 4.395061860896872, 4.282831040388878, 4.329052518493893, 4.223107824719949, 4.262956596302844, 13.933793048056886, 13.581347662631119, 13.356734220047358, 9.016311753879648, 8.571411927160907, 8.461064398830114, 8.064413855767942, 7.705567268086899, 7.206153330300097, 7.128940547202506, 7.077359009048601, 6.969830020967341, 6.061746360609238, 5.883135885566188, 5.826006510838516, 5.60631739742942, 5.296904421838837, 5.141279077070975, 5.123922439061673, 4.900590394557259, 4.900590394557259, 13.933793048056886, 17.90046341306913, 14.417923834343977, 9.301958653592495, 8.813360392161321, 8.747529045795595, 6.499283729832616, 6.489008878080023, 6.006351804661927, 5.568542287742865, 5.491576906057819, 5.1917170429552995, 5.027270228816907, 4.959252219427123, 4.379520654360109, 4.2745445020768384, 4.228288612458707, 4.184260328003999, 4.178462048504675, 4.162336663900388, 4.044781868094481, 4.074286655695136], \"Category\": [\"Default\", \"Default\", \"Default\", \"Default\", \"Default\", \"Default\", \"Default\", \"Default\", \"Default\", \"Default\", \"Default\", \"Default\", \"Default\", \"Default\", \"Default\", \"Default\", \"Default\", \"Default\", \"Default\", \"Default\", \"Topic1\", \"Topic1\", \"Topic1\", \"Topic1\", \"Topic1\", \"Topic1\", \"Topic1\", \"Topic1\", \"Topic1\", \"Topic1\", \"Topic1\", \"Topic1\", \"Topic1\", \"Topic1\", \"Topic1\", \"Topic1\", \"Topic1\", \"Topic1\", \"Topic1\", \"Topic1\", \"Topic1\", \"Topic2\", \"Topic2\", \"Topic2\", \"Topic2\", \"Topic2\", \"Topic2\", \"Topic2\", \"Topic2\", \"Topic2\", \"Topic2\", \"Topic2\", \"Topic2\", \"Topic2\", \"Topic2\", \"Topic2\", \"Topic2\", \"Topic2\", \"Topic2\", \"Topic2\", \"Topic2\", \"Topic3\", \"Topic3\", \"Topic3\", \"Topic3\", \"Topic3\", \"Topic3\", \"Topic3\", \"Topic3\", \"Topic3\", \"Topic3\", \"Topic3\", \"Topic3\", \"Topic3\", \"Topic3\", \"Topic3\", \"Topic3\", \"Topic3\", \"Topic3\", \"Topic3\", \"Topic3\", \"Topic3\", \"Topic4\", \"Topic4\", \"Topic4\", \"Topic4\", \"Topic4\", \"Topic4\", \"Topic4\", \"Topic4\", \"Topic4\", \"Topic4\", \"Topic4\", \"Topic4\", \"Topic4\", \"Topic4\", \"Topic4\", \"Topic4\", \"Topic4\", \"Topic4\", \"Topic4\", \"Topic4\", \"Topic5\", \"Topic5\", \"Topic5\", \"Topic5\", \"Topic5\", \"Topic5\", \"Topic5\", \"Topic5\", \"Topic5\", \"Topic5\", \"Topic5\", \"Topic5\", \"Topic5\", \"Topic5\", \"Topic5\", \"Topic5\", \"Topic5\", \"Topic5\", \"Topic5\", \"Topic5\", \"Topic6\", \"Topic6\", \"Topic6\", \"Topic6\", \"Topic6\", \"Topic6\", \"Topic6\", \"Topic6\", \"Topic6\", \"Topic6\", \"Topic6\", \"Topic6\", \"Topic6\", \"Topic6\", \"Topic6\", \"Topic6\", \"Topic6\", \"Topic6\", \"Topic6\", \"Topic6\", \"Topic7\", \"Topic7\", \"Topic7\", \"Topic7\", \"Topic7\", \"Topic7\", \"Topic7\", \"Topic7\", \"Topic7\", \"Topic7\", \"Topic7\", \"Topic7\", \"Topic7\", \"Topic7\", \"Topic7\", \"Topic7\", \"Topic7\", \"Topic7\", \"Topic7\", \"Topic7\", \"Topic7\", \"Topic7\", \"Topic8\", \"Topic8\", \"Topic8\", \"Topic8\", \"Topic8\", \"Topic8\", \"Topic8\", \"Topic8\", \"Topic8\", \"Topic8\", \"Topic8\", \"Topic8\", \"Topic8\", \"Topic8\", \"Topic8\", \"Topic8\", \"Topic8\", \"Topic8\", \"Topic8\", \"Topic8\", \"Topic8\", \"Topic9\", \"Topic9\", \"Topic9\", \"Topic9\", \"Topic9\", \"Topic9\", \"Topic9\", \"Topic9\", \"Topic9\", \"Topic9\", \"Topic9\", \"Topic9\", \"Topic9\", \"Topic9\", \"Topic9\", \"Topic9\", \"Topic9\", \"Topic9\", \"Topic9\", \"Topic9\", \"Topic9\"], \"logprob\": [20.0, 19.0, 18.0, 17.0, 16.0, 15.0, 14.0, 13.0, 12.0, 11.0, 10.0, 9.0, 8.0, 7.0, 6.0, 5.0, 4.0, 3.0, 2.0, 1.0, -3.0517, -3.4687, -3.7924, -3.9829, -4.2329, -4.4066, -4.4938, -4.5141, -4.5743, -4.5785, -4.6402, -4.6808, -4.7161, -4.7438, -4.7508, -4.8068, -4.8289, -4.8342, -4.8728, -4.8773, -4.3098, -3.3068, -3.5289, -3.6916, -3.7126, -3.8819, -3.9549, -4.0701, -4.141, -4.1701, -4.192, -4.4795, -4.5121, -4.6509, -4.6568, -4.7338, -4.7629, -4.8899, -4.9337, -4.9773, -4.9752, -3.2926, -3.5684, -3.7194, -4.013, -4.1463, -4.354, -4.4584, -4.5447, -4.5501, -4.6036, -4.6812, -4.7237, -4.8698, -4.9408, -4.9893, -5.0236, -5.0403, -5.0695, -5.0952, -5.0989, -4.4731, -3.2588, -3.4172, -3.7628, -3.8263, -3.8717, -4.1401, -4.2069, -4.3157, -4.3393, -4.5253, -4.5292, -4.5573, -4.73, -4.7306, -4.7324, -4.8165, -4.8636, -4.8763, -4.8892, -4.9108, -3.2112, -3.9682, -4.0441, -4.0901, -4.0974, -4.1121, -4.3094, -4.3954, -4.3985, -4.6085, -4.6149, -4.6443, -4.6526, -4.6531, -4.6535, -4.6967, -4.7709, -4.8213, -4.8246, -4.8443, -3.6754, -3.835, -3.9653, -3.9724, -4.0867, -4.168, -4.3241, -4.4773, -4.4924, -4.4924, -4.5072, -4.5883, -4.6837, -4.6879, -4.7017, -4.7365, -4.7657, -4.7675, -4.7689, -4.8042, -3.7635, -3.8061, -3.9027, -4.1771, -4.2232, -4.2657, -4.2746, -4.4827, -4.5521, -4.6567, -4.6593, -4.7694, -4.7797, -4.882, -4.8818, -4.9256, -5.0471, -5.0766, -5.066, -5.0929, -5.0848, -4.2358, -3.7544, -3.7719, -4.1874, -4.2417, -4.2556, -4.3074, -4.3567, -4.4293, -4.4411, -4.4491, -4.4658, -4.6194, -4.653, -4.6637, -4.7064, -4.77, -4.804, -4.8076, -4.858, -4.858, -4.7427, -3.4271, -3.6517, -4.1137, -4.1713, -4.1793, -4.5017, -4.5034, -4.5889, -4.6731, -4.6886, -4.7517, -4.7881, -4.8044, -4.946, -4.9746, -4.9865, -4.9987, -5.0003, -5.0048, -5.0382, -5.0316], \"loglift\": [20.0, 19.0, 18.0, 17.0, 16.0, 15.0, 14.0, 13.0, 12.0, 11.0, 10.0, 9.0, 8.0, 7.0, 6.0, 5.0, 4.0, 3.0, 2.0, 1.0, 1.836, 1.8303, 1.8239, 1.8191, 1.8113, 1.8047, 1.8009, 1.8, 1.7972, 1.7969, 1.7938, 1.7917, 1.7898, 1.7882, 1.7878, 1.7845, 1.783, 1.7828, 1.7804, 1.7799, 1.5818, 1.879, 1.8754, 1.8722, 1.8718, 1.8678, 1.8659, 1.8626, 1.8597, 1.8593, 1.8586, 1.8471, 1.8456, 1.8387, 1.8384, 1.834, 1.8324, 1.8243, 1.8214, 1.8183, 1.8182, 1.9552, 1.9503, 1.947, 1.9391, 1.9346, 1.9265, 1.9217, 1.9174, 1.9171, 1.9143, 1.9098, 1.9072, 1.8976, 1.8924, 1.8886, 1.8859, 1.8846, 1.8819, 1.8799, 1.8796, 1.5043, 2.1728, 2.1696, 2.1603, 2.1583, 2.1567, 2.1461, 2.1429, 2.1373, 2.1362, 2.1251, 2.1248, 2.123, 2.1105, 2.1105, 2.1103, 2.1035, 2.0993, 2.0982, 2.097, 2.0951, 2.2775, 2.2544, 2.251, 2.2488, 2.2485, 2.2477, 2.237, 2.2318, 2.2316, 2.2165, 2.2161, 2.2137, 2.213, 2.2129, 2.2128, 2.2094, 2.2028, 2.1981, 2.1979, 2.1958, 2.2887, 2.283, 2.2778, 2.2774, 2.2721, 2.2681, 2.2593, 2.2493, 2.2482, 2.2482, 2.247, 2.241, 2.233, 2.233, 2.2318, 2.2287, 2.2261, 2.2259, 2.2257, 2.2225, 2.4187, 2.4169, 2.4126, 2.3979, 2.395, 2.3922, 2.3917, 2.3764, 2.3706, 2.361, 2.3608, 2.3498, 2.3487, 2.3375, 2.3373, 2.3323, 2.3165, 2.3128, 2.3127, 2.3106, 2.3093, 1.9739, 2.481, 2.4802, 2.4576, 2.4539, 2.453, 2.4492, 2.4454, 2.4398, 2.4388, 2.438, 2.4367, 2.4226, 2.419, 2.418, 2.4138, 2.4069, 2.4028, 2.4025, 2.3967, 2.3967, 1.467, 2.5321, 2.5239, 2.5001, 2.4964, 2.4959, 2.4706, 2.4705, 2.4623, 2.4539, 2.4522, 2.4453, 2.4411, 2.4384, 2.4211, 2.4168, 2.4157, 2.414, 2.4138, 2.4131, 2.4084, 2.4078]}, \"token.table\": {\"Topic\": [9, 3, 2, 9, 4, 6, 5, 5, 9, 9, 5, 8, 9, 4, 1, 9, 8, 1, 5, 8, 4, 3, 2, 6, 5, 6, 7, 1, 9, 8, 6, 1, 9, 7, 9, 9, 1, 8, 4, 3, 1, 7, 4, 4, 1, 1, 4, 6, 2, 9, 6, 4, 8, 3, 6, 4, 7, 9, 3, 4, 5, 5, 2, 9, 8, 7, 1, 1, 4, 7, 6, 8, 9, 5, 2, 2, 4, 2, 3, 8, 1, 2, 9, 5, 3, 2, 4, 9, 8, 2, 7, 4, 2, 8, 1, 4, 2, 5, 9, 5, 5, 5, 2, 6, 3, 8, 3, 8, 4, 1, 3, 4, 3, 3, 6, 1, 9, 7, 7, 2, 2, 3, 6, 3, 5, 6, 3, 7, 7, 2, 3, 5, 7, 7, 7, 1, 8, 6, 9, 8, 6, 5, 5, 5, 5, 3, 6, 2, 2, 1, 8, 6, 2, 7, 8, 4, 1, 3, 4, 3, 7, 7, 2, 8, 8, 3, 6, 7, 6, 6, 3, 7, 8, 9, 7, 1, 7, 4, 2, 5, 6, 1, 1, 7, 1, 1, 8, 9], \"Freq\": [0.955963464612658, 0.9464273508643307, 0.9497607633273428, 0.9231786531274463, 0.974082404152137, 0.8659799025773143, 0.9706179789252826, 0.9676572379115826, 0.9630725169786665, 0.9077127955774132, 0.9450913413149725, 0.9571951416698735, 0.7956604315939746, 0.9888280391118964, 0.9460069618603831, 0.9104852914805663, 0.849886879592074, 0.8945555188850681, 0.9045250709568806, 0.9713920422101937, 0.929625129518129, 0.9767066334823489, 0.9240084253328062, 0.9163623636807556, 0.9679462754693375, 0.9711177287606848, 0.966008826790683, 0.9317165977635151, 0.9357722204217437, 0.9725206364110732, 0.8879456463610459, 0.9948749259788274, 0.9133419649517419, 0.9683016349750299, 0.967538164290176, 0.9460092171130297, 0.9547774599972495, 0.8477738648454646, 0.9252050465740049, 0.9429590110533447, 0.9657405163258097, 0.8988235908212999, 0.943966464739626, 0.969837721258942, 0.9906270708619734, 0.9333415533904904, 0.9445214219498074, 0.942832086757549, 0.9006348143720196, 0.7363252155580481, 0.9543520294041778, 0.9460851549604566, 0.816228184351526, 0.9874342094539076, 0.9165678948702615, 0.8760906246062523, 0.8784692545162501, 0.8065732136652786, 0.9710108508883231, 0.9361867865613083, 0.9686610847689807, 0.9833493495943249, 0.9793253650284214, 0.7416963628284153, 0.816228184351526, 0.9570926245662231, 0.9280095101184546, 0.93766026251023, 0.8953333915125867, 0.9063144638015089, 0.9822305887337309, 0.9732918081493357, 0.8979010559021334, 0.9293999725234873, 0.9600906079071155, 0.9494758105540968, 0.9579190630830433, 0.9680573216243836, 0.9237260637684701, 0.9084340914121857, 0.7831693188680985, 0.20884515169815962, 0.9246404362718776, 0.823216382292367, 0.8669285293959178, 0.9796190660047618, 0.9153272699790896, 0.9496960837107882, 0.9439475591413888, 0.9728489005668122, 0.787973431469987, 0.9145593431040565, 0.978156827312688, 0.8582208054004334, 0.981503224354344, 0.9360005522084662, 0.9899098089519741, 0.9771114817126985, 0.9145439767182154, 0.97995571122648, 0.9805355027493842, 0.9350716840796036, 0.9905036390192489, 0.9762714132016886, 0.9371660156528645, 0.8608531315613436, 0.9456493281203944, 0.8872807660579907, 0.9623345022971908, 0.9650080887285014, 0.9256670579291568, 0.9906268380380412, 0.9289272512828877, 0.9284377797675694, 0.9439356770383818, 0.9878465299869124, 0.9572900156964355, 0.9774783230061949, 0.7877353415317889, 0.9508579728130305, 0.9588639987730498, 0.9842138777717016, 0.9899355954438676, 0.9800372744131051, 0.9606560700283373, 0.873233598762982, 0.9243175029688422, 0.8909986679233505, 0.9617065400390064, 0.9547620177561598, 0.9040965711384862, 0.9172026921564085, 0.9307111708340081, 0.9383159104807917, 0.8188901657599525, 0.9559719098552268, 0.933335145712665, 0.9413209934993342, 0.8324520711755794, 0.8918510397382379, 0.9626401304098245, 0.8639812037509054, 0.9868397775707958, 0.924415008694353, 0.9380103291083308, 0.9587248667208845, 0.933466708197469, 0.9967431235196413, 0.9791521627978513, 0.9731767170989348, 0.9455075180737468, 0.9384701640405919, 0.9154117169585286, 0.9471697541289408, 0.8248448058617671, 0.9546684361688268, 0.34133022085770387, 0.6257720715724571, 0.8921341426917114, 0.8774428741967062, 0.9454990337559429, 0.9339616628062924, 0.9025104501215996, 0.9819130842305729, 0.9758149268386728, 0.9360309839142302, 0.9747593718987146, 0.9101123321126009, 0.8768610095971926, 0.9645885006851594, 0.880410406682375, 0.6459117032210465, 0.3588398351228036, 0.9609986704563519, 0.9239897143570869, 0.9911511521217953, 0.8992505817812303, 0.9191638944446828, 0.9942504552337917, 0.9684289870064052, 0.9762714132016886, 0.9706036574479496, 0.8981418142627728, 0.9717858231451862, 0.9344765229075872, 0.8973655251481811, 0.8680110080155873, 0.9710135911976128], \"Term\": [\"abhangigkeit\", \"abschaffung\", \"abschiebung\", \"abtreibung\", \"afd\", \"agrarpolitik\", \"alternative\", \"angst\", \"anspruch\", \"arbeitsplatz\", \"art\", \"aufgabe\", \"aufklarung\", \"ausbau\", \"ausweisung\", \"autobahn\", \"bauen_wohnen_miete\", \"bedarf\", \"behorde\", \"beitrag\", \"bereich\", \"beruf\", \"betrieb\", \"bevolkerung\", \"bewahrung\", \"bildung\", \"bildung_wissenschaft_forschung\", \"bund\", \"bundesland\", \"bundespolizei\", \"bundesregierung\", \"burger\", \"burka\", \"burokratie\", \"co\", \"dauer\", \"digitalisierung\", \"eigentum\", \"einkommen\", \"einrichtung\", \"einstieg\", \"eltern\", \"ende\", \"energie\", \"energietrager\", \"entscheidung\", \"entwicklung\", \"erforschung\", \"erfullung\", \"ernahrungsform\", \"eu\", \"euro\", \"fache\", \"familie\", \"familienpolitik\", \"finanzierung\", \"flache\", \"fluchtling\", \"forderung\", \"form\", \"forstwirtschaft\", \"freiheit\", \"gebiet\", \"gerechtigkeit\", \"gesamthohe\", \"gesellschaft\", \"grund\", \"grundgesetz\", \"grundlage\", \"grundrecht\", \"hand\", \"heimat\", \"heit\", \"hochschule\", \"identitat\", \"industrie\", \"infrastruktur\", \"integration\", \"internet\", \"it\", \"jahr\", \"jahr\", \"jahrzehnt\", \"justiz\", \"keit\", \"kind\", \"klima\", \"klima_energie_technik_digitalisierung\", \"km\", \"kommune\", \"kosten\", \"krankenhaus\", \"kultur\", \"lage\", \"land\", \"landschaft\", \"landwirt\", \"landwirtschaft\", \"leben\", \"lebensmittel\", \"leistung\", \"leitbild\", \"leitkultur\", \"liberalisierung\", \"mafsnahm\", \"maf\\u00dfnahme\", \"markt\", \"medium\", \"mensch\", \"migration\", \"migrationspakt\", \"mikroklima\", \"mitglied\", \"mittel\", \"mittelstand\", \"mobilitat_infrastruktur\", \"moscheeverein\", \"natur\", \"netz\", \"nutzen\", \"nutzung\", \"ort\", \"partei\", \"pcr\", \"pflege\", \"plattform\", \"politik\", \"polizei\", \"praxis\", \"prinzip\", \"prioritat\", \"produkt\", \"rahmen\", \"rechtsstaat\", \"reform\", \"region\", \"rente\", \"richtlinie\", \"risiko\", \"rundfunk\", \"schaden\", \"schaffung\", \"schule\", \"schuler\", \"schutz\", \"sicherheit\", \"sicherung\", \"sprache\", \"staat\", \"standard\", \"steuer\", \"stream\", \"struktur\", \"studie\", \"subvention\", \"system\", \"technik\", \"technik\", \"teil\", \"test\", \"tier\", \"tourismus\", \"trager\", \"transparenz\", \"umsetzung\", \"un\", \"unternehmen\", \"unterricht\", \"unterstutzung\", \"verantwortung\", \"verbotspolitik\", \"verbraucher\", \"verbraucher\", \"verpflichtung\", \"verschuldung\", \"versorgung\", \"verwaltung\", \"voraussetzung\", \"wald\", \"wasser\", \"wassermarkt\", \"wert\", \"wertschopfung\", \"wirkung\", \"wirtschaft\", \"wissenschaft\", \"wohngeld\", \"ziel\"]}, \"R\": 20, \"lambda.step\": 0.01, \"plot.opts\": {\"xlab\": \"PC1\", \"ylab\": \"PC2\"}, \"topic.order\": [8, 3, 9, 7, 2, 4, 1, 6, 5]};\n",
       "\n",
       "function LDAvis_load_lib(url, callback){\n",
       "  var s = document.createElement('script');\n",
       "  s.src = url;\n",
       "  s.async = true;\n",
       "  s.onreadystatechange = s.onload = callback;\n",
       "  s.onerror = function(){console.warn(\"failed to load library \" + url);};\n",
       "  document.getElementsByTagName(\"head\")[0].appendChild(s);\n",
       "}\n",
       "\n",
       "if(typeof(LDAvis) !== \"undefined\"){\n",
       "   // already loaded: just create the visualization\n",
       "   !function(LDAvis){\n",
       "       new LDAvis(\"#\" + \"ldavis_el574971403154221040322103352135\", ldavis_el574971403154221040322103352135_data);\n",
       "   }(LDAvis);\n",
       "}else if(typeof define === \"function\" && define.amd){\n",
       "   // require.js is available: use it to load d3/LDAvis\n",
       "   require.config({paths: {d3: \"https://d3js.org/d3.v5\"}});\n",
       "   require([\"d3\"], function(d3){\n",
       "      window.d3 = d3;\n",
       "      LDAvis_load_lib(\"https://cdn.jsdelivr.net/gh/bmabey/pyLDAvis@3.3.1/pyLDAvis/js/ldavis.v3.0.0.js\", function(){\n",
       "        new LDAvis(\"#\" + \"ldavis_el574971403154221040322103352135\", ldavis_el574971403154221040322103352135_data);\n",
       "      });\n",
       "    });\n",
       "}else{\n",
       "    // require.js not available: dynamically load d3 & LDAvis\n",
       "    LDAvis_load_lib(\"https://d3js.org/d3.v5.js\", function(){\n",
       "         LDAvis_load_lib(\"https://cdn.jsdelivr.net/gh/bmabey/pyLDAvis@3.3.1/pyLDAvis/js/ldavis.v3.0.0.js\", function(){\n",
       "                 new LDAvis(\"#\" + \"ldavis_el574971403154221040322103352135\", ldavis_el574971403154221040322103352135_data);\n",
       "            })\n",
       "         });\n",
       "}\n",
       "</script>"
      ],
      "text/plain": [
       "PreparedData(topic_coordinates=              x         y  topics  cluster       Freq\n",
       "topic                                                \n",
       "7      0.252757  0.209446       1        1  15.769563\n",
       "2      0.013224 -0.288766       2        1  15.051975\n",
       "8     -0.286261 -0.053325       3        1  13.934507\n",
       "6     -0.178494  0.241762       4        1  11.167080\n",
       "1      0.213324 -0.183380       5        1  10.042820\n",
       "3      0.192712 -0.002990       6        1   9.808338\n",
       "0      0.026290  0.201333       7        1   8.537549\n",
       "5     -0.124888 -0.167466       8        1   8.000584\n",
       "4     -0.108665  0.043387       9        1   7.687586, topic_info=                Term       Freq      Total Category  logprob  loglift\n",
       "112           burger  52.000000  52.000000  Default  20.0000  20.0000\n",
       "149             kind  38.000000  38.000000  Default  19.0000  19.0000\n",
       "139          familie  36.000000  36.000000  Default  18.0000  18.0000\n",
       "289           ausbau  30.000000  30.000000  Default  17.0000  17.0000\n",
       "318   landwirtschaft  28.000000  28.000000  Default  16.0000  16.0000\n",
       "...              ...        ...        ...      ...      ...      ...\n",
       "2283    abhangigkeit   3.595883   4.184260   Topic9  -4.9987   2.4140\n",
       "250    moscheeverein   3.590203   4.178462   Topic9  -5.0003   2.4138\n",
       "2330   verpflichtung   3.573876   4.162337   Topic9  -5.0048   2.4131\n",
       "126    gerechtigkeit   3.456472   4.044782   Topic9  -5.0382   2.4084\n",
       "3315  ernahrungsform   3.479577   4.074287   Topic9  -5.0316   2.4078\n",
       "\n",
       "[206 rows x 6 columns], token_table=      Topic      Freq          Term\n",
       "term                               \n",
       "2283      9  0.955963  abhangigkeit\n",
       "49        3  0.946427   abschaffung\n",
       "124       2  0.949761   abschiebung\n",
       "2131      9  0.923179    abtreibung\n",
       "895       4  0.974082           afd\n",
       "...     ...       ...           ...\n",
       "907       7  0.971786       wirkung\n",
       "56        1  0.934477    wirtschaft\n",
       "1483      1  0.897366  wissenschaft\n",
       "276       8  0.868011      wohngeld\n",
       "641       9  0.971014          ziel\n",
       "\n",
       "[188 rows x 3 columns], R=20, lambda_step=0.01, plot_opts={'xlab': 'PC1', 'ylab': 'PC2'}, topic_order=[8, 3, 9, 7, 2, 4, 1, 6, 5])"
      ]
     },
     "execution_count": 136,
     "metadata": {},
     "output_type": "execute_result"
    }
   ],
   "source": [
    "pyLDAvis.enable_notebook()\n",
    "vis=gensimvis.prepare(lda_model_2,corpus_2,id2word_2,mds='mmds',R=20)\n",
    "vis"
   ]
  },
  {
   "cell_type": "code",
   "execution_count": null,
   "metadata": {},
   "outputs": [],
   "source": []
  },
  {
   "cell_type": "code",
   "execution_count": null,
   "metadata": {},
   "outputs": [],
   "source": []
  },
  {
   "cell_type": "code",
   "execution_count": 6,
   "metadata": {},
   "outputs": [],
   "source": []
  },
  {
   "cell_type": "code",
   "execution_count": 7,
   "metadata": {},
   "outputs": [],
   "source": []
  },
  {
   "cell_type": "code",
   "execution_count": null,
   "metadata": {},
   "outputs": [
    {
     "ename": "",
     "evalue": "",
     "output_type": "error",
     "traceback": [
      "\u001b[1;31mDas Ausführen von Zellen mit „Python 3.9.15“ erfordert das ipykernel-Paket.\n",
      "\u001b[1;31mFühren Sie den folgenden Befehl aus, um „ipykernel“ in der Python-Umgebung zu installieren. \n",
      "\u001b[1;31mBefehl: „conda install -p /opt/anaconda3/envs/NLP_spacy ipykernel --update-deps --force-reinstall“"
     ]
    }
   ],
   "source": []
  },
  {
   "cell_type": "code",
   "execution_count": null,
   "metadata": {},
   "outputs": [],
   "source": []
  }
 ],
 "metadata": {
  "kernelspec": {
   "display_name": "Python 3.9.15 ('NLP')",
   "language": "python",
   "name": "python3"
  },
  "language_info": {
   "codemirror_mode": {
    "name": "ipython",
    "version": 3
   },
   "file_extension": ".py",
   "mimetype": "text/x-python",
   "name": "python",
   "nbconvert_exporter": "python",
   "pygments_lexer": "ipython3",
   "version": "3.9.15"
  },
  "orig_nbformat": 4,
  "vscode": {
   "interpreter": {
    "hash": "54c35701683d52397dec8c1b1dabb7d7599bf83c9aec0584240eb3e578830d84"
   }
  }
 },
 "nbformat": 4,
 "nbformat_minor": 2
}
