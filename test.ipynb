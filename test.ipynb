{
 "cells": [
  {
   "cell_type": "code",
   "execution_count": 47,
   "metadata": {},
   "outputs": [],
   "source": [
    "import re"
   ]
  },
  {
   "cell_type": "code",
   "execution_count": 2,
   "metadata": {},
   "outputs": [],
   "source": [
    "filename='data/AFD_Wahlprogramm_2021.txt'"
   ]
  },
  {
   "cell_type": "code",
   "execution_count": 19,
   "metadata": {},
   "outputs": [],
   "source": [
    "with open(filename, encoding='UTF-8') as f:\n",
    "    text = f.read()\n",
    "    #text = text.replace(r'\\\\d+\\\\n', '$')\n",
    "    #text=   re.sub(\"\\n\\n\", \".\", text)\n",
    "    #text=   re.sub(\"\\d+.\", \".\", text)\n",
    "    text=   re.sub(\" \\d+\\n\", \".\", text)\n",
    "    text=   re.sub(\"\\n\\d+\", \" \", text)\n",
    "    text=   re.sub(\"\\n\", \" \", text)\n",
    "sentences = re.split(r' *[\\.\\?!][\\'\"\\)\\]]* *', text)"
   ]
  },
  {
   "cell_type": "code",
   "execution_count": 22,
   "metadata": {},
   "outputs": [],
   "source": [
    "import yaml\n",
    "import pandas as pd\n",
    "\n",
    "DATA_DIR = \"data\"\n",
    "\n",
    "\n",
    "def load_yaml_file(file_path):\n",
    "    # reads the yml files as a dictionary, were each topic is a key and the values are a list of elements\n",
    "    with open(file_path, \"r\", encoding='UTF-8') as stream:\n",
    "        yaml_dict = yaml.safe_load(stream)\n",
    "        return yaml_dict\n",
    "\n",
    "\n",
    "def load_markdown_file(file_path):\n",
    "    with open(file_path, \"r\", encoding='UTF-8') as stream:\n",
    "        markdown_str = stream.read()\n",
    "        return markdown_str\n",
    "\n",
    "\n",
    "def get_counts(df: pd.DataFrame, label_col: str = \"label\") -> pd.DataFrame:\n",
    "    \"\"\"\n",
    "    Get the labels count in a dataframe.\n",
    "   \n",
    "    \"\"\"\n",
    "    count_df = df[label_col].value_counts().to_frame().reset_index()\n",
    "    count_df.columns = [label_col, \"sentence_count\"]\n",
    "    count_df[\"percent\"] = count_df.sentence_count / count_df.sentence_count.sum() * 100\n",
    "    return count_df"
   ]
  },
  {
   "cell_type": "code",
   "execution_count": 23,
   "metadata": {},
   "outputs": [],
   "source": [
    "from typing import Dict, List\n",
    "import spacy\n",
    "from string import punctuation\n",
    "import pandas as pd\n",
    "from tqdm.auto import tqdm\n",
    "from transformers import pipeline\n",
    "\n",
    "\n",
    "def _add_sentence_to_list(sentence: str, sentences_list):\n",
    "    \"\"\"\n",
    "    Add a sentence to the list of sentences.\n",
    "    Args:\n",
    "        sentence (str):\n",
    "            Sentence to be added.\n",
    "        sentences (List[str]):\n",
    "            List of sentences.\n",
    "    \"\"\"\n",
    "    while sentence.startswith(\" \"):\n",
    "        # remove leading space\n",
    "        sentence = sentence[1:]\n",
    "    if all(c in punctuation for c in sentence) or len(sentence) == 1:\n",
    "        # skip sentences with only punctuation\n",
    "        return\n",
    "    sentences_list.append(sentence)\n",
    "\n",
    "\n",
    "def get_sentences(text: str):\n",
    "    \"\"\"\n",
    "    Get sentences from a text.\n",
    "    Args:\n",
    "        text (str):\n",
    "            Text to be processed.\n",
    "    Returns:\n",
    "        List[str]:\n",
    "            List of sentences.\n",
    "    \"\"\"\n",
    "    # get the paragraphs\n",
    "    text=   re.sub(\" \\d+\\n\", \".\", text)\n",
    "    text=   re.sub(\"\\n\\d+\", \" \", text)\n",
    "    text=   re.sub(\"\\n\", \" \", text)\n",
    "    text=   re.sub(\"\\d+.\", \"\", text)\n",
    "    paragraphs = re.split(r' *[\\.\\?!][\\'\"\\)\\]]* *', text)\n",
    "    paragraphs = [p for p in paragraphs if p != \"\"]\n",
    "    # get the sentences from the paragraphs\n",
    "    sentences = list()\n",
    "    for paragraph in paragraphs:\n",
    "        if paragraph.startswith(\"#\"):\n",
    "            _add_sentence_to_list(paragraph, sentences)\n",
    "            continue\n",
    "        prev_sentence_idx = 0\n",
    "        for idx in range(len(paragraph)):\n",
    "            if idx + 1 < len(paragraph):\n",
    "                if (paragraph[idx] == \".\" and not paragraph[idx + 1].isdigit()) or (\n",
    "                    paragraph[idx] in \"!?\"\n",
    "                ):\n",
    "                    sentence = paragraph[prev_sentence_idx : idx + 1]\n",
    "                    _add_sentence_to_list(sentence, sentences)\n",
    "                    prev_sentence_idx = idx + 1\n",
    "            else:\n",
    "                sentence = paragraph[prev_sentence_idx:]\n",
    "                _add_sentence_to_list(sentence, sentences)\n",
    "    return sentences\n",
    "\n",
    "\n",
    "def get_words(text: str) -> List[str]:\n",
    "    \"\"\"\n",
    "    Get every word in the text that isn't a stopword or punctuation,\n",
    "    and that is either a noun, adjective, verb or interjection\n",
    "    \"\"\"\n",
    "    nlp = spacy.load(\"de_core_news_lg\")\n",
    "    nlp.max_length = 8000000\n",
    "    doc = nlp(text)\n",
    "    words = [\n",
    "        word.text.replace(\"\\n\", \"\").replace(\"*\", \"\")  # remove new line and bold symbols\n",
    "        for word in doc\n",
    "        if not word.is_stop  # remove stopwords\n",
    "        and not word.is_punct  # remove punctuation\n",
    "        and (\n",
    "            word.pos_ == \"NOUN\"  # noun\n",
    "            or word.pos_ == \"ADJ\"  # adjective\n",
    "            or word.pos_ == \"VERB\"  # verb\n",
    "            or word.pos_ == \"INTJ\"  # interjection\n",
    "            or word.pos_ == \"X\"  # other\n",
    "        )\n",
    "    ]\n",
    "    # remove blank words and spaces\n",
    "    words = [word for word in words if word != \"\"]\n",
    "    words = [word.replace(\" \", \"\") for word in words]\n",
    "    # make all words lowercase\n",
    "    words = [word.lower() for word in words]\n",
    "    # remove undesired words\n",
    "    words = [\n",
    "        word\n",
    "        for word in words\n",
    "        if word not in [ \"Politik\",\"Politiker\"]\n",
    "    ]\n",
    "    # remove words with less than 3 characters\n",
    "    words = [word for word in words if len(word) > 2]\n",
    "    return words\n",
    "\n",
    "\n",
    "def get_topical_sentences(\n",
    "    sentences, topics, df_y=0\n",
    ") :\n",
    "\n",
    "    \"classifies the content based on the frequency of the occurring words of the classes\"\n",
    "    sent_df=[]\n",
    "    topical_sentences = dict()\n",
    "    topics_list=[]\n",
    "    for topic in topics:\n",
    "        topics_list.append(topic)\n",
    "        topical_sentences[topic] = list()\n",
    "        #topical_sentences[f'{topic}_num'] = list()\n",
    "    for sentence in sentences:\n",
    "        topic_list=[]\n",
    "        for topic in topics:\n",
    "            if any(str(topical_word) in str(sentence.lower()) for topical_word in topics[topic]):\n",
    "                for  topical_word in topics[topic]:\n",
    "                        if str(topical_word) in str(sentence.lower()):\n",
    "                            topic_num+=1\n",
    "                \n",
    "                \n",
    "            else:\n",
    "                topic_num=0\n",
    "            topic_list.append(topic_num)\n",
    "        \n",
    "        topical_sentences[topics_list[max(range(len(topic_list)), key=topic_list.__getitem__)]].append(sentence)\n",
    "        if df_y:\n",
    "            sent_df.append([sentence,topics_list[max(range(len(topic_list)), key=topic_list.__getitem__)]])\n",
    "    if df_y:\n",
    "        return pd.DataFrame(data=sent_df,columns=['text','topic'])\n",
    "\n",
    "    return topical_sentences\n",
    "\n",
    "\n"
   ]
  },
  {
   "cell_type": "code",
   "execution_count": 24,
   "metadata": {},
   "outputs": [
    {
     "data": {
      "text/plain": [
       "8"
      ]
     },
     "execution_count": 24,
     "metadata": {},
     "output_type": "execute_result"
    }
   ],
   "source": [
    "lsit=[1,2,3,8,2,5]\n",
    "lsit[max(range(len(lsit)), key=lsit.__getitem__)]"
   ]
  },
  {
   "cell_type": "code",
   "execution_count": 25,
   "metadata": {},
   "outputs": [],
   "source": [
    "from typing import Dict, List\n",
    "import matplotlib.pyplot as plt\n",
    "from wordcloud import WordCloud\n",
    "import plotly.express as px\n",
    "import plotly.graph_objects as go\n",
    "from plotly.graph_objects import Figure\n",
    "import os\n",
    "import pandas as pd\n",
    "\n",
    "\n",
    "\n",
    "def get_word_cloud(\n",
    "    words: List[str],\n",
    "    max_words: int = 500,\n",
    "    image_path: str = None,\n",
    "    image_name: str = None,\n",
    "):\n",
    "    \"\"\"\n",
    "    Create a word cloud based on a set of words.\n",
    "    \"\"\"\n",
    "    # change the value to black\n",
    "    def black_color_func(\n",
    "        word, font_size, position, orientation, random_state=None, **kwargs\n",
    "    ):\n",
    "        return \"hsl(0,100%, 1%)\"\n",
    "\n",
    "    # set the wordcloud background color to white\n",
    "    # set width and height to higher quality, 3000 x 2000\n",
    "    wordcloud = WordCloud(\n",
    "        font_path=\"/Library/Fonts/Arial Unicode.ttf\",\n",
    "        background_color=\"white\",\n",
    "        width=3000,\n",
    "        height=2000,\n",
    "        max_words=max_words,\n",
    "    ).generate(\" \".join(words))\n",
    "    # set the word color to black\n",
    "    wordcloud.recolor(color_func=black_color_func)\n",
    "    # set the figsize\n",
    "    plt.figure(figsize=[15, 10])\n",
    "    # plot the wordcloud\n",
    "    plt.imshow(wordcloud, interpolation=\"bilinear\")\n",
    "    # remove plot axes\n",
    "    plt.axis(\"off\")\n",
    "    if image_path is not None and image_name is not None:\n",
    "        # save the image\n",
    "        plt.savefig(os.path.join(image_path, image_name), bbox_inches=\"tight\")\n",
    "\n",
    "\n",
    "def plot_topical_presence(\n",
    "    sentences: List[str],\n",
    "    topics: Dict[str, List[str]],\n",
    "    title: str = None,\n",
    "    color: str = \"blue\",\n",
    "    height: int = 300,\n",
    ") :\n",
    "    \"\"\"\n",
    "    Plot the number of sentences per topic.\n",
    "    \"\"\"\n",
    "    topical_sentences = get_topical_sentences(sentences, topics)\n",
    "    topic_sentence_count = dict()\n",
    "    for topic in topical_sentences.keys():\n",
    "        topic_sentence_count[topic] = len(topical_sentences[topic])\n",
    "    topic_sentence_count = pd.DataFrame(\n",
    "        topic_sentence_count, index=[\"sentence_count\"]\n",
    "    ).T\n",
    "    topic_sentence_count[\"sentence_percentage\"] = (\n",
    "        topic_sentence_count[\"sentence_count\"] / len(sentences) * 100\n",
    "    )\n",
    "    topic_sentence_count.index.name = \"topic\"\n",
    "    topic_sentence_count.sort_index(inplace=True)\n",
    "    fig = px.bar(topic_sentence_count, x=\"sentence_percentage\", orientation=\"h\")\n",
    "    fig.update_layout(\n",
    "        title=title,\n",
    "        xaxis_title=\"Prozent\",\n",
    "        yaxis_title=\"Topic\",\n",
    "        yaxis=dict(categoryorder=\"category descending\"),\n",
    "        margin=dict(l=0, r=0, b=0, t=0, pad=0),\n",
    "        height=height,\n",
    "    )\n",
    "    fig.update_traces(marker_color=color)\n",
    "    return fig\n",
    "\n",
    "\n",
    "def plot_approaches(\n",
    "    sentences: List[str],\n",
    "    approaches: Dict[str, List[str]],\n",
    "    title: str = None,\n",
    "    height: int = 300,\n",
    "):\n",
    "    \"\"\"\n",
    "    Plot the approaches taken to language and policy.\n",
    "    \"\"\"\n",
    "    approach_sentences = get_topical_sentences(sentences, approaches)\n",
    "    approach_sentence_count = dict()\n",
    "    total_num_sentences_in_approaches = sum(\n",
    "        [len(approach_sentences[approach]) for approach in approach_sentences.keys()]\n",
    "    )\n",
    "    for approach in approaches:\n",
    "        approach_sentence_count[approach] = (\n",
    "            len(approach_sentences[approach]) / total_num_sentences_in_approaches * 100\n",
    "        )\n",
    "    fig = go.Figure()\n",
    "    fig.add_trace(\n",
    "        go.Bar(\n",
    "            x=[approach_sentence_count[\"rational\"]],\n",
    "            name=\"rational\",\n",
    "            orientation=\"h\",\n",
    "            marker=dict(color=\"green\"),\n",
    "            hovertemplate=\"rational: %{x:.1f}%<extra></extra>\",\n",
    "        )\n",
    "    )\n",
    "    fig.add_trace(\n",
    "        go.Bar(\n",
    "            x=[approach_sentence_count[\"Intuitionen\"]],\n",
    "            name=\"intuition\",\n",
    "            orientation=\"h\",\n",
    "            marker=dict(color=\"red\"),\n",
    "            hovertemplate=\"intuition: %{x:.1f}%<extra></extra>\",\n",
    "        )\n",
    "    )\n",
    "    fig.update_layout(\n",
    "        title=title,\n",
    "        barmode=\"stack\",\n",
    "        xaxis=dict(\n",
    "            showgrid=False,  # thin lines in the background\n",
    "            zeroline=False,  # thick line at x=0\n",
    "            visible=False,  # numbers below\n",
    "        ),\n",
    "        yaxis=dict(\n",
    "            showgrid=False,  # thin lines in the background\n",
    "            zeroline=False,  # thick line at x=0\n",
    "            visible=False,  # numbers below\n",
    "        ),\n",
    "        margin=dict(l=0, r=0, b=0, t=0, pad=0),\n",
    "        height=height,\n",
    "    )\n",
    "    return fig\n",
    "\n",
    "\n",
    "def plot_sentiment(\n",
    "    df: pd.DataFrame, title: str = None, height: int = 300, label_col: str = \"label\"\n",
    "):\n",
    "    \"\"\"\n",
    "    Plot the predicted sentiment of the sentences.\n",
    "    \"\"\"\n",
    "    sentiments_count = get_counts(df, label_col=label_col)\n",
    "    labels_order = [\"neutral\", \"positiv\", \"negativ\"]\n",
    "    fig = px.bar(\n",
    "        x=labels_order,\n",
    "        y=[\n",
    "            float(sentiments_count[sentiments_count[label_col] == label].percent)\n",
    "            for label in labels_order\n",
    "        ],\n",
    "        title=title,\n",
    "    )\n",
    "    fig.update_traces(\n",
    "        marker_color=[\"gray\", \"green\", \"red\"],\n",
    "        hovertemplate=\"%{y:.1f}%<extra></extra>\",\n",
    "    )\n",
    "    fig.update_layout(\n",
    "        xaxis_title=\"Sntiment\",\n",
    "        yaxis_title=\"Prozent\",\n",
    "        margin=dict(l=0, r=0, b=0, t=0, pad=0),\n",
    "        height=height,\n",
    "    )\n",
    "    return fig\n",
    "\n",
    "\n",
    "def plot_hate_speech(\n",
    "    df: pd.DataFrame, title: str = None, height: int = 300, label_col: str = \"label\"\n",
    ") :\n",
    "    \"\"\"\n",
    "    Show the percentage of estimated hate speech sentences.\n",
    "    \"\"\"\n",
    "    hate_count = get_counts(df, label_col=label_col)\n",
    "    try:\n",
    "        hate_percent = hate_count[hate_count[label_col] == \"negativ\"].percent.values[0]\n",
    "    except IndexError:\n",
    "        hate_percent = 0\n",
    "    fig = go.Figure(\n",
    "        go.Indicator(\n",
    "            mode=\"number\",\n",
    "            value=hate_percent,\n",
    "            title=title,\n",
    "            number=dict(suffix=\"%\", valueformat=\".2f\"),\n",
    "            delta=dict(position=\"top\", reference=320),\n",
    "            domain=dict(x=[0, 1], y=[0, 1]),\n",
    "        )\n",
    "    )\n",
    "    fig.update_layout(\n",
    "        paper_bgcolor=\"darkred\",\n",
    "        font_color=\"white\",\n",
    "        margin=dict(l=0, r=0, b=0, t=0, pad=0),\n",
    "        height=height,\n",
    "    )\n",
    "    return fig"
   ]
  },
  {
   "cell_type": "code",
   "execution_count": 5,
   "metadata": {},
   "outputs": [],
   "source": [
    "import os\n",
    "import sys\n",
    "from ipywidgets import interact\n",
    "import plotly.io as pio\n",
    "from string import punctuation"
   ]
  },
  {
   "cell_type": "code",
   "execution_count": 26,
   "metadata": {},
   "outputs": [],
   "source": [
    "pio.templates.default = \"plotly_white\"\n",
    "data_name = None\n",
    "party_data = None\n",
    "party_names = None\n",
    "selected_party = None"
   ]
  },
  {
   "cell_type": "code",
   "execution_count": 27,
   "metadata": {},
   "outputs": [],
   "source": [
    "DATA_DIR='data'"
   ]
  },
  {
   "cell_type": "code",
<<<<<<< HEAD
   "execution_count": 42,
=======
   "execution_count": 28,
>>>>>>> 9e87bef8e9d2a27ba199e31892599f5d972441b8
   "metadata": {},
   "outputs": [],
   "source": [
    "data_names = os.listdir(DATA_DIR)\n",
    "data_names = [name[:-4] for name in data_names if name != \".DS_Store\"]"
   ]
  },
  {
   "cell_type": "code",
<<<<<<< HEAD
   "execution_count": 43,
=======
   "execution_count": 29,
>>>>>>> 9e87bef8e9d2a27ba199e31892599f5d972441b8
   "metadata": {},
   "outputs": [
    {
     "data": {
      "text/plain": [
<<<<<<< HEAD
       "['SPD_Wahlprogramm_2021_sentences',\n",
       " 'DIE_LINKE_Wahlprogramm_2021_sentences',\n",
       " 'DIE_LINKE_Wahlprogramm_2021_sent_lemma_list',\n",
       " 'DIE_GRUENEN_Wahlprogramm_2021',\n",
       " 'DIE_GRUENEN_Wahlprogramm_2021_sent_lemma_list',\n",
       " 'FDP_Wahlprogramm_2021',\n",
       " 'DIE_LINKE_Wahlprogramm_2021',\n",
       " 'FDP_Wahlprogramm_2021_sentences',\n",
       " 'FDP_Wahlprogramm_2021_sent_lemma_list',\n",
       " 'CDU-CSU_Wahlrprogramm_2021_sent_lemma_list',\n",
=======
       "['AFD_Wahlprogramm_2021',\n",
       " 'AFD_Wahlprogramm_2021_sentences',\n",
       " 'AFD_Wahlprogramm_2021_sent_lemma_list',\n",
>>>>>>> 9e87bef8e9d2a27ba199e31892599f5d972441b8
       " 'CDU-CSU_Wahlrprogramm_2021',\n",
       " 'CDU-CSU_Wahlrprogramm_2021_sentences',\n",
       " 'CDU-CSU_Wahlrprogramm_2021_sent_lemma_list',\n",
       " 'DIE_GRUENEN_Wahlprogramm_2021',\n",
       " 'DIE_GRUENEN_Wahlprogramm_2021_sentences',\n",
       " 'DIE_GRUENEN_Wahlprogramm_2021_sent_lemma_list',\n",
       " 'DIE_LINKE_Wahlprogramm_2021',\n",
       " 'DIE_LINKE_Wahlprogramm_2021_sentences',\n",
       " 'DIE_LINKE_Wahlprogramm_2021_sent_lemma_list',\n",
       " 'FDP_Wahlprogramm_2021',\n",
       " 'FDP_Wahlprogramm_2021_sentences',\n",
       " 'FDP_Wahlprogramm_2021_sent_lemma_list',\n",
       " '',\n",
       " 'AFD_Wahlprogramm_2021_sent_lemma_list',\n",
       " 'SPD_Wahlprogramm_2021',\n",
<<<<<<< HEAD
       " 'CDU-CSU_Wahlrprogramm_2021_sentences',\n",
       " 'SPD_Wahlprogramm_2021_sent_lemma_list',\n",
       " 'AFD_Wahlprogramm_2021_sentences',\n",
       " 'DIE_GRUENEN_Wahlprogramm_2021_sentences',\n",
       " 'AFD_Wahlprogramm_2021']"
      ]
     },
     "execution_count": 43,
=======
       " 'SPD_Wahlprogramm_2021_sentences',\n",
       " 'SPD_Wahlprogramm_2021_sent_lemma_list']"
      ]
     },
     "execution_count": 29,
>>>>>>> 9e87bef8e9d2a27ba199e31892599f5d972441b8
     "metadata": {},
     "output_type": "execute_result"
    }
   ],
   "source": [
    "data_names"
   ]
  },
  {
   "cell_type": "code",
<<<<<<< HEAD
   "execution_count": 44,
=======
   "execution_count": 30,
>>>>>>> 9e87bef8e9d2a27ba199e31892599f5d972441b8
   "metadata": {},
   "outputs": [
    {
     "data": {
      "application/vnd.jupyter.widget-view+json": {
<<<<<<< HEAD
       "model_id": "6ac79249c3994f57bc00f91a58bbd10d",
=======
       "model_id": "3f0b4b87c0044c3ab408923f983d22c6",
>>>>>>> 9e87bef8e9d2a27ba199e31892599f5d972441b8
       "version_major": 2,
       "version_minor": 0
      },
      "text/plain": [
<<<<<<< HEAD
       "interactive(children=(Dropdown(description='data', options=('SPD_Wahlprogramm_2021_sentences', 'DIE_LINKE_Wahl…"
=======
       "interactive(children=(Dropdown(description='data', options=('AFD_Wahlprogramm_2021', 'AFD_Wahlprogramm_2021_se…"
>>>>>>> 9e87bef8e9d2a27ba199e31892599f5d972441b8
      ]
     },
     "metadata": {},
     "output_type": "display_data"
    }
   ],
   "source": [
    "@interact\n",
    "def set_data(data=data_names):\n",
    "    global data_name\n",
    "    global party_data\n",
    "    global party_names\n",
    "    data_name = data\n",
    "    party_data = load_yaml_file('topic_modeling/paties.yml')\n",
    "    party_names = list(party_data.keys())"
   ]
  },
  {
   "cell_type": "code",
   "execution_count": 31,
   "metadata": {},
   "outputs": [
    {
     "data": {
      "application/vnd.jupyter.widget-view+json": {
       "model_id": "4c6a1e27f2e442608b17c54544e7dbe3",
       "version_major": 2,
       "version_minor": 0
      },
      "text/plain": [
       "interactive(children=(Dropdown(description='party', options=('AFD', 'CDU', 'GR', 'LI', 'FDP', 'SPD'), value='A…"
      ]
     },
     "metadata": {},
     "output_type": "display_data"
    }
   ],
   "source": [
    "@interact\n",
    "def select_party(party=party_names):\n",
    "    global selected_party\n",
    "    selected_party = party"
   ]
  },
  {
   "cell_type": "code",
   "execution_count": 32,
   "metadata": {},
   "outputs": [
    {
     "data": {
      "text/plain": [
       "['AFD', 'CDU', 'GR', 'LI', 'FDP', 'SPD']"
      ]
     },
     "execution_count": 32,
     "metadata": {},
     "output_type": "execute_result"
    }
   ],
   "source": [
    "party_names"
   ]
  },
  {
   "cell_type": "code",
   "execution_count": 33,
   "metadata": {},
   "outputs": [
    {
     "data": {
      "text/plain": [
       "dict_keys(['wirtschaft', 'Klima', 'Bildung', 'Gesundheit', 'Wissenschaft', 'soziale Ursachen', 'Politik und Ideologie', 'Infrastruktur'])"
      ]
     },
     "execution_count": 33,
     "metadata": {},
     "output_type": "execute_result"
    }
   ],
   "source": [
    "topics = load_yaml_file('topic_modeling/topic_g.yml')\n",
    "topics.keys()\n"
   ]
  },
  {
   "cell_type": "code",
   "execution_count": 34,
   "metadata": {},
   "outputs": [
    {
     "data": {
      "text/plain": [
       "['Steuer', 'Steuerarten', 'Einkommensteuer', 'Finanzierung', 'Finanzen']"
      ]
     },
     "execution_count": 34,
     "metadata": {},
     "output_type": "execute_result"
    }
   ],
   "source": [
    "topics['wirtschaft'][0:5]\n"
   ]
  },
  {
   "cell_type": "code",
   "execution_count": 35,
   "metadata": {},
   "outputs": [
    {
     "data": {
      "text/plain": [
       "'Steuer Steuerarten Einkommensteuer Finanzierung Finanzen Wirtschaft Volkswirtschaft Marktwirtschaft'"
      ]
     },
     "execution_count": 35,
     "metadata": {},
     "output_type": "execute_result"
    }
   ],
   "source": [
    "' '.join(topics['wirtschaft'][0:8])"
   ]
  },
  {
   "cell_type": "code",
   "execution_count": 36,
   "metadata": {},
   "outputs": [],
   "source": [
    "def list_lemma(lsit):\n",
    "    liste=[]\n",
    "    string=' '.join(lsit)\n",
    "    nlp = spacy.load(\"de_core_news_lg\")\n",
    "    doc = nlp(str(string))\n",
    "    for token in tqdm(doc):\n",
    "        if not token.is_stop and not token.is_punct:\n",
    "            liste.append(token.lemma_.lower())\n",
    "    return list(dict.fromkeys(liste))  "
   ]
  },
  {
   "cell_type": "code",
   "execution_count": 37,
   "metadata": {},
   "outputs": [
    {
     "ename": "OSError",
     "evalue": "[E050] Can't find model 'de_core_news_lg'. It doesn't seem to be a Python package or a valid path to a data directory.",
     "output_type": "error",
     "traceback": [
      "\u001b[1;31m---------------------------------------------------------------------------\u001b[0m",
      "\u001b[1;31mOSError\u001b[0m                                   Traceback (most recent call last)",
      "\u001b[1;32mc:\\Users\\DELSTEI9\\OneDrive - EY\\Documents\\GitHub\\NLP\\test.ipynb Cell 20\u001b[0m in \u001b[0;36m<cell line: 1>\u001b[1;34m()\u001b[0m\n\u001b[1;32m----> <a href='vscode-notebook-cell:/c%3A/Users/DELSTEI9/OneDrive%20-%20EY/Documents/GitHub/NLP/test.ipynb#X25sZmlsZQ%3D%3D?line=0'>1</a>\u001b[0m list_lemma(topics[\u001b[39m'\u001b[39;49m\u001b[39mwirtschaft\u001b[39;49m\u001b[39m'\u001b[39;49m])\n",
      "\u001b[1;32mc:\\Users\\DELSTEI9\\OneDrive - EY\\Documents\\GitHub\\NLP\\test.ipynb Cell 20\u001b[0m in \u001b[0;36mlist_lemma\u001b[1;34m(lsit)\u001b[0m\n\u001b[0;32m      <a href='vscode-notebook-cell:/c%3A/Users/DELSTEI9/OneDrive%20-%20EY/Documents/GitHub/NLP/test.ipynb#X25sZmlsZQ%3D%3D?line=1'>2</a>\u001b[0m liste\u001b[39m=\u001b[39m[]\n\u001b[0;32m      <a href='vscode-notebook-cell:/c%3A/Users/DELSTEI9/OneDrive%20-%20EY/Documents/GitHub/NLP/test.ipynb#X25sZmlsZQ%3D%3D?line=2'>3</a>\u001b[0m string\u001b[39m=\u001b[39m\u001b[39m'\u001b[39m\u001b[39m \u001b[39m\u001b[39m'\u001b[39m\u001b[39m.\u001b[39mjoin(lsit)\n\u001b[1;32m----> <a href='vscode-notebook-cell:/c%3A/Users/DELSTEI9/OneDrive%20-%20EY/Documents/GitHub/NLP/test.ipynb#X25sZmlsZQ%3D%3D?line=3'>4</a>\u001b[0m nlp \u001b[39m=\u001b[39m spacy\u001b[39m.\u001b[39;49mload(\u001b[39m\"\u001b[39;49m\u001b[39mde_core_news_lg\u001b[39;49m\u001b[39m\"\u001b[39;49m)\n\u001b[0;32m      <a href='vscode-notebook-cell:/c%3A/Users/DELSTEI9/OneDrive%20-%20EY/Documents/GitHub/NLP/test.ipynb#X25sZmlsZQ%3D%3D?line=4'>5</a>\u001b[0m doc \u001b[39m=\u001b[39m nlp(\u001b[39mstr\u001b[39m(string))\n\u001b[0;32m      <a href='vscode-notebook-cell:/c%3A/Users/DELSTEI9/OneDrive%20-%20EY/Documents/GitHub/NLP/test.ipynb#X25sZmlsZQ%3D%3D?line=5'>6</a>\u001b[0m \u001b[39mfor\u001b[39;00m token \u001b[39min\u001b[39;00m tqdm(doc):\n",
      "File \u001b[1;32mc:\\Users\\DELSTEI9\\AppData\\Local\\Programs\\Python\\Python310\\lib\\site-packages\\spacy\\__init__.py:54\u001b[0m, in \u001b[0;36mload\u001b[1;34m(name, vocab, disable, enable, exclude, config)\u001b[0m\n\u001b[0;32m     30\u001b[0m \u001b[39mdef\u001b[39;00m \u001b[39mload\u001b[39m(\n\u001b[0;32m     31\u001b[0m     name: Union[\u001b[39mstr\u001b[39m, Path],\n\u001b[0;32m     32\u001b[0m     \u001b[39m*\u001b[39m,\n\u001b[1;32m   (...)\u001b[0m\n\u001b[0;32m     37\u001b[0m     config: Union[Dict[\u001b[39mstr\u001b[39m, Any], Config] \u001b[39m=\u001b[39m util\u001b[39m.\u001b[39mSimpleFrozenDict(),\n\u001b[0;32m     38\u001b[0m ) \u001b[39m-\u001b[39m\u001b[39m>\u001b[39m Language:\n\u001b[0;32m     39\u001b[0m     \u001b[39m\"\"\"Load a spaCy model from an installed package or a local path.\u001b[39;00m\n\u001b[0;32m     40\u001b[0m \n\u001b[0;32m     41\u001b[0m \u001b[39m    name (str): Package name or model path.\u001b[39;00m\n\u001b[1;32m   (...)\u001b[0m\n\u001b[0;32m     52\u001b[0m \u001b[39m    RETURNS (Language): The loaded nlp object.\u001b[39;00m\n\u001b[0;32m     53\u001b[0m \u001b[39m    \"\"\"\u001b[39;00m\n\u001b[1;32m---> 54\u001b[0m     \u001b[39mreturn\u001b[39;00m util\u001b[39m.\u001b[39;49mload_model(\n\u001b[0;32m     55\u001b[0m         name,\n\u001b[0;32m     56\u001b[0m         vocab\u001b[39m=\u001b[39;49mvocab,\n\u001b[0;32m     57\u001b[0m         disable\u001b[39m=\u001b[39;49mdisable,\n\u001b[0;32m     58\u001b[0m         enable\u001b[39m=\u001b[39;49menable,\n\u001b[0;32m     59\u001b[0m         exclude\u001b[39m=\u001b[39;49mexclude,\n\u001b[0;32m     60\u001b[0m         config\u001b[39m=\u001b[39;49mconfig,\n\u001b[0;32m     61\u001b[0m     )\n",
      "File \u001b[1;32mc:\\Users\\DELSTEI9\\AppData\\Local\\Programs\\Python\\Python310\\lib\\site-packages\\spacy\\util.py:439\u001b[0m, in \u001b[0;36mload_model\u001b[1;34m(name, vocab, disable, enable, exclude, config)\u001b[0m\n\u001b[0;32m    437\u001b[0m \u001b[39mif\u001b[39;00m name \u001b[39min\u001b[39;00m OLD_MODEL_SHORTCUTS:\n\u001b[0;32m    438\u001b[0m     \u001b[39mraise\u001b[39;00m \u001b[39mIOError\u001b[39;00m(Errors\u001b[39m.\u001b[39mE941\u001b[39m.\u001b[39mformat(name\u001b[39m=\u001b[39mname, full\u001b[39m=\u001b[39mOLD_MODEL_SHORTCUTS[name]))  \u001b[39m# type: ignore[index]\u001b[39;00m\n\u001b[1;32m--> 439\u001b[0m \u001b[39mraise\u001b[39;00m \u001b[39mIOError\u001b[39;00m(Errors\u001b[39m.\u001b[39mE050\u001b[39m.\u001b[39mformat(name\u001b[39m=\u001b[39mname))\n",
      "\u001b[1;31mOSError\u001b[0m: [E050] Can't find model 'de_core_news_lg'. It doesn't seem to be a Python package or a valid path to a data directory."
     ]
    }
   ],
   "source": [
    "list_lemma(topics['wirtschaft'])"
   ]
  },
  {
   "cell_type": "code",
   "execution_count": 38,
   "metadata": {},
   "outputs": [
    {
     "ename": "OSError",
     "evalue": "[E050] Can't find model 'de_core_news_lg'. It doesn't seem to be a Python package or a valid path to a data directory.",
     "output_type": "error",
     "traceback": [
      "\u001b[1;31m---------------------------------------------------------------------------\u001b[0m",
      "\u001b[1;31mOSError\u001b[0m                                   Traceback (most recent call last)",
      "\u001b[1;32mc:\\Users\\DELSTEI9\\OneDrive - EY\\Documents\\GitHub\\NLP\\test.ipynb Cell 21\u001b[0m in \u001b[0;36m<cell line: 1>\u001b[1;34m()\u001b[0m\n\u001b[0;32m      <a href='vscode-notebook-cell:/c%3A/Users/DELSTEI9/OneDrive%20-%20EY/Documents/GitHub/NLP/test.ipynb#X26sZmlsZQ%3D%3D?line=0'>1</a>\u001b[0m \u001b[39mfor\u001b[39;00m topic \u001b[39min\u001b[39;00m topics\u001b[39m.\u001b[39mkeys():\n\u001b[1;32m----> <a href='vscode-notebook-cell:/c%3A/Users/DELSTEI9/OneDrive%20-%20EY/Documents/GitHub/NLP/test.ipynb#X26sZmlsZQ%3D%3D?line=1'>2</a>\u001b[0m     topics[topic]\u001b[39m=\u001b[39mlist_lemma(topics[topic])\n",
      "\u001b[1;32mc:\\Users\\DELSTEI9\\OneDrive - EY\\Documents\\GitHub\\NLP\\test.ipynb Cell 21\u001b[0m in \u001b[0;36mlist_lemma\u001b[1;34m(lsit)\u001b[0m\n\u001b[0;32m      <a href='vscode-notebook-cell:/c%3A/Users/DELSTEI9/OneDrive%20-%20EY/Documents/GitHub/NLP/test.ipynb#X26sZmlsZQ%3D%3D?line=1'>2</a>\u001b[0m liste\u001b[39m=\u001b[39m[]\n\u001b[0;32m      <a href='vscode-notebook-cell:/c%3A/Users/DELSTEI9/OneDrive%20-%20EY/Documents/GitHub/NLP/test.ipynb#X26sZmlsZQ%3D%3D?line=2'>3</a>\u001b[0m string\u001b[39m=\u001b[39m\u001b[39m'\u001b[39m\u001b[39m \u001b[39m\u001b[39m'\u001b[39m\u001b[39m.\u001b[39mjoin(lsit)\n\u001b[1;32m----> <a href='vscode-notebook-cell:/c%3A/Users/DELSTEI9/OneDrive%20-%20EY/Documents/GitHub/NLP/test.ipynb#X26sZmlsZQ%3D%3D?line=3'>4</a>\u001b[0m nlp \u001b[39m=\u001b[39m spacy\u001b[39m.\u001b[39;49mload(\u001b[39m\"\u001b[39;49m\u001b[39mde_core_news_lg\u001b[39;49m\u001b[39m\"\u001b[39;49m)\n\u001b[0;32m      <a href='vscode-notebook-cell:/c%3A/Users/DELSTEI9/OneDrive%20-%20EY/Documents/GitHub/NLP/test.ipynb#X26sZmlsZQ%3D%3D?line=4'>5</a>\u001b[0m doc \u001b[39m=\u001b[39m nlp(\u001b[39mstr\u001b[39m(string))\n\u001b[0;32m      <a href='vscode-notebook-cell:/c%3A/Users/DELSTEI9/OneDrive%20-%20EY/Documents/GitHub/NLP/test.ipynb#X26sZmlsZQ%3D%3D?line=5'>6</a>\u001b[0m \u001b[39mfor\u001b[39;00m token \u001b[39min\u001b[39;00m tqdm(doc):\n",
      "File \u001b[1;32mc:\\Users\\DELSTEI9\\AppData\\Local\\Programs\\Python\\Python310\\lib\\site-packages\\spacy\\__init__.py:54\u001b[0m, in \u001b[0;36mload\u001b[1;34m(name, vocab, disable, enable, exclude, config)\u001b[0m\n\u001b[0;32m     30\u001b[0m \u001b[39mdef\u001b[39;00m \u001b[39mload\u001b[39m(\n\u001b[0;32m     31\u001b[0m     name: Union[\u001b[39mstr\u001b[39m, Path],\n\u001b[0;32m     32\u001b[0m     \u001b[39m*\u001b[39m,\n\u001b[1;32m   (...)\u001b[0m\n\u001b[0;32m     37\u001b[0m     config: Union[Dict[\u001b[39mstr\u001b[39m, Any], Config] \u001b[39m=\u001b[39m util\u001b[39m.\u001b[39mSimpleFrozenDict(),\n\u001b[0;32m     38\u001b[0m ) \u001b[39m-\u001b[39m\u001b[39m>\u001b[39m Language:\n\u001b[0;32m     39\u001b[0m     \u001b[39m\"\"\"Load a spaCy model from an installed package or a local path.\u001b[39;00m\n\u001b[0;32m     40\u001b[0m \n\u001b[0;32m     41\u001b[0m \u001b[39m    name (str): Package name or model path.\u001b[39;00m\n\u001b[1;32m   (...)\u001b[0m\n\u001b[0;32m     52\u001b[0m \u001b[39m    RETURNS (Language): The loaded nlp object.\u001b[39;00m\n\u001b[0;32m     53\u001b[0m \u001b[39m    \"\"\"\u001b[39;00m\n\u001b[1;32m---> 54\u001b[0m     \u001b[39mreturn\u001b[39;00m util\u001b[39m.\u001b[39;49mload_model(\n\u001b[0;32m     55\u001b[0m         name,\n\u001b[0;32m     56\u001b[0m         vocab\u001b[39m=\u001b[39;49mvocab,\n\u001b[0;32m     57\u001b[0m         disable\u001b[39m=\u001b[39;49mdisable,\n\u001b[0;32m     58\u001b[0m         enable\u001b[39m=\u001b[39;49menable,\n\u001b[0;32m     59\u001b[0m         exclude\u001b[39m=\u001b[39;49mexclude,\n\u001b[0;32m     60\u001b[0m         config\u001b[39m=\u001b[39;49mconfig,\n\u001b[0;32m     61\u001b[0m     )\n",
      "File \u001b[1;32mc:\\Users\\DELSTEI9\\AppData\\Local\\Programs\\Python\\Python310\\lib\\site-packages\\spacy\\util.py:439\u001b[0m, in \u001b[0;36mload_model\u001b[1;34m(name, vocab, disable, enable, exclude, config)\u001b[0m\n\u001b[0;32m    437\u001b[0m \u001b[39mif\u001b[39;00m name \u001b[39min\u001b[39;00m OLD_MODEL_SHORTCUTS:\n\u001b[0;32m    438\u001b[0m     \u001b[39mraise\u001b[39;00m \u001b[39mIOError\u001b[39;00m(Errors\u001b[39m.\u001b[39mE941\u001b[39m.\u001b[39mformat(name\u001b[39m=\u001b[39mname, full\u001b[39m=\u001b[39mOLD_MODEL_SHORTCUTS[name]))  \u001b[39m# type: ignore[index]\u001b[39;00m\n\u001b[1;32m--> 439\u001b[0m \u001b[39mraise\u001b[39;00m \u001b[39mIOError\u001b[39;00m(Errors\u001b[39m.\u001b[39mE050\u001b[39m.\u001b[39mformat(name\u001b[39m=\u001b[39mname))\n",
      "\u001b[1;31mOSError\u001b[0m: [E050] Can't find model 'de_core_news_lg'. It doesn't seem to be a Python package or a valid path to a data directory."
     ]
    }
   ],
   "source": [
    "for topic in topics.keys():\n",
    "    topics[topic]=list_lemma(topics[topic])"
   ]
  },
  {
   "cell_type": "code",
   "execution_count": 39,
   "metadata": {},
   "outputs": [
    {
     "data": {
      "text/plain": [
       "['Steuer',\n",
       " 'Steuerarten',\n",
       " 'Einkommensteuer',\n",
       " 'Finanzierung',\n",
       " 'Finanzen',\n",
       " 'Wirtschaft',\n",
       " 'Volkswirtschaft',\n",
       " 'Marktwirtschaft',\n",
       " 'Planwirtschaft',\n",
       " 'Soziale Marktwirtschaft']"
      ]
     },
     "execution_count": 39,
     "metadata": {},
     "output_type": "execute_result"
    }
   ],
   "source": [
    "topics['wirtschaft'][0:10]"
   ]
  },
  {
   "cell_type": "code",
   "execution_count": 40,
   "metadata": {},
   "outputs": [
    {
     "data": {
      "text/plain": [
       "dict_keys(['rational', 'Intuitionen'])"
      ]
     },
     "execution_count": 40,
     "metadata": {},
     "output_type": "execute_result"
    }
   ],
   "source": [
    "approaches = load_yaml_file(os.path.join('topic_modeling', \"approaches.yml\"))\n",
    "approaches.keys()"
   ]
  },
  {
   "cell_type": "code",
<<<<<<< HEAD
   "execution_count": 39,
=======
   "execution_count": 38,
>>>>>>> 9e87bef8e9d2a27ba199e31892599f5d972441b8
   "metadata": {},
   "outputs": [
    {
     "data": {
      "text/plain": [
       "'AFD_Wahlprogramm_2021'"
      ]
     },
<<<<<<< HEAD
     "execution_count": 39,
=======
     "execution_count": 38,
>>>>>>> 9e87bef8e9d2a27ba199e31892599f5d972441b8
     "metadata": {},
     "output_type": "execute_result"
    }
   ],
   "source": [
    "data_name"
   ]
  },
  {
   "cell_type": "code",
<<<<<<< HEAD
   "execution_count": 45,
=======
   "execution_count": 41,
   "metadata": {},
   "outputs": [],
   "source": [
    "with open('data/DIE_GRUENEN_Wahlprogramm_2021_sent_lemma_list.txt', 'r', encoding='UTF-8') as f:\n",
    "    content = f.read()\n",
    "    sent = content.split(' § ')"
   ]
  },
  {
   "cell_type": "code",
   "execution_count": 42,
>>>>>>> 9e87bef8e9d2a27ba199e31892599f5d972441b8
   "metadata": {},
   "outputs": [],
   "source": [
    "program_txt = load_markdown_file(os.path.join(DATA_DIR, f\"{data_name}.txt\"))\n"
   ]
  },
  {
   "cell_type": "code",
<<<<<<< HEAD
   "execution_count": 46,
=======
   "execution_count": 43,
>>>>>>> 9e87bef8e9d2a27ba199e31892599f5d972441b8
   "metadata": {},
   "outputs": [
    {
     "data": {
      "text/plain": [
       "'Deutschland. Aber normal. normal.\\n\\nProgramm der Alternative für Deutschland\\nfür die Wahl zum 20. Deu'"
      ]
     },
<<<<<<< HEAD
     "execution_count": 46,
=======
     "execution_count": 43,
>>>>>>> 9e87bef8e9d2a27ba199e31892599f5d972441b8
     "metadata": {},
     "output_type": "execute_result"
    }
   ],
   "source": [
    "program_txt[:100]\n"
   ]
  },
  {
   "cell_type": "code",
   "execution_count": 44,
   "metadata": {},
   "outputs": [],
   "source": [
    "sentences = get_sentences(program_txt)\n"
   ]
  },
  {
   "cell_type": "code",
   "execution_count": 45,
   "metadata": {},
   "outputs": [
    {
     "data": {
      "text/plain": [
       "['Deutschland',\n",
       " 'Aber normal',\n",
       " 'normal',\n",
       " 'Programm der Alternative für Deutschland für die Wahl zum  Deutschen Bundestag  AD',\n",
       " 'Inhaltsverzeichnis  Demokratie und Rechtsstaat',\n",
       " 'Das Volk ist der Souverän',\n",
       " 'Volksabstimmungen nach Schweizer Modell',\n",
       " 'Die Gewaltenteilung gewährleisten',\n",
       " 'Entpolitisierung der Justiz',\n",
       " 'Verfassungsschutz reformieren']"
      ]
     },
     "execution_count": 45,
     "metadata": {},
     "output_type": "execute_result"
    }
   ],
   "source": [
    "sentences[0:10]"
   ]
  },
  {
   "cell_type": "code",
   "execution_count": 46,
   "metadata": {},
   "outputs": [],
   "source": [
    "def text_lemma(lsit):\n",
    "    liste=[]\n",
    "    nlp = spacy.load(\"de_core_news_lg\",disable=['parser', 'ner','tagger'])\n",
    "    doc = nlp(lsit)\n",
    "    for token in doc:\n",
    "        if not token.is_stop and not token.is_punct:\n",
    "            liste.append(token.lemma_.lower())\n",
    "\n",
    "    return ' '.join(liste)"
   ]
  },
  {
   "cell_type": "code",
   "execution_count": 47,
   "metadata": {},
   "outputs": [
    {
     "data": {
      "application/vnd.jupyter.widget-view+json": {
       "model_id": "249e367675d442c8ac1cc9e30a7ee165",
       "version_major": 2,
       "version_minor": 0
      },
      "text/plain": [
       "  0%|          | 0/1913 [00:00<?, ?it/s]"
      ]
     },
     "metadata": {},
     "output_type": "display_data"
    },
    {
     "ename": "OSError",
     "evalue": "[E050] Can't find model 'de_core_news_lg'. It doesn't seem to be a Python package or a valid path to a data directory.",
     "output_type": "error",
     "traceback": [
      "\u001b[1;31m---------------------------------------------------------------------------\u001b[0m",
      "\u001b[1;31mOSError\u001b[0m                                   Traceback (most recent call last)",
      "\u001b[1;32mc:\\Users\\DELSTEI9\\OneDrive - EY\\Documents\\GitHub\\NLP\\test.ipynb Cell 31\u001b[0m in \u001b[0;36m<cell line: 2>\u001b[1;34m()\u001b[0m\n\u001b[0;32m      <a href='vscode-notebook-cell:/c%3A/Users/DELSTEI9/OneDrive%20-%20EY/Documents/GitHub/NLP/test.ipynb#X41sZmlsZQ%3D%3D?line=0'>1</a>\u001b[0m sent\u001b[39m=\u001b[39m[]\n\u001b[0;32m      <a href='vscode-notebook-cell:/c%3A/Users/DELSTEI9/OneDrive%20-%20EY/Documents/GitHub/NLP/test.ipynb#X41sZmlsZQ%3D%3D?line=1'>2</a>\u001b[0m \u001b[39mfor\u001b[39;00m text \u001b[39min\u001b[39;00m tqdm(sentences):\n\u001b[1;32m----> <a href='vscode-notebook-cell:/c%3A/Users/DELSTEI9/OneDrive%20-%20EY/Documents/GitHub/NLP/test.ipynb#X41sZmlsZQ%3D%3D?line=2'>3</a>\u001b[0m     sent\u001b[39m.\u001b[39mappend(text_lemma(text))\n",
      "\u001b[1;32mc:\\Users\\DELSTEI9\\OneDrive - EY\\Documents\\GitHub\\NLP\\test.ipynb Cell 31\u001b[0m in \u001b[0;36mtext_lemma\u001b[1;34m(lsit)\u001b[0m\n\u001b[0;32m      <a href='vscode-notebook-cell:/c%3A/Users/DELSTEI9/OneDrive%20-%20EY/Documents/GitHub/NLP/test.ipynb#X41sZmlsZQ%3D%3D?line=0'>1</a>\u001b[0m \u001b[39mdef\u001b[39;00m \u001b[39mtext_lemma\u001b[39m(lsit):\n\u001b[0;32m      <a href='vscode-notebook-cell:/c%3A/Users/DELSTEI9/OneDrive%20-%20EY/Documents/GitHub/NLP/test.ipynb#X41sZmlsZQ%3D%3D?line=1'>2</a>\u001b[0m     liste\u001b[39m=\u001b[39m[]\n\u001b[1;32m----> <a href='vscode-notebook-cell:/c%3A/Users/DELSTEI9/OneDrive%20-%20EY/Documents/GitHub/NLP/test.ipynb#X41sZmlsZQ%3D%3D?line=2'>3</a>\u001b[0m     nlp \u001b[39m=\u001b[39m spacy\u001b[39m.\u001b[39;49mload(\u001b[39m\"\u001b[39;49m\u001b[39mde_core_news_lg\u001b[39;49m\u001b[39m\"\u001b[39;49m,disable\u001b[39m=\u001b[39;49m[\u001b[39m'\u001b[39;49m\u001b[39mparser\u001b[39;49m\u001b[39m'\u001b[39;49m, \u001b[39m'\u001b[39;49m\u001b[39mner\u001b[39;49m\u001b[39m'\u001b[39;49m,\u001b[39m'\u001b[39;49m\u001b[39mtagger\u001b[39;49m\u001b[39m'\u001b[39;49m])\n\u001b[0;32m      <a href='vscode-notebook-cell:/c%3A/Users/DELSTEI9/OneDrive%20-%20EY/Documents/GitHub/NLP/test.ipynb#X41sZmlsZQ%3D%3D?line=3'>4</a>\u001b[0m     doc \u001b[39m=\u001b[39m nlp(lsit)\n\u001b[0;32m      <a href='vscode-notebook-cell:/c%3A/Users/DELSTEI9/OneDrive%20-%20EY/Documents/GitHub/NLP/test.ipynb#X41sZmlsZQ%3D%3D?line=4'>5</a>\u001b[0m     \u001b[39mfor\u001b[39;00m token \u001b[39min\u001b[39;00m doc:\n",
      "File \u001b[1;32mc:\\Users\\DELSTEI9\\AppData\\Local\\Programs\\Python\\Python310\\lib\\site-packages\\spacy\\__init__.py:54\u001b[0m, in \u001b[0;36mload\u001b[1;34m(name, vocab, disable, enable, exclude, config)\u001b[0m\n\u001b[0;32m     30\u001b[0m \u001b[39mdef\u001b[39;00m \u001b[39mload\u001b[39m(\n\u001b[0;32m     31\u001b[0m     name: Union[\u001b[39mstr\u001b[39m, Path],\n\u001b[0;32m     32\u001b[0m     \u001b[39m*\u001b[39m,\n\u001b[1;32m   (...)\u001b[0m\n\u001b[0;32m     37\u001b[0m     config: Union[Dict[\u001b[39mstr\u001b[39m, Any], Config] \u001b[39m=\u001b[39m util\u001b[39m.\u001b[39mSimpleFrozenDict(),\n\u001b[0;32m     38\u001b[0m ) \u001b[39m-\u001b[39m\u001b[39m>\u001b[39m Language:\n\u001b[0;32m     39\u001b[0m     \u001b[39m\"\"\"Load a spaCy model from an installed package or a local path.\u001b[39;00m\n\u001b[0;32m     40\u001b[0m \n\u001b[0;32m     41\u001b[0m \u001b[39m    name (str): Package name or model path.\u001b[39;00m\n\u001b[1;32m   (...)\u001b[0m\n\u001b[0;32m     52\u001b[0m \u001b[39m    RETURNS (Language): The loaded nlp object.\u001b[39;00m\n\u001b[0;32m     53\u001b[0m \u001b[39m    \"\"\"\u001b[39;00m\n\u001b[1;32m---> 54\u001b[0m     \u001b[39mreturn\u001b[39;00m util\u001b[39m.\u001b[39;49mload_model(\n\u001b[0;32m     55\u001b[0m         name,\n\u001b[0;32m     56\u001b[0m         vocab\u001b[39m=\u001b[39;49mvocab,\n\u001b[0;32m     57\u001b[0m         disable\u001b[39m=\u001b[39;49mdisable,\n\u001b[0;32m     58\u001b[0m         enable\u001b[39m=\u001b[39;49menable,\n\u001b[0;32m     59\u001b[0m         exclude\u001b[39m=\u001b[39;49mexclude,\n\u001b[0;32m     60\u001b[0m         config\u001b[39m=\u001b[39;49mconfig,\n\u001b[0;32m     61\u001b[0m     )\n",
      "File \u001b[1;32mc:\\Users\\DELSTEI9\\AppData\\Local\\Programs\\Python\\Python310\\lib\\site-packages\\spacy\\util.py:439\u001b[0m, in \u001b[0;36mload_model\u001b[1;34m(name, vocab, disable, enable, exclude, config)\u001b[0m\n\u001b[0;32m    437\u001b[0m \u001b[39mif\u001b[39;00m name \u001b[39min\u001b[39;00m OLD_MODEL_SHORTCUTS:\n\u001b[0;32m    438\u001b[0m     \u001b[39mraise\u001b[39;00m \u001b[39mIOError\u001b[39;00m(Errors\u001b[39m.\u001b[39mE941\u001b[39m.\u001b[39mformat(name\u001b[39m=\u001b[39mname, full\u001b[39m=\u001b[39mOLD_MODEL_SHORTCUTS[name]))  \u001b[39m# type: ignore[index]\u001b[39;00m\n\u001b[1;32m--> 439\u001b[0m \u001b[39mraise\u001b[39;00m \u001b[39mIOError\u001b[39;00m(Errors\u001b[39m.\u001b[39mE050\u001b[39m.\u001b[39mformat(name\u001b[39m=\u001b[39mname))\n",
      "\u001b[1;31mOSError\u001b[0m: [E050] Can't find model 'de_core_news_lg'. It doesn't seem to be a Python package or a valid path to a data directory."
     ]
    }
   ],
   "source": [
    "sent=[]\n",
    "for text in tqdm(sentences):\n",
    "    sent.append(text_lemma(text))"
   ]
  },
  {
   "cell_type": "code",
   "execution_count": 95,
   "metadata": {},
   "outputs": [],
   "source": [
    "data_names = list(filter(None, data_names))"
   ]
  },
  {
   "cell_type": "code",
   "execution_count": 96,
   "metadata": {},
   "outputs": [],
   "source": [
    "for element in list(filter(None, data_names)):\n",
    "    program_txt = load_markdown_file(f\"data/{element}.txt\")\n",
    "    sentences = get_sentences(program_txt)\n",
    "    \n",
    "    file = open(f'data/{element}_sentences.txt','w', encoding='UTF-8')\n",
    "    for item in sentences:\n",
    "        file.write(item+\"§\")\n",
    "    file.close()"
   ]
  },
  {
   "cell_type": "code",
   "execution_count": 97,
   "metadata": {},
   "outputs": [
    {
     "name": "stderr",
     "output_type": "stream",
     "text": [
      "  0%|          | 0/1913 [00:00<?, ?it/s]\n"
     ]
    },
    {
     "ename": "OSError",
     "evalue": "[E050] Can't find model 'de_core_news_lg'. It doesn't seem to be a Python package or a valid path to a data directory.",
     "output_type": "error",
     "traceback": [
      "\u001b[1;31m---------------------------------------------------------------------------\u001b[0m",
      "\u001b[1;31mOSError\u001b[0m                                   Traceback (most recent call last)",
      "\u001b[1;32mc:\\Users\\DELSTEI9\\OneDrive - EY\\Documents\\GitHub\\NLP\\test.ipynb Cell 33\u001b[0m in \u001b[0;36m<cell line: 12>\u001b[1;34m()\u001b[0m\n\u001b[0;32m      <a href='vscode-notebook-cell:/c%3A/Users/DELSTEI9/OneDrive%20-%20EY/Documents/GitHub/NLP/test.ipynb#X45sZmlsZQ%3D%3D?line=8'>9</a>\u001b[0m         \u001b[39mwith\u001b[39;00m \u001b[39mopen\u001b[39m(\u001b[39mf\u001b[39m\u001b[39m'\u001b[39m\u001b[39mdata/\u001b[39m\u001b[39m{\u001b[39;00melement\u001b[39m}\u001b[39;00m\u001b[39m_sent_lemma_list.txt\u001b[39m\u001b[39m'\u001b[39m, \u001b[39m\"\u001b[39m\u001b[39mw\u001b[39m\u001b[39m\"\u001b[39m) \u001b[39mas\u001b[39;00m file:\n\u001b[0;32m     <a href='vscode-notebook-cell:/c%3A/Users/DELSTEI9/OneDrive%20-%20EY/Documents/GitHub/NLP/test.ipynb#X45sZmlsZQ%3D%3D?line=9'>10</a>\u001b[0m         \u001b[39m#write the list of data to the file\u001b[39;00m\n\u001b[0;32m     <a href='vscode-notebook-cell:/c%3A/Users/DELSTEI9/OneDrive%20-%20EY/Documents/GitHub/NLP/test.ipynb#X45sZmlsZQ%3D%3D?line=10'>11</a>\u001b[0m             file\u001b[39m.\u001b[39mwritelines(sent)\n\u001b[1;32m---> <a href='vscode-notebook-cell:/c%3A/Users/DELSTEI9/OneDrive%20-%20EY/Documents/GitHub/NLP/test.ipynb#X45sZmlsZQ%3D%3D?line=11'>12</a>\u001b[0m create_file(data_names)\n",
      "\u001b[1;32mc:\\Users\\DELSTEI9\\OneDrive - EY\\Documents\\GitHub\\NLP\\test.ipynb Cell 33\u001b[0m in \u001b[0;36mcreate_file\u001b[1;34m(data_names)\u001b[0m\n\u001b[0;32m      <a href='vscode-notebook-cell:/c%3A/Users/DELSTEI9/OneDrive%20-%20EY/Documents/GitHub/NLP/test.ipynb#X45sZmlsZQ%3D%3D?line=4'>5</a>\u001b[0m sent\u001b[39m=\u001b[39m[]\n\u001b[0;32m      <a href='vscode-notebook-cell:/c%3A/Users/DELSTEI9/OneDrive%20-%20EY/Documents/GitHub/NLP/test.ipynb#X45sZmlsZQ%3D%3D?line=5'>6</a>\u001b[0m \u001b[39mfor\u001b[39;00m text \u001b[39min\u001b[39;00m tqdm(sentences):\n\u001b[1;32m----> <a href='vscode-notebook-cell:/c%3A/Users/DELSTEI9/OneDrive%20-%20EY/Documents/GitHub/NLP/test.ipynb#X45sZmlsZQ%3D%3D?line=6'>7</a>\u001b[0m     sent\u001b[39m.\u001b[39mappend(text_lemma(text))\n\u001b[0;32m      <a href='vscode-notebook-cell:/c%3A/Users/DELSTEI9/OneDrive%20-%20EY/Documents/GitHub/NLP/test.ipynb#X45sZmlsZQ%3D%3D?line=7'>8</a>\u001b[0m \u001b[39m#file = open(,'w')\u001b[39;00m\n\u001b[0;32m      <a href='vscode-notebook-cell:/c%3A/Users/DELSTEI9/OneDrive%20-%20EY/Documents/GitHub/NLP/test.ipynb#X45sZmlsZQ%3D%3D?line=8'>9</a>\u001b[0m \u001b[39mwith\u001b[39;00m \u001b[39mopen\u001b[39m(\u001b[39mf\u001b[39m\u001b[39m'\u001b[39m\u001b[39mdata/\u001b[39m\u001b[39m{\u001b[39;00melement\u001b[39m}\u001b[39;00m\u001b[39m_sent_lemma_list.txt\u001b[39m\u001b[39m'\u001b[39m, \u001b[39m\"\u001b[39m\u001b[39mw\u001b[39m\u001b[39m\"\u001b[39m) \u001b[39mas\u001b[39;00m file:\n\u001b[0;32m     <a href='vscode-notebook-cell:/c%3A/Users/DELSTEI9/OneDrive%20-%20EY/Documents/GitHub/NLP/test.ipynb#X45sZmlsZQ%3D%3D?line=9'>10</a>\u001b[0m \u001b[39m#write the list of data to the file\u001b[39;00m\n",
      "\u001b[1;32mc:\\Users\\DELSTEI9\\OneDrive - EY\\Documents\\GitHub\\NLP\\test.ipynb Cell 33\u001b[0m in \u001b[0;36mtext_lemma\u001b[1;34m(lsit)\u001b[0m\n\u001b[0;32m      <a href='vscode-notebook-cell:/c%3A/Users/DELSTEI9/OneDrive%20-%20EY/Documents/GitHub/NLP/test.ipynb#X45sZmlsZQ%3D%3D?line=0'>1</a>\u001b[0m \u001b[39mdef\u001b[39;00m \u001b[39mtext_lemma\u001b[39m(lsit):\n\u001b[0;32m      <a href='vscode-notebook-cell:/c%3A/Users/DELSTEI9/OneDrive%20-%20EY/Documents/GitHub/NLP/test.ipynb#X45sZmlsZQ%3D%3D?line=1'>2</a>\u001b[0m     liste\u001b[39m=\u001b[39m[]\n\u001b[1;32m----> <a href='vscode-notebook-cell:/c%3A/Users/DELSTEI9/OneDrive%20-%20EY/Documents/GitHub/NLP/test.ipynb#X45sZmlsZQ%3D%3D?line=2'>3</a>\u001b[0m     nlp \u001b[39m=\u001b[39m spacy\u001b[39m.\u001b[39;49mload(\u001b[39m\"\u001b[39;49m\u001b[39mde_core_news_lg\u001b[39;49m\u001b[39m\"\u001b[39;49m,disable\u001b[39m=\u001b[39;49m[\u001b[39m'\u001b[39;49m\u001b[39mparser\u001b[39;49m\u001b[39m'\u001b[39;49m, \u001b[39m'\u001b[39;49m\u001b[39mner\u001b[39;49m\u001b[39m'\u001b[39;49m,\u001b[39m'\u001b[39;49m\u001b[39mtagger\u001b[39;49m\u001b[39m'\u001b[39;49m])\n\u001b[0;32m      <a href='vscode-notebook-cell:/c%3A/Users/DELSTEI9/OneDrive%20-%20EY/Documents/GitHub/NLP/test.ipynb#X45sZmlsZQ%3D%3D?line=3'>4</a>\u001b[0m     doc \u001b[39m=\u001b[39m nlp(lsit)\n\u001b[0;32m      <a href='vscode-notebook-cell:/c%3A/Users/DELSTEI9/OneDrive%20-%20EY/Documents/GitHub/NLP/test.ipynb#X45sZmlsZQ%3D%3D?line=4'>5</a>\u001b[0m     \u001b[39mfor\u001b[39;00m token \u001b[39min\u001b[39;00m doc:\n",
      "File \u001b[1;32mc:\\Users\\DELSTEI9\\AppData\\Local\\Programs\\Python\\Python310\\lib\\site-packages\\spacy\\__init__.py:54\u001b[0m, in \u001b[0;36mload\u001b[1;34m(name, vocab, disable, enable, exclude, config)\u001b[0m\n\u001b[0;32m     30\u001b[0m \u001b[39mdef\u001b[39;00m \u001b[39mload\u001b[39m(\n\u001b[0;32m     31\u001b[0m     name: Union[\u001b[39mstr\u001b[39m, Path],\n\u001b[0;32m     32\u001b[0m     \u001b[39m*\u001b[39m,\n\u001b[1;32m   (...)\u001b[0m\n\u001b[0;32m     37\u001b[0m     config: Union[Dict[\u001b[39mstr\u001b[39m, Any], Config] \u001b[39m=\u001b[39m util\u001b[39m.\u001b[39mSimpleFrozenDict(),\n\u001b[0;32m     38\u001b[0m ) \u001b[39m-\u001b[39m\u001b[39m>\u001b[39m Language:\n\u001b[0;32m     39\u001b[0m     \u001b[39m\"\"\"Load a spaCy model from an installed package or a local path.\u001b[39;00m\n\u001b[0;32m     40\u001b[0m \n\u001b[0;32m     41\u001b[0m \u001b[39m    name (str): Package name or model path.\u001b[39;00m\n\u001b[1;32m   (...)\u001b[0m\n\u001b[0;32m     52\u001b[0m \u001b[39m    RETURNS (Language): The loaded nlp object.\u001b[39;00m\n\u001b[0;32m     53\u001b[0m \u001b[39m    \"\"\"\u001b[39;00m\n\u001b[1;32m---> 54\u001b[0m     \u001b[39mreturn\u001b[39;00m util\u001b[39m.\u001b[39;49mload_model(\n\u001b[0;32m     55\u001b[0m         name,\n\u001b[0;32m     56\u001b[0m         vocab\u001b[39m=\u001b[39;49mvocab,\n\u001b[0;32m     57\u001b[0m         disable\u001b[39m=\u001b[39;49mdisable,\n\u001b[0;32m     58\u001b[0m         enable\u001b[39m=\u001b[39;49menable,\n\u001b[0;32m     59\u001b[0m         exclude\u001b[39m=\u001b[39;49mexclude,\n\u001b[0;32m     60\u001b[0m         config\u001b[39m=\u001b[39;49mconfig,\n\u001b[0;32m     61\u001b[0m     )\n",
      "File \u001b[1;32mc:\\Users\\DELSTEI9\\AppData\\Local\\Programs\\Python\\Python310\\lib\\site-packages\\spacy\\util.py:439\u001b[0m, in \u001b[0;36mload_model\u001b[1;34m(name, vocab, disable, enable, exclude, config)\u001b[0m\n\u001b[0;32m    437\u001b[0m \u001b[39mif\u001b[39;00m name \u001b[39min\u001b[39;00m OLD_MODEL_SHORTCUTS:\n\u001b[0;32m    438\u001b[0m     \u001b[39mraise\u001b[39;00m \u001b[39mIOError\u001b[39;00m(Errors\u001b[39m.\u001b[39mE941\u001b[39m.\u001b[39mformat(name\u001b[39m=\u001b[39mname, full\u001b[39m=\u001b[39mOLD_MODEL_SHORTCUTS[name]))  \u001b[39m# type: ignore[index]\u001b[39;00m\n\u001b[1;32m--> 439\u001b[0m \u001b[39mraise\u001b[39;00m \u001b[39mIOError\u001b[39;00m(Errors\u001b[39m.\u001b[39mE050\u001b[39m.\u001b[39mformat(name\u001b[39m=\u001b[39mname))\n",
      "\u001b[1;31mOSError\u001b[0m: [E050] Can't find model 'de_core_news_lg'. It doesn't seem to be a Python package or a valid path to a data directory."
     ]
    }
   ],
   "source": [
    "def create_file(data_names):\n",
    "    for element in list(filter(None, data_names)):\n",
    "        program_txt = load_markdown_file(f\"data/{element}.txt\")\n",
    "        sentences = get_sentences(program_txt)\n",
    "        sent=[]\n",
    "        for text in tqdm(sentences):\n",
    "            sent.append(text_lemma(text))\n",
    "        #file = open(,'w')\n",
    "        with open(f'data/{element}_sent_lemma_list.txt', \"w\", encoding='UTF-8') as file:\n",
    "        #write the list of data to the file\n",
    "            file.writelines(sent)\n",
    "create_file(data_names)   "
   ]
  },
  {
   "cell_type": "code",
   "execution_count": 98,
   "metadata": {},
   "outputs": [
    {
     "data": {
      "text/plain": [
       "['AFD_Wahlprogramm_2021',\n",
       " 'AFD_Wahlprogramm_2021_sentences',\n",
       " 'AFD_Wahlprogramm_2021_sent_lemma_list',\n",
       " 'CDU-CSU_Wahlrprogramm_2021',\n",
       " 'CDU-CSU_Wahlrprogramm_2021_sentences',\n",
       " 'CDU-CSU_Wahlrprogramm_2021_sent_lemma_list',\n",
       " 'DIE_GRUENEN_Wahlprogramm_2021',\n",
       " 'DIE_GRUENEN_Wahlprogramm_2021_sentences',\n",
       " 'DIE_GRUENEN_Wahlprogramm_2021_sent_lemma_list',\n",
       " 'DIE_LINKE_Wahlprogramm_2021',\n",
       " 'DIE_LINKE_Wahlprogramm_2021_sentences',\n",
       " 'DIE_LINKE_Wahlprogramm_2021_sent_lemma_list',\n",
       " 'FDP_Wahlprogramm_2021',\n",
       " 'FDP_Wahlprogramm_2021_sentences',\n",
       " 'FDP_Wahlprogramm_2021_sent_lemma_list',\n",
       " 'SPD_Wahlprogramm_2021',\n",
       " 'SPD_Wahlprogramm_2021_sentences',\n",
       " 'SPD_Wahlprogramm_2021_sent_lemma_list']"
      ]
     },
     "execution_count": 98,
     "metadata": {},
     "output_type": "execute_result"
    }
   ],
   "source": [
    "list(filter(None, data_names))"
   ]
  },
  {
   "cell_type": "code",
   "execution_count": 100,
   "metadata": {},
   "outputs": [
    {
     "name": "stdout",
     "output_type": "stream",
     "text": [
      "AFD_Wahlprogramm_2021\n"
     ]
    },
    {
     "name": "stderr",
     "output_type": "stream",
     "text": [
      "  0%|          | 0/1913 [00:00<?, ?it/s]\n"
     ]
    },
    {
     "ename": "OSError",
     "evalue": "[E050] Can't find model 'de_core_news_lg'. It doesn't seem to be a Python package or a valid path to a data directory.",
     "output_type": "error",
     "traceback": [
      "\u001b[1;31m---------------------------------------------------------------------------\u001b[0m",
      "\u001b[1;31mOSError\u001b[0m                                   Traceback (most recent call last)",
      "\u001b[1;32mc:\\Users\\DELSTEI9\\OneDrive - EY\\Documents\\GitHub\\NLP\\test.ipynb Cell 35\u001b[0m in \u001b[0;36m<cell line: 1>\u001b[1;34m()\u001b[0m\n\u001b[0;32m      <a href='vscode-notebook-cell:/c%3A/Users/DELSTEI9/OneDrive%20-%20EY/Documents/GitHub/NLP/test.ipynb#X50sZmlsZQ%3D%3D?line=4'>5</a>\u001b[0m sent\u001b[39m=\u001b[39m[]\n\u001b[0;32m      <a href='vscode-notebook-cell:/c%3A/Users/DELSTEI9/OneDrive%20-%20EY/Documents/GitHub/NLP/test.ipynb#X50sZmlsZQ%3D%3D?line=5'>6</a>\u001b[0m \u001b[39mfor\u001b[39;00m text \u001b[39min\u001b[39;00m tqdm(sentences):\n\u001b[1;32m----> <a href='vscode-notebook-cell:/c%3A/Users/DELSTEI9/OneDrive%20-%20EY/Documents/GitHub/NLP/test.ipynb#X50sZmlsZQ%3D%3D?line=6'>7</a>\u001b[0m     sent\u001b[39m.\u001b[39mappend(text_lemma(text))\n\u001b[0;32m      <a href='vscode-notebook-cell:/c%3A/Users/DELSTEI9/OneDrive%20-%20EY/Documents/GitHub/NLP/test.ipynb#X50sZmlsZQ%3D%3D?line=7'>8</a>\u001b[0m file \u001b[39m=\u001b[39m \u001b[39mopen\u001b[39m(\u001b[39mf\u001b[39m\u001b[39m'\u001b[39m\u001b[39mdata/\u001b[39m\u001b[39m{\u001b[39;00melement\u001b[39m}\u001b[39;00m\u001b[39m_sent_lemma_list.txt\u001b[39m\u001b[39m'\u001b[39m,\u001b[39m'\u001b[39m\u001b[39mw\u001b[39m\u001b[39m'\u001b[39m)\n\u001b[0;32m      <a href='vscode-notebook-cell:/c%3A/Users/DELSTEI9/OneDrive%20-%20EY/Documents/GitHub/NLP/test.ipynb#X50sZmlsZQ%3D%3D?line=8'>9</a>\u001b[0m \u001b[39mfor\u001b[39;00m item \u001b[39min\u001b[39;00m sent:\n",
      "\u001b[1;32mc:\\Users\\DELSTEI9\\OneDrive - EY\\Documents\\GitHub\\NLP\\test.ipynb Cell 35\u001b[0m in \u001b[0;36mtext_lemma\u001b[1;34m(lsit)\u001b[0m\n\u001b[0;32m      <a href='vscode-notebook-cell:/c%3A/Users/DELSTEI9/OneDrive%20-%20EY/Documents/GitHub/NLP/test.ipynb#X50sZmlsZQ%3D%3D?line=0'>1</a>\u001b[0m \u001b[39mdef\u001b[39;00m \u001b[39mtext_lemma\u001b[39m(lsit):\n\u001b[0;32m      <a href='vscode-notebook-cell:/c%3A/Users/DELSTEI9/OneDrive%20-%20EY/Documents/GitHub/NLP/test.ipynb#X50sZmlsZQ%3D%3D?line=1'>2</a>\u001b[0m     liste\u001b[39m=\u001b[39m[]\n\u001b[1;32m----> <a href='vscode-notebook-cell:/c%3A/Users/DELSTEI9/OneDrive%20-%20EY/Documents/GitHub/NLP/test.ipynb#X50sZmlsZQ%3D%3D?line=2'>3</a>\u001b[0m     nlp \u001b[39m=\u001b[39m spacy\u001b[39m.\u001b[39;49mload(\u001b[39m\"\u001b[39;49m\u001b[39mde_core_news_lg\u001b[39;49m\u001b[39m\"\u001b[39;49m,disable\u001b[39m=\u001b[39;49m[\u001b[39m'\u001b[39;49m\u001b[39mparser\u001b[39;49m\u001b[39m'\u001b[39;49m, \u001b[39m'\u001b[39;49m\u001b[39mner\u001b[39;49m\u001b[39m'\u001b[39;49m,\u001b[39m'\u001b[39;49m\u001b[39mtagger\u001b[39;49m\u001b[39m'\u001b[39;49m])\n\u001b[0;32m      <a href='vscode-notebook-cell:/c%3A/Users/DELSTEI9/OneDrive%20-%20EY/Documents/GitHub/NLP/test.ipynb#X50sZmlsZQ%3D%3D?line=3'>4</a>\u001b[0m     doc \u001b[39m=\u001b[39m nlp(lsit)\n\u001b[0;32m      <a href='vscode-notebook-cell:/c%3A/Users/DELSTEI9/OneDrive%20-%20EY/Documents/GitHub/NLP/test.ipynb#X50sZmlsZQ%3D%3D?line=4'>5</a>\u001b[0m     \u001b[39mfor\u001b[39;00m token \u001b[39min\u001b[39;00m doc:\n",
      "File \u001b[1;32mc:\\Users\\DELSTEI9\\AppData\\Local\\Programs\\Python\\Python310\\lib\\site-packages\\spacy\\__init__.py:54\u001b[0m, in \u001b[0;36mload\u001b[1;34m(name, vocab, disable, enable, exclude, config)\u001b[0m\n\u001b[0;32m     30\u001b[0m \u001b[39mdef\u001b[39;00m \u001b[39mload\u001b[39m(\n\u001b[0;32m     31\u001b[0m     name: Union[\u001b[39mstr\u001b[39m, Path],\n\u001b[0;32m     32\u001b[0m     \u001b[39m*\u001b[39m,\n\u001b[1;32m   (...)\u001b[0m\n\u001b[0;32m     37\u001b[0m     config: Union[Dict[\u001b[39mstr\u001b[39m, Any], Config] \u001b[39m=\u001b[39m util\u001b[39m.\u001b[39mSimpleFrozenDict(),\n\u001b[0;32m     38\u001b[0m ) \u001b[39m-\u001b[39m\u001b[39m>\u001b[39m Language:\n\u001b[0;32m     39\u001b[0m     \u001b[39m\"\"\"Load a spaCy model from an installed package or a local path.\u001b[39;00m\n\u001b[0;32m     40\u001b[0m \n\u001b[0;32m     41\u001b[0m \u001b[39m    name (str): Package name or model path.\u001b[39;00m\n\u001b[1;32m   (...)\u001b[0m\n\u001b[0;32m     52\u001b[0m \u001b[39m    RETURNS (Language): The loaded nlp object.\u001b[39;00m\n\u001b[0;32m     53\u001b[0m \u001b[39m    \"\"\"\u001b[39;00m\n\u001b[1;32m---> 54\u001b[0m     \u001b[39mreturn\u001b[39;00m util\u001b[39m.\u001b[39;49mload_model(\n\u001b[0;32m     55\u001b[0m         name,\n\u001b[0;32m     56\u001b[0m         vocab\u001b[39m=\u001b[39;49mvocab,\n\u001b[0;32m     57\u001b[0m         disable\u001b[39m=\u001b[39;49mdisable,\n\u001b[0;32m     58\u001b[0m         enable\u001b[39m=\u001b[39;49menable,\n\u001b[0;32m     59\u001b[0m         exclude\u001b[39m=\u001b[39;49mexclude,\n\u001b[0;32m     60\u001b[0m         config\u001b[39m=\u001b[39;49mconfig,\n\u001b[0;32m     61\u001b[0m     )\n",
      "File \u001b[1;32mc:\\Users\\DELSTEI9\\AppData\\Local\\Programs\\Python\\Python310\\lib\\site-packages\\spacy\\util.py:439\u001b[0m, in \u001b[0;36mload_model\u001b[1;34m(name, vocab, disable, enable, exclude, config)\u001b[0m\n\u001b[0;32m    437\u001b[0m \u001b[39mif\u001b[39;00m name \u001b[39min\u001b[39;00m OLD_MODEL_SHORTCUTS:\n\u001b[0;32m    438\u001b[0m     \u001b[39mraise\u001b[39;00m \u001b[39mIOError\u001b[39;00m(Errors\u001b[39m.\u001b[39mE941\u001b[39m.\u001b[39mformat(name\u001b[39m=\u001b[39mname, full\u001b[39m=\u001b[39mOLD_MODEL_SHORTCUTS[name]))  \u001b[39m# type: ignore[index]\u001b[39;00m\n\u001b[1;32m--> 439\u001b[0m \u001b[39mraise\u001b[39;00m \u001b[39mIOError\u001b[39;00m(Errors\u001b[39m.\u001b[39mE050\u001b[39m.\u001b[39mformat(name\u001b[39m=\u001b[39mname))\n",
      "\u001b[1;31mOSError\u001b[0m: [E050] Can't find model 'de_core_news_lg'. It doesn't seem to be a Python package or a valid path to a data directory."
     ]
    }
   ],
   "source": [
    "for element in list(filter(None, data_names)):\n",
    "    print(element)\n",
    "    program_txt = load_markdown_file(f\"data/{element}.txt\")\n",
    "    sentences = get_sentences(program_txt)\n",
    "    sent=[]\n",
    "    for text in tqdm(sentences):\n",
    "        sent.append(text_lemma(text))\n",
    "    file = open(f'data/{element}_sent_lemma_list.txt','w',encoding='UTF-8')\n",
    "    for item in sent:\n",
    "        file.write(item+\" § \")\n",
    "    file.close()\n",
    "    \n",
    "    \n",
    "    \n",
    "\n",
    "    "
   ]
  },
  {
   "cell_type": "code",
   "execution_count": 58,
   "metadata": {},
   "outputs": [
    {
     "ename": "NameError",
     "evalue": "name 'sentences' is not defined",
     "output_type": "error",
     "traceback": [
      "\u001b[1;31m---------------------------------------------------------------------------\u001b[0m",
      "\u001b[1;31mNameError\u001b[0m                                 Traceback (most recent call last)",
      "\u001b[1;32mc:\\Users\\DELSTEI9\\OneDrive - EY\\Documents\\GitHub\\NLP\\test.ipynb Cell 36\u001b[0m in \u001b[0;36m<cell line: 1>\u001b[1;34m()\u001b[0m\n\u001b[1;32m----> <a href='vscode-notebook-cell:/c%3A/Users/DELSTEI9/OneDrive%20-%20EY/Documents/GitHub/NLP/test.ipynb#X51sZmlsZQ%3D%3D?line=0'>1</a>\u001b[0m \u001b[39mfor\u001b[39;00m text \u001b[39min\u001b[39;00m tqdm(sentences):\n\u001b[0;32m      <a href='vscode-notebook-cell:/c%3A/Users/DELSTEI9/OneDrive%20-%20EY/Documents/GitHub/NLP/test.ipynb#X51sZmlsZQ%3D%3D?line=1'>2</a>\u001b[0m         sent\u001b[39m.\u001b[39mappend(text_lemma(text))\n",
      "\u001b[1;31mNameError\u001b[0m: name 'sentences' is not defined"
     ]
    }
   ],
   "source": [
    "for text in tqdm(sentences):\n",
    "        sent.append(text_lemma(text))"
   ]
  },
  {
   "cell_type": "code",
   "execution_count": 56,
   "metadata": {},
   "outputs": [],
   "source": [
    "\n"
   ]
  },
  {
   "cell_type": "code",
   "execution_count": null,
   "metadata": {},
   "outputs": [],
   "source": []
  },
  {
   "cell_type": "code",
   "execution_count": 60,
   "metadata": {},
   "outputs": [],
   "source": [
    "len(sent)"
   ]
  },
  {
   "cell_type": "code",
   "execution_count": 62,
   "metadata": {},
   "outputs": [
    {
     "data": {
      "text/plain": [
       "4880"
      ]
     },
     "execution_count": 62,
     "metadata": {},
     "output_type": "execute_result"
    }
   ],
   "source": [
    "len(sent)"
   ]
  },
  {
   "cell_type": "code",
   "execution_count": null,
   "metadata": {},
   "outputs": [],
   "source": [
    "sent[0:10]"
   ]
  },
  {
   "cell_type": "code",
   "execution_count": 55,
   "metadata": {},
   "outputs": [
    {
     "ename": "OSError",
     "evalue": "[E050] Can't find model 'de_core_news_lg'. It doesn't seem to be a Python package or a valid path to a data directory.",
     "output_type": "error",
     "traceback": [
      "\u001b[1;31m---------------------------------------------------------------------------\u001b[0m",
      "\u001b[1;31mOSError\u001b[0m                                   Traceback (most recent call last)",
      "\u001b[1;32mc:\\Users\\DELSTEI9\\OneDrive - EY\\Documents\\GitHub\\NLP\\test.ipynb Cell 43\u001b[0m in \u001b[0;36m<cell line: 1>\u001b[1;34m()\u001b[0m\n\u001b[1;32m----> <a href='vscode-notebook-cell:/c%3A/Users/DELSTEI9/OneDrive%20-%20EY/Documents/GitHub/NLP/test.ipynb#X55sZmlsZQ%3D%3D?line=0'>1</a>\u001b[0m words \u001b[39m=\u001b[39m get_words(\u001b[39m'\u001b[39;49m\u001b[39m \u001b[39;49m\u001b[39m'\u001b[39;49m\u001b[39m.\u001b[39;49mjoin(sent))\n",
      "\u001b[1;32mc:\\Users\\DELSTEI9\\OneDrive - EY\\Documents\\GitHub\\NLP\\test.ipynb Cell 43\u001b[0m in \u001b[0;36mget_words\u001b[1;34m(text)\u001b[0m\n\u001b[0;32m     <a href='vscode-notebook-cell:/c%3A/Users/DELSTEI9/OneDrive%20-%20EY/Documents/GitHub/NLP/test.ipynb#X55sZmlsZQ%3D%3D?line=64'>65</a>\u001b[0m \u001b[39mdef\u001b[39;00m \u001b[39mget_words\u001b[39m(text: \u001b[39mstr\u001b[39m) \u001b[39m-\u001b[39m\u001b[39m>\u001b[39m List[\u001b[39mstr\u001b[39m]:\n\u001b[0;32m     <a href='vscode-notebook-cell:/c%3A/Users/DELSTEI9/OneDrive%20-%20EY/Documents/GitHub/NLP/test.ipynb#X55sZmlsZQ%3D%3D?line=65'>66</a>\u001b[0m     \u001b[39m\"\"\"\u001b[39;00m\n\u001b[0;32m     <a href='vscode-notebook-cell:/c%3A/Users/DELSTEI9/OneDrive%20-%20EY/Documents/GitHub/NLP/test.ipynb#X55sZmlsZQ%3D%3D?line=66'>67</a>\u001b[0m \u001b[39m    Get every word in the text that isn't a stopword or punctuation,\u001b[39;00m\n\u001b[0;32m     <a href='vscode-notebook-cell:/c%3A/Users/DELSTEI9/OneDrive%20-%20EY/Documents/GitHub/NLP/test.ipynb#X55sZmlsZQ%3D%3D?line=67'>68</a>\u001b[0m \u001b[39m    and that is either a noun, adjective, verb or interjection\u001b[39;00m\n\u001b[0;32m     <a href='vscode-notebook-cell:/c%3A/Users/DELSTEI9/OneDrive%20-%20EY/Documents/GitHub/NLP/test.ipynb#X55sZmlsZQ%3D%3D?line=68'>69</a>\u001b[0m \u001b[39m    \"\"\"\u001b[39;00m\n\u001b[1;32m---> <a href='vscode-notebook-cell:/c%3A/Users/DELSTEI9/OneDrive%20-%20EY/Documents/GitHub/NLP/test.ipynb#X55sZmlsZQ%3D%3D?line=69'>70</a>\u001b[0m     nlp \u001b[39m=\u001b[39m spacy\u001b[39m.\u001b[39;49mload(\u001b[39m\"\u001b[39;49m\u001b[39mde_core_news_lg\u001b[39;49m\u001b[39m\"\u001b[39;49m)\n\u001b[0;32m     <a href='vscode-notebook-cell:/c%3A/Users/DELSTEI9/OneDrive%20-%20EY/Documents/GitHub/NLP/test.ipynb#X55sZmlsZQ%3D%3D?line=70'>71</a>\u001b[0m     nlp\u001b[39m.\u001b[39mmax_length \u001b[39m=\u001b[39m \u001b[39m8000000\u001b[39m\n\u001b[0;32m     <a href='vscode-notebook-cell:/c%3A/Users/DELSTEI9/OneDrive%20-%20EY/Documents/GitHub/NLP/test.ipynb#X55sZmlsZQ%3D%3D?line=71'>72</a>\u001b[0m     doc \u001b[39m=\u001b[39m nlp(text)\n",
      "File \u001b[1;32mc:\\Users\\DELSTEI9\\AppData\\Local\\Programs\\Python\\Python310\\lib\\site-packages\\spacy\\__init__.py:54\u001b[0m, in \u001b[0;36mload\u001b[1;34m(name, vocab, disable, enable, exclude, config)\u001b[0m\n\u001b[0;32m     30\u001b[0m \u001b[39mdef\u001b[39;00m \u001b[39mload\u001b[39m(\n\u001b[0;32m     31\u001b[0m     name: Union[\u001b[39mstr\u001b[39m, Path],\n\u001b[0;32m     32\u001b[0m     \u001b[39m*\u001b[39m,\n\u001b[1;32m   (...)\u001b[0m\n\u001b[0;32m     37\u001b[0m     config: Union[Dict[\u001b[39mstr\u001b[39m, Any], Config] \u001b[39m=\u001b[39m util\u001b[39m.\u001b[39mSimpleFrozenDict(),\n\u001b[0;32m     38\u001b[0m ) \u001b[39m-\u001b[39m\u001b[39m>\u001b[39m Language:\n\u001b[0;32m     39\u001b[0m     \u001b[39m\"\"\"Load a spaCy model from an installed package or a local path.\u001b[39;00m\n\u001b[0;32m     40\u001b[0m \n\u001b[0;32m     41\u001b[0m \u001b[39m    name (str): Package name or model path.\u001b[39;00m\n\u001b[1;32m   (...)\u001b[0m\n\u001b[0;32m     52\u001b[0m \u001b[39m    RETURNS (Language): The loaded nlp object.\u001b[39;00m\n\u001b[0;32m     53\u001b[0m \u001b[39m    \"\"\"\u001b[39;00m\n\u001b[1;32m---> 54\u001b[0m     \u001b[39mreturn\u001b[39;00m util\u001b[39m.\u001b[39;49mload_model(\n\u001b[0;32m     55\u001b[0m         name,\n\u001b[0;32m     56\u001b[0m         vocab\u001b[39m=\u001b[39;49mvocab,\n\u001b[0;32m     57\u001b[0m         disable\u001b[39m=\u001b[39;49mdisable,\n\u001b[0;32m     58\u001b[0m         enable\u001b[39m=\u001b[39;49menable,\n\u001b[0;32m     59\u001b[0m         exclude\u001b[39m=\u001b[39;49mexclude,\n\u001b[0;32m     60\u001b[0m         config\u001b[39m=\u001b[39;49mconfig,\n\u001b[0;32m     61\u001b[0m     )\n",
      "File \u001b[1;32mc:\\Users\\DELSTEI9\\AppData\\Local\\Programs\\Python\\Python310\\lib\\site-packages\\spacy\\util.py:439\u001b[0m, in \u001b[0;36mload_model\u001b[1;34m(name, vocab, disable, enable, exclude, config)\u001b[0m\n\u001b[0;32m    437\u001b[0m \u001b[39mif\u001b[39;00m name \u001b[39min\u001b[39;00m OLD_MODEL_SHORTCUTS:\n\u001b[0;32m    438\u001b[0m     \u001b[39mraise\u001b[39;00m \u001b[39mIOError\u001b[39;00m(Errors\u001b[39m.\u001b[39mE941\u001b[39m.\u001b[39mformat(name\u001b[39m=\u001b[39mname, full\u001b[39m=\u001b[39mOLD_MODEL_SHORTCUTS[name]))  \u001b[39m# type: ignore[index]\u001b[39;00m\n\u001b[1;32m--> 439\u001b[0m \u001b[39mraise\u001b[39;00m \u001b[39mIOError\u001b[39;00m(Errors\u001b[39m.\u001b[39mE050\u001b[39m.\u001b[39mformat(name\u001b[39m=\u001b[39mname))\n",
      "\u001b[1;31mOSError\u001b[0m: [E050] Can't find model 'de_core_news_lg'. It doesn't seem to be a Python package or a valid path to a data directory."
     ]
    }
   ],
   "source": [
    "words = get_words(' '.join(sent))"
   ]
  },
  {
   "cell_type": "code",
   "execution_count": 108,
   "metadata": {},
   "outputs": [
    {
     "ename": "NameError",
     "evalue": "name 'words' is not defined",
     "output_type": "error",
     "traceback": [
      "\u001b[1;31m---------------------------------------------------------------------------\u001b[0m",
      "\u001b[1;31mNameError\u001b[0m                                 Traceback (most recent call last)",
      "\u001b[1;32mc:\\Users\\DELSTEI9\\OneDrive - EY\\Documents\\GitHub\\NLP\\test.ipynb Cell 42\u001b[0m in \u001b[0;36m<cell line: 1>\u001b[1;34m()\u001b[0m\n\u001b[1;32m----> <a href='vscode-notebook-cell:/c%3A/Users/DELSTEI9/OneDrive%20-%20EY/Documents/GitHub/NLP/test.ipynb#X60sZmlsZQ%3D%3D?line=0'>1</a>\u001b[0m words[:\u001b[39m10\u001b[39m]\n",
      "\u001b[1;31mNameError\u001b[0m: name 'words' is not defined"
     ]
    }
   ],
   "source": [
    "words[:10]\n"
   ]
  },
  {
   "cell_type": "markdown",
   "metadata": {},
   "source": [
    "get words --Spacy pipline  --> grundform erstelle n--> wieder zu sätzen machen und diese dann auf inhalte analysieren "
   ]
  },
  {
   "cell_type": "code",
   "execution_count": 56,
   "metadata": {},
   "outputs": [
    {
     "ename": "NameError",
     "evalue": "name 'words' is not defined",
     "output_type": "error",
     "traceback": [
      "\u001b[1;31m---------------------------------------------------------------------------\u001b[0m",
      "\u001b[1;31mNameError\u001b[0m                                 Traceback (most recent call last)",
      "\u001b[1;32mc:\\Users\\DELSTEI9\\OneDrive - EY\\Documents\\GitHub\\NLP\\test.ipynb Cell 44\u001b[0m in \u001b[0;36m<cell line: 1>\u001b[1;34m()\u001b[0m\n\u001b[1;32m----> <a href='vscode-notebook-cell:/c%3A/Users/DELSTEI9/OneDrive%20-%20EY/Documents/GitHub/NLP/test.ipynb#X62sZmlsZQ%3D%3D?line=0'>1</a>\u001b[0m [w \u001b[39mfor\u001b[39;00m w \u001b[39min\u001b[39;00m words \u001b[39mif\u001b[39;00m \u001b[39many\u001b[39m(p \u001b[39min\u001b[39;00m w \u001b[39mfor\u001b[39;00m p \u001b[39min\u001b[39;00m punctuation)]\n",
      "\u001b[1;31mNameError\u001b[0m: name 'words' is not defined"
     ]
    }
   ],
   "source": [
    "[w for w in words if any(p in w for p in punctuation)]\n"
   ]
  },
  {
   "cell_type": "code",
   "execution_count": 110,
   "metadata": {},
   "outputs": [
    {
     "ename": "NameError",
     "evalue": "name 'words' is not defined",
     "output_type": "error",
     "traceback": [
      "\u001b[1;31m---------------------------------------------------------------------------\u001b[0m",
      "\u001b[1;31mNameError\u001b[0m                                 Traceback (most recent call last)",
      "\u001b[1;32mc:\\Users\\DELSTEI9\\OneDrive - EY\\Documents\\GitHub\\NLP\\test.ipynb Cell 45\u001b[0m in \u001b[0;36m<cell line: 1>\u001b[1;34m()\u001b[0m\n\u001b[1;32m----> <a href='vscode-notebook-cell:/c%3A/Users/DELSTEI9/OneDrive%20-%20EY/Documents/GitHub/NLP/test.ipynb#X63sZmlsZQ%3D%3D?line=0'>1</a>\u001b[0m get_word_cloud(words)\n",
      "\u001b[1;31mNameError\u001b[0m: name 'words' is not defined"
     ]
    }
   ],
   "source": [
    "get_word_cloud(words)\n"
   ]
  },
  {
   "cell_type": "code",
   "execution_count": 111,
   "metadata": {},
   "outputs": [
    {
     "data": {
      "text/plain": [
       "[]"
      ]
     },
     "execution_count": 111,
     "metadata": {},
     "output_type": "execute_result"
    }
   ],
   "source": [
    "[s.replace(\"#\", \"   \") for s in sentences if s.startswith(\"#\")]"
   ]
  },
  {
   "cell_type": "code",
   "execution_count": 112,
   "metadata": {},
   "outputs": [
    {
     "data": {
      "text/plain": [
       "'Deutschland'"
      ]
     },
     "execution_count": 112,
     "metadata": {},
     "output_type": "execute_result"
    }
   ],
   "source": [
    "sentences[0]"
   ]
  },
  {
   "cell_type": "code",
   "execution_count": 63,
   "metadata": {},
   "outputs": [],
   "source": [
    "topical_sentences = get_topical_sentences(sent, topics)\n"
   ]
  },
  {
   "cell_type": "code",
   "execution_count": 46,
   "metadata": {},
   "outputs": [
    {
     "data": {
      "text/plain": [
       "{'wirtschaft': ['bereit',\n",
       "  'berlin   telefon   fax e-mail info@gruener',\n",
       "  '--   v',\n",
       "  'berlin   layout satz twentyfour seven creative media service gmbh berlin twentyfour-',\n",
       "  'kg preetz www',\n",
       "  'eversfrank',\n",
       "  'fördern kind jugendliche familie',\n",
       "  'sorgen arbeit fair lohn',\n",
       "  'enden ära beginnen',\n",
       "  'rücksichtnahme mensch legen',\n",
       "  'wis senschaft fortschritt',\n",
       "  'politik hinauswächst',\n",
       "  'politik weitblick frieden',\n",
       "  'gesellschaft schlüssel viele hand',\n",
       "  'wort reichen',\n",
       "  'für',\n",
       "  'reaktiv politik letzter versuchen schlimme verhindern',\n",
       "  'gute ermöglichen',\n",
       "  'programm anfang',\n",
       "  'ständen ebenfalls',\n",
       "  'lassen gemeinsam politisch arbeit höhe bringen',\n",
       "  'demo- kratie geliehen',\n",
       "  'sinn handeln',\n",
       "  'führen',\n",
       "  'angebot wer ben mehrheit kommend',\n",
       "  'laden weg',\n",
       "  'bereit',\n",
       "  'gelten ergreifen',\n",
       "  'folge vervielfachen umsteuern',\n",
       "  'verlangen mut',\n",
       "  'bereich wandeln verschwinden',\n",
       "  'handwerkerin stahlarbeiter',\n",
       "  'setzen priorität',\n",
       "  'kapitel',\n",
       "  'bereit',\n",
       "  'schützen',\n",
       "  'zerstörerisch wirken kosten tra- gen schnell überwinden',\n",
       "  'wald kind schönheit natur entdecken',\n",
       "  'kapitel',\n",
       "  'bereit',\n",
       "  'ehrgeizig vorgabe form grenzwert co',\n",
       "  'wirtschaft spitzenreiterin modern technolo gie schützen natürlich lebensgrundlage',\n",
       "  'job möglichkeit tarifvertrag mindestens gleichwertig bedingung unterliegen',\n",
       "  'jobprofil grundlegend verändern arbeitsplatz verlieren',\n",
       "  'qualifizierungs-kurzarbeitergeld ermöglichen unterneh- men phase transformation beschäftigter betrieb halten nachhaltig qualifizieren',\n",
       "  'qualifizierungs-kurz arbeit koppeln eng sozialpartnerschaft',\n",
       "  'zudem betrieblich mitbestimmung entscheidung oko logisch transformation stärken',\n",
       "  'unternehmen gewerkschaft betriebsrat wissen gemeinsam transformation gestalten',\n",
       "  'kapitel',\n",
       "  'bereit',\n",
       "  'förderung richten unternehmen kraft ökologisch strukturwandel bewältigen standort fest region verankern blei- ben',\n",
       "  'notwendig grad-pfad',\n",
       "  'proportional reduktionserfolg nächster',\n",
       "  'ziel wirtschaft nachhaltig produkt güns- tigst',\n",
       "  'klug mix co',\n",
       "  'sehen co',\n",
       "  'kapitel',\n",
       "  'bereit',\n",
       "  'einnahme national co',\n",
       "  'streben senkung eeg-umlage energie geld jede*rr bürger*in erhalten',\n",
       "  'energiegeld geben zusätzlich einnahme transparent mensch entlasten direkt rückerstattung pro kopf bekom- men',\n",
       "  'vollenden',\n",
       "  'naturholz rohstoff vielfältig einsetzbar wert- voll großkraftwerk verbrennen',\n",
       "  'kapitel',\n",
       "  'bereit',\n",
       "  'ziel millio n solardächer kommend',\n",
       "  'wer- solardächer fördern standard',\n",
       "  'agri-photovoltaikanlag d',\n",
       "  'wichtig zudem möglichkeit direkt langfristig stromlieferver tragen abschließen',\n",
       "  'vernetzt desto stark',\n",
       "  'kapitel',\n",
       "  'bereit',\n",
       "  'marktanreizen umfassend förderprogramm kapazität wasserstoffherstellung deutschland schaffen',\n",
       "  'infrastruktur wasserstoffimport etablieren',\n",
       "  'gelten wasserstoffimport',\n",
       "  'kapitel',\n",
       "  'bereit',\n",
       "  'legen investition programm million hocheffizient wärmepumpe',\n",
       "  '',\n",
       "  'modernisierungsumlage strikt begrenzen kosten einfach mieter*inne abge wälzen',\n",
       "  'kapitel',\n",
       "  'bereit',\n",
       "  'betrieb forschungsreaktor garching hoch- angereichert uran gehören beenden',\n",
       "  'bundesmobilitätsgesetz grundlage verkehrspolitik -gesetzgebung schaffen',\n",
       "  'kapitel',\n",
       "  'bereit',\n",
       "  'attraktiv bezahlbar mobilitätsangebot',\n",
       "  'stillgelegt bahn strecken schnellstmöglich reaktivieren',\n",
       "  'bundeseigen infrastruktur druck gewinn erzielen chronisch unterfinanzierung befreien ent sprechend struktur schaffen',\n",
       "  'sorgen bahnfahren bezahlbar',\n",
       "  'bahnbranche stark wachsend jobmotor sicher arbeitsplatz',\n",
       "  'wol- len öpnv zudem verknüpfen fernverkehrsnetz bike ride regional kooperation stärken',\n",
       "  'empfehlung national radverkehrsplan bund richten schnellstmöglich umge setzen kommune land unternehmen umset zung teil aufgabe umfassend unterstützen',\n",
       "  'anzahl weg rad fuß verdoppeln',\n",
       "  'kapitel',\n",
       "  'd bereit',\n",
       "  'mobilpass einführen   autonomes fahren vernetzt mobilitätsangebot nutzen besit- zen digital fortschritt unser alltag nächster grundlegend verändern',\n",
       "  'ziel vision zero d',\n",
       "  'kapitel',\n",
       "  'bereit',\n",
       "  'sichern zukunftsfähig arbeit plätze geschäftsmodell',\n",
       "  'gehören gründlich bewertung finanziell risiko straßenbau   bundestagswahlprogramm',\n",
       "  'kapitel',\n",
       "  'jb   bereit',\n",
       "  'lärm direkt quelle mindern sorgen gut lärmschutz',\n",
       "  'setzen chance antriebswende',\n",
       "  'angemes- sen bußgeld schluss falschparke radwegen fußweg zugestellt straßenkreuzung',\n",
       "  'zudem stärken möglichkeit europäisch erfolgsmodell city-maut nahverkehrsabgabe mobilitätswende finanzieren fördern aktiv gestalten',\n",
       "  'ausweitung insbesondere stationsbasiert carsharing-angebote fördern verringerung pkw-bestand städ ten sorge',\n",
       "  'kapitel',\n",
       "  'bereit',\n",
       "  'quote prozent mindestens prozent betragen fol gejahrzehnt deutlich anwachsen',\n",
       "  'aufbau produktionsanlage fördern',\n",
       "  'setzen einführung europäisch kerosinsteuer',\n",
       "  'eu umsetzen national ebene kerosinsteuer innerdeutsch flug einführen',\n",
       "  'lohndumping billigflug beenden',\n",
       "  'fördern investition modern güterverkehrstechnik intermodal güterverkehrszentr umschlagterminal kombiniert güterverkehr',\n",
       "  'ausufernd lkw-verkehr co,-orientiert maut regulieren entstehend kosten verursacher*innen tragen',\n",
       "  'struktur lkw absehbar lokal emissionsfrei',\n",
       "  'sicherheit lkw-bereich brauchen gut durchsetzung arbeitszeitvorschrift',\n",
       "  'arbeitsbedingung lkw-fah- rer*inne erheblich verbessern',\n",
       "  'setzen entwicklung gemeinsam seehafenkonzept bund land kooperation standort konkurrenz setzen',\n",
       "  'drängen weltweit hoch standard',\n",
       "  'kapitel',\n",
       "  'bereit',\n",
       "  'ökologisch leit planken handeln definieren barometer leben',\n",
       "  'dienen ökonomisch mehrwert',\n",
       "  'schritt mindestens   prozent wald natur überlassen',\n",
       "  'schaffen urwald',\n",
       "  'kapitel',\n",
       "  'bereit',\n",
       "  'prozent landfläche prozent meer wirksam schützen',\n",
       "  'meeresbereich verfolgen gemeinsam internatio nal meeresstrategie',\n",
       "  'verursacherfonds reform abwasserabgabe fair verteilung kosten abwasser trinkwas seraufbereitung führen',\n",
       "  'kapitel',\n",
       "  'bereit',\n",
       "  'ausstieg kies sandabbau schutzgebiet vorantreiben raubbau land global süden importstandard verhindern',\n",
       "  'müll   plastikmüll mehrweganteil geträn ken sinken',\n",
       "  'ziel zero waste',\n",
       "  'unerwünschte sogar plastikfolie eingepackt werbung gehören briefkäste',\n",
       "  'bisherig lizenzgeld plastikverwertung entwickeln ressourcenabgabe',\n",
       "  'plastikmüll exportieren wer hochwertig recycelen',\n",
       "  'kapitel',\n",
       "  'bereit',\n",
       "  'giftfrei produkt alltag   plastik schadstoffrückständ finden mittlerweile sogar körper kind jugendliche',\n",
       "  'kosmetika pflegeprodukt mikroplas tik verlieren',\n",
       "  'verbraucher*inne schützen gemeinsam land importiert gut stark giftstoff kontrollieren produktkennzeichnung verbessern produktrückrufe erleichtern',\n",
       "  'erde grad erhitzen',\n",
       "  'vorhanden grün schützen ökologisch aufwerten gärtner*inn kleingärtner*inn verbündeter gewinnen',\n",
       "  'kapitel',\n",
       "  'bereit',\n",
       "  'insbesondere betrieb notwendig transformation unterstützen pragmatisch lösung finden',\n",
       "  '  mindestens hälfte geld ökologi- sch zweckbindung erreichen',\n",
       "  'einsatz pestiziden insgesamt reduzieren führen pes tizidabgabe',\n",
       "  'betroffen landwirt*inn umsetzung finanziell unterstüt- zen',\n",
       "  'kapitel',\n",
       "  'bereit',\n",
       "  'techno- logie chance risiko folge stehen zentrum',\n",
       "  'patentrecht ausrichten patent lebewesen genetisch anlage',\n",
       "  'gerecht einkommen arbeitsbedingung bäuer*inn   bäuer*innen arbeit leben',\n",
       "  'nehmen bodenspekulation ausverkauf ländlich fläche ergreifen',\n",
       "  'saisonarbeit prekär beschäftigung sozialversicherungsschutz',\n",
       "  'treffen haufig körperlich schwer arbeit karg lohn schlecht unterkunft',\n",
       "  'regional produktion verarbeitung vermarktung stärken   wunsch regional handwerklich erzeugt leben kaufen bäckerei metzgerei bauernhof wachsen stetig',\n",
       "  'regional erzeugung verarbeitung vermarktung stärken betriebesterben letzter entgegentreten',\n",
       "  'gehö- ren fair wettbewerbsbedingung importiert lebensmittel',\n",
       "  'unterstützen regionalsiegel direktvermarktung betrieb lokal einkaufs-apps regionalwerbung sorge klar definition regional produkt schutz betrug',\n",
       "  'kapitel',\n",
       "  'bereit',\n",
       "  'essen scheitern allzu unzureichend angebot mangelnd transparenz',\n",
       "  'pflanzlich milchal- ternative reduziert mehrwertsteuersatz verkaufen',\n",
       "  'transparenz lebensmittelhygi ene gelten ergebnis lebensmittelkontrolle erkennbar',\n",
       "  'kapitel',\n",
       "  'bereit',\n",
       "  'medi kamente gezielt einsetzen resistenz vermeiden vorrangig krank einzeltier behandeln',\n",
       "  'gut regel zucht haltung handel tier',\n",
       "  'gelten überall welt entgegenwirken',\n",
       "  'wildtier gehören wildnis handel stren- ger regulieren existierend regular konsequent umsetzen',\n",
       "  'wildtierhandel online-portal gewerb- lich börse kommerziell import wildfäng einfuhr jagdtrophä verbieten',\n",
       "  'kapitel',\n",
       "  'bereit',\n",
       "  'fiziert nerz zeigen',\n",
       "  'unternehmen kopf struktur stecken innovationskraft wille zukunft wirtschaften',\n",
       "  'überzeugen frei kreativ handeln dynamik fair wettbewerb stärke gesellschaft- lich kooperation innovativ problem lösen',\n",
       "  'digitalisierung gestalten sorgen notwendig inno- vationen europa entwickeln marktfähig',\n",
       "  'pandemie wirtschaftszweig hart treffen sektor zuvor transformation ver- schlafen',\n",
       "  'verständnis wohlstand wandel',\n",
       "  'kapitel',\n",
       "  'bereit',\n",
       "  'gen wachstum einklang planetar grenze statt- finden natürlich ressource übernutz',\n",
       "  'sozialsystem arbeitsmarkt staatsfinanzie rung richten wirtschaften innerhalb die ser grenze stabil bleiben',\n",
       "  'politik nötig vorne führen ver lässlich steuern',\n",
       "  'ungeregelt markt zerstören',\n",
       "  'setzen vorsorgend haushaltspolitik',\n",
       "  'hoch einkommen ver finanzierung unser gemeinwe sens beitragen niedrig entlasten',\n",
       "  'wirtschaft finanzpolitik europäisch',\n",
       "  'entstehen arbeitsplatz regional wertschöpfungskett gemeinwohlorientiert winnorientieren',\n",
       "  'kapitel',\n",
       "  'bereit',\n",
       "  'starten nächster legislaturperiode investitionsoffensive',\n",
       "  'investition schnell internet überall',\n",
       "  'investition gender budgeting unterliegen',\n",
       "  'wäh- rend verschulden krise schaffen geschäft aufgeben',\n",
       "  'hierfür dehnen mittlerer unternehmen steuerlich verlustrücktrag fahren attraktiv zeitlich begrenzt abschrei bungsbedingung helfen mittlerer unterneh men vereinfacht restrukturierungsverfahre leicht neu aufstellen insolvenz anmelden',\n",
       "  'falls coronahilfa zurückzahlen benötigen unternehmen groß- zügig kondition',\n",
       "  'corona-krise aktiengesell schafte staatlich hilfe stützen',\n",
       "  'mittels kurzarbeiter*innen- geld beteiligung anderer finanzhilfe unterneh- men pleite bewahren',\n",
       "  '-- germany zukünftig qualität stark nachhaltig innovativ produkt prozeß stehen',\n",
       "  'staat öffentlich investition realisieren anreiz investition unternehmen setzen',\n",
       "  'erweitern zielgerichten spielraum unternehmen investition zeitlich befristet degressiv mindestens prozent abge- schreiben',\n",
       "  'kapitel',\n",
       "  '-- bereit',\n",
       "  'weitgehend melde berichtspflicht befreien',\n",
       "  'mitarbeiterbeteili gung breit zugänglich erleichtern',\n",
       "  'bieten hun derttausend arbeitsplatz eckpfeiler unser wohlstand',\n",
       "  'verträglich anlage fließen fördern investitionszu   schüssen degressiv abschreibung direkt transformation',\n",
       "  '-vermeidungskost finanzie- ren sorgen investitionssicherheit',\n",
       "  '-freie pro dukt',\n",
       "  'pilotanlag marktreife emissionsarm techno- logien fördern',\n",
       "  'exportieren',\n",
       "  'politik zentral rolle rahmen setzen trans formationsprozess gestalten',\n",
       "  'kapitel',\n",
       "  'bereit',\n",
       "  'zudem gelten chance wertschöpfung arbeitsplatz mobilitätswende blick nehmen job öpnv fahrzeugproduktion',\n",
       "  'wich tig zudem deutschland europa schnell anschluss batteriezellenproduktion finden',\n",
       "  'kritisch abhängigkeit verringern setzen europäisch kooperation offen standard',\n",
       "  'hierzu investition entlang halbleiter-wertschöpfungskette erhöhen',\n",
       "  'nachricht hersteller wichtig komponente windrä- dern wechselrichter europa enorm wichtig pv-modul-produktion investition produk- tionskapazitäten',\n",
       "  'kapitel',\n",
       "  'bereit',\n",
       "  'fahren diverser team unternehmen erfolgreich',\n",
       "  'erleichtern hindernis feh lend elternzeitregelung aktienrecht beseitigen',\n",
       "  'unter nehmen hand bund bund beteiligen ministerium behörde klar plan paritätisch betriebsstruktur vorangehen',\n",
       "  'wirtschaftsförderung geschlechtergerechter ausgestalten frau unter- repräsentieren gezielt mafßnahm fördern staatlich wagniskapitalfonds gründerinn',\n",
       "  'arbeit fachkräftemangel ver stärken',\n",
       "  'entgegenwirken',\n",
       "  'finanzierung bedürfen anpassung',\n",
       "  'kapitel',\n",
       "  'bereit',\n",
       "  'berichtspflicht vereinfachen',\n",
       "  'ent- lastung förderung solo-selbständig kleinstunterneh men gewinngrenze buchführungspflicht anheben',\n",
       "  'setzen bedingung betrieb selb ständig wettbewerb fair chance erhalten',\n",
       "  'innova konsequent stärken',\n",
       "  'regional wirtschaft ort agierend unternehmen wertschöpfungskett produkt stärken setzen klar defi- niert regional kennzeichnung förderkonzept',\n",
       "  'händler innen gewerbetreibend verdrängen',\n",
       "  'wettbewerbsrecht   jahrhundert   stark wettbewerbsrecht voraussetzung fair wirt- schaftsbeziehungen verhindern monopol schützen verbrau cher*innen',\n",
       "  'kapitel',\n",
       "  'bereit',\n",
       "  'umstritten ministererlaubnisverfahr rahmen fusionskontrolle anpassen ver- fahrensgegner*inn vollständig klagemöglichkeit erhalten',\n",
       "  'datenschutzbehörde zusammenschlusskon- trolle bundeskartellamt konsultieren stellungnahme entscheidung fusion berücksichtigen',\n",
       "  'handwerk bieten nachhaltig wirtschaft krisensicher arbeitsplatz tragen entscheidend ökologisch wende',\n",
       "  'kapitel',\n",
       "  'bereit',\n",
       "  'berücksichtigen beitrag naturschutz gerecht ein- kommensverteilung bildung wohlstand gesellschaft',\n",
       "  'kapitel',\n",
       "  'bereit',\n",
       "  'idee gemeinwohl privatwirtschaftlich breite tragen',\n",
       "  'form nachhaltig unternehmertum   setzen einführung unternehmensform ver- antwortungseigentum',\n",
       "  'unternehmer innen verste- hen unternehmen individuell konsumierbar vermögen',\n",
       "  'brauchen rechtsform hundertprozentig vermögensbindung unternehmen ermög- licht',\n",
       "  'gewinn reinvestieren spenden',\n",
       "  'europa expertise bereich verarbeitung datenmeng künstlich intelligenz investieren',\n",
       "  'innovationskraft staat tempo ent- schlossen investition unterstützen',\n",
       "  'benötigen privat risikokapital staatli- che fonds stark hebeln',\n",
       "  'kapitel',\n",
       "  'bereit',\n",
       "  'dringend benötigt talent anziehen',\n",
       "  'forschung bedeuten angemessen finanzierung',\n",
       "  'fordern schnell investieren',\n",
       "  'zukunftsfonds verstreut förderangebot bündeln vielfache privat geld hebeln',\n",
       "  'gleichzeitig funktionierend sekun därmarkt direktinvestition anteil wagniskapitalfonds aufbauen co-investing-plattform',\n",
       "  'finanzieren insbesondere projekt bereich greentech künstlicher intelligenz nach- haltiger mobilität bioökonomie zirkulärwirtschaft risikoprofil einfach finanzierung markt bekommen',\n",
       "  'finanzierungsform gezielt gründung start ups green economy anpassen barriere zugang auf tragen öffentlich beschaffung abbauen',\n",
       "  'regionale greentech- hubs fördern zusammenarbeit start-ups etabliert unternehmen erleichtern',\n",
       "  'internetgigant regulieren   setzen funktionierend fair wettbewerb digital markt',\n",
       "  'übermäßig marktmacht einzeln inter net techgigant einschränken aufgeho- ben',\n",
       "  'relevant erwerbsvorgäng tech-konzern bundeskartellamt prüfen strategisch aufkauf aufkeimend konkurrenz killer acquisitions verhindern',\n",
       "  'start-up berücksichtigen',\n",
       "  'kapitel',\n",
       "  'bereit',\n",
       "  'qualitätskriterium europäisch anstrengung transparenz überprüfbarkeit vorantreiben algorithmisch entscheidungssysteme diskriminierend wirken',\n",
       "  'setzen füreinen risiko abgestuft europäisch ordnungsrahmen einsatz automatisch system klar regel nachvoll ziehbarkeit datenschutz arbeitsrecht datenqualität kontrolle haftung rechtssicherheit betroffen betrieb ermöglichen',\n",
       "  'staat bleiben pflicht gewähren',\n",
       "  'kämpfen fair nachhaltig handel   neustart handelsvertrag   handel wichtig grundlage unser wohlstand fairer han del tragen vertiefung international partnerschaft sicher welt',\n",
       "  'kapitel',\n",
       "  'bereit',\n",
       "  'handelsabkommen unternehmen son- dern pflicht regeln',\n",
       "  'derzeit vorläufig ange wendet teil ceta üben erheblich kritik',\n",
       "  'regulatorisch kooperation verbessern',\n",
       "  'jetzig form zustimmen',\n",
       "  'anti-dumping- anti-subventions-instru- ment weiterentwickeln level playing field global markt erreichen',\n",
       "  'kapitel',\n",
       "  'bereit',\n",
       "  'bestehend fair-handels-initiati- ven fördern',\n",
       "  'zoll land global süden verarbeitet produkt senken bzw',\n",
       "  'abge schaffen',\n",
       "  'zudem schaffen verbindlich rahmen gleich wett bewerbsbedingung markt schaffen rechtssicherheit',\n",
       "  'eu-ebene zudem importstopp agrarprodukt einsetzen zusammen- hang illegal entwaldung menschenrechtsverletzung vertreibung stehen',\n",
       "  'großteil gut eu importieren',\n",
       "  'schützen weltweit wald fördern wiederbewaldung renaturierung zerstört fläche vertrag partnerschaft entsprechend land schließen',\n",
       "  'öffentlich-rechtlich bank versicherer pensionsfonds bund investor   bundestagswahlprogramm',\n",
       "  'kapitel',\n",
       "  'bereit',\n",
       "  'miteigentümer unternehmen vorreiterrolle grün finanzwende transformationsfinanzierung ein nehmen',\n",
       "  'sorgen kapital schmutzig grün nachhaltig investition umlenken',\n",
       "  'sauber bilanz deutsch kapitalmarkt   bilanzskandal wirecard zuständig wirtschaftsprü fer*inne staatlich aufsicht aufgabe scheitern',\n",
       "  'unternehmen regel wirtschaftsprüfer*inn wechseln',\n",
       "  'wirtschaftsprüfungsgesellschaft müs- sen wirksam staatlich beaufsichtigen',\n",
       "  'persönlich haftung entscheider*inn unternehmen rechtsverstoß tatsächlich wirksam',\n",
       "  'vergütung vorstand langfristig unternehmenserfolg kurzfristig börse kurs orientieren',\n",
       "  'finanzaufsicht zahn   brauchen finanzaufsicht zahn missständ auf zeigen ermöglichen',\n",
       "  'persilschein wirecard',\n",
       "  'anleger*innen ergebnis geld vertrauen finanz- platz deutschland aufsicht verlieren',\n",
       "  'ehrlich unter nehmen finanzierung künftig schwierig teuer',\n",
       "  'kul- tur selbstverständnis bafin komplett',\n",
       "  'bankgeschäft langweilig   finanzkrise bank gefahr wirtschaft',\n",
       "  'boring banking',\n",
       "  'bank spekulieren realwirtschaft finanzieren',\n",
       "  'prozent erhöhen',\n",
       "  'riskant investmentgeschäft einla ge kreditgeschäft trennen trennbankensystem',\n",
       "  'kapitel',\n",
       "  'bereit',\n",
       "  'brauchen stark fusionskontrolle bank entflocht',\n",
       "  'bank risiko finanzsystem ausgehen hingegen einfach regel gelten',\n",
       "  'spekulation kurzfristorientierung eu-weit finanztransaktionssteuer breit bem sungsgrundlage unattraktiv',\n",
       "  'stabilität bere chenbarkeit finanzmarkt erhöhen schäd- lich hochfrequenzhandel eindämmen',\n",
       "  'schmutzig geld einziehen   land derzeit paradies geldwäsche',\n",
       "  'umfassend strategie geldwäsche vorgehen',\n",
       "  'gesellschaft stiftung sonstig konstrukt umfas send transparenz wirtschaftlich berechtigter bestehen',\n",
       "  'lücke umgehungsmöglichkeit transparenzregister schließen',\n",
       "  'finanzaufsicht geldwäschebe kämpfung aktiv rolle spielen verdachtsmeldung weiterzureichen',\n",
       "  'nichtfinanzsektor immobilie bleiben geldwäsche unentdeckt',\n",
       "  'zuständigkeit bekämpfung geldwäsche vollständig bund übergehen',\n",
       "  'illegal geld vermö genswert umfassend abschöpfen',\n",
       "  'bequem schnell sicher',\n",
       "  'wirken ungerechtfertigt kosten oligo- pole entgegen',\n",
       "  'privat firma grundlage produkt app aufbauen',\n",
       "  'digital euro lösen klassisch bargeld ergänzen',\n",
       "  'aushöhlung geld währung monopols privat währung mächtig großkonzern leh- nen strikt',\n",
       "  'umso gefährlich letzter verschleiß fahren investieren',\n",
       "  'neu geschaf fen wiederaufbauinstrument verstetigen permanent investition stabilisierungsinstrument kontrolle europäisch parlament überführen',\n",
       "  'kapitel',\n",
       "  'bereit',\n",
       "  'einnahme ausstatten',\n",
       "  'gemeinsam unser europäisch partner stabilität wachstumspakt reformieren hoch kürzung privatisierungsdruck verhindern zukunftsinvestition mitgliedsland erhöhen',\n",
       "  'währungsunion vollenden europa krisensich aufstellen   fehler konservative jahrzehntelang fiskalpolitik europa verhindern',\n",
       "  'sorge tra gen eu nachhaltig investitionsfonds inst rument dauerhaft fiskalpolitik erhalten',\n",
       "  'erhalten land konditioniert kurzfris- tig kreditlinie',\n",
       "  'spekulation einzeln staat vorfeld abwenden',\n",
       "  'gemeinsam stark antizy- klisch fiskalpolitik entlasten zentralbank sorgen künftig brand alleine löschen',\n",
       "  'gleichzeitig begrüßen debatte ezb geldpolitisch strategie',\n",
       "  'sichtigen',\n",
       "  'sicher europäisch vermögenswert schaffen welt sparen',\n",
       "  'kapitel',\n",
       "  'bereit',\n",
       "  'finanzierung nachhaltig ausgabe setzen grün anleihe',\n",
       "  'bereit',\n",
       "  'berlin   telefon   fax e-mail info@gruener',\n",
       "  '--   v',\n",
       "  'berlin   layout satz twentyfour seven creative media service gmbh berlin twentyfour-',\n",
       "  'kg preetz www',\n",
       "  'eversfrank',\n",
       "  'fördern kind jugendliche familie',\n",
       "  'sorgen arbeit fair lohn',\n",
       "  'enden ära beginnen',\n",
       "  'rücksichtnahme mensch legen',\n",
       "  'wis senschaft fortschritt',\n",
       "  'politik hinauswächst',\n",
       "  'politik weitblick frieden',\n",
       "  'gesellschaft schlüssel viele hand',\n",
       "  'wort reichen',\n",
       "  'für',\n",
       "  'reaktiv politik letzter versuchen schlimme verhindern',\n",
       "  'gute ermöglichen',\n",
       "  'programm anfang',\n",
       "  'ständen ebenfalls',\n",
       "  'lassen gemeinsam politisch arbeit höhe bringen',\n",
       "  'demo- kratie geliehen',\n",
       "  'sinn handeln',\n",
       "  'führen',\n",
       "  'angebot wer ben mehrheit kommend',\n",
       "  'laden weg',\n",
       "  'bereit',\n",
       "  'gelten ergreifen',\n",
       "  'folge vervielfachen umsteuern',\n",
       "  'verlangen mut',\n",
       "  'bereich wandeln verschwinden',\n",
       "  'handwerkerin stahlarbeiter',\n",
       "  'setzen priorität',\n",
       "  'kapitel',\n",
       "  'bereit',\n",
       "  'schützen',\n",
       "  'zerstörerisch wirken kosten tra- gen schnell überwinden',\n",
       "  'wald kind schönheit natur entdecken',\n",
       "  'kapitel',\n",
       "  'bereit',\n",
       "  'ehrgeizig vorgabe form grenzwert co',\n",
       "  'wirtschaft spitzenreiterin modern technolo gie schützen natürlich lebensgrundlage',\n",
       "  'job möglichkeit tarifvertrag mindestens gleichwertig bedingung unterliegen',\n",
       "  'jobprofil grundlegend verändern arbeitsplatz verlieren',\n",
       "  'qualifizierungs-kurzarbeitergeld ermöglichen unterneh- men phase transformation beschäftigter betrieb halten nachhaltig qualifizieren',\n",
       "  'qualifizierungs-kurz arbeit koppeln eng sozialpartnerschaft',\n",
       "  'zudem betrieblich mitbestimmung entscheidung oko logisch transformation stärken',\n",
       "  'unternehmen gewerkschaft betriebsrat wissen gemeinsam transformation gestalten',\n",
       "  'kapitel',\n",
       "  'bereit',\n",
       "  'förderung richten unternehmen kraft ökologisch strukturwandel bewältigen standort fest region verankern blei- ben',\n",
       "  'notwendig grad-pfad',\n",
       "  'proportional reduktionserfolg nächster',\n",
       "  'ziel wirtschaft nachhaltig produkt güns- tigst',\n",
       "  'klug mix co',\n",
       "  'sehen co',\n",
       "  'kapitel',\n",
       "  'bereit',\n",
       "  'einnahme national co',\n",
       "  'streben senkung eeg-umlage energie geld jede*rr bürger*in erhalten',\n",
       "  'energiegeld geben zusätzlich einnahme transparent mensch entlasten direkt rückerstattung pro kopf bekom- men',\n",
       "  'vollenden',\n",
       "  'naturholz rohstoff vielfältig einsetzbar wert- voll großkraftwerk verbrennen',\n",
       "  'kapitel',\n",
       "  'bereit',\n",
       "  'ziel millio n solardächer kommend',\n",
       "  'wer- solardächer fördern standard',\n",
       "  'agri-photovoltaikanlag d',\n",
       "  'wichtig zudem möglichkeit direkt langfristig stromlieferver tragen abschließen',\n",
       "  'vernetzt desto stark',\n",
       "  'kapitel',\n",
       "  'bereit',\n",
       "  'marktanreizen umfassend förderprogramm kapazität wasserstoffherstellung deutschland schaffen',\n",
       "  'infrastruktur wasserstoffimport etablieren',\n",
       "  'gelten wasserstoffimport',\n",
       "  'kapitel',\n",
       "  'bereit',\n",
       "  'legen investition programm million hocheffizient wärmepumpe',\n",
       "  '',\n",
       "  'modernisierungsumlage strikt begrenzen kosten einfach mieter*inne abge wälzen',\n",
       "  'kapitel',\n",
       "  'bereit',\n",
       "  'betrieb forschungsreaktor garching hoch- angereichert uran gehören beenden',\n",
       "  'bundesmobilitätsgesetz grundlage verkehrspolitik -gesetzgebung schaffen',\n",
       "  'kapitel',\n",
       "  'bereit',\n",
       "  'attraktiv bezahlbar mobilitätsangebot',\n",
       "  'stillgelegt bahn strecken schnellstmöglich reaktivieren',\n",
       "  'bundeseigen infrastruktur druck gewinn erzielen chronisch unterfinanzierung befreien ent sprechend struktur schaffen',\n",
       "  'sorgen bahnfahren bezahlbar',\n",
       "  'bahnbranche stark wachsend jobmotor sicher arbeitsplatz',\n",
       "  'wol- len öpnv zudem verknüpfen fernverkehrsnetz bike ride regional kooperation stärken',\n",
       "  'empfehlung national radverkehrsplan bund richten schnellstmöglich umge setzen kommune land unternehmen umset zung teil aufgabe umfassend unterstützen',\n",
       "  'anzahl weg rad fuß verdoppeln',\n",
       "  'kapitel',\n",
       "  'd bereit',\n",
       "  'mobilpass einführen   autonomes fahren vernetzt mobilitätsangebot nutzen besit- zen digital fortschritt unser alltag nächster grundlegend verändern',\n",
       "  'ziel vision zero d',\n",
       "  'kapitel',\n",
       "  'bereit',\n",
       "  'sichern zukunftsfähig arbeit plätze geschäftsmodell',\n",
       "  'gehören gründlich bewertung finanziell risiko straßenbau   bundestagswahlprogramm',\n",
       "  'kapitel',\n",
       "  'jb   bereit',\n",
       "  'lärm direkt quelle mindern sorgen gut lärmschutz',\n",
       "  'setzen chance antriebswende',\n",
       "  'angemes- sen bußgeld schluss falschparke radwegen fußweg zugestellt straßenkreuzung',\n",
       "  'zudem stärken möglichkeit europäisch erfolgsmodell city-maut nahverkehrsabgabe mobilitätswende finanzieren fördern aktiv gestalten',\n",
       "  'ausweitung insbesondere stationsbasiert carsharing-angebote fördern verringerung pkw-bestand städ ten sorge',\n",
       "  'kapitel',\n",
       "  'bereit',\n",
       "  'quote prozent mindestens prozent betragen fol gejahrzehnt deutlich anwachsen',\n",
       "  'aufbau produktionsanlage fördern',\n",
       "  'setzen einführung europäisch kerosinsteuer',\n",
       "  'eu umsetzen national ebene kerosinsteuer innerdeutsch flug einführen',\n",
       "  'lohndumping billigflug beenden',\n",
       "  'fördern investition modern güterverkehrstechnik intermodal güterverkehrszentr umschlagterminal kombiniert güterverkehr',\n",
       "  'ausufernd lkw-verkehr co,-orientiert maut regulieren entstehend kosten verursacher*innen tragen',\n",
       "  'struktur lkw absehbar lokal emissionsfrei',\n",
       "  'sicherheit lkw-bereich brauchen gut durchsetzung arbeitszeitvorschrift',\n",
       "  'arbeitsbedingung lkw-fah- rer*inne erheblich verbessern',\n",
       "  'setzen entwicklung gemeinsam seehafenkonzept bund land kooperation standort konkurrenz setzen',\n",
       "  'drängen weltweit hoch standard',\n",
       "  'kapitel',\n",
       "  'bereit',\n",
       "  'ökologisch leit planken handeln definieren barometer leben',\n",
       "  'dienen ökonomisch mehrwert',\n",
       "  'schritt mindestens   prozent wald natur überlassen',\n",
       "  'schaffen urwald',\n",
       "  'kapitel',\n",
       "  'bereit',\n",
       "  'prozent landfläche prozent meer wirksam schützen',\n",
       "  'meeresbereich verfolgen gemeinsam internatio nal meeresstrategie',\n",
       "  'verursacherfonds reform abwasserabgabe fair verteilung kosten abwasser trinkwas seraufbereitung führen',\n",
       "  'kapitel',\n",
       "  'bereit',\n",
       "  'ausstieg kies sandabbau schutzgebiet vorantreiben raubbau land global süden importstandard verhindern',\n",
       "  'müll   plastikmüll mehrweganteil geträn ken sinken',\n",
       "  'ziel zero waste',\n",
       "  'unerwünschte sogar plastikfolie eingepackt werbung gehören briefkäste',\n",
       "  'bisherig lizenzgeld plastikverwertung entwickeln ressourcenabgabe',\n",
       "  'plastikmüll exportieren wer hochwertig recycelen',\n",
       "  'kapitel',\n",
       "  'bereit',\n",
       "  'giftfrei produkt alltag   plastik schadstoffrückständ finden mittlerweile sogar körper kind jugendliche',\n",
       "  'kosmetika pflegeprodukt mikroplas tik verlieren',\n",
       "  'verbraucher*inne schützen gemeinsam land importiert gut stark giftstoff kontrollieren produktkennzeichnung verbessern produktrückrufe erleichtern',\n",
       "  'erde grad erhitzen',\n",
       "  'vorhanden grün schützen ökologisch aufwerten gärtner*inn kleingärtner*inn verbündeter gewinnen',\n",
       "  'kapitel',\n",
       "  'bereit',\n",
       "  'insbesondere betrieb notwendig transformation unterstützen pragmatisch lösung finden',\n",
       "  '  mindestens hälfte geld ökologi- sch zweckbindung erreichen',\n",
       "  'einsatz pestiziden insgesamt reduzieren führen pes tizidabgabe',\n",
       "  'betroffen landwirt*inn umsetzung finanziell unterstüt- zen',\n",
       "  'kapitel',\n",
       "  'bereit',\n",
       "  'techno- logie chance risiko folge stehen zentrum',\n",
       "  'patentrecht ausrichten patent lebewesen genetisch anlage',\n",
       "  'gerecht einkommen arbeitsbedingung bäuer*inn   bäuer*innen arbeit leben',\n",
       "  'nehmen bodenspekulation ausverkauf ländlich fläche ergreifen',\n",
       "  'saisonarbeit prekär beschäftigung sozialversicherungsschutz',\n",
       "  'treffen haufig körperlich schwer arbeit karg lohn schlecht unterkunft',\n",
       "  'regional produktion verarbeitung vermarktung stärken   wunsch regional handwerklich erzeugt leben kaufen bäckerei metzgerei bauernhof wachsen stetig',\n",
       "  'regional erzeugung verarbeitung vermarktung stärken betriebesterben letzter entgegentreten',\n",
       "  'gehö- ren fair wettbewerbsbedingung importiert lebensmittel',\n",
       "  'unterstützen regionalsiegel direktvermarktung betrieb lokal einkaufs-apps regionalwerbung sorge klar definition regional produkt schutz betrug',\n",
       "  'kapitel',\n",
       "  'bereit',\n",
       "  'essen scheitern allzu unzureichend angebot mangelnd transparenz',\n",
       "  'pflanzlich milchal- ternative reduziert mehrwertsteuersatz verkaufen',\n",
       "  'transparenz lebensmittelhygi ene gelten ergebnis lebensmittelkontrolle erkennbar',\n",
       "  'kapitel',\n",
       "  'bereit',\n",
       "  'medi kamente gezielt einsetzen resistenz vermeiden vorrangig krank einzeltier behandeln',\n",
       "  'gut regel zucht haltung handel tier',\n",
       "  'gelten überall welt entgegenwirken',\n",
       "  'wildtier gehören wildnis handel stren- ger regulieren existierend regular konsequent umsetzen',\n",
       "  'wildtierhandel online-portal gewerb- lich börse kommerziell import wildfäng einfuhr jagdtrophä verbieten',\n",
       "  'kapitel',\n",
       "  'bereit',\n",
       "  'fiziert nerz zeigen',\n",
       "  'unternehmen kopf struktur stecken innovationskraft wille zukunft wirtschaften',\n",
       "  'überzeugen frei kreativ handeln dynamik fair wettbewerb stärke gesellschaft- lich kooperation innovativ problem lösen',\n",
       "  'digitalisierung gestalten sorgen notwendig inno- vationen europa entwickeln marktfähig',\n",
       "  'pandemie wirtschaftszweig hart treffen sektor zuvor transformation ver- schlafen',\n",
       "  'verständnis wohlstand wandel',\n",
       "  'kapitel',\n",
       "  'bereit',\n",
       "  'gen wachstum einklang planetar grenze statt- finden natürlich ressource übernutz',\n",
       "  'sozialsystem arbeitsmarkt staatsfinanzie rung richten wirtschaften innerhalb die ser grenze stabil bleiben',\n",
       "  'politik nötig vorne führen ver lässlich steuern',\n",
       "  'ungeregelt markt zerstören',\n",
       "  'setzen vorsorgend haushaltspolitik',\n",
       "  'hoch einkommen ver finanzierung unser gemeinwe sens beitragen niedrig entlasten',\n",
       "  'wirtschaft finanzpolitik europäisch',\n",
       "  'entstehen arbeitsplatz regional wertschöpfungskett gemeinwohlorientiert winnorientieren',\n",
       "  'kapitel',\n",
       "  'bereit',\n",
       "  'starten nächster legislaturperiode investitionsoffensive',\n",
       "  'investition schnell internet überall',\n",
       "  'investition gender budgeting unterliegen',\n",
       "  'wäh- rend verschulden krise schaffen geschäft aufgeben',\n",
       "  'hierfür dehnen mittlerer unternehmen steuerlich verlustrücktrag fahren attraktiv zeitlich begrenzt abschrei bungsbedingung helfen mittlerer unterneh men vereinfacht restrukturierungsverfahre leicht neu aufstellen insolvenz anmelden',\n",
       "  'falls coronahilfa zurückzahlen benötigen unternehmen groß- zügig kondition',\n",
       "  'corona-krise aktiengesell schafte staatlich hilfe stützen',\n",
       "  'mittels kurzarbeiter*innen- geld beteiligung anderer finanzhilfe unterneh- men pleite bewahren',\n",
       "  '-- germany zukünftig qualität stark nachhaltig innovativ produkt prozeß stehen',\n",
       "  'staat öffentlich investition realisieren anreiz investition unternehmen setzen',\n",
       "  'erweitern zielgerichten spielraum unternehmen investition zeitlich befristet degressiv mindestens prozent abge- schreiben',\n",
       "  'kapitel',\n",
       "  '-- bereit',\n",
       "  'weitgehend melde berichtspflicht befreien',\n",
       "  'mitarbeiterbeteili gung breit zugänglich erleichtern',\n",
       "  'bieten hun derttausend arbeitsplatz eckpfeiler unser wohlstand',\n",
       "  'verträglich anlage fließen fördern investitionszu   schüssen degressiv abschreibung direkt transformation',\n",
       "  '-vermeidungskost finanzie- ren sorgen investitionssicherheit',\n",
       "  '-freie pro dukt',\n",
       "  'pilotanlag marktreife emissionsarm techno- logien fördern',\n",
       "  'exportieren',\n",
       "  'politik zentral rolle rahmen setzen trans formationsprozess gestalten',\n",
       "  'kapitel',\n",
       "  'bereit',\n",
       "  'zudem gelten chance wertschöpfung arbeitsplatz mobilitätswende blick nehmen job öpnv fahrzeugproduktion',\n",
       "  'wich tig zudem deutschland europa schnell anschluss batteriezellenproduktion finden',\n",
       "  'kritisch abhängigkeit verringern setzen europäisch kooperation offen standard',\n",
       "  'hierzu investition entlang halbleiter-wertschöpfungskette erhöhen',\n",
       "  'nachricht hersteller wichtig komponente windrä- dern wechselrichter europa enorm wichtig pv-modul-produktion investition produk- tionskapazitäten',\n",
       "  'kapitel',\n",
       "  'bereit',\n",
       "  'fahren diverser team unternehmen erfolgreich',\n",
       "  'erleichtern hindernis feh lend elternzeitregelung aktienrecht beseitigen',\n",
       "  'unter nehmen hand bund bund beteiligen ministerium behörde klar plan paritätisch betriebsstruktur vorangehen',\n",
       "  'wirtschaftsförderung geschlechtergerechter ausgestalten frau unter- repräsentieren gezielt mafßnahm fördern staatlich wagniskapitalfonds gründerinn',\n",
       "  'arbeit fachkräftemangel ver stärken',\n",
       "  'entgegenwirken',\n",
       "  'finanzierung bedürfen anpassung',\n",
       "  'kapitel',\n",
       "  'bereit',\n",
       "  'berichtspflicht vereinfachen',\n",
       "  'ent- lastung förderung solo-selbständig kleinstunterneh men gewinngrenze buchführungspflicht anheben',\n",
       "  'setzen bedingung betrieb selb ständig wettbewerb fair chance erhalten',\n",
       "  'innova konsequent stärken',\n",
       "  'regional wirtschaft ort agierend unternehmen wertschöpfungskett produkt stärken setzen klar defi- niert regional kennzeichnung förderkonzept',\n",
       "  'händler innen gewerbetreibend verdrängen',\n",
       "  'wettbewerbsrecht   jahrhundert   stark wettbewerbsrecht voraussetzung fair wirt- schaftsbeziehungen verhindern monopol schützen verbrau cher*innen',\n",
       "  'kapitel',\n",
       "  'bereit',\n",
       "  'umstritten ministererlaubnisverfahr rahmen fusionskontrolle anpassen ver- fahrensgegner*inn vollständig klagemöglichkeit erhalten',\n",
       "  'datenschutzbehörde zusammenschlusskon- trolle bundeskartellamt konsultieren stellungnahme entscheidung fusion berücksichtigen',\n",
       "  'handwerk bieten nachhaltig wirtschaft krisensicher arbeitsplatz tragen entscheidend ökologisch wende',\n",
       "  'kapitel',\n",
       "  'bereit',\n",
       "  'berücksichtigen beitrag naturschutz gerecht ein- kommensverteilung bildung wohlstand gesellschaft',\n",
       "  'kapitel',\n",
       "  'bereit',\n",
       "  'idee gemeinwohl privatwirtschaftlich breite tragen',\n",
       "  'form nachhaltig unternehmertum   setzen einführung unternehmensform ver- antwortungseigentum',\n",
       "  'unternehmer innen verste- hen unternehmen individuell konsumierbar vermögen',\n",
       "  'brauchen rechtsform hundertprozentig vermögensbindung unternehmen ermög- licht',\n",
       "  'gewinn reinvestieren spenden',\n",
       "  'europa expertise bereich verarbeitung datenmeng künstlich intelligenz investieren',\n",
       "  'innovationskraft staat tempo ent- schlossen investition unterstützen',\n",
       "  'benötigen privat risikokapital staatli- che fonds stark hebeln',\n",
       "  'kapitel',\n",
       "  'bereit',\n",
       "  'dringend benötigt talent anziehen',\n",
       "  'forschung bedeuten angemessen finanzierung',\n",
       "  'fordern schnell investieren',\n",
       "  'zukunftsfonds verstreut förderangebot bündeln vielfache privat geld hebeln',\n",
       "  'gleichzeitig funktionierend sekun därmarkt direktinvestition anteil wagniskapitalfonds aufbauen co-investing-plattform',\n",
       "  'finanzieren insbesondere projekt bereich greentech künstlicher intelligenz nach- haltiger mobilität bioökonomie zirkulärwirtschaft risikoprofil einfach finanzierung markt bekommen',\n",
       "  'finanzierungsform gezielt gründung start ups green economy anpassen barriere zugang auf tragen öffentlich beschaffung abbauen',\n",
       "  'regionale greentech- hubs fördern zusammenarbeit start-ups etabliert unternehmen erleichtern',\n",
       "  'internetgigant regulieren   setzen funktionierend fair wettbewerb digital markt',\n",
       "  'übermäßig marktmacht einzeln inter net techgigant einschränken aufgeho- ben',\n",
       "  'relevant erwerbsvorgäng tech-konzern bundeskartellamt prüfen strategisch aufkauf aufkeimend konkurrenz killer acquisitions verhindern',\n",
       "  'start-up berücksichtigen',\n",
       "  'kapitel',\n",
       "  'bereit',\n",
       "  'qualitätskriterium europäisch anstrengung transparenz überprüfbarkeit vorantreiben algorithmisch entscheidungssysteme diskriminierend wirken',\n",
       "  'setzen füreinen risiko abgestuft europäisch ordnungsrahmen einsatz automatisch system klar regel nachvoll ziehbarkeit datenschutz arbeitsrecht datenqualität kontrolle haftung rechtssicherheit betroffen betrieb ermöglichen',\n",
       "  'staat bleiben pflicht gewähren',\n",
       "  'kämpfen fair nachhaltig handel   neustart handelsvertrag   handel wichtig grundlage unser wohlstand fairer han del tragen vertiefung international partnerschaft sicher welt',\n",
       "  'kapitel',\n",
       "  'bereit',\n",
       "  'handelsabkommen unternehmen son- dern pflicht regeln',\n",
       "  'derzeit vorläufig ange wendet teil ceta üben erheblich kritik',\n",
       "  'regulatorisch kooperation verbessern',\n",
       "  'jetzig form zustimmen',\n",
       "  'anti-dumping- anti-subventions-instru- ment weiterentwickeln level playing field global markt erreichen',\n",
       "  'kapitel',\n",
       "  'bereit',\n",
       "  'bestehend fair-handels-initiati- ven fördern',\n",
       "  'zoll land global süden verarbeitet produkt senken bzw',\n",
       "  'abge schaffen',\n",
       "  'zudem schaffen verbindlich rahmen gleich wett bewerbsbedingung markt schaffen rechtssicherheit',\n",
       "  'eu-ebene zudem importstopp agrarprodukt einsetzen zusammen- hang illegal entwaldung menschenrechtsverletzung vertreibung stehen',\n",
       "  'großteil gut eu importieren',\n",
       "  'schützen weltweit wald fördern wiederbewaldung renaturierung zerstört fläche vertrag partnerschaft entsprechend land schließen',\n",
       "  'öffentlich-rechtlich bank versicherer pensionsfonds bund investor   bundestagswahlprogramm',\n",
       "  'kapitel',\n",
       "  'bereit',\n",
       "  'miteigentümer unternehmen vorreiterrolle grün finanzwende transformationsfinanzierung ein nehmen',\n",
       "  'sorgen kapital schmutzig grün nachhaltig investition umlenken',\n",
       "  'sauber bilanz deutsch kapitalmarkt   bilanzskandal wirecard zuständig wirtschaftsprü fer*inne staatlich aufsicht aufgabe scheitern',\n",
       "  'unternehmen regel wirtschaftsprüfer*inn wechseln',\n",
       "  'wirtschaftsprüfungsgesellschaft müs- sen wirksam staatlich beaufsichtigen',\n",
       "  'persönlich haftung entscheider*inn unternehmen rechtsverstoß tatsächlich wirksam',\n",
       "  'vergütung vorstand langfristig unternehmenserfolg kurzfristig börse kurs orientieren',\n",
       "  'finanzaufsicht zahn   brauchen finanzaufsicht zahn missständ auf zeigen ermöglichen',\n",
       "  'persilschein wirecard',\n",
       "  'anleger*innen ergebnis geld vertrauen finanz- platz deutschland aufsicht verlieren',\n",
       "  'ehrlich unter nehmen finanzierung künftig schwierig teuer',\n",
       "  'kul- tur selbstverständnis bafin komplett',\n",
       "  'bankgeschäft langweilig   finanzkrise bank gefahr wirtschaft',\n",
       "  'boring banking',\n",
       "  'bank spekulieren realwirtschaft finanzieren',\n",
       "  'prozent erhöhen',\n",
       "  'riskant investmentgeschäft einla ge kreditgeschäft trennen trennbankensystem',\n",
       "  'kapitel',\n",
       "  'bereit',\n",
       "  'brauchen stark fusionskontrolle bank entflocht',\n",
       "  'bank risiko finanzsystem ausgehen hingegen einfach regel gelten',\n",
       "  'spekulation kurzfristorientierung eu-weit finanztransaktionssteuer breit bem sungsgrundlage unattraktiv',\n",
       "  'stabilität bere chenbarkeit finanzmarkt erhöhen schäd- lich hochfrequenzhandel eindämmen',\n",
       "  'schmutzig geld einziehen   land derzeit paradies geldwäsche',\n",
       "  'umfassend strategie geldwäsche vorgehen',\n",
       "  'gesellschaft stiftung sonstig konstrukt umfas send transparenz wirtschaftlich berechtigter bestehen',\n",
       "  'lücke umgehungsmöglichkeit transparenzregister schließen',\n",
       "  'finanzaufsicht geldwäschebe kämpfung aktiv rolle spielen verdachtsmeldung weiterzureichen',\n",
       "  'nichtfinanzsektor immobilie bleiben geldwäsche unentdeckt',\n",
       "  'zuständigkeit bekämpfung geldwäsche vollständig bund übergehen',\n",
       "  'illegal geld vermö genswert umfassend abschöpfen',\n",
       "  'bequem schnell sicher',\n",
       "  'wirken ungerechtfertigt kosten oligo- pole entgegen',\n",
       "  'privat firma grundlage produkt app aufbauen',\n",
       "  'digital euro lösen klassisch bargeld ergänzen',\n",
       "  'aushöhlung geld währung monopols privat währung mächtig großkonzern leh- nen strikt',\n",
       "  'umso gefährlich letzter verschleiß fahren investieren',\n",
       "  'neu geschaf fen wiederaufbauinstrument verstetigen permanent investition stabilisierungsinstrument kontrolle europäisch parlament überführen',\n",
       "  'kapitel',\n",
       "  'bereit',\n",
       "  'einnahme ausstatten',\n",
       "  'gemeinsam unser europäisch partner stabilität wachstumspakt reformieren hoch kürzung privatisierungsdruck verhindern zukunftsinvestition mitgliedsland erhöhen',\n",
       "  'währungsunion vollenden europa krisensich aufstellen   fehler konservative jahrzehntelang fiskalpolitik europa verhindern',\n",
       "  'sorge tra gen eu nachhaltig investitionsfonds inst rument dauerhaft fiskalpolitik erhalten',\n",
       "  'erhalten land konditioniert kurzfris- tig kreditlinie',\n",
       "  'spekulation einzeln staat vorfeld abwenden',\n",
       "  'gemeinsam stark antizy- klisch fiskalpolitik entlasten zentralbank sorgen künftig brand alleine löschen',\n",
       "  'gleichzeitig begrüßen debatte ezb geldpolitisch strategie',\n",
       "  'sichtigen',\n",
       "  'sicher europäisch vermögenswert schaffen welt sparen',\n",
       "  'kapitel',\n",
       "  'bereit',\n",
       "  'finanzierung nachhaltig ausgabe setzen grün anleihe',\n",
       "  'haushalt gerecht',\n",
       "  'gestaltung bundeshaushalt grundsatz doppelt buchführung trans- parenter generationengerecht',\n",
       "  'sorgsam geld steuerzahler*inn umgehen',\n",
       "  'streichen überflüssig ausgabepost vorrang kreditauf nahme einnahmeerhöhung',\n",
       "  'künftig transparenz herstellen öpp-vertrag veröffentlichen',\n",
       "  'grundsätzlich wol len öpp betracht langfristig sicher mehrwert gering kosten steuerzahler*inn ergeben',\n",
       "  'pri vatisierung öffentlicher unternehmen bereich öffentlich pflichtaufgabe daseinsvorsorge lehnen',\n",
       "  'schuldenbremse reformieren investitionsregel einführen   deutschland verfügen corona-krise tragfähig staatsfinanz',\n",
       "  'zins historisch niedrig vertrauen deutsch staatsanleihe',\n",
       "  'investieren land',\n",
       "  'schuld buch stehen unser wohlstand gefährden',\n",
       "  'konsumtiv ausgabe bleiben derzeitig strik- ten regelung investition neu öffentlich vermögen schaffen erlauben begrenzt kreditaufnahme höhe netto-investition',\n",
       "  'schaffen öffentlich vermögen gehören rendite öffentlich investition bund zins kredit bezahlen',\n",
       "  'steuergerechtigkeit schaffen   steuer grundlage finanzierung unser gemeinwe sen zentral hebel gerechtigkeit',\n",
       "  'möchten gerech- ter transparent bürger*inne',\n",
       "  'verände rung steuerrecht mindestens aufkommensneutral',\n",
       "  'tragen obers- ten prozent einkommen steuer abgabe relativ mittlerer einkommen',\n",
       "  'ändern grundfreibetrag einkommensteuer erhöhen mittlerer einkommen entlasten',\n",
       "  'einkommen euro alleinstehend euro paar stufe steuersatz prozent einführen',\n",
       "  'ein bzw',\n",
       "  'euro folgen stufe spitzensteuersatz prozent',\n",
       "  'kapitalertrag beibehaltung sparerfreibetrag individuell steuer satz veranlagen',\n",
       "  'bank finanzinstitut behalten weiterhin kapitalertragsteuer vorauszahlung persönlich einkommensteuer darstellen',\n",
       "  'kapitel',\n",
       "  'bereit',\n",
       "  'aktienkleinanleger”’inn entlasten spür- bar nähern ideal finanzierungsneutrale steuer systems',\n",
       "  'unterer mittlerer ein entlasten einführung kin dergrundsicherung energiegeld',\n",
       "  'soweit mobi- les arbeit kosten arbeitnehmer innen entstehen arbeitgeber erstatten steuerlich werbungskos ten absetzbar',\n",
       "  'verschieden instrument bei- spiel erbschaftssteuer vermögensteuer',\n",
       "  'land einnahme steuer finanzierung wachsend bildungsaufgabe einsetzen',\n",
       "  'ver- mögensteuer vermögen oberhalb million euro pro person gelten jährlich prozent betragen',\n",
       "  'ungerechtfertigte ausnah- men bereich umsatzsteuer bauen sorgen fairness finanzierung staatlich aufgabe',\n",
       "  'umfassend strategie vorgehen',\n",
       "  'regelmäßig steuerlücke schätzen lassen',\n",
       "  'steuerhinterziehung ahnden hart umgehung grund erwerbssteuer share deal unterbinden',\n",
       "  'cum-ex- cum-cum-geschäfte beenden kümmern nachdruck konsequent einziehung entstanden schaden land',\n",
       "  'fehlen milliarde infrastruktur firma verschaffen unfair wettbewerbsvorteil klein unternehmen',\n",
       "  'kämpfen international verbindlich regelwerk mindeststandard steuerpflicht unternehmen staat setzen stärkung un-steuer-komitee',\n",
       "  'eu führen gemeinsam bemessungsgrundlage unternehmenssteu- ern mindeststeuersatz mittelfristig prozent ausnahme',\n",
       "  'google facebook co',\n",
       "  'kapitel',\n",
       "  'bereit',\n",
       "  'talkonzernsteuer angemessen besteuern',\n",
       "  'übergewinn- steuer sektor prüfen',\n",
       "  'bank steuerbe rater*inne verbieten geschäft steuersumpfe tätigen dorthin vermitteln',\n",
       "  'soweit euro paäisch einigung gelingen voran verstärkt zusammenarbeit gemeinsam einzeln staat',\n",
       "  'national gewinnverschiebunge verschärft zin lizenzschranke quellensteuer',\n",
       "  'gesellschaft existenziell not krisenfest solidarisch gleichberechtigt gesellschaft stark',\n",
       "  'arm schnell krank',\n",
       "  'kapitel',\n",
       "  'bereit',\n",
       "  'fehlen schwimmhalle schließen dreifach schwer',\n",
       "  'einsamkeit groß',\n",
       "  'wohnen sozial frage mensch familie mittelschicht hinein existenz',\n",
       "  'vorzeichen ändern vorsorge leitprinzip klinik gesellschaftlich auftrag entsprechend finanzieren wer- land brauchen zugang geburtshilfe not fallhilfe',\n",
       "  'pflege setzen gut arbeitsbedin gungen personal sicherheit mensch pflege benötigen angehörige freund innen pflegen',\n",
       "  'kind mensch bedürfnis erkennen stärken gelten',\n",
       "  'jugendarbeit spielen hierbei wichtig rolle jugendverband verbands klagerecht kommune stärken',\n",
       "  'kapitel',\n",
       "  'bereit',\n",
       "  'kindergrundsicherung bekommen jeder kind fest garantie-betrag kind fami lien gering einkommen erhalten zusätzlich garantieplus-betrag',\n",
       "  'niedrig familieneinkom men desto hoch garantieplus-betrag',\n",
       "  'kindergrundsicherung garantieren kind schritt schritt beenden kinderarmut',\n",
       "  'bundesinklusionsge setz sicherstellen angebot kind jugendhilfe künftig ausgestalten kind jugendliche behinderung familie richten',\n",
       "  'bestehend rechtsansprüch gelten',\n",
       "  'eingeschlagen weg inklusiv sgb viii zügi- ger voranschreiten',\n",
       "  'wertvoll anregung bundesweit umstrukturierungsprozess gewinnen',\n",
       "  'kostenbeitrag jugendliche vollstationär einrichtung pflegefamilie abschaffen',\n",
       "  'kapitel',\n",
       "  'bereit',\n",
       "  'mobbing netz riegel vorschieben',\n",
       "  'kommerziell sammeln datum privat anbieter wer- kind schützen',\n",
       "  'oberer ziel tat verhindern',\n",
       "  'bundesweit spezialisiert fachbera tungsstelle systematisch ausbauen telefonisch online beratungsangebot finanziell absichern',\n",
       "  'unterstützen eltern familie arbeit arbeitszeitkultur flexibl vollzeitkorridor ausgewogen balance bringen familien hausarbeit partnerschaftlich teilen teilzeit fallen vermeiden',\n",
       "  'kind job aus- bildung studium entscheiden anspruch kinderkrankengeld pro kind eltern steigen alleinerziehend bekommen',\n",
       "  'lebensjahr infekt mitnehmen zusätzlich erhöht anspruch kinderkranken- geld geben',\n",
       "  'kapitel',\n",
       "  'bereit',\n",
       "  'heutig kindergeld hälfte unterhaltsvorschuss anrechnen',\n",
       "  'krankheitsfall wichtig kind haushalt versorgen',\n",
       "  'gehören modern libera- les namensrecht',\n",
       "  'sorgen arbeit fair lohn   mindestlohn anheben   arbeit gerecht bezahlen',\n",
       "  'mensch brauchen arbeitsbedingung',\n",
       "  'unser reich land arbeiten million mensch niedriglohnsektor schlech- ten lohn unsicher beschäftigungsverhältnisse',\n",
       "  'ändern',\n",
       "  'anschließend min- destlohn steigen wirksam armut schützen mindestens entwicklung tariflöhne entsprechen',\n",
       "  'kapitel',\n",
       "  'bereit',\n",
       "  'len gleich lohn gleich arbeit bekom- men stammbeschäftigte plus flexibilitätsprämie',\n",
       "  'fair zahlend unternehmer*in wettbewerbsnachteil erleiden',\n",
       "  'zeit corona zeigen kurzarbeitergeld beschäftigter lohn niedrig',\n",
       "  'brauchen branchenunabhängig mindestkurzarbeitergeld',\n",
       "  'sach lich grund arbeitsvertrag befristen',\n",
       "  'arbeitsschutz stärken wirksam stress burn-out entgrenzung arbeit schützen',\n",
       "  'vollbeschäftigung schaffen   mensch ermöglichen arbeitsleben teilzuha ben arbeitsplatz wichtig quelle einkom- men anerkennung selbstverwirklichung',\n",
       "  'sicher job schaffen',\n",
       "  'beschäftigung erhö- hen verhindern corona langfristig spur arbeitsmarkt hinterlässen',\n",
       "  'deutsch arbeit markt letzter spalten fachkräftemangel deutlich lohnsteigerung hochqualifiziert branche prekär beschäftigung unfreiwillig teilzeit stagnie- rend reallohn',\n",
       "  'sozial gerech- ten arbeitspolitik entgegentreten',\n",
       "  'sorgen lohn trocknen niedriglohnsektor mittelfristig',\n",
       "  'strukturell ursache langzeitarbeitslosigkeit bekämpfen',\n",
       "  'sozialpartnerschaft stärken tarifbindung erhöhen   sozialpartnerschaft tarifvertrag mitbestimmung eckpfeiler sozial marktwirtschaft',\n",
       "  'land stark',\n",
       "  'tarifvertrag stark mit bestimmung anstatt beschäftigter betrieb gelten',\n",
       "  'zudem leicht tarifvertrag allgemeinverbindlich erklären branche gelten',\n",
       "  'tarifflucht unternehmen lohnen',\n",
       "  'betrieb verpflichten veröffentlichen tarifvertragspartei',\n",
       "  'umstrukturierung bisherig tariflich regelung gelten neu tarifvertrag abgeschlos- sen',\n",
       "  'betriebsrat mitarbeiter*inn einsetzen brauchen schutz',\n",
       "  'gleiche gelten beschäftigter erstmals betrieb rat gründen',\n",
       "  'stark finanziell beteiligung mitarbeiter*inn unternehmen zusätzlich lohn gehalt mitgestaltung bewirken',\n",
       "  'selbstbestimmter arbeiten digital chance nutzen   beschäftigter unterstützen arbeit familie privatleben anpassen',\n",
       "  'kapitel',\n",
       "  'bereit',\n",
       "  'bedeuten mitsprache ort lage umfang arbeit',\n",
       "  'echt belastungsprobe haus arbeitszimmer arbeitsschutz kolleg innen fehlen arbeit entgrenzen',\n",
       "  'möglichkeit selbstbestimmung arbeit leben erhalten stärken mobil arbeit einführen blick betrieblich möglich keit strikt schutzkriterie stark einfluss interessenvertretung versehen',\n",
       "  'mobil arbeit homeoffice nah gelegen co-working-space stattfinden wechsel dorthin freiwillig stattfinden rückkehrrecht ausreichend arbeitsplatz unternehmen verbinden',\n",
       "  'freiraum arbeitszeit   büro pflege montage mensch körperlich psychisch druck arbeit wachsen',\n",
       "  'gleichzeitig familie mensch groß wert',\n",
       "  'beschäftigter branche belastung gut arbeitsbedingung unterstützen',\n",
       "  'hinaus sol len möglichkeit arbeitnehmer innen flexibel arbeitszeit bestimmen vereinbarkeit familie beruf erleichtern verbessern',\n",
       "  'arbeitszeit künftig dokumentieren europäisch gerichtshof urteil entscheiden',\n",
       "  'zen gut kontrolle existierend regelung beschäftigter tatsächlich arbeitszeit regelmäßig stun liegen stärken',\n",
       "  'arbeitsversicherung stärken chance   arbeitsmarktpolitik zukunft ausrichten   arbeitslosenversicherung arbeitsversicherung umbauen',\n",
       "  'zugang arbeitsversicherung deutlich erleichtern monat sozialversicherungspflich   tig beschäftigung anspruch arbeitslosengeld einführen',\n",
       "  'selbständig berufstätigkeit sozial absichern',\n",
       "  'kapitel',\n",
       "  'bereit',\n",
       "  'digital vermittlung arbeit bergen chance',\n",
       "  'online getätigt vermit- telt arbeit regulieren arbeitend mensch gleich schutz gewähren analog arbeitender',\n",
       "  'schein selbständigkeit verhindern abgrenzung selbständig tätigkeit abhängig beschäftigung recht planungssicherheit sorgen',\n",
       "  'arbeitnehmerähnlich person solo-selb- ständig künftig leicht tariflich organisieren branchenspezifisch verbindlich honoraruntergrenze vereinbaren allgemeinverbindlich erklären',\n",
       "  'klar mindeststandard arbeit datenschutz geschäftsbe dingung stark beschäftigtendatenschutz digital zugangsrecht gewerkschaft fairplay platt formökonomie insgesamt digital arbeitswelt sorgen',\n",
       "  'faire arbeitsbedingung beschäftigter europäisch nachbarstaat   europäisch nachbarland arbeiten errungenschaft unser vereint europa',\n",
       "  'dard unterkünft entsandt beschäftigter abschaf fung sozialversicherungsfreien kurzfristig beschäftigung gut regulierung vermittlungsagentur kontrolle gestärkt europäisch arbeitsbehörde',\n",
       "  'schaffen gerechtigkeit geschlecht   gleicher lohn gleichwertig arbeit   gleicher lohn gleichwertig arbeit selbstverständ lichkeit entfernt',\n",
       "  'lohncheckverfahre diskriminierung aufdecken',\n",
       "  'setzen berufe frau ausüben hoch wertschätzung erfahren insbesondere form gut arbeitsbedingung gut bezahlung',\n",
       "  'vereinbarkeit familie beruf vereinfachen',\n",
       "  'kapitel',\n",
       "  'bereit',\n",
       "  'stein behindern weg räumen',\n",
       "  'eigenständig absicherung lebensphase sorgen berufswahl rente',\n",
       "  'eng rolle erwartung eingeschränkt berufswahlverhalt gendersensibel berufsberatung erweitern',\n",
       "  'alleinerziehende paar benach teiligen',\n",
       "  'gleichberechtigung steuer   deutsch steuerrecht stecken letzter jahrhundert fest',\n",
       "  'lohnsteuer gebühr belasten zweitverdiener*in entlasten wer- faktorverfahren regel steuerklasse zuverdiener*inn abschaffen',\n",
       "  'stärken kindergrundsicherung familie',\n",
       "  'allein erziehend stark armut betreffen entlas- ten steuergutschrift',\n",
       "  'hartz iv überwin- ersetzen garantiesicherung',\n",
       "  'schützen armut garantieren sanktion soziokulturell existenz minimum',\n",
       "  'kapitel',\n",
       "  'bereit',\n",
       "  'schonvermögen anheben',\n",
       "  'abschaffung bürokratisch entwürdigend sank tion schaffen garantiesicherung raum jobcenter wirklich arbeitsvermittlung begleitung',\n",
       "  'inklusiv arbeitsmarkt schaffen arbeit geber*inn mensch behinderung beschäftigen unterstützen',\n",
       "  'zahlen förderung inklusiv beschäftigung investieren',\n",
       "  'arbeitnehmer*innen-recht sicherstelle fördern wechsel arbeitsmarkt',\n",
       "  'tagesförderstätt prozess einbeziehen',\n",
       "  'budget arbeit aus- bauen mensch nutzen arbeitslosenversicherung absichern',\n",
       "  'länder spezifisch mindestlohn überall eu sorgen mensch arbeit leben',\n",
       "  'europäisch betriebsrat stärken mitbestimmung grenz- überschreitend unternehmen absichern gestärkt informationsrechte verschärft sanktion',\n",
       "  'kapitel',\n",
       "  'bereit',\n",
       "  'rentenniveau sichern frauenerwerbstätigkeit rückkehr vollzeit erhöhen echt ein- wanderungsgesetz schaffen beschäftigungssituation alt arbeitnehmer innen verbessern',\n",
       "  'belastung versicher ten arbeitgeber innen begrenzen bedarf steuerzuschüs erhöhen',\n",
       "  'prekäre beschäftigung über wunden armutsfester lohn fahren auskömmlich rente',\n",
       "  'schritt bürger innenversicherung sorgen selbständige obligatorisch absicherung berufsständisch versorgungswerk abge ordnen verpflichtend gesetzlich rentenversicherung aufge- nommen',\n",
       "  'führen hinaus arbeitgeber*innen finanziert mindestbeitrag bemessungsgrundlage vollzeitbeschäftigt geringverdie nende langjährig beschäftigung alter auskömmlich rente erhalten',\n",
       "  'mensch leicht ent scheiden rente regelein trittsgrenze hinaus',\n",
       "  'bürger*innenfonds rente   kapitalgedeckt altersvorsorge umlagesystem sinnvoll ergänzen',\n",
       "  'mensch beste- hend riestervertrag bestehen falls wünschen bestands- schutz',\n",
       "  'fonds langfristig orientiert eigenkapital wirtschaft bereitstellen',\n",
       "  'bürger*innenfonds zahlen aktiv widersprechen',\n",
       "  'investieren langfristig helfen kurzfrist orientierung markt überwinden',\n",
       "  'bieten potenzial gut rendite',\n",
       "  'unternehmen einfach betrieb- lich altersvorsorge anbieten rein beitragsgarantie unternehmen einführen haftung entlasten gut verbreitung betrieblich altersvorsorge sor gen',\n",
       "  'kapitel',\n",
       "  'bereit',\n",
       "  'gesund gesellschaft brauchen politik vorsorgen ursache krankheit bekämpfen präventionsfor- schung fördern vorausschauend handeln',\n",
       "  'produktion medikament medi zinprodukten europäisch kooperation vorangetreiben versorgung atemschutzmaske produktionsstandort sicherstellen',\n",
       "  'kapitel',\n",
       "  'bereit',\n",
       "  'mensch gan- zen land verlässlich versorgen',\n",
       "  'versorgung stadt land sicherstellen ambulant stationär angebot zukunft übergreifend planen regio nal versorgungsverbünde eng anbindung kommune fördern',\n",
       "  'gleichzeitig interdis- ziplinar zusammenarbeit gesundheitsberuf stärken',\n",
       "  'falsch politisch weichenstellung dar folgend ökonomisch druck fehlanreiz last patient*innenwohl kosteneinsparung last personal führen',\n",
       "  'kapitel',\n",
       "  'bereit',\n",
       "  'zunehmend lücke staatlich investitionsfinanzierung gemeinsam finanzierung bund land schließen',\n",
       "  'organspende retten leben',\n",
       "  'struktur organi- sation qualität organspende klinik trans- plantationsregister verbessern',\n",
       "  'stigmatisierung arbeitsplatz vorbeugen',\n",
       "  'kapitel',\n",
       "  'bereit',\n",
       "  'finanziell fehlanreiz medizinisch notwendig kaiserschnitt geben',\n",
       "  'ziel solidarisch finanziert bür ger*innenversicherung r unabhängig einkommen versorgung bekommen brauchen',\n",
       "  'beamtin selbstän dig unternehmer*in abgeordneter beteiligen ein kommensabhängig beitrag fiktiv mindesteinkommen',\n",
       "  'kapitel',\n",
       "  'bereit',\n",
       "  'beitrag einkommensart erheben bei- spiel lohn gehälter kapitaleinkommen',\n",
       "  'gesetzlich versicherte beitrags- schuld vollwertig rückkehr krankenkasse erleichtern absicherung gering verdienend selbständig krankenversicherung verbessern hoch beitrag finanziell überfordern',\n",
       "  'weitergabe datum erfolgen wille patient*in',\n",
       "  'solidargemeinschaft finanzier- ten digital angebot barrierefrei hoch anspruch datenschutz datensicherheit genügen',\n",
       "  'kapitel',\n",
       "  'bereit',\n",
       "  'hitzewelle',\n",
       "  'wer- sonderfonds umsetzung hitzeaktion plän schaffen',\n",
       "  'bundesprogramm änschubfinanzierung kommune bereitstellen weg',\n",
       "  'garantieren aufzubringend kosten verlässlich planbar',\n",
       "  'pflegeversicherung die- sen betrag hinausgehend kosten bedarfsgerecht ambu- lant stationär pflege tragen',\n",
       "  'solidarisch pflege bürger*innenversicherung sorgen einkommensabhängig beitrag finanzierung pflege risikos beteiligen',\n",
       "  'leiden patientin pflegende',\n",
       "  'arbeitsbedingung verbessern',\n",
       "  'brauchen lohn arbeitsschutz anerkennung kolleg*in',\n",
       "  'kapitel',\n",
       "  'bereit',\n",
       "  'sere vereinbarkeit beruf familie eigenverantwortli che arbeit fachkraft abbau unnötig bürokratie ermöglichung neu arbeitszeitmodell stunden-woche pflege voll lohnausgleich arbeitsbedingung schaffen mensch neu gerne pflege arbeiten',\n",
       "  'potenziell traumatisierend ereignis brauchen stärkung psychosozial unterstützung gesundheitsberuf',\n",
       "  'verantwortungsvoll drogen suchtpolitik   wechsel drogenpolitik gesundheit jugendschutz befähigung eigenverantwortlich umgang risiko mittelpunkt stellen',\n",
       "  'schwarzmarkt existieren jugend verbrau cherschutz',\n",
       "  'droge worben wer',\n",
       "  'derzeitig verbot cannabis verursachen problem lösen',\n",
       "  'kapitel',\n",
       "  'bereit',\n",
       "  'gelten handeln familie studierend mensch behinderung alt mensch geringverdiener*innen bedrängnis geraten sicher wohnen',\n",
       "  'krisenbedingt wohnungsverluste verhindern   mieter*in familie lebensgemeinschaft selbstgenutzt wohneigentum entlasten kri senbedingt verlust wohnung bewahren',\n",
       "  'möglich keit miete kreditrate nachzahlen kündigung zwangsräumung abwenden',\n",
       "  'kostenfrei mieter*innenberatungen   bundestagswahlprogramm',\n",
       "  'kri- senbedingt einkommensausfälle programm kfw bank sicher-wohnen-programm finanziell unterstützung mie ter*inn kreditnehmer innen sicherstellen',\n",
       "  'stattdessen sozialwohnung ver- loren',\n",
       "  'ziel fair bezahlbar miete stark mieter innen',\n",
       "  'kapitel',\n",
       "  'bereit',\n",
       "  'setzen flächensparend wohnen bestehend wohn raum nutzen',\n",
       "  'eigenbedarfskündigung zudem deutlich tatsächlich nutzung eigentümer*innen nah verwandte beschränken missbrauch unterbinden',\n",
       "  'gemein schaft mieter innen stärken gemeinwohlorientie rung wohnungsmarkt umsetzen echt mitbe stimmungsrecht -instrumente entwickeln',\n",
       "  'immobilienspekulation geldwäsche wohnungsmarkt beenden   wohnen sozial grundrecht wohnungsmarkt ort spekulant*inn',\n",
       "  'häufig immobilie geld- wäsche nutzen gelten beenden',\n",
       "  'bargeld immobilienkauf verbieten',\n",
       "  'veräußerungsgewinne pri vat immobiliengeschäft angemessen besteuern',\n",
       "  'grund boden meinwohlorientiern   grund boden unterscheiden güt prin- zipiell vermehrbar gleichzeitig unverzichtbar',\n",
       "  'fonds kaufen fläche strategisch übertragen gemeinwohlorientiert träger',\n",
       "  'einnahme fond fließen haushalt zukauf weit fläche verwenden',\n",
       "  'kapitel',\n",
       "  'bereit',\n",
       "  'schwer erfüllen',\n",
       "  'erwerb wohn eigentum bestand erleichtern',\n",
       "  'kapitel',\n",
       "  'bereit',\n",
       "  'erarbeiten gemeinsam expert*inn bürger innen national strategie einsamkeit',\n",
       "  'corona-krise finanzschwach verschuldet hand- lungsspielraum verkleinern zunehmend',\n",
       "  'wol- len gemeindefinanzen krisenfest aufstellen',\n",
       "  'übernahme kosten unterkunft heizung geduldete',\n",
       "  'bund land kommu- nen gemeinsam kompetenzagentur förderpolitik investition rat seite stehen umsetzung projekt ermöglichen',\n",
       "  'zusätzlich mittel smart-city-projekt unter- stützen aufbau unabhängig digital plattform insbesondere inhabergeführt stationär einzelhandel attraktiv   bundestagswahlprogramm',\n",
       "  'kapitel',\n",
       "  'bereit',\n",
       "  'angebot',\n",
       "  'arbeiten verdrängung leerstand',\n",
       "  'ländlich leben digital arbeiten   leben land dorf bieten',\n",
       "  'verknüpfen bahn ortschaft',\n",
       "  'sorgen fördergeld unbürokratisch ankom- men nötig brauchen',\n",
       "  'anbieter kooperationsvereinbarung treffen funklöcher schließen notfalls lokal roaming angeord net entsprechend vergütung',\n",
       "  'kapitel',\n",
       "  'bereit',\n",
       "  'programm fördern ansprechstellen gemeindezentr altersgerecht wohnen weiterbildung angebot pflege sozial sicherung möglichkeit dorf stadtteil engagieren informieren',\n",
       "  'kapitel',\n",
       "  'bereit',\n",
       "  'egal land stadt armer reicher viertel',\n",
       "  'studienkredit hal ten aufgrund verschuldungsrisikos geeignet unter stützungsmittel',\n",
       "  'leben künftig wissenschaftler*inn künstlerin forscher*in betrieb hochschule außeruniversitär einrichtung permanent leidenschaft idee arbeiten antwort frage stellen',\n",
       "  'kapitel',\n",
       "  'bereit',\n",
       "  'kitas entscheidend anteil',\n",
       "  'fachkraft kind entscheidend kind wohlfühlen indi- viduell fördern',\n",
       "  'mindest standard sicherstellen erzieher*in päda- gogisch fachkraft höchstens dreijährige kind gleichzeitig kümmern',\n",
       "  'kita-platz leben arbeitsrealität eltern gerecht',\n",
       "  'schicht wochenendarbeit angebot geben',\n",
       "  'kapitel',\n",
       "  'bereit',\n",
       "  'derartig kooperation finanziell unterstützen',\n",
       "  'arbeitsbe dingungen entlohnung integrationshelfer innen anspruchs verantwortungsvoll tätigkeit widerspiegeln',\n",
       "  'eltern kind jugendliche behinderung zusätzlich kosten entstehen',\n",
       "  'beteiligung bund kosten widerspiegeln',\n",
       "  'jeder zusätzlich angebot krisenbewältigung qualität kitas horten ganztagsschul langfristig voranbringen',\n",
       "  ...],\n",
       " 'Klima': ['globa- len krise zuallererst klimakrise wahr mensch heitskrise wirken leben hinein gefährden freiheit sicherheit wohlstand',\n",
       "  'kohleausstieg beschleunigen versorgungssicherheit gewährleisten strom wind sonne gewinnen natur schutz stärken',\n",
       "  'klar ziel jahrzehnt auge klimagerecht wohl stehen',\n",
       "  'kapitel i lebensgrundiagen schützen   klimakrise existenzfrage',\n",
       "  'beginn jahrzehnt konsequent handeln sozial-oko- logisch transformation einläuten klimakatastrophe verhindern klimagerecht welt beitragen',\n",
       "  'hitzesommer wald sterben überschwemmung dürre klimakrise spüren bekommen',\n",
       "  'dramatisch konsequenz welt gesundheit mensch gering einkommen insbesondere mensch global süden preis zahlen ökologisch fußabdruck reichsten groß',\n",
       "  'konsequent weg klimaneutralität',\n",
       "  'lenken all kraft maßnahme weg bringen grad- pfad führen',\n",
       "  'kipppunkt überschreiten ermöglichen klimagerechtes bess leben',\n",
       "  'bringen strom wärme verkehr industrie beenden energieverschwendung sorgen effizient verzahnung bereich',\n",
       "  'kohle öl fossil gas energiesystem sonnen windenergie basieren',\n",
       "  'öl erdgas wärmen künftig kraft erneuerbare',\n",
       "  'angebot klima- umweltfreundlich verkehrsmittel rufbussen carsharing erleichtern pendeln befördern leben land',\n",
       "  'veränderung entstehen geschäftsfeld industriezweig arbeitsplatz',\n",
       "  'verlust intakt natur umwelt dramatisch klimakrise groß bedrohung gesund leben',\n",
       "  'entsprechend verändern wirtschaftsweise endlich planet unendlich wachstum geben',\n",
       "  'schutz meer gewässer klima boden tier pflanze bestandteil unser wirtschaft recht systems gelingen stabilität ökosystem lebensgrundlage gewährleisten',\n",
       "  'gesund essen herstellen wahrung tierrecht umweltschutz',\n",
       "  'klimaschutz rein technik voraussetzung gesund leben gesund erde',\n",
       "  'energierevolution erneuerbar heizen wohnen wirtschaften   klimaneutralität raus fossil energie',\n",
       "  'strom benzin unser auto kerosin flugzeug tank schweröl schiff öl heizung gas industriebetrieb erneuerbar energie umstellen wer-',\n",
       "  'hängen zukunft unser industriestandort versorgungssicherheit',\n",
       "  'umfassend steuer abgabenreform sorgen sektorenkoppelung vorankommen strom verlässlich wettbewerbsfähig preis vorhanden',\n",
       "  'energiemarktdesign ändern sodass erneuerbar strom lang ausbremsen',\n",
       "  'stellen sonne wind zentrum ermöglichen industrie gewerbe handel flexibl verbrauch integration erneuerbar beizutra- gen',\n",
       "  'energieeffizienz   welt erneuerbaren energie wertvoll sparsam effizient umgehen',\n",
       "  'gelten umso solange kohle öl fossil gas verbrennen',\n",
       "  'strompreisvergünsti gung unternehmen international wettbewerb stehen umsetzung energieeffizienzmaßnahme knüpfen',\n",
       "  'energie benötigen desto schnell schaf- fen prozent erneuerbare erreichen klimaziel sparen kosten energieinfrastruktur',\n",
       "  'klimaschutz lohnen',\n",
       "  'faire preis sorgen klimagerech tes handeln lohnen',\n",
       "  'arbeitsplatz gut bedingung   ambitioniert klimaschutzpolitik klimaneutral umbau wirtschaft gut chance bestehend arbeitsplatz deutschland land erhalten schaf- fen',\n",
       "  'sozial-ökologisch modernisierung stärken wettbewerbs- fahigkeit hiesig unternehmen renaissance industriearbeitsplatz führen',\n",
       "  'sicher wandel qualifizierungs-kurzarbeitergeld   sehen verpflichtung unternehmen beschäf tign weg klimaneutral wirtschaftssystem unterstützen',\n",
       "  'transformationsfond region   ökologisch modernisierung industriell geprägt region herausforderung',\n",
       "  'gemäß klimaentscheidung bundesverfassung gericht sachverständigenrat umweltfrag ver weisen klimapolitik budgetansatz orientieren',\n",
       "  'weltklimarat beziffern global co,-budget',\n",
       "  'sachverständigenrat verbleibend national kohlenstoffbudget gigatonne co ableiten',\n",
       "  'klimaschutz-sofortprogramm weg bringen sektor sofort wirksam maßnahme anstößen beste- hend ausbauhindernisse beseitigen naheliegend einsparmöglichkei ten umsetzen klima-und entwicklungspartnerschafte sinn global budgetansatz stärken',\n",
       "  'ziel prozent erneuerbar energie erreichen',\n",
       "  'deutschland klimaneutral',\n",
       "  'klimagerecht wirtschaften belohnen   effektiv sozial gerecht klimaschutz okono misch lohnen',\n",
       "  'derzeit kosten schaden ausstoß tonne co entstehen gering einpreisen',\n",
       "  'klimaziel bepreisung co erreichen unweiger- lich erheblich sozial unwuchte führen',\n",
       "  '-preis bereich strom industrie europäisch luftverkehr sorgen erneuerbar energie kohle kerosin einsatz industrie planungssicherheit bekommen anreiz dekarbonisierung technologieführerschaft investieren',\n",
       "  '-preis einge führen lenkungswirkung sozial gerecht verbessern',\n",
       "  '-preises euro vorziehen',\n",
       "  'co,-preis ansteigen konzert fördermaßnahme ordnungsrecht lich vorgabe erreichung klimaziel absichern',\n",
       "  '- preis geben energie geld pro kopf mensch',\n",
       "  'energiegeld einführen   klimaschutz sozial gerecht einnahme national co',\n",
       "  '-preis direkt bürger*inne zurückgeben',\n",
       "  'bezieher*inn transferleistung arbeitslosengeld ii sozialhilfe profitieren ebenfalls energiegeld grundsicherung anrechnen',\n",
       "  'staat geben möglichkeit intelligent steuergesetzgebung ressourcenschonend verhalten belohnen erzeugung co preis versehen',\n",
       "  '- budget sicherstellen möglich einsatz klimafreundlich alternative gewährleisten',\n",
       "  'klimaziel paris   grad-pfad vereinbar',\n",
       "  'setzen kohleausstieg',\n",
       "  'erneut kohlekonzern mil- liarden steuergeld schenken massiv kli maschäde kohleverstromung einpreisen',\n",
       "  '-preis',\n",
       "  'europäisch ebene schnell erreichen setzen national co,-mindestpreis ets industrie strom euro pro tonne co',\n",
       "  'beschleunigt kohleausstieg bedürfen sinn versorgungssicherheit mas- siv ausbaus erneuerbar energie ausrichtung energiemarktdesigns sonne wind',\n",
       "  'bergrecht grundle- gende überarbeiten betroffenenrecht umwelt naturschutz stärken',\n",
       "  'dach fassade bal kons kraftwerk fläche solaranlage helfen klimaschutz',\n",
       "  'flächenkonkurrenze vermeiden stellen mehr- fachnutz energieerzeugung biodiversität landwirtschaft vordergrund',\n",
       "  'stromproduktion landwirtschaftlich bzw',\n",
       "  'landwirtschaftsbetrieb okologi sch leistung geld erhalten zusätzlich ertrag erzielen',\n",
       "  'bundesland hierfür entsprechend beitrag leisten',\n",
       "  'repowering erleichtern sodass alt wind energieanlag gleich standort zügig leistungsstärk ersetzen',\n",
       "  'bau windenergieanlag direkt nähe industrie gewerbe unterstützen strom produzieren brauchen lärm- schutz anwohner*inne leicht gewährleisten',\n",
       "  'kontinent energiewende größe',\n",
       "  'bürger*inne energiewende beteiligen energiewende möglichst profitieren',\n",
       "  'kommune beteiligen verbindlich einnah- men erneuerbaren- anlage sodass ländlich raum gewinn profitieren',\n",
       "  'energieinfrastruktur klimaneutral   klimaneutralität fos- sil infrastruktur einfach fossil infrastruktur ersetzen',\n",
       "  'rechtlich grund liegen schaffen betriebsgenehmigunge zeitlich befristet erteilen wechsel erdgas erneuerbar energieträg enthalten',\n",
       "  'erdgas klimaschädlich brennstoff gebrauch abnehmen',\n",
       "  'erdgas-pipelin nord stream   grün wasserstoff ausrichten zementieren jahrzehnt abhängigkeit klimaschädlich ressource konterkarieren energiewende stoppen',\n",
       "  'wasserstoff speicherbar strom erneuerbar energie herstellen klimafreundlich',\n",
       "  'import wer- fair kooperation wind- sonnenreich land anstoßen ausbauen exportland energiewende unterstützen',\n",
       "  'wasserstoff klimaneutralität beitragen erneuerbar energie herge stellen',\n",
       "  'gelten wasserstoff synthetisch kraftstoff einsatz bringen brauchen wer- industrie schifffahrt flugverkehr',\n",
       "  'markt ökostrom schaffen   einführung erneuerbare-energien-gesetz eeg   startschuss energiewende deutschland inzwischen sonne wind günstig energiequel len',\n",
       "  'erneuerbaren-anteil fast   prozent strombereich brauchen marktdesign rahmenbedingung klimaneutral energiesystem setzen sichern schnell günstig ausbau erneuer bar wirtschaftlich betrieb speicher flexibel erzeu verbraucher ausreichend netzausbau',\n",
       "  'klar erneuerbaren genießen vorrang netz',\n",
       "  'ener- gieeffizienz maßgeblich einzelbefeuerung weg verknüpft system verschieden erneuerbaren-quell abwärme geo solarthermie wärme einspeisen speichern',\n",
       "  'industrie wirtschaft wärmesystem einbinden',\n",
       "  'sogenannter drittelmodell kosten klimafreundlich modernisierung fair vermieter*inn staat mieter innen verteilen sodass bezahlbar vermieter*inn angemessen wirt- schaftlich',\n",
       "  'mawohngeld ermöglichen empfänger*innen wohngeld klimafreundlich wohnung leben',\n",
       "  'co,-bepreisung wärmebereich erreichen lenkungswirkung aufkommen klima-investition tätig hauseige tümer innen',\n",
       "  'atomausstieg vollenden endlagersuche erfolg führen   atomkraft geeignet klimakrise bekämpfen',\n",
       "  'obwohl atom kraft hochrisikotechnologie uran angereicheren brennstab herstellen exportieren',\n",
       "  'erbe atomenergienut zung gehören endlagersuche',\n",
       "  'bekennen verabredet pfad standortsuch hoch sicherheitsstandard größt- möglich transparenz beteiligung bevölkerung',\n",
       "  'sicherheit terroranschlag gewährleisten zwischenlager benötigen',\n",
       "  'investition stark bahn   leistungsfähig verlässlich bahn rückgrat nach- haltig verkehrswende',\n",
       "  'investition langfristig zuverlässig finanzieren schaffen infrastrukturfonds einnahme lkw maut speisen',\n",
       "  'trassenpreis deutlich senken anreiz verkehrsverlagerung schiene verstärken',\n",
       "  'fahrgastzahle öpnv verdoppeln',\n",
       "  'mobilität geldbeu abhängen land kommune verbund unterstützen attraktiv preisangebot ticketlos öpnv finanzierungsquelle umlagefinanzie rung erschließen',\n",
       "  'boomen fahrradindustrie schaffen arbeitsplatz',\n",
       "  'tote schwerverletzter straßenverkehr',\n",
       "  'autoverkehr klimaneutral gestalten   automobilverkehr nächster stark beitrag klimaschutz leisten',\n",
       "  'auto summe sinn leben qualität digital leise leicht klimaneu- tral recycelbar',\n",
       "  'sorgen sauber luft erfüllen klima umweltziel automobilindustrie entwicklungsarbeit investition verlässlich planen',\n",
       "  'legen fokus ausbau geh rad schienenweg gleichberechtigt verteilung fläche umnutzung bestehend infrastruktur intelligent barrierefrei vernetzung umweltfreundlich verkehrsmittel',\n",
       "  'angesichts klimakrise gelten planen',\n",
       "  'pandemie unbegrenzt wachstum luftverkehr ziel klimaneutralität ausrichten',\n",
       "  'zahl mittel langstreckenflügen gelten vermindern öffentlich privatwirt schaftlich geschäftsreise nutzung videokonferenz entfallen',\n",
       "  'kraftstoff erneuerbar schritt schritt ersetzen',\n",
       "  'kombina- tion straße schiene wasser ertüchtig industrie gewerbe an bahnnetz anschließen fläche',\n",
       "  'schifffahrt klima- umweltverträglich   außenhandelsorientiert land deutschland inter- national wettbewerbsfähig maritim wirtschaft entscheidend bedeutung',\n",
       "  'schifffahrt verbindlich emissionsminderungsziel einbeziehung eu-emissionshandel klimaneutral',\n",
       "  'setzen poli tisch rahmenbedingung schifffahrt schnellst- wegkommen schweröl giftig abgase stattdessen landstromanlag emissionsarm terminal alternativ schiffsantrieb klimaneutral treibstoff fair arbeitsbedingung seefahrt beteiligter durch- setzen',\n",
       "  'schützen natur umwelt leben   artensterbe stoppen   biologisch vielfalt sichern leben erde',\n",
       "  'klimaschutz zählen natur schutz',\n",
       "  'naturschutz ausrei chend finanzieren weg prozent geld energie klimafonds klimaschutz naturschutzmaßnahme einsetzen',\n",
       "  'erreichen planung inf- rastrukturvorhab auswirkung klima natur umwelt umfassend prüfen berücksichtigen',\n",
       "  'ver- brauch boden natur landwirtschaft drastisch reduzieren schritt hektar pro   bundestagswahlprogramm',\n",
       "  'unseren wald retten   wald klimakrise hitzewelle dürre sturm stark bedrohen',\n",
       "  'erleben waldsterben weitaus groß schaden anrichten r saur regen entstehen',\n",
       "  'naturnahe artenreich klimasta- bil waldökosystem widerstandsfähig monokultur',\n",
       "  'dürrejahre vergrößern waldbrand gefahr',\n",
       "  'brauchen umfassend biomassestrategie produktion import biomasse energieerzeugung tierfutter zerstörung artenvielfalt führen',\n",
       "  'moorschutz klimaschutz',\n",
       "  'genutzt moorböde ökonomisch perspektive nachhaltig nass landwirtschaft ermöglichen extensiv weidewirtschaft paludikultur stärken',\n",
       "  'gefährlich abbaubar schadstoff wasserkreislauf gelangen',\n",
       "  'vorrang trinkwasserversorgung gewerblich nutzung gelten sicherstellen wiederverwendung abwässer speicherung regenwasser fördern anreiz wassersparen schaffen',\n",
       "  'erdölförderanlag nordsee treten unfall ölhaltig bohrschlamm bohrabfall abfa ckelung gas giftig stoff',\n",
       "  'gehören schnellstmöglich ausstieg klima- umweltschädlich grundschleppnetz fischerei naturschutzgerecht regulierung stellnetze',\n",
       "  'fischereisubvention ökologisch meer nutzung ausrichten',\n",
       "  'regional fischereibetrieb umstellung unterstützen aufbau alternative umweltfreundlich touristisch angebot',\n",
       "  'verpackungsgesetz wertstoffge setz ökologisch vorteilhaft mehrwegprodukte vorrang einräumen müllvermeidung hochwertig recycling fördern',\n",
       "  'stoff kreislauf führen ökonomisch vorteilhaft wegzu- werfen',\n",
       "  'eintrag mikroplastik überall umwelt finden dringend minimieren',\n",
       "  'ziel mensch gesund gesund umwelt leben',\n",
       "  'abgas verkehr kohlekraftwerke alt ölheizung krank',\n",
       "  'e-auto solar windenergie schützen luft',\n",
       "  'ziel zügig erreichen emissionsquelle verkehr industrie landwirtschaft   bundestagswahlprogramm',\n",
       "  'folge hitzesommer überschwemmung sturm längst unser land spürbar treffen härte schwierig umstand leben',\n",
       "  'erhöhen lebensqualität all balkon garten leisten kön nen dachgaärt natürlich klimaanlage wohnung büro park stadtwäld spenden schatten frisch luft',\n",
       "  'stärken bäuer innen tier natur landwirtschaft fit zukunft   klima umwelt tier gewässerschutz landwirt- schaftlich erzeugung miteinander versöhnen',\n",
       "  'natur verständ nis natur kreisläuf orientieren ressour censchutz verpflichten sehen',\n",
       "  'bedeuten fruchtbar kohlenstoffspei- chernd boden sauber wasser intakt ökosystem fair auskommen landwirt innen gesund ernährung',\n",
       "  'digital anwendung entsprechend aus richtung landwirtschaft umwelt klimafreundlich sharing-konzepte klein betrieb offenstehen bezahlbar',\n",
       "  'ausgangs- punkt gesellschaftsvertrag bäuer*innen verbrau cher*inn politik klima naturschutz',\n",
       "  'reform milliarde öffentlich geld künftig öffentlich leistung klima umwelt tierschutz ein setzen regional landwirtschaft stärken',\n",
       "  'nachhaltig umbau landwirtschaft gemeinsam bauer*inn vorantreiben gelten national spielraum bevorstehend förderperiode bestmöglich ziel nut- zen',\n",
       "  'system direktzahlung schrittweise gemeinwohlprämie ablösen konsequent gesellschaftlich leistung honorieren',\n",
       "  'vielfältiges saatgut patent   vielfältig gerecht nachhaltig landwirtschaft beginnen saatgut',\n",
       "  'entspre chend brauchen stärkung risiko nachweisforschung',\n",
       "  'dumpingpreis verkauf lebensmittel erzeu gerpreis konzentration lebensmittelbranche vorgehen möglichkeit wettbewerbs kartellrecht eu-richtlinie unlauter handelspraktik nutzen',\n",
       "  'gehören künftig fläche bundes- bodenverwertung -verwaltungs gmbh pri vatisiern vorzugsweise ortsansässig bäuerlich betrieb existenzgründer*innen verpachten ziel flä chen klima- naturfreundlich bewirtschaften',\n",
       "  'share deal landwirtschaftlich betrieb regulieren aus- verkauf boden außerlandwirtschaftlich investor unter binden',\n",
       "  'gut arbeit gesundheit schutz beschäftigter landwirtschaft fleischindustrie notwendig arbeitnehmer*in tarif- lich lohn stark gewerkschaft',\n",
       "  'öffentlich einrichtung verstärkt regional ökologisch produkt umstellungsware einset- zen schaffen nachfrage fair preis',\n",
       "  'ändern nehmen lebensmittelindustrie pflicht',\n",
       "  'ernährungspolitik pariser klimaschutzziel ausrichten',\n",
       "  'klimaschutz gesellschaft tierisch produkt produzieren konsumie- ren',\n",
       "  'markteinführung pflanzlich alternative fleischersatzprodukt fördern steuerlich besserstellen',\n",
       "  'ermöglichen tier bess leben   tierhaltung platz tier   system billig landwirtschaft teufelskreis treiben bäuer*innen dumping- preis erdrücken produzieren überle- ben tier leistung züchten leben kurz ökologisch gesellschaftlich problem wachsen',\n",
       "  'industrielle massentierhaltung billigfleischexport welt klimagerecht zukunft vereinbar',\n",
       "  'tierhaltung fläche obergrenze pro stall binden umwelt tiergerecht bewirtschaftung gewährleisten',\n",
       "  'tierquaäleri sch züchtung hochleistung robust rasse zwei nutzungsrass fördern',\n",
       "  'haltung tier wildtiernachzucht positivliste sachkundenachweis knüpfen schwie rigkeit haltung jeweilig tierart bemissen',\n",
       "  'kapitel   zukunft wirtschaften   klimaneutralität chance industriestandort deutschland',\n",
       "  'erneuerbar wasserstoff europder*innen führend',\n",
       "  'teil deutsch industrie pariser klimaabkommen fest bestandteil planung unter nehmerisch investitionsstrategien klimaschutz ausgerich tet',\n",
       "  'klimakrise endlichkeit ressource verlangen umsteuern',\n",
       "  'gelingen stellen weiche konsequent klimaneutralität kreis laufwirtschaft ermöglichen wirtschaft spielraum innerhalb planetar grenze',\n",
       "  'nutzen konzept wachstum effizienz wettbewerb inno- vation zweck bemessen klimagerecht wohl stehen eigentlich ziel politik neu',\n",
       "  'europder*inn investieren gemeinsam klimaschutz forschung wohlstand zukunft weg bereit green new deal',\n",
       "  'aktiv wirtschaft industriepolitik zeigen richtung bieten zukunftsfähig unternehmen bedingung',\n",
       "  'fördern kooperativ fürsorgend wirtschaftsweise',\n",
       "  'fördern unternehmer innengeisen wettbewerb idee   jahrzehnt zukunftsinvestition   corona-pandemie brauchen land wirt- schaftlich aufbruch',\n",
       "  'deutschland öffentlich investition vergleich industrieland nachzügler spitzenreiter jahrzehnt pro milliarde euro zusätzlich investieren',\n",
       "  'klimaschutztechnologium made germany   global wettbewerb technologie vol- lem gang',\n",
       "  'fairer wettbewerb klimaneutral industrietechnologie   energieintensiv industrie stahl zement chemie stehen prozent deutsch co',\n",
       "  'bekämpfen kli makrise tragen sicherung deutsch industriestandort',\n",
       "  'klimavertrag carbon contract for difference differenz aktuell co,-preis tatsächlich co',\n",
       "  'sofern ziel industrieanlage emissionsfrei betreib- bar bauen bzw',\n",
       "  'transformation che mieindustrie setzen innovativ produkt prozeß verfahren treibhausgasneutralität kreislauf wirtschaft fördern effizienz steigern emission abfall vornherein vermeiden unabhängig fossil rohstoff erdöl erdgas',\n",
       "  'zukunftsfähig automobilindustrie   automobilindustrie stehen gewaltig umbruch',\n",
       "  'brauchen entschlos senheit zusammenarbeit zukunftsfähig arbeitsplatz klimagerecht wertschöpfung autoindustrie schaffen',\n",
       "  'klar verbrennungsmotor zukunft',\n",
       "  'zudem autoindustrie standard kreislaufwirtschaft klimaneutral produktion dekarbonisierung stahlbereich setzen sodass ökologisch fußabdruck fahrzeug',\n",
       "  'eu- kapazität bereich halbleitertechnologie eu kommission vorschlagen prozent weltweit produktion ausbauen',\n",
       "  'erneuerbar energie made europe schlüsselbranche klimaschutz   klimaneutral brauchen einer erneuerbar energie',\n",
       "  'deutsch solarindustrie impulsgeberin',\n",
       "  'kreislaufwirtschaft standard reparatur recyclingindustrie voranbringen   müll designfehler verschwendung wichtig ressour- cen rohstoff abhängig',\n",
       "  'ergebnis spätestens   müll schluss geplant verschleiß grün job ort europäisch reparatur recyclingin dustrie abhängigkeit endlich ressource rohstoff- importen verringern',\n",
       "  'weg dorthin weisen verbindlich herstellerverpflichtung ambitioniert recyclingquot steuer abgaberegelung norm standard gezielt för derprogramm',\n",
       "  'markt digital produktpass ausstatten unternehmen verbraucher*inne wichtig infor mation design co,-fußabdruck reparierbarkeit materia lien bereitstellen klimaneutral kreislaufwirtschaft nötig',\n",
       "  'impfstofferfolg mut völlig technologie ermöglichen rekordzeit ent- wicklung produktion mehrere corona-impfstoff',\n",
       "  'hinaus streben einführung gewerbemiet preisbremse stadt angespannt gewerberaummarkt begrenzung gewerbemiete erlauben',\n",
       "  'wettbewerb umweltschutz sozi- al standard kollateralschaden',\n",
       "  'kultur schaffen wohlstand   kultur kreativwirtschaft meister unter schätzt branche deutschland',\n",
       "  'tourismuswirtschaft nachhaltig bein helfen   reise tourismuswirtschaft zentral wirtschaftsfak tor millionenfach arbeitgeberin corona-krise schwer treffen',\n",
       "  'bein helfen nach-corona-tourismus klimaschonend ökologisch sozial nachhaltig gestalten',\n",
       "  'gegenteil kreuzschifffahrt bei- trag leisten antrieb verwendung landstrom gut umweltstandard',\n",
       "  'tourismus mithelfen welt erhalten zukunft bereisen lohnen',\n",
       "  'errei- chen einheitlich regelung messung nach- haltig unternehmerisch erfolg leisten wichtig bei- trag wettbewerb nachhaltigkeit eher bestrafen positiv angereizt',\n",
       "  'handelspolitik umwelt sozialkapitel zukünftig handelsverträg rechts- verbindlich sanktionierbar',\n",
       "  'plattform verpflichten euro- paisch qualität sicherheitsstandard online-handel gewährleisten',\n",
       "  'global lenkungswirkung binnenmarkt steigern sicherstellen unternehmen europäisch markt international verantwortung produktion vertriebsweise entlang gesamt wertschöp fungskette übernehmen',\n",
       "  'freiwillige verpflichtend maßnahme unternehmen notwendig diskriminierungsfrei arbeitsplatz gleichberechtig- ten zugang gestaltungsposition digital transformation ermöglichen',\n",
       "  'plattformanbieter automatisiert entscheidung ver- gleich preis transparent erklären',\n",
       "  'chance us-adminis- tration handelskonflikt beilegen transatlantisch markt klimaneutral produkt schaffen ergreifen',\n",
       "  'zählen pariser klimaschutzabkommen ilo-kernarbeitsnorm bedingung einklagbar',\n",
       "  'lehnen handelsabkommen klima umwelt verbrau cher*innen ausreichend schützen',\n",
       "  'eu-kommission setzen grenzaus co,-kost ambitioniert klimaschutz wettbewerbsnachteil',\n",
       "  'aufbau heimisch industrie fördern',\n",
       "  'unternehmen künftig umwelt sozialstandard menschenrecht klima artenschutz entlang gesamt internationa- len wertschöpfungskette durchsetzen brauchen verbindlich wirksam lieferkettengesetz national europäisch ebene',\n",
       "  'weltweit wald insbesondere wichtig trope ur mangrovenwald fortschreitend geschwindig keit abholzen abgebrannt agrarindustriell produktion anbau soja palmöl bergbau holzeinschlag',\n",
       "  'klima- umweltrisik offenlegen ban- ken versicherung eigenkapital unterlegen rating berücksichtigen',\n",
       "  'klimaziel umweltwirkung menschenrecht arbeitsnorma entwick lungsziele berücksichtigen',\n",
       "  'undurchsichtiger regulierungsflut einfach hart regel',\n",
       "  'schuldenbremse lever- age ratio bank verbindlich schrittweise',\n",
       "  'klimakrise massiv rückwirkung volkswirtschaft sinnvoll geldpolitisch maßnahme einfluss klimakrise geldwert finanzstabilität berück-   bundestagswahlprogramm',\n",
       "  'nachhaltiger umweltschäd lich subvention beenden',\n",
       "  'subvention schritt weise abbauen bundeshaushalt klimagerecht',\n",
       "  'schritt milliarde euro jährlich einnehmen finanzierung klimaschutz sozial gerechtigkeit einsetzen',\n",
       "  'ausgabe bund streben klima biodiversitätsquote schrittweise steigen',\n",
       "  'globa- len krise zuallererst klimakrise wahr mensch heitskrise wirken leben hinein gefährden freiheit sicherheit wohlstand',\n",
       "  'kohleausstieg beschleunigen versorgungssicherheit gewährleisten strom wind sonne gewinnen natur schutz stärken',\n",
       "  'klar ziel jahrzehnt auge klimagerecht wohl stehen',\n",
       "  'kapitel i lebensgrundiagen schützen   klimakrise existenzfrage',\n",
       "  'beginn jahrzehnt konsequent handeln sozial-oko- logisch transformation einläuten klimakatastrophe verhindern klimagerecht welt beitragen',\n",
       "  'hitzesommer wald sterben überschwemmung dürre klimakrise spüren bekommen',\n",
       "  'dramatisch konsequenz welt gesundheit mensch gering einkommen insbesondere mensch global süden preis zahlen ökologisch fußabdruck reichsten groß',\n",
       "  'konsequent weg klimaneutralität',\n",
       "  'lenken all kraft maßnahme weg bringen grad- pfad führen',\n",
       "  'kipppunkt überschreiten ermöglichen klimagerechtes bess leben',\n",
       "  'bringen strom wärme verkehr industrie beenden energieverschwendung sorgen effizient verzahnung bereich',\n",
       "  'kohle öl fossil gas energiesystem sonnen windenergie basieren',\n",
       "  'öl erdgas wärmen künftig kraft erneuerbare',\n",
       "  'angebot klima- umweltfreundlich verkehrsmittel rufbussen carsharing erleichtern pendeln befördern leben land',\n",
       "  'veränderung entstehen geschäftsfeld industriezweig arbeitsplatz',\n",
       "  'verlust intakt natur umwelt dramatisch klimakrise groß bedrohung gesund leben',\n",
       "  'entsprechend verändern wirtschaftsweise endlich planet unendlich wachstum geben',\n",
       "  'schutz meer gewässer klima boden tier pflanze bestandteil unser wirtschaft recht systems gelingen stabilität ökosystem lebensgrundlage gewährleisten',\n",
       "  'gesund essen herstellen wahrung tierrecht umweltschutz',\n",
       "  'klimaschutz rein technik voraussetzung gesund leben gesund erde',\n",
       "  'energierevolution erneuerbar heizen wohnen wirtschaften   klimaneutralität raus fossil energie',\n",
       "  'strom benzin unser auto kerosin flugzeug tank schweröl schiff öl heizung gas industriebetrieb erneuerbar energie umstellen wer-',\n",
       "  'hängen zukunft unser industriestandort versorgungssicherheit',\n",
       "  'umfassend steuer abgabenreform sorgen sektorenkoppelung vorankommen strom verlässlich wettbewerbsfähig preis vorhanden',\n",
       "  'energiemarktdesign ändern sodass erneuerbar strom lang ausbremsen',\n",
       "  'stellen sonne wind zentrum ermöglichen industrie gewerbe handel flexibl verbrauch integration erneuerbar beizutra- gen',\n",
       "  'energieeffizienz   welt erneuerbaren energie wertvoll sparsam effizient umgehen',\n",
       "  'gelten umso solange kohle öl fossil gas verbrennen',\n",
       "  'strompreisvergünsti gung unternehmen international wettbewerb stehen umsetzung energieeffizienzmaßnahme knüpfen',\n",
       "  'energie benötigen desto schnell schaf- fen prozent erneuerbare erreichen klimaziel sparen kosten energieinfrastruktur',\n",
       "  'klimaschutz lohnen',\n",
       "  'faire preis sorgen klimagerech tes handeln lohnen',\n",
       "  'arbeitsplatz gut bedingung   ambitioniert klimaschutzpolitik klimaneutral umbau wirtschaft gut chance bestehend arbeitsplatz deutschland land erhalten schaf- fen',\n",
       "  'sozial-ökologisch modernisierung stärken wettbewerbs- fahigkeit hiesig unternehmen renaissance industriearbeitsplatz führen',\n",
       "  'sicher wandel qualifizierungs-kurzarbeitergeld   sehen verpflichtung unternehmen beschäf tign weg klimaneutral wirtschaftssystem unterstützen',\n",
       "  'transformationsfond region   ökologisch modernisierung industriell geprägt region herausforderung',\n",
       "  'gemäß klimaentscheidung bundesverfassung gericht sachverständigenrat umweltfrag ver weisen klimapolitik budgetansatz orientieren',\n",
       "  'weltklimarat beziffern global co,-budget',\n",
       "  'sachverständigenrat verbleibend national kohlenstoffbudget gigatonne co ableiten',\n",
       "  'klimaschutz-sofortprogramm weg bringen sektor sofort wirksam maßnahme anstößen beste- hend ausbauhindernisse beseitigen naheliegend einsparmöglichkei ten umsetzen klima-und entwicklungspartnerschafte sinn global budgetansatz stärken',\n",
       "  'ziel prozent erneuerbar energie erreichen',\n",
       "  'deutschland klimaneutral',\n",
       "  'klimagerecht wirtschaften belohnen   effektiv sozial gerecht klimaschutz okono misch lohnen',\n",
       "  'derzeit kosten schaden ausstoß tonne co entstehen gering einpreisen',\n",
       "  'klimaziel bepreisung co erreichen unweiger- lich erheblich sozial unwuchte führen',\n",
       "  '-preis bereich strom industrie europäisch luftverkehr sorgen erneuerbar energie kohle kerosin einsatz industrie planungssicherheit bekommen anreiz dekarbonisierung technologieführerschaft investieren',\n",
       "  '-preis einge führen lenkungswirkung sozial gerecht verbessern',\n",
       "  '-preises euro vorziehen',\n",
       "  'co,-preis ansteigen konzert fördermaßnahme ordnungsrecht lich vorgabe erreichung klimaziel absichern',\n",
       "  '- preis geben energie geld pro kopf mensch',\n",
       "  'energiegeld einführen   klimaschutz sozial gerecht einnahme national co',\n",
       "  '-preis direkt bürger*inne zurückgeben',\n",
       "  'bezieher*inn transferleistung arbeitslosengeld ii sozialhilfe profitieren ebenfalls energiegeld grundsicherung anrechnen',\n",
       "  'staat geben möglichkeit intelligent steuergesetzgebung ressourcenschonend verhalten belohnen erzeugung co preis versehen',\n",
       "  '- budget sicherstellen möglich einsatz klimafreundlich alternative gewährleisten',\n",
       "  'klimaziel paris   grad-pfad vereinbar',\n",
       "  'setzen kohleausstieg',\n",
       "  'erneut kohlekonzern mil- liarden steuergeld schenken massiv kli maschäde kohleverstromung einpreisen',\n",
       "  '-preis',\n",
       "  'europäisch ebene schnell erreichen setzen national co,-mindestpreis ets industrie strom euro pro tonne co',\n",
       "  'beschleunigt kohleausstieg bedürfen sinn versorgungssicherheit mas- siv ausbaus erneuerbar energie ausrichtung energiemarktdesigns sonne wind',\n",
       "  'bergrecht grundle- gende überarbeiten betroffenenrecht umwelt naturschutz stärken',\n",
       "  'dach fassade bal kons kraftwerk fläche solaranlage helfen klimaschutz',\n",
       "  'flächenkonkurrenze vermeiden stellen mehr- fachnutz energieerzeugung biodiversität landwirtschaft vordergrund',\n",
       "  'stromproduktion landwirtschaftlich bzw',\n",
       "  'landwirtschaftsbetrieb okologi sch leistung geld erhalten zusätzlich ertrag erzielen',\n",
       "  'bundesland hierfür entsprechend beitrag leisten',\n",
       "  'repowering erleichtern sodass alt wind energieanlag gleich standort zügig leistungsstärk ersetzen',\n",
       "  'bau windenergieanlag direkt nähe industrie gewerbe unterstützen strom produzieren brauchen lärm- schutz anwohner*inne leicht gewährleisten',\n",
       "  'kontinent energiewende größe',\n",
       "  'bürger*inne energiewende beteiligen energiewende möglichst profitieren',\n",
       "  'kommune beteiligen verbindlich einnah- men erneuerbaren- anlage sodass ländlich raum gewinn profitieren',\n",
       "  'energieinfrastruktur klimaneutral   klimaneutralität fos- sil infrastruktur einfach fossil infrastruktur ersetzen',\n",
       "  'rechtlich grund liegen schaffen betriebsgenehmigunge zeitlich befristet erteilen wechsel erdgas erneuerbar energieträg enthalten',\n",
       "  'erdgas klimaschädlich brennstoff gebrauch abnehmen',\n",
       "  'erdgas-pipelin nord stream   grün wasserstoff ausrichten zementieren jahrzehnt abhängigkeit klimaschädlich ressource konterkarieren energiewende stoppen',\n",
       "  'wasserstoff speicherbar strom erneuerbar energie herstellen klimafreundlich',\n",
       "  'import wer- fair kooperation wind- sonnenreich land anstoßen ausbauen exportland energiewende unterstützen',\n",
       "  'wasserstoff klimaneutralität beitragen erneuerbar energie herge stellen',\n",
       "  'gelten wasserstoff synthetisch kraftstoff einsatz bringen brauchen wer- industrie schifffahrt flugverkehr',\n",
       "  'markt ökostrom schaffen   einführung erneuerbare-energien-gesetz eeg   startschuss energiewende deutschland inzwischen sonne wind günstig energiequel len',\n",
       "  'erneuerbaren-anteil fast   prozent strombereich brauchen marktdesign rahmenbedingung klimaneutral energiesystem setzen sichern schnell günstig ausbau erneuer bar wirtschaftlich betrieb speicher flexibel erzeu verbraucher ausreichend netzausbau',\n",
       "  'klar erneuerbaren genießen vorrang netz',\n",
       "  'ener- gieeffizienz maßgeblich einzelbefeuerung weg verknüpft system verschieden erneuerbaren-quell abwärme geo solarthermie wärme einspeisen speichern',\n",
       "  'industrie wirtschaft wärmesystem einbinden',\n",
       "  'sogenannter drittelmodell kosten klimafreundlich modernisierung fair vermieter*inn staat mieter innen verteilen sodass bezahlbar vermieter*inn angemessen wirt- schaftlich',\n",
       "  'mawohngeld ermöglichen empfänger*innen wohngeld klimafreundlich wohnung leben',\n",
       "  'co,-bepreisung wärmebereich erreichen lenkungswirkung aufkommen klima-investition tätig hauseige tümer innen',\n",
       "  'atomausstieg vollenden endlagersuche erfolg führen   atomkraft geeignet klimakrise bekämpfen',\n",
       "  'obwohl atom kraft hochrisikotechnologie uran angereicheren brennstab herstellen exportieren',\n",
       "  'erbe atomenergienut zung gehören endlagersuche',\n",
       "  'bekennen verabredet pfad standortsuch hoch sicherheitsstandard größt- möglich transparenz beteiligung bevölkerung',\n",
       "  'sicherheit terroranschlag gewährleisten zwischenlager benötigen',\n",
       "  'investition stark bahn   leistungsfähig verlässlich bahn rückgrat nach- haltig verkehrswende',\n",
       "  'investition langfristig zuverlässig finanzieren schaffen infrastrukturfonds einnahme lkw maut speisen',\n",
       "  'trassenpreis deutlich senken anreiz verkehrsverlagerung schiene verstärken',\n",
       "  'fahrgastzahle öpnv verdoppeln',\n",
       "  'mobilität geldbeu abhängen land kommune verbund unterstützen attraktiv preisangebot ticketlos öpnv finanzierungsquelle umlagefinanzie rung erschließen',\n",
       "  'boomen fahrradindustrie schaffen arbeitsplatz',\n",
       "  'tote schwerverletzter straßenverkehr',\n",
       "  'autoverkehr klimaneutral gestalten   automobilverkehr nächster stark beitrag klimaschutz leisten',\n",
       "  'auto summe sinn leben qualität digital leise leicht klimaneu- tral recycelbar',\n",
       "  'sorgen sauber luft erfüllen klima umweltziel automobilindustrie entwicklungsarbeit investition verlässlich planen',\n",
       "  'legen fokus ausbau geh rad schienenweg gleichberechtigt verteilung fläche umnutzung bestehend infrastruktur intelligent barrierefrei vernetzung umweltfreundlich verkehrsmittel',\n",
       "  'angesichts klimakrise gelten planen',\n",
       "  'pandemie unbegrenzt wachstum luftverkehr ziel klimaneutralität ausrichten',\n",
       "  'zahl mittel langstreckenflügen gelten vermindern öffentlich privatwirt schaftlich geschäftsreise nutzung videokonferenz entfallen',\n",
       "  'kraftstoff erneuerbar schritt schritt ersetzen',\n",
       "  'kombina- tion straße schiene wasser ertüchtig industrie gewerbe an bahnnetz anschließen fläche',\n",
       "  'schifffahrt klima- umweltverträglich   außenhandelsorientiert land deutschland inter- national wettbewerbsfähig maritim wirtschaft entscheidend bedeutung',\n",
       "  'schifffahrt verbindlich emissionsminderungsziel einbeziehung eu-emissionshandel klimaneutral',\n",
       "  'setzen poli tisch rahmenbedingung schifffahrt schnellst- wegkommen schweröl giftig abgase stattdessen landstromanlag emissionsarm terminal alternativ schiffsantrieb klimaneutral treibstoff fair arbeitsbedingung seefahrt beteiligter durch- setzen',\n",
       "  'schützen natur umwelt leben   artensterbe stoppen   biologisch vielfalt sichern leben erde',\n",
       "  'klimaschutz zählen natur schutz',\n",
       "  'naturschutz ausrei chend finanzieren weg prozent geld energie klimafonds klimaschutz naturschutzmaßnahme einsetzen',\n",
       "  'erreichen planung inf- rastrukturvorhab auswirkung klima natur umwelt umfassend prüfen berücksichtigen',\n",
       "  'ver- brauch boden natur landwirtschaft drastisch reduzieren schritt hektar pro   bundestagswahlprogramm',\n",
       "  'unseren wald retten   wald klimakrise hitzewelle dürre sturm stark bedrohen',\n",
       "  'erleben waldsterben weitaus groß schaden anrichten r saur regen entstehen',\n",
       "  'naturnahe artenreich klimasta- bil waldökosystem widerstandsfähig monokultur',\n",
       "  'dürrejahre vergrößern waldbrand gefahr',\n",
       "  'brauchen umfassend biomassestrategie produktion import biomasse energieerzeugung tierfutter zerstörung artenvielfalt führen',\n",
       "  'moorschutz klimaschutz',\n",
       "  'genutzt moorböde ökonomisch perspektive nachhaltig nass landwirtschaft ermöglichen extensiv weidewirtschaft paludikultur stärken',\n",
       "  'gefährlich abbaubar schadstoff wasserkreislauf gelangen',\n",
       "  'vorrang trinkwasserversorgung gewerblich nutzung gelten sicherstellen wiederverwendung abwässer speicherung regenwasser fördern anreiz wassersparen schaffen',\n",
       "  'erdölförderanlag nordsee treten unfall ölhaltig bohrschlamm bohrabfall abfa ckelung gas giftig stoff',\n",
       "  'gehören schnellstmöglich ausstieg klima- umweltschädlich grundschleppnetz fischerei naturschutzgerecht regulierung stellnetze',\n",
       "  'fischereisubvention ökologisch meer nutzung ausrichten',\n",
       "  'regional fischereibetrieb umstellung unterstützen aufbau alternative umweltfreundlich touristisch angebot',\n",
       "  'verpackungsgesetz wertstoffge setz ökologisch vorteilhaft mehrwegprodukte vorrang einräumen müllvermeidung hochwertig recycling fördern',\n",
       "  'stoff kreislauf führen ökonomisch vorteilhaft wegzu- werfen',\n",
       "  'eintrag mikroplastik überall umwelt finden dringend minimieren',\n",
       "  'ziel mensch gesund gesund umwelt leben',\n",
       "  'abgas verkehr kohlekraftwerke alt ölheizung krank',\n",
       "  'e-auto solar windenergie schützen luft',\n",
       "  'ziel zügig erreichen emissionsquelle verkehr industrie landwirtschaft   bundestagswahlprogramm',\n",
       "  'folge hitzesommer überschwemmung sturm längst unser land spürbar treffen härte schwierig umstand leben',\n",
       "  'erhöhen lebensqualität all balkon garten leisten kön nen dachgaärt natürlich klimaanlage wohnung büro park stadtwäld spenden schatten frisch luft',\n",
       "  'stärken bäuer innen tier natur landwirtschaft fit zukunft   klima umwelt tier gewässerschutz landwirt- schaftlich erzeugung miteinander versöhnen',\n",
       "  'natur verständ nis natur kreisläuf orientieren ressour censchutz verpflichten sehen',\n",
       "  'bedeuten fruchtbar kohlenstoffspei- chernd boden sauber wasser intakt ökosystem fair auskommen landwirt innen gesund ernährung',\n",
       "  'digital anwendung entsprechend aus richtung landwirtschaft umwelt klimafreundlich sharing-konzepte klein betrieb offenstehen bezahlbar',\n",
       "  'ausgangs- punkt gesellschaftsvertrag bäuer*innen verbrau cher*inn politik klima naturschutz',\n",
       "  'reform milliarde öffentlich geld künftig öffentlich leistung klima umwelt tierschutz ein setzen regional landwirtschaft stärken',\n",
       "  'nachhaltig umbau landwirtschaft gemeinsam bauer*inn vorantreiben gelten national spielraum bevorstehend förderperiode bestmöglich ziel nut- zen',\n",
       "  'system direktzahlung schrittweise gemeinwohlprämie ablösen konsequent gesellschaftlich leistung honorieren',\n",
       "  'vielfältiges saatgut patent   vielfältig gerecht nachhaltig landwirtschaft beginnen saatgut',\n",
       "  'entspre chend brauchen stärkung risiko nachweisforschung',\n",
       "  'dumpingpreis verkauf lebensmittel erzeu gerpreis konzentration lebensmittelbranche vorgehen möglichkeit wettbewerbs kartellrecht eu-richtlinie unlauter handelspraktik nutzen',\n",
       "  'gehören künftig fläche bundes- bodenverwertung -verwaltungs gmbh pri vatisiern vorzugsweise ortsansässig bäuerlich betrieb existenzgründer*innen verpachten ziel flä chen klima- naturfreundlich bewirtschaften',\n",
       "  'share deal landwirtschaftlich betrieb regulieren aus- verkauf boden außerlandwirtschaftlich investor unter binden',\n",
       "  'gut arbeit gesundheit schutz beschäftigter landwirtschaft fleischindustrie notwendig arbeitnehmer*in tarif- lich lohn stark gewerkschaft',\n",
       "  'öffentlich einrichtung verstärkt regional ökologisch produkt umstellungsware einset- zen schaffen nachfrage fair preis',\n",
       "  'ändern nehmen lebensmittelindustrie pflicht',\n",
       "  'ernährungspolitik pariser klimaschutzziel ausrichten',\n",
       "  'klimaschutz gesellschaft tierisch produkt produzieren konsumie- ren',\n",
       "  'markteinführung pflanzlich alternative fleischersatzprodukt fördern steuerlich besserstellen',\n",
       "  'ermöglichen tier bess leben   tierhaltung platz tier   system billig landwirtschaft teufelskreis treiben bäuer*innen dumping- preis erdrücken produzieren überle- ben tier leistung züchten leben kurz ökologisch gesellschaftlich problem wachsen',\n",
       "  'industrielle massentierhaltung billigfleischexport welt klimagerecht zukunft vereinbar',\n",
       "  'tierhaltung fläche obergrenze pro stall binden umwelt tiergerecht bewirtschaftung gewährleisten',\n",
       "  'tierquaäleri sch züchtung hochleistung robust rasse zwei nutzungsrass fördern',\n",
       "  'haltung tier wildtiernachzucht positivliste sachkundenachweis knüpfen schwie rigkeit haltung jeweilig tierart bemissen',\n",
       "  'kapitel   zukunft wirtschaften   klimaneutralität chance industriestandort deutschland',\n",
       "  'erneuerbar wasserstoff europder*innen führend',\n",
       "  'teil deutsch industrie pariser klimaabkommen fest bestandteil planung unter nehmerisch investitionsstrategien klimaschutz ausgerich tet',\n",
       "  'klimakrise endlichkeit ressource verlangen umsteuern',\n",
       "  'gelingen stellen weiche konsequent klimaneutralität kreis laufwirtschaft ermöglichen wirtschaft spielraum innerhalb planetar grenze',\n",
       "  'nutzen konzept wachstum effizienz wettbewerb inno- vation zweck bemessen klimagerecht wohl stehen eigentlich ziel politik neu',\n",
       "  'europder*inn investieren gemeinsam klimaschutz forschung wohlstand zukunft weg bereit green new deal',\n",
       "  'aktiv wirtschaft industriepolitik zeigen richtung bieten zukunftsfähig unternehmen bedingung',\n",
       "  'fördern kooperativ fürsorgend wirtschaftsweise',\n",
       "  'fördern unternehmer innengeisen wettbewerb idee   jahrzehnt zukunftsinvestition   corona-pandemie brauchen land wirt- schaftlich aufbruch',\n",
       "  'deutschland öffentlich investition vergleich industrieland nachzügler spitzenreiter jahrzehnt pro milliarde euro zusätzlich investieren',\n",
       "  'klimaschutztechnologium made germany   global wettbewerb technologie vol- lem gang',\n",
       "  'fairer wettbewerb klimaneutral industrietechnologie   energieintensiv industrie stahl zement chemie stehen prozent deutsch co',\n",
       "  'bekämpfen kli makrise tragen sicherung deutsch industriestandort',\n",
       "  'klimavertrag carbon contract for difference differenz aktuell co,-preis tatsächlich co',\n",
       "  'sofern ziel industrieanlage emissionsfrei betreib- bar bauen bzw',\n",
       "  'transformation che mieindustrie setzen innovativ produkt prozeß verfahren treibhausgasneutralität kreislauf wirtschaft fördern effizienz steigern emission abfall vornherein vermeiden unabhängig fossil rohstoff erdöl erdgas',\n",
       "  'zukunftsfähig automobilindustrie   automobilindustrie stehen gewaltig umbruch',\n",
       "  'brauchen entschlos senheit zusammenarbeit zukunftsfähig arbeitsplatz klimagerecht wertschöpfung autoindustrie schaffen',\n",
       "  'klar verbrennungsmotor zukunft',\n",
       "  'zudem autoindustrie standard kreislaufwirtschaft klimaneutral produktion dekarbonisierung stahlbereich setzen sodass ökologisch fußabdruck fahrzeug',\n",
       "  'eu- kapazität bereich halbleitertechnologie eu kommission vorschlagen prozent weltweit produktion ausbauen',\n",
       "  'erneuerbar energie made europe schlüsselbranche klimaschutz   klimaneutral brauchen einer erneuerbar energie',\n",
       "  'deutsch solarindustrie impulsgeberin',\n",
       "  'kreislaufwirtschaft standard reparatur recyclingindustrie voranbringen   müll designfehler verschwendung wichtig ressour- cen rohstoff abhängig',\n",
       "  'ergebnis spätestens   müll schluss geplant verschleiß grün job ort europäisch reparatur recyclingin dustrie abhängigkeit endlich ressource rohstoff- importen verringern',\n",
       "  'weg dorthin weisen verbindlich herstellerverpflichtung ambitioniert recyclingquot steuer abgaberegelung norm standard gezielt för derprogramm',\n",
       "  'markt digital produktpass ausstatten unternehmen verbraucher*inne wichtig infor mation design co,-fußabdruck reparierbarkeit materia lien bereitstellen klimaneutral kreislaufwirtschaft nötig',\n",
       "  'impfstofferfolg mut völlig technologie ermöglichen rekordzeit ent- wicklung produktion mehrere corona-impfstoff',\n",
       "  'hinaus streben einführung gewerbemiet preisbremse stadt angespannt gewerberaummarkt begrenzung gewerbemiete erlauben',\n",
       "  'wettbewerb umweltschutz sozi- al standard kollateralschaden',\n",
       "  'kultur schaffen wohlstand   kultur kreativwirtschaft meister unter schätzt branche deutschland',\n",
       "  'tourismuswirtschaft nachhaltig bein helfen   reise tourismuswirtschaft zentral wirtschaftsfak tor millionenfach arbeitgeberin corona-krise schwer treffen',\n",
       "  'bein helfen nach-corona-tourismus klimaschonend ökologisch sozial nachhaltig gestalten',\n",
       "  'gegenteil kreuzschifffahrt bei- trag leisten antrieb verwendung landstrom gut umweltstandard',\n",
       "  'tourismus mithelfen welt erhalten zukunft bereisen lohnen',\n",
       "  'errei- chen einheitlich regelung messung nach- haltig unternehmerisch erfolg leisten wichtig bei- trag wettbewerb nachhaltigkeit eher bestrafen positiv angereizt',\n",
       "  'handelspolitik umwelt sozialkapitel zukünftig handelsverträg rechts- verbindlich sanktionierbar',\n",
       "  'plattform verpflichten euro- paisch qualität sicherheitsstandard online-handel gewährleisten',\n",
       "  'global lenkungswirkung binnenmarkt steigern sicherstellen unternehmen europäisch markt international verantwortung produktion vertriebsweise entlang gesamt wertschöp fungskette übernehmen',\n",
       "  'freiwillige verpflichtend maßnahme unternehmen notwendig diskriminierungsfrei arbeitsplatz gleichberechtig- ten zugang gestaltungsposition digital transformation ermöglichen',\n",
       "  'plattformanbieter automatisiert entscheidung ver- gleich preis transparent erklären',\n",
       "  'chance us-adminis- tration handelskonflikt beilegen transatlantisch markt klimaneutral produkt schaffen ergreifen',\n",
       "  'zählen pariser klimaschutzabkommen ilo-kernarbeitsnorm bedingung einklagbar',\n",
       "  'lehnen handelsabkommen klima umwelt verbrau cher*innen ausreichend schützen',\n",
       "  'eu-kommission setzen grenzaus co,-kost ambitioniert klimaschutz wettbewerbsnachteil',\n",
       "  'aufbau heimisch industrie fördern',\n",
       "  'unternehmen künftig umwelt sozialstandard menschenrecht klima artenschutz entlang gesamt internationa- len wertschöpfungskette durchsetzen brauchen verbindlich wirksam lieferkettengesetz national europäisch ebene',\n",
       "  'weltweit wald insbesondere wichtig trope ur mangrovenwald fortschreitend geschwindig keit abholzen abgebrannt agrarindustriell produktion anbau soja palmöl bergbau holzeinschlag',\n",
       "  'klima- umweltrisik offenlegen ban- ken versicherung eigenkapital unterlegen rating berücksichtigen',\n",
       "  'klimaziel umweltwirkung menschenrecht arbeitsnorma entwick lungsziele berücksichtigen',\n",
       "  'undurchsichtiger regulierungsflut einfach hart regel',\n",
       "  'schuldenbremse lever- age ratio bank verbindlich schrittweise',\n",
       "  'klimakrise massiv rückwirkung volkswirtschaft sinnvoll geldpolitisch maßnahme einfluss klimakrise geldwert finanzstabilität berück-   bundestagswahlprogramm',\n",
       "  'nachhaltiger umweltschäd lich subvention beenden',\n",
       "  'subvention schritt weise abbauen bundeshaushalt klimagerecht',\n",
       "  'schritt milliarde euro jährlich einnehmen finanzierung klimaschutz sozial gerechtigkeit einsetzen',\n",
       "  'ausgabe bund streben klima biodiversitätsquote schrittweise steigen',\n",
       "  'steuersystem schrittweise umbauen umweltbelastung ressourcenver brauch stark besteuern beispielsweise steuer abgabe arbeit verringern einnahme energiegeld zurückgegeben',\n",
       "  'schuldenbremse grundgesetz bund land zeitgemäß gestalten sodass tragfähigkeit zukünftig zinslast gewähr- leisten dringend investition ermögli- chen',\n",
       "  'ziel fair beitrag leisten',\n",
       "  'künfteverfahr kapitalertrag anlegereben teilweise steuerlich freistellen',\n",
       "  'steuerfreiheit veräußerungsgewinne beispielsweise handel edelmetall rohstoff kryptowert abschaffen',\n",
       "  'zeigen transformation digitalisie rung klimagerecht wohlstand zukunftsfähig job schaffen gut arbeitsbedingung gerecht verteilt arbeit',\n",
       "  'sozialarbeiter innen pädagogisch mit arbeiter*inn leisten hoch zeit arbeitsdruck enorm',\n",
       "  'alleinerziehenden rücken stärken   ein-eltern-familien alleinerziehende leisten enorm d drittel armut bedrohen',\n",
       "  'trennung getrennt erziehend eltern betreuung zusätzlich knirschen mehrkosten aus- übung umgang betreuungsleistung angemessen berück- sichtigt',\n",
       "  'absicherung familienform   alleinerziehend patchwork stief regenbogenfamilie familie vielfältig vielfalt modern fami lienrecht abbilden',\n",
       "  'gelten sorgen meistens anständig lohn arbeitsbedingung',\n",
       "  'kürzere arbeitszeit beispielsweise ig metall beitrag bewältigung struk- turwandel automobilbranche vorschlagen begrüßen bieten chance arbeit gerecht verteilen arbeit plätze sichern arbeitnehmer innen entlasten',\n",
       "  'selbständige anspruch arbeitslosengeld | anspruch kurzarbeitergeld besonderer notsituation beispielsweise pandemie erhalten',\n",
       "  'auftragneh mer*in angeben arbeitnehmerstatus künftig auftraggeber*in beweisen',\n",
       "  'zusammenspiel minijob kostenlos mitversicherung wirken maßnahme negativ erwerbstätigkeit frau',\n",
       "  'leistung garantiesicherung schritt- weise individualisieren',\n",
       "  'jugendliche leistungsempfangend familie anrechnung geld ver- dienen',\n",
       "  'ziel bundesteilhabegesetz weiterentwickeln teilhabe garan- tier poolen leistung wille betrof fen echt wunsch wahlrecht leistung unabhängig einkommen vermögen leistungsberechtigt bun desteilhabegeld',\n",
       "  'antrag teilhabeleistung einfach unbürokratisch entscheidung sinn mensch behinderung schnell erfolgen',\n",
       "  'riester-rente völlig fehlschlag herausstellen rürup-rente gravierend schwäche',\n",
       "  'arbeitgeber innen künftig betrieb lich altersvorsorge anbieten finanzierungsbeitrag leisten bürger*innenfonds standard nutzen kön nen',\n",
       "  'fleischindustrie prekär bedingun gen arbeiten schimmelig wohnung vielbe fahrenen straße wohnen hartz iv armut leben gesundheit schwer schützen hoch wahrscheinlichkeit erkranken schlecht zugang gesundheitsver- sorgung',\n",
       "  'getroffen maßnahme evidenzbasiert verhältnismäßig',\n",
       "  'perspektivisch gemeinsam äbrech nungssystematik ambulant stationär leistung geben',\n",
       "  'angebot ort abhängen rentieren trä ger leisten richten nötig',\n",
       "  'flächendeckend erreichbar grundversorgung bevölkerung stellenwert',\n",
       "  'beispielsweise erhalten mensch behinderung häufig dringend benötigt gesundheitsleistung hilfsmittel häuslich pflege teilhabe beschränken',\n",
       "  'bürger*innenver- sicherung finanzierung leistungsstark versicherungssystem einbeziehen hintergrund künftig kostensteigerung gesundheitswesen stabil solidarisch lastenteilung sorgen',\n",
       "  'sicherheit interoperabilität gewährleisten administrativ aufwand medizinisch pflegeri- sch personal verringern hersteller medizinprodukt software offen schnittstell anbieten länderüber- greifend schnittstellen-)standards orientieren',\n",
       "  'umwelt klimaschutz produktion arzneimittel stark beachten qualitätsmerkmal verträ- gen krankenkasse',\n",
       "  'verknüpfung klimaschutz gesundheit motor transformation nachhaltigkeit',\n",
       "  'leistung pfle geversicherung bedarfsgerecht wohnformunabhängig persönlich budget verfügbar',\n",
       "  'ermöglichen erwerbstätige lohnersatzleistung dreimonatig vollausstieg dreijährig teilausstieg pflegebedingt arbeitszeitreduzierung finanziell abfedern',\n",
       "  'pflegebedürftig mensch notwendig pflegeleistung erhalten armut bedrohen',\n",
       "  'arbeitsbedingung pflege gesundheitsversorgung verbessern   pflegekräft leisten unschätzbar beitrag gesell schaft',\n",
       "  'schwarzmarkt boden entzie- hen cannabiskontrollgesetz grundlage strikt jugend verbraucherschutz reguliert verkauf cannabis lizenziert fachgeschäft ermöglichen klar regelung teilnahme straßenverkehr einführen',\n",
       "  'miete immobilienpreis steigen vieler- orts',\n",
       "  'steigend preis grund boden steigend bau wohnkosten folge wiederum verdrängung führen',\n",
       "  'erwerb wohneigentum erleichtern   wohneigentum mensch wunsch explo- dierend immobilienpreis meister region land   bundestagswahlprogramm',\n",
       "  'streben courtage deutlich reduzieren versteckt weg hoch kaufpreise führen',\n",
       "  'kaufnebenkost senken land ermöglichen steuersatz grunderwerbssteuer beispielsweise wohnungsunternehmen erhöhen selbstnutzend senken',\n",
       "  'beteiligung genossenschaft gemeinschaftlich erwerb mie ter*inn beispielsweise rahmen mietshäusersyndikat anderer gemeinschaftlich projekt unterstützen unbürokratisch günstig kredit bürgschaf ten gewähren',\n",
       "  'ressourcenschonende kreislaufgerecht bauen vorantreiben   klimaziel konsequent bauwend ressourcenschonendem nachhaltig bauen erreichen',\n",
       "  'forschung markteinführung nachhaltig klimafreundlich bauma teriali stärken',\n",
       "  'steigen flächenkreislaufwirtschaft letztlich nettoverbrauch boden benötigen',\n",
       "  'kommunal investition ermöglichen beispiels- weise klimaschutz verkehrswende gründungsinfrastruktur kultureinrichtung',\n",
       "  'weiche anfang stellen dorthin meister ressource fließen',\n",
       "  'zent- ral orientierung politisch handeln zeigen klimakrise pandemie',\n",
       "  'gehören syste- matisch vorsorgearbeit leisten lernrückstand schließen deutsch muttersprachlich sprachfertigkeit fördern',\n",
       "  'notwendig maßnahme brauchen einerseits ausreichend finanziell ausstattung land andererseits   bundestagswahlprogramm',\n",
       "  'schritt garantiebetrag bedarfszuschuss bestehen gesamtbetrag ver heutig bafög substanziell erhöhen großteil frage kommend personenkreis zugutekommen',\n",
       "  'studierend auszubildender bekommen betrag direkt überweisen',\n",
       "  'zahl   einführung schulpflicht reich industrienation welt hinnehmbar',\n",
       "  'unterstüt- zen lösung klimaschutz entwickeln ort reallabore klimaneutralität idee praktisch erproben',\n",
       "  'gefährden forschergeist verschleudern potenzial innovation leistung qualität',\n",
       "  'beschäftigungsver hältnissen flexibel arbeitszeitmodell ermöglichen erlauben care familienarbeit leisten',\n",
       "  'zielen mensch beten ausgelassen beisammensein institution staat',\n",
       "  'gleichzeitig gewährleisten tür staat persönli- chen kontakt bürger*inne öffnen bleiben mobil angebot ergänzen',\n",
       "  'leistung staat kompliziert antrag prüfen automatisch berechtigter bereitstellen',\n",
       "  'person kostenfrei digital identität ausstatten digital ausweisen digital unterschreiben',\n",
       "  'usa datum quasi echtzeit vor- liegen politisch maßnahme zeitnah evaluieren fehlen hinreichend schnell verfügbar datum',\n",
       "  '-schattenpreis zugrunde legen',\n",
       "  'extern ministeriell einzelfallweisungsrecht staatsanwaltschaft beschrän- ken transparent land ermöglichen modell gerichtlich selbstverwaltung erproben',\n",
       "  'verleihen gesellschaft vielfältig impuls leisten beitrag gesellschaftlich zusam- menhalt',\n",
       "  'anwendung maßnahme evaluieren',\n",
       "  'parteispende natürlich person beschränken jährlich höchstbetrag euro spender*in deckeln',\n",
       "  'beweislastumkehr absatz',\n",
       "  'engagement ehrenamt säule gesellschaft   engagement ehrenamt stützen gesellschaft vielfältig weise',\n",
       "  'integrationsfeind lich gesetzlich regelung arbeitsverbot pauschal wohn sitzauflage leistungskürzung abschaffen',\n",
       "  'berücksichtigung trennungsgebot gewäh rung rechtsbeistand sicherstellen',\n",
       "  'hierfür leisten sozialwis senschaft genderstudies unverzichtbar beitrag',\n",
       "  'monitoringstelle einrichten getroffen maßnahme regelmäßig wirksamkeit prüfen',\n",
       "  'gesetzlich rechtsanspruch schutz geschlechtsspezifisch gewalt sichern geldleistung bund betroffene unabhängig einkommen verbessern zugang schutzeinrich   bundestagswahlprogramm',\n",
       "  'versorgung dauerhaft gewährleisten brauchen entstigmatisierung entkriminalisierung selbstbestimm- ten abbruch generell kostenübernahme',\n",
       "  'schritt kosten ärztlich verordnet empfängnisverhütung empfänger*innen staatli- chen transferleistung geringverdiener*innen unbürokratisch übernehmen',\n",
       "  'gesundheitsleistung körperangleichend operation hormontherapi selbstbestimmungsrecht sichern',\n",
       "  'entschädigungsfonds opfer kreis trans inter*geschlechtliche person körperlich unver sehrtheit verletzen ehe zwangsgeschieden einrichten',\n",
       "  'polizist*inn verdienen wertschätzung genauso arbeitsverhältnis leistungsfähig struktur innerhalb behörde',\n",
       "  'sicher leistungsfähig datenverarbeitung kom biniert mobil it klar geregelt kompetenz grundvoraussetzung modern polizeiarbeit',\n",
       "  'klimakrise herausforderung modern gesellschaft setzen system druck',\n",
       "  'bund stark engagieren bundesamt bevölkerungsschutz katastrophenhilfe kompetenz bekommen',\n",
       "  'festschreiben zweistufig meldeverfahren entschädigungsfonds per sönlich risiko minimieren',\n",
       "  'abbauen potenziell hinweisgeber*in ermutigen wer',\n",
       "  'pflicht nachweis legal herkunft zahlung verstärken',\n",
       "  'rechtsschutz jede*n gruppenklagen einführen   mensch wirtschaftlich stärke- ren wirksam durchsetzen fall diesel-abgas-betrug',\n",
       "  'verdopp lung gewährleistungsfrist erweiterung beweislastumkehr angabe hersteller vorgesehen lebensdauer erreichen gerät lang lebensdauer bauen',\n",
       "  'nachhaltig wiederaufbau-)strategie kommunalfinanz wichtig grundlage kulturleben stärken zuwe dungsrecht reformieren kooperation bund land kommune finanzierung kultureinrichtung -projekten ermöglichen fonds schutz kultur- einrichtung verdrängung abriss einrichten kulturort beispielsweise club langfristig absichern',\n",
       "  'künstlersozialkaß ksk finanziell stärken rechtssicherheit mitgliedschaft ksk künstler*innen zeitweise produktion versicherungspflichtig anstellen schaffen freiwillig weiterversicherung selbständige arbeitslosenversicherung vereinfachen',\n",
       "  'kulturbetrieb ökologisch   kulturbetrieb kunst wichtig rolle bewältigung klimakrise spielen',\n",
       "  'regional aufarbeitungsinitiative stark arbeit unterstützen setzen unbürokratisch hoch ent- schädigungsleistung opfer verfolgter sed-diktatur',\n",
       "  'e-sport längst nischenthema begeistert mensch',\n",
       "  'bisherig staatlich beschäf tigungsmöglichkeit leistungssportler*inn zivil alternative ergänzen',\n",
       "  'gemeinsam meistern',\n",
       "  'hochentwickelt exportorientiert industriestaat gehören deutschland hauptverursacher global erwärmung agieren entscheidend player globalisierung wohlstand entwicklung bedeuten ausbeu tung mensch umwelt führen',\n",
       "  'deutschland beitrag oda-quote anteil öffentlich ausgabe entwick lungszusammenarbeit bruttonationaleinkommen prozent erreichen milliarde euro internatio- nal klimafinanzierung bereitstellen',\n",
       "  'gie sichern grün wasserstoff öl gasimporte',\n",
       "  'bestehend international fonds klimaanpas- sung klimaschutz ausstatten setzen zusätzlich fonds ausgleich schaden verlust klimarisikoversicherung finanzie- ren',\n",
       "  'klima umwelt schützen menschenrecht   schutz menschenrecht verpflichten klima umwelt schutz umgekehrt schützen klima umweltschutz menschenrecht',\n",
       "  'initiative stärkung rechtsweg multilateral investitionsbank instrument klimaklag unterstützen',\n",
       "  'französisch initiative umweltvölkerrecht kodifizieren konsolidieren greifen stark schritt sauber umwelt resolution vn-generalversammlung verbriefen',\n",
       "  'gewährleistung offen fair flexibel global lieferkette genauso voraussetzung aufhebung weltweit exportrestriktion covid-impfstoff',\n",
       "  'freiwillig produktionspartnerschaft ausreichen unterstützen antrag erteilung verpflichten- lizenz covid-impfstoff entschädigung brin gen sinn wto temporär aussetzung patent technologie bekämpfung covid-in verhandlung',\n",
       "  'monopol geistig eigentum bekämp fung krankheit zugang überlebenswichtig schutzmaterialie impfstoff arzneimittel versperren',\n",
       "  'etablierung stark klimapartnerschaft transatlantisch partnerschaft inspiration treiber sozial-ökologische transformation weltweit hoch standard setzen',\n",
       "  'insbesondere klima- politik streben gemeinsam politisch wirtschaftlich techno- logisch anstrengung einhaltung nachhaltig pro- duktionsstandards transparent fahrplan bekämpfung klimakrise beispielsweise kohleausstieg china',\n",
       "  'indo-pazifik   setzen frei offen indo-pazifisch region grundlage global norm völkerrecht',\n",
       "  'lockerung sanktion völkerrechts- widrig annexion krim militärisch vorgehen ukraine russland verhängen eu klar bedingun gen formulieren',\n",
       "  'brauchen konstruktiv klima dialog russland wobei einzeln schritt menschen schützen',\n",
       "  'gelten nato thematisieren zuletzt blick völkerrechtswidrig militäroffensive türkei nordsyrien',\n",
       "  'abkommen völkerrechts- rechtsstaatskonform flucht bekämpfen perspektive mensch verbessern',\n",
       "  'anhal- tend bedrohung staat israel souveränität nachbarschaft terror bevölkerung verurteilen',\n",
       "  'zudem meister lateinamerikanisch staat massiv corona-krise betreffen',\n",
       "  'ökosystem lateinamerika spielen zentral rolle schutz global gemeingut klima biodiversität',\n",
       "  'rahmen interna- tionale zusammenarbeit setzen frei zugang digital technologie',\n",
       "  'reich aufnahmeplatz weien mitgliedstaat verhältnis bruttoinlandsprodukt bevölkerungsgröße ver pflichtend angebot leisten mindestens gleichwer- tig beitrag gesamtkoste',\n",
       "  'sichere legal fluchtweg schaffen   völkerrechtlich verbrieft asyl ersuchen leben familie riskieren',\n",
       "  'spekulation nahrungsmittel verbieten   nahrungsmittelpreis stark schwankung unterwerfen',\n",
       "  'verantwortlich wetter ernt skrupellos spekulant*inn gewinnmaximierung nahrungsmittelsicherheit',\n",
       "  'brauchen streng berichtspflicht händler*inn strikt preis positionslimits europäisch rohstoff-börse',\n",
       "  'natur umweltschutz postkolonial',\n",
       "  'akteurin rüs- tungsbegrenzung abrüstung gemeinsam kampf klimakrise stärken aktivität umsetzung minsker abkommen unterstützen',\n",
       "  'staat pflicht bevölkerung effektiv angriff schützen',\n",
       "  'hierfür europdisch zusammenarbeit ausbauen wozu deutsch land entsprechend beitrag leisten',\n",
       "  'bewaffnet drohne vielfach unser bündnispartner extrale- gal tötung völkerrechtswidrig tat einsetzen',\n",
       "  'heitsaufgab klimaschutz herausforderung gerecht',\n",
       "  'versprechen klimaschutz belasten',\n",
       "  'partei teamgeist kooperation letzter erfolgreich erproben leben',\n",
       "  'corona-krise zeigen staat leisten mangeln',\n",
       "  'automobilindustrie   f',\n",
       "  'biodiversität    breitband',\n",
       "  'l   chemieindustrie',\n",
       "  'co»-preis f',\n",
       "  'energiewende ff',\n",
       "  'erneuerbar energie',\n",
       "  'europäisch zentralbank ezb    eurozone',\n",
       "  '         /industriepolitik',\n",
       "  'industriestaat',\n",
       "  'industriestandort  ',\n",
       "  '   klima       klimaabkommen paris',\n",
       "  'klimabewegung',\n",
       "  'klimafinanzierung',\n",
       "  'klimakrise f',\n",
       "  'klimaneutralität',\n",
       "  'klimapolitik     klimaschutz',\n",
       "  'l   landwirtschaft',\n",
       "  'ökosystem öpnv',\n",
       "  '--   pariser klimaziel /paris klimaabkommen    parität   parteispende   partizipation',\n",
       "  'regional wirtschaftskreislauf',\n",
       "  'sozialleistung',\n",
       "  'u   umwelt',\n",
       "  'umweltschutz     unternehmer*inn',\n",
       "  'völkerrecht',\n",
       "  'zweistaatenregelung'],\n",
       " 'Bildung': ['stärken ausbildung studium',\n",
       "  'verbessern bedingung wissenschaft',\n",
       "  'wissen industriegesellschaft sicher zeitalter klimaneutralität führen',\n",
       "  'kur- zer klimaneutral gesellschaft epochal aufgabe inspirierend kraft',\n",
       "  'klima schutz zukunftsaufgabe klimaschutz',\n",
       "  'begreifen aufgabe gut regel schaffen gut mensch',\n",
       "  'genehmigungsprozeß füh- ren klimaverträglichkeitsprüfung',\n",
       "  'klimaschutz querschnittsaufgabe gesetz klimawirkung prüfen vereinbarkeit nationa- len klimaschutzziel co',\n",
       "  'extrem klimaschädlich emission erdgasförderung -transport entstehen schnellstmöglich reduzieren',\n",
       "  'fern nahwärme dekarbonisieren richten förderung klimaneutral lösung',\n",
       "  'unterstützen akti onsprogramm faire wärme steuervergünstigunge kostenlos beratung zielgerichtet förderprogramm umbau klimaneutral wärmeversorgung',\n",
       "  'lücke engpaß sowohl innerdeutsch grenzüberschreitend schienennetz bahnknote schließen',\n",
       "  'zukunft freiwilligendienstleistend soldat*inn kostenfrei deutsch bahn fahren',\n",
       "  'mobilitätsdienstleistung auto effizient nutzen weise mobilität verkehr fördern',\n",
       "  'strukturschwach region brauchen regelmäßig verlässlich barrierefrei anbindung öpnv schnellbuslinien mobilitätsdienst leistung ridepooling- on-demand-verkehr',\n",
       "  'bergrecht fracking künftig projekt förderung erdöl erdgas ausschließen',\n",
       "  'landwirtschaft fit zukunft begreifen aufgabe nächster',\n",
       "  'setzen innovativ instrument agrarumweltförderung klima naturschutz agrarökologisch ziel gemeinsam denken',\n",
       "  'machbar landwirt innen unterstützen umbauförderung tierschutz-cent tierisch pro dukt finanzieren fair preis verpflichtend haltungskennzeichnung tierisch produkt',\n",
       "  'meister wissen markt zukunft klimaneutral',\n",
       "  'wissen deutschland',\n",
       "  'ausgangspunkt wirtschaftli che dynamik zukunftsfähig job schaffen handwerk start- ups dienstleistungsbranche lebensqualität sichern mensch frei entfaltung ermöglichen klimagerecht wohlstand schaffen',\n",
       "  'unternehmen pla- nungssicherheit wissen klimaneutral nachhaltig wirtschaften lohnen',\n",
       "  'potenzial neu mobilitätsdienstleistung autonom fahren industriestandort klimaschutz ver- kehrssicherheit heben',\n",
       "  'beschäftigter automobilindustrie zulieferer qualifizie- rungsangebot weiterbildung unterstützen',\n",
       "  'vielversprechend forschungsergeb nis grundlagenforschung öfter praxis gelangen',\n",
       "  'erheblich anteil öffent- lich geld erforschen entwickeln förderung klar bedingung bezüglich transparenz forschungskost fair preisgestaltung weltweit gerecht zugangsmöglichkeit knüpfen',\n",
       "  'karrie reförderung beginnen spitze',\n",
       "  'meisterbrief studium kostenfrei',\n",
       "  'fair ver- fahren anerkennung akademisch anerkannt hochschul abschlüsse staatlich anerkennung gewährleisten möglich anpassungsbedarfe überprüfen anerkennungspraxis verbessern',\n",
       "  'handwerksberuf attraktiv setzen stark tarifbindung branchenspezifi- sch mindestvergütung gleichwertigkeit beruflich akademisch ausbildung',\n",
       "  'gezielt schutz verbessert förderung teil unser kulturell leben wegbrechen retten',\n",
       "  'digitalisierung gestalten dienstleistung plattform marktmacht regulieren',\n",
       "  'len dienst datenportabilität offen schnittstell marktbeherrschend unternehmen ver pflichtend gewährleisten',\n",
       "  'mäd- chen grundschule digitaltheme begeistern technikgenderstereotype aufwachsen',\n",
       "  'europäisch handelsvertrag verbindlich durchsetzbar menschenrecht umwelt sozi alstandard enthalten marktöffnung dienstleistungsbe reich grundsätzlich positivlist regeln',\n",
       "  'stärken ausbildung studium',\n",
       "  'verbessern bedingung wissenschaft',\n",
       "  'wissen industriegesellschaft sicher zeitalter klimaneutralität führen',\n",
       "  'kur- zer klimaneutral gesellschaft epochal aufgabe inspirierend kraft',\n",
       "  'klima schutz zukunftsaufgabe klimaschutz',\n",
       "  'begreifen aufgabe gut regel schaffen gut mensch',\n",
       "  'genehmigungsprozeß füh- ren klimaverträglichkeitsprüfung',\n",
       "  'klimaschutz querschnittsaufgabe gesetz klimawirkung prüfen vereinbarkeit nationa- len klimaschutzziel co',\n",
       "  'extrem klimaschädlich emission erdgasförderung -transport entstehen schnellstmöglich reduzieren',\n",
       "  'fern nahwärme dekarbonisieren richten förderung klimaneutral lösung',\n",
       "  'unterstützen akti onsprogramm faire wärme steuervergünstigunge kostenlos beratung zielgerichtet förderprogramm umbau klimaneutral wärmeversorgung',\n",
       "  'lücke engpaß sowohl innerdeutsch grenzüberschreitend schienennetz bahnknote schließen',\n",
       "  'zukunft freiwilligendienstleistend soldat*inn kostenfrei deutsch bahn fahren',\n",
       "  'mobilitätsdienstleistung auto effizient nutzen weise mobilität verkehr fördern',\n",
       "  'strukturschwach region brauchen regelmäßig verlässlich barrierefrei anbindung öpnv schnellbuslinien mobilitätsdienst leistung ridepooling- on-demand-verkehr',\n",
       "  'bergrecht fracking künftig projekt förderung erdöl erdgas ausschließen',\n",
       "  'landwirtschaft fit zukunft begreifen aufgabe nächster',\n",
       "  'setzen innovativ instrument agrarumweltförderung klima naturschutz agrarökologisch ziel gemeinsam denken',\n",
       "  'machbar landwirt innen unterstützen umbauförderung tierschutz-cent tierisch pro dukt finanzieren fair preis verpflichtend haltungskennzeichnung tierisch produkt',\n",
       "  'meister wissen markt zukunft klimaneutral',\n",
       "  'wissen deutschland',\n",
       "  'ausgangspunkt wirtschaftli che dynamik zukunftsfähig job schaffen handwerk start- ups dienstleistungsbranche lebensqualität sichern mensch frei entfaltung ermöglichen klimagerecht wohlstand schaffen',\n",
       "  'unternehmen pla- nungssicherheit wissen klimaneutral nachhaltig wirtschaften lohnen',\n",
       "  'potenzial neu mobilitätsdienstleistung autonom fahren industriestandort klimaschutz ver- kehrssicherheit heben',\n",
       "  'beschäftigter automobilindustrie zulieferer qualifizie- rungsangebot weiterbildung unterstützen',\n",
       "  'vielversprechend forschungsergeb nis grundlagenforschung öfter praxis gelangen',\n",
       "  'erheblich anteil öffent- lich geld erforschen entwickeln förderung klar bedingung bezüglich transparenz forschungskost fair preisgestaltung weltweit gerecht zugangsmöglichkeit knüpfen',\n",
       "  'karrie reförderung beginnen spitze',\n",
       "  'meisterbrief studium kostenfrei',\n",
       "  'fair ver- fahren anerkennung akademisch anerkannt hochschul abschlüsse staatlich anerkennung gewährleisten möglich anpassungsbedarfe überprüfen anerkennungspraxis verbessern',\n",
       "  'handwerksberuf attraktiv setzen stark tarifbindung branchenspezifi- sch mindestvergütung gleichwertigkeit beruflich akademisch ausbildung',\n",
       "  'gezielt schutz verbessert förderung teil unser kulturell leben wegbrechen retten',\n",
       "  'digitalisierung gestalten dienstleistung plattform marktmacht regulieren',\n",
       "  'len dienst datenportabilität offen schnittstell marktbeherrschend unternehmen ver pflichtend gewährleisten',\n",
       "  'mäd- chen grundschule digitaltheme begeistern technikgenderstereotype aufwachsen',\n",
       "  'europäisch handelsvertrag verbindlich durchsetzbar menschenrecht umwelt sozi alstandard enthalten marktöffnung dienstleistungsbe reich grundsätzlich positivlist regeln',\n",
       "  'richtig lehre ziehen',\n",
       "  'besonderer schutz förderung betei ligung',\n",
       "  'gelten familienunterstützend dienstleistun gen fördern ergänzend kinderbetreuung haushaltsnah dienstleistung',\n",
       "  'rechtlich gese- hen außenstehender kind kindergarten schule ärzt*in vorgese- hen entscheidung kind treffen',\n",
       "  'unfaires preis-dum- ping gelten mindesthonorar zeitbasiert dienstleistun gen unterbinden',\n",
       "  'hoch- qualifiziert berufen freiheit bringen führen dienstleistungsbereich ausbeuterisch arbeitsrealität',\n",
       "  'leistung teilhabe phase allgemein beruflich hochschulisch bildung gewähren',\n",
       "  'versorgung gkv regelmäßig aktuell stand wissenschaft anpassen',\n",
       "  'studium pflegewissenschaft pflegepädagogik forschung pflege finanziell strukturell unter- stützen',\n",
       "  'bund land kommune aufgabe zuweisen finanzierung bereitstellen',\n",
       "  'kitas schule kind jugendliche erzieher*inner lehrer*in gleicherma- ßen gerne',\n",
       "  'schule attraktiv ort',\n",
       "  'bundesweit förderung schüler innen bedürfen einfach fördermittelbeantragung schule bürokratisch hürde bund',\n",
       "  'ganztag abendschule dual berufsbil dung weiterbildung studium handwerker*in bau angestellter r büro freiberuflich selbständig betrieb unterstützen vielfältig lebensbahn passend bildungsverlauf',\n",
       "  'trend wach send zahl schüler*inne abschluss schule verlässen entgegenwirken',\n",
       "  'krise eindämmen klimakrise pande mium kreativität forschungsgeist transformation unser bildung wissenschaftssystem grundlage',\n",
       "  'wissenschaft zeigen denkhorizont mög lichkeit ändern lauf ding',\n",
       "  'wichtig arbeit erzieher*inn lehrkraft pädagog innen bildungssystem jugendhilfe leisten brauchen gut lohn arbeit bedingung',\n",
       "  'ganztagsplatz jeder grundschulkind lernbedingung weiterführend schule   schule stark ort bildung begegnung inspi ration',\n",
       "  'ganztagsplätz grundschule hort lernbedingung weiter- führend schule wichtig',\n",
       "  'gelten ganztag weiterführend schule kind ermöglichen behinderung',\n",
       "  'jeder kind schule egal leben',\n",
       "  'schüler innen wohlfühlen schule sicher fühlen',\n",
       "  'bes- sere lernumgebung hoch bildungsqualität investieren',\n",
       "  'gehören selbstverständlich beruf schulen -kollegs',\n",
       "  'gemeinsam land digital ausbildung lehrer*in verbessern',\n",
       "  'gehören förderung mint-them schule',\n",
       "  'zudem zuständig stelle ein setzen prüfung leicht sprache vermehrt',\n",
       "  'berufsberatung leistung förderung beruflich qualifizierung beruflich ersteingliederung bün- del gemeinsam arbeitsagentur stärken',\n",
       "  'grundsicherung ausbildung studium   r schulisch ausbildung stu dium leisten unabhängig einkommen vermögen situation eltern',\n",
       "  'verbessern bedingung wissenschaft   raum idee   herausforderung klimakrise pan demien effizient nutzung rohstoff kön nen hilfe innovativ lösung fortschritt bewältigen',\n",
       "  'land zukunftsvertrag studium lehre pakt forschung innovation verstetig qualitativ voranbringen',\n",
       "  'einheit forschung lehre hochschule stärken',\n",
       "  'lehre studierend sicherstellen betreuungsrelatione verbessern stiftung innovation hochschullehre stärken gut praxis fläche bringen',\n",
       "  'gemeinsam land hinwirken studierend zugang gut beratungsdienstleistung',\n",
       "  'offensive studentisch wohnen fördern sichern günstig wohnraum studierend',\n",
       "  'nachwuchswissenschaftler*inn hochschule planbar sicher berufsweg',\n",
       "  'hierzu gehören unbefris tet berufsweg professur hierarchie abbauen kooperativ arbeitsweise wissenschaft stärken',\n",
       "  'lehre aufgabe weiterhin bezahlt lehrauftrag abdecken',\n",
       "  'wol- len stellenwert lehre erhöhen entfristet stelle schaffen',\n",
       "  'barrierefrei e-government- dienstleistung sicher digital beteiligungsformat open government verwaltung modernisieren unnö tig bürokratie schriftformerfordernisse abbauen',\n",
       "  'gleichzeitig gesetzlich grundlage schaffen wirt schaft branchenübergreifend verfahren nutzen sicher loginverfahr finanz versicherungsdienstleistun gen digital vollmacht erlauben zugriff öffentli- che register verifikation führerschein',\n",
       "  'transparenzgesetz open data   zugang staatlich datenbeständ ermöglichen innovativ elektronisch dienstleistung demokratisch beteili gungsmöglichkeit',\n",
       "  'dienstreise flugreise minimum begrenzen',\n",
       "  'nebenverdienst abge ordnet zudem verpflichtend angabe branche',\n",
       "  'förderung demokratisch staatswesen förderung tragend grundsatz klar gemeinnützig',\n",
       "  'polizei justiz umgang betroffener sexualisiert gewalt umfassend schulen sensibilisieren',\n",
       "  'gehören maßnahme lsbtiq*inklusiv gesellschaftspolitik institutionell förderung projektförderung lsbtiq”-verbänd -organisa- tionen stiftung',\n",
       "  'polizei komplex aufgabe nachkommen ver- trauen gesamt bevölkerung bauen',\n",
       "  'besonderer belastung dienst regelmäßig beispielsweise rahmen supervision nachbereiten',\n",
       "  'ver- fügbarkeit tödlich schusswaffe jäger*innen waffe aufgabe erfüllen schrittweise beenden',\n",
       "  'garantieren rechtsstaat stärken verbraucherschutz   konsequent korruption   korruption steuerhinterziehung geldwäsche manipulation finanzmarkt rechtsverstöß verheerend auswirkun gen wettbewerb frei markt umwelt men- schen',\n",
       "  'reduziert mehrwertsteuersatz reparaturdienstleistung ein führen eu-ebene ausweitung reparatur elektrogerät einsetzen',\n",
       "  'weg provisionsberatung schrittweise unabhängig honorarberatung übergehen',\n",
       "  'leistungssport bestmöglich förderung talent fixierung bestimmt medaillenanzahl',\n",
       "  'wol- len förderung spitzensport bedingung perspektive leistungssportler*inn insbesondere nach- wachsen mittelpunkt stellen',\n",
       "  'global aufgabe erheblich',\n",
       "  'effektivität maßnahme erhöhen wirkungsevaluierung transparenz austausch wissenschaft stärken',\n",
       "  'regieren allwissenheit opposi- tion prinzip',\n",
       "  'mensch fühlen vertreten wissen',\n",
       "  'aufgabe angemessen',\n",
       "  'aufgabe kom-   mend jahrzehnt gelten wagen',\n",
       "  'hochschule',\n",
       "  'schule',\n",
       "  'studium'],\n",
       " 'Gesundheit': ['ermöglichen lebensbegleitend lernen',\n",
       "  'pandemie mark treffen',\n",
       "  'erfahrung pandemie zeigen krise gemeinsam kraftanstren gunge bewältigen',\n",
       "  'fehler lernen',\n",
       "  'vorsorgen widerstandsfähig schützen umso frei leben',\n",
       "  'erfahrung kompetenz herz weitblick zuversicht leidenschaft lernfähig jahrzehnt',\n",
       "  'energierevolution',\n",
       "  'öffentlich beschaffung richten konsequent ressourcenschonendst sozial verträglichst produkt dienstleistung',\n",
       "  'entstehen handwerk bau- wirtschaft industriebereich kreislaufwirtschaft batteriezellenproduktion wasserstoffindustrie dienstleistungsfelder',\n",
       "  '-prei- sen anreizen förderung ordnungsrecht abbau umweltschädlich subvention ändern',\n",
       "  'sorgen energie erzeugen schnell dorthin gelangen benötigen',\n",
       "  'kommune regional wärme energie integriert quartier planung verbindlich gelten',\n",
       "  'prob- lemlos überall b mobilpass angebot verkehr tarifverbünde deutschland vereinfachen verknüpfen sharing ridepooling-dienste integrieren sozial umweltdumping ausschließen',\n",
       "  'beenden schrittweise dieselsubvention gestalten dienst wagenbesteuerung sozial-ökologisch',\n",
       "  'gemeinsam land naturschutzwir kung natura-gebiet verbessern nationalpark schutzgebiet vergrößern bzw',\n",
       "  'schaffen national naturerbe stärken',\n",
       "  'halten wasserkreislauf balance boden fruchtbar spei- chern kohlenstoff reinigen luft lebensraum zahlreich bedroht tier pflanze pilz produzieren rohstoff dienen erholung gesundheitsvorsorge',\n",
       "  'gemeinsam kommune land bun desweit prävention bekämpfungsstrategie erarbeiten',\n",
       "  'setzen förderung fossil energieträger',\n",
       "  'deutsch ausschließ lich wirtschaftszone sofortig stopp neu öl gasbohrung umsetzen förderende   europäisch international ebene setzen öl gasförderung gesamt nord ostsee',\n",
       "  'gleichzeitig corona-krise auge führen wichtig regional funktionierend lieferkette',\n",
       "  'for- schung beratung regionalvermarktung innovativ partizipativ ansatz erzeuger innengemeinschaft solida risch landwirtschaft ernährungsrat unterstützen',\n",
       "  'ernährungsbedingt krankheit gezielt eindamm',\n",
       "  'umwelt gerecht ernährung gehören lehrplan relevant ausbil dungsbereich',\n",
       "  'verständlich information zutat herkunft herstellung ökologisch fußabdruck nötig transpa- renz sorgen',\n",
       "  'würdevoll gesund leben frei schmerz angst stress ermöglichen',\n",
       "  'umfassend verbandsklagerecht anerkannt tierschutzorgani sation einführen',\n",
       "  'pandemie basieren zoonose tier mensch über- tragen infektionskrankheit',\n",
       "  'krankheit häufig fortschreitend zerstörung natur vordringen mensch letzter natürlich leben raume begünstigen',\n",
       "  'freiwillig regelung bringen',\n",
       "  'gleichzeitig erfordern berufe zukunft fähigkeit',\n",
       "  'zukunftsfähigkeit stark handwerk sichern   handwerk unser alltag überall präsent unverzicht- bar',\n",
       "  'million kreativen kulturschaffende umsatz knapp milliarde euro beispielsweise chemisch industrie finanzdienstleister',\n",
       "  'nationalpark biosphärenreser- vat naturschutzgebiet reguliert tourismus nachhaltig schützen',\n",
       "  'regulierungslücke schattenbanke zahlung dienstleistern fintech schließen jeder produkt akteur regulieren',\n",
       "  'bestehend kooperationspflicht kryptotausch börse erweitern ermittlungsbehörde angemessen bereich schulen',\n",
       "  'ermöglichen lebensbegleitend lernen',\n",
       "  'pandemie mark treffen',\n",
       "  'erfahrung pandemie zeigen krise gemeinsam kraftanstren gunge bewältigen',\n",
       "  'fehler lernen',\n",
       "  'vorsorgen widerstandsfähig schützen umso frei leben',\n",
       "  'erfahrung kompetenz herz weitblick zuversicht leidenschaft lernfähig jahrzehnt',\n",
       "  'energierevolution',\n",
       "  'öffentlich beschaffung richten konsequent ressourcenschonendst sozial verträglichst produkt dienstleistung',\n",
       "  'entstehen handwerk bau- wirtschaft industriebereich kreislaufwirtschaft batteriezellenproduktion wasserstoffindustrie dienstleistungsfelder',\n",
       "  '-prei- sen anreizen förderung ordnungsrecht abbau umweltschädlich subvention ändern',\n",
       "  'sorgen energie erzeugen schnell dorthin gelangen benötigen',\n",
       "  'kommune regional wärme energie integriert quartier planung verbindlich gelten',\n",
       "  'prob- lemlos überall b mobilpass angebot verkehr tarifverbünde deutschland vereinfachen verknüpfen sharing ridepooling-dienste integrieren sozial umweltdumping ausschließen',\n",
       "  'beenden schrittweise dieselsubvention gestalten dienst wagenbesteuerung sozial-ökologisch',\n",
       "  'gemeinsam land naturschutzwir kung natura-gebiet verbessern nationalpark schutzgebiet vergrößern bzw',\n",
       "  'schaffen national naturerbe stärken',\n",
       "  'halten wasserkreislauf balance boden fruchtbar spei- chern kohlenstoff reinigen luft lebensraum zahlreich bedroht tier pflanze pilz produzieren rohstoff dienen erholung gesundheitsvorsorge',\n",
       "  'gemeinsam kommune land bun desweit prävention bekämpfungsstrategie erarbeiten',\n",
       "  'setzen förderung fossil energieträger',\n",
       "  'deutsch ausschließ lich wirtschaftszone sofortig stopp neu öl gasbohrung umsetzen förderende   europäisch international ebene setzen öl gasförderung gesamt nord ostsee',\n",
       "  'gleichzeitig corona-krise auge führen wichtig regional funktionierend lieferkette',\n",
       "  'for- schung beratung regionalvermarktung innovativ partizipativ ansatz erzeuger innengemeinschaft solida risch landwirtschaft ernährungsrat unterstützen',\n",
       "  'ernährungsbedingt krankheit gezielt eindamm',\n",
       "  'umwelt gerecht ernährung gehören lehrplan relevant ausbil dungsbereich',\n",
       "  'verständlich information zutat herkunft herstellung ökologisch fußabdruck nötig transpa- renz sorgen',\n",
       "  'würdevoll gesund leben frei schmerz angst stress ermöglichen',\n",
       "  'umfassend verbandsklagerecht anerkannt tierschutzorgani sation einführen',\n",
       "  'pandemie basieren zoonose tier mensch über- tragen infektionskrankheit',\n",
       "  'krankheit häufig fortschreitend zerstörung natur vordringen mensch letzter natürlich leben raume begünstigen',\n",
       "  'freiwillig regelung bringen',\n",
       "  'gleichzeitig erfordern berufe zukunft fähigkeit',\n",
       "  'zukunftsfähigkeit stark handwerk sichern   handwerk unser alltag überall präsent unverzicht- bar',\n",
       "  'million kreativen kulturschaffende umsatz knapp milliarde euro beispielsweise chemisch industrie finanzdienstleister',\n",
       "  'nationalpark biosphärenreser- vat naturschutzgebiet reguliert tourismus nachhaltig schützen',\n",
       "  'regulierungslücke schattenbanke zahlung dienstleistern fintech schließen jeder produkt akteur regulieren',\n",
       "  'bestehend kooperationspflicht kryptotausch börse erweitern ermittlungsbehörde angemessen bereich schulen',\n",
       "  'pandemie bestehend ungleich heiten verschärfen',\n",
       "  'frei berufler*innen selbständige ohnehin groß risi ken eingehen stürzen verdienst existenzangst -not',\n",
       "  'pandemie individuell leben umstände zurückgeworfen',\n",
       "  'angst lähmen mürbe',\n",
       "  'sicherstellen kind staatlich entscheidung größ gewicht bekommen maßgeblich berücksichtigen',\n",
       "  'vorha ben kindergeld kinderfreibetrag kinderzuschlag sozialgeld kind bedarfe bildung teilhabe eigen ständig leistung zusammenzufassen',\n",
       "  'familie   kopf frei familie kind krank ziel',\n",
       "  'ben ärztlich attest erkrankungstag kind verpflichtend',\n",
       "  'besonderer direkt geburt mutterschutz elternteil tägig freistellung einrichten',\n",
       "  'mutterschutzregelung totgeburt   schwangerschaftswoche',\n",
       "  'wichtig abendtermin job beratungsgespräch arztbesuch kind',\n",
       "  'kind benötigen klar rechtssta tus persönlichkeitsrecht kenntnis abstammung kind wahren',\n",
       "  'förderung lebens- begleitend lernen mensch behinderung ausbauen',\n",
       "  'bestehend privat alter vorsorgeform altersgrenz berücksichtigen',\n",
       "  'nächster krise reagieren zukunft gemeinsam gesund heitsziel ausweitung gesundheitsberichterstattung krankheitsursachen stand gesundheitlich versorgung blick nehmen',\n",
       "  'prävention gesundheitsförderung gesundheitlich versorgung grundsätzlich quer schnittsaufgabe politikbereich verfolgen',\n",
       "  'europäisch zentrum prävention kontrolle krankheit stärken eng kooperation national gesundheitsbehörde einsetzen',\n",
       "  'gesundheitsamt stärken   corona-pandemie sichtbar gesell- schaft groß anstrengung unternehmen öffentli- che gesundheit stärken mensch leben ermögli- chen',\n",
       "  'entwickeln funktionsfähigkeit gesundheitswesen berichten qualität koordination gesundheitsdienst sichern zentral public-health-organ bündelung bestehend struktur bund verbesserung gesundheitsversorgung beitragen',\n",
       "  'bund land gemeinsam sorgen öffentlichen gesund heitsdienst schrittweise mindestens prozent gesundheit ausgabe anheben sodass aufgabe gesund heitsschutz gesundheitsförderung dauerhaft wahrnehmen',\n",
       "  'gesundheitsdienst stark gesundheit förderung prävention lebenswelt ort einbinden',\n",
       "  'mitarbeiter*inn öffentlichen gesundheitsdienst insbesondere amtsärzt*inn vergleichbar beschäftigungsver hältnissen gesundheitswesen bezahlen',\n",
       "  'gesundheitlich versorgung stadt land   gesundheit daseinsvorsorge',\n",
       "  'mancherorts weg hebamme bewältigen kinderstation patient*in abweisen müs- sen hausarztprax land schließen ein*e nachfolger*in fehlen gefährden gesundheitlich versorgung',\n",
       "  'arbeitsbedingung vergü tung therapieberuf dringend wichtig rolle gesundheitswesen angepassen schulgeld ausbildung abschaffen',\n",
       "  'bund möglichkeit gemeinsam bundesweit grundsatz krankenhausplanung definieren',\n",
       "  'gemeinwohlorientierung gesundheitswesen stärken trend privatisie rung umgekehrt',\n",
       "  'konzentration ertragreich änge bot',\n",
       "  'notrufleitstelle gesundheitsleitstellen verbinden verlässlich lotsenfunktion übernehmen',\n",
       "  'zentral klinikstandort notfallzentr nahtlos ver- zahnung bislang getrennt ambulant stationär versor- gungsmöglichkeit notfallversorgung erfolgen',\n",
       "  'versorgung psychisch erkrankter verbessern   stark prävention angemessen versorgung beider weiche stellen seelisch gesundheit fundament lebensqualität sozial teilhabe körperlich gesundheit abwesenheit psychisch krankheit',\n",
       "  'flächendeckend bedarfsgerecht ver- sorgung ambulant stationär therapie hilf beratungsangebot suizidpravention abhängigkeit zentral',\n",
       "  'behandlung zwang unumgänglich mindestmaß reduzieren',\n",
       "  'hilfsangebot ambulant stationär behandlung flexibel verschiede n berufsgruppe team miteinander abgestimmt behand lung übernehmen',\n",
       "  'bestehend lücke verbot sogenannter konversionstherapien schließen',\n",
       "  'wol- len aufklärungsarbeit hiv aktuell behandlung präventionsmöglichkeit ärzt*in stark aus fort weiterbildung berücksichtigen stigmatisierung vorbeugen',\n",
       "  'sprache unüberwindbar hürde darstellen anspruch qualifiziert sprachmittlung sgb v schaf- fen',\n",
       "  'patientin selbstbestimmt informiert grundlage entscheidung treffen pro- blemen wirksam zeitnah durchsetzen krankenkasse',\n",
       "  'opfer behandlungsfehler leicht entschädigung erhalten struktur fehlervermeidung flä chendeckend einführen',\n",
       "  'ärztlich schweige pflicht patient innengeheimnis digitalisiert gesundheitsdate jederzeit wahren bleiben',\n",
       "  'herausfor derung gesundheitswesen vorsorge gut notfallversorgung verstärkt hilfe verletzli- che mensch chronisch kranke begegnen',\n",
       "  'gleichzeitig gesundheitswesen beitragen co,-emission verringern',\n",
       "  'pati ent innen angehörige ausführlich krankheit behandlungsoptione aufklären sodass entscheidun gen treffen wohlfühlen',\n",
       "  'zentral versorgungsbereich gesundheit mobilität breitband nötig mindeststandard formulieren',\n",
       "  'mindestbandbreit nutzungsgewohnheit mensch orientieren',\n",
       "  'brauchen sozial diverser inklusive schule jung mensch gemeinsam lernen',\n",
       "  'gemeinsam lernen spiel forschen entdecke gemeinsam kulturell sozial demokratisch erfahrung sprach bewegungsförderung indi- viduell förderung betreuung',\n",
       "  'gestaltung ganztag jugendhilfe wichtig partnerin schule ganztag schulisch lernen infor- mell bildung unerlässlich',\n",
       "  'leitbild integriert ganztagskon zept umfassend persönlichkeitsbildung',\n",
       "  'bekennen bewegung ziel who körperlich inaktivität kind jugendliche erwachsene prozent senken',\n",
       "  'brauchen helfend hand offen ohr frei raum weg normal leben zurückfinden',\n",
       "  'bauen sport erlebnis kulturangebot stärken beratung einzelfallhilfe schüler*inne vermittlung wissen psychisch gesundheit krise schule',\n",
       "  'fördern multiprofes- sionell team lehrkraft schulsozialarbeiter*innen erzieher*inn schulpsycholog innen schule region tätig fachkraft gegenseitig ergänzen unter- schiedlich perspektive bereichern schüler*inne familie bestmöglich unterstützen',\n",
       "  'partizipation schüler*in kooperation eltern verbessern schule unterstützungsorte familie',\n",
       "  'bildung höhe bringen   bildung digital welt wissensvermittlung schlüssel zukunftskompetenze',\n",
       "  'lehrer*innen kompetenzorientierung mittelpunkt lernen rücken schüler*inn spie- lerisch game-based learning kooperativ inhalt erschließen schule technisch optimal auf stellen',\n",
       "  'pandemie zeigen grundlage fehlen vergleich land',\n",
       "  'ändern zeitgemäß datenschutzfreundlich digital ausstattung struktur schule digital lehre lernen wirkungsvoll unterstützen kontinuierlich fort weiter bildungsangeboten pädagogisch fachpersonal zentral ort beratung austausch bildung digital welt',\n",
       "  'ziel schüler*inne art lernen ermöglichen selbst-   bundestagswahlprogramm',\n",
       "  'zukunftskompetenze kooperation kommunikation kreativität kritisch denken rele vanter',\n",
       "  'bne bildungsphase bildungsbereiche gemäß national aktionsplan bne verankern',\n",
       "  'anreiz kom munen schaffen kooperation land lokal regional bildungsnetzwerk initiieren unterstützen',\n",
       "  'schule ort verankern nachbarschaft entwick lung jeweilig potenzial kind ausrichten',\n",
       "  'stärken ausbildung studium   sicher ausbildungsperspektiven   trotz enorm fachkräftemangel sinken zahl jung men- schen berufsausbildung beginnen',\n",
       "  'internationalisieren akademisch beruflich bildung',\n",
       "  'studentisch krank versicherung insbesondere blick alter semestergrenze weiterentwickeln',\n",
       "  'ermöglichen lebensbegleitend lernen   rechtsanspruch weiterbildung   möglichkeit beruflich neuorientierung freiraum neue lernen modern wissensgesellschaft arbeitswelt umbruch chance bieten unerlässlich',\n",
       "  'abhängig beschäftigter beruflich qualifizierung weiterbildung einräumen freistellungsanspruch rückkehrrecht vorherig stundenumfang einführen',\n",
       "  'wissen dis- kriminierend wort tat',\n",
       "  'vertiefen stärken lähmende blockade strukturell überwinden zukunftsfrage beherzt angehen',\n",
       "  'lernend staat   corona klimakrise führen auge welcher her ausforderung regierung verwaltung umgehen',\n",
       "  'setzen anti-asiatisch rassismus national aktionsplan rassismus benennen',\n",
       "  'antisemitisch narrative israelbezogen antisemitismus verschwörungsideologisch erzählung zusammenhang demonstration pandemieleugner*in- nen unterschiedlich ort präventiv adressieren wer- digital raum',\n",
       "  'prävention auseinandersetzung antisemitis mus abseits geschichtsunterricht leitperspektive lehrplänen verankern',\n",
       "  'ziel gesellschaft mensch angst verschieden',\n",
       "  'selbstbestimmung gesundheitsversorgung   mensch körper leben ent- scheiden',\n",
       "  'einfach zugang krankenkasse regeln',\n",
       "  'brauchen bün del prävention schutz sanktionsmaßnahma',\n",
       "  'bereich schießsport setzen dialog sportschütz*inne umstellung nichttödlich schuss waffe',\n",
       "  'setzen stärkung gesundheitlich bevölkerungsschut- zes interdisziplinär bekämpfung zukünftig pande mi sicherstellen',\n",
       "  'gehören insbesondere schwimmsportstätt anspruch jeder kind schwimmen lernen',\n",
       "  'eu-handelsabkommen brauchen aus nehmen kommunal daseinsvorsorge öffentlich sozial dienstleistung',\n",
       "  'kapitel   international zusammenarbeiten   herausforderung global pandemie klima biodiversitätskrise hunger urbanisierung migration sozial-öökologische transformation besonderer aufgabe',\n",
       "  'bekenntnis freiheitsbewegung fahren grenze politi sch handlungsfähigkeit',\n",
       "  'who koordinierend organisation global gesundheit',\n",
       "  'zentral rolle pandemievorsorg bekämpfung stärken',\n",
       "  'verurteilen austritt türkei istanbul-konvention fordern rückgängig',\n",
       "  'fordern türkei genfer flüchtlingskonvention   vollumfänglich umsetzen',\n",
       "  'setzen vielfältig form zusammenarbeit stärkung zivilgesellschaft bemühen beteiligung kooperation bewältigung herausforderung klimawandel förderung unabhängig nachhaltig wirtschaftsstruktu ren jung mensch',\n",
       "  'bildung gesundheit schlüssel',\n",
       "  'gelten insbesondere angestoßen umsetzung ilo-konvention indigen volk abschließen',\n",
       "  'mensch subsidiäar schutzstatus ange hörig bisherig einschränkung nachholen geflüchtet gemäß genfer konvention gleichstellen',\n",
       "  'pushback national grenzpolizeie frontex begehen rechtlich politisch ahnden',\n",
       "  'iwf krisensituation liquidität unkonditioniert bereitstellen',\n",
       "  'streben ressource fähigkeitslücke bereich beheben zivil militärisch beitrag vn einsatz signifikant erhöhen',\n",
       "  'demokratisch gesell schaft vernetzen voneinander lernen kraft bündeln',\n",
       "  'brauchen lebendig kontrovers diskussion bereitschaft zustand konzept hinterfragen lernen voran',\n",
       "  'ärzt*in pfleger*in- nen krankenhaus enorm leisten',\n",
       "  'pandemie zeigen staat grenze geraten',\n",
       "  'altersvorsorge',\n",
       "  'd   daseinsvorsorge',\n",
       "  'empowerment   energie f',\n",
       "  'geburtshilfe     geflüchtete',\n",
       "  'gesundheit',\n",
       "  'gesundheitsberufe',\n",
       "  'gesundheitsversorgung     f',\n",
       "  'gesundheitsvorsorge',\n",
       "  'gesundheitswesen',\n",
       "  'istanbul-konvention',\n",
       "  'krisenprävention      krisenzeit',\n",
       "  'prävention   f',\n",
       "  'regional daseinsvorsorge',\n",
       "  'schwangerschaftsabbrüche',\n",
       "  'vorsorge',\n",
       "  'zivil krisenprävention'],\n",
       " 'Wissenschaft': ['gute zeigen gemeinsamkeit innovation kraft widerstandsfähigkeit mensch erreichen',\n",
       "  'kritisch infrastruktur sichern notstrom- fahig solaranlage',\n",
       "  'sinn möglichkeit eu-ebene nutzen',\n",
       "  'strom wärmeenergie dezentral ort erzeugen nutzen',\n",
       "  'anstellen freiflächenanlage lebensräumo',\n",
       "  'schritt erneuerbar energie zwingend versor gungssicherheit definieren prozent fläche bundes- nutzen',\n",
       "  'sektorenkopplung unterstützen systemdienlich nut- zung erneuerbar strom stärken regional unter schiede berücksichtigen',\n",
       "  'voraussetzung netzausbau systemdienlich erfolgen möglichkeit ausschöpfen bestehend netz optimal ausnutzen intelligent system speicher ergänzen',\n",
       "  'echtzeitinformation einheitlich ticketsystem öpnv standard',\n",
       "  'mobili tatskonzept barrierefrei teilnahme digital endgerät ermöglichen',\n",
       "  'sicherheit mobilitätswende   mensch alltag angstfrei fortbewegen unversehrt ziel erreichen',\n",
       "  'abschluss überprüfung projekt irreversibl fakt schaffen',\n",
       "  'marode wasserstraße umweltverträglich sanieren flussvertiefung moratorium grundsätzlich überprüfung rahmen neuaufstellung bundesnetzplan sinn un-dekade wiederherstellung öko system geben',\n",
       "  'einklang naturschutz wald besitzerverbänd setzen wald natur tierschutzge bejagungsmethode',\n",
       "  'eingriff natur verantwortbar risiko manipulation ausrottung population art gentechnisch methode sogenannter gene drives ausgeschlos- sen',\n",
       "  'einwegbecher minute nutzen bevor müll',\n",
       "  'kompliziert pfandsystem ent- wirr',\n",
       "  'treten eu-weit pfandsystem',\n",
       "  'streben wei- tere konsequent reduktion tierversuch wissenschaft klar ausstiegsstrategie innovati- ven forschungsmethod schnellstmöglich ersetzen',\n",
       "  'spitzenforschung quantencomputer modern biotechnologie',\n",
       "  'setzen klar vorgabe ökostandard umfas- send forschung förderprogramm',\n",
       "  'zahlreich innovation photovoltaik deuten potenzial technologie weit ausschöpfen',\n",
       "  'bestehend förderprogramm transfer anwendung rei chen',\n",
       "  'innova innovationsnetzwerk systematisch proaktiv flexibel för- dern aachen anklam flensburg füssen',\n",
       "  'shelter-system dänemark natur erlebbar',\n",
       "  'bereich künstlich intelligenz kl quantencomputing it-sicherheits- kom munikation biotechnologie entwick lung ökologisch batteriezell fördern technologisch souveränität sichern weltweit konkurrenz vorne mitspielen',\n",
       "  'verbessern innovation leben bedingung menschheit sichern wohlstand',\n",
       "  'start-up-wagniskapital richtung geben   technologisch exzellent bahnbre- chend technologie geschäftsmodell markt dienst leistung produkt umwandeln',\n",
       "  'digitalbranche kulturwandel erforderlich voll innovationspotenzial ausschöpfen',\n",
       "  'it-sicherheit längst wichtig standortfaktor',\n",
       "  'staatlich it-projekt it-sicherheit anfang mitgedacht implementieren',\n",
       "  'einerseits hoch it-sicherheitsstandards komponente digital infrastruktur nötig',\n",
       "  'gefahrenlag kon kret bewerten technisch rechtlich rechtsstaatlich sicherheitsrelevant geostrategisch aspekt prüfung einbeziehen',\n",
       "  'setzen zudem gentechnikfrei lieferkette',\n",
       "  'gute zeigen gemeinsamkeit innovation kraft widerstandsfähigkeit mensch erreichen',\n",
       "  'kritisch infrastruktur sichern notstrom- fahig solaranlage',\n",
       "  'sinn möglichkeit eu-ebene nutzen',\n",
       "  'strom wärmeenergie dezentral ort erzeugen nutzen',\n",
       "  'anstellen freiflächenanlage lebensräumo',\n",
       "  'schritt erneuerbar energie zwingend versor gungssicherheit definieren prozent fläche bundes- nutzen',\n",
       "  'sektorenkopplung unterstützen systemdienlich nut- zung erneuerbar strom stärken regional unter schiede berücksichtigen',\n",
       "  'voraussetzung netzausbau systemdienlich erfolgen möglichkeit ausschöpfen bestehend netz optimal ausnutzen intelligent system speicher ergänzen',\n",
       "  'echtzeitinformation einheitlich ticketsystem öpnv standard',\n",
       "  'mobili tatskonzept barrierefrei teilnahme digital endgerät ermöglichen',\n",
       "  'sicherheit mobilitätswende   mensch alltag angstfrei fortbewegen unversehrt ziel erreichen',\n",
       "  'abschluss überprüfung projekt irreversibl fakt schaffen',\n",
       "  'marode wasserstraße umweltverträglich sanieren flussvertiefung moratorium grundsätzlich überprüfung rahmen neuaufstellung bundesnetzplan sinn un-dekade wiederherstellung öko system geben',\n",
       "  'einklang naturschutz wald besitzerverbänd setzen wald natur tierschutzge bejagungsmethode',\n",
       "  'eingriff natur verantwortbar risiko manipulation ausrottung population art gentechnisch methode sogenannter gene drives ausgeschlos- sen',\n",
       "  'einwegbecher minute nutzen bevor müll',\n",
       "  'kompliziert pfandsystem ent- wirr',\n",
       "  'treten eu-weit pfandsystem',\n",
       "  'streben wei- tere konsequent reduktion tierversuch wissenschaft klar ausstiegsstrategie innovati- ven forschungsmethod schnellstmöglich ersetzen',\n",
       "  'spitzenforschung quantencomputer modern biotechnologie',\n",
       "  'setzen klar vorgabe ökostandard umfas- send forschung förderprogramm',\n",
       "  'zahlreich innovation photovoltaik deuten potenzial technologie weit ausschöpfen',\n",
       "  'bestehend förderprogramm transfer anwendung rei chen',\n",
       "  'innova innovationsnetzwerk systematisch proaktiv flexibel för- dern aachen anklam flensburg füssen',\n",
       "  'shelter-system dänemark natur erlebbar',\n",
       "  'bereich künstlich intelligenz kl quantencomputing it-sicherheits- kom munikation biotechnologie entwick lung ökologisch batteriezell fördern technologisch souveränität sichern weltweit konkurrenz vorne mitspielen',\n",
       "  'verbessern innovation leben bedingung menschheit sichern wohlstand',\n",
       "  'start-up-wagniskapital richtung geben   technologisch exzellent bahnbre- chend technologie geschäftsmodell markt dienst leistung produkt umwandeln',\n",
       "  'digitalbranche kulturwandel erforderlich voll innovationspotenzial ausschöpfen',\n",
       "  'it-sicherheit längst wichtig standortfaktor',\n",
       "  'staatlich it-projekt it-sicherheit anfang mitgedacht implementieren',\n",
       "  'einerseits hoch it-sicherheitsstandards komponente digital infrastruktur nötig',\n",
       "  'gefahrenlag kon kret bewerten technisch rechtlich rechtsstaatlich sicherheitsrelevant geostrategisch aspekt prüfung einbeziehen',\n",
       "  'setzen zudem gentechnikfrei lieferkette',\n",
       "  'spüren lassen kostbar gemeinsamkeit individuell glück mensch brauchen gefahr gesellschaft auseinanderdriftet',\n",
       "  'mensch benötigen übergang sicherheit',\n",
       "  'suchtpo tenzial gesundheitsrisik übermäßig nutzung digi- taler anwendung möchten begegnen',\n",
       "  'sorgen gleich berechtigt lebensentwurf lang benachteiligen',\n",
       "  'paar verheiraten entscheiden ein zel veranlagen weiterhin ehegattensplitting nutzen',\n",
       "  'pandemie gewappnen   corona-krise zeigen gesundheitssystem künf- tig pandemie gewappnet',\n",
       "  'stoßen umfassend analyse pandemiemanagement',\n",
       "  'europäisch ebene brauchen gemeinsam strategie koordinierung gemeinsam planung nutzung medizinisch notfallkapazitä ten europäisch frühwarnsystem gemein- sam erhebung nutzung relevant datum',\n",
       "  'besuch mobil zahnärzt*innen schule impfaktion pflegeheim gesundheitsförderung mensch unkompliziert erreichen brauchen stärkung öffentlichen gesundheitsdienst',\n",
       "  'ziel zusammenspiel gesundheitsdienst land kommune struktur öffentlich gesundheitsfürsorge universität hochschule neu schaffend bundesinstitut gesundheit gemein- sam stark säule öffentlich gesundheitsfürsorge aufzu- bauen',\n",
       "  'insbesondere einrichtung gemeinwohl- orientiert regional gesundheitszentr unterstützen gesundheitsberuf gemeinsam trägerschaft augen höhe zusammenarbeiten',\n",
       "  'vorgabe personalbemessung behandlung versorgungsqualität sichern qualitativ hoch- wertig bedarfsgerecht versorgung',\n",
       "  'fangen rettungsdienst mensch not umfas- sender medizinisch behandeln übrig gesundheitsversorgung gesetz regeln',\n",
       "  'gesundheitssystem schlechtergerechen',\n",
       "  'anspruch medizinisch maßnahme tran inter”-men- schen gesetzlich verankern',\n",
       "  'zwei-klassen-medizin profitieren nachteil vieler',\n",
       "  'patient*innensicherheit wol- len voranbringen',\n",
       "  'digitalisierung verbessern gesundheitsversorgung chance digitalisierung robotik unter   stützung pflege telemedizin elektronisch patient akt nutzen gesundheitssystem zukunftsfähig',\n",
       "  'gesundheitsdate anonymisieren nötig pseudonymisieren wissenschaft verfügung stellen gesundheitsversorgung deutschland verbessern',\n",
       "  'setzen unabhängig nutzenbewertung digital gesund heitsanwendung',\n",
       "  'aktuell beschäftigter medizinisch berufen belastungsgrenz hinaus arbeiten',\n",
       "  'grundsätzlich regulierung droge tatsäch lich gesundheitlich risiko orientieren',\n",
       "  'ver- sorgung medizinisch cannabis verbessern forschung unterstützen',\n",
       "  'bund einrichtung ostdeutschland gezielt ansiedlung forschungsinstitut strukturschwach regio n wichtig impuls setzen',\n",
       "  'gleich lebenschance kind gemeinsam lernen individuell förderung kind kita kita kindertagespflege schulabschluss einset- zen',\n",
       "  'auszubildende student*inn leiden auswirkung pandemie',\n",
       "  'wissenschaftliche kooperation europäisch partner*inna hochschu len tragen maßgeblich attraktivität innovationsdynamik deutsch wissenschaftssystem stark fördern',\n",
       "  'zeit informationsfilterblase verschwö rungsideologie wissenschaftlich erkenntnis öffentlich zweifel ziehen',\n",
       "  'nötig verständlich interdisziplinär wissenschaftsdialog wissenschaft gesellschaft nah zusam- menbringt partizipativ format förderung wissen schaftskommunikation',\n",
       "  'neugier entdeckungslust grundstein lernen kompetenzerwerb legen',\n",
       "  'anwendung quelloffen sicher lernplattform videokonferenzsystem umfassend fördern setzen umsetzung recht löschung personenbe zogen datum kind',\n",
       "  'gleichzeitig landen warteschleife übergangssystem',\n",
       "  'bundesebene weg bereiten vertretung studierend einführen',\n",
       "  'insgesamt kompetenz wissenschaft forschung ministerium zentral oberer bundesbehörde stärken ressortübergreifend zusamm arbeit forschungsherausforderung verbessern',\n",
       "  'gehören herausragend außeruniversitär for- schungseinrichtung genauso breit aufgestellt hochschule spitzenforschung',\n",
       "  'international sichtbar universitär spitzenforschung vermehrt studierend zugutekom- men exzellenzstrategie kooperativ weiterentwi ckeln',\n",
       "  'zukunft unser land hängen flexibel frei forschungslandschaft',\n",
       "  'fähigkeit richtig umgang information wissenschaftlich erkenntnis fundamental auf geklärt gesellschaft',\n",
       "  'stark einbeziehung zivilgesellschaft partizipativ vernetzend format sicher zugang information verständlich vermittlung wissen- schaftlich erkenntnis voraussetzung konstrukti- ves gegenseitig stimulierend verhältnis wissenschaft gesellschaft',\n",
       "  'zudem open access publikation standard erklären wissenschaftlich leitidee stark fördern wissenschaft voran- treiben',\n",
       "  'wol- len national forschungsdateninfrastruktur stärken chan cen europäisch cloud wissenschaft forschung ergreifen',\n",
       "  'tenure-track-programm wol len weiterentwickeln frühzeitig promotion sicher berufsweg entstehen',\n",
       "  'hinzu jung wissenschaftlerinn befristet arbeitsverhältnis',\n",
       "  'entgegen gemeinsam wissenschaftsorganisatio n strategie menschenfeindlich diskriminierend ver schwörungsideologisch anfeindung wissenschaftler*inne entwickeln',\n",
       "  'weltweit verfolgt wissenschaftler*in studierend deutschland eu-ebene schützen exil perspektive bieten',\n",
       "  'sensible datum forscher*inne arbeit nutzen behördlich zugriff schützen',\n",
       "  'verfahren dauern',\n",
       "  'sicherheit schutz jüdisch einrichtung gemeinde umfas- send',\n",
       "  'einrichtung studierendenwerk sinto zze rom nja vorantreiben setzen museum geschichte kultur sinto zze rom nja deutschland',\n",
       "  'barrierefreiheits-gesetz erreichen privat öffentlich anbieter*inn öffentlich zugänglich ange bot dienstleistung umfassend barrierefreiheit bund innerhalb herstellung barrierefreiheit gebäude verpflichten',\n",
       "  'gemeinnütziger journalismus brauchen rechtssicherheit',\n",
       "  'hasskriminalität netz bekämpfen   digital plattform anwendung mensch dienen umgekehrt',\n",
       "  'freie offen software bilden grundlage unzählig anwendung digital lernplattform sicher anwendung heimarbeit stärkung it-sicherheit verschlüsselung sicher einfach abstimmungsmög- lichkeit verein parteiarbeit',\n",
       "  'durchgehend ende-zu-ende-verschlüsselungen schützen grundrecht schaffen vertrauen digital anwendung standard staatlich it-vorhabe',\n",
       "  'istanbul-konvention instrument hand notwendig maßnahme beschreiben',\n",
       "  'operation medizinisch notwendig durchführen berücksichtigung streng datenschut- z zentral erfassen gut nachvollziehbarkeit betroffener gut datengrundlage erreichen',\n",
       "  'anspruch medizinisch körperangleichend maßnahme gesetzlich verankern sorgen kosten- übernahme gesundheitssystem gewährleisten',\n",
       "  'sicherheit überall gleichermaßen garantieren',\n",
       "  'polizeiforschung ermöglichen polizei stark öffnen',\n",
       "  'periodische sicherheitsbericht einführen aussagekraft vergangenheit bewähren',\n",
       "  'wissenschaft zivilgesellschaft vorhanden sach verstehen verfassungsfeindlich bestrebung systema- tischer nutzen',\n",
       "  'richten vorbild stasi-unterlagen-behörde archiv terror dokument ergebnis parlamen- tarisch untersuchungsausschüß nsu auswerten langfristig wissenschaftler*inne journalist*in zivilgesellschaft zugänglich',\n",
       "  'ziel gefährder*innen offen haftbefehl konsequent vollstrecken laufend verfahren ländergrenze hinweg zusammenziehen',\n",
       "  'sicherheit waffe   deutschland million legal waffe',\n",
       "  'zielgerichtete abwehr konkret gefahr   funktionierend demokratisch rechtsstaat sicherheit gewährleisten konstituierend freiheitsrecht wahren',\n",
       "  'zudem verpflichtung einführen sicherheitslücko melden aktiv behebung hinwirken',\n",
       "  'kinderschutz gericht verbessern   familienrechtlich verfahren entscheidung treffen erheblich auswirkung leben kind familie',\n",
       "  'reparatur   waschmaschine handy gerät landen kurz müll schnell kaputtgehen reparierbar softwareupdat anbieten wer',\n",
       "  'hardware gerät',\n",
       "  'vermittler*inn berater*inne künftig bafin beaufsichtigen wer',\n",
       "  'hybrid modell kooperation künstler innen wissenschaftler*in akteur*innen zivilgesellschaft meinen',\n",
       "  'kino festival unterstützen verläss- lich förderinstrument',\n",
       "  'ziel europäisch institution zweikammersystem weiterentwickeln',\n",
       "  'gerecht repräsentation region sicherheitsrat',\n",
       "  'zusätzlich setzen aktiv technologie wissenstransfer bezüglich herstellung entscheidend arzneimittel',\n",
       "  'diplomatisch multilateral verhandlung entsendung international organisation umset- zungseben durchsetzen',\n",
       "  'streben intensiviert dialog frieden sicherheit partner*inne indo-pazifik führen',\n",
       "  'bundesregierung kommission angesto- ßen verhandlung neu abkommen nutzen fehler vergangenheit lernen',\n",
       "  'sicherheit staat israel deutsch staatsräson',\n",
       "  'frieden sicherheit brauchen zweistaatenregelung grundlage grenze',\n",
       "  'international ebene setzen ausbau förderungsmöglichkeit zivilgesellschaft- lich initiative finanziell stärkung entsprechend schutzinstrument institution beispielsweise sonderbe richterstatter*inn',\n",
       "  'fördern entkriminalisierung verschlüsselt kommunikation stellen schwächung verschlüsselungstechnologie -standards entgegen stärken multi-stakeholder-governance internet international ebene',\n",
       "  'faktisch sinken zahl aufnah meplätze',\n",
       "  'fluchtursache strukturell angehen   bewusst ursache vertreibung beeinflussen',\n",
       "  'setzen gerecht han delssystem interesse mensch global süden dienen',\n",
       "  'stiftungskapital deutsch stiftung friedensforschung erhöhen neu eingerichtet fachbereich deutsch hochschule polizei wissenschaftlich einrichtung insbesondere personell strategie entfristung stark fördern',\n",
       "  'einsatz sicherheitsfirme international konflik ten streng regulieren privat militärfirme verbieten',\n",
       "  'sinn frieden stabilität autonomie waffensystem international verbindlich regulieren anwendung ethisch völkerrechtlich grundsatz verstoßen international verbindlich ächten verbieten',\n",
       "  'gleichzeitig erkennen system soldat innen gewiß situation schützen',\n",
       "  'mut experimentieren positiv fehlerkultur entwickeln',\n",
       "  'einflussnahme',\n",
       "  'forschung',\n",
       "  'forscher*in',\n",
       "  'gentechnikfreiheit',\n",
       "  'gesundheitssystem',\n",
       "  'innovation    ff',\n",
       "  'medizin   mehrheitsentscheidung',\n",
       "  'sicherheit',\n",
       "  'sicherheitsbehörde f',\n",
       "  'sicherheitsrat',\n",
       "  'sicherheitsversprechen f',\n",
       "  'versorgungssicherheit'],\n",
       " 'soziale Ursachen': ['ieittesaltentr',\n",
       "  '  bündnis grünen annkathrin schäfer   platz tor',\n",
       "  'inhalt   bereit',\n",
       "  'bündnis grünen     inhalt bereit',\n",
       "  'bündnis grünen legen programm inhaltlich angebot',\n",
       "  'zusammenhalt gesellschaft',\n",
       "  'bündnis grünen     kapitel',\n",
       "  'bündnis grünen   ie   kapitel',\n",
       "  'bündnis grünen     kapitel',\n",
       "  'bündnis grünen     kapitel',\n",
       "  'bündnis grünen     kapitel',\n",
       "  'alt anlage weiterbetrieb ermöglichen',\n",
       "  'bündnis grünen     kapitel',\n",
       "  'bündnis grünen     kapitel',\n",
       "  'bündnis grünen     kapitel',\n",
       "  'gelten altlast nachfolgend generation belasten',\n",
       "  'bündnis grünen     kapitel',\n",
       "  'bündnis grünen   gi   kapitel',\n",
       "  'bündnis grünen   dd   kapitel',\n",
       "  'bündnis grünen     kapitel',\n",
       "  'bündnis grünen     kapitel',\n",
       "  'bündnis grünen     kapitel',\n",
       "  'bündnis grünen     kapitel',\n",
       "  'wasser halten wasser landschaft',\n",
       "  'bündnis grünen     kapitel',\n",
       "  'bündnis grünen     kapitel',\n",
       "  'bündnis grünen     kapitel',\n",
       "  'pestizid wichtig hebel rückgang artenvielfalt stoppen',\n",
       "  'bündnis grünen     kapitel',\n",
       "  'bündnis grünen   gl   kapitel',\n",
       "  'ent- halten allergener kennzeichnen',\n",
       "  'bündnis grünen     kapitel',\n",
       "  'reserveantibiotika humanmedizin vorbehalten',\n",
       "  'bündnis grünen     kapitel',\n",
       "  'bündnis grünen     kapitel',\n",
       "  'bündnis grünen     kapitel',\n",
       "  'bündnis grünen     kapitel',\n",
       "  'bündnis grünen     kapitel',\n",
       "  'bündnis grünen     kapitel',\n",
       "  'fachkräftemangel bekämpfen   demografisch wandel kommend jah- ren zahl mensch erwerbsfähig alter millio nen schrumpfen',\n",
       "  'bündnis grünen     kapitel',\n",
       "  'bündnis grünen     kapitel',\n",
       "  'nachhaltig tourismus liegen hingegen riesig chance',\n",
       "  'bündnis grünen     kapitel',\n",
       "  'bündnis grünen     kapitel',\n",
       "  'bündnis grünen     kapitel',\n",
       "  'bündnis grünen     kapitel',\n",
       "  'effektiv modern datenschutz schützen menschenwürde nehmen ver starkt gesellschaft gänze blick abwehr überindividuell risiko kollektiv gestalten',\n",
       "  'bündnis grünen     kapitel',\n",
       "  'bündnis grünen     kapitel',\n",
       "  'bündnis grünen     kapitel',\n",
       "  'atomkraft grün geldanlage',\n",
       "  'bündnis grünen     kapitel',\n",
       "  'bündnis grünen     kapitel',\n",
       "  'bündnis grünen     kapitel',\n",
       "  'ieittesaltentr',\n",
       "  '  bündnis grünen annkathrin schäfer   platz tor',\n",
       "  'inhalt   bereit',\n",
       "  'bündnis grünen     inhalt bereit',\n",
       "  'bündnis grünen legen programm inhaltlich angebot',\n",
       "  'zusammenhalt gesellschaft',\n",
       "  'bündnis grünen     kapitel',\n",
       "  'bündnis grünen   ie   kapitel',\n",
       "  'bündnis grünen     kapitel',\n",
       "  'bündnis grünen     kapitel',\n",
       "  'bündnis grünen     kapitel',\n",
       "  'alt anlage weiterbetrieb ermöglichen',\n",
       "  'bündnis grünen     kapitel',\n",
       "  'bündnis grünen     kapitel',\n",
       "  'bündnis grünen     kapitel',\n",
       "  'gelten altlast nachfolgend generation belasten',\n",
       "  'bündnis grünen     kapitel',\n",
       "  'bündnis grünen   gi   kapitel',\n",
       "  'bündnis grünen   dd   kapitel',\n",
       "  'bündnis grünen     kapitel',\n",
       "  'bündnis grünen     kapitel',\n",
       "  'bündnis grünen     kapitel',\n",
       "  'bündnis grünen     kapitel',\n",
       "  'wasser halten wasser landschaft',\n",
       "  'bündnis grünen     kapitel',\n",
       "  'bündnis grünen     kapitel',\n",
       "  'bündnis grünen     kapitel',\n",
       "  'pestizid wichtig hebel rückgang artenvielfalt stoppen',\n",
       "  'bündnis grünen     kapitel',\n",
       "  'bündnis grünen   gl   kapitel',\n",
       "  'ent- halten allergener kennzeichnen',\n",
       "  'bündnis grünen     kapitel',\n",
       "  'reserveantibiotika humanmedizin vorbehalten',\n",
       "  'bündnis grünen     kapitel',\n",
       "  'bündnis grünen     kapitel',\n",
       "  'bündnis grünen     kapitel',\n",
       "  'bündnis grünen     kapitel',\n",
       "  'bündnis grünen     kapitel',\n",
       "  'bündnis grünen     kapitel',\n",
       "  'fachkräftemangel bekämpfen   demografisch wandel kommend jah- ren zahl mensch erwerbsfähig alter millio nen schrumpfen',\n",
       "  'bündnis grünen     kapitel',\n",
       "  'bündnis grünen     kapitel',\n",
       "  'nachhaltig tourismus liegen hingegen riesig chance',\n",
       "  'bündnis grünen     kapitel',\n",
       "  'bündnis grünen     kapitel',\n",
       "  'bündnis grünen     kapitel',\n",
       "  'bündnis grünen     kapitel',\n",
       "  'effektiv modern datenschutz schützen menschenwürde nehmen ver starkt gesellschaft gänze blick abwehr überindividuell risiko kollektiv gestalten',\n",
       "  'bündnis grünen     kapitel',\n",
       "  'bündnis grünen     kapitel',\n",
       "  'bündnis grünen     kapitel',\n",
       "  'atomkraft grün geldanlage',\n",
       "  'bündnis grünen     kapitel',\n",
       "  'bündnis grünen     kapitel',\n",
       "  'bündnis grünen     kapitel',\n",
       "  'bündnis grünen     kapitel',\n",
       "  'bündnis grünen     kapitel',\n",
       "  'bündnis grünen     kapitel',\n",
       "  'bündnis grünen     kapitel',\n",
       "  'bündnis grünen     kapitel',\n",
       "  'teilhabe schutz digital welt   kind jugendliche wachsen tablet smartphon co',\n",
       "  'bündnis grünen     kapitel',\n",
       "  'bündnis grünen     kapitel',\n",
       "  'bündnis grünen     kapitel',\n",
       "  'bündnis grünen     kapitel',\n",
       "  'bündnis grünen     kapitel',\n",
       "  'bündnis grünen   m   kapitel',\n",
       "  'bündnis grünen     kapitel',\n",
       "  'bündnis grünen     kapitel',\n",
       "  'bündnis grünen     kapitel',\n",
       "  'bündnis grünen     kapitel',\n",
       "  'bündnis grünen     kapitel',\n",
       "  'nächster wahlperiode weiche stellen',\n",
       "  'bündnis grünen     kapitel',\n",
       "  'bündnis grünen     kapitel',\n",
       "  'pflege angehörige einfach',\n",
       "  'bündnis grünen     kapitel',\n",
       "  'bündnis grünen     kapitel',\n",
       "  'bündnis grünen     kapitel',\n",
       "  'bündnis grünen     kapitel',\n",
       "  'bündnis grünen     kapitel',\n",
       "  'bündnis grünen     kapitel',\n",
       "  'bündnis grünen     kapitel',\n",
       "  'bündnis grünen     kapitel',\n",
       "  'bündnis grünen     kapitel',\n",
       "  'bündnis grünen     kapitel',\n",
       "  'bündnis grünen     kapitel',\n",
       "  'bündnis grünen     kapitel',\n",
       "  'bündnis grünen     kapitel',\n",
       "  'schwierigkeit text verstehen somit gesellschaftlich teilhabe beeinträchtigen',\n",
       "  'ursache liegen vorschulalter',\n",
       "  'bündnis grünen     kapitel',\n",
       "  'behörde nachhaltig wandel ermöglichen bremsen',\n",
       "  'bündnis grünen     kapitel',\n",
       "  'wissenschaft wirtschaft gesellschaft',\n",
       "  'bündnis grünen     kapitel',\n",
       "  'groß diversität wissenschaft helfen geschlechterspezifisch datenlücke verringern perspektive einbringen',\n",
       "  'bündnis grünen     kapitel',\n",
       "  'stärke zuhören dialog suchen inhaltlich ringen',\n",
       "  'rassismus treffen',\n",
       "  'zusammenleben gestalten hängen stark zusam- menspiel bürger innen staat',\n",
       "  'bündnis grünen     kapitel',\n",
       "  'bündnis grünen     kapitel',\n",
       "  'bündnis grünen     kapitel',\n",
       "  'bündnis grünen     kapitel',\n",
       "  'bündnis grünen     kapitel',\n",
       "  'konsequent rassismus   rassismus realität alltag straße netz institu- tion',\n",
       "  'bündnis grünen     kapitel',\n",
       "  'minderheitenrecht erhalt sprache geschichte kultur sinto zze rom nja gewähr- leisten',\n",
       "  'bündnis grünen     kapitel',\n",
       "  'lobbyismus transparent einfluss organisiert interessensgruppe lobbyist*in- nen sichtbar',\n",
       "  'bündnis grünen     kapitel',\n",
       "  'bündnis grünen     kapitel',\n",
       "  'basis evaluation wahlalter wahlalter ggf',\n",
       "  'bündnis grünen     kapitel',\n",
       "  'porno-plattformen nutzergeneriert inhalt hosten besonderer sorgfaltspflich ten gelten mensch schützen bildmaterial wille zeigen',\n",
       "  'software allgemeinheit   alltag häufig teilhabe zugang soft ware prägen',\n",
       "  'bündnis grünen     kapitel',\n",
       "  'initiative verband eigenständig bleiben sorgen klarheit rechtssicherheit gemeinnützigkeit',\n",
       "  'bündnis grünen     kapitel',\n",
       "  'bündnis grünen     kapitel',\n",
       "  'bündnis grünen     kapitel',\n",
       "  'bündnis grünen     kapitel',\n",
       "  'bündnis grünen     kapitel',\n",
       "  'akzeptanz sexuell geschlechtlich vielfalt vorlegen ziel lsbtiq gleichbe- rechtigt teilhabe gesellschaftlich leben garantieren akzeptanz vielfalt fördern',\n",
       "  'lsbtiq sexualisiert gewalt betreffen',\n",
       "  'diebstahl einbruch gewalttat hassverbrechen organisieren kriminali belasten opfer angehörige dennoch schwer',\n",
       "  'bündnis grünen     kapitel',\n",
       "  'bündnis grünen     kapitel',\n",
       "  'bündnis grünen     kapitel',\n",
       "  'freiwillig spontanhelfer*in- nen-engagement stärken digital bereich cyber-hilfswerk fit',\n",
       "  'bündnis grünen     kapitel',\n",
       "  'bündnis grünen     kapitel',\n",
       "  'bündnis grünen     kapitel',\n",
       "  'bündnis grünen     kapitel',\n",
       "  'gesellschaft vielfalt kulturschaffen sichtbar',\n",
       "  'bündnis grünen     kapitel',\n",
       "  'bündnis grünen     kapitel',\n",
       "  'fußball publikumssport gelten partizipationsmöglichkeit fan erhöhen stark gesellschaftlich verankern',\n",
       "  'zuletzt berlin bestenfalls verwalten oftmals bremsen',\n",
       "  'bündnis grünen   il   kapitel',\n",
       "  'bündnis grünen     kapitel',\n",
       "  'bündnis grünen     kapitel',\n",
       "  'bündnis grünen     kapitel',\n",
       "  'hebel nutzen global transformation gerecht gestalten ambitio- niert standard setzen',\n",
       "  'bündnis stärken selbstbewusst mitge- stalt',\n",
       "  'reichen hand teilhaben',\n",
       "  'bündnis grünen     kapitel',\n",
       "  'bündnis grünen     kapitel',\n",
       "  'bündnis grünen     kapitel',\n",
       "  'bündnis grünen     kapitel',\n",
       "  'bündnis grünen     kapitel',\n",
       "  'bündnis grünen     kapitel',\n",
       "  'festhalten sanktion bedarf verschärfen',\n",
       "  'bündnis grünen     kapitel',\n",
       "  'bündnis grünen     kapitel',\n",
       "  'bündnis grünen     kapitel',\n",
       "  'minderheit schützen   umgang minderheit gradmesser mensche rechtsschutz gesellschaft',\n",
       "  'bündnis grünen     kapitel',\n",
       "  'kom- mission stellen sicher gemeinsam regel standard einhalten mensch gelten',\n",
       "  'bündnis grünen     kapitel',\n",
       "  'möglichkeit digital antrag stellen wartezeit visum familienangehöriger verkürzen',\n",
       "  'global pakt flüchtling weltgemeinschaft übereingekommen resettlement verstärken',\n",
       "  'bündnis grünen     kapitel',\n",
       "  'bündnis grünen     kapitel',\n",
       "  'bündnis grünen     kapitel',\n",
       "  'onell sicherheitsbegriff menschlich sicherheit rücken bedürfnis mensch fokus',\n",
       "  'bündnis grünen     kapitel',\n",
       "  'bündnis grünen     kapitel',\n",
       "  'bündnis grünen     kapitel',\n",
       "  'bündnis grünen     kapitel',\n",
       "  'sicherheitspolitik entgegenwirken',\n",
       "  'jetzig politisch ära beginn politisch selbstverständnis ses miteinander',\n",
       "  'bündnis grünen     epilog epilog     bereit',\n",
       "  'bündnis grünen     epilog epilog   bereit',\n",
       "  'wahl entscheiden gesellschaft  ',\n",
       "  'alt     f',\n",
       "  'altersarmut',\n",
       "  'artenvielfalt',\n",
       "  'asyl ff',\n",
       "  'asylrecht',\n",
       "  'bündnis grünen     stichwortregister stichwortregister   bereit',\n",
       "  '  diversität',\n",
       "  'engagement',\n",
       "  'bündnis grünen     stichwortregister stichwortregister   bereit',\n",
       "  'geschlechtervielfalt   gesellschaftlich teilhabe',\n",
       "  'inklusion',\n",
       "  '  innovationspolitik',\n",
       "  'integration      f',\n",
       "  'kolonialismus',\n",
       "  'kulturell vielfalt',\n",
       "  'bündnis grünen     stichwortregister stichwortregister     bereit',\n",
       "  'lsbtio      m   marginalisiert gruppe',\n",
       "  'migration     minderheit /minderheitenschutz    mindestlohn',\n",
       "  'n   nachhaltigkeit   ',\n",
       "  '    nachhaltigkeitsziel',\n",
       "  'offen gesellschaft    ökologie    ökologisch landwirtschaft',\n",
       "  'r   rassismus',\n",
       "  'bündnis grünen     stichwortregister stichwortregister   bereit',\n",
       "  'sexualisiert gewalt',\n",
       "  't   tarif   teilhabe   f',\n",
       "  'bündnis grünen     stichwortregister stichwortregister   bereit',\n",
       "  'wahlalter',\n",
       "  'wirtschaftssystem    wissenschaft',\n",
       "  'bündnis grünen     stichwortregister informieren mitmachen  '],\n",
       " 'Politik und Ideologie': ['bundestagswahlprogramm',\n",
       "  'bundestagswahlprogramm   bundesdelegiertenkonferenz bündnis grünen beschließen   juni digital stattfinden',\n",
       "  'herausgeberin   bündnis grünen platz tor',\n",
       "  'de   titelgestaltung neu tor eins kommunikationsberatung gmbh berlin   druck frank druck gmbh co',\n",
       "  'com bundestagswahlprogramm',\n",
       "  'bündnis grünen             bundestagswahlprogramm',\n",
       "  'vollenden europäisch wirtschaft   währungsunion',\n",
       "  'kapitel   solidarität sichern',\n",
       "  'schaffen gerechtigkeit geschlecht',\n",
       "  'sichern sozial netz',\n",
       "  'geben gesundheit pflege   wert',\n",
       "  'schaffen bezahlbar wohnraum',\n",
       "  'kapitel   bildung forschung ermöglichen',\n",
       "  'fördern bildung anfang',\n",
       "  'bundestagswahlprogramm bündnis grünen   inhalt inhalt   bereit',\n",
       "  'bündnis grünen                            bundestagswahlprogramm',\n",
       "  'verteidigen menschenrecht schützen geflüchteter   streiten gerecht weltwirtschaftsordnung   treten frieden sicherheit   regieren augenhöhe zukunft   stichwortregister              bundestagswahlprogramm',\n",
       "  'bundestagswahlprogramm',\n",
       "  'bündnis grünen bundestagswahlprogramm',\n",
       "  'einladung   liebe wähler*innen   wahl entscheiden gesellschaft',\n",
       "  'gelten bundestagswahl   september',\n",
       "  'zukunft einfach widerfähren',\n",
       "  'lieb wähler innen stimme entscheiden richtung nehmen',\n",
       "  'global ausnahmezustand',\n",
       "  'schwachstelle gesellschaft schonungslos offenlegen ohnehin verwundbar welt',\n",
       "  'wahl entscheiden kri sen kopf wachsen hinaus',\n",
       "  'solidarität gesell schaft verletzlichst stark schutz geben',\n",
       "  'erleben fragil status -- zerbrechlich rein profit ausgerichtet wirtschaft bedeutung grundrecht stark gesellschaft',\n",
       "  'erfahren begrenzt natio nal antwort global frage sehen unsicher heit entstehen sicht fahren notwendig   bundestagswahlprogramm',\n",
       "  'bündnis grünen     einleitung einleitung     bereit',\n",
       "  'voll gleichberechtigung geschlechter erreichen vielfältig einwanderungsgesell schaft gestalten',\n",
       "  'lage fest entschließen europa wertegemeinschaft demokratisch stärken global sys- temwettbewerb gerecht handlungsfähig',\n",
       "  'lässt international solidarität meistern art leben wirtschaften gestalten krise ort welt verschärfen',\n",
       "  'aufschwung schaf fen rein ökonomische hinausgehen',\n",
       "  'schlagen konkret ehrgeizig projekt politisch handeln bundesregierung kommend',\n",
       "  'aufgabe wider   bundestagswahlprogramm',\n",
       "  'bündnis grünen bundestagswahlprogramm',\n",
       "  'letzter zeigen mensch gesellschaft politik voraus',\n",
       "  'lieb wähler innen mandat erteilen projekt schritt schritt umsetzen schaffen grundlage jahrzehnt mutig vorangehen machen gelingen',\n",
       "  'manch tradition weise tragen bringen manch neue begründen manch gewohnte ablösen schaffen sicherheit übergang',\n",
       "  'ära politisch kurzfristigkeit bringen lang atem klar kompass durchsetzungsfähigkeit land herz europa welt zuwenden gut zukunft führen',\n",
       "  'erstmals geschichte bundesrepublik kämpfen bündnis grünen politisch führung land inhaltlich personell',\n",
       "  'stehen fest werte fundament tief verwurzeln gesellschaft',\n",
       "  'wachsen stärken durch regieren kommu- nen land bund',\n",
       "  'bundestagswahlprogramm',\n",
       "  'bündnis grünen     einleitung kapitel',\n",
       "  'klima- neutralität chance hoch lebensqualität sozial gerechtigkeit klimagerecht wohlstand',\n",
       "  'bäuer*innen zunehmend grundlage entziehen',\n",
       "  'entschieden handeln desto freiheit alternative sichern jetzig künftig generation',\n",
       "  'stellen künftig regierung pariser klimaabkommen mittelpunkt richten handeln ministerium',\n",
       "  'klimagerechtigkeit frage politisch kanon',\n",
       "  'solch klar politisch ordnungsrahmen ent- last mensch alltag schaffen freiheit',\n",
       "  'bedeuten klimaneutralität veränderung ver- änderung schaffen halt zukunft',\n",
       "  'bewahren   bundestagswahlprogramm',\n",
       "  'bündnis grünen bundestagswahlprogramm',\n",
       "  'zukunft leise sauber gesünd günstig sozial gerecht',\n",
       "  'mensch herausforderung zumutung',\n",
       "  'chance weiterbildung brauchen bekommen',\n",
       "  'aufgabe sorge tragen kosten belastung veränderung gerecht verteilen',\n",
       "  'lebensgrundlage schützen ökologisch krise arte sterben eindammen bedürfen kurskor rektur brauchen kurs',\n",
       "  'plane- tar grenze leitprinzip politik tragen umweltgerechtigkeit',\n",
       "  'belohnen fördern mensch tier klima natur   bundestagswahlprogramm',\n",
       "  'grundlage friedlich zusammenleben',\n",
       "  'brauchen zuallererst massiv ausbauoffensive erneuerbaren schnell umsetzen',\n",
       "  'ausbaupfad kraft kapazität industrie handwerker*innen beschränken politisch rahmenbedingung begrenzen',\n",
       "  'ziel sofort jahrlich zubau mindestens gigawatt gw wind land   bundestagswahlprogramm',\n",
       "  'bündnis grünen bundestagswahlprogramm',\n",
       "  'mitte r gw wind see   gw   bereich solarenergie ausbau beginnend gw gw pro steigern mitte r',\n",
       "  'erzeugungsspitze prinzip nutzen abschalten speicher produktion wärme grün wasserstoff nutzbar',\n",
       "  'doppelt belastung bremsklötze schaffen',\n",
       "  'verteilnetze verbraucher innen statten intelligent technik flexibel reagieren erneuerbar strom produzieren',\n",
       "  'klar ordnungsrechtlich vorgabe',\n",
       "  'ordnungsrahmen sozial-ökologische marktwirtschaft   wirtschaft klimaneutralität plane- tar grenze ausrichten kreislaufwirtschaft etablieren',\n",
       "  'bundestagswahlprogramm',\n",
       "  'wirtschaftlich aufbruch corona-krise oko logisch modernisierung zusammenbringen',\n",
       "  'brauchen sozial ökologisch neubegründung marktwirtschaft',\n",
       "  '- reduktionsziele produktstandard deutsch europäi sch wirtschaft planungssicherheit geben impuls investition setzen',\n",
       "  'forschung innovation klimagerecht wirtschaften stark fördern',\n",
       "  'hierzu fördern priorisieren digital anwendung lösung beitrag ressourcenscho nung leisten nachhaltig analog',\n",
       "  'rebound-effekt gelten generell vermeiden suffizienz unterstützen',\n",
       "  'fördern alternative kritisch rohstoff selten erde menschenrechtskonform gewinnung',\n",
       "  'ausschreibung beschaf fungskriterien anpassen möglichst sozial-ökologisch nachhaltig technologie vorrangig einsatz',\n",
       "  'it- beschaffung bund faktor herstellerabhängig keit folgebeschaffung technisch offenheit sicherheit datenschutz reparaturfähigkeit nachhaltigkeit sozial kriterium zwingend bewertung einfließen zertifizierung blau engel it-produkt standard',\n",
       "  'reche datencenter bund nachhaltig umstellen erneuerbar ener gie betreiben zertifiziert umweltfreundlich hardware einset- zen',\n",
       "  'gelten anreiz schaffen stromverbrauch rechenzentr reduzieren einschließlich umstellung wasser kühlungssysteme co,-neutral rechenzentr fördern',\n",
       "  'bundestagswahlprogramm',\n",
       "  'bündnis grünen bundestagswahlprogramm',\n",
       "  'weg klimaneutrali kommend hunderttausend job entstehen green job',\n",
       "  'förderung wirtschaftsfeldern',\n",
       "  'brauchen ökolo- gisch transformation bess angebot weiterbil dung qualifizierung',\n",
       "  'weiterbildung einführen weiterbildungsgeld erwerbstätig qualifizierungsphase sozial absicherung schaffen',\n",
       "  'bundestagswahlprogramm',\n",
       "  'region insbesondere ansässig mittlerer unterneh men unterstützen regional transformationsfond auf legen',\n",
       "  'regional akteur*inn wissenschaft politik wirt- schaft gewerkschaft einbinden gemein- sam vision erarbeiten region sozial wirtschaftlich zukunft stehen',\n",
       "  'gleichzeitig format real labore experimentierraum fördern zivilgesellschaft wissenschaft wirtschaft kommune gemeinsam lösung herausforderung ort arbeiten forschen',\n",
       "  'klimaschutz-sofortprogramm auflegen   zentral grundlage politik klimaabkommen paris bericht weltklimarat grad-limit verdeutlichen jeder zehntelgrad zählen überschreiten relevant kipppunkte klimasystem verhindern',\n",
       "  'unmittelba res substanziell handeln nächster entscheidend',\n",
       "  'grad-ziel -prozentig wahrscheinlichkeit zielerreichung gigatonne co',\n",
       "  'bündnis grünen bundestagswahlprogramm',\n",
       "  'aktuell berechnung umweltbundesamt verursachen emission tonne co schaden euro',\n",
       "  'können rauskaufe teilhaben',\n",
       "  '-beprei- sung instrument wirksam sozial gerecht einsetzen',\n",
       "  'eu-emissionshandelssystem ets licht eu-klimaziel reformieren lenkungswirkung voll erfüllen',\n",
       "  'deut- lich reduktion emissionszertifikat löschung über- schüssig zertifikat markt erreichen co',\n",
       "  'bereich verkehr wärme deutschland druck   bundestagswahlprogramm',\n",
       "  'klimabewegung grüne zudem co',\n",
       "  'erhöhung co',\n",
       "  'klimafreundlich verhalten belohnen finden sozial ausgleich system',\n",
       "  'unterm strich gering verdiener*innen familie entlasten mensch hoch einkommen belasten',\n",
       "  'co,-bremse   bundestagswahlprogramm',\n",
       "  'bündnis grünen bundestagswahlprogramm',\n",
       "  'schaffen versorgungssicherheit erneuerbar   schnell raus kohle   wille koalition deutschland kohle kraftwerk klima gesundheit scha-',\n",
       "  'gelingen bes- ten eu emissionshandel lenkend co',\n",
       "  'gesundheitsschutz grenzwert ausstoß schadstoff insbesondere quecksilber großfeuerungsanlage anschärfen',\n",
       "  'bund richtig rah menbedingungen unterstützen',\n",
       "  'bundestagswahlprogramm',\n",
       "  'leasing pacht contractingmodelle unterstützend wirken',\n",
       "  'erhaltenswert bausub tanz lösungsansatz erarbeiten',\n",
       "  'mieterstrom-regel deutlich vereinfachen mieterstromprojekt fördern',\n",
       "  'bürokratische hürde nutzung strom dach abbauen eigenverbrauch direktvermarktung stärken',\n",
       "  'photovoltaik land   photovoltaik dach fläche bringen politisch rechtlich rah menbedingungen verbessern bau erleichtern',\n",
       "  'gartenbaulich nutzung flä che wichtig beitrag klimaschutz ökologie leisten',\n",
       "  'bundestagswahlprogramm',\n",
       "  'bündnis grünen bundestagswahlprogramm',\n",
       "  'windenergieausbau wirtschaftsstandort deutschland sichern   windkraft schnell vorankommen bei- spiel ausbau außerhalb ausschreibung stärken',\n",
       "  'windausbau gelten konflikt natur artenschutz minimieren anwohner innen schützen verfahren genehmigung abbau bürokratisch hürde klar rahmenbedingung beschleunigen',\n",
       "  'verhinderungsplanung lehnen',\n",
       "  'exzessiv pauschal mindestabstand siedlung leisten beitrag akzeptanzsteigerung',\n",
       "  'eignungsgebiet wind ausschlussgebieter gezielt artenschutzprogramm anwohner*innenfreundliche naturverträglich standort wahl stärken schutz vögeln fledermäuse',\n",
       "  'planung genehmigung vereinfacht verfahren personal einheitlich bewertungsmaßstäbe beschleunigen',\n",
       "  'bauen offshore-park verbinden europäi sch energieunion solarpark mittelmeerstaat wasserkraft skandinavien alpen',\n",
       "  'zudem mieterstrom fördern entbürokratisieren weiterentwickeln mieter in nen stark ausbau erneuerbare profitieren',\n",
       "  'grün wasserstoffstrategie   wasserstoff erneuerbar energie sogenannter grün wasser stoff zentral versorgungssicherheit klimaneutral welt',\n",
       "  'deutschland technologie erzeugung wasserstoff vorne',\n",
       "  'führungsrolle ausbauen   bundestagswahlprogramm',\n",
       "  'bündnis grünen bundestagswahlprogramm',\n",
       "  'grün wasserstoff prioritär produzieren bedarfsdeckung wasserstoff importieren',\n",
       "  'erfolg kooperation unabding bar lokal bevölkerung einbeziehen menschenrecht schüt- zen nachhaltig entwicklungsziel orientieren verbindlich standard einführen',\n",
       "  'ziel erneuerbar energie effizient wirtschaftlich nutzen elek- trolyseure systemdienlich einsetzen',\n",
       "  'wasserstoff syn- thetisch kraftstoff verzögerungstaktik aktiv klimaneutralität beitragen',\n",
       "  'direkt nut- zung strom batterie wärmepumpe regel effizient',\n",
       "  'treiben grundlegend reform energierecht voran',\n",
       "  'wind solaranlage   bundestagswahlprogramm',\n",
       "  'benötigen eeg- zahlung trend langfristig lieferverträg ökostromerzeuger verbraucher*inne unterstützen entwicklung',\n",
       "  'endkund*inn strom künftig direkt ökostromerzeu kaufen',\n",
       "  'eeg entwickeln förder absicherungsinstrument erneuerbaren-ausbau',\n",
       "  'eeg- umlage langfristig automatisch auslaufen',\n",
       "  'netzausbau beschleunigen   energiewende erfolg führen netz schnell ausbauen',\n",
       "  'klug mix lokal erzeugung speichern flexibl verbraucher senken kosten erhöhen versorgung sicherheit',\n",
       "  'erhöhen qualität planung tragen nachweislich potenziell klagegründe beginn gemeinsam ausräumen gericht klären',\n",
       "  'möglichkeit staatlich anteil übertragungsnetzbetreiber deutschland erhöhen bundesnetzgesellschaft bundeshand überführen',\n",
       "  'bundestagswahlprogramm',\n",
       "  'bündnis grünen bundestagswahlprogramm',\n",
       "  'aussöhnung baukultur energetisch sanierung klar regelung schaffen ziel angemessen',\n",
       "  'sanierungsquote schnell verdoppeln steigern',\n",
       "  'einsatz seriell sanierung weg',\n",
       "  'bestand gelten eigentümerwechsel sanierungsfahrplan vorlegen',\n",
       "  'umsetzung sanierungsfahrplan kön n förderprogramm unterstützend wirken',\n",
       "  'wärmewend fair gestalten   wärmewender wirksam mieter innenschutz gezielt förderung einhergehen',\n",
       "  'zuschuss wohngeld kli   bundestagswahlprogramm',\n",
       "  'wer- atomausstieg deutschland vollend',\n",
       "  'ziel atomfabriko gronau lingen schnellstmöglich schließen',\n",
       "  'gesamtkonzept vor- aussetzung',\n",
       "  'sorgen lagerung tran port streng überwachen',\n",
       "  'eu ein steigen ausstieg vorantreiben',\n",
       "  'setzen reform euratom privilegierung förderun gen atomkraft verbindlich sicherheitsstandard   bundestagswahlprogramm',\n",
       "  'bündnis grünen bundestagswahlprogramm',\n",
       "  'atomanlag europa',\n",
       "  'alt unsicher reakto ren deutschland grenze schnell netz nehmen',\n",
       "  'einspruchsmöglichkeit neubau laufzeitverlängerung atomanlag europa ausschöpfen gemein- samen haftung staat atomunfälle aussteigen',\n",
       "  'umfas- send ausbildung forschungsoffensiv starten',\n",
       "  'lärmschutz dichtbefahren bestandsstreck verstärken barrierefreiheit bahn erreichen',\n",
       "  'bundestagswahlprogramm',\n",
       "  'bündnis grünen bundestagswahlprogramm',\n",
       "  '  bundestagswahlprogramm',\n",
       "  'ziel erreichen pro-kopf-investitione gemein sam land kommune deutlich erhöhen',\n",
       "  'vernetzung open-data-prinzip offen schnitt stellen beachten',\n",
       "  'mobilpass sozialtarife ticketlos nutzung fördern',\n",
       "  'fahrgastrecht automatisiert entschädi- gungsverfahren stärken',\n",
       "  'bundestagswahlprogramm',\n",
       "  'bündnis grünen bundestagswahlprogramm',\n",
       "  'tempo   regel abweichung tempo ort ausweisen',\n",
       "  'setzen reduzierung unnötig mutwillig lärm laut motor- radern pkw ausgehen',\n",
       "  'emission steigen brauchen trendwende',\n",
       "  'erreichen klimaneutralität autoverkehr abneh- men gleichzeitig emissionsfrei',\n",
       "  'auto weiterhin wichtig',\n",
       "  'dür- fen emissionsfrei auto neu zulassen weg dorthin bereiten europäisch co,-flottengrenzwerte ansteigend national quote grad-pfad orien- tier',\n",
       "  'relevant maß bisherig verbrennerfahrzeug e-auto ersetzen anteil mindestens million fahrzeug steigen',\n",
       "  'kaufförderung emissions- frei auto bonus-malus-system überführen elektro leichtfahrzeuge öffnen',\n",
       "  'klimafreundlich auto billig klimaschädlich teuer',\n",
       "  'umrüstung bestehend verbrenner emissionsfrei auto fördern',\n",
       "  'zudem nut- zen regulierung verpflichtend verbraucherinformation anreiz auto insgesamt leicht effizient',\n",
       "  'laden flachendeckend deutschland europa schnell ökologisch güns- tig bequem',\n",
       "  'reißen klima nachhaltigkeitsziel führen tagtäglich stau',\n",
       "  'vermeidung verkehr resultierend belastun   bundestagswahlprogramm',\n",
       "  'bündnis grünen bundestagswahlprogramm',\n",
       "  'bisherig bundesverkehrswegeplan ansprü chen gerecht',\n",
       "  'schützen wohngebiet wald wasser moore artenvielfalt lebensgrundlage',\n",
       "  'schränken einseitig autozentrierung autonomie kin dern jugendliche mensch auto stark',\n",
       "  'e-auto insbesondere paket solaranlage dach stromspeicher keller wandladestation garage zukunftsfähig lösung',\n",
       "  'carsharing flächen- deckend verfügbar errichtung carsharing-statio- nen fördern rentabl standort',\n",
       "  'bündnis grünen bundestagswahlprogramm',\n",
       "  'temporäre umgestaltung pop-up- bikelanes erleichtern best-practice- lösung tes- ten',\n",
       "  'fliegen nachhaltig zukunftsfähig lang- fristig unabhängig fossil treibstoff',\n",
       "  'sorgen strikt europäisch emissionshandel förderung modern flug zeugtechnologien erhöhung beimischungsquot klar anstiegspfad fossil kerosin strombasiert   bundestagswahlprogramm',\n",
       "  'gesundheitsschutz grenzwert ultrafeinstaub festlegen',\n",
       "  'klimaneutral deutschland güterverkehr zukunftsfähig emissionsfrei lärminten- siv',\n",
       "  'ambitionier- ten co,-flottengrenzwert quote förderung klimafreund- lich antrieb schnell aufbau entsprechend infra   bundestagswahlprogramm',\n",
       "  'bündnis grünen bundestagswahlprogramm',\n",
       "  'bundesamt güterverkehr personell aufstocken befugnis erteilen',\n",
       "  'bundestagswahlprogramm',\n",
       "  'krise artenvielfalt überwinden massenhaft artensterbe beenden brauchen landnutzung',\n",
       "  'sofortprogramm artenschutz auflegen pestizideinsatz deutlich verringern einsatz schädlich umweltgift glyphosat untersagen',\n",
       "  'verkauf naturwertvoll bundeseigen fläche entwässerung moorstandort stoppen militärisch konversionsfläche naturschutz verfügung stellen',\n",
       "  'bes- seren vernetzung schutzgebiet naturschutzkorridore schaffen',\n",
       "  'wildnis fonds ausbauen mindestens prozent landesfla che echt wildnis entwickeln pflanze tier ungestört leben',\n",
       "  'vielfälti- gen kulturlandschaft bedeutung schutz natur',\n",
       "  'bündnis grünen bundestagswahlprogramm',\n",
       "  'deutlich   gemeinsam land kommune instrument umsetzen bauen jetzig ackerland naturboden wirksam begrenzen',\n",
       "  'fördern entwicklung gesund wald kohlenstoff binden heraus- holen freisetzen',\n",
       "  'biologische vielfalt land meer schützen   artenrückgang zerstörung natürlich lebensraum schrei- ten global voran',\n",
       "  'ambitioniert abkommen vereint nation erhalt biologisch viel- falt einsetzen deutschland umsetzen',\n",
       "  'entsprechend   bundestagswahlprogramm',\n",
       "  'biodiversitätsstrategie europäisch union mindestens',\n",
       "  'un-ziel nachhaltig entwicklung über- all leitprinzipi verankern kohärent politik sorgen',\n",
       "  'unterstüt- zen programm stopp global entwaldung schutz wiedereinwanderung ansiedlung bedroht art',\n",
       "  'gezielt art schutzprogramm zoo wissenschaftlich institut unterstützen haltung tier verbessern',\n",
       "  'lebensraum deutschland international verantwor tung tragen wattenmeer alt buchenwälder gemeinsam land schützen entwi- ckeln',\n",
       "  'fluß moore schützen renaturieren   renaturierung fluß aue wald wiederver nassung moore all schützen selten lebensraum biologisch vielfalt klima',\n",
       "  'renaturierungsoffensive starten',\n",
       "  'naturnah bach letzter frei fließend fluß elbe erhalten bleiben ausbau lehnen gelten tideelbe',\n",
       "  'maßnahme ökologisch zustand fließgewass verschlechtern erlauben',\n",
       "  'vorgabe europäi sch durchsetzen',\n",
       "  'fluß weit au überschwemmungsgebiet gut schutz hoch   bundestagswahlprogramm',\n",
       "  'bündnis grünen bundestagswahlprogramm',\n",
       "  'spezifisch programm wild bach naturnah fluß see aue feuchtgebiet blau band stärken gemeinsam land eu- wasserrahmenrichtlinie konsequent umsetzen',\n",
       "  'torfnutzung moore schnell umfassend wiedervernässen',\n",
       "  'legen gemeinsam land großflächig wirksam moor renaturierungsprogramm',\n",
       "  'intakt moore torfabbau überdüngung entwässerung retten streng schutz stellen',\n",
       "  'sauberes wasser leben   wasser wichtigstes lebensmittel',\n",
       "  'düngemittel pestizid waschmittelrückstände medikamentenreste gehören wasser',\n",
       "  'produktverantwortung hersteller innen stärken',\n",
       "  'verringern verbessert genehmigung entsorgungsvorschrift medikament bildung resistenz gefahr arzneimittelrück- stehen wasser',\n",
       "  'setzen eu-wasserrecht konsequent reduzieren eintrag hormonverändernd stoff mikroplastik wasser deutlich',\n",
       "  'vorsorge prinzip gewässerschutz richtschnur   bundestagswahlprogramm',\n",
       "  'meer schützen plastikmüllflut stoppen   meer befinden katastrophal zustand drohen versauerung überdüngung überfi- schung verschmutzung plastikmüll verschlechtern',\n",
       "  'plastikmüllflut einhalt gebieten international verbindlich abkommen stopp plastikvermüllung meer weg bringen sofortprogramm ehrgei- zig müllvermeidungsziel auflegen',\n",
       "  'technik fördern bergung munitionsaltlast nord ostsee umweltverträglich abfischen müll meer ermög- licht',\n",
       "  'überfi- schung beenden fischbestand stabilisieren fischer in nen nachhaltig perspektive geben fangquote fischereiabkomme anpassen schonzeite ausdehnen umstellung fischerei umwelt klima- artenschonend fangmethod erreichen',\n",
       "  'wichtig schritt ökologisch fischerei aquakultur auskömmlich honorie- ren verbindlich verbraucher*inne transparent   bundestagswahlprogramm',\n",
       "  'bündnis grünen bundestagswahlprogramm',\n",
       "  'kennzeichnung',\n",
       "  'lebendig weltmeer umsetzung eu-meeresstrategie-rahmenrichtlinie tiefseebergbaumorato rium ausweisung großflächig nutzungsfreien mee- resschutzgebieten notwendig',\n",
       "  'ausgediente handy tablet verstauben schublade obwohl wiederverwenden recyceln können',\n",
       "  'müll verursachen ressourcenverschwendung stoppen',\n",
       "  'gelingen hersteller*inn müllverursachenden stark verantwortung nehmen konzept kreislaufwirtschaft ganzheitlich design herstellung nutzung entsorgung produkt berücksichtigen',\n",
       "  'flasche pfandautomate passen to go-mehrwegbecher standard',\n",
       "  'ressourcenschatz alt elektrogerät kreislauf finden schaffen schritt pfand handy tablet energieintensiv akku',\n",
       "  'ausgestaltung müllsammlung position kommune stärken',\n",
       "  'kunststoffsort verbundstoff reduzieren gift- frei',\n",
       "  'biowertstoffe gehören verbrennung verwerten',\n",
       "  'kreislaufwirtschaft normal',\n",
       "  'bundestagswahlprogramm',\n",
       "  'weltge sundheitsorganisation sehen hormonstörend chemikalie global gesundheitsbedrohung',\n",
       "  'giftig chemikalie erkrankung krebs diabet allergie ungewollt kinderlosigkeit auslösen alltagsprodukt verban- nen eu-recht chemikalienbereich verbessern schnell konsequent durchsetzen',\n",
       "  'besondere augenmerk richten spielzeug kinderpflegeprodukt alltagsprodukt textilie möbel elektronik',\n",
       "  'deutschland frankreich folgen nachweisen giftig chemikalie bisphenol kochgeschirr lebensmittelverpackung per polyfluo- riert kohlenwasserstoff papier pappe verbieten',\n",
       "  'sauber luft atmen   brauchen sauber luft atmen',\n",
       "  'schlimm berechnung europäisch umweltage tur sterben deutschland pro mensch vorzeitig luftverschmutzung verursacht krankheit',\n",
       "  'ökologi- sch modernisierung bieten riesig chance luft verbessern',\n",
       "  'entwicklung beschleunigen grenzwert-empfehlung weltgesundheitsorganisation luftschadstoff schnellstmög- lich umsetzen',\n",
       "  'bündnis grünen bundestagswahlprogramm',\n",
       "  'blick nehmen zusammenhang entschei dung feuerwerk einzelne regeln geben hingehören ort',\n",
       "  'jeder zehntelgrad erderhitzung kämpfen veränderung anpassen',\n",
       "  'lichtverschmutzung ein dämmen mensch tier pflanze schädigen wesentlich verschwinden insekt vögeln beitragen',\n",
       "  'bundestagswahlprogramm',\n",
       "  'leitbild weiterentwickelnd ökologisch landwirtschaft prinzip tiergerechtigkeit gentechnikfreiheit freiheit chemisch-syn- thetisch pestizide',\n",
       "  'ökolandbau umfangreich fördern voraussetzung schaffen künftig bäuer*innen lebensmiittelhersteller*innen umstellen',\n",
       "  'ziel prozent ökolandbau   agrarforschung ökologisierung landwirtschaft deutlich ausweiten',\n",
       "  'stickstoffüberschüß deutlich redu- zieren',\n",
       "  'monokultur pestizid chemisch-synthetischer dünger führen global süden erheblich schaden gesundheit umwelt kleinbau er*innen europäisch dumpingexport patentiert saatgut landraub abhängigkeit treiben',\n",
       "  'nahrung garantieren kleinbäuerlich struktur stärken',\n",
       "  'unterstützen agrar entwicklung politik global sozial-ökologische agrarwende',\n",
       "  'bundestagswahlprogramm',\n",
       "  'bündnis grünen bundestagswahlprogramm',\n",
       "  'pestizid reduzieren   grund einsatz pestizide landwirtschaft deutlich herunterzufahren',\n",
       "  'schutz menschlich gesundheit gehören',\n",
       "  'wirksam artenschutz betreiben trinkwasser schützen ausbringung pestizide naturschutzgebiet trinkwasserschutzgebiet untersagen flächendeckend pestizidmonitoring einführen',\n",
       "  'export pestizide beenden   bundestagswahlprogramm',\n",
       "  'deutschland eu aufgrund umwelt gesundheit risiko zulassen verbieten',\n",
       "  'zulas- sungsverfahren pestizid verbessern transparenz unabhängigkeit stärken',\n",
       "  'ökologisch pflanzenschutz kooperation land umfassend kombiniert for- schungs- umsetzung beratungsprogramm chemisch synthetisch pflanzenschutz auflegen',\n",
       "  'technologie umgang alt gentechnisch verfahren einerseits freiheit forschung gewährleisten andererseits anwendung gefahr mensch umwelt ausschließen',\n",
       "  'streng zulassungsverfahren europdisch verankert vorsorgeprinzip festhalten',\n",
       "  'bleiben risikoprüfung umfassend wissenschaftlich basis regulierung unkontrollierbar verbreitung ausschließen verbindlich kennzeichnung gentechnikfrei produktion wahlfreiheit verbraucher*inne schützen nötig',\n",
       "  'junglandwirt*in neueinsteiger innen unterstützen maß-   bundestagswahlprogramm',\n",
       "  'bündnis grünen bundestagswahlprogramm',\n",
       "  'lebensmittelerzeugung verarbeitung fair bedingung herrschen',\n",
       "  'sozial ungerechtigkeit beenden',\n",
       "  'bundestagswahlprogramm',\n",
       "  'umsteuern stellschraube neu justieren gesund ernähren einfach',\n",
       "  'brauchen verbindlich reduktionsstrategie zucker salz fett zusatzstoff fertiglebensmittel ökonomisch anreiz gesünd produkt',\n",
       "  'lebensmittelwer bung kind richten klar regel kriterium weltgesundheitsorganisation orientieren',\n",
       "  'fair gehandelt kaffee steuer runtersetzen',\n",
       "  'insgesamt forderung eu-kommission umweltfol gekost lebensmittelbereich steuerlich berücksichtigen ökologisch steuerreform aufgreifen pflanzlich tierisch lebensmittel preis ökologisch sozial gerecht darstellen',\n",
       "  'lebensmittelverschwendung entschlossen',\n",
       "  'lebensmittel müll ret- ten sogenannter container entkriminalisiern',\n",
       "  'bundestagswahlprogramm',\n",
       "  'bündnis grünen bundestagswahlprogramm',\n",
       "  'klar lebensmittelkennzeichnung   nachhaltig gesund essen erkennen',\n",
       "  'verpflichtend tierhaltungskennzeich nung anspruchsvoll kriterium fleisch leben tierisch bestandteil einführen einsetzen eu-weit verbindlich',\n",
       "  'wei terentwicklung tierschutzstandard rechnung tragen',\n",
       "  'nährwertkennzeichnung nutriscore weiterentwickeln eu-weit fertigprodukt anwenden',\n",
       "  'transparenz herkunft lebensmittel verbessern',\n",
       "  'einheit- lich kennzeichnung vegetarisch vegan lebensmittel brauchen eu-weit rechtsverbindlich definition vege tarisch vegan',\n",
       "  'brauchen ausweg',\n",
       "  'lösung deutlich tier halten tier wesentlich bess leben ermöglichen',\n",
       "  'tier brauchen platz auslauf freie beschäftigung artspezifisch verbind lich regeln eu-ebene deutlich anhebung tierschutzstandard einsetzen',\n",
       "  'tierschutz wirtschaftlich   bundestagswahlprogramm',\n",
       "  'tiergerecht brandsicheren umbau stall standard halten',\n",
       "  'wer- gezielt fördern weidetierhaltung okolo gisch wertvoll grünland erhalten sinnvoll nutzen',\n",
       "  'stall tier zumindest entsprechend eu-ökoverordnung halten bauen',\n",
       "  'amputation eingriff betäubung qualvoll betäubungsmethod käfig anbindehaltung beenden',\n",
       "  'einsatz antibiotikum landwirt- schaftlich tierhaltung deutlich senken',\n",
       "  'lebendtiertran port vermeiden ziehen regional mobil schlach tung schlacht zentral schlachthof fördern',\n",
       "  'tier mensch halten besonderer ver- antwortung',\n",
       "  'anerkannt tierschutzorganisation   bundestagswahlprogramm',\n",
       "  'bündnis grünen bundestagswahlprogramm',\n",
       "  'ein*e unabhängig r bundestierschutzbeauftragte r auskunft akteneinsichtsrechte wahrnehmen rechtsverstoß bean- standen',\n",
       "  'haltung wildtier zirkusse beenden',\n",
       "  'arbeiten beteiligt akteur*inn zukunftsorientiert tierfrei forschung fördern investition tierfrei innovation weiterentwicklung verbessert medikamente sicherheitsprüfung beschleunigen zulassung tierversuchs frei verfahren',\n",
       "  'eu-vorgabe tierversuch end- lich deutsch umsetzen',\n",
       "  'wildtierhandel leine legen   covid-pandemie deutlich gesundheit umwelt tier mensch zusammendachen die ser planetary-health-ansatz prinzip unser handeln',\n",
       "  'raubbau natur zukunft',\n",
       "  'herkunftsland wirtschaftlich alternative aufbauen',\n",
       "  'indust- riell tierhaltung pandemie beitragen coronain-   bundestagswahlprogramm',\n",
       "  'tierhaltung notwendigkeit eindammung möglich zoonose ausrichten',\n",
       "  'einsetzen haltung tier handel pelz pelztierfarmen beenden',\n",
       "  'bundestagswahlprogramm',\n",
       "  'bündnis grünen bundestagswahlprogramm',\n",
       "  'grün technologie deutschland weltweit nachfragen',\n",
       "  'sehen agilität unternehmer*inn idee geschäftsmodell entwickeln sozial verantwortung gerecht wol len',\n",
       "  'deutschland europa zukunftstechnologie spitze bean- spruch',\n",
       "  'nutzen gestaltungsmöglichkeit deutsch gpräsidentschaft    stehen deutsch europäisch wirtschaft gro ßem druck industrieland global wettbewerb autoritär staatskapitalismus weitgehend unreguliert tech gigant behaupten',\n",
       "  'klug anstellen wirtschaft finanzsystem neu eichen',\n",
       "  'sor   bundestagswahlprogramm',\n",
       "  'sozial-ökologische marktwirtschaft sinn gemeinwohl europa begründen wohlstand nachhaltigkeit gerechtigkeit versöhnen mensch dienen',\n",
       "  'staat wirtschaften wirtschaft klar verhältnis verlässlich politisch rahmen bedingung anreiz brauchen',\n",
       "  'innovationskraft beschäftigter unternehmer innen entfalten einzelbetrieblich sinnvoll entscheidung nachhaltig wohlstand',\n",
       "  'markt nachhaltig sozial gestalten innovation ent- fachen transformation brauchen',\n",
       "  'schaffen anreiz streichen umweltschädlich subvention setzen ordnungspolitisch regel nachhaltig produzieren handeln konsumieren',\n",
       "  'ungerechtigkeit steuersystem entschlossen nutzen lenkungswirkung steuer klimaschutz kreislaufwirtschaft',\n",
       "  'sorgen wohlha-   bundestagswahlprogramm',\n",
       "  'bündnis grünen bundestagswahlprogramm',\n",
       "  'bend reich mensch konzern verantwor tung stark stellen',\n",
       "  'global konzern mächtig staat gelten primat demokratisch politik behaup- ten',\n",
       "  'enorm kluft arm reiche verrin- gesellschaft ungleichheit gering insgesamt zufrieden gesellschaft',\n",
       "  'europäer*inne unser stark gemeinsam binnenmarkt international standard setzen innovation vor- antreiben',\n",
       "  'solange wettbewerbsverzerrung brauchen schutz eu-binnenmarkt kritisch infra struktur',\n",
       "  'setzen gemeinsam strategisch außenwirtschaftspolitik fairness gebot inter national wettbewerb frei welthandel welt nachhaltig menschenrechtskonform wirtschaften beför- dern',\n",
       "  'bundesregierung europäisch union co,-frei wirtschaftsraum',\n",
       "  'legen grundlage deutschland europa erfolgreich industriestandort leistungsfähig mittel stehen hoch wertschöpfung stark sozialstaat gut arbeit plätz bleiben traditionsreich innovativ industrie unternehmen maschinenbau mittelständisch betrieb',\n",
       "  'marke -- germany gütesiegel zukunftsfähig wirtschaft klimaneut- rale sozial europa',\n",
       "  'brauchen vielfältig wirtschaft wider- standsfähig krise',\n",
       "  'bundestagswahlprogramm',\n",
       "  'gute politik beitragen letzter sträflich versaumt gemeinsam zukunft investieren',\n",
       "  'gelingen sozial-ökologisch transformation schaffen nachhaltig wohlstand sichern wettbewerbsfähigkeit unse- res land handlungsfähig europäisch union',\n",
       "  'neustart corona-krise   corona-pandemie unternehmen hart treffen',\n",
       "  'beson- ders hart restaurant gaststätte hotel tourismus veranstaltungsbranche kulturwirtschaft einzel händler*inn solo-selbständig betreffen',\n",
       "  'neustart corona-krise gezielt betroffen branche   bundestagswahlprogramm',\n",
       "  'bündnis grünen bundestagswahlprogramm',\n",
       "  'helfen signal richtungswechsel kli- maneutralität setzen',\n",
       "  'sichern existenz erhalten arbeit plätze setzen zielgenau konjunkturell impuls',\n",
       "  'selbständige sicher auftrag handlungsfähig kommune neustart pandemie unterstützen',\n",
       "  'kunst kulturbranche abgestimmt kulturförderpolitik stärken gründungschance',\n",
       "  'hilfe gelten firma staatshilfe erhalten dividende ausschütten',\n",
       "  'steuerlich förderung forschung künftig gezielt kmus start-up fließen wirksamkeit evaluieren erhöhen',\n",
       "  'bundestagswahlprogramm',\n",
       "  'gründungskapital einführen   wohlstand sichern brauchen gründer*innenwell',\n",
       "  'gründungskapital gründer in- nen nachfolger*innen einmalbetrag maximal euro sicherstellen sorgen idee neustart eigenkapital scheitern',\n",
       "  'bedingung gefördert gründung un-nachhaltigkeitsziel aus richten wirtschaftlichkeitsprüfung sachverständige durchführen',\n",
       "  'gründer*inn verwaltungsdickicht quälen infor- mation beratung möglichkeit anmeldung zen- tralen anlaufstelle erhalten überall deutschland',\n",
       "  'frau gründung nachfolg unterrepräsentiert gezielt fördern staat- lich wagniskapitalfonds frau',\n",
       "  'vergabe auswahl gremien besetzen paritätisch',\n",
       "  'hürde mensch migrationsgeschichte abbauen lässt land riesig potenzial brachliegen',\n",
       "  'start ups digital lösung gemeinwohl stärken',\n",
       "  'integrieren sozial-ökologischen kriterium stark bestehend gründungsfinanzierung',\n",
       "  '-ausstoß',\n",
       "  'industrie technologievorreiter entwicklung klimaneutral prozeß',\n",
       "  'maschi- nenbau weltweit einsatz grün technologie made germany schlüsselrolle einnehmen',\n",
       "  'investition langfristig klima-   bundestagswahlprogramm',\n",
       "  'bündnis grünen bundestagswahlprogramm',\n",
       "  'abbau hürde grün eigenstromversorgung zunehmend einsatz grün wasserstoff treiben dekarbonisierung prozeß voran',\n",
       "  'quote anteil co,-neutraler grundstoff schaffen leitmärkte co',\n",
       "  'weltweit lauft wettbewerb emissionsfrei digital auto zukunft',\n",
       "  'stillstand branche deutschland weg',\n",
       "  'emissionsfrei auto neu zulassen',\n",
       "  'unterstützen transformation forschung innovationsförderung technologieoption schnell aufbau ladesäu   bundestagswahlprogramm',\n",
       "  'batterie nächster generation günstig ressourcensparend europa nachhaltig batteriezellenproduk- tion schaffen wirksam recyclingsystem gehören forschung entwicklung nächster batteriegeneration',\n",
       "  'betroffen autoregion regional transformationsdialog -fonds unterstützen',\n",
       "  'erhalten wertschöpfungskette mittelstand sichern arbeitsplatz ort',\n",
       "  'europäisch halbleiterindustrie stärken   erfolgreich weitsichtig industriepolitik funktionieren gesamteuropäisch denken',\n",
       "  'gelten bereich halbleitertechnologie industriell anwendung stark europäisch stellung dynamisch zukünftig entwicklung erwarten erneuerbar energie',\n",
       "  'bundestagswahlprogramm',\n",
       "  'bündnis grünen bundestagswahlprogramm',\n",
       "  'anlage bauen komplett außereuropäisch lieferant abhängig nächster importabhängigkeit geraten',\n",
       "  'entwicklung gezielt investitionshil fen unterstützen',\n",
       "  'weg kreislaufwirtschaft brauchen rohstoff politik einsatz primärrohstoff reduzieren fossil nachwachsend rohstoff ersetzen global rohstoffgewin nung hoch transparenz sozial umweltstandard binden',\n",
       "  'gewinnung heimisch rohstoff dialog beteiligt akteur forcieren',\n",
       "  'gut material   bundestagswahlprogramm',\n",
       "  'effizient materialeinsatz kreislaufwirtschaft reduzieren energiebedarf tragen wesentlich gelingen energie wenden',\n",
       "  'forschungsergebnis praxis bringen gründungskultur beleben   unser hochschule forschungseinrichtung hoch standard forschen',\n",
       "  'struk- turelle hemmnis verhindern ausgründung',\n",
       "  'ausbau förderprogramm hightech-start-ups gründungszentr entrepreneurship-ausbil- dung vorantreiben',\n",
       "  'zudem entwicklung impfstoff medikament medizinpro- dukt stark fördern',\n",
       "  'zusätzlich setzen mittelfristig verein heitlichung gründung gesellschaftsrecht innerhalb europäisch wirtschaftsraum',\n",
       "  'führungsgremium vielfältig   deutschland vielfältig führungsetag',\n",
       "  'vielfalt deutsch gesellschaft dringend führung entscheidungsgremie wirtschaft abbilden',\n",
       "  'bundestagswahlprogramm',\n",
       "  'bündnis grünen bundestagswahlprogramm',\n",
       "  'obwohl frau mindestens qualifizieren män- ner fehlen',\n",
       "  'ziel bleiben hälfte frau',\n",
       "  'brauchen quote kritisch masse herstellen unser ziel prozent frauenanteil gelangen',\n",
       "  'zukünftig verpflichtend mindestens drittel vorstandssitze grö- ßerer börsennotiert unternehmen neubesetzung frau',\n",
       "  'aufsichts- raten unternehmen neubesetzung verpflichtend frauenanteil mindestens prozent anstreben',\n",
       "  'setzen unternehmen organisation hürde auf steigen frau abbauen',\n",
       "  'investieren beruflich berufsbegleitend bildung',\n",
       "  'dual berufsaus bildung weiterentwicklung modernisierung ins- besonderer lehrinhalt ausstattung aufwerten',\n",
       "  'lassen potenzial unge nutzen hürde frau älteren mensch behinderung jugendliche einkommensarm elternhäuser mensch   bundestagswahlprogramm',\n",
       "  'migrationsgeschichte weg stehen bauen geschlechterstereotype entgegenwirken',\n",
       "  'einwanderung land erleichtern einführung talentkarte schnell anerkennung ausländisch bildung beruf abschlüsse wechselseitig eu',\n",
       "  'allgemein anerkennung ausländisch bildungsabschlüs beschleunigen anerkennungsverfahren kostengünstig gestalten',\n",
       "  'geflüchtete mög lichkeit spurwechsel bekommen ausbildung studium arbeit rechtssicherheit beruflich perspektive deutschland ermöglichen',\n",
       "  'unterstützen betrieb geflüchteter einwander*inn chance ausbildung beschäftigung geben bedarf konkret ansprechperson qualifizierung beratung begleitung',\n",
       "  'mittelstandspolitik innovationspolitik   deutsch mittelstand vielfältig innovativ international wettbewerbsfähig',\n",
       "  'entstehen lösung herausforde rung zukunft sichern wertschöpfung region',\n",
       "  'mittelstandspolitik setzen dreiklang verringerung bürokratisch last innovationsfreundlich steuerpolitik breitenwirksam forschungslandschäft',\n",
       "  'schnell planung genehmigung effizient digital verwaltung unterstützen mittelstand innovation transformation',\n",
       "  'vorhaben austesten anwender*inn verwaltung unternehmen größe gemeinsam verbessern',\n",
       "  'för   bundestagswahlprogramm',\n",
       "  'bündnis grünen bundestagswahlprogramm',\n",
       "  'deutlich einfach beantragen dokumen- tier',\n",
       "  'förderung regional innovationsökosystem hochschule mittelstand zivilgesellschaft gründung eigenständig innovationsagentur d',\n",
       "  'ausgerichtet global nachhaltigkeitsziel d',\n",
       "  'mittlerer unternehmen genau sozial einrichtung dauerhaft verbessert kündigungsschutz bekommen befristet mietvertrag angemessen bedingung verlän-',\n",
       "  'national regel unlauter wettbewerb anpassen verstoß umwelt sozialstandard unlaut wettbewerb verfolgen',\n",
       "  'zudem erreichen umweltschutzaspekt grundsätzlich rahmen deutsch   bundestagswahlprogramm',\n",
       "  'europäisch fusionskontrollverfahr berücksichtigen',\n",
       "  'zeichnen heterogenität hei- zungsinstallateurbetrieb bäckerei mittelständisch unternehmen hundert beschäftigter kleinstbetrieb',\n",
       "  'wichtig wirtschaftsfaktor deutschland',\n",
       "  'bürokratieabbau unterstützung nachfolg gezielt förderung ausbildung handwerk rahmenbe dingunge verbessern',\n",
       "  'oberstes ziel erhalt zukunft fahigkeit betrieb',\n",
       "  'verschieden bereich gebäu debereich bedürfen deutlich aufstockung anzahl aus weitergebildet',\n",
       "  'corona erzielen   bundestagswahlprogramm',\n",
       "  'bündnis grünen bundestagswahlprogramm',\n",
       "  'kultur kreativwirtschaft corona-krise existenziell bedrohen klein betrieb unabhängig verlag privat theater programmkino club veranstaltungsort',\n",
       "  'erweitern innovationsbegriff programm existenz gründungsförderung sodass kultur kreativwirt schaft profitieren',\n",
       "  'förderprogramm schneiden spezifisch bedürfnis kultur kreativwirtschaft bauen gründungsförderung arbeitslosigkeit bedarfsgerecht',\n",
       "  'ökologisch sozial blin- massentourismus klimaschädlich kreuzfahrtschiff end los müllproduktion riesig ressourcenverbrauch zukunft',\n",
       "  'bundestagswahlprogramm',\n",
       "  'geben markt sozial-ökologisch rahmen   wohlstand unternehmerisch erfolg neu bemessen   wohlstand definieren wachstum bip son- dern lässt breit lebensqualität verstehen',\n",
       "  'erfolg deutschland unternehmen ökonomisch anhand inklusiv sozial ökologisch gesellschaftlich kriterium messen politisch leitplanke anreiz wirtschaftsförderung entsprechend neu ausrichten',\n",
       "  'europäisch green deal ambitioniert gestalten   europäisch green deal eu-kommission pro gramm vorlegen europäisch union klimaneu- tral kontinent',\n",
       "  'setzen ambitioniert ausgestaltung ehrgeizig umsetzung ebene',\n",
       "  'druck ökologisch wende beitragen ungleichheit verringern',\n",
       "  'just transition fund aufstocken ausbauen',\n",
       "  'landwirtschaftspoli   bundestagswahlprogramm',\n",
       "  'bündnis grünen bundestagswahlprogramm',\n",
       "  'tik kämpfen reform gemeinsam agrarpolitik umsetzung ziel green deal pariser klimaabkommen stellen immense auswirkung umwelt artenschutz entfalten',\n",
       "  'eu-binnenmarkt transformation nutzen   eu-binnenmarkt erfolgsgeschichte glo bal wettbewerb hoch standard beruhen verbrau cher- datenschutz umwelt gesundheitsschutz sozial produktsicherheit',\n",
       "  'hoch standard sinn sozial-ökologischen transformation binnen- markt erhalten ausbauen stärken innovationskraft unternehmen ermöglichen ausnutzung skaleneffekt begünstigen international handel',\n",
       "  'handlungsspielraum kommune europäisch union ausbauen daseinsvor- sorge liberalisierungsdruck schützen',\n",
       "  'sozialunternehmen genossenschaft stärken   bereich wirtschaft stärken langfristig nachhaltigkeit zählen kurzfristig rendite oftauch beitrag demokratisierung wirtschaft leisten',\n",
       "  'unterstützen einerseits genossenschaft krisenfest gemein- wohlorientierter rechtsform',\n",
       "  'andererseits fördern sozialunternehmen gesellschaftlich anliegen unter- nehmerisch handeln direkt sozial-ökologischen ziel verbin',\n",
       "  'begrüßen konzept gemeinwohlökonomie   bundestagswahlprogramm',\n",
       "  'schaffen zielgruppenspezifisch finanzierungsinstrument programm klassisch gründung innovationsfinanzie rung ausweiten',\n",
       "  'ziel gründungswelle neu genossen schaft sozial-ökologisch inspiriert gemeinwohl orientiert unternehmen',\n",
       "  'rahmenbedingung wirtschaften systematisch verbessern bestehend benach teiligung beseitigen',\n",
       "  'gründungszuschuss arbeitsagentur wirtschaftlich gewinn sozial-ökologischen wirkungskriterie abhängig',\n",
       "  'genutzt guthaben verwaist konto sofern erbanspruch vorhanden fonds nutzen zielgerich- tet nachhaltig sozial innovation investieren',\n",
       "  'unternehmen kurzfristig sharehol der-value dienen langfristig ausrichten gemein verpflichten',\n",
       "  'stimmrecht beschäftigter kollektiv einzelnen treu- händerisch halten meist bietend n verkaufen ähnlich anwaltlich partner schaft aktiv unternehmen verbunden person weitergeben',\n",
       "  'industri- ell bereich ansatz schaffen gemein-   bundestagswahlprogramm',\n",
       "  'bündnis grünen bundestagswahlprogramm',\n",
       "  'sam freiwillig nutzung sowohl personenbezogen personenbezogen anonymisiert datum bei- spiel entwicklung fertigungsprozesse verbessern rechtssicher gestalten',\n",
       "  'profitieren mittelstand',\n",
       "  'europäisch standard regel setzen',\n",
       "  'hightech-standort ausbauen   rasant entwicklung corona-impfstoff wissenschaft ler*innen unternehmer innen mainz zeigen innovationskraft forschung unternehmensland schaft stecken',\n",
       "  'legen besonderer fokus ökologisch sozial potenzial technologie heben',\n",
       "  'international standort-wett bewerb mithalten bedürfen stark europäisch vernetzung spitzenforschung',\n",
       "  'investieren spitzenforschung bildung cluster bereich',\n",
       "  'grundstein legen europäisch souveränität wei- teren trend kl unterstützung europäisch ökosystem erproben allgemein künstlich intelligenz artificial general intelligence',\n",
       "  'hightech-standort ausbauen   bundestagswahlprogramm',\n",
       "  'fördermöglichkeite netzwerk start-up jung unternehmen nationa- ler europäisch ebene unterschied gut idee flipchart weltweit erfolgreich unter nehmen ausmachen',\n",
       "  'staatlich wagniskapitalfonds helfen unser gründer*inn dauerhaft heimat geben',\n",
       "  'mis- sion zukunftsfond nachhaltigkeit',\n",
       "  'datenschutzbehörde gelegenheit stellung nahme erhalten',\n",
       "  'interoperabilität software digita   bundestagswahlprogramm',\n",
       "  'bündnis grünen bundestagswahlprogramm',\n",
       "  'setzen ambitioniert umsetzung digital markets act europäisch ebene',\n",
       "  'dach eigenständig europäisch kar tellamts europäisch digitalaufsicht etablie- ren frühwarnsystem fungieren sanktionsbewährt koope rations- transparenzpflichte aussprechen',\n",
       "  'unternehmen unabhängig missbrauch aufgespalten marktmacht',\n",
       "  'geschlechtervielfalt digitalwirtschaft   gestaltung digital transformation beteiligen potenzial einbringen',\n",
       "  'brauchen geschlechtersensible lehre gezielt ansprache frau mint-studiengäng ausbildungsberufe frau gremium richtungsentscheidung treffen',\n",
       "  'staatlich institution diversität leitprinzip digitalstrategie',\n",
       "  'transparent algorithm datenverarbeitender algorithmisch entscheidungssysteme   potenzial neu wissen generieren nachhalti- g handeln ermöglichen',\n",
       "  'datengetriebene system   bundestagswahlprogramm',\n",
       "  'verstärkt gleich standard europäisch ebene definieren umsetzen',\n",
       "  'it-sicherheit standortfaktor   it-sicherheit klar rechtsstaatlich standard sichern grund voraussetzung digital wandel gelingen',\n",
       "  'digital souverän entsprechend han- del sicherheit unterlaufen',\n",
       "  'setzen anreiz gut datenschutz gut it-sicherheit innovativ tech nisch ansatz effektiv schutz privatsphäre ausbauen auditierungen europäisch einheitlich zertifizierung voran- treiben',\n",
       "  'kmus stark dezent- rales unabhängig it-beratungsnetzwerk unterstützen',\n",
       "  'staat gut vorangehen wichtig arbeit aufsichtsbehörde stark unterstützen koope   bundestagswahlprogramm',\n",
       "  'bündnis grünen bundestagswahlprogramm',\n",
       "  'ration föderal europäisch zusammenspiel verbessern gemeinsam aufgabenwahrnehmung durchsetzung',\n",
       "  'unabhängigkeit bsi stärken',\n",
       "  'zudem entwicklung sicher hardware gezielt fördern',\n",
       "  'sinn nachhaltigkeit digital produkt führen ver- pflichtung angemessen risikoorientiert benutzer- freundlich bereitstellung sicherheitsupdat',\n",
       "  'andererseits wol len technologisch unabhängigkeit europa verstärkt eigenentwicklung produktion vielfältig digital ökosystem offen standard stärken',\n",
       "  'zeit zunehmend vorzeichen systemwettbewerb demokra- tisch autoritär staat stehen setzen proak- tiv handelspolitik',\n",
       "  'multilateral welthandel handelsabkommen wohlstand mensch dienen umwelt klimaschutz einhaltung menschenrecht einfordern beziehung unser partner*inn einsatz   bundestagswahlprogramm',\n",
       "  'demokratie freiheit stärken',\n",
       "  'zersplitterung handel beziehung erschweren international miteinander',\n",
       "  'nach haltig fair reformiert welthandelsorganisation wto echt global partnerschaft beitragen',\n",
       "  'schritt wto-berufungsinstanz streitbeilegung wiederbe- leben multiplizierung handelskonflikt stärkeren eindämmen',\n",
       "  'abkommen negativ auswirkung umwelt ernährungssouveränität eu-mercosur-abkommen latein- amerikanisch staat lehnen',\n",
       "  'europäisch union aufgrund gemeinsam binnenmarkt selbstbewusst handelsverhandlung',\n",
       "  'europäisch vorsorgeprinzip stets wahren',\n",
       "  'handelspolitik kommunal daseinsvorsorge möglichkeit rekommunalisierung ausreichend schützen',\n",
       "  'setzen multilateral handelsgerichtshof vereint nation beide abdecken',\n",
       "  'international konzern handel investitionsklag mächtig lehnen klageprivilegie sonderjustiz ausländisch inves- tor*inn',\n",
       "  'eu mitgliedstaat vollkommen gefallen energiecharta-vertrag aus- steigen ziel green deal eu gefährden',\n",
       "  'ceta-abkommen jetzig fassung ratifizieren',\n",
       "  'sicherstelle gefährlich investor-staat-schiedsgerichte anwendung',\n",
       "  'abkommen gemeinsam kanada weiterentwickeln neu ausrichten',\n",
       "  'insbesondere demokratisch kontrolle   bundestagswahlprogramm',\n",
       "  'bündnis grünen bundestagswahlprogramm',\n",
       "  'euro paparlament künftig einbinden',\n",
       "  'zudem brauchen stärk regelung umwelt klima verbraucherschutz sicherung europäisch vorsorgeprinzip',\n",
       "  'eu-china- investitionsabkommen maßgeblich deutsch bund regierung vorantreiben bereich level playing field menschenrecht unzureichend',\n",
       "  'aktiv außenwirtschaftspolitik fair wettbewerb   legitim sicherheitsinteresse schützen gleich wettbe werbsbedingungen marktteilnehmer*inn durchsetzen eu reagieren drittland unfair mittel eu-binnenmarkt agieren aktiv außenwirt schaftspolitik betreiben',\n",
       "  'anti-dumping-regel stark dumping niedrig ökologi- sch sozial standard anwendbar',\n",
       "  'reform eu-beihilferecht wettbewerbsverzerrung staatlich gefördert konzern weltregion verhindern',\n",
       "  'eu-prüfmechanismus ausländisch direktinvestition verbessern verhindern europäisch unterneh- men hochsubventioniert ausländisch firma übernehmen neu eu-instrument wirtschaftlich zwang eu helfen rechtswidrig ökonomisch druck außen wehren',\n",
       "  'deutsch außenwirtschaftsförderung instrument zukunft anstelle fossil anlage kraftwerk hidden champion unterstützen beispiels- weise hightech gut umwelt lebensbedingung her- stellen',\n",
       "  'konsequent grad-ziel agenda nachhaltig entwicklung menschenrecht ausrichten',\n",
       "  'einsetzen eu einnahme grenzausgleich arm handelspartnerländer dekarbonisierung unterstützen',\n",
       "  'bundestagswahlprogramm',\n",
       "  'fairer handel nachhaltig entwicklung global süden   entwicklungschance land global süden stark abhängig fair handelspolitik gestalten',\n",
       "  'pariser klimaabkommen agenda nachhaltig entwicklung un-kernmen- schenrechtsverträgen orientieren',\n",
       "  'brauchen sinn nachhalti- gen global strukturpolitik dringend gerecht handelspolitik land global süden regional wertschöpfung regional handel integration fördern genügend raum lässt zoll quote markt schützen exportsteuer ausfuhr heimisch rohstoff beschränken',\n",
       "  'instrumentalisierung entwicklungszusam menarbeit flüchtlingsabwehr lehnen',\n",
       "  'kern regelung stellen zivilrechtlich haftung dar grundlage unternehmen schadensfall verantwortung ziehen',\n",
       "  'hinaus setzen europäisch ebene ambitioniert verbindlich regelung international lieferkett',\n",
       "  'herstellung schwe-   bundestagswahlprogramm',\n",
       "  'bündnis grünen bundestagswahlprogramm',\n",
       "  'eu-holzhandelsverordnung stärken verwendung soja palmöl kraftstoff stoppen strategie reduk- tion palmöl soja bereich voranbringen',\n",
       "  'international ebene erarbeitung rechtsverbindlich un-abkom- men wirtschaft menschenrecht binding treaty vorange treiben',\n",
       "  'finanzmarkt stabil nachhaltig   grün finanzmarkt   kampf klimakrise sozial-öökologischen umbau wirtschaft spielen finanzsystem bedeutend rolle',\n",
       "  'milliarde fossil energie geschäftsmo- delle zerstörung ökosystem verletzung menschenrecht aufbauen zukunft inves- tieren',\n",
       "  'anlage grün müs- sen nachhaltigkeitsbewertung anleger*in- nen transparent',\n",
       "  'anlageberatung bewertung einfließen',\n",
       "  'schutz klima schutz änleger innen brauchen einheitlich zertihzierung nachhaltig finanzpro dukt europäisch ebene',\n",
       "  'neu unternehmen bilanz blicken ordentlich prüfen bilanz durchwinken versäumnis vorjahr vertuschen',\n",
       "  'wirtschaft prüfungsgesellschaften gleichzeitig unternehmen bera- ten prüfen',\n",
       "  'aufsichtsrat stärken kompetent besetzen',\n",
       "  'bundestagswahlprogramm',\n",
       "  'bündnis grünen bundestagswahlprogramm',\n",
       "  'wirecard deutsch finanzaufsicht bafin),wie häufig zuvor kläglich versagen',\n",
       "  'aufse herin verbieten bafin leerverkauf wirecard zeigen jour- nalist innen unregelmäßigkeit aufdecken',\n",
       "  'brauchen fehlerkultur innerhalb aufsicht kultur skepsis hinterfragen',\n",
       "  'finanz polizei umfassend prüfungsrecht schaffen information zuständig behörde in ausland austauschen',\n",
       "  'zoll bundesbehörde wichtig aufgabe bereich bekämpfung finanzkriminalität steuerhinterziehung geld wäsche',\n",
       "  'momentan personell organisatorisch lage funktion erfüllen',\n",
       "  'notwendig rechtsstaatlich abgesichert befugniss ausstatten künftig schwer finanzkriminalität effektiv bekämpfen',\n",
       "  'aus schließen fall pleite steuerzahler*inn haf ten',\n",
       "  'investmentbanke konsequent beaufsichtigen geschäft   bundestagswahlprogramm',\n",
       "  'bereich interessenskonflikt führen ausgliedern',\n",
       "  'befürworten absenkung identifizierungspflicht pro zent',\n",
       "  'bundesweit mindeststandard aufsicht prüfung ressource personal durchsetzen',\n",
       "  'einfrieren ver- dächtig finanztransaktion erleichtern dauer transaktionsverbot verlängern strafverfolgung sichern',\n",
       "  'einführung hoch obergrenze bar- geldzahlung eu-kommission vorschlagen prüfen',\n",
       "  'digital euro einführen   digitales bezahlen gewinnen unser alltag stetig bedeutung',\n",
       "  'befürwor- ten initiative europäisch zentralbank ezb digital euro schaffen',\n",
       "  'gewährleisten daten rechtssicherheit verbraucher*inne unternehmen erhöhen effizienz   bundestagswahlprogramm',\n",
       "  'bündnis grünen bundestagswahlprogramm',\n",
       "  'euro-transaktion',\n",
       "  'digital zahlung kryptowährun gen tatsächlich wirtschaftlich berechtigter analog regelung bargeld gewiß schwelle ermitteln wer-',\n",
       "  'bekämpfung verbrechen geldwäsche darstellung sexualisiert gewalt kind steuerhinterziehung terror finanzierung brauchen bereich digital bezahlen klar regel',\n",
       "  'rasant entwicklung bereich dezentral finanzanwendunge gerecht chance risiko kryptowährung blockchain differen- zieren ausloten',\n",
       "  'europdisch währungsunion sozial union ausweiten',\n",
       "  'eu sowohl wichtig zukunftsbereiche investieren krise stabilisie- rend wirken',\n",
       "  'eu einnah- men co,-grenzausgleich erhalten',\n",
       "  'gestalten krisenfall einzeln land blockieren stark kontrolle europaparlament sicherstellen',\n",
       "  'europäisch stabilitätsme- chanismus europäisch währungsfonds weiterentwi ckelt',\n",
       "  'bankenunion gemeinsam einlagensicherung rückversicherung vollenden euro überall sicher',\n",
       "  'hinaus begrüßen ezb verantwortung sta bilität euro mitgliedstaat nachkommen zins- unterschied innerhalb eurozone grenze halten',\n",
       "  'stehen unabhängigkeit europäisch zentralbank',\n",
       "  'bündnis grünen bundestagswahlprogramm',\n",
       "  'zudem ezb aufgabe allgemein wirtschaft politik eu unterstützen',\n",
       "  'europäisch green deal ökologisch sozial ziel wirtschaftspolitisch leitstrategie eu stärken obliegen unabhängig entscheidung',\n",
       "  'euro leitwährung   euro glaubwürdig internationa- len leitwährung entwickeln europa souveränität bewahren ausbauen',\n",
       "  'langfristig stark stabil euro platz kooperativ global weltwährungssystem finden',\n",
       "  'euro wesentlich baustein umfassend strategie europäisch wert global ebene stärken durchsetzen',\n",
       "  'zukunftsmärkte investition klima- schutz euro international zahlungsmittel',\n",
       "  'international rolle euro stärken brauchen innereuropäisch solidarität ungleichgewicht gemein- sam überschus defizitländer reduzieren wirtschaft finanzpolitisch entscheidung gemeinschaft treffen',\n",
       "  'bundestagswahlprogramm',\n",
       "  'bundestagswahlprogramm',\n",
       "  'bundestagswahlprogramm   bundesdelegiertenkonferenz bündnis grünen beschließen   juni digital stattfinden',\n",
       "  'herausgeberin   bündnis grünen platz tor',\n",
       "  'de   titelgestaltung neu tor eins kommunikationsberatung gmbh berlin   druck frank druck gmbh co',\n",
       "  'com bundestagswahlprogramm',\n",
       "  'bündnis grünen             bundestagswahlprogramm',\n",
       "  'vollenden europäisch wirtschaft   währungsunion',\n",
       "  'kapitel   solidarität sichern',\n",
       "  'schaffen gerechtigkeit geschlecht',\n",
       "  'sichern sozial netz',\n",
       "  'geben gesundheit pflege   wert',\n",
       "  'schaffen bezahlbar wohnraum',\n",
       "  'kapitel   bildung forschung ermöglichen',\n",
       "  'fördern bildung anfang',\n",
       "  'bundestagswahlprogramm bündnis grünen   inhalt inhalt   bereit',\n",
       "  'bündnis grünen                            bundestagswahlprogramm',\n",
       "  'verteidigen menschenrecht schützen geflüchteter   streiten gerecht weltwirtschaftsordnung   treten frieden sicherheit   regieren augenhöhe zukunft   stichwortregister              bundestagswahlprogramm',\n",
       "  'bundestagswahlprogramm',\n",
       "  'bündnis grünen bundestagswahlprogramm',\n",
       "  'einladung   liebe wähler*innen   wahl entscheiden gesellschaft',\n",
       "  'gelten bundestagswahl   september',\n",
       "  'zukunft einfach widerfähren',\n",
       "  'lieb wähler innen stimme entscheiden richtung nehmen',\n",
       "  'global ausnahmezustand',\n",
       "  'schwachstelle gesellschaft schonungslos offenlegen ohnehin verwundbar welt',\n",
       "  'wahl entscheiden kri sen kopf wachsen hinaus',\n",
       "  'solidarität gesell schaft verletzlichst stark schutz geben',\n",
       "  'erleben fragil status -- zerbrechlich rein profit ausgerichtet wirtschaft bedeutung grundrecht stark gesellschaft',\n",
       "  'erfahren begrenzt natio nal antwort global frage sehen unsicher heit entstehen sicht fahren notwendig   bundestagswahlprogramm',\n",
       "  'bündnis grünen     einleitung einleitung     bereit',\n",
       "  'voll gleichberechtigung geschlechter erreichen vielfältig einwanderungsgesell schaft gestalten',\n",
       "  'lage fest entschließen europa wertegemeinschaft demokratisch stärken global sys- temwettbewerb gerecht handlungsfähig',\n",
       "  'lässt international solidarität meistern art leben wirtschaften gestalten krise ort welt verschärfen',\n",
       "  'aufschwung schaf fen rein ökonomische hinausgehen',\n",
       "  'schlagen konkret ehrgeizig projekt politisch handeln bundesregierung kommend',\n",
       "  'aufgabe wider   bundestagswahlprogramm',\n",
       "  'bündnis grünen bundestagswahlprogramm',\n",
       "  'letzter zeigen mensch gesellschaft politik voraus',\n",
       "  'lieb wähler innen mandat erteilen projekt schritt schritt umsetzen schaffen grundlage jahrzehnt mutig vorangehen machen gelingen',\n",
       "  'manch tradition weise tragen bringen manch neue begründen manch gewohnte ablösen schaffen sicherheit übergang',\n",
       "  'ära politisch kurzfristigkeit bringen lang atem klar kompass durchsetzungsfähigkeit land herz europa welt zuwenden gut zukunft führen',\n",
       "  'erstmals geschichte bundesrepublik kämpfen bündnis grünen politisch führung land inhaltlich personell',\n",
       "  'stehen fest werte fundament tief verwurzeln gesellschaft',\n",
       "  'wachsen stärken durch regieren kommu- nen land bund',\n",
       "  'bundestagswahlprogramm',\n",
       "  'bündnis grünen     einleitung kapitel',\n",
       "  'klima- neutralität chance hoch lebensqualität sozial gerechtigkeit klimagerecht wohlstand',\n",
       "  'bäuer*innen zunehmend grundlage entziehen',\n",
       "  'entschieden handeln desto freiheit alternative sichern jetzig künftig generation',\n",
       "  'stellen künftig regierung pariser klimaabkommen mittelpunkt richten handeln ministerium',\n",
       "  'klimagerechtigkeit frage politisch kanon',\n",
       "  'solch klar politisch ordnungsrahmen ent- last mensch alltag schaffen freiheit',\n",
       "  'bedeuten klimaneutralität veränderung ver- änderung schaffen halt zukunft',\n",
       "  'bewahren   bundestagswahlprogramm',\n",
       "  'bündnis grünen bundestagswahlprogramm',\n",
       "  'zukunft leise sauber gesünd günstig sozial gerecht',\n",
       "  'mensch herausforderung zumutung',\n",
       "  'chance weiterbildung brauchen bekommen',\n",
       "  'aufgabe sorge tragen kosten belastung veränderung gerecht verteilen',\n",
       "  'lebensgrundlage schützen ökologisch krise arte sterben eindammen bedürfen kurskor rektur brauchen kurs',\n",
       "  'plane- tar grenze leitprinzip politik tragen umweltgerechtigkeit',\n",
       "  'belohnen fördern mensch tier klima natur   bundestagswahlprogramm',\n",
       "  'grundlage friedlich zusammenleben',\n",
       "  'brauchen zuallererst massiv ausbauoffensive erneuerbaren schnell umsetzen',\n",
       "  'ausbaupfad kraft kapazität industrie handwerker*innen beschränken politisch rahmenbedingung begrenzen',\n",
       "  'ziel sofort jahrlich zubau mindestens gigawatt gw wind land   bundestagswahlprogramm',\n",
       "  'bündnis grünen bundestagswahlprogramm',\n",
       "  'mitte r gw wind see   gw   bereich solarenergie ausbau beginnend gw gw pro steigern mitte r',\n",
       "  'erzeugungsspitze prinzip nutzen abschalten speicher produktion wärme grün wasserstoff nutzbar',\n",
       "  'doppelt belastung bremsklötze schaffen',\n",
       "  'verteilnetze verbraucher innen statten intelligent technik flexibel reagieren erneuerbar strom produzieren',\n",
       "  'klar ordnungsrechtlich vorgabe',\n",
       "  'ordnungsrahmen sozial-ökologische marktwirtschaft   wirtschaft klimaneutralität plane- tar grenze ausrichten kreislaufwirtschaft etablieren',\n",
       "  'bundestagswahlprogramm',\n",
       "  'wirtschaftlich aufbruch corona-krise oko logisch modernisierung zusammenbringen',\n",
       "  'brauchen sozial ökologisch neubegründung marktwirtschaft',\n",
       "  '- reduktionsziele produktstandard deutsch europäi sch wirtschaft planungssicherheit geben impuls investition setzen',\n",
       "  'forschung innovation klimagerecht wirtschaften stark fördern',\n",
       "  'hierzu fördern priorisieren digital anwendung lösung beitrag ressourcenscho nung leisten nachhaltig analog',\n",
       "  'rebound-effekt gelten generell vermeiden suffizienz unterstützen',\n",
       "  'fördern alternative kritisch rohstoff selten erde menschenrechtskonform gewinnung',\n",
       "  'ausschreibung beschaf fungskriterien anpassen möglichst sozial-ökologisch nachhaltig technologie vorrangig einsatz',\n",
       "  'it- beschaffung bund faktor herstellerabhängig keit folgebeschaffung technisch offenheit sicherheit datenschutz reparaturfähigkeit nachhaltigkeit sozial kriterium zwingend bewertung einfließen zertifizierung blau engel it-produkt standard',\n",
       "  'reche datencenter bund nachhaltig umstellen erneuerbar ener gie betreiben zertifiziert umweltfreundlich hardware einset- zen',\n",
       "  'gelten anreiz schaffen stromverbrauch rechenzentr reduzieren einschließlich umstellung wasser kühlungssysteme co,-neutral rechenzentr fördern',\n",
       "  'bundestagswahlprogramm',\n",
       "  'bündnis grünen bundestagswahlprogramm',\n",
       "  'weg klimaneutrali kommend hunderttausend job entstehen green job',\n",
       "  'förderung wirtschaftsfeldern',\n",
       "  'brauchen ökolo- gisch transformation bess angebot weiterbil dung qualifizierung',\n",
       "  'weiterbildung einführen weiterbildungsgeld erwerbstätig qualifizierungsphase sozial absicherung schaffen',\n",
       "  'bundestagswahlprogramm',\n",
       "  'region insbesondere ansässig mittlerer unterneh men unterstützen regional transformationsfond auf legen',\n",
       "  'regional akteur*inn wissenschaft politik wirt- schaft gewerkschaft einbinden gemein- sam vision erarbeiten region sozial wirtschaftlich zukunft stehen',\n",
       "  'gleichzeitig format real labore experimentierraum fördern zivilgesellschaft wissenschaft wirtschaft kommune gemeinsam lösung herausforderung ort arbeiten forschen',\n",
       "  'klimaschutz-sofortprogramm auflegen   zentral grundlage politik klimaabkommen paris bericht weltklimarat grad-limit verdeutlichen jeder zehntelgrad zählen überschreiten relevant kipppunkte klimasystem verhindern',\n",
       "  'unmittelba res substanziell handeln nächster entscheidend',\n",
       "  'grad-ziel -prozentig wahrscheinlichkeit zielerreichung gigatonne co',\n",
       "  'bündnis grünen bundestagswahlprogramm',\n",
       "  'aktuell berechnung umweltbundesamt verursachen emission tonne co schaden euro',\n",
       "  'können rauskaufe teilhaben',\n",
       "  '-beprei- sung instrument wirksam sozial gerecht einsetzen',\n",
       "  'eu-emissionshandelssystem ets licht eu-klimaziel reformieren lenkungswirkung voll erfüllen',\n",
       "  'deut- lich reduktion emissionszertifikat löschung über- schüssig zertifikat markt erreichen co',\n",
       "  'bereich verkehr wärme deutschland druck   bundestagswahlprogramm',\n",
       "  'klimabewegung grüne zudem co',\n",
       "  'erhöhung co',\n",
       "  'klimafreundlich verhalten belohnen finden sozial ausgleich system',\n",
       "  'unterm strich gering verdiener*innen familie entlasten mensch hoch einkommen belasten',\n",
       "  'co,-bremse   bundestagswahlprogramm',\n",
       "  'bündnis grünen bundestagswahlprogramm',\n",
       "  'schaffen versorgungssicherheit erneuerbar   schnell raus kohle   wille koalition deutschland kohle kraftwerk klima gesundheit scha-',\n",
       "  'gelingen bes- ten eu emissionshandel lenkend co',\n",
       "  'gesundheitsschutz grenzwert ausstoß schadstoff insbesondere quecksilber großfeuerungsanlage anschärfen',\n",
       "  'bund richtig rah menbedingungen unterstützen',\n",
       "  'bundestagswahlprogramm',\n",
       "  'leasing pacht contractingmodelle unterstützend wirken',\n",
       "  'erhaltenswert bausub tanz lösungsansatz erarbeiten',\n",
       "  'mieterstrom-regel deutlich vereinfachen mieterstromprojekt fördern',\n",
       "  'bürokratische hürde nutzung strom dach abbauen eigenverbrauch direktvermarktung stärken',\n",
       "  'photovoltaik land   photovoltaik dach fläche bringen politisch rechtlich rah menbedingungen verbessern bau erleichtern',\n",
       "  'gartenbaulich nutzung flä che wichtig beitrag klimaschutz ökologie leisten',\n",
       "  'bundestagswahlprogramm',\n",
       "  'bündnis grünen bundestagswahlprogramm',\n",
       "  'windenergieausbau wirtschaftsstandort deutschland sichern   windkraft schnell vorankommen bei- spiel ausbau außerhalb ausschreibung stärken',\n",
       "  'windausbau gelten konflikt natur artenschutz minimieren anwohner innen schützen verfahren genehmigung abbau bürokratisch hürde klar rahmenbedingung beschleunigen',\n",
       "  'verhinderungsplanung lehnen',\n",
       "  'exzessiv pauschal mindestabstand siedlung leisten beitrag akzeptanzsteigerung',\n",
       "  'eignungsgebiet wind ausschlussgebieter gezielt artenschutzprogramm anwohner*innenfreundliche naturverträglich standort wahl stärken schutz vögeln fledermäuse',\n",
       "  'planung genehmigung vereinfacht verfahren personal einheitlich bewertungsmaßstäbe beschleunigen',\n",
       "  'bauen offshore-park verbinden europäi sch energieunion solarpark mittelmeerstaat wasserkraft skandinavien alpen',\n",
       "  'zudem mieterstrom fördern entbürokratisieren weiterentwickeln mieter in nen stark ausbau erneuerbare profitieren',\n",
       "  'grün wasserstoffstrategie   wasserstoff erneuerbar energie sogenannter grün wasser stoff zentral versorgungssicherheit klimaneutral welt',\n",
       "  'deutschland technologie erzeugung wasserstoff vorne',\n",
       "  'führungsrolle ausbauen   bundestagswahlprogramm',\n",
       "  'bündnis grünen bundestagswahlprogramm',\n",
       "  'grün wasserstoff prioritär produzieren bedarfsdeckung wasserstoff importieren',\n",
       "  'erfolg kooperation unabding bar lokal bevölkerung einbeziehen menschenrecht schüt- zen nachhaltig entwicklungsziel orientieren verbindlich standard einführen',\n",
       "  'ziel erneuerbar energie effizient wirtschaftlich nutzen elek- trolyseure systemdienlich einsetzen',\n",
       "  'wasserstoff syn- thetisch kraftstoff verzögerungstaktik aktiv klimaneutralität beitragen',\n",
       "  'direkt nut- zung strom batterie wärmepumpe regel effizient',\n",
       "  'treiben grundlegend reform energierecht voran',\n",
       "  'wind solaranlage   bundestagswahlprogramm',\n",
       "  'benötigen eeg- zahlung trend langfristig lieferverträg ökostromerzeuger verbraucher*inne unterstützen entwicklung',\n",
       "  'endkund*inn strom künftig direkt ökostromerzeu kaufen',\n",
       "  'eeg entwickeln förder absicherungsinstrument erneuerbaren-ausbau',\n",
       "  'eeg- umlage langfristig automatisch auslaufen',\n",
       "  'netzausbau beschleunigen   energiewende erfolg führen netz schnell ausbauen',\n",
       "  'klug mix lokal erzeugung speichern flexibl verbraucher senken kosten erhöhen versorgung sicherheit',\n",
       "  'erhöhen qualität planung tragen nachweislich potenziell klagegründe beginn gemeinsam ausräumen gericht klären',\n",
       "  'möglichkeit staatlich anteil übertragungsnetzbetreiber deutschland erhöhen bundesnetzgesellschaft bundeshand überführen',\n",
       "  'bundestagswahlprogramm',\n",
       "  'bündnis grünen bundestagswahlprogramm',\n",
       "  'aussöhnung baukultur energetisch sanierung klar regelung schaffen ziel angemessen',\n",
       "  'sanierungsquote schnell verdoppeln steigern',\n",
       "  'einsatz seriell sanierung weg',\n",
       "  'bestand gelten eigentümerwechsel sanierungsfahrplan vorlegen',\n",
       "  'umsetzung sanierungsfahrplan kön n förderprogramm unterstützend wirken',\n",
       "  'wärmewend fair gestalten   wärmewender wirksam mieter innenschutz gezielt förderung einhergehen',\n",
       "  'zuschuss wohngeld kli   bundestagswahlprogramm',\n",
       "  'wer- atomausstieg deutschland vollend',\n",
       "  'ziel atomfabriko gronau lingen schnellstmöglich schließen',\n",
       "  'gesamtkonzept vor- aussetzung',\n",
       "  'sorgen lagerung tran port streng überwachen',\n",
       "  'eu ein steigen ausstieg vorantreiben',\n",
       "  'setzen reform euratom privilegierung förderun gen atomkraft verbindlich sicherheitsstandard   bundestagswahlprogramm',\n",
       "  'bündnis grünen bundestagswahlprogramm',\n",
       "  'atomanlag europa',\n",
       "  'alt unsicher reakto ren deutschland grenze schnell netz nehmen',\n",
       "  'einspruchsmöglichkeit neubau laufzeitverlängerung atomanlag europa ausschöpfen gemein- samen haftung staat atomunfälle aussteigen',\n",
       "  'umfas- send ausbildung forschungsoffensiv starten',\n",
       "  'lärmschutz dichtbefahren bestandsstreck verstärken barrierefreiheit bahn erreichen',\n",
       "  'bundestagswahlprogramm',\n",
       "  'bündnis grünen bundestagswahlprogramm',\n",
       "  '  bundestagswahlprogramm',\n",
       "  'ziel erreichen pro-kopf-investitione gemein sam land kommune deutlich erhöhen',\n",
       "  'vernetzung open-data-prinzip offen schnitt stellen beachten',\n",
       "  'mobilpass sozialtarife ticketlos nutzung fördern',\n",
       "  'fahrgastrecht automatisiert entschädi- gungsverfahren stärken',\n",
       "  'bundestagswahlprogramm',\n",
       "  'bündnis grünen bundestagswahlprogramm',\n",
       "  'tempo   regel abweichung tempo ort ausweisen',\n",
       "  'setzen reduzierung unnötig mutwillig lärm laut motor- radern pkw ausgehen',\n",
       "  'emission steigen brauchen trendwende',\n",
       "  'erreichen klimaneutralität autoverkehr abneh- men gleichzeitig emissionsfrei',\n",
       "  'auto weiterhin wichtig',\n",
       "  'dür- fen emissionsfrei auto neu zulassen weg dorthin bereiten europäisch co,-flottengrenzwerte ansteigend national quote grad-pfad orien- tier',\n",
       "  'relevant maß bisherig verbrennerfahrzeug e-auto ersetzen anteil mindestens million fahrzeug steigen',\n",
       "  'kaufförderung emissions- frei auto bonus-malus-system überführen elektro leichtfahrzeuge öffnen',\n",
       "  'klimafreundlich auto billig klimaschädlich teuer',\n",
       "  'umrüstung bestehend verbrenner emissionsfrei auto fördern',\n",
       "  'zudem nut- zen regulierung verpflichtend verbraucherinformation anreiz auto insgesamt leicht effizient',\n",
       "  'laden flachendeckend deutschland europa schnell ökologisch güns- tig bequem',\n",
       "  'reißen klima nachhaltigkeitsziel führen tagtäglich stau',\n",
       "  'vermeidung verkehr resultierend belastun   bundestagswahlprogramm',\n",
       "  'bündnis grünen bundestagswahlprogramm',\n",
       "  'bisherig bundesverkehrswegeplan ansprü chen gerecht',\n",
       "  'schützen wohngebiet wald wasser moore artenvielfalt lebensgrundlage',\n",
       "  'schränken einseitig autozentrierung autonomie kin dern jugendliche mensch auto stark',\n",
       "  'e-auto insbesondere paket solaranlage dach stromspeicher keller wandladestation garage zukunftsfähig lösung',\n",
       "  'carsharing flächen- deckend verfügbar errichtung carsharing-statio- nen fördern rentabl standort',\n",
       "  'bündnis grünen bundestagswahlprogramm',\n",
       "  'temporäre umgestaltung pop-up- bikelanes erleichtern best-practice- lösung tes- ten',\n",
       "  'fliegen nachhaltig zukunftsfähig lang- fristig unabhängig fossil treibstoff',\n",
       "  'sorgen strikt europäisch emissionshandel förderung modern flug zeugtechnologien erhöhung beimischungsquot klar anstiegspfad fossil kerosin strombasiert   bundestagswahlprogramm',\n",
       "  'gesundheitsschutz grenzwert ultrafeinstaub festlegen',\n",
       "  'klimaneutral deutschland güterverkehr zukunftsfähig emissionsfrei lärminten- siv',\n",
       "  'ambitionier- ten co,-flottengrenzwert quote förderung klimafreund- lich antrieb schnell aufbau entsprechend infra   bundestagswahlprogramm',\n",
       "  'bündnis grünen bundestagswahlprogramm',\n",
       "  'bundesamt güterverkehr personell aufstocken befugnis erteilen',\n",
       "  'bundestagswahlprogramm',\n",
       "  'krise artenvielfalt überwinden massenhaft artensterbe beenden brauchen landnutzung',\n",
       "  'sofortprogramm artenschutz auflegen pestizideinsatz deutlich verringern einsatz schädlich umweltgift glyphosat untersagen',\n",
       "  'verkauf naturwertvoll bundeseigen fläche entwässerung moorstandort stoppen militärisch konversionsfläche naturschutz verfügung stellen',\n",
       "  'bes- seren vernetzung schutzgebiet naturschutzkorridore schaffen',\n",
       "  'wildnis fonds ausbauen mindestens prozent landesfla che echt wildnis entwickeln pflanze tier ungestört leben',\n",
       "  'vielfälti- gen kulturlandschaft bedeutung schutz natur',\n",
       "  'bündnis grünen bundestagswahlprogramm',\n",
       "  'deutlich   gemeinsam land kommune instrument umsetzen bauen jetzig ackerland naturboden wirksam begrenzen',\n",
       "  'fördern entwicklung gesund wald kohlenstoff binden heraus- holen freisetzen',\n",
       "  'biologische vielfalt land meer schützen   artenrückgang zerstörung natürlich lebensraum schrei- ten global voran',\n",
       "  'ambitioniert abkommen vereint nation erhalt biologisch viel- falt einsetzen deutschland umsetzen',\n",
       "  'entsprechend   bundestagswahlprogramm',\n",
       "  'biodiversitätsstrategie europäisch union mindestens',\n",
       "  'un-ziel nachhaltig entwicklung über- all leitprinzipi verankern kohärent politik sorgen',\n",
       "  'unterstüt- zen programm stopp global entwaldung schutz wiedereinwanderung ansiedlung bedroht art',\n",
       "  'gezielt art schutzprogramm zoo wissenschaftlich institut unterstützen haltung tier verbessern',\n",
       "  'lebensraum deutschland international verantwor tung tragen wattenmeer alt buchenwälder gemeinsam land schützen entwi- ckeln',\n",
       "  'fluß moore schützen renaturieren   renaturierung fluß aue wald wiederver nassung moore all schützen selten lebensraum biologisch vielfalt klima',\n",
       "  'renaturierungsoffensive starten',\n",
       "  'naturnah bach letzter frei fließend fluß elbe erhalten bleiben ausbau lehnen gelten tideelbe',\n",
       "  'maßnahme ökologisch zustand fließgewass verschlechtern erlauben',\n",
       "  'vorgabe europäi sch durchsetzen',\n",
       "  'fluß weit au überschwemmungsgebiet gut schutz hoch   bundestagswahlprogramm',\n",
       "  'bündnis grünen bundestagswahlprogramm',\n",
       "  'spezifisch programm wild bach naturnah fluß see aue feuchtgebiet blau band stärken gemeinsam land eu- wasserrahmenrichtlinie konsequent umsetzen',\n",
       "  'torfnutzung moore schnell umfassend wiedervernässen',\n",
       "  'legen gemeinsam land großflächig wirksam moor renaturierungsprogramm',\n",
       "  'intakt moore torfabbau überdüngung entwässerung retten streng schutz stellen',\n",
       "  'sauberes wasser leben   wasser wichtigstes lebensmittel',\n",
       "  'düngemittel pestizid waschmittelrückstände medikamentenreste gehören wasser',\n",
       "  'produktverantwortung hersteller innen stärken',\n",
       "  'verringern verbessert genehmigung entsorgungsvorschrift medikament bildung resistenz gefahr arzneimittelrück- stehen wasser',\n",
       "  'setzen eu-wasserrecht konsequent reduzieren eintrag hormonverändernd stoff mikroplastik wasser deutlich',\n",
       "  'vorsorge prinzip gewässerschutz richtschnur   bundestagswahlprogramm',\n",
       "  'meer schützen plastikmüllflut stoppen   meer befinden katastrophal zustand drohen versauerung überdüngung überfi- schung verschmutzung plastikmüll verschlechtern',\n",
       "  'plastikmüllflut einhalt gebieten international verbindlich abkommen stopp plastikvermüllung meer weg bringen sofortprogramm ehrgei- zig müllvermeidungsziel auflegen',\n",
       "  'technik fördern bergung munitionsaltlast nord ostsee umweltverträglich abfischen müll meer ermög- licht',\n",
       "  'überfi- schung beenden fischbestand stabilisieren fischer in nen nachhaltig perspektive geben fangquote fischereiabkomme anpassen schonzeite ausdehnen umstellung fischerei umwelt klima- artenschonend fangmethod erreichen',\n",
       "  'wichtig schritt ökologisch fischerei aquakultur auskömmlich honorie- ren verbindlich verbraucher*inne transparent   bundestagswahlprogramm',\n",
       "  'bündnis grünen bundestagswahlprogramm',\n",
       "  'kennzeichnung',\n",
       "  'lebendig weltmeer umsetzung eu-meeresstrategie-rahmenrichtlinie tiefseebergbaumorato rium ausweisung großflächig nutzungsfreien mee- resschutzgebieten notwendig',\n",
       "  'ausgediente handy tablet verstauben schublade obwohl wiederverwenden recyceln können',\n",
       "  'müll verursachen ressourcenverschwendung stoppen',\n",
       "  'gelingen hersteller*inn müllverursachenden stark verantwortung nehmen konzept kreislaufwirtschaft ganzheitlich design herstellung nutzung entsorgung produkt berücksichtigen',\n",
       "  'flasche pfandautomate passen to go-mehrwegbecher standard',\n",
       "  'ressourcenschatz alt elektrogerät kreislauf finden schaffen schritt pfand handy tablet energieintensiv akku',\n",
       "  'ausgestaltung müllsammlung position kommune stärken',\n",
       "  'kunststoffsort verbundstoff reduzieren gift- frei',\n",
       "  'biowertstoffe gehören verbrennung verwerten',\n",
       "  'kreislaufwirtschaft normal',\n",
       "  'bundestagswahlprogramm',\n",
       "  'weltge sundheitsorganisation sehen hormonstörend chemikalie global gesundheitsbedrohung',\n",
       "  'giftig chemikalie erkrankung krebs diabet allergie ungewollt kinderlosigkeit auslösen alltagsprodukt verban- nen eu-recht chemikalienbereich verbessern schnell konsequent durchsetzen',\n",
       "  'besondere augenmerk richten spielzeug kinderpflegeprodukt alltagsprodukt textilie möbel elektronik',\n",
       "  'deutschland frankreich folgen nachweisen giftig chemikalie bisphenol kochgeschirr lebensmittelverpackung per polyfluo- riert kohlenwasserstoff papier pappe verbieten',\n",
       "  'sauber luft atmen   brauchen sauber luft atmen',\n",
       "  'schlimm berechnung europäisch umweltage tur sterben deutschland pro mensch vorzeitig luftverschmutzung verursacht krankheit',\n",
       "  'ökologi- sch modernisierung bieten riesig chance luft verbessern',\n",
       "  'entwicklung beschleunigen grenzwert-empfehlung weltgesundheitsorganisation luftschadstoff schnellstmög- lich umsetzen',\n",
       "  'bündnis grünen bundestagswahlprogramm',\n",
       "  'blick nehmen zusammenhang entschei dung feuerwerk einzelne regeln geben hingehören ort',\n",
       "  'jeder zehntelgrad erderhitzung kämpfen veränderung anpassen',\n",
       "  'lichtverschmutzung ein dämmen mensch tier pflanze schädigen wesentlich verschwinden insekt vögeln beitragen',\n",
       "  'bundestagswahlprogramm',\n",
       "  'leitbild weiterentwickelnd ökologisch landwirtschaft prinzip tiergerechtigkeit gentechnikfreiheit freiheit chemisch-syn- thetisch pestizide',\n",
       "  'ökolandbau umfangreich fördern voraussetzung schaffen künftig bäuer*innen lebensmiittelhersteller*innen umstellen',\n",
       "  'ziel prozent ökolandbau   agrarforschung ökologisierung landwirtschaft deutlich ausweiten',\n",
       "  'stickstoffüberschüß deutlich redu- zieren',\n",
       "  'monokultur pestizid chemisch-synthetischer dünger führen global süden erheblich schaden gesundheit umwelt kleinbau er*innen europäisch dumpingexport patentiert saatgut landraub abhängigkeit treiben',\n",
       "  'nahrung garantieren kleinbäuerlich struktur stärken',\n",
       "  'unterstützen agrar entwicklung politik global sozial-ökologische agrarwende',\n",
       "  'bundestagswahlprogramm',\n",
       "  'bündnis grünen bundestagswahlprogramm',\n",
       "  'pestizid reduzieren   grund einsatz pestizide landwirtschaft deutlich herunterzufahren',\n",
       "  'schutz menschlich gesundheit gehören',\n",
       "  'wirksam artenschutz betreiben trinkwasser schützen ausbringung pestizide naturschutzgebiet trinkwasserschutzgebiet untersagen flächendeckend pestizidmonitoring einführen',\n",
       "  'export pestizide beenden   bundestagswahlprogramm',\n",
       "  'deutschland eu aufgrund umwelt gesundheit risiko zulassen verbieten',\n",
       "  'zulas- sungsverfahren pestizid verbessern transparenz unabhängigkeit stärken',\n",
       "  'ökologisch pflanzenschutz kooperation land umfassend kombiniert for- schungs- umsetzung beratungsprogramm chemisch synthetisch pflanzenschutz auflegen',\n",
       "  'technologie umgang alt gentechnisch verfahren einerseits freiheit forschung gewährleisten andererseits anwendung gefahr mensch umwelt ausschließen',\n",
       "  'streng zulassungsverfahren europdisch verankert vorsorgeprinzip festhalten',\n",
       "  'bleiben risikoprüfung umfassend wissenschaftlich basis regulierung unkontrollierbar verbreitung ausschließen verbindlich kennzeichnung gentechnikfrei produktion wahlfreiheit verbraucher*inne schützen nötig',\n",
       "  'junglandwirt*in neueinsteiger innen unterstützen maß-   bundestagswahlprogramm',\n",
       "  'bündnis grünen bundestagswahlprogramm',\n",
       "  'lebensmittelerzeugung verarbeitung fair bedingung herrschen',\n",
       "  'sozial ungerechtigkeit beenden',\n",
       "  'bundestagswahlprogramm',\n",
       "  'umsteuern stellschraube neu justieren gesund ernähren einfach',\n",
       "  'brauchen verbindlich reduktionsstrategie zucker salz fett zusatzstoff fertiglebensmittel ökonomisch anreiz gesünd produkt',\n",
       "  'lebensmittelwer bung kind richten klar regel kriterium weltgesundheitsorganisation orientieren',\n",
       "  'fair gehandelt kaffee steuer runtersetzen',\n",
       "  'insgesamt forderung eu-kommission umweltfol gekost lebensmittelbereich steuerlich berücksichtigen ökologisch steuerreform aufgreifen pflanzlich tierisch lebensmittel preis ökologisch sozial gerecht darstellen',\n",
       "  'lebensmittelverschwendung entschlossen',\n",
       "  'lebensmittel müll ret- ten sogenannter container entkriminalisiern',\n",
       "  'bundestagswahlprogramm',\n",
       "  'bündnis grünen bundestagswahlprogramm',\n",
       "  'klar lebensmittelkennzeichnung   nachhaltig gesund essen erkennen',\n",
       "  'verpflichtend tierhaltungskennzeich nung anspruchsvoll kriterium fleisch leben tierisch bestandteil einführen einsetzen eu-weit verbindlich',\n",
       "  'wei terentwicklung tierschutzstandard rechnung tragen',\n",
       "  'nährwertkennzeichnung nutriscore weiterentwickeln eu-weit fertigprodukt anwenden',\n",
       "  'transparenz herkunft lebensmittel verbessern',\n",
       "  'einheit- lich kennzeichnung vegetarisch vegan lebensmittel brauchen eu-weit rechtsverbindlich definition vege tarisch vegan',\n",
       "  'brauchen ausweg',\n",
       "  'lösung deutlich tier halten tier wesentlich bess leben ermöglichen',\n",
       "  'tier brauchen platz auslauf freie beschäftigung artspezifisch verbind lich regeln eu-ebene deutlich anhebung tierschutzstandard einsetzen',\n",
       "  'tierschutz wirtschaftlich   bundestagswahlprogramm',\n",
       "  'tiergerecht brandsicheren umbau stall standard halten',\n",
       "  'wer- gezielt fördern weidetierhaltung okolo gisch wertvoll grünland erhalten sinnvoll nutzen',\n",
       "  'stall tier zumindest entsprechend eu-ökoverordnung halten bauen',\n",
       "  'amputation eingriff betäubung qualvoll betäubungsmethod käfig anbindehaltung beenden',\n",
       "  'einsatz antibiotikum landwirt- schaftlich tierhaltung deutlich senken',\n",
       "  'lebendtiertran port vermeiden ziehen regional mobil schlach tung schlacht zentral schlachthof fördern',\n",
       "  'tier mensch halten besonderer ver- antwortung',\n",
       "  'anerkannt tierschutzorganisation   bundestagswahlprogramm',\n",
       "  'bündnis grünen bundestagswahlprogramm',\n",
       "  'ein*e unabhängig r bundestierschutzbeauftragte r auskunft akteneinsichtsrechte wahrnehmen rechtsverstoß bean- standen',\n",
       "  'haltung wildtier zirkusse beenden',\n",
       "  'arbeiten beteiligt akteur*inn zukunftsorientiert tierfrei forschung fördern investition tierfrei innovation weiterentwicklung verbessert medikamente sicherheitsprüfung beschleunigen zulassung tierversuchs frei verfahren',\n",
       "  'eu-vorgabe tierversuch end- lich deutsch umsetzen',\n",
       "  'wildtierhandel leine legen   covid-pandemie deutlich gesundheit umwelt tier mensch zusammendachen die ser planetary-health-ansatz prinzip unser handeln',\n",
       "  'raubbau natur zukunft',\n",
       "  'herkunftsland wirtschaftlich alternative aufbauen',\n",
       "  'indust- riell tierhaltung pandemie beitragen coronain-   bundestagswahlprogramm',\n",
       "  'tierhaltung notwendigkeit eindammung möglich zoonose ausrichten',\n",
       "  'einsetzen haltung tier handel pelz pelztierfarmen beenden',\n",
       "  'bundestagswahlprogramm',\n",
       "  'bündnis grünen bundestagswahlprogramm',\n",
       "  'grün technologie deutschland weltweit nachfragen',\n",
       "  'sehen agilität unternehmer*inn idee geschäftsmodell entwickeln sozial verantwortung gerecht wol len',\n",
       "  'deutschland europa zukunftstechnologie spitze bean- spruch',\n",
       "  'nutzen gestaltungsmöglichkeit deutsch gpräsidentschaft    stehen deutsch europäisch wirtschaft gro ßem druck industrieland global wettbewerb autoritär staatskapitalismus weitgehend unreguliert tech gigant behaupten',\n",
       "  'klug anstellen wirtschaft finanzsystem neu eichen',\n",
       "  'sor   bundestagswahlprogramm',\n",
       "  'sozial-ökologische marktwirtschaft sinn gemeinwohl europa begründen wohlstand nachhaltigkeit gerechtigkeit versöhnen mensch dienen',\n",
       "  'staat wirtschaften wirtschaft klar verhältnis verlässlich politisch rahmen bedingung anreiz brauchen',\n",
       "  'innovationskraft beschäftigter unternehmer innen entfalten einzelbetrieblich sinnvoll entscheidung nachhaltig wohlstand',\n",
       "  'markt nachhaltig sozial gestalten innovation ent- fachen transformation brauchen',\n",
       "  'schaffen anreiz streichen umweltschädlich subvention setzen ordnungspolitisch regel nachhaltig produzieren handeln konsumieren',\n",
       "  'ungerechtigkeit steuersystem entschlossen nutzen lenkungswirkung steuer klimaschutz kreislaufwirtschaft',\n",
       "  'sorgen wohlha-   bundestagswahlprogramm',\n",
       "  'bündnis grünen bundestagswahlprogramm',\n",
       "  'bend reich mensch konzern verantwor tung stark stellen',\n",
       "  'global konzern mächtig staat gelten primat demokratisch politik behaup- ten',\n",
       "  'enorm kluft arm reiche verrin- gesellschaft ungleichheit gering insgesamt zufrieden gesellschaft',\n",
       "  'europäer*inne unser stark gemeinsam binnenmarkt international standard setzen innovation vor- antreiben',\n",
       "  'solange wettbewerbsverzerrung brauchen schutz eu-binnenmarkt kritisch infra struktur',\n",
       "  'setzen gemeinsam strategisch außenwirtschaftspolitik fairness gebot inter national wettbewerb frei welthandel welt nachhaltig menschenrechtskonform wirtschaften beför- dern',\n",
       "  'bundesregierung europäisch union co,-frei wirtschaftsraum',\n",
       "  'legen grundlage deutschland europa erfolgreich industriestandort leistungsfähig mittel stehen hoch wertschöpfung stark sozialstaat gut arbeit plätz bleiben traditionsreich innovativ industrie unternehmen maschinenbau mittelständisch betrieb',\n",
       "  'marke -- germany gütesiegel zukunftsfähig wirtschaft klimaneut- rale sozial europa',\n",
       "  'brauchen vielfältig wirtschaft wider- standsfähig krise',\n",
       "  'bundestagswahlprogramm',\n",
       "  'gute politik beitragen letzter sträflich versaumt gemeinsam zukunft investieren',\n",
       "  'gelingen sozial-ökologisch transformation schaffen nachhaltig wohlstand sichern wettbewerbsfähigkeit unse- res land handlungsfähig europäisch union',\n",
       "  'neustart corona-krise   corona-pandemie unternehmen hart treffen',\n",
       "  'beson- ders hart restaurant gaststätte hotel tourismus veranstaltungsbranche kulturwirtschaft einzel händler*inn solo-selbständig betreffen',\n",
       "  'neustart corona-krise gezielt betroffen branche   bundestagswahlprogramm',\n",
       "  'bündnis grünen bundestagswahlprogramm',\n",
       "  'helfen signal richtungswechsel kli- maneutralität setzen',\n",
       "  'sichern existenz erhalten arbeit plätze setzen zielgenau konjunkturell impuls',\n",
       "  'selbständige sicher auftrag handlungsfähig kommune neustart pandemie unterstützen',\n",
       "  'kunst kulturbranche abgestimmt kulturförderpolitik stärken gründungschance',\n",
       "  'hilfe gelten firma staatshilfe erhalten dividende ausschütten',\n",
       "  'steuerlich förderung forschung künftig gezielt kmus start-up fließen wirksamkeit evaluieren erhöhen',\n",
       "  'bundestagswahlprogramm',\n",
       "  'gründungskapital einführen   wohlstand sichern brauchen gründer*innenwell',\n",
       "  'gründungskapital gründer in- nen nachfolger*innen einmalbetrag maximal euro sicherstellen sorgen idee neustart eigenkapital scheitern',\n",
       "  'bedingung gefördert gründung un-nachhaltigkeitsziel aus richten wirtschaftlichkeitsprüfung sachverständige durchführen',\n",
       "  'gründer*inn verwaltungsdickicht quälen infor- mation beratung möglichkeit anmeldung zen- tralen anlaufstelle erhalten überall deutschland',\n",
       "  'frau gründung nachfolg unterrepräsentiert gezielt fördern staat- lich wagniskapitalfonds frau',\n",
       "  'vergabe auswahl gremien besetzen paritätisch',\n",
       "  'hürde mensch migrationsgeschichte abbauen lässt land riesig potenzial brachliegen',\n",
       "  'start ups digital lösung gemeinwohl stärken',\n",
       "  'integrieren sozial-ökologischen kriterium stark bestehend gründungsfinanzierung',\n",
       "  '-ausstoß',\n",
       "  'industrie technologievorreiter entwicklung klimaneutral prozeß',\n",
       "  'maschi- nenbau weltweit einsatz grün technologie made germany schlüsselrolle einnehmen',\n",
       "  'investition langfristig klima-   bundestagswahlprogramm',\n",
       "  'bündnis grünen bundestagswahlprogramm',\n",
       "  ...],\n",
       " 'Infrastruktur': ['de internet gruene',\n",
       "  'einladung   kapitel   lebensgrundiagen schützen schaffen klimagerecht wohlstand   schaffen versorgungssicherheit erneuerbar   sorgen nachhaltig mobilität   schützen natur umwelt leben   stärken bäuer*innen tier natur   ermöglichen tier bess leben   kapitel   zukunft wirtschaften   fördern unternehmer*innengeist wettbewerb idee   geben markt sozial- ökologisch rahmen   bringen digitalisierung voran   kämpfen fair nachhaltig handel   finanzmarkt stabil nachhaltig    bundestagswahlprogramm',\n",
       "  'haushalt solide weitsichtig gerecht',\n",
       "  'investieren lebenswert dorf stadt',\n",
       "  'kapitel   leben   staat effektiv bürger*innennäh   treten vielfalt anerkennung gleich   erneuern demokratisch fundament   gestalten vielfältig einwanderung gesellschaft   rücken feminismus queerpolitik geschlechtergerechtigkeit fokus   stärken sicherheit bürger*innenrechte   garantieren rechtsstaat stärken verbraucherschutz   fördern kultur kunst sport   bauen europa   kapitel   international zusammenarbeiten   treiben sozial-öökologische trans formation voran   stärken multilateral zusammenarbeit   arbeiten gut beziehung multipolar welt    bundestagswahlprogramm',\n",
       "  'taglich wachsen pandemie mensch hinaus krankenhaus altersheim supermarkt labor kind eltern lehrkraft distanzunterricht jugendliche haus selbständige groß anpassungsfähigkeit zeigen',\n",
       "  'wissen sozial-ökologische marktwirtschaft entwickeln zukunftsfähig job sozial schutz fair wettbewerb deutschland europa zusammenbringen globalisierung klar regel setzen multinational konzern angemessen besteuern',\n",
       "  'wissen stark gesundheitsversorgung modern infrastruktur schu len öffentlich raum funktionierend bür- ger*innennah staat investieren',\n",
       "  'ungleich heit verringern gleichwertig lebensverhältnis dorf kleinstadt metropole herstellen kind zentrum rücken',\n",
       "  'aufschwung gesellschaftlich leben stärke vielfalt erfassen bildung kultur arbeit digitalisierung wissenschaft innovation',\n",
       "  'leihgabe verpflichten sauber politik politik bürger*inne persönlich interesse stellen rechenschaft ablegen grenze setzen',\n",
       "  'fossil verbrennungsmotor festhalten schaf- fen mobilität bahn rad fuß emissionsfrei auto',\n",
       "  'auto stadt bedeuten platz mensch',\n",
       "  'leiser straße sauber luft die nen villa ruhig stadtrand leisten',\n",
       "  'sozial-ökologi- sch transformation gelingen gemeinsam verlust verringern brücke bauen',\n",
       "  'klimagerechter wohlstand bedeuten ökologie soziale zusammenzudenken übergang gestalten mensch stadt land',\n",
       "  'schaffen klimagerecht wohlstand   lebensqualität klimaneutralität   weg klimaneutralität bieten riesig chance leben qualität stadt stau abgase platz sicher rad fahren fuß spielen leben',\n",
       "  'dorf anbinden öffentlich nahverkehr',\n",
       "  'beseitigen kontinuierlich prozess bestehend ausbauhemmnis naturver- traglich zugunsten bürger*inne',\n",
       "  'ziel gebäude dämmen verbrauchsarm auto elektrisch betreiben effizient gewerbe indus trieprozesse weitergabe nutzung abwärme',\n",
       "  'grün digitalisierung   vernetzt fahrzeug effizient industrie punktgenau verteilung regenerativ energie intelligent bewässerung feld digital datengetrieben innovation energie ressourcenverbrauch reduzieren zukunftstechno- logien führend',\n",
       "  'aktuell lahmen ausbau erneuerbar energie koh- leausstieg spät verkehr gebäudesektor voran',\n",
       "  'fortdauernd emission heutig niveau deutsch co,-budget verbrauchen linear reduktion   lang zeitverlauf treibhausgasneutralität erfordern über   bundestagswahlprogramm',\n",
       "  'ungenügend klimaschutzgesetz generationen- budget- gerecht nachschärfen jahres- sektorenscharf ausbuchstabieren rolle expertenrat klimafrag stärken deutsch klimaziel mindestens minus prozent anheben',\n",
       "  'pendler*innen niedrig einkommen anpassung unterstützen legen klimabonus-fonds großzügig hilfe unterstützen umstieg bus bahn emissionsfrei fahrzeug',\n",
       "  'co,-bremse gesetz   klimaschutz systematisch rechtsordnung auf nehmen',\n",
       "  'vorgabe pariser klimavertrag atom ausstieg grundgesetz verankern ökologie wei- ter grundprinzip staatlich handeln stärken',\n",
       "  'tagebau zuhause verlassen',\n",
       "  'braunkohletagebau garzweiler enteignung vertreibung bedroht mensch land nordrhein-westfa- len planung rechtssicherheit erhalt zukunft dorf geben',\n",
       "  'solardäch standard   energiewende mitmachen mie- ter*inn hausbesitzer*innen',\n",
       "  'beginnend neubau öffentlich gewerbegebäude dachsa- nierung standard perspektivisch bestand ausweiten',\n",
       "  'ausbau vorzugsweise versiegelt fläche parkplatz autobahn schiene konversion berg baufolgefläch erfolgen wertvoll ackerland',\n",
       "  'planung gelten bürgerin frühzeitig einbeziehen beteiligen erlös kommune profitieren',\n",
       "  'sorgen frühzeitig bürger*innenbetei- ligung ort klar vorrang bzw',\n",
       "  'bürger innen-projekt wind solarpark fördern europarechtlich garantiert möglich   bundestagswahlprogramm',\n",
       "  'keit bürger innen-energiegemeinschaft vollumfänglich aus- schöpfen',\n",
       "  'leiten einstieg ausstieg fossil planung infrastruktur strom wärme wasserstoff brauchen update klimaneutralität mittelpunkt stellen',\n",
       "  'gaskraftwerk infrastruktur kohleausstieg brauchen geben aktuell zwingend notwendig wasserstoff ready planen bauen',\n",
       "  'hafenter minal anlandung flüssigerdgas geneh- migen',\n",
       "  'entsprechend infrastruktur schaffen',\n",
       "  'wesentlich frühzeitig bürger innenbeteiligung',\n",
       "  'stromübertragungsnetze natürlich monopol kritisch infra struktur darstellen öffentlich einfluss stär- ken',\n",
       "  'treiben reform netzentgelt voran transparenz stärken kosten energiewende fair verteilen benachteili gung ländlich region insbesondere norden osten finanzierung notwendig netzausbaukost beseitigen',\n",
       "  'klima-sanierungsoffensiv gebäude hoch neubau bauwerk inklusive   baustoff gesamt lebenszyklus klimaneutral planen entsprechend umfassend energetisch sanierung erfolgen',\n",
       "  'dreh angelpunkt festlegung hoch bau sanierung standards neubaute kfw   passivhausstan dard entsprechen gebäudebestand sanierung kfw ausnahme denkmalgeschützt gebäude',\n",
       "  'kfw-förderpro- grammen weiterentwickeln bezug ver- wendung nachhaltig baustoff',\n",
       "  'öffentlich hand gebäude vorbild vorangehen',\n",
       "  'gebäudebe stehen heizungsaustausch anstehen umfassend sanieren neubau ausschließlich erneuerbar wärmequell einsatz',\n",
       "  'verbunden klimaneutral energiesystem fördern städtisch gebiet',\n",
       "  'zustand gebäude wärmeversorgung ändern wertsteigerung modernisierung profitieren',\n",
       "  'rückbau bestehend atomkraftwerk schleunigst zeit verzögerung hoch sicherheitsniveau erfolgen',\n",
       "  'voraussetzung zwische endlage rung schwach mittel hochradioaktiv abfall hoch sicherheitsstandard',\n",
       "  'sorgen nachhaltig mobilität   mobilitätswende grundlage geben   weg klimaneutralität erfordern mobilität   jahr hundert grundlegend neu denken',\n",
       "  'liegen chance stadt dorf lebensqualität mobilität klima- zerstörung stau verkehrstot freiheit teilhabe wohlstand',\n",
       "  'verkehrsmittel auto stellen men- schen vielfältig bedürfnis mittelpunkt verletzlichste gesellschaft kind jugendliche seniorin mensch handicap',\n",
       "  'mobilität politik konsequent mobilitätsbedürfnisse mensch sicherheit klimaschutz verkehrsvermeidung flächengerechtig keit lärmschutz luftqualität sozial teilhabe geschlechter gerechtigkeit ausrichten',\n",
       "  'jahrzehnt verkehr träger einseitig bevorzugen sorgen fair balance stark bahn modern öpnv bedingun gen radfahrer*in fußgänger*inn',\n",
       "  'mobilitätswende brauchen gut gesetzlich grundlage beschleunigung umsetzung',\n",
       "  'deutschlandtakt weiterent- wickeln realisieren mensch resilienter aufeinander abgestimmt bahnangebot stadt land   bundestagswahlprogramm',\n",
       "  'deutsch großstadt regelmäßig fern- verkehr anbinden takt regionalverkehr verdichten zugverkehr stark fläche bringen',\n",
       "  'ergänzen angebot schnell sprinterzug nachtzug europäisch metropole bezahlbar miteinander ver binden',\n",
       "  'aus neubau elektrifizierung digitalisierung netz treiben zügig voran',\n",
       "  'milliarde euro ver- teilen   zusätzlich schienennetz bahnhof investieren zusammenwirken land regionali sierungsmittel zweckgebunden erhöhen sodass pro-kopf-investitione europäisch niveau angleichen',\n",
       "  'bahnhof modern barrierefrei mobilitätsstation aufwer ten',\n",
       "  'kombination bahn fahrrad busverkehr deutlich verbessern mitnahmemöglich keit fahrrad zug erweitern',\n",
       "  'jung mensch ausbil dung studium klimafreundlich bezahlbar mobilität unterstützen',\n",
       "  'deutsche-bahn-konzer transparent effizient kerngeschäft ausrichten eisenbahn deutschland benachbart euro paisch ausland',\n",
       "  'setzen stark verlagerung straße flugverkehr schiene',\n",
       "  'öpnv ausbauen   bus bahn bieten preiswert mobilität verringern autoverkehr',\n",
       "  'öffentlich personennahverkehr attraktiv innovativ vollständig barrierefrei',\n",
       "  'zusam- men land zukunft ausbauoffensiv starten mobilitätsgarantie flächendeckend anbindung schaffen investition fahrzeug öpnv-netz erhöhen finanzierungsinstrument gemeindeverkehrsfinanzierung gesetz regionalisierungsmittel ziel ausbauen',\n",
       "  'einsatz emissionsfrei buss ansteigend quote attraktiv förderung kommune vorantrei- ben vorrangig ausbau reaktivierung straßenbahn unterstützen',\n",
       "  'deutschland fahrradland stärken fußgänger innen   fahrrad mobilitätswende riesig potenzial',\n",
       "  'potenzial ausschöpfen deutschland fahrradland',\n",
       "  'radfahren sicher attraktiv überall',\n",
       "  'radweg stadt pendelstreck verbindung dorf dorf touristisch radweg hoch qualität hoch sicherheitsstandard separiert radinfrastruktur beschilderung kartierung auszeichnen',\n",
       "  'vision lückenlos fahrradnetz deutschland anschluß grenzregione',\n",
       "  'verstärken bundesförderung beratungsangebot ausbau modernisierung radinfrastruktur schaffen schlagkräftig kompetenzzentrum radverkehr bezuschussen anschaffung job- lastenräder s-pedelecs',\n",
       "  'straßenverkehrs- reformieren radfahrer*inn schützen gleichberechtigt platz straßenraum bekommen',\n",
       "  'verkehrsweg bund ausgebaut radweg niederländisch vorbild bestand baumaßnahme regel',\n",
       "  'national fußmobilitätsstrategie schaffen barrierefreiheit verkehrssicherheit aufenthaltsqualität fußgänger*inn',\n",
       "  'deutsch mobilität wirtschaft vorreiterin mobilitätslösung digitalisierung nachhaltig inklusiv ausgewogen ver- kehrswend nutzen',\n",
       "  'wechsel fahrrad bus bahn attraktiv finanziell fördern',\n",
       "  'autonom fahren ver- bessern rechtsrahmen schwerpunkt öffentlich verkehr',\n",
       "  'kind alt men- schen mensch behinderung brauchen besonderer auf merksamkeit verkehrsplanung',\n",
       "  'mensch fahrrad steigen öfter fuß zeitgemäß verkehrsre geln sicher gestaltung verkehrsinfrastruktur neu- verteilung fläche entscheidend',\n",
       "  'sicherheit straße erreichen geschlos- sen ortschaft regel ausnahme-verhältnis umkehren',\n",
       "  'autobahn sicherheitstempo km h',\n",
       "  'besonderer grund notwendig beispielsweise stadt ballungsgebiet herum gelten maximal km h',\n",
       "  'unfall fahrrad fahrer*innen fufßgänger*innen innenstadt verhindern verbindlich technisch lösung lkw-abbiegeassis- tenzsysteme vollautomatisch assistenzsystem warnsystem voranbringen',\n",
       "  'sorgen gut zug bus rad fußweg flankierend maßnahme hälfte weg umweltver- bund zurücklegen',\n",
       "  'hilfe digitalisierung autonom fahren stärkung neu   bundestagswahlprogramm',\n",
       "  'beschleunigen flä chendeckend ausbau einheitlich ladeinfrastruktur beson- ders ländlich raum inklusive schnellladesäule',\n",
       "  'modern verkehrsinfrastruktur   verkehrspolitik jahrzehntelang einseitig straßenbau pkw- verkehr fördern',\n",
       "  'zukunft modern mobilität jahrhundert verlangen priorität',\n",
       "  'deutsch land brauchen infrastrukturentwicklung grad-pfad einhalten mensch zukunftsfähig sicher mobilität ermöglichen',\n",
       "  'gen gut bedingung homeoffice wiederkehr nahversorgung ort stadtviertel unterstützen',\n",
       "  'verkehrsweg zusätzlich baum bestandserhalt grün infrastruktur sorgen',\n",
       "  'trotz klima artenkrise obwohl deutschland dichte straßennetze welt enthalten bundesverkehrswegeplan hundert straßenbaupro jekt landschaft naturzerschneid klimaschutz gefährden',\n",
       "  'deutschland mangel straße autobahn',\n",
       "  'bundesver kehrswegeplan schnellstmöglich bundesnetzplan ersetzen verkehrsinfrastrukturplanung systematisch erfordernis mobilitätswende ausrichten vor- gesehen neu ausbaut autobahn bundesfernstra ßen deutlich reduzieren',\n",
       "  'erfordern grundsätzlich änderung bisherig standardisiert bewertungsverfahr berechnungs- grundlage kriterium berücksichtigung tatsächlich klima umweltkoste gründlich prüfung alternative verkehrsträger einbeziehen verbesserung unzureichend beteiligung bürger innen verband abkehr sogenannter finanzierungskreislauf straße',\n",
       "  'anstehend überprü- fung aktuell bundesverkehrswegeplan zudem nut- zen bau befindlich abschnitt umweltschädlich straßenneubau straßenausbauprojekt klima umwelt bedarfsprüfung unterziehen deutlich reduzieren',\n",
       "  'gelten umso ausufernd straßenneubau bin det anderswo dringend brauchen',\n",
       "  'straßenneu -ausbau weitgehend umschich- ten zugunsten sanierung marod infrastruktur aus- bau schiene radwegeinfrastruktur',\n",
       "  'autobahngesellschaft',\n",
       "  'straßenfahrzeug zug leise aktiv lärmschutz bestand',\n",
       "  'mobil land mobilitätsgarantie   ländlich raum mobilitätswende anspruchsvoll mensch auto angewiesen',\n",
       "  'erreichen mobilität land auto barrierefrei',\n",
       "  'land mobilität garantie gesetzlich definiert standard erreichbarkeit erschließung einführen erweitert angebot öffentlich mobilität ländlich raum entwickeln lokal initiative unterstützen radweg ausbauen',\n",
       "  'dennoch auto mensch ländlich raum unverzichtbar familie wegzudenken',\n",
       "  'mobilitätswende stadt   nirgendwo mobilitätswende sehnlich erwarten innenstadt unfall stau abgas lärm platz kind spiel begegnungsraum autozentriert stadt klimaschädlich schön ort leben',\n",
       "  'stadt lebenswert mobilitätswende gezielt unterstützen',\n",
       "  'erleichtern raum straße vielfältig nutzbar attraktiv rad   bundestagswahlprogramm',\n",
       "  'fußweg anlegen verkehrsberuhigt autofrei innenstadt stadtviertel vorantreiben grünfläche entsiegelung schaffen',\n",
       "  'stadt kommune planung hoheit zurückgeben öffentlich raum gerecht aufteilen stringent parkraumbewirtschaf tung auto überall expli- zit ausgewiesen fläche parken gut möglichkeit fahrradparkplatz vorgeben auto fahrradparkplatz umwidmen',\n",
       "  'flugverkehr zukunftsfähig ausrichten   fliegen bringen welt nah klima- schädlich fortbewegungsart',\n",
       "  'kurzstreckenflug sofort zug zug verringern überflüs- sig massiv bahnangebot direkt nachtzugverbindunge ausweiten fair wettbewerbsbedin gungen verkehrsmittel sorgen ökologisch kosten wiederspiegeln',\n",
       "  'umweltschädlich subvention abbauen fortlaufend finanzhilfe flughafen beenden',\n",
       "  'ausbau flughafeninfrastruktur lehnen',\n",
       "  'entwicklung flug verkehr drohne messen lassen beitrag nachhaltig mobilitätswende leisten',\n",
       "  'reduktion fluglärm brauchen flugzeug pflicht aktiv schallschutz leis flugzeug ech tes nachtflugverbot gleichstellung militärisch zivi- len flughafen novellierung gesetzlich grundlage streng grenzwert',\n",
       "  'zukunftsfähiger güterverkehr   deutschland million tonne gut transportieren zumeist form endlos lkw-karawan unser straße',\n",
       "  'lkw-verkehr güterverkehr straße schiene verlagern',\n",
       "  'setzen zudem regional wirtschaftskreislauf chance digitalisierung vernetzung organisa tion logistik',\n",
       "  'städtisch logistik einsatz lastenräder cargo-iram fördern verteilkon zept cityhub güterbeförderung letzter meile per konzession vorantreiben',\n",
       "  'moderni- siert binnenschiff künftig wichtig beitrag klimaneutral gütertransport liefern',\n",
       "  'sehen verant wortung gut ökologisch zustand wasserstraße',\n",
       "  'wertvoll landschaftselement artenreich blumenwies streuobstbeständ weinbau-terras- sen allee einzelbaum blühstreife entlang straße kommunal fläche schützen neu schaffen',\n",
       "  'gesetzlich mindeststandard festlegen waldbewirtschaftung naturnah umbau wieder neubewaldung ökologisch bewirtschaf tungsvorgabe ausrichten waldbesitzer*innen qua- lihzierter förderung beratung unterstützen',\n",
       "  'bewirtschaftung fläche öffentlich hand ökologisch kriterium knüpfen wald fsc naturlandstandard landwirtschaft ökolandbau zertifizieren',\n",
       "  'einsetzen schutz meer verbindlich abkommen schärfen vollzugsdefizite regellücko schließen fokus rücken legal verschmutzung tankwäschen hoch see verbieten übernutzung verhindern',\n",
       "  'landnutzer*innen lebensunterhalt schutzmafßsnah- men bedrohen ausgleich erhalten',\n",
       "  'des- halb aufgabe bundeswasserstraßenverwaltung öko- logisch kriterium neu ausrichten',\n",
       "  'schutz unser grundwasser see fluss meer klar gesetzlich vorgabe flächenbindung tierhaltung pestizid dünge- mitteleinsatzes verankern kläranlage verbessern',\n",
       "  'fördern mehrweg transport online-handel einkauf lebensmittel verpackung',\n",
       "  'grün unser stadt verbessern luftqualität',\n",
       "  'klimaanpassung natur stadt   klimakrise verändern zunehmend rahmenbedingung unse- res zusammenleben',\n",
       "  'ländlich räu- men gelten insbesondere land forstwirtschaft tourismus fischerei anpassung unterstützen schaden dür- ren ernteausfall waldsterben verringern',\n",
       "  'stadt wol- len hitzewelle starkregen wappnen hit- zeaktionsplän stadtumbau stadtgrün bodenentsiegelung frischluftschneise gebäudebe grünung wasserfläche öffentlich trinkbrunne',\n",
       "  'schwamm stadt künftig wasser aufnehmen speichern sommer kühlend wirken',\n",
       "  'verbesserung baurecht städtebau förderung stadt land helfen all schnellstmöglich ort umsetzen',\n",
       "  'tier pflanze stadt wichtig lebensraum',\n",
       "  'natur stadt ausweiten',\n",
       "  'gemeinsam bürger*inne bäuer*innen erreichen',\n",
       "  'vielfältig fruchtfolg widerstandsfähig anbausystem agroforst stärken nutzung robust pflanzen- sorten tierrasse',\n",
       "  'öffentliches geld öffentlich leistung   gemeinsam agrarpolitik eu instrument sozial ökologisch agrarpolitik industrialisierung landwirtschaft',\n",
       "  'aus- steigen pestizidabhängigkeit landwirtschaft schnell machbar gestalten systematisch pestizidreduktion strategie sofortverbot umwelttoxisch wirkstoff häufig eingesetzt pestizid glyphosat',\n",
       "  'angesichts klima biodiversitätskrise züchtung robust sorte forschung oko- logisch saatgut vorantreiben forschung alternativ ansatz stärken traditionell ökologisch züchtung verfahren setzen',\n",
       "  'öffent lich geld gezielt beratung umgang auflage kennzeichnungsvorschrift vorrangig mittlerer bäuerlich betrieb handwerker innen zugutekommen',\n",
       "  'ernährung fördern lebensmittel retten   gesunde ökologisch wertvoll lebensmittel mensch deutschland zugänglich gesund ernährung geldbeutel abhängen',\n",
       "  'kita schule krankenhaus pflegeheim mense kantin unterstützen gesund regional ökologisch erzeugt essen anbieten vollwertig vegetari- sches vegan essen täglich angebot gehören',\n",
       "  'vegetarisch vegan ernährung attrakti- ver zugänglich mensch',\n",
       "  'rettet die-lebensmittel- gesetz verbindlich reduktionsziel einführen lebensmittelhandel produzent*inn verpflichten genusstauglich lebensmittel wei- terzugebe wegwerfen',\n",
       "  'tiertransport stunde begrenzen kontrollieren lebendtiertransport drittstaat außerhalb eu verbieten',\n",
       "  'tier schützen respektieren   tier fühlend lebewesen brauchen schutz wer- gesetzlich regelung tierhaltung verbessern',\n",
       "  'gelten wirkungsvoll sanktion tierschutzvergehen tierschutz strafrecht verankern gemeinsam land kommune effektiv vollzug hinwirken',\n",
       "  'tierschutzbeauftragte zudem zuständig bundesbehörde unterstützen gesetzesvor- tierschutzangelegenheit beteiligen',\n",
       "  'digitalisierung bedeuten umbruch wirtschaft gesellschaft maßgeblich prägen',\n",
       "  'starten umfas- send investitionsoffensive öffentlich privat immens investitionsstau unser land begegnen klimaschutz digi- talisierung bildung deutlich stärken',\n",
       "  'anhaltend schwer wirtschaftlich ungleichgewicht europa weltweit ebenfalls helfen abbauen deutschland verstärkt öffentlich investieren lohn durchsetzen',\n",
       "  'staat beitragen öffentlich privat investitio nen gemeinsam ziel ausrichten europa anschluss bereich modern zukunftstechnologie halten wettbewerb usa china behaupten',\n",
       "  'klimaneut- ral infrastruktur ladesäule ausbau bahn fuß radverkehr emissionsfrei bus energiespeichertechnologie erneuerbar energie modern stadtentwicklung',\n",
       "  'digitalisierung klimaneutralität staat unternehmen gemeinsam angriff nehmen',\n",
       "  'öffentlich investitionszuschuß technologie starthilfe geben klima- verträge helfen dauerhaft planungssicherheit langfristig klima schutzinvestitione geben',\n",
       "  'öffentlich vergabe beziehen start-ups vereinfachen vergabeverfahren regel eignungsprüfung',\n",
       "  'transformation automobilwirtschaft wichtig akteur nachhaltig mobilität notwendig',\n",
       "  'leninfrastruktur markthochlauf emissionsfrei fahrzeu gen rahmen kostenneutral bonus-malus-system fördern',\n",
       "  'blick nötig sektoral strukturförderung aufbau wasserstoffinfrastruktur solarmodul batteriezellferti gung förderung halbleiterindustrie europäisch ausrichtung entscheidend',\n",
       "  'verpackung gebäude auto laptop schaffen gesetzlich rahmenbedingung ökonomisch anreiz produkt verwen- det wiederverwenden gemeinsam nutzen reparieren hochwertig recycelen',\n",
       "  'still beteiligung öffentlich institu tion ausgründungsstandard',\n",
       "  'ministerium verwaltung anstalt öffentlich recht kommunal verband kommunal unternehmen perspektivisch ebenfalls prozent frau führungsposition anstreben',\n",
       "  'konsequent anwendung verbesserung sogenannter kmu test national europäisch ebene erforderlich ausbau innovationsorientiert öffentlich beschaffung',\n",
       "  'derprogramme investitionszuschuß nachhaltig aus gestalten sorgen kmus zugutekommen',\n",
       "  'passgenau beratung klimaschutz digitalisierung fördern lang zeitraum',\n",
       "  'bezahlbar miete mittlerer unternehmen   immobilienspekulation stadt vielfach gewerbemiete wirtschaftlich unverträglich ansteigen entwicklung sicht',\n",
       "  'verbraucherschutz zweck gesetz wettbewerbsbeschränkung behördlich durch setzung effektiv stärken',\n",
       "  'bieten ländlich raum jung mensch perspek tive',\n",
       "  'liegen ökologisch transformation riesig chance gebäudesanierung heizungstausch',\n",
       "  'durchlässigkeit studium handwerk selbstverständlich genauso international austausch zugang stipendi',\n",
       "  'nachhaltigen sanft tourismus ländlich region gezielt entwickeln ausbau touristisch rad wasserweg',\n",
       "  'bahn tourismus-reise- nummer europäisch nachtzugnetz gezielt anbindung touristisch region bahnnetz',\n",
       "  'zukunft gemeinsam jahreswirtschaftsbericht jahreswohl standsbericht veröffentlichen',\n",
       "  'entsprechend ändern erfolgsmessung unter nehmensebene ergänzen bilanzierungsregel sozial ökologisch wert beispielsweise treibhausemission setzen international vorschrift',\n",
       "  'umfassen gesetzesvorschlag bereich klima umweltschutz gestärkt wett bewerbsfähigkeit energiesicherheit innovationsdynamik dekarbonisiert europäisch wirtschaft',\n",
       "  'bringen digitalisierung voran   europäisch cloud-infrastruktur   datum schlüsselressource digital welt insbesondere anwendung künstlich intelligenz',\n",
       "  'hierfür brauchen klar gesetzlich spielregel kooperativ dezentral datenpool datentreuhandmodelle datengenossenschaft gemeinsam kartellbe- hörd überprüfbar nutzung datum ermöglichen',\n",
       "  'kritisch infrastruktur schützen gemeinsam europäisch cloud-infrastruktur basis open-source-technologi reali- sieren',\n",
       "  'strategie frau digitalisierung vorlegen umsetzen',\n",
       "  'hinaus fördern familiengerecht ausbildungsweg frau beruflich hintergrund zugang digital branche',\n",
       "  'vergabe fördermittel öffentlich investition frauenanteil organisation bzw',\n",
       "  'neutral produkt zugrunde liegend datum somit diskriminierend vorurteilsbehaften',\n",
       "  'öffentlich kontrolle regel behörde schulen technisch aufstellen',\n",
       "  'bedeuten moderni sierung gleichbehandlungsgesetz streng kriterium einsatz algorithmisch automatisch entscheidung insbesondere öffentlich verwaltung',\n",
       "  'kritisch infrastruktur beispielsweise stromnetze schützen',\n",
       "  'ausbau digital infrastruktur integrität kritisch infrastruktur digital souveränität europa einhaltung menschenrecht privatsphäre sicherstellen',\n",
       "  'beteiligung vertrau- enswürdig unternehmen insbesondere autoritär staat kritisch infrastruktur lehnen',\n",
       "  'fairer han del standard postkolonial kontinuität durchbrechen',\n",
       "  'lieferkettengesetz europäisch umsetzen   kaufen ding herstellung raubbau mensch natur basieren obwohl',\n",
       "  'nachbesserung deutsch lieferket- tengesetz dringend notwendig ausweitung erfasst unternehmen erweiterung umwelt bezogen sorgfaltspflicht',\n",
       "  'ren menschenrechtsverletzung kind zwangsarbeit zusammenhang stehen zugang eu-bin- nenmarkt verwehren',\n",
       "  'durchsetzen öffentlich hand voll- ständig investition zurückziehen weiterhin verlässlich schritt nachhaltig transformation dahin- terstehend unternehmen einleiten',\n",
       "  'brauchen bafin robust esg-aufsichtskompetenz gemäß sustainable-finance-regulie- rung',\n",
       "  'aufdeckung bilanzbetrug ziel gesetzlich verankern',\n",
       "  'vollenden europäisch wirtschaft währungsunion   europa zukunft investieren   europa gesellschaft unternehmen leben stark öffentlich infrastruktur',\n",
       "  'wichtig zukunftsfeld digitalisierung   batterieproduktion drohen europa anschluss verlieren',\n",
       "  'eu konsequent klimaschutz digitalisierung for- schung bildung investieren',\n",
       "  'gleichzeitig stärken eu-haushalt   bundestagswahlprogramm',\n",
       "  'besteuerung plastik digitalkonzern möglichst finanztran aktion eu-haushalt stärken',\n",
       "  'öffentlich daseinsfürsorge gesundheitsversorgung bildung europäisch mitgliedsland stärken',\n",
       "  'fonds sta- bilisiert krisenfall investieren europäisch öffentlich gut klima forschung digital infrastruktur eisenbahn bildung',\n",
       "  'haushalt solide weitsichtig gerecht   bundeshaushalt zukunftstauglich   bundeshaushalt nachhaltig gerecht trans- parenter',\n",
       "  'subventionieren öffentlich haushalt land milliarde euro klimaschädlich verhalten',\n",
       "  'de internet gruene',\n",
       "  'einladung   kapitel   lebensgrundiagen schützen schaffen klimagerecht wohlstand   schaffen versorgungssicherheit erneuerbar   sorgen nachhaltig mobilität   schützen natur umwelt leben   stärken bäuer*innen tier natur   ermöglichen tier bess leben   kapitel   zukunft wirtschaften   fördern unternehmer*innengeist wettbewerb idee   geben markt sozial- ökologisch rahmen   bringen digitalisierung voran   kämpfen fair nachhaltig handel   finanzmarkt stabil nachhaltig    bundestagswahlprogramm',\n",
       "  'haushalt solide weitsichtig gerecht',\n",
       "  'investieren lebenswert dorf stadt',\n",
       "  'kapitel   leben   staat effektiv bürger*innennäh   treten vielfalt anerkennung gleich   erneuern demokratisch fundament   gestalten vielfältig einwanderung gesellschaft   rücken feminismus queerpolitik geschlechtergerechtigkeit fokus   stärken sicherheit bürger*innenrechte   garantieren rechtsstaat stärken verbraucherschutz   fördern kultur kunst sport   bauen europa   kapitel   international zusammenarbeiten   treiben sozial-öökologische trans formation voran   stärken multilateral zusammenarbeit   arbeiten gut beziehung multipolar welt    bundestagswahlprogramm',\n",
       "  'taglich wachsen pandemie mensch hinaus krankenhaus altersheim supermarkt labor kind eltern lehrkraft distanzunterricht jugendliche haus selbständige groß anpassungsfähigkeit zeigen',\n",
       "  'wissen sozial-ökologische marktwirtschaft entwickeln zukunftsfähig job sozial schutz fair wettbewerb deutschland europa zusammenbringen globalisierung klar regel setzen multinational konzern angemessen besteuern',\n",
       "  'wissen stark gesundheitsversorgung modern infrastruktur schu len öffentlich raum funktionierend bür- ger*innennah staat investieren',\n",
       "  'ungleich heit verringern gleichwertig lebensverhältnis dorf kleinstadt metropole herstellen kind zentrum rücken',\n",
       "  'aufschwung gesellschaftlich leben stärke vielfalt erfassen bildung kultur arbeit digitalisierung wissenschaft innovation',\n",
       "  'leihgabe verpflichten sauber politik politik bürger*inne persönlich interesse stellen rechenschaft ablegen grenze setzen',\n",
       "  'fossil verbrennungsmotor festhalten schaf- fen mobilität bahn rad fuß emissionsfrei auto',\n",
       "  'auto stadt bedeuten platz mensch',\n",
       "  'leiser straße sauber luft die nen villa ruhig stadtrand leisten',\n",
       "  'sozial-ökologi- sch transformation gelingen gemeinsam verlust verringern brücke bauen',\n",
       "  'klimagerechter wohlstand bedeuten ökologie soziale zusammenzudenken übergang gestalten mensch stadt land',\n",
       "  'schaffen klimagerecht wohlstand   lebensqualität klimaneutralität   weg klimaneutralität bieten riesig chance leben qualität stadt stau abgase platz sicher rad fahren fuß spielen leben',\n",
       "  'dorf anbinden öffentlich nahverkehr',\n",
       "  'beseitigen kontinuierlich prozess bestehend ausbauhemmnis naturver- traglich zugunsten bürger*inne',\n",
       "  'ziel gebäude dämmen verbrauchsarm auto elektrisch betreiben effizient gewerbe indus trieprozesse weitergabe nutzung abwärme',\n",
       "  'grün digitalisierung   vernetzt fahrzeug effizient industrie punktgenau verteilung regenerativ energie intelligent bewässerung feld digital datengetrieben innovation energie ressourcenverbrauch reduzieren zukunftstechno- logien führend',\n",
       "  'aktuell lahmen ausbau erneuerbar energie koh- leausstieg spät verkehr gebäudesektor voran',\n",
       "  'fortdauernd emission heutig niveau deutsch co,-budget verbrauchen linear reduktion   lang zeitverlauf treibhausgasneutralität erfordern über   bundestagswahlprogramm',\n",
       "  'ungenügend klimaschutzgesetz generationen- budget- gerecht nachschärfen jahres- sektorenscharf ausbuchstabieren rolle expertenrat klimafrag stärken deutsch klimaziel mindestens minus prozent anheben',\n",
       "  'pendler*innen niedrig einkommen anpassung unterstützen legen klimabonus-fonds großzügig hilfe unterstützen umstieg bus bahn emissionsfrei fahrzeug',\n",
       "  'co,-bremse gesetz   klimaschutz systematisch rechtsordnung auf nehmen',\n",
       "  'vorgabe pariser klimavertrag atom ausstieg grundgesetz verankern ökologie wei- ter grundprinzip staatlich handeln stärken',\n",
       "  'tagebau zuhause verlassen',\n",
       "  'braunkohletagebau garzweiler enteignung vertreibung bedroht mensch land nordrhein-westfa- len planung rechtssicherheit erhalt zukunft dorf geben',\n",
       "  'solardäch standard   energiewende mitmachen mie- ter*inn hausbesitzer*innen',\n",
       "  'beginnend neubau öffentlich gewerbegebäude dachsa- nierung standard perspektivisch bestand ausweiten',\n",
       "  'ausbau vorzugsweise versiegelt fläche parkplatz autobahn schiene konversion berg baufolgefläch erfolgen wertvoll ackerland',\n",
       "  'planung gelten bürgerin frühzeitig einbeziehen beteiligen erlös kommune profitieren',\n",
       "  'sorgen frühzeitig bürger*innenbetei- ligung ort klar vorrang bzw',\n",
       "  'bürger innen-projekt wind solarpark fördern europarechtlich garantiert möglich   bundestagswahlprogramm',\n",
       "  'keit bürger innen-energiegemeinschaft vollumfänglich aus- schöpfen',\n",
       "  'leiten einstieg ausstieg fossil planung infrastruktur strom wärme wasserstoff brauchen update klimaneutralität mittelpunkt stellen',\n",
       "  'gaskraftwerk infrastruktur kohleausstieg brauchen geben aktuell zwingend notwendig wasserstoff ready planen bauen',\n",
       "  'hafenter minal anlandung flüssigerdgas geneh- migen',\n",
       "  'entsprechend infrastruktur schaffen',\n",
       "  'wesentlich frühzeitig bürger innenbeteiligung',\n",
       "  'stromübertragungsnetze natürlich monopol kritisch infra struktur darstellen öffentlich einfluss stär- ken',\n",
       "  'treiben reform netzentgelt voran transparenz stärken kosten energiewende fair verteilen benachteili gung ländlich region insbesondere norden osten finanzierung notwendig netzausbaukost beseitigen',\n",
       "  'klima-sanierungsoffensiv gebäude hoch neubau bauwerk inklusive   baustoff gesamt lebenszyklus klimaneutral planen entsprechend umfassend energetisch sanierung erfolgen',\n",
       "  'dreh angelpunkt festlegung hoch bau sanierung standards neubaute kfw   passivhausstan dard entsprechen gebäudebestand sanierung kfw ausnahme denkmalgeschützt gebäude',\n",
       "  'kfw-förderpro- grammen weiterentwickeln bezug ver- wendung nachhaltig baustoff',\n",
       "  'öffentlich hand gebäude vorbild vorangehen',\n",
       "  'gebäudebe stehen heizungsaustausch anstehen umfassend sanieren neubau ausschließlich erneuerbar wärmequell einsatz',\n",
       "  'verbunden klimaneutral energiesystem fördern städtisch gebiet',\n",
       "  'zustand gebäude wärmeversorgung ändern wertsteigerung modernisierung profitieren',\n",
       "  'rückbau bestehend atomkraftwerk schleunigst zeit verzögerung hoch sicherheitsniveau erfolgen',\n",
       "  'voraussetzung zwische endlage rung schwach mittel hochradioaktiv abfall hoch sicherheitsstandard',\n",
       "  'sorgen nachhaltig mobilität   mobilitätswende grundlage geben   weg klimaneutralität erfordern mobilität   jahr hundert grundlegend neu denken',\n",
       "  'liegen chance stadt dorf lebensqualität mobilität klima- zerstörung stau verkehrstot freiheit teilhabe wohlstand',\n",
       "  'verkehrsmittel auto stellen men- schen vielfältig bedürfnis mittelpunkt verletzlichste gesellschaft kind jugendliche seniorin mensch handicap',\n",
       "  'mobilität politik konsequent mobilitätsbedürfnisse mensch sicherheit klimaschutz verkehrsvermeidung flächengerechtig keit lärmschutz luftqualität sozial teilhabe geschlechter gerechtigkeit ausrichten',\n",
       "  'jahrzehnt verkehr träger einseitig bevorzugen sorgen fair balance stark bahn modern öpnv bedingun gen radfahrer*in fußgänger*inn',\n",
       "  'mobilitätswende brauchen gut gesetzlich grundlage beschleunigung umsetzung',\n",
       "  'deutschlandtakt weiterent- wickeln realisieren mensch resilienter aufeinander abgestimmt bahnangebot stadt land   bundestagswahlprogramm',\n",
       "  'deutsch großstadt regelmäßig fern- verkehr anbinden takt regionalverkehr verdichten zugverkehr stark fläche bringen',\n",
       "  'ergänzen angebot schnell sprinterzug nachtzug europäisch metropole bezahlbar miteinander ver binden',\n",
       "  'aus neubau elektrifizierung digitalisierung netz treiben zügig voran',\n",
       "  'milliarde euro ver- teilen   zusätzlich schienennetz bahnhof investieren zusammenwirken land regionali sierungsmittel zweckgebunden erhöhen sodass pro-kopf-investitione europäisch niveau angleichen',\n",
       "  'bahnhof modern barrierefrei mobilitätsstation aufwer ten',\n",
       "  'kombination bahn fahrrad busverkehr deutlich verbessern mitnahmemöglich keit fahrrad zug erweitern',\n",
       "  'jung mensch ausbil dung studium klimafreundlich bezahlbar mobilität unterstützen',\n",
       "  'deutsche-bahn-konzer transparent effizient kerngeschäft ausrichten eisenbahn deutschland benachbart euro paisch ausland',\n",
       "  'setzen stark verlagerung straße flugverkehr schiene',\n",
       "  'öpnv ausbauen   bus bahn bieten preiswert mobilität verringern autoverkehr',\n",
       "  'öffentlich personennahverkehr attraktiv innovativ vollständig barrierefrei',\n",
       "  'zusam- men land zukunft ausbauoffensiv starten mobilitätsgarantie flächendeckend anbindung schaffen investition fahrzeug öpnv-netz erhöhen finanzierungsinstrument gemeindeverkehrsfinanzierung gesetz regionalisierungsmittel ziel ausbauen',\n",
       "  'einsatz emissionsfrei buss ansteigend quote attraktiv förderung kommune vorantrei- ben vorrangig ausbau reaktivierung straßenbahn unterstützen',\n",
       "  'deutschland fahrradland stärken fußgänger innen   fahrrad mobilitätswende riesig potenzial',\n",
       "  'potenzial ausschöpfen deutschland fahrradland',\n",
       "  'radfahren sicher attraktiv überall',\n",
       "  'radweg stadt pendelstreck verbindung dorf dorf touristisch radweg hoch qualität hoch sicherheitsstandard separiert radinfrastruktur beschilderung kartierung auszeichnen',\n",
       "  'vision lückenlos fahrradnetz deutschland anschluß grenzregione',\n",
       "  'verstärken bundesförderung beratungsangebot ausbau modernisierung radinfrastruktur schaffen schlagkräftig kompetenzzentrum radverkehr bezuschussen anschaffung job- lastenräder s-pedelecs',\n",
       "  'straßenverkehrs- reformieren radfahrer*inn schützen gleichberechtigt platz straßenraum bekommen',\n",
       "  'verkehrsweg bund ausgebaut radweg niederländisch vorbild bestand baumaßnahme regel',\n",
       "  'national fußmobilitätsstrategie schaffen barrierefreiheit verkehrssicherheit aufenthaltsqualität fußgänger*inn',\n",
       "  'deutsch mobilität wirtschaft vorreiterin mobilitätslösung digitalisierung nachhaltig inklusiv ausgewogen ver- kehrswend nutzen',\n",
       "  'wechsel fahrrad bus bahn attraktiv finanziell fördern',\n",
       "  'autonom fahren ver- bessern rechtsrahmen schwerpunkt öffentlich verkehr',\n",
       "  'kind alt men- schen mensch behinderung brauchen besonderer auf merksamkeit verkehrsplanung',\n",
       "  'mensch fahrrad steigen öfter fuß zeitgemäß verkehrsre geln sicher gestaltung verkehrsinfrastruktur neu- verteilung fläche entscheidend',\n",
       "  'sicherheit straße erreichen geschlos- sen ortschaft regel ausnahme-verhältnis umkehren',\n",
       "  'autobahn sicherheitstempo km h',\n",
       "  'besonderer grund notwendig beispielsweise stadt ballungsgebiet herum gelten maximal km h',\n",
       "  'unfall fahrrad fahrer*innen fufßgänger*innen innenstadt verhindern verbindlich technisch lösung lkw-abbiegeassis- tenzsysteme vollautomatisch assistenzsystem warnsystem voranbringen',\n",
       "  'sorgen gut zug bus rad fußweg flankierend maßnahme hälfte weg umweltver- bund zurücklegen',\n",
       "  'hilfe digitalisierung autonom fahren stärkung neu   bundestagswahlprogramm',\n",
       "  'beschleunigen flä chendeckend ausbau einheitlich ladeinfrastruktur beson- ders ländlich raum inklusive schnellladesäule',\n",
       "  'modern verkehrsinfrastruktur   verkehrspolitik jahrzehntelang einseitig straßenbau pkw- verkehr fördern',\n",
       "  'zukunft modern mobilität jahrhundert verlangen priorität',\n",
       "  'deutsch land brauchen infrastrukturentwicklung grad-pfad einhalten mensch zukunftsfähig sicher mobilität ermöglichen',\n",
       "  'gen gut bedingung homeoffice wiederkehr nahversorgung ort stadtviertel unterstützen',\n",
       "  'verkehrsweg zusätzlich baum bestandserhalt grün infrastruktur sorgen',\n",
       "  'trotz klima artenkrise obwohl deutschland dichte straßennetze welt enthalten bundesverkehrswegeplan hundert straßenbaupro jekt landschaft naturzerschneid klimaschutz gefährden',\n",
       "  'deutschland mangel straße autobahn',\n",
       "  'bundesver kehrswegeplan schnellstmöglich bundesnetzplan ersetzen verkehrsinfrastrukturplanung systematisch erfordernis mobilitätswende ausrichten vor- gesehen neu ausbaut autobahn bundesfernstra ßen deutlich reduzieren',\n",
       "  'erfordern grundsätzlich änderung bisherig standardisiert bewertungsverfahr berechnungs- grundlage kriterium berücksichtigung tatsächlich klima umweltkoste gründlich prüfung alternative verkehrsträger einbeziehen verbesserung unzureichend beteiligung bürger innen verband abkehr sogenannter finanzierungskreislauf straße',\n",
       "  'anstehend überprü- fung aktuell bundesverkehrswegeplan zudem nut- zen bau befindlich abschnitt umweltschädlich straßenneubau straßenausbauprojekt klima umwelt bedarfsprüfung unterziehen deutlich reduzieren',\n",
       "  'gelten umso ausufernd straßenneubau bin det anderswo dringend brauchen',\n",
       "  'straßenneu -ausbau weitgehend umschich- ten zugunsten sanierung marod infrastruktur aus- bau schiene radwegeinfrastruktur',\n",
       "  'autobahngesellschaft',\n",
       "  'straßenfahrzeug zug leise aktiv lärmschutz bestand',\n",
       "  'mobil land mobilitätsgarantie   ländlich raum mobilitätswende anspruchsvoll mensch auto angewiesen',\n",
       "  'erreichen mobilität land auto barrierefrei',\n",
       "  'land mobilität garantie gesetzlich definiert standard erreichbarkeit erschließung einführen erweitert angebot öffentlich mobilität ländlich raum entwickeln lokal initiative unterstützen radweg ausbauen',\n",
       "  'dennoch auto mensch ländlich raum unverzichtbar familie wegzudenken',\n",
       "  'mobilitätswende stadt   nirgendwo mobilitätswende sehnlich erwarten innenstadt unfall stau abgas lärm platz kind spiel begegnungsraum autozentriert stadt klimaschädlich schön ort leben',\n",
       "  'stadt lebenswert mobilitätswende gezielt unterstützen',\n",
       "  'erleichtern raum straße vielfältig nutzbar attraktiv rad   bundestagswahlprogramm',\n",
       "  'fußweg anlegen verkehrsberuhigt autofrei innenstadt stadtviertel vorantreiben grünfläche entsiegelung schaffen',\n",
       "  'stadt kommune planung hoheit zurückgeben öffentlich raum gerecht aufteilen stringent parkraumbewirtschaf tung auto überall expli- zit ausgewiesen fläche parken gut möglichkeit fahrradparkplatz vorgeben auto fahrradparkplatz umwidmen',\n",
       "  'flugverkehr zukunftsfähig ausrichten   fliegen bringen welt nah klima- schädlich fortbewegungsart',\n",
       "  'kurzstreckenflug sofort zug zug verringern überflüs- sig massiv bahnangebot direkt nachtzugverbindunge ausweiten fair wettbewerbsbedin gungen verkehrsmittel sorgen ökologisch kosten wiederspiegeln',\n",
       "  'umweltschädlich subvention abbauen fortlaufend finanzhilfe flughafen beenden',\n",
       "  'ausbau flughafeninfrastruktur lehnen',\n",
       "  'entwicklung flug verkehr drohne messen lassen beitrag nachhaltig mobilitätswende leisten',\n",
       "  'reduktion fluglärm brauchen flugzeug pflicht aktiv schallschutz leis flugzeug ech tes nachtflugverbot gleichstellung militärisch zivi- len flughafen novellierung gesetzlich grundlage streng grenzwert',\n",
       "  'zukunftsfähiger güterverkehr   deutschland million tonne gut transportieren zumeist form endlos lkw-karawan unser straße',\n",
       "  'lkw-verkehr güterverkehr straße schiene verlagern',\n",
       "  'setzen zudem regional wirtschaftskreislauf chance digitalisierung vernetzung organisa tion logistik',\n",
       "  'städtisch logistik einsatz lastenräder cargo-iram fördern verteilkon zept cityhub güterbeförderung letzter meile per konzession vorantreiben',\n",
       "  'moderni- siert binnenschiff künftig wichtig beitrag klimaneutral gütertransport liefern',\n",
       "  'sehen verant wortung gut ökologisch zustand wasserstraße',\n",
       "  'wertvoll landschaftselement artenreich blumenwies streuobstbeständ weinbau-terras- sen allee einzelbaum blühstreife entlang straße kommunal fläche schützen neu schaffen',\n",
       "  'gesetzlich mindeststandard festlegen waldbewirtschaftung naturnah umbau wieder neubewaldung ökologisch bewirtschaf tungsvorgabe ausrichten waldbesitzer*innen qua- lihzierter förderung beratung unterstützen',\n",
       "  'bewirtschaftung fläche öffentlich hand ökologisch kriterium knüpfen wald fsc naturlandstandard landwirtschaft ökolandbau zertifizieren',\n",
       "  'einsetzen schutz meer verbindlich abkommen schärfen vollzugsdefizite regellücko schließen fokus rücken legal verschmutzung tankwäschen hoch see verbieten übernutzung verhindern',\n",
       "  'landnutzer*innen lebensunterhalt schutzmafßsnah- men bedrohen ausgleich erhalten',\n",
       "  'des- halb aufgabe bundeswasserstraßenverwaltung öko- logisch kriterium neu ausrichten',\n",
       "  'schutz unser grundwasser see fluss meer klar gesetzlich vorgabe flächenbindung tierhaltung pestizid dünge- mitteleinsatzes verankern kläranlage verbessern',\n",
       "  'fördern mehrweg transport online-handel einkauf lebensmittel verpackung',\n",
       "  'grün unser stadt verbessern luftqualität',\n",
       "  'klimaanpassung natur stadt   klimakrise verändern zunehmend rahmenbedingung unse- res zusammenleben',\n",
       "  'ländlich räu- men gelten insbesondere land forstwirtschaft tourismus fischerei anpassung unterstützen schaden dür- ren ernteausfall waldsterben verringern',\n",
       "  'stadt wol- len hitzewelle starkregen wappnen hit- zeaktionsplän stadtumbau stadtgrün bodenentsiegelung frischluftschneise gebäudebe grünung wasserfläche öffentlich trinkbrunne',\n",
       "  'schwamm stadt künftig wasser aufnehmen speichern sommer kühlend wirken',\n",
       "  'verbesserung baurecht städtebau förderung stadt land helfen all schnellstmöglich ort umsetzen',\n",
       "  'tier pflanze stadt wichtig lebensraum',\n",
       "  'natur stadt ausweiten',\n",
       "  'gemeinsam bürger*inne bäuer*innen erreichen',\n",
       "  'vielfältig fruchtfolg widerstandsfähig anbausystem agroforst stärken nutzung robust pflanzen- sorten tierrasse',\n",
       "  'öffentliches geld öffentlich leistung   gemeinsam agrarpolitik eu instrument sozial ökologisch agrarpolitik industrialisierung landwirtschaft',\n",
       "  'aus- steigen pestizidabhängigkeit landwirtschaft schnell machbar gestalten systematisch pestizidreduktion strategie sofortverbot umwelttoxisch wirkstoff häufig eingesetzt pestizid glyphosat',\n",
       "  'angesichts klima biodiversitätskrise züchtung robust sorte forschung oko- logisch saatgut vorantreiben forschung alternativ ansatz stärken traditionell ökologisch züchtung verfahren setzen',\n",
       "  'öffent lich geld gezielt beratung umgang auflage kennzeichnungsvorschrift vorrangig mittlerer bäuerlich betrieb handwerker innen zugutekommen',\n",
       "  'ernährung fördern lebensmittel retten   gesunde ökologisch wertvoll lebensmittel mensch deutschland zugänglich gesund ernährung geldbeutel abhängen',\n",
       "  'kita schule krankenhaus pflegeheim mense kantin unterstützen gesund regional ökologisch erzeugt essen anbieten vollwertig vegetari- sches vegan essen täglich angebot gehören',\n",
       "  'vegetarisch vegan ernährung attrakti- ver zugänglich mensch',\n",
       "  'rettet die-lebensmittel- gesetz verbindlich reduktionsziel einführen lebensmittelhandel produzent*inn verpflichten genusstauglich lebensmittel wei- terzugebe wegwerfen',\n",
       "  'tiertransport stunde begrenzen kontrollieren lebendtiertransport drittstaat außerhalb eu verbieten',\n",
       "  'tier schützen respektieren   tier fühlend lebewesen brauchen schutz wer- gesetzlich regelung tierhaltung verbessern',\n",
       "  'gelten wirkungsvoll sanktion tierschutzvergehen tierschutz strafrecht verankern gemeinsam land kommune effektiv vollzug hinwirken',\n",
       "  'tierschutzbeauftragte zudem zuständig bundesbehörde unterstützen gesetzesvor- tierschutzangelegenheit beteiligen',\n",
       "  'digitalisierung bedeuten umbruch wirtschaft gesellschaft maßgeblich prägen',\n",
       "  'starten umfas- send investitionsoffensive öffentlich privat immens investitionsstau unser land begegnen klimaschutz digi- talisierung bildung deutlich stärken',\n",
       "  'anhaltend schwer wirtschaftlich ungleichgewicht europa weltweit ebenfalls helfen abbauen deutschland verstärkt öffentlich investieren lohn durchsetzen',\n",
       "  'staat beitragen öffentlich privat investitio nen gemeinsam ziel ausrichten europa anschluss bereich modern zukunftstechnologie halten wettbewerb usa china behaupten',\n",
       "  'klimaneut- ral infrastruktur ladesäule ausbau bahn fuß radverkehr emissionsfrei bus energiespeichertechnologie erneuerbar energie modern stadtentwicklung',\n",
       "  'digitalisierung klimaneutralität staat unternehmen gemeinsam angriff nehmen',\n",
       "  'öffentlich investitionszuschuß technologie starthilfe geben klima- verträge helfen dauerhaft planungssicherheit langfristig klima schutzinvestitione geben',\n",
       "  'öffentlich vergabe beziehen start-ups vereinfachen vergabeverfahren regel eignungsprüfung',\n",
       "  'transformation automobilwirtschaft wichtig akteur nachhaltig mobilität notwendig',\n",
       "  'leninfrastruktur markthochlauf emissionsfrei fahrzeu gen rahmen kostenneutral bonus-malus-system fördern',\n",
       "  'blick nötig sektoral strukturförderung aufbau wasserstoffinfrastruktur solarmodul batteriezellferti gung förderung halbleiterindustrie europäisch ausrichtung entscheidend',\n",
       "  'verpackung gebäude auto laptop schaffen gesetzlich rahmenbedingung ökonomisch anreiz produkt verwen- det wiederverwenden gemeinsam nutzen reparieren hochwertig recycelen',\n",
       "  'still beteiligung öffentlich institu tion ausgründungsstandard',\n",
       "  'ministerium verwaltung anstalt öffentlich recht kommunal verband kommunal unternehmen perspektivisch ebenfalls prozent frau führungsposition anstreben',\n",
       "  'konsequent anwendung verbesserung sogenannter kmu test national europäisch ebene erforderlich ausbau innovationsorientiert öffentlich beschaffung',\n",
       "  'derprogramme investitionszuschuß nachhaltig aus gestalten sorgen kmus zugutekommen',\n",
       "  'passgenau beratung klimaschutz digitalisierung fördern lang zeitraum',\n",
       "  'bezahlbar miete mittlerer unternehmen   immobilienspekulation stadt vielfach gewerbemiete wirtschaftlich unverträglich ansteigen entwicklung sicht',\n",
       "  'verbraucherschutz zweck gesetz wettbewerbsbeschränkung behördlich durch setzung effektiv stärken',\n",
       "  'bieten ländlich raum jung mensch perspek tive',\n",
       "  'liegen ökologisch transformation riesig chance gebäudesanierung heizungstausch',\n",
       "  'durchlässigkeit studium handwerk selbstverständlich genauso international austausch zugang stipendi',\n",
       "  'nachhaltigen sanft tourismus ländlich region gezielt entwickeln ausbau touristisch rad wasserweg',\n",
       "  'bahn tourismus-reise- nummer europäisch nachtzugnetz gezielt anbindung touristisch region bahnnetz',\n",
       "  'zukunft gemeinsam jahreswirtschaftsbericht jahreswohl standsbericht veröffentlichen',\n",
       "  'entsprechend ändern erfolgsmessung unter nehmensebene ergänzen bilanzierungsregel sozial ökologisch wert beispielsweise treibhausemission setzen international vorschrift',\n",
       "  'umfassen gesetzesvorschlag bereich klima umweltschutz gestärkt wett bewerbsfähigkeit energiesicherheit innovationsdynamik dekarbonisiert europäisch wirtschaft',\n",
       "  'bringen digitalisierung voran   europäisch cloud-infrastruktur   datum schlüsselressource digital welt insbesondere anwendung künstlich intelligenz',\n",
       "  'hierfür brauchen klar gesetzlich spielregel kooperativ dezentral datenpool datentreuhandmodelle datengenossenschaft gemeinsam kartellbe- hörd überprüfbar nutzung datum ermöglichen',\n",
       "  'kritisch infrastruktur schützen gemeinsam europäisch cloud-infrastruktur basis open-source-technologi reali- sieren',\n",
       "  'strategie frau digitalisierung vorlegen umsetzen',\n",
       "  'hinaus fördern familiengerecht ausbildungsweg frau beruflich hintergrund zugang digital branche',\n",
       "  'vergabe fördermittel öffentlich investition frauenanteil organisation bzw',\n",
       "  'neutral produkt zugrunde liegend datum somit diskriminierend vorurteilsbehaften',\n",
       "  'öffentlich kontrolle regel behörde schulen technisch aufstellen',\n",
       "  'bedeuten moderni sierung gleichbehandlungsgesetz streng kriterium einsatz algorithmisch automatisch entscheidung insbesondere öffentlich verwaltung',\n",
       "  'kritisch infrastruktur beispielsweise stromnetze schützen',\n",
       "  'ausbau digital infrastruktur integrität kritisch infrastruktur digital souveränität europa einhaltung menschenrecht privatsphäre sicherstellen',\n",
       "  'beteiligung vertrau- enswürdig unternehmen insbesondere autoritär staat kritisch infrastruktur lehnen',\n",
       "  'fairer han del standard postkolonial kontinuität durchbrechen',\n",
       "  'lieferkettengesetz europäisch umsetzen   kaufen ding herstellung raubbau mensch natur basieren obwohl',\n",
       "  'nachbesserung deutsch lieferket- tengesetz dringend notwendig ausweitung erfasst unternehmen erweiterung umwelt bezogen sorgfaltspflicht',\n",
       "  'ren menschenrechtsverletzung kind zwangsarbeit zusammenhang stehen zugang eu-bin- nenmarkt verwehren',\n",
       "  'durchsetzen öffentlich hand voll- ständig investition zurückziehen weiterhin verlässlich schritt nachhaltig transformation dahin- terstehend unternehmen einleiten',\n",
       "  'brauchen bafin robust esg-aufsichtskompetenz gemäß sustainable-finance-regulie- rung',\n",
       "  'aufdeckung bilanzbetrug ziel gesetzlich verankern',\n",
       "  'vollenden europäisch wirtschaft währungsunion   europa zukunft investieren   europa gesellschaft unternehmen leben stark öffentlich infrastruktur',\n",
       "  'wichtig zukunftsfeld digitalisierung   batterieproduktion drohen europa anschluss verlieren',\n",
       "  'eu konsequent klimaschutz digitalisierung for- schung bildung investieren',\n",
       "  'gleichzeitig stärken eu-haushalt   bundestagswahlprogramm',\n",
       "  'besteuerung plastik digitalkonzern möglichst finanztran aktion eu-haushalt stärken',\n",
       "  'öffentlich daseinsfürsorge gesundheitsversorgung bildung europäisch mitgliedsland stärken',\n",
       "  'fonds sta- bilisiert krisenfall investieren europäisch öffentlich gut klima forschung digital infrastruktur eisenbahn bildung',\n",
       "  'haushalt solide weitsichtig gerecht   bundeshaushalt zukunftstauglich   bundeshaushalt nachhaltig gerecht trans- parenter',\n",
       "  'subventionieren öffentlich haushalt land milliarde euro klimaschädlich verhalten',\n",
       "  'gender budgeting erreichen konsequent berücksichtigung einbeziehung gleichstellungsaspekt finanz- haushaltspolitisch entscheidung',\n",
       "  'sorgsamer umgang steuergeld   umfang geld bun deshaushalt verschwenden',\n",
       "  'gemacht öffentlich-privat partner schafte privat unternehmen lukrativ steuerzahler*inn teuer erweisen',\n",
       "  'verkehrsbereich öpp-projekt gesetzlich ausschließen',\n",
       "  'kontrolle bauvorhaben öffentlich beschaffung verbessern',\n",
       "  'gehören schnell internet schlusslicht eu',\n",
       "  'angesichts corona-krise lage öffentlich haushalt kom- mend angespannt',\n",
       "  'gegenzug spit- zensteuersatz moderat anheben',\n",
       "  'zusätzlich hoch manager*innengehälter oberhalb euro abzug betriebsausgabe zulassen',\n",
       "  'einführung vermögensteuer land bevorzugt instrument',\n",
       "  'vollzugsdefizit bekämp fung steuervermeidung konzern reich bürger*in- nen beheben schaffen spezialeinheit bundesebene',\n",
       "  'haus aktiv sor gen konzern gewinn umsatz steuerzahlung land umfänglich öffentlich',\n",
       "  'setzen steuerfrag mehrheitsentscheidung eu überzugehen',\n",
       "  'corona schonungslos stärke schwäche unser sozialstaat auge führen wichtig robust gesund heitssyst zentral wirtschaftskraft gesellschaftlich wohlstand sozialstaat sorgen mensch jobverlust wirtschaftseinbruch obdachlosig keit bewahren',\n",
       "  'bibliothek bolzplatz sport musik vereine theater jugendzentr öffentlich sozial ort schön stark raum miteinander',\n",
       "  'glück chance abhängen norden süden osten westen stadt land leben entsprechend gleichwertig lebensverhältnis ver fassungsgrundsatz',\n",
       "  'land wohnen brauchen genauso zugang ärzt*inn schnell internet öffentlich daseinsvorsorge städter*innen',\n",
       "  'stadt leben gut bezahlbar wohnraum finden kön nen',\n",
       "  'gesundheitssystem gleichwertig gesund heitsversorgung garantieren klaffen lücke gesundheit amter kaputtsparen krankenhaus verwaltung fehlen personal arbeiten anschlag',\n",
       "  'digitalisierung global wettbewerb nötig umbau wirtschaft bedeuten mensch veränderung angst verlust einhergehen',\n",
       "  'stark kinderrecht entlang grundprin zipien un-kinderrechtskonvention grundgesetz',\n",
       "  'national aktionsplan kind jugendbeteiligung sicherstellen kind jugendliche informieren unabhängig soziokulturell hintergrund aufenthaltsstatus altersgerecht niedrigschwellig betei ligung leben',\n",
       "  'angebot sozialraum bau wohnumfeldmaßnah men kind jugendliche betreffen beteiligen sichern baugesetzbuch bundesimmis- sionsschutzgesetz berücksichtigen',\n",
       "  'hervorragend infrastruktur familie einfach gerecht kind familienförderung stärken kindergrundsicherung',\n",
       "  'kind jugendhilfe kind   kita kindertagespflege hortbetreuung familienberatung hilfe erziehung angebot jugendarbeit öffentlich frei träger kind jugendhilfe begleiten familie aufwachsen kind',\n",
       "  'gesetzlich vorgabe personalplanung ausgestattet jugendämter entlastung fach kräfte sorgen',\n",
       "  'leistungsanspruch kind jugendliche körperlich geistig behinde rung sozialgesetzbuch men- schen behinderung regeln',\n",
       "  'land kommune umsetzung bundesinklusionsgesetz kind dach jugendhilfe vereinen bundes- modellprogramm unterstützen',\n",
       "  'politik jung mensch brauchen zeit globalisierung international ausrichtung',\n",
       "  'qualifikation verfahrensbeiständen klar gesetzlich regeln',\n",
       "  'wichtig arbeit unabhängigen beauftragter frage sexuell kindesmiss brauchs gesetzlich grundlage stellen dauerhaft absichern zuständigkeit unab hängig kommission aufarbeitung sexuell kindesmissbrauch adaquat verankern',\n",
       "  'vereinbarkeit familie beruf gesamtgesellschaftlich verantwortung gemein- sam wirtschaft öffentlich institution stellen',\n",
       "  'kinderzeit plus teilzeit anspruch nehmen verlängern entsprechend bezugszeit raum',\n",
       "  'kind grundsicherung helfen mehrfach neuermittlung mindestbedarfe kind jugendliche steigen min destunterhalt',\n",
       "  'getrennt erziehend eltern grundsicherungsbezug umgangsmehrbedarf einführen',\n",
       "  'gesetzlich mindestlohn wer- sofort euro anheben',\n",
       "  'dauerhaft hoch öffentlich investi tion gründungsgeist forschung innovation umfeld job schaffen',\n",
       "  'öffentlich vergabe einklang europäisch unternehmen zug tarif- binden mindestens tariflohn zahlen',\n",
       "  'setzen bundestariftreuegesetz',\n",
       "  'wandel arbeitswelt digitalisierung ökologisch transformation bringen gemeinsam beschäftigter betrieb gestalten',\n",
       "  'corona-krise arbeit haus verbreitet erfahrung verbinden eigenstän digkeit stress pendeln wegfiel',\n",
       "  'versuch arbeitszeit gesetz nachteil arbeitnehmer innen aufweichen lehnen',\n",
       "  'vereinfachen zugang freiwillig arbeitslo senversicherung schaffen zugangsmöglichkeit selb ständig auswahl tarif',\n",
       "  'grün dung phase arbeitslosigkeit heraus fördern krise zurückgeworfen berufsanfänger*inn einstiegszuschuss brücke arbeitsmarkt bauen',\n",
       "  'digitalisierung tätigkeit   bundestagswahlprogramm',\n",
       "  'arbeitnehmer innen eu-staat informieren setzen europäisch ebene gut sozial absicherung arbeitssuchend eu-bürger*inn',\n",
       "  'setzen europäisch ebene ambitioniert eu-richtlinie lohngleichheit nati- onal effektiv entgeltgleichheitsgesetz einführen betrieb gelten unternehmen verpflichten bezahlung frau mann maßnah- men schließen pay-gaps berichten',\n",
       "  'gesetz wirksam verbandsklagerecht enthalten strukturell benachteiligung verband klage überneh- men betroffener stellen',\n",
       "  'tarifpartner unternehmen verpflichten lohn struktur diskriminierung überprüfen beschäftigter anonymisiert spannen gehalt honorarstruktur zugang- lich',\n",
       "  'minijob ausnahme studierend schüler innen rentner innen sozi- alversicherungspflichtig beschäftigung überführen regelung haushaltsnah dienstleistung schaffen',\n",
       "  'eltern aufgrund tatsache kind arbeitswelt benachteiligen notwendig ma ® nehmen inklusive erforderlich gesetzesänderung ergreifen',\n",
       "  'paar familien erwerbsarbeit gleichberech- tigter aufteilen fall gelten steuer modell männlich ernährer frau höchstens dazuverdient hauptsächlich haushalt kind kümmern',\n",
       "  'auszubildender studierend behinderung erhalten auslandsaufenthalt budget deckung bedarfe leistung entsprechen inland erhalten',\n",
       "  'absinken sein mensch grundrent anweisen akzep tanz gesetzlich rente gefährden',\n",
       "  'gesetzlich rentenversicherung schrittweise bürger*innenversicherung weiterentwickeln perspektivisch einbeziehen abgesi- chern',\n",
       "  'profitabel   versicherungswirtschaft öffentlich förderung',\n",
       "  'riester rürup-rente öffentlich verwal- tet bürger innenfonds ersetzen',\n",
       "  'öffentlich zulagenförderung privat altersvorsorge reformieren niedrig mittlerer einkommen fokussieren',\n",
       "  'bürger innenfonds öffentlich politisch unabhängig verwalten investieren anhand esg-nach- haltigkeitskriterie',\n",
       "  'geben gesundheit pflege wert   vorsorge leitprinzip   zugang gesundheitsversorgung kind heit hoch alter sicherstellen gesundheitspolitik umfassen',\n",
       "  'spätestens moment längst überfällig wandel einleiten beispiels- weise krankenhaus notfallversorgung reformieren digitalisierung insbesondere gesundheitsämter beherzt vorantreiben',\n",
       "  'pandemie zukünftig effektiv nachvollzieh- bar bekämpfen stufe eindämmung pandemie infektionsschutzgesetz definieren pandemieschutzplan aktualisieren unabhängig interdisziplinär pandemierat ein richten',\n",
       "  'gie bürger innen datengrundlag entscheidungsgründe -wege transparent',\n",
       "  'universi- täatsmedizin angesichts wichtig rolle pan- demiebekämpfung stärken spitzenforschung vernetzung datum digitalisierung versorgung per telemedizin ländlich raum',\n",
       "  'primärversorgung hausärzt*innen wei- t gesundheitsberuf stärken',\n",
       "  'krankenhaus gesellschaftlich auftrag finanzieren   krankenhaus versorgung erhalten benötigen',\n",
       "  'brauchen verbindlicher landeskrank hausplanung öffentlich versorgungsinteress grund schwerpunkt maximalversorgung definieren',\n",
       "  'budget notfall intensivmedizin einheitlich stufe vorgabe notfall versorgung sicherstellen mensch not stadt land stets erwartbar hilfe verlässlich vorfinden',\n",
       "  'psychisch erkrankung brauchen schnell zugänglich hilfe leid verschlimmern',\n",
       "  'versorgungssicherheit gewährleisten hebammenberuf stärken reform haftpflicht gesundheitsberuf aufnahme rufbereitschaftspauschal katalog kassenleistung erleichtert nachträglich akademisch titelerwerb ausgebil det hebamma ausbau hebammengeführt kreißsal geburtshaus nötig',\n",
       "  'zugang gesundheitssystem sichern diskriminierung beenden   gesundheitswesen diskriminierung bekämpfen',\n",
       "  'zugang gesundheitlich versorgung mensch krankenversicherungsschutz wohnungslos unab- hangig aufenthaltsstatus gewährleisten',\n",
       "  'gelten unionsbürger*innen mensch papier deutschland leben anonym krankenschein abschaffung mitteilung unterrichtungspflicht öffentlich stel len stärkung beratungsnetzwerk mensch papier',\n",
       "  'weg bürger*innenversicherung gesundheit pflege   gesetzlich versicherte warten lang termin fachärzt innen privat versicherte hoch prämie leisten',\n",
       "  'verbessern versorgung gesetzlich versicherter erstattung brille',\n",
       "  'benachteiligung gesetzlich versichert beamt*in beihilfefähig tarif beenden privat versicherte basistarif leisten absichern',\n",
       "  'per app patientinn sicher digital impfpass gesundheitsinformation blutgruppe krankheit geschichte neu blutwert zugreifen',\n",
       "  'koor- dination all vorhaben nutzer innen gesundheitswesen strategie digitalisierung entwickeln',\n",
       "  'patient*innen nützen elektronisch patientenakte weiterentwickeln patientinn einfach zugänglich verständlich informationskam- pagne patient*in unabhängig sozial lage digital gesundheitskompetenz erreichen',\n",
       "  'gesund heitsdater patientin barrierefrei sicher zugäng- lich',\n",
       "  'brauchen dezentral forschungsdateninfrastruktur',\n",
       "  'ausbau digital infrastruktur tech nisch assistenzsystem pflege unterstützen',\n",
       "  'investition grün krankenhaus gesundheitszentr unter- stützen',\n",
       "  'ländlich raum community health nurses gemeindeschwester stütze',\n",
       "  'ausnahme arbeitszeitgesetz gesundheitsbereich beschränken überlastung vorzu- beugen personalverlust medizinisch pflegerisch bereich einzudammen',\n",
       "  'arbeit migrantisch haushaltshilfe betreu ungskräften gesetzlich rahmen entwickeln pflicht seite pflegehaushalt carebe schäftigt definieren',\n",
       "  'setzen bundestag entsprechend entscheidung bundesverfas- sungsgericht frei abstimmung schutzkonzept verbunden zugang sterbehilfe regeln',\n",
       "  'schaffen bezahlbar wohnraum   wohnen grundgesetz   mensch brauchen angemessen wohnraum',\n",
       "  'großstadt teilen stark ein- kommensstadtteil innenstadt leben verlieren',\n",
       "  'stadt brauchen neuausrichtung gemeinwohlori- entiert wohnungsmarkt',\n",
       "  'wohnen grundgesetz aufnehmen',\n",
       "  'deutschland derzeit schätzung mensch wohnungslos leben obdach straße jung mensch frau familie',\n",
       "  'zwangsräumung straße geben',\n",
       "  'gemeinnützigkeit sozial wohnraum   wohnraum schaffen fami- liengerecht öffentlich sozialraum meinwohlorientiern',\n",
       "  'bundeseinheitlich gesamtkonzept benötigen bundesgesetz gewährleisten mietobergrenze bestand ermöglichen miet preisbremse entfristen deutlich nachgeschärft',\n",
       "  'innerhalb gesamtkonzept bgb ermöglichen region angespannt wohnung markt landesgesetzlich regelung treffen min destens vorgabe gesamtkonzept entsprechen',\n",
       "  'umwandlungsverbot baugesetzbuch mili euschutz ausweiten instrument',\n",
       "  'mietwucher wirtschaftsstrafgesetz tatsächlich ahnden',\n",
       "  'planen transparenz immobilienregister eigentümer*innen einführen grund bücher journalist innen nichtregierungsorganisation bewohnerin immobilie kostenfrei zugänglich   bundestagswahlprogramm',\n",
       "  'zudem baugesetzbuch möglichkeit ausgleichsabgabe zugunsten kommune eröffnen',\n",
       "  'erreichen öffentlich hand strategisch gerecht bodenpolitik betreiben',\n",
       "  'fläche bevorzugt erbpacht vergeben sozialwohnung dauerhaft sichern',\n",
       "  'veräußern kommune kommunal wohnungsgesellschafte erst- zugriffsrecht erhalten',\n",
       "  'städtebau gebäudeplanung künftig gesamt stoff energieverbrauch bau betrieb spät rückbau umfassend berücksichtigen',\n",
       "  'setzen veränderung ökonomisch rahmenbedingung gebäude-ressourcen-gesetz verbindlich klimaschutzstandard gesetzlich vorgabe norm bauordnung nachhaltig holzbaustrategie künftig energie res- sourcenschonend giftfrei bauen',\n",
       "  'öffentlich hand allder vorbildfunktion gerecht',\n",
       "  'gezielt effizient einsatz behalten blick haus nachhaltig wald über nutzen',\n",
       "  'fördern digitalisierung plane bauen',\n",
       "  'gebäude kreislaufgerecht planen bauen moder- nisier führen digital gebäude-materialpass relevant information verwendet materia lien gebäude bauschuttdeponien roh stoffmine',\n",
       "  'setzen ferner -- baugesetzbuch hinaus verlängern',\n",
       "  'investieren lebenswert dorf stadt   regional daseinsvorsorge stärken   selbstbestimmt leben region brauchen gleichwertigkeit lebensverhältnis',\n",
       "  'einschränkung vielerorts häufig unterscheiden region region fehlen zentrum dorf kommune schwimmbäder schließen vielerorts internet langsam',\n",
       "  'brauchen infrastruktur zugang öffentlich güt kommune',\n",
       "  'gemeinschaftsaufgabe regional daseinsvorsorge grundgesetz verankern',\n",
       "  'regionalbudget geben bür ger*inn akteur*inn ort möglichkeit dorf stadt selbstbestimmt entwickeln gestalten',\n",
       "  'marktplatz familienzentrum jugendclub skatepark stadtteilbibliothek kulturbahnhof frei bewegungsfläche',\n",
       "  'solide finanzausstattung kommune   stark kommunal selbstverwaltung belastbar öffentlich daseinsvorsorge brauchen solide finanzausstattung',\n",
       "  'kommune schaffen übertragen pflichtaufgabe reparatur gemeinde straße schulsanierung nachkommen',\n",
       "  'schritt zugang fördermittel einfach unbürokratisch hürde teilnahme inanzschwache kommu nen senken',\n",
       "  'innenstadt neu gestalten   innenstadt ortskern gerne besuchen verweilen mensch treffen tragen enorm leben qualität',\n",
       "  'bieten kulturell austausch geben leben stadt land bühne',\n",
       "  'gut baukultur stadtzentr ortskern lebenswert attraktiv mensch sicher neu wohnen gewerbe bil- dung kultur',\n",
       "  'klug stadtentwicklungspolitik nachhaltig verkehrskonzept städtebaunotfallfond vor- aussetzung einzelhandel handwerk zukunft',\n",
       "  'städtebauförderung neu ausrichten schön stadt stadtgrün wasserfläche zeit heißer sommer stadt leben',\n",
       "  'million gemeinnützig wohnung nächster unser stadt entstehen',\n",
       "  'dach häuser‘-programm investieren dachausbau modernisierung leerstehend wohnung',\n",
       "  'bundeseigen immobilie zukünftig gemeinnützig öffentlich gemein orientiert träger abgeben',\n",
       "  'grün der*inn familie freischaffende brauchen schnell zuverlässig internet leben',\n",
       "  'ausreichend schnell breitband mobilfunkversorgung gehören daseinsvorsorge',\n",
       "  'r bürger*in schnell unbürokratisch durchsetzen',\n",
       "  'bahnhofsgebäude gemeinwohlorientiert raum einladend mobilitätsknote punkt weiterentwickeln attraktiv',\n",
       "  'unterstützen landespro gramm markttreff supermarkt fläche umbauen cafe bank postfiliale integrieren',\n",
       "  'kommu- nen zuschuß bekommen öffentlich einrichtung sporthalle bibliothek spielplatz working-space kino dach kulturzentrum zusammenfassen',\n",
       "  'schnell internet überall   egal stadt land mobil arbeit innovativ wirtschaft unterricht schnell internet essentiell voraussetzung gesellschaftlich teilhabe gleichwertig lebensverhältnis gehören öffentlich daseinsvorsorge',\n",
       "  'ziel schnell kosten- günstig zuverlässig glasfaserinternet fttb haus',\n",
       "  'stärken offe- n zugang bestehend glasfaser bauen blockade ausbau beschleunigen',\n",
       "  'mensch kurzfristig schnell internetzugang ermöglichen rechtsanspruch schnell internet-grundversorgung ausgestalten unbüro- kratisch durchsetzbar',\n",
       "  'mobilfunkausbau gelten flächendeckend versorgung sicherstellen egal netz surft',\n",
       "  'zukünftig frequenzversteigerunge versorgungsauflage flä che angepassen steigend bedarf schritt halten insbesondere entlang bahnstreck straße',\n",
       "  'selbstbestimmt alter stadt land   selbstbestimmung alter ermöglichen',\n",
       "  'verfolgen generationenfreundlich ansatz age-friendly cities and communities weltgesundheitsorganisation alt mensch stadt land digital raum',\n",
       "  'nahverkehrsangebot stadt land ausbauen intelligent vernetzen intelligen- ten on-demand-systemen beispielsweise rufbussen ergänzen',\n",
       "  'brauchen flächendeckend barrierefrei zugang öffentlich verkehrsmittel weg öpnv nahversor gung genügend möglichkeit ausruhen kräfte- sammeln ausstatten',\n",
       "  'pandemie verschärfen ohnehin sozial ungleichheit kind jugendliche förderung haus hoffen zugang laptop tablet fehlen eltern helfen drohen dauerhaft anschluss verlieren',\n",
       "  'brauchen schnell internet sauber toilette zeitgemäß raumkon zept genügend platz vielfältig inklusive lernforme',\n",
       "  'abitur bildungsweg beginn lehre mitte stu dienabschluss familie abhängen haus finanziell unter   bundestagswahlprogramm',\n",
       "  'innovation allgemeinheit zugutekommen entwick lung öffentlich infrastruktur verfügung stehen',\n",
       "  'fördern bildung anfang   jeder kind kita-platz gut kita   egal ecke deutschland elternhaus kind brauchen chance geborgen auf- wachsen',\n",
       "  'bundesqualitätsgesetz sorgen spit zenqualität einrichtung kleinsten anvertrauen',\n",
       "  'spitzenqualität entspre- chend infrastruktur abbilden',\n",
       "  'corona-rettungsschirm kind jugendliche   pandemie tief spur hinterlassen kind haus schwer',\n",
       "  'digitalisierung art leben verändern art schule denken wandeln',\n",
       "  'hauptberufliche administrator*inn notwendig technisch infrastruktur schule aufbauen pfle- gen',\n",
       "  'digitalisierung bildung ortsgebunden freiraum überregional international kooperation bildung kultureinrich tung entstehen',\n",
       "  'bildungszusammenarbeit bund land   ziel bildungssystem überall aus- gangsbedingung gebührenfrei zukunftsgerichtet inklusive bildung sichern unabhängig geschlecht herkunft aufenthaltstitel behinderung gleich gerecht chan cen garantieren',\n",
       "  'abstimmung land setzen modern nachhaltig einheitlich bildungsziel umsetzung grundgesetzlich verbrieft sonderungsverbot',\n",
       "  'gelingen betrieb ermutigen weiterhin verstärkt ausbilden jung mensch ländlich region erhalten bleibeperspektive',\n",
       "  'abschlussvoraussetzung eingruppierung entgeltgruppe öffentlich dienst gehoben höhe- ren dienst bund flexibilisieren gleichwertigkeit beruflich akademisch bildung ausschreibung bundesbehörde stärken',\n",
       "  'auslandsaufenthalt auszubildender stu dierend ermöglichen',\n",
       "  'unterstützen aufstockung europäisch förderprogramm erasmus+ möchten mindestens prozent auszubildende aus- landsaufenthalt antreten',\n",
       "  'öffentlich bereich barrierefrei kommunikation fördern mensch gesellschaftlich teil ermöglichen',\n",
       "  'dringend notwendig nachhaltig transformation auf ausbau forschung verbünden -infrastrukturen deutschland europa voran- treiben',\n",
       "  'unabhängig zugang all raumfahrt wichtig erkenntnis fundamental frage gewinnen gelten erhalten',\n",
       "  'ein gesetzt drittmittel zusätzlich dynamik freisetzen wol- len öffentlich drittmittel lang üblich auf setzen übernommen overheadkost tatsächlich anfallend kosten orientieren',\n",
       "  'kontext wissenschaftsgeleitet politik inter transdisziplinär wissenschaftlich expertise frühzeitig gesetzgebungslabore politikentwicklung einbeziehen',\n",
       "  'hochschule fit   hochschule nachhaltig klimagerecht bar rierefrei modernisierung ermöglichen digital infrastruktur it-sicherheit einschließen',\n",
       "  'hinaus digitalisierungspauschale it-infrastruktur hochschule stärken it-barrierefreiheit einfordern aus weiterbildung lehrend ausbauen digi- tal beratung betreuungsangebot studierend ausweiten',\n",
       "  'zugang forschung bildungsdat erleichtert fair data grundprinzip',\n",
       "  'zukunftsfest infrastruktur hochschule gehören modern bibliothek lehr lernraum klimafreundlich sanierung gekommen hochschulbaute nachhaltigkeit klimaschutz neubau wissenschaft',\n",
       "  'wissenschaftszeitvertragsgesetz weiter- entwickeln anteil unbefristet mitarbeiter*innen-stel- len insbesondere mittelbau substanziell erhöhen',\n",
       "  'gezielt förde rung diversität hochschule wissenschaftseinrichtung förderformat diversität antidiskriminierungspolitik chan- cengerecht zugang gleichberechtigt integration inklusion perspektivenvielfalt ändern gesellschaftlich vielfalt campus widerspiegeln',\n",
       "  'jugend einmischen mensch kom munalparlament verantwortung übernehmen bürger*inne forum einbringen schicksal ort hand nehmen',\n",
       "  'demokratie frei heit toleranz mutig mensch vergangenheit straße gehen bürgerrechtler*inn umweltbewegt friedens- aktivist innen frauenrechtler*inne',\n",
       "  'gelten voll gleichberechtigung beteiligung liberal demokra- tie stärken deutschland europa straße parlament institution fit aufgabe jahrzehnt',\n",
       "  'nötig zugang teilhabe selbstwirksamkeit repräsentanz men- schen prekär lebensverhältniss mensch migrationsge schicht behinderung',\n",
       "  'demokratie wehr- haft dagegenhalten stark zivilgesellschaft selbstbewuss- ten parlament ausgestattet bürger*innennahe polizei schnell handlungsfähig unabhängig justiz',\n",
       "  'bewältigen stark europäisch union hand- lungswill handlungsfähigkeit zusammenbringen bürger innen aktiv demokratisch mitstalten',\n",
       "  'ziel modern engagiert staat effizient zugänglich verwaltung transparent lage krise effektiv managen digital teilhabe sichern bürger*inne insgesamt alltag bewältigen anspruch nehmen',\n",
       "  'aufgabe stemmen gut strukturell verankerung digitalisierung verwaltungseben not- wendig',\n",
       "  'gleich berechtigung kooperation zusammenhalt vielfalt maßstab bürger*innennahen staat verwirklichen',\n",
       "  'schieneninfrastruktur erneuerbar energie ener- gienetze ausbauen schule straße brücke sanieren digital infrastruktur aufbauen',\n",
       "  'planungsbeschleuni gung schaffen öffentlich planungskapazität',\n",
       "  'genehmigung verschlanken vorhanden ansatz kon zentriert genehmigung zentral infrastrukturprojekt ausdehnen',\n",
       "  'zudem bundestag verantwortung infrastrukturprojekt übernehmen konfliktlösung schnell erreichen',\n",
       "  'frühzeitig einbindung bürger*inne ort führen regel projekt schnell abschließen kön nen',\n",
       "  'nutzung digital verwaltungsleis tungen zentral zugang erfolgen',\n",
       "  'setzen gemeinsam land verwaltung flächen- deckend modern technik ausstatten gesund heit bürger*innenamt',\n",
       "  'digitalisierung verhältnis staat bürgerinn basis stellen',\n",
       "  'bestehend system zusätzlich öffnen ermöglichen öffentlich stel len identitätsmerkmale bestätigen',\n",
       "  'identitätsinfrastruktur schaffen natürlich juristisch person erlauben digital identität hilfe smartphon onlinedienst ausweisdokument nutzen',\n",
       "  'offenheit technologieneutralität eu-weit interoperabel digi- tal identität basisinfrastruktur unser digital gemein wesen',\n",
       "  'kommunikation öffentlich hand offen system schaffen ende-zu-ende-ver- schlüsselt austausch nachricht ermöglichen',\n",
       "  'bürger*inne anspruch digital zustellung behördendo- kument erhalten',\n",
       "  'rahmen ganzheitlich e-government-strategie mobilpass unterschiedlich mobilitätsangebot service angebot verwaltung e-health- e-justice-infrastrukturen digital beteiligungsformat ermöglichen',\n",
       "  'technologisch anwendung geregelt zugang offen datum staatlich beständ wichtig',\n",
       "  'vorlage bundestransparenzgesetz staatlich datenbeständ allgemeinheit prinzip open data verfügung stellen',\n",
       "  'sicherung umfassend gleichberechtigt teilhabe souverän verwaltung offen standard schnittstell software nutzen entste- hend software frei lizenz veröffentlichen standard vergabe vertragsordnung öffentlich geld aufnehmen',\n",
       "  'richten öffentlich dateninstitut gesetzlich forschungsauftrag grundsatzfrag gut verfügbar- machung anonymisierung datum behandeln ver- netzung entwicklung standard lizenzmodell voranzu- treiben',\n",
       "  'statis tisch bundesamt stärken ebenfalls datenverfügbarkeit politik öffentlichkeit forschung verbessern datum zeitnäh verfügung stellen',\n",
       "  'umfassen sowohl versorgung ökostrom fuhrpark bundesbehörde gebäude bund erneuerbar heiz kühlsystem ausstatten umfassend energetisch modernisieren',\n",
       "  'ausschreibung förderung öffentlich vorhaben wirtschaftlichkeitsberechnung co',\n",
       "  'öffentlich verwaltung lage versetzen vorausschauend handeln zügig konsequent jeweilig aufgabe anpassen',\n",
       "  'mitarbeitende beamtin nen öffentlich verwaltung expertise kreativität fortbildung fördern stärken',\n",
       "  'digitalisierung justiz personalbedarf bund- länder-digitalpakt justiz fortsetzung konkretisierung auslaufend pakt rechtsstaat ausreichen- finanzierung umsetzen',\n",
       "  'fördern vereinfachen elektronisch kommunikation bürger*inne justiz',\n",
       "  'gehören leicht zugang schnell online verfahren einfach rechtssach stärkend konsensual verfahren streitbeilegung',\n",
       "  'öffentlich dienst stärken modernisieren   öffentlich dienst million mensch verwaltun gen ministerium behörde arbeiten rückgrat demokratie fundament unser gemeinwesen',\n",
       "  'öffentlich dienst stärken modernisieren',\n",
       "  'stelle it pla- nungsbereich bezahlung flexibel laufbahn durchläs sigkeit öffentlich dienst fit   jahrhundert',\n",
       "  'starten fortbildungsoffensiv öffentlich verwaltung digitalisierung schwerpunkt verwaltungsausbildung',\n",
       "  'stärken staatlich institution tragen vertrauen bürger*innennähe',\n",
       "  'bereich öffentlich dienst unternehmen bundesbeteiligung staat möglichkeit sache vielfalt voranzugehen diversity-mainstreaming gesamt ver- waltung einführen',\n",
       "  'gehören beispielsweise mehrsprachigkeit verwaltung fördern einstellung beförde rungspraxis gleichstellung geschlechter gesellschaftlich vielfalt beachten diskriminierungs- kritisch organisationsentwicklung öffentlich behörde unternehmen durchführen unternehmensleitbilder ziel gleichberechtigung repräsentanz diskriminier- ter gruppe verankern diversitätssensible weiterbildung anbieten',\n",
       "  'diversity budgeting einsatz evaluierung haushaltsmittel vielfalt fördernd weise voranbringen',\n",
       "  'leitbild einheit vielfalt gestaltung rassismuskritische chancengerecht einwanderungsgesellschaft gesetzlich veran- kern',\n",
       "  'perspektive expertise diskri minierung strukturell benachteiligung betreffen gehören gleichberechtigt möglichkeit voll teilhabe erhalten partizipationsrat ähnlich deutsch ethikrat gesetzlich verankert unabhängig gremium einführen vertreterinnen post-jmigrantisch zivilge sellschaft wissenschaft forschung unterschiedlich dimension vielfalt abbilden',\n",
       "  'repräsentanz teilhabe bundesparti zipation teilhabegesetz vorlegen bundesgremie besetzungsgesetz reformieren',\n",
       "  'allgemein gleich behandlungsgesetz echt bundesantidiskrimi nierungsgesetz weiterentwickeln schutzlücken schließen klage diskriminierung betroffener vereinfachen umfassend verbandsklagerecht einschließen diskrimi nierung strukturell nachhaltig vorgehen',\n",
       "  'unabhängig forschung postkolonialismus diskriminierung rassismus ausbauen regel-   bundestagswahlprogramm',\n",
       "  'mäßig antidiskriminierung gleichstellungsdat erheben wissenschaftlich studie bezug staatlich institution wirksamkeit antidiskriminierungsmaßnahmen durchführen',\n",
       "  'anti rassismus antidiskriminierung postkolonialismus lehrer*innenausbildung lehrplänen verankern',\n",
       "  'politisch kulturell bildungsangebot bürger*inne zugänglich wissen jüdisch leben allgemein kontakt erfahrung jüdisch mensch ein richtung deutschland vermitteln',\n",
       "  'staat religion diskriminieren ungerechtfertigt bevorzugen',\n",
       "  'heterogen muslim innen stärke wahrgenommen struk- tur islam weder religiös strukturell verankert hie- rarchie kennen seite gesetzgeber nachteil gereich',\n",
       "  'wer angehörige groß minderheit europäisch union zugang bildung gesundheit wohnen arbeit benachtei- ligt',\n",
       "  'eu-roma-rahmenstrategie post umsetzen ambitioniert inklusionsziel eu errei- chen',\n",
       "  'wol- len barrierefreiheit schaffen mensch unterschiedlich behinderung psychisch erkrankung gleichberechtigen öffentlich leben teilhaben selbstbestimmt gemeinsam nichtbehindert mensch leben lernen arbeiten',\n",
       "  'selbst bestimmt mobilität selbstbestimmt wohnen ermöglichen städtebauförderung inklusive stadtquar tier stärken sozial wohnraumförderung barrierefreiheit binden',\n",
       "  'wahren selbstbestimmungsrecht religionsgemeinschaft suchen kooperation dialog religion weltanschau- ungsgemeinschaft grundgesetz stehen stets säkular staat neutralitätsprinzip',\n",
       "  'beispielsweise kirchlich arbeitsrecht reformieren gewerkschaftlich mitbestimmung fördern ausnahmeklausel kirche betriebsverfassungsgesetz gleichbehandlungsgesetz aufheben',\n",
       "  'strafgesetzbuch beschimpfung bekenntniss religionsgesellschaft weltanschauungsver einigungen streichen unabhängig wissenschaftlich einrichtung erforschung religiös weltanschaulich landschaft einsetzen',\n",
       "  'legislativ fußabdruck schaffen klarheit entstehung gesetz einfluss nehmen',\n",
       "  'zukunft einkünfte nebentätigkeit euro cent veröffentlichen unternehmensbeteiligung aktienoption strikt regel spende abgeordneter lob bytätigkeit abgeordneter verbieten',\n",
       "  'strikt ver- öffentlichungsregel',\n",
       "  'euro spen rechenschaftsbericht nennen euro pflicht sofortig veröffentlichung greifen',\n",
       "  'solange gesetzlich regelung wenden parteiengesetz hinausgehend regelung unser spendenkodex',\n",
       "  'par- teiensponsoring gesetzlich regelung veröffentlichung euro jährlich höchst grenze sponsor*in einführen',\n",
       "  'parlament stärken wahlrecht reformieren   bundestag zentral ort öffentlich debatte rede gegenrede entscheidung demokratie',\n",
       "  'gesetz   bundestagswahlprogramm',\n",
       "  'rolle bundestag gesetzgebung ausbauen',\n",
       "  'sitzung fach ausschüsse regel öffentlich stattfinden streamen',\n",
       "  'kom plex gesetzgebungsverfahren verständlich textgegenüberstellungen gesetzesänderung öffentlich',\n",
       "  'parität per gesetz wirk- sam angemessen zeigen beispiel europäisch aus land',\n",
       "  'setzen bund paritätsgesetz entsprechend gesetzesänderung weg bringen',\n",
       "  'bürger innenräte beteiligung   direkt beteiligungsmöglichkeit bereichern demokratie stärken repräsentanz',\n",
       "  'bürger*innenrät schaffen möglichkeit ausgewählt thema alltagserfahrung bür ger*inn gesetzgebung einfließen lassen',\n",
       "  'sorgen schritt gesetzlich grundlage bürger*innenrat parlament ergebnis beschäftigen',\n",
       "  'kommend wahlperiode wei- tere option stark institutionalisierung bürgerin nenrät prüfen direktdemokratisch verfahren einzeln beratungsergebnisse',\n",
       "  'initiative regierung par- laments bürger*innenbegehren beraten zufällig ausge wählt mensch deutschland leben mindestens alt festgelegt zeitraum konkret fragestellung',\n",
       "  'portal baden-württemberg erfolgreich anwenden aktiv beteiligung gesetzgebung ein führen petitionsrecht zugänglich instru   ment gut mitwirkung demokratisch prozess ausbauen',\n",
       "  'öffentlich-rechtlich rundfunk vielfältig medienlandschaft   kritische unabhängig journalismus säule demokratie',\n",
       "  'stehen pluralistisch kritisch staatsfern öffentlich-rechtlich rundfunk genauso qualität vielfalt privat non-profit-medienlandschaft',\n",
       "  'digitalisierung öffentlich-rechtlich rundfunk voran- treiben bisherig angebot überprüfen',\n",
       "  'mediathek öffentlich-rechtliche ange- messen vergütung urheber*’inn dauerhaft zugänglich europäisch verzahnen',\n",
       "  'effekti- ven gesetzesrahm entwickeln',\n",
       "  'bündeln gesetz digital gewaltschutz möglichkeit beinhalten account vorgehen e täter*in feststellen',\n",
       "  'spielen gesellschaftlich relevant bereich entscheidend rolle grundlage anforderung bezug offenheit teil- sicherheit',\n",
       "  'treten eigenständig öffentlich förder stiftung schaffen gesellschaftlich relevant frei offen software fördern ergebnis gesellschaft wissenschaft schu len wirtschaft verwaltung verfügung stehen barriere- frei zugänglich',\n",
       "  'demokratiefördergesetz stark zivilgesellschaft   lebendig zivilgesellschaft elementar politisch aus einandersetzung demokratie',\n",
       "  'engagiert mensch ini- tiativ verband verein ngos stärken zusammenhalt tragen wichtig anliegen beispielsweise kampf rassismus öffentlich tagesordnung setzen leisten beitrag willensbildung',\n",
       "  'demokra tiefördergesetz engagement demokratiebele- bend initiative organisation nachhaltig projektunabhängig unbürokratisch finanziell absichern',\n",
       "  'sicherstellen wert grundgesetz orientieren verhältnis partei transparenz herstellen',\n",
       "  'schaffen eigenständig gesetzlich grundlage',\n",
       "  'gemeinnützigkeit reformieren   bürger*inne gleichberechtigt willensbildung gesellschaft teilhaben',\n",
       "  'gemeinnützigkeit wichtig status stelle zugang öffnen',\n",
       "  'gestalten vielfältig einwanderungsgesellschaft   einbürgerung erleichtern   staatsangehörigkeit stellen dauerhaft band rechtlich gleich heit teilhabe zugehörigkeit sicher',\n",
       "  'deutschland gebären deutsch staatsbürgerschaft erhalten elternteil rechtmäßig gewöhnlich aufenthalt deutschland',\n",
       "  'mensch jahrelang leben gesellschaft einbürgerun gen',\n",
       "  'aufenthalt deutsch land antrag einbürgerung stellen anerkannt geflüchtete gelten beschleunigt vereinfacht einbürgerungsverfahren',\n",
       "  'optionszwang staatsangehörigkeit abschaffen mehrstaatigkeit anerkennen',\n",
       "  'genommen aushöhlung staatsangehörigkeitsrecht zurücknehmen einbürgerungsverfahren entbürokratisier',\n",
       "  'hindernis identitätsklärung hand einzu bürgernden liegen anlasten',\n",
       "  'modern einwanderungsgesetz vielfältig einwanderungsgesellschaft   deutschland einwanderungsland fehlen aktiv einwanderungspolitik einwanderungsrecht einwan derung tatsächlich fördern kompliziert',\n",
       "  'modern einwanderungsgesetz beschließen zugangsweg bildung arbeitsmigration schaffen mensch talent fähigkeit formal anerkannt bildung abschlüsse nachweisen transparent unbürokratisch fair verfahren bieten global regional notwendigkeit berücksichtigen',\n",
       "  'erleichtern bildungsmigration stipend ausbildungsvisa genauso voraussetzung unbefristet aufenthaltserlaubnis anerkennung ausland erworben berufsqualifikation',\n",
       "  'integration gelingen mittendrin sprache zugang teilhabe anfang   ankommen vielfältig einwanderungsgesellschaft wechselseitig prozess ziel gleich zugang teilhabe chance bereich leben schaffen',\n",
       "  'zusammenleben wert grundgesetz grundlage',\n",
       "  'genauso wichtig gelingend integration dezentral unterbringung selbstbestimmt leben wohnun gen breit beratungsangebot familie unterschiedslos zugang gesundheit sozialleistung kitas bildungseinrichtung ausbildung arbeit teilhabe kulturell gesellschaftlich leben',\n",
       "  'insbesondere berücksichtigung erlitten geschlechtsspezifisch verfolgung dazugehörig beratung asylverfahren gewährleisten',\n",
       "  'sorgen zügig entscheidung aufenthaltstitel mensch früh verbindlich gewissheit',\n",
       "  'kind unabhängig bleibeperspektive zugang kitas schule bildungsangebot garantieren',\n",
       "  'asylbewerberleistungsgesetz abschaffen -und verfassungs- rechtlich gerechtfertigt ungleichbehandlung geflüchtet echt ankommen teilhabe erschweren',\n",
       "  'flughafenverfahren sofortig zurückweisung deutsch binnengrenze abschaffen',\n",
       "  'pandemie- bedingt verlust arbeit ausbildung studienplatz aufenthaltsrechtlich nachteil führen',\n",
       "  'rechtliche unsicherheit fehlend teilhabechance erschweren massiv ankommen deutschland zuhause finden',\n",
       "  'mensch brauchen aufenthalt siche- res bleiberecht',\n",
       "  'heranwachsend jugendliche familie min- derjährig kind aufenthaltstitel bekommen',\n",
       "  'umwand lung ausbildung beschäftigungsduldung aufenthalt verschaffen mensch verlässlich zugang ausbildung arbeitsmarkt sorge planungssicherheit betrieb',\n",
       "  'mensch sorgfältig prüfung asyl aufenthaltsrechtlich voraussetzung ausschöp- fung rechtsschutzmöglichkeit aufenthaltsrecht erhalten abschiebehindernisse entgegenstehen zügig ausreisen',\n",
       "  'gender-check prüfen maßnahme gesetz gleichberechtigung geschlechter voranbringen entgegenstehen eingreifen',\n",
       "  'neu geschaffen bundesstiftung gleichstellung effektiv verlässlich finanziert unabhän gig institution ausbauen gesichert wissen leben liegen geschlechter bereitstellen wirksam maßnahme gleichberechtigung entwickeln bündeln wirtschaft politik öffentlichkeit zugänglich',\n",
       "  'gewaltbetroffene frau aufenthaltsstatus aufenthaltsstatus ehemann partner abhängen eigenständig aufenthaltstitel erhal- ten',\n",
       "  'ver bal sexuell belästigung öffentlich raum hin nehmen geeignet ordnungsmaßnahm prüfen',\n",
       "  'frauenhaus absichern   mensch körperlich unversehrtheit',\n",
       "  'des- halb deutlich frauenhausplätze schaffen ländlich raum',\n",
       "  'gewalt betroffen frau kind brauchen anlaufstelle schutz unab- hängig aufenthaltsrechtlich status wohnsituation beeinträchtigung',\n",
       "  'aufenthaltszeit frauenhaus betrof- fene sozialleistung erhalten schlechtergestellt',\n",
       "  'brauchen frauenhaus kind alt aufnehmen',\n",
       "  'fördern barrierefreiheit frauenhaus bera- tungseinrichtung gewalt betroffen frau behinderung schutzmöjglichkeit verfügung stehen',\n",
       "  'gesetz evaluieren überarbeiten ziel arbeitsbedingung legal prostitution verbessern',\n",
       "  'gesundheitsversorgung inklusive gesichert zugang umfassend information schwan gerschaftsabbruch notwendig',\n",
       "  'selbstbestimmt schwangerschaftsabbruch strafgesetzbuch außerhalb gere- ln',\n",
       "  'ungewollt schwangerschaft bestmöglich zugang information gewährleisten',\n",
       "  'ärztin drohend anzeige schützen gelten insbesondere schnellstmöglich strafgesetzbuch streichen',\n",
       "  'perspektivisch kostenfrei leicht zugang verhütungsmittel gelten',\n",
       "  'gesetzlich diskriminierung benachteili gungen anfeindung alltag stark signal setzen schutz mensch aufgrund sexuell geschlechtlich identität ergänzung artikel absatz   grundgesetz sicherstellen',\n",
       "  'queer jugendliche insbesondere ländlich raum schützen stärken bundesweit aufklärungskampagne jung mensch vielfalt sexuell orientierung geschlechtlich identität informieren bezüglich homo bi- tran queerfeindlichkeit sensibilisieren',\n",
       "  'selbstbestimmung garantieren transsexuellengesetz aufheben   selbstbestimmungsgesetz sorgen überholt transsexuellengesetz aufheben',\n",
       "  'schreiben fest notwendig operatio nen behandlung intergeschlechtlich kind verbieten lücke entsprechend gesetz schließen',\n",
       "  'stärken sicherheit bürger innenrecht   sicherheit ausgestattet bürger innennah polizei   deutschland grundsätzlich sicher land',\n",
       "  'schutz grundrecht polizei stärken stadt land analog digital',\n",
       "  'freiheit bürger*innenrechte behandeln streichpost innen politik zentral schutzgüter',\n",
       "  'entsprechen einführung indi- viduellen anonymisiert kennzeichnung bundespolizei stelle unabhängig bundespolizeibeauftrag ten umfassend kompetenz fall auf tretend problem erkannt missstand sowohl polizist in nen bürger innen wenden',\n",
       "  'bestehend zebus zentrum ethisch bildung seelsorge polizei nrw hierbei vorbild dienen',\n",
       "  'schutz bürger*inne verteidigung freiheit brauchen stark grenzüberschreitend zusammenarbeit polizei justiz gemeinsam europäisch polizeiteams aufwertung europol europäisch kriminalamt eng justiziell zusammenarbeit mitgliedstaat hilfe eurojust bekämpfung betrug last eu-finanz eu-betrugsbekämpfungsamt olaf europäisch staatsanwaltschaft nutzung modernst analysemethode',\n",
       "  'expertise einbeziehen demokratiefördergesetz flächendeckend stärken dauerhaft fördern',\n",
       "  'verfassungsschutz strukturell neu aufstellen unabhängig wissenschaftlich öffentlich quelle arbeitend institut schutz verfassung',\n",
       "  'vertrauen zurückgewinnen kontrolle arbeit nachrichtendienste stärken einsatz menschlich quelle gesetzlich regeln',\n",
       "  'strukturell langfristig demokratiefördergesetz fördern',\n",
       "  'insbesondere terrorismus gewaltbereit recht extremist innen islamist innen öffentlich sicherheit deutschland bedrohen',\n",
       "  'straf tun unbedingt berechtigt legalwaffe besitzer*innen begehen mensch rechtswidrig zugang waffe verschaffen ent- sprechend zugang gemeinsam haushalt verfü- gen',\n",
       "  'schutz whistleblower innen   abgasmanipulation missstand pflegeeinrichtung ver- kauf facebook-nutzerdat wirtschaft skandale hinweis unternehmen öffentlichkeit gelangen',\n",
       "  'hinweisgeberschutzgesetz eu-whistleblower-richt- linie ambitioniert umfassend gesamt national umsetzen erreichen',\n",
       "  'sicherheitsgesetz prüfstand zukünftig vali- empirie beruhen hinsichtlich wirksamkeit regelmäßig unabhängig evaluieren',\n",
       "  'einsatz bio metrisch identifizierung öffentlich raum beispielsweise gesichtserkennung lehnen undifferenziert aus- weitung videoüberwachung anlasslos vorratsdatenspeiche rung generell hintertür digital gerät anwendung infiltrieren technisch gerät online-durchsuchung bzw',\n",
       "  'ziel verstreuen bestehe regelung eigenständig gesetz wirtschaft kriminalität zusammenzufassen ergänzen',\n",
       "  'sanktionskata log maßnahme ausschluss vergabe öffentlich auftrag schadenswiedergutmachung verpflichtend vorkehrung unternehmen verhinderung straftat erweitern öffentlich sanktionsregister einführen',\n",
       "  'kapitalanleger-musterverfahrensgesetz unzureichend',\n",
       "  'bes- s durchsetzung recht zugangsschranke senken verfahren vereinfachen beratung prozesskosten hilfe stärken',\n",
       "  'sexualisiert gewalt kind konsequent aufklären verfolgen insbesondere internetkriminalität spezialisiert personal polizei staat anwaltschafen',\n",
       "  'verbraucher*inne telefon haustür überrumpeln ungewollt vertrag unterschieben',\n",
       "  'vertrag laufzeit automatisch verlängerung verkürzen wer zugunsten verbraucherschutz wettbewerb',\n",
       "  'unseriös haustürgeschäft verbraucher*inne schützen',\n",
       "  'schaffen gesetzlich honorarordnung finanzberater innen stärken unabhängig',\n",
       "  'deswe gen kultur staatsziel grundgesetz verankern',\n",
       "  'öffentlich kultur förderung künftig partizipativ inklusiv geschlechtergerecht abstimmen transparent kriterium anlegen',\n",
       "  'setzen arbeit ausbildungsbedingung fair bezahlung privat insbesondere öffentlich kulturinstitution pre kär arbeitsverhältnis überwinden',\n",
       "  'kultureinrichtung öffnen stärken jede*rr einfach zugang angebot nutzen gestalten',\n",
       "  'ländlich region urban zentrum   bundestagswahlprogramm',\n",
       "  'kultureinrichtung knotenpunkt begegnung soge nennen ort mensch zugang kultur ermöglichen bislang profitieren',\n",
       "  'film kinokultur stärken digital zeitalter führen   film prägend medium bewegtbild kino öffentlich kulturort angesichts schnell wandel produktion vertriebsform stärken',\n",
       "  'ten struktur fernsehsend vielzahl gremium zugunsten kriterienbasierter automatisch förderung richten augenmerk verstärken förderung stoff dreh büchern nachwuchs',\n",
       "  'kritisch aufarbeitung kolonial verbrechen dekoloni sierung öffentlicher raum zentral bedürfen umfänglich provenienzforschung digitalisierung transparent veröffentli chung verbindlich regelung restitution kulturerbe kolonial kontext',\n",
       "  'aktiv erinnerungskultur öffentlich institution einsetzen',\n",
       "  'wol- len idee energie bündeln sportverbän- land kommune wissenschaft beteiligung bürger*inne entwicklungsplan sport erarbeiten umset- zen ähnlich golden plan rn',\n",
       "  'ausreichend vorhanden barrierefrei sport statten bewegungsraum zählen stadt ländlich räu   bundestagswahlprogramm',\n",
       "  'sportgroßveranstaltung klimaneutral sozial nachhaltig menschenrechtskonform ermög- licht kosten transparent darstellen sodass bleibend infrastrukturgewinn bürger*inne ort schaffen',\n",
       "  'brauchen bundesweit einheitlich föderal abgestimmt gesamtstrategie beginn bürger*innen- beteiligung planung',\n",
       "  'prinzip prävention gut vorsorge zugänglich öffentlich bewe gungsraum unterstützen mensch gerin gen einkommen ermöglichen sport betreiben',\n",
       "  'schützen bürger*innenrechte fan ausufernd datensammlung kollektivstra fen',\n",
       "  'kommend monat bieten konferenz zukunft europa chance europäisch öffentlichkeit stärken gemeinschaftlich bürger*inn reform eu entwickeln',\n",
       "  'ergebnis konferenz rahmen europäisch gesetzgebung vertragsänderung umsetzen',\n",
       "  'ziel parlamentarisch demokratie europäisch union stärken parlament bereich gleichberechtigt rat entscheiden vollwertig initiativrecht gesetzgebung stark haus- haltsrecht erhalten',\n",
       "  'wahl europäisch parlament setzen bürger*inne stimme spitzenkandidat bzw',\n",
       "  'ger*innenschaft europäisch staatsbürger*innenschaft fort- entwickeln sodass unionsbürger*innen mitgliedstaat leben pflicht genießen',\n",
       "  'eu-bürger*inn dauerhaft lebensmittelpunkt deutschland kommunal europawahl perspektivisch landtag bundestagswahl wählen',\n",
       "  'zudem europäisch bürger*inneninitiativ zentral instrument teilhabe bürger*inne zivilge sellschaft stärken',\n",
       "  'bürger*innen einberufung euro paisch zukunftskonferenz bürger*innenrät fordern kön nen reform vertrag anregen',\n",
       "  'bürger*inneninitiativ erfolgreich spätestens prüfung vereinbarkeit eu-grund- gesetzesvorschlag folgen europaparlament plenumsabstimmung ziel initiative stattfinden',\n",
       "  'einflussnahme eu-gesetzgebung transparent   transparenz stärken europäisch demokratie ver- trauen bürgerin politik',\n",
       "  'nachvollziehbar wofür regierung mitgliedstaat brüssel eintreten setzen frist rahmen gesetzgebung öffentlich debatte rat stattfinden',\n",
       "  'zugang eu-dokument substanziell weiterentwickeln',\n",
       "  'schritt verbind lich lobbyregister eu-institution strikter karenzzeit wechsel politik wirtschaft legislativen fußabdruck einflussnahme gesetzgebung über- prüfbarer kontrollieren unabhängig ethikbehörde sanktion verhängen',\n",
       "  'eu-grundrechtecharta langfristig nationalstaat einklagbar eu-bürger*inn stärken',\n",
       "  'mitgliedstaat europäisch staatsanwaltschaft anschließen eu-gelder erhalten öffentlich rechenschaft emp- fanger*inne subvention ablegen',\n",
       "  'öffentlich-rechtlich medienplattform europa   zusammenwachsend europa brauchen öffentlich digi- tal ort bürger*in zusammenkommen informieren partizipieren unterhalten poli- tisch diskutieren',\n",
       "  'basierend techni- sch offenheit interoperabilität datenschutzstandards hinaus zivilgesellschaft bildungseinrichtung kommunikationsplattform dienen inhalt bereitstellen informationskampagn eu bürger*inne näherzubringen',\n",
       "  'grundlage bilden öffentlich rechtlich auftrag',\n",
       "  'arbeiten national öffent- lich rundfunkanstalt inhalt europaweit zugänglich agieren frei jedweder politisch einflussnahme',\n",
       "  'europa kommune region   demokratisch vielfältig bürger*innennah eu leben stärke kommune region',\n",
       "  'wettbewerbs- regel binnenmarkt kommune privatisierung öffentlich gut zwingen',\n",
       "  'bürokratie verstärkt digitalisierung abbauen',\n",
       "  'eu-haushaltsmittel sol len künftig verstärkt kommunal lokal zivilgesellschaft- lich akteur*inn direkt bereitstellen',\n",
       "  'kooperativ aktiv poli tik betreiben gestaltend kraft voranzugehen sinn multilateral vorsorgend kohärent werte- geleitet politik stets europdäisch entlang verlässlich deutsch-französisch zusammenarbeit unser partner innen innerhalb außerhalb europa transatlantisch rahmen vereint nation',\n",
       "  'einmalig zuhause',\n",
       "  'eu lage kritisch infrastruktur global gemeingut bereitzustel- len schützen global völkerrecht universal menschenrecht einstehen',\n",
       "  'richten politik postkolonial antirassistisch wissen deutschland ver- antwortung welt bewusstsein verbrechen nationalsozialismus',\n",
       "  'land verpflichten haus anfangen beitrag gemeinsam aufgabe leisten schließlich entscheidung wirtschaft handel agrar rüstungsexport weltweit stark klima artenschutz global gerechtigkeit auswirken',\n",
       "  'national rat frieden nachhaltigkeit menschenrecht einrichten nachhaltigkeit menschenrechts-tüv ein führen relevant gesetzesentwürf vereinbarkeit vn-nachhaltigkeits- -klimazielen menschenrechtsabkom men überprüfen',\n",
       "  'wol- len win-win-situationen europa nachbarstaat land potenzial erneuerbar energie schaf fen somit postkolonial sensibel unser bedarf grün ener   bundestagswahlprogramm',\n",
       "  'insbesondere regional ansatz betroffe nen selbstbestimmt würdevoll migration ermöglichen aufenthaltsperspektive schaffen unterstützen',\n",
       "  'setzen mensch weltweit sozial absichern social cash transfer kind jugendliche zugang hochwertig schul beruf ausbildung erhalten',\n",
       "  'grundsätzlich sozial sicherungsprogramm einfach zugänglich vulnerabelst gruppe erreichen geschlechtergerechtigkeit herstellen sozial zusam- menhalt stärken',\n",
       "  'visaliberalisierung kosovar*inn nächster schritt genauso unerlässlich fortschritt ser bien-kosovo-dialog eröffnung eu-beitrittskapitel albanien nordmazedonien schaffung bürger*in- nengesellschaft gleich bürger*inne bosnien herzegowina',\n",
       "  'derweil unser bedauern groß- britannien erstmals land gemeinsam haus eu verlas- sen',\n",
       "  'handelsbeziehung china nutzen fair marktzugang ausländisch investi tion rechtssicherheit gleich wettbewerbsbedingung ein zufordern',\n",
       "  'eu-lieferkettengesetz ange sichts menschenrechtsverletzung xinjiang zwangsarbeit zugang binnenmarkt verwehren   bundestagswahlprogramm',\n",
       "  'umfassend kooperation region insbesondere bereich rechtsstaatlichkeit demokratie stärkung multila- teralismus digitalisierung klimaschutz',\n",
       "  'deutschland aktiv global eu konnektivitätsstrategie einsetzen gemeinsam infrastrukturent wicklung qualitativ hoch international standard entspre chend bedürfnis partner*inna realisieren',\n",
       "  'gegenzug türkei garantieren geflüchteter versorgen integrieren',\n",
       "  'existenz sicherheit israel national heimstätte jüdisch volk gleich all bürger*inne unverhandelbar',\n",
       "  'zusammenarbeit eu afrika klimaschutz digitalisierung technologietransfer zivil krisenprävention sozial-ökologische transformation   bundestagswahlprogramm',\n",
       "  'satelli tenbilder lassen vertreibung dorfgemeinschaft kriegsgebiet nachvollziehen',\n",
       "  'frei zugang information global öffentlich gelten fördern schützen',\n",
       "  'engagieren frau mädchen uneingeschränk- ten zugang gleichwertig bildung sichern sexuell reproduktiv schützen',\n",
       "  'setzen frau mädchen weltweit uneingeschränkt zugang empfäng- nisverhütend mittel erhalten',\n",
       "  'brauchen innovativ bildungsange bot kompakt nachholend grundbildung frau beruf bildung krise post-konflikt-kontext',\n",
       "  'beauf- tragen bundesregierung menschenrechtspolitik humani tär hilfe strukturell ausstatten finanziell ausstattung national stelle verhütung folter deutsch institut menschenrecht mindestens v doppeln gesetzlich aufgabe angemessen erfüllen',\n",
       "  'international ebene setzen stärkung vn-fachausschuß -sonderberichterstatter innen',\n",
       "  'schützen geflüchtet   menschenrechtsorientiert geflüchtetenpolitik europa umsetzen   treten europäisch union humanitär rechtlich verpflichtung zugang grundrecht asyl garantieren notwendigkeit verfahren völkerrechtlich standard fair zügig durchführen einhalten',\n",
       "  'zugrunde liegend zügig verteilmechanismus stützen bereitschaft mitgliedstaat region stadt geflüchteter freiwillig auf zunehmen',\n",
       "  'genau bitter realität reichen möglich keit sicher zugangsweg weit geflüch tet zwingen lebensgefährlich route wüste meer ausweichen',\n",
       "  'sicher legal zugangsweg schaffen mensch schutz finden verhindern schlepper not leid geflüchteter profit schlagen',\n",
       "  'besonderer schutz familie gemäß grundgesetz vn-kinderrechtskonvention europäi sch menschenrechtskonvention verpflichten treten einschränkung familiennachzug aufheben',\n",
       "  'geschwisternachzug ermöglichen',\n",
       "  'sicher zugangsweg humanitär aufnahmepartnerschaft   rahmen resettlement-programm unhcr vereint nation anerkannt schutzbedürftig geflüchteter solidarisch geordnet aufnahmeland ver teilen schicksal gefährlich fluchtroute über lassen',\n",
       "  'land landkreis stadt gemeinde mitsprache gestaltungsmöglichkeit erhalten humanitär aufnahme geflüchteter',\n",
       "  'grenze rechtsstaatlich kontrollieren menschenrecht gren- zen schützen zugang asyl sichern',\n",
       "  'tausend mensch jährlich mittelmeer ertrinken europäisch regierung ausreichend sicher zugangs-   bundestagswahlprogramm',\n",
       "  'gemeinsam vorgehen europäisch mitgliedstaat der erscheinen staat vorange hen seenotrettung völkerrechtlich pflicht ernst nehmen beitrag leisten gerettete nächster sicher hafen bringen verteilmecha nismus unverzüglich aufnahmebereit mitgliedstaat region stadt aufteilen',\n",
       "  'dennoch erleben derzeit systematisch rechtsbruch eu-außengrenze mensch misshandeln schutz- wasser zurückgelassen zugang asylver fahren abweisen',\n",
       "  'denjeniger land staatsbürger*innen rückkehr sicherheit effektiv garantie- ren gegenzug visaerleichterung ausbildungspartner schaft verlässlich aussicht geordnet migration eröffnen',\n",
       "  'stimmengewicht zugunsten land global süden verschieben',\n",
       "  'solange international lösung durchsetzbar deutschland regierung koordiniert gesetzge bung anfang',\n",
       "  'erfolg chance zivil krisenprävention konfliktbearbeitung bevölkerung zielgerichtet öffentlichkeitsarbeit vermitteln',\n",
       "  'sichern zugang zivilgesellschaft krise zeit stärken demokratisch austausch bauen partnerschaf ten',\n",
       "  'hinaus kommend legisla- turperiode folgend prozeß initiieren international initiative reduzierung zahl atomwaffe verzicht nato erstschlag breit öffentlich debatte ver- altet abschreckungsdoktrin kalt krieg',\n",
       "  'deutschland rüstungsexport kontrollgesetz vorlegen verbandsklagerecht verstoß gesetz einführen wirksam endverbleibskont rolle sorgen',\n",
       "  'sicherheit cyber informationsraum schaffen   digitalisierung technologie bieten möglichkei ten schaffen risiko offen demokratisch gesellschaf ten werfen bestimmt bereich schwerwiegend ethisch politisch rechtlich frage',\n",
       "  'gleichzeitig staat lich institution kontinuierlich resilienz stärken betreiber*inne kritisch infrastruktur hierbei unterstützen',\n",
       "  'bewaffnet einsatz bundeswehr ausland system gegenseitig kollektiv sicherheit verfassungswidrig koalition willige politisch gesamtkonzept einbetten basie- rend grundgesetz völkerrecht',\n",
       "  'umwidmung ausschließlich zivil zweck vorgesehen geld eu-haushalt militärisch zweck lehnen',\n",
       "  'bitten einbringen einmischen laden voranzugehen',\n",
       "  'möchten verhältnis regierung parlament bürger*inne neu begründen stark parlament abgeordneter form beteiligung bürger innenräte früh einbeziehung bürger*inne planungsprozesse trans- parent einbeziehung demokratisch zivilgesellschaft wis senschaftlich fakt',\n",
       "  'erkennen mensch gesetz direkt betreffen unbeabsichtigt wirkun gen',\n",
       "  'umso wichtig die- jenige zugehen wählen wählen',\n",
       "  'sozial-ökologisch transformation digitalisierung modernisierung staat öffentlich dienst gemeinschaftsprojekt gelingen konvent weg bringen aufbauend lehre pandemie zusammenspiel bund land kommune neu tief greifend justieren',\n",
       "  'bürger*inne',\n",
       "  'demokratisierung   digitalisierung    f',\n",
       "  'einwanderungsgesetz',\n",
       "  'eu-haushalt',\n",
       "  'frauenhaus',\n",
       "  'globalisierung',\n",
       "  'haushalt f',\n",
       "  'infrastruktur    ff',\n",
       "  'internet',\n",
       "  'mobilfunkversorgung',\n",
       "  'mobilität   ff',\n",
       "  'mobilitätswende     ff',\n",
       "  '    treibhausgasneutralität']}"
      ]
     },
     "execution_count": 46,
     "metadata": {},
     "output_type": "execute_result"
    }
   ],
   "source": [
    "topical_sentences"
   ]
  },
  {
   "cell_type": "code",
   "execution_count": 64,
   "metadata": {},
   "outputs": [],
   "source": [
    "topic_sentence_count = dict()\n",
    "for topic in topics:\n",
    "    topic_sentence_count[topic] = len(topical_sentences[topic])"
   ]
  },
  {
   "cell_type": "code",
   "execution_count": 130,
   "metadata": {},
   "outputs": [],
   "source": [
    "# sent\n",
    "with open('data/DIE_GRUENEN_Wahlprogramm_2021_sent_lemma_list.txt', 'r', encoding='UTF-8') as f:\n",
    "    content = f.read()\n",
    "    sent = content.split(' § ')\n",
    "    sent = sent[:-1]"
   ]
  },
  {
   "cell_type": "code",
   "execution_count": 69,
   "metadata": {},
   "outputs": [
    {
     "data": {
      "text/plain": [
       "{'wirtschaft': 4467,\n",
       " 'Klima': 0,\n",
       " 'Bildung': 0,\n",
       " 'Gesundheit': 15,\n",
       " 'Wissenschaft': 18,\n",
       " 'soziale Ursachen': 94,\n",
       " 'Politik und Ideologie': 212,\n",
       " 'Infrastruktur': 74}"
      ]
     },
     "execution_count": 69,
     "metadata": {},
     "output_type": "execute_result"
    }
   ],
   "source": [
    "topic_sentence_count\n"
   ]
  },
  {
   "cell_type": "code",
   "execution_count": 70,
   "metadata": {},
   "outputs": [],
   "source": [
    "df_top=get_topical_sentences(sent, topics,1)"
   ]
  },
  {
   "cell_type": "code",
   "execution_count": 133,
   "metadata": {},
   "outputs": [],
   "source": [
    "# create csv \n",
    "def automated_topical_sentences(data_names, topics):\n",
    "    for element in list(filter(None, data_names)):\n",
    "        with open('data' + \"/\" + str(element) + 'sent_lemma_list.txt', 'r', encoding='UTF-8') as f:\n",
    "            content = f.read()\n",
    "            sent = content.split(' § ')\n",
    "            sent = sent[:-1]\n",
    "            df1 = get_topical_sentences(sent, topics,1)\n",
    "            df1.to_csv(f'{element}.csv', index = True)"
   ]
  },
  {
   "cell_type": "code",
   "execution_count": 132,
   "metadata": {},
   "outputs": [],
   "source": [
    "automated_topical_sentences(data_names, topics)\n"
   ]
  },
  {
   "cell_type": "code",
   "execution_count": 146,
   "metadata": {},
   "outputs": [
    {
     "data": {
      "text/html": [
       "<div>\n",
       "<style scoped>\n",
       "    .dataframe tbody tr th:only-of-type {\n",
       "        vertical-align: middle;\n",
       "    }\n",
       "\n",
       "    .dataframe tbody tr th {\n",
       "        vertical-align: top;\n",
       "    }\n",
       "\n",
       "    .dataframe thead th {\n",
       "        text-align: right;\n",
       "    }\n",
       "</style>\n",
       "<table border=\"1\" class=\"dataframe\">\n",
       "  <thead>\n",
       "    <tr style=\"text-align: right;\">\n",
       "      <th></th>\n",
       "      <th>Unnamed: 0</th>\n",
       "      <th>text</th>\n",
       "      <th>topic</th>\n",
       "    </tr>\n",
       "  </thead>\n",
       "  <tbody>\n",
       "    <tr>\n",
       "      <th>0</th>\n",
       "      <td>0</td>\n",
       "      <td>deutschland</td>\n",
       "      <td>wirtschaft</td>\n",
       "    </tr>\n",
       "    <tr>\n",
       "      <th>1</th>\n",
       "      <td>1</td>\n",
       "      <td>normal</td>\n",
       "      <td>wirtschaft</td>\n",
       "    </tr>\n",
       "    <tr>\n",
       "      <th>2</th>\n",
       "      <td>2</td>\n",
       "      <td>normal</td>\n",
       "      <td>wirtschaft</td>\n",
       "    </tr>\n",
       "    <tr>\n",
       "      <th>3</th>\n",
       "      <td>3</td>\n",
       "      <td>programm alternative deutschland wahl   deutsc...</td>\n",
       "      <td>wirtschaft</td>\n",
       "    </tr>\n",
       "    <tr>\n",
       "      <th>4</th>\n",
       "      <td>4</td>\n",
       "      <td>inhaltsverzeichnis   demokratie rechtsstaat</td>\n",
       "      <td>wirtschaft</td>\n",
       "    </tr>\n",
       "    <tr>\n",
       "      <th>...</th>\n",
       "      <td>...</td>\n",
       "      <td>...</td>\n",
       "      <td>...</td>\n",
       "    </tr>\n",
       "    <tr>\n",
       "      <th>1908</th>\n",
       "      <td>1908</td>\n",
       "      <td>bankverbindung alternative deutschland berline...</td>\n",
       "      <td>wirtschaft</td>\n",
       "    </tr>\n",
       "    <tr>\n",
       "      <th>1909</th>\n",
       "      <td>1909</td>\n",
       "      <td>afd-id   www</td>\n",
       "      <td>wirtschaft</td>\n",
       "    </tr>\n",
       "    <tr>\n",
       "      <th>1910</th>\n",
       "      <td>1910</td>\n",
       "      <td>afd</td>\n",
       "      <td>wirtschaft</td>\n",
       "    </tr>\n",
       "    <tr>\n",
       "      <th>1911</th>\n",
       "      <td>1911</td>\n",
       "      <td>de spenden paypal@alternativefuer</td>\n",
       "      <td>wirtschaft</td>\n",
       "    </tr>\n",
       "    <tr>\n",
       "      <th>1912</th>\n",
       "      <td>1912</td>\n",
       "      <td>--</td>\n",
       "      <td>wirtschaft</td>\n",
       "    </tr>\n",
       "  </tbody>\n",
       "</table>\n",
       "<p>1913 rows × 3 columns</p>\n",
       "</div>"
      ],
      "text/plain": [
       "      Unnamed: 0                                               text  \\\n",
       "0              0                                        deutschland   \n",
       "1              1                                             normal   \n",
       "2              2                                             normal   \n",
       "3              3  programm alternative deutschland wahl   deutsc...   \n",
       "4              4        inhaltsverzeichnis   demokratie rechtsstaat   \n",
       "...          ...                                                ...   \n",
       "1908        1908  bankverbindung alternative deutschland berline...   \n",
       "1909        1909                                       afd-id   www   \n",
       "1910        1910                                                afd   \n",
       "1911        1911                  de spenden paypal@alternativefuer   \n",
       "1912        1912                                               --     \n",
       "\n",
       "           topic  \n",
       "0     wirtschaft  \n",
       "1     wirtschaft  \n",
       "2     wirtschaft  \n",
       "3     wirtschaft  \n",
       "4     wirtschaft  \n",
       "...          ...  \n",
       "1908  wirtschaft  \n",
       "1909  wirtschaft  \n",
       "1910  wirtschaft  \n",
       "1911  wirtschaft  \n",
       "1912  wirtschaft  \n",
       "\n",
       "[1913 rows x 3 columns]"
      ]
     },
     "metadata": {},
     "output_type": "display_data"
    },
    {
     "data": {
      "text/html": [
       "<div>\n",
       "<style scoped>\n",
       "    .dataframe tbody tr th:only-of-type {\n",
       "        vertical-align: middle;\n",
       "    }\n",
       "\n",
       "    .dataframe tbody tr th {\n",
       "        vertical-align: top;\n",
       "    }\n",
       "\n",
       "    .dataframe thead th {\n",
       "        text-align: right;\n",
       "    }\n",
       "</style>\n",
       "<table border=\"1\" class=\"dataframe\">\n",
       "  <thead>\n",
       "    <tr style=\"text-align: right;\">\n",
       "      <th></th>\n",
       "      <th>Unnamed: 0</th>\n",
       "      <th>text</th>\n",
       "      <th>topic</th>\n",
       "    </tr>\n",
       "  </thead>\n",
       "  <tbody>\n",
       "    <tr>\n",
       "      <th>0</th>\n",
       "      <td>0</td>\n",
       "      <td>inhaltsverzeichnis   einleitung</td>\n",
       "      <td>wirtschaft</td>\n",
       "    </tr>\n",
       "    <tr>\n",
       "      <th>1</th>\n",
       "      <td>1</td>\n",
       "      <td>sssonnsnsssnnsnssnnnnnnsnnnnnnsnnnnnssnnnssnsn...</td>\n",
       "      <td>wirtschaft</td>\n",
       "    </tr>\n",
       "    <tr>\n",
       "      <th>2</th>\n",
       "      <td>2</td>\n",
       "      <td>verantwortung deutschland welt überzeugung fri...</td>\n",
       "      <td>wirtschaft</td>\n",
       "    </tr>\n",
       "    <tr>\n",
       "      <th>3</th>\n",
       "      <td>3</td>\n",
       "      <td>oossssssssssnnssssonnnnsssnnnnssnnnnsssnnnnsns...</td>\n",
       "      <td>wirtschaft</td>\n",
       "    </tr>\n",
       "    <tr>\n",
       "      <th>4</th>\n",
       "      <td>4</td>\n",
       "      <td>stärkung werte- regelbasiert international ord...</td>\n",
       "      <td>wirtschaft</td>\n",
       "    </tr>\n",
       "    <tr>\n",
       "      <th>...</th>\n",
       "      <td>...</td>\n",
       "      <td>...</td>\n",
       "      <td>...</td>\n",
       "    </tr>\n",
       "    <tr>\n",
       "      <th>2857</th>\n",
       "      <td>2857</td>\n",
       "      <td>international stark abstimmen kontrollieren wer-</td>\n",
       "      <td>wirtschaft</td>\n",
       "    </tr>\n",
       "    <tr>\n",
       "      <th>2858</th>\n",
       "      <td>2858</td>\n",
       "      <td>unterstützen bewerbung international sportlich...</td>\n",
       "      <td>wirtschaft</td>\n",
       "    </tr>\n",
       "    <tr>\n",
       "      <th>2859</th>\n",
       "      <td>2859</td>\n",
       "      <td>ökologisch ökonomisch sozial nachhaltig breit ...</td>\n",
       "      <td>wirtschaft</td>\n",
       "    </tr>\n",
       "    <tr>\n",
       "      <th>2860</th>\n",
       "      <td>2860</td>\n",
       "      <td>maßstab bewerbung olympisch spiel deutschland</td>\n",
       "      <td>wirtschaft</td>\n",
       "    </tr>\n",
       "    <tr>\n",
       "      <th>2861</th>\n",
       "      <td>2861</td>\n",
       "      <td>seite</td>\n",
       "      <td>wirtschaft</td>\n",
       "    </tr>\n",
       "  </tbody>\n",
       "</table>\n",
       "<p>2862 rows × 3 columns</p>\n",
       "</div>"
      ],
      "text/plain": [
       "      Unnamed: 0                                               text  \\\n",
       "0              0                    inhaltsverzeichnis   einleitung   \n",
       "1              1  sssonnsnsssnnsnssnnnnnnsnnnnnnsnnnnnssnnnssnsn...   \n",
       "2              2  verantwortung deutschland welt überzeugung fri...   \n",
       "3              3  oossssssssssnnssssonnnnsssnnnnssnnnnsssnnnnsns...   \n",
       "4              4  stärkung werte- regelbasiert international ord...   \n",
       "...          ...                                                ...   \n",
       "2857        2857   international stark abstimmen kontrollieren wer-   \n",
       "2858        2858  unterstützen bewerbung international sportlich...   \n",
       "2859        2859  ökologisch ökonomisch sozial nachhaltig breit ...   \n",
       "2860        2860      maßstab bewerbung olympisch spiel deutschland   \n",
       "2861        2861                                              seite   \n",
       "\n",
       "           topic  \n",
       "0     wirtschaft  \n",
       "1     wirtschaft  \n",
       "2     wirtschaft  \n",
       "3     wirtschaft  \n",
       "4     wirtschaft  \n",
       "...          ...  \n",
       "2857  wirtschaft  \n",
       "2858  wirtschaft  \n",
       "2859  wirtschaft  \n",
       "2860  wirtschaft  \n",
       "2861  wirtschaft  \n",
       "\n",
       "[2862 rows x 3 columns]"
      ]
     },
     "metadata": {},
     "output_type": "display_data"
    },
    {
     "data": {
      "text/html": [
       "<div>\n",
       "<style scoped>\n",
       "    .dataframe tbody tr th:only-of-type {\n",
       "        vertical-align: middle;\n",
       "    }\n",
       "\n",
       "    .dataframe tbody tr th {\n",
       "        vertical-align: top;\n",
       "    }\n",
       "\n",
       "    .dataframe thead th {\n",
       "        text-align: right;\n",
       "    }\n",
       "</style>\n",
       "<table border=\"1\" class=\"dataframe\">\n",
       "  <thead>\n",
       "    <tr style=\"text-align: right;\">\n",
       "      <th></th>\n",
       "      <th>Unnamed: 0</th>\n",
       "      <th>text</th>\n",
       "      <th>topic</th>\n",
       "    </tr>\n",
       "  </thead>\n",
       "  <tbody>\n",
       "    <tr>\n",
       "      <th>0</th>\n",
       "      <td>0</td>\n",
       "      <td>ieittesaltentr</td>\n",
       "      <td>wirtschaft</td>\n",
       "    </tr>\n",
       "    <tr>\n",
       "      <th>1</th>\n",
       "      <td>1</td>\n",
       "      <td>bundestagswahlprogramm</td>\n",
       "      <td>wirtschaft</td>\n",
       "    </tr>\n",
       "    <tr>\n",
       "      <th>2</th>\n",
       "      <td>2</td>\n",
       "      <td>bereit</td>\n",
       "      <td>wirtschaft</td>\n",
       "    </tr>\n",
       "    <tr>\n",
       "      <th>3</th>\n",
       "      <td>3</td>\n",
       "      <td>bundestagswahlprogramm   bundesdelegiertenkonf...</td>\n",
       "      <td>wirtschaft</td>\n",
       "    </tr>\n",
       "    <tr>\n",
       "      <th>4</th>\n",
       "      <td>4</td>\n",
       "      <td>herausgeberin   bündnis grünen platz tor</td>\n",
       "      <td>wirtschaft</td>\n",
       "    </tr>\n",
       "    <tr>\n",
       "      <th>...</th>\n",
       "      <td>...</td>\n",
       "      <td>...</td>\n",
       "      <td>...</td>\n",
       "    </tr>\n",
       "    <tr>\n",
       "      <th>4875</th>\n",
       "      <td>4875</td>\n",
       "      <td></td>\n",
       "      <td>wirtschaft</td>\n",
       "    </tr>\n",
       "    <tr>\n",
       "      <th>4876</th>\n",
       "      <td>4876</td>\n",
       "      <td>f</td>\n",
       "      <td>wirtschaft</td>\n",
       "    </tr>\n",
       "    <tr>\n",
       "      <th>4877</th>\n",
       "      <td>4877</td>\n",
       "      <td>zweistaatenregelung</td>\n",
       "      <td>wirtschaft</td>\n",
       "    </tr>\n",
       "    <tr>\n",
       "      <th>4878</th>\n",
       "      <td>4878</td>\n",
       "      <td>bundestagswahlprogramm</td>\n",
       "      <td>wirtschaft</td>\n",
       "    </tr>\n",
       "    <tr>\n",
       "      <th>4879</th>\n",
       "      <td>4879</td>\n",
       "      <td>bündnis grünen     stichwortregister informier...</td>\n",
       "      <td>wirtschaft</td>\n",
       "    </tr>\n",
       "  </tbody>\n",
       "</table>\n",
       "<p>4880 rows × 3 columns</p>\n",
       "</div>"
      ],
      "text/plain": [
       "      Unnamed: 0                                               text  \\\n",
       "0              0                                     ieittesaltentr   \n",
       "1              1                             bundestagswahlprogramm   \n",
       "2              2                                             bereit   \n",
       "3              3  bundestagswahlprogramm   bundesdelegiertenkonf...   \n",
       "4              4           herausgeberin   bündnis grünen platz tor   \n",
       "...          ...                                                ...   \n",
       "4875        4875                                                      \n",
       "4876        4876                                                  f   \n",
       "4877        4877                                zweistaatenregelung   \n",
       "4878        4878                             bundestagswahlprogramm   \n",
       "4879        4879  bündnis grünen     stichwortregister informier...   \n",
       "\n",
       "           topic  \n",
       "0     wirtschaft  \n",
       "1     wirtschaft  \n",
       "2     wirtschaft  \n",
       "3     wirtschaft  \n",
       "4     wirtschaft  \n",
       "...          ...  \n",
       "4875  wirtschaft  \n",
       "4876  wirtschaft  \n",
       "4877  wirtschaft  \n",
       "4878  wirtschaft  \n",
       "4879  wirtschaft  \n",
       "\n",
       "[4880 rows x 3 columns]"
      ]
     },
     "metadata": {},
     "output_type": "display_data"
    },
    {
     "data": {
      "text/html": [
       "<div>\n",
       "<style scoped>\n",
       "    .dataframe tbody tr th:only-of-type {\n",
       "        vertical-align: middle;\n",
       "    }\n",
       "\n",
       "    .dataframe tbody tr th {\n",
       "        vertical-align: top;\n",
       "    }\n",
       "\n",
       "    .dataframe thead th {\n",
       "        text-align: right;\n",
       "    }\n",
       "</style>\n",
       "<table border=\"1\" class=\"dataframe\">\n",
       "  <thead>\n",
       "    <tr style=\"text-align: right;\">\n",
       "      <th></th>\n",
       "      <th>Unnamed: 0</th>\n",
       "      <th>text</th>\n",
       "      <th>topic</th>\n",
       "    </tr>\n",
       "  </thead>\n",
       "  <tbody>\n",
       "    <tr>\n",
       "      <th>0</th>\n",
       "      <td>0</td>\n",
       "      <td>zeitzu handeln</td>\n",
       "      <td>wirtschaft</td>\n",
       "    </tr>\n",
       "    <tr>\n",
       "      <th>1</th>\n",
       "      <td>1</td>\n",
       "      <td>sozial sicherheit frieden klimagerechtigkeit  ...</td>\n",
       "      <td>wirtschaft</td>\n",
       "    </tr>\n",
       "    <tr>\n",
       "      <th>2</th>\n",
       "      <td>2</td>\n",
       "      <td>linke</td>\n",
       "      <td>wirtschaft</td>\n",
       "    </tr>\n",
       "    <tr>\n",
       "      <th>3</th>\n",
       "      <td>3</td>\n",
       "      <td>wahlprogramm partei linke bundestagswahl</td>\n",
       "      <td>wirtschaft</td>\n",
       "    </tr>\n",
       "    <tr>\n",
       "      <th>4</th>\n",
       "      <td>4</td>\n",
       "      <td>beschlosse bundesparteitag     juni</td>\n",
       "      <td>wirtschaft</td>\n",
       "    </tr>\n",
       "    <tr>\n",
       "      <th>...</th>\n",
       "      <td>...</td>\n",
       "      <td>...</td>\n",
       "      <td>...</td>\n",
       "    </tr>\n",
       "    <tr>\n",
       "      <th>5217</th>\n",
       "      <td>5217</td>\n",
       "      <td>jörg schindler bundesgeschäftsführer   linke f...</td>\n",
       "      <td>wirtschaft</td>\n",
       "    </tr>\n",
       "    <tr>\n",
       "      <th>5218</th>\n",
       "      <td>5218</td>\n",
       "      <td>drucken recycling offset prozent altpapier</td>\n",
       "      <td>wirtschaft</td>\n",
       "    </tr>\n",
       "    <tr>\n",
       "      <th>5219</th>\n",
       "      <td>5219</td>\n",
       "      <td>ww\\w</td>\n",
       "      <td>wirtschaft</td>\n",
       "    </tr>\n",
       "    <tr>\n",
       "      <th>5220</th>\n",
       "      <td>5220</td>\n",
       "      <td>die-linke</td>\n",
       "      <td>wirtschaft</td>\n",
       "    </tr>\n",
       "    <tr>\n",
       "      <th>5221</th>\n",
       "      <td>5221</td>\n",
       "      <td>--</td>\n",
       "      <td>wirtschaft</td>\n",
       "    </tr>\n",
       "  </tbody>\n",
       "</table>\n",
       "<p>5222 rows × 3 columns</p>\n",
       "</div>"
      ],
      "text/plain": [
       "      Unnamed: 0                                               text  \\\n",
       "0              0                                     zeitzu handeln   \n",
       "1              1  sozial sicherheit frieden klimagerechtigkeit  ...   \n",
       "2              2                                              linke   \n",
       "3              3           wahlprogramm partei linke bundestagswahl   \n",
       "4              4                beschlosse bundesparteitag     juni   \n",
       "...          ...                                                ...   \n",
       "5217        5217  jörg schindler bundesgeschäftsführer   linke f...   \n",
       "5218        5218         drucken recycling offset prozent altpapier   \n",
       "5219        5219                                               ww\\w   \n",
       "5220        5220                                          die-linke   \n",
       "5221        5221                                               --     \n",
       "\n",
       "           topic  \n",
       "0     wirtschaft  \n",
       "1     wirtschaft  \n",
       "2     wirtschaft  \n",
       "3     wirtschaft  \n",
       "4     wirtschaft  \n",
       "...          ...  \n",
       "5217  wirtschaft  \n",
       "5218  wirtschaft  \n",
       "5219  wirtschaft  \n",
       "5220  wirtschaft  \n",
       "5221  wirtschaft  \n",
       "\n",
       "[5222 rows x 3 columns]"
      ]
     },
     "metadata": {},
     "output_type": "display_data"
    },
    {
     "data": {
      "text/html": [
       "<div>\n",
       "<style scoped>\n",
       "    .dataframe tbody tr th:only-of-type {\n",
       "        vertical-align: middle;\n",
       "    }\n",
       "\n",
       "    .dataframe tbody tr th {\n",
       "        vertical-align: top;\n",
       "    }\n",
       "\n",
       "    .dataframe thead th {\n",
       "        text-align: right;\n",
       "    }\n",
       "</style>\n",
       "<table border=\"1\" class=\"dataframe\">\n",
       "  <thead>\n",
       "    <tr style=\"text-align: right;\">\n",
       "      <th></th>\n",
       "      <th>Unnamed: 0</th>\n",
       "      <th>text</th>\n",
       "      <th>topic</th>\n",
       "    </tr>\n",
       "  </thead>\n",
       "  <tbody>\n",
       "    <tr>\n",
       "      <th>0</th>\n",
       "      <td>0</td>\n",
       "      <td>frei demokrat frei demokrat   beschluss   ord</td>\n",
       "      <td>wirtschaft</td>\n",
       "    </tr>\n",
       "    <tr>\n",
       "      <th>1</th>\n",
       "      <td>1</td>\n",
       "      <td>bundesparteitag frei demokrat mai</td>\n",
       "      <td>wirtschaft</td>\n",
       "    </tr>\n",
       "    <tr>\n",
       "      <th>2</th>\n",
       "      <td>2</td>\n",
       "      <td>bleiben</td>\n",
       "      <td>wirtschaft</td>\n",
       "    </tr>\n",
       "    <tr>\n",
       "      <th>3</th>\n",
       "      <td>3</td>\n",
       "      <td>cccccceeee see essen een ee e ee error eeeeeer...</td>\n",
       "      <td>wirtschaft</td>\n",
       "    </tr>\n",
       "    <tr>\n",
       "      <th>4</th>\n",
       "      <td>4</td>\n",
       "      <td>land stecken</td>\n",
       "      <td>wirtschaft</td>\n",
       "    </tr>\n",
       "    <tr>\n",
       "      <th>...</th>\n",
       "      <td>...</td>\n",
       "      <td>...</td>\n",
       "      <td>...</td>\n",
       "    </tr>\n",
       "    <tr>\n",
       "      <th>2263</th>\n",
       "      <td>2263</td>\n",
       "      <td>diskriminierende altersgrenz abschaffen   frei...</td>\n",
       "      <td>wirtschaft</td>\n",
       "    </tr>\n",
       "    <tr>\n",
       "      <th>2264</th>\n",
       "      <td>2264</td>\n",
       "      <td>gesetz satzung beschrän- kend altersgrenz mögl...</td>\n",
       "      <td>wirtschaft</td>\n",
       "    </tr>\n",
       "    <tr>\n",
       "      <th>2265</th>\n",
       "      <td>2265</td>\n",
       "      <td>frei demokrat   frei demokrat fdp fdp-bundesge...</td>\n",
       "      <td>wirtschaft</td>\n",
       "    </tr>\n",
       "    <tr>\n",
       "      <th>2266</th>\n",
       "      <td>2266</td>\n",
       "      <td>-- erfahren fdp</td>\n",
       "      <td>wirtschaft</td>\n",
       "    </tr>\n",
       "    <tr>\n",
       "      <th>2267</th>\n",
       "      <td>2267</td>\n",
       "      <td>--</td>\n",
       "      <td>wirtschaft</td>\n",
       "    </tr>\n",
       "  </tbody>\n",
       "</table>\n",
       "<p>2268 rows × 3 columns</p>\n",
       "</div>"
      ],
      "text/plain": [
       "      Unnamed: 0                                               text  \\\n",
       "0              0      frei demokrat frei demokrat   beschluss   ord   \n",
       "1              1                  bundesparteitag frei demokrat mai   \n",
       "2              2                                            bleiben   \n",
       "3              3  cccccceeee see essen een ee e ee error eeeeeer...   \n",
       "4              4                                       land stecken   \n",
       "...          ...                                                ...   \n",
       "2263        2263  diskriminierende altersgrenz abschaffen   frei...   \n",
       "2264        2264  gesetz satzung beschrän- kend altersgrenz mögl...   \n",
       "2265        2265  frei demokrat   frei demokrat fdp fdp-bundesge...   \n",
       "2266        2266                                    -- erfahren fdp   \n",
       "2267        2267                                                 --   \n",
       "\n",
       "           topic  \n",
       "0     wirtschaft  \n",
       "1     wirtschaft  \n",
       "2     wirtschaft  \n",
       "3     wirtschaft  \n",
       "4     wirtschaft  \n",
       "...          ...  \n",
       "2263  wirtschaft  \n",
       "2264  wirtschaft  \n",
       "2265  wirtschaft  \n",
       "2266  wirtschaft  \n",
       "2267  wirtschaft  \n",
       "\n",
       "[2268 rows x 3 columns]"
      ]
     },
     "metadata": {},
     "output_type": "display_data"
    },
    {
     "data": {
      "text/html": [
       "<div>\n",
       "<style scoped>\n",
       "    .dataframe tbody tr th:only-of-type {\n",
       "        vertical-align: middle;\n",
       "    }\n",
       "\n",
       "    .dataframe tbody tr th {\n",
       "        vertical-align: top;\n",
       "    }\n",
       "\n",
       "    .dataframe thead th {\n",
       "        text-align: right;\n",
       "    }\n",
       "</style>\n",
       "<table border=\"1\" class=\"dataframe\">\n",
       "  <thead>\n",
       "    <tr style=\"text-align: right;\">\n",
       "      <th></th>\n",
       "      <th>Unnamed: 0</th>\n",
       "      <th>text</th>\n",
       "      <th>topic</th>\n",
       "    </tr>\n",
       "  </thead>\n",
       "  <tbody>\n",
       "    <tr>\n",
       "      <th>0</th>\n",
       "      <td>0</td>\n",
       "      <td>&gt; | &gt; ezdrespekt   au |</td>\n",
       "      <td>wirtschaft</td>\n",
       "    </tr>\n",
       "    <tr>\n",
       "      <th>1</th>\n",
       "      <td>1</td>\n",
       "      <td>&gt;   zukunftsprogramm spd   wofür stehen</td>\n",
       "      <td>wirtschaft</td>\n",
       "    </tr>\n",
       "    <tr>\n",
       "      <th>2</th>\n",
       "      <td>2</td>\n",
       "      <td>antreibt</td>\n",
       "      <td>wirtschaft</td>\n",
       "    </tr>\n",
       "    <tr>\n",
       "      <th>3</th>\n",
       "      <td>3</td>\n",
       "      <td>wonach streben</td>\n",
       "      <td>wirtschaft</td>\n",
       "    </tr>\n",
       "    <tr>\n",
       "      <th>4</th>\n",
       "      <td>4</td>\n",
       "      <td>sozial politik</td>\n",
       "      <td>wirtschaft</td>\n",
       "    </tr>\n",
       "    <tr>\n",
       "      <th>...</th>\n",
       "      <td>...</td>\n",
       "      <td>...</td>\n",
       "      <td>...</td>\n",
       "    </tr>\n",
       "    <tr>\n",
       "      <th>1708</th>\n",
       "      <td>1708</td>\n",
       "      <td>lebensstandard ausbeutung mensch natur beruhen</td>\n",
       "      <td>wirtschaft</td>\n",
       "    </tr>\n",
       "    <tr>\n",
       "      <th>1709</th>\n",
       "      <td>1709</td>\n",
       "      <td>weder deutschland europa region welt</td>\n",
       "      <td>wirtschaft</td>\n",
       "    </tr>\n",
       "    <tr>\n",
       "      <th>1710</th>\n",
       "      <td>1710</td>\n",
       "      <td>werben programm</td>\n",
       "      <td>wirtschaft</td>\n",
       "    </tr>\n",
       "    <tr>\n",
       "      <th>1711</th>\n",
       "      <td>1711</td>\n",
       "      <td>spd-parteivorstand seite &gt;</td>\n",
       "      <td>wirtschaft</td>\n",
       "    </tr>\n",
       "    <tr>\n",
       "      <th>1712</th>\n",
       "      <td>1712</td>\n",
       "      <td>syejiel[- politik</td>\n",
       "      <td>wirtschaft</td>\n",
       "    </tr>\n",
       "  </tbody>\n",
       "</table>\n",
       "<p>1713 rows × 3 columns</p>\n",
       "</div>"
      ],
      "text/plain": [
       "      Unnamed: 0                                            text       topic\n",
       "0              0                         > | > ezdrespekt   au |  wirtschaft\n",
       "1              1         >   zukunftsprogramm spd   wofür stehen  wirtschaft\n",
       "2              2                                        antreibt  wirtschaft\n",
       "3              3                                  wonach streben  wirtschaft\n",
       "4              4                                  sozial politik  wirtschaft\n",
       "...          ...                                             ...         ...\n",
       "1708        1708  lebensstandard ausbeutung mensch natur beruhen  wirtschaft\n",
       "1709        1709            weder deutschland europa region welt  wirtschaft\n",
       "1710        1710                                 werben programm  wirtschaft\n",
       "1711        1711                      spd-parteivorstand seite >  wirtschaft\n",
       "1712        1712                               syejiel[- politik  wirtschaft\n",
       "\n",
       "[1713 rows x 3 columns]"
      ]
     },
     "metadata": {},
     "output_type": "display_data"
    }
   ],
   "source": [
    "# read dataframes\n",
    "df1 = pd.read_csv('preprocessing/AFD_Wahlprogramm_2021_sent_lemma_list.csv')\n",
    "df2 = pd.read_csv('preprocessing/CDU-CSU_Wahlrprogramm_2021_sent_lemma_list.csv')\n",
    "df3 = pd.read_csv('preprocessing/DIE_GRUENEN_Wahlprogramm_2021_sent_lemma_list.csv')\n",
    "df4 = pd.read_csv('preprocessing/DIE_LINKE_Wahlprogramm_2021_sent_lemma_list.csv')\n",
    "df5 = pd.read_csv('preprocessing/FDP_Wahlprogramm_2021_sent_lemma_list.csv')\n",
    "df6 = pd.read_csv('preprocessing/SPD_Wahlprogramm_2021_sent_lemma_list.csv')\n",
    "\n",
    "#display dataframes \n",
    "dataframes = [df1, df2, df3, df4, df5, df6]\n",
    "for i in dataframes: \n",
    "    display(i)"
   ]
  },
  {
   "cell_type": "code",
   "execution_count": 157,
   "metadata": {},
   "outputs": [
    {
     "ename": "KeyError",
     "evalue": "False",
     "output_type": "error",
     "traceback": [
      "\u001b[1;31m---------------------------------------------------------------------------\u001b[0m",
      "\u001b[1;31mKeyError\u001b[0m                                  Traceback (most recent call last)",
      "File \u001b[1;32mc:\\Users\\DELSTEI9\\AppData\\Local\\Programs\\Python\\Python310\\lib\\site-packages\\pandas\\core\\indexes\\base.py:3621\u001b[0m, in \u001b[0;36mIndex.get_loc\u001b[1;34m(self, key, method, tolerance)\u001b[0m\n\u001b[0;32m   3620\u001b[0m \u001b[39mtry\u001b[39;00m:\n\u001b[1;32m-> 3621\u001b[0m     \u001b[39mreturn\u001b[39;00m \u001b[39mself\u001b[39;49m\u001b[39m.\u001b[39;49m_engine\u001b[39m.\u001b[39;49mget_loc(casted_key)\n\u001b[0;32m   3622\u001b[0m \u001b[39mexcept\u001b[39;00m \u001b[39mKeyError\u001b[39;00m \u001b[39mas\u001b[39;00m err:\n",
      "File \u001b[1;32mc:\\Users\\DELSTEI9\\AppData\\Local\\Programs\\Python\\Python310\\lib\\site-packages\\pandas\\_libs\\index.pyx:136\u001b[0m, in \u001b[0;36mpandas._libs.index.IndexEngine.get_loc\u001b[1;34m()\u001b[0m\n",
      "File \u001b[1;32mc:\\Users\\DELSTEI9\\AppData\\Local\\Programs\\Python\\Python310\\lib\\site-packages\\pandas\\_libs\\index.pyx:163\u001b[0m, in \u001b[0;36mpandas._libs.index.IndexEngine.get_loc\u001b[1;34m()\u001b[0m\n",
      "File \u001b[1;32mpandas\\_libs\\hashtable_class_helper.pxi:5198\u001b[0m, in \u001b[0;36mpandas._libs.hashtable.PyObjectHashTable.get_item\u001b[1;34m()\u001b[0m\n",
      "File \u001b[1;32mpandas\\_libs\\hashtable_class_helper.pxi:5206\u001b[0m, in \u001b[0;36mpandas._libs.hashtable.PyObjectHashTable.get_item\u001b[1;34m()\u001b[0m\n",
      "\u001b[1;31mKeyError\u001b[0m: False",
      "\nThe above exception was the direct cause of the following exception:\n",
      "\u001b[1;31mKeyError\u001b[0m                                  Traceback (most recent call last)",
      "\u001b[1;32mc:\\Users\\DELSTEI9\\OneDrive - EY\\Documents\\GitHub\\NLP\\test.ipynb Cell 59\u001b[0m in \u001b[0;36m<cell line: 36>\u001b[1;34m()\u001b[0m\n\u001b[0;32m     <a href='vscode-notebook-cell:/c%3A/Users/DELSTEI9/OneDrive%20-%20EY/Documents/GitHub/NLP/test.ipynb#Y200sZmlsZQ%3D%3D?line=32'>33</a>\u001b[0m         fig\u001b[39m.\u001b[39mwrite_image(\u001b[39mf\u001b[39m\u001b[39m\"\u001b[39m\u001b[39mimages/\u001b[39m\u001b[39m{\u001b[39;00mdf\u001b[39m}\u001b[39;00m\u001b[39m_topical_presence.png\u001b[39m\u001b[39m\"\u001b[39m)\n\u001b[0;32m     <a href='vscode-notebook-cell:/c%3A/Users/DELSTEI9/OneDrive%20-%20EY/Documents/GitHub/NLP/test.ipynb#Y200sZmlsZQ%3D%3D?line=33'>34</a>\u001b[0m         \u001b[39mreturn\u001b[39;00m fig\n\u001b[1;32m---> <a href='vscode-notebook-cell:/c%3A/Users/DELSTEI9/OneDrive%20-%20EY/Documents/GitHub/NLP/test.ipynb#Y200sZmlsZQ%3D%3D?line=35'>36</a>\u001b[0m plot_topical_presence_df_CHANGED(dataframes)\n",
      "\u001b[1;32mc:\\Users\\DELSTEI9\\OneDrive - EY\\Documents\\GitHub\\NLP\\test.ipynb Cell 59\u001b[0m in \u001b[0;36mplot_topical_presence_df_CHANGED\u001b[1;34m(dataframes, title, color, height)\u001b[0m\n\u001b[0;32m     <a href='vscode-notebook-cell:/c%3A/Users/DELSTEI9/OneDrive%20-%20EY/Documents/GitHub/NLP/test.ipynb#Y200sZmlsZQ%3D%3D?line=11'>12</a>\u001b[0m topic_sentence_count \u001b[39m=\u001b[39m \u001b[39mdict\u001b[39m()\n\u001b[0;32m     <a href='vscode-notebook-cell:/c%3A/Users/DELSTEI9/OneDrive%20-%20EY/Documents/GitHub/NLP/test.ipynb#Y200sZmlsZQ%3D%3D?line=12'>13</a>\u001b[0m \u001b[39mfor\u001b[39;00m topic \u001b[39min\u001b[39;00m df[\u001b[39m'\u001b[39m\u001b[39mtopic\u001b[39m\u001b[39m'\u001b[39m]\u001b[39m.\u001b[39munique()\u001b[39m.\u001b[39mtolist():\n\u001b[1;32m---> <a href='vscode-notebook-cell:/c%3A/Users/DELSTEI9/OneDrive%20-%20EY/Documents/GitHub/NLP/test.ipynb#Y200sZmlsZQ%3D%3D?line=13'>14</a>\u001b[0m     topic_sentence_count[topic] \u001b[39m=\u001b[39m \u001b[39mlen\u001b[39m(\u001b[39mlen\u001b[39m(df[\u001b[39m'\u001b[39;49m\u001b[39mtopic\u001b[39;49m\u001b[39m'\u001b[39;49m\u001b[39m==\u001b[39;49mtopic]\u001b[39m.\u001b[39mindex))\n\u001b[0;32m     <a href='vscode-notebook-cell:/c%3A/Users/DELSTEI9/OneDrive%20-%20EY/Documents/GitHub/NLP/test.ipynb#Y200sZmlsZQ%3D%3D?line=14'>15</a>\u001b[0m topic_sentence_count \u001b[39m=\u001b[39m pd\u001b[39m.\u001b[39mDataFrame(\n\u001b[0;32m     <a href='vscode-notebook-cell:/c%3A/Users/DELSTEI9/OneDrive%20-%20EY/Documents/GitHub/NLP/test.ipynb#Y200sZmlsZQ%3D%3D?line=15'>16</a>\u001b[0m     topic_sentence_count, index\u001b[39m=\u001b[39m[\u001b[39m\"\u001b[39m\u001b[39msentence_count\u001b[39m\u001b[39m\"\u001b[39m]\n\u001b[0;32m     <a href='vscode-notebook-cell:/c%3A/Users/DELSTEI9/OneDrive%20-%20EY/Documents/GitHub/NLP/test.ipynb#Y200sZmlsZQ%3D%3D?line=16'>17</a>\u001b[0m )\u001b[39m.\u001b[39mT\n\u001b[0;32m     <a href='vscode-notebook-cell:/c%3A/Users/DELSTEI9/OneDrive%20-%20EY/Documents/GitHub/NLP/test.ipynb#Y200sZmlsZQ%3D%3D?line=17'>18</a>\u001b[0m topic_sentence_count[\u001b[39m\"\u001b[39m\u001b[39msentence_percentage\u001b[39m\u001b[39m\"\u001b[39m] \u001b[39m=\u001b[39m (\n\u001b[0;32m     <a href='vscode-notebook-cell:/c%3A/Users/DELSTEI9/OneDrive%20-%20EY/Documents/GitHub/NLP/test.ipynb#Y200sZmlsZQ%3D%3D?line=18'>19</a>\u001b[0m     topic_sentence_count[\u001b[39m\"\u001b[39m\u001b[39msentence_count\u001b[39m\u001b[39m\"\u001b[39m] \u001b[39m/\u001b[39m \u001b[39mlen\u001b[39m(sentences) \u001b[39m*\u001b[39m \u001b[39m100\u001b[39m\n\u001b[0;32m     <a href='vscode-notebook-cell:/c%3A/Users/DELSTEI9/OneDrive%20-%20EY/Documents/GitHub/NLP/test.ipynb#Y200sZmlsZQ%3D%3D?line=19'>20</a>\u001b[0m )\n",
      "File \u001b[1;32mc:\\Users\\DELSTEI9\\AppData\\Local\\Programs\\Python\\Python310\\lib\\site-packages\\pandas\\core\\frame.py:3505\u001b[0m, in \u001b[0;36mDataFrame.__getitem__\u001b[1;34m(self, key)\u001b[0m\n\u001b[0;32m   3503\u001b[0m \u001b[39mif\u001b[39;00m \u001b[39mself\u001b[39m\u001b[39m.\u001b[39mcolumns\u001b[39m.\u001b[39mnlevels \u001b[39m>\u001b[39m \u001b[39m1\u001b[39m:\n\u001b[0;32m   3504\u001b[0m     \u001b[39mreturn\u001b[39;00m \u001b[39mself\u001b[39m\u001b[39m.\u001b[39m_getitem_multilevel(key)\n\u001b[1;32m-> 3505\u001b[0m indexer \u001b[39m=\u001b[39m \u001b[39mself\u001b[39;49m\u001b[39m.\u001b[39;49mcolumns\u001b[39m.\u001b[39;49mget_loc(key)\n\u001b[0;32m   3506\u001b[0m \u001b[39mif\u001b[39;00m is_integer(indexer):\n\u001b[0;32m   3507\u001b[0m     indexer \u001b[39m=\u001b[39m [indexer]\n",
      "File \u001b[1;32mc:\\Users\\DELSTEI9\\AppData\\Local\\Programs\\Python\\Python310\\lib\\site-packages\\pandas\\core\\indexes\\base.py:3623\u001b[0m, in \u001b[0;36mIndex.get_loc\u001b[1;34m(self, key, method, tolerance)\u001b[0m\n\u001b[0;32m   3621\u001b[0m     \u001b[39mreturn\u001b[39;00m \u001b[39mself\u001b[39m\u001b[39m.\u001b[39m_engine\u001b[39m.\u001b[39mget_loc(casted_key)\n\u001b[0;32m   3622\u001b[0m \u001b[39mexcept\u001b[39;00m \u001b[39mKeyError\u001b[39;00m \u001b[39mas\u001b[39;00m err:\n\u001b[1;32m-> 3623\u001b[0m     \u001b[39mraise\u001b[39;00m \u001b[39mKeyError\u001b[39;00m(key) \u001b[39mfrom\u001b[39;00m \u001b[39merr\u001b[39;00m\n\u001b[0;32m   3624\u001b[0m \u001b[39mexcept\u001b[39;00m \u001b[39mTypeError\u001b[39;00m:\n\u001b[0;32m   3625\u001b[0m     \u001b[39m# If we have a listlike key, _check_indexing_error will raise\u001b[39;00m\n\u001b[0;32m   3626\u001b[0m     \u001b[39m#  InvalidIndexError. Otherwise we fall through and re-raise\u001b[39;00m\n\u001b[0;32m   3627\u001b[0m     \u001b[39m#  the TypeError.\u001b[39;00m\n\u001b[0;32m   3628\u001b[0m     \u001b[39mself\u001b[39m\u001b[39m.\u001b[39m_check_indexing_error(key)\n",
      "\u001b[1;31mKeyError\u001b[0m: False"
     ]
    }
   ],
   "source": [
    "#plotting for multiple \n",
    "def plot_topical_presence_df_CHANGED(\n",
    "    dataframes,\n",
    "    title: str = None,\n",
    "    color: str = \"blue\",\n",
    "    height: int = 300,\n",
    ") :\n",
    "    \"\"\"\n",
    "    Plot the number of sentences per topic.\n",
    "    \"\"\"\n",
    "    for df in dataframes: \n",
    "        topic_sentence_count = dict()\n",
    "        for topic in df['topic'].unique().tolist():\n",
    "            topic_sentence_count[topic] = len(len(df['topic'==topic].index))\n",
    "        topic_sentence_count = pd.DataFrame(\n",
    "            topic_sentence_count, index=[\"sentence_count\"]\n",
    "        ).T\n",
    "        topic_sentence_count[\"sentence_percentage\"] = (\n",
    "            topic_sentence_count[\"sentence_count\"] / len(sentences) * 100\n",
    "        )\n",
    "        topic_sentence_count.index.name = \"topic\"\n",
    "        topic_sentence_count.sort_index(inplace=True)\n",
    "        fig = px.bar(topic_sentence_count, x=\"sentence_percentage\", orientation=\"h\")\n",
    "        fig.update_layout(\n",
    "            title=title,\n",
    "            xaxis_title=\"Prozent\",\n",
    "            yaxis_title=\"Topic\",\n",
    "            yaxis=dict(categoryorder=\"category descending\"),\n",
    "            margin=dict(l=0, r=0, b=0, t=0, pad=0),\n",
    "            height=height,\n",
    "        )\n",
    "        fig.update_traces(marker_color=color)\n",
    "        fig.write_image(f\"images/{df}_topical_presence.png\")\n",
    "        return fig\n",
    "\n",
    "plot_topical_presence_df_CHANGED(dataframes)"
   ]
  },
  {
   "cell_type": "code",
   "execution_count": 155,
   "metadata": {},
   "outputs": [],
   "source": [
    "def plot_topical_presence_df(\n",
    "    df,\n",
    "    file,\n",
    "    title: str = None,\n",
    "    color: str = \"blue\",\n",
    "    height: int = 300,\n",
    ") :\n",
    "    \"\"\"\n",
    "    Plot the number of sentences per topic.\n",
    "    \"\"\"\n",
    "    \n",
    "    topic_sentence_count = dict()\n",
    "    for topic in df['topic'].unique().tolist():\n",
    "        topic_sentence_count[topic] = len(len(df['topic'==topic].index))\n",
    "    topic_sentence_count = pd.DataFrame(\n",
    "        topic_sentence_count, index=[\"sentence_count\"]\n",
    "    ).T\n",
    "    topic_sentence_count[\"sentence_percentage\"] = (\n",
    "        topic_sentence_count[\"sentence_count\"] / len(sentences) * 100\n",
    "    )\n",
    "    topic_sentence_count.index.name = \"topic\"\n",
    "    topic_sentence_count.sort_index(inplace=True)\n",
    "    fig = px.bar(topic_sentence_count, x=\"sentence_percentage\", orientation=\"h\")\n",
    "    fig.update_layout(\n",
    "        title=title,\n",
    "        xaxis_title=\"Prozent\",\n",
    "        yaxis_title=\"Topic\",\n",
    "        yaxis=dict(categoryorder=\"category descending\"),\n",
    "        margin=dict(l=0, r=0, b=0, t=0, pad=0),\n",
    "        height=height,\n",
    "    )\n",
    "    fig.update_traces(marker_color=color)\n",
    "    fig.write_image(f\"images/{file}_topical_presence.png\")\n",
    "    return fig\n"
   ]
  },
  {
   "cell_type": "code",
   "execution_count": 119,
   "metadata": {},
   "outputs": [],
   "source": [
    "program_txt = load_markdown_file(f\"data/DIE_GRUENEN_Wahlprogramm_2021.txt\")\n",
    "sentences = get_sentences(program_txt)"
   ]
  },
  {
   "cell_type": "code",
   "execution_count": 120,
   "metadata": {},
   "outputs": [
    {
     "data": {
      "text/plain": [
       "4880"
      ]
     },
     "execution_count": 120,
     "metadata": {},
     "output_type": "execute_result"
    }
   ],
   "source": [
    "len(sentences)"
   ]
  },
  {
   "cell_type": "code",
   "execution_count": 121,
   "metadata": {},
   "outputs": [
    {
     "ename": "ValueError",
     "evalue": "Length of values (4880) does not match length of index (1)",
     "output_type": "error",
     "traceback": [
      "\u001b[1;31m---------------------------------------------------------------------------\u001b[0m",
      "\u001b[1;31mValueError\u001b[0m                                Traceback (most recent call last)",
      "\u001b[1;32mc:\\Users\\DELSTEI9\\OneDrive - EY\\Documents\\GitHub\\NLP\\test.ipynb Cell 57\u001b[0m in \u001b[0;36m<cell line: 1>\u001b[1;34m()\u001b[0m\n\u001b[1;32m----> <a href='vscode-notebook-cell:/c%3A/Users/DELSTEI9/OneDrive%20-%20EY/Documents/GitHub/NLP/test.ipynb#Y111sZmlsZQ%3D%3D?line=0'>1</a>\u001b[0m df_top[\u001b[39m'\u001b[39m\u001b[39mtest\u001b[39m\u001b[39m'\u001b[39m]\u001b[39m=\u001b[39msentences\n",
      "File \u001b[1;32mc:\\Users\\DELSTEI9\\AppData\\Local\\Programs\\Python\\Python310\\lib\\site-packages\\pandas\\core\\frame.py:3655\u001b[0m, in \u001b[0;36mDataFrame.__setitem__\u001b[1;34m(self, key, value)\u001b[0m\n\u001b[0;32m   3652\u001b[0m     \u001b[39mself\u001b[39m\u001b[39m.\u001b[39m_setitem_array([key], value)\n\u001b[0;32m   3653\u001b[0m \u001b[39melse\u001b[39;00m:\n\u001b[0;32m   3654\u001b[0m     \u001b[39m# set column\u001b[39;00m\n\u001b[1;32m-> 3655\u001b[0m     \u001b[39mself\u001b[39;49m\u001b[39m.\u001b[39;49m_set_item(key, value)\n",
      "File \u001b[1;32mc:\\Users\\DELSTEI9\\AppData\\Local\\Programs\\Python\\Python310\\lib\\site-packages\\pandas\\core\\frame.py:3832\u001b[0m, in \u001b[0;36mDataFrame._set_item\u001b[1;34m(self, key, value)\u001b[0m\n\u001b[0;32m   3822\u001b[0m \u001b[39mdef\u001b[39;00m \u001b[39m_set_item\u001b[39m(\u001b[39mself\u001b[39m, key, value) \u001b[39m-\u001b[39m\u001b[39m>\u001b[39m \u001b[39mNone\u001b[39;00m:\n\u001b[0;32m   3823\u001b[0m     \u001b[39m\"\"\"\u001b[39;00m\n\u001b[0;32m   3824\u001b[0m \u001b[39m    Add series to DataFrame in specified column.\u001b[39;00m\n\u001b[0;32m   3825\u001b[0m \n\u001b[1;32m   (...)\u001b[0m\n\u001b[0;32m   3830\u001b[0m \u001b[39m    ensure homogeneity.\u001b[39;00m\n\u001b[0;32m   3831\u001b[0m \u001b[39m    \"\"\"\u001b[39;00m\n\u001b[1;32m-> 3832\u001b[0m     value \u001b[39m=\u001b[39m \u001b[39mself\u001b[39;49m\u001b[39m.\u001b[39;49m_sanitize_column(value)\n\u001b[0;32m   3834\u001b[0m     \u001b[39mif\u001b[39;00m (\n\u001b[0;32m   3835\u001b[0m         key \u001b[39min\u001b[39;00m \u001b[39mself\u001b[39m\u001b[39m.\u001b[39mcolumns\n\u001b[0;32m   3836\u001b[0m         \u001b[39mand\u001b[39;00m value\u001b[39m.\u001b[39mndim \u001b[39m==\u001b[39m \u001b[39m1\u001b[39m\n\u001b[0;32m   3837\u001b[0m         \u001b[39mand\u001b[39;00m \u001b[39mnot\u001b[39;00m is_extension_array_dtype(value)\n\u001b[0;32m   3838\u001b[0m     ):\n\u001b[0;32m   3839\u001b[0m         \u001b[39m# broadcast across multiple columns if necessary\u001b[39;00m\n\u001b[0;32m   3840\u001b[0m         \u001b[39mif\u001b[39;00m \u001b[39mnot\u001b[39;00m \u001b[39mself\u001b[39m\u001b[39m.\u001b[39mcolumns\u001b[39m.\u001b[39mis_unique \u001b[39mor\u001b[39;00m \u001b[39misinstance\u001b[39m(\u001b[39mself\u001b[39m\u001b[39m.\u001b[39mcolumns, MultiIndex):\n",
      "File \u001b[1;32mc:\\Users\\DELSTEI9\\AppData\\Local\\Programs\\Python\\Python310\\lib\\site-packages\\pandas\\core\\frame.py:4535\u001b[0m, in \u001b[0;36mDataFrame._sanitize_column\u001b[1;34m(self, value)\u001b[0m\n\u001b[0;32m   4532\u001b[0m     \u001b[39mreturn\u001b[39;00m _reindex_for_setitem(value, \u001b[39mself\u001b[39m\u001b[39m.\u001b[39mindex)\n\u001b[0;32m   4534\u001b[0m \u001b[39mif\u001b[39;00m is_list_like(value):\n\u001b[1;32m-> 4535\u001b[0m     com\u001b[39m.\u001b[39;49mrequire_length_match(value, \u001b[39mself\u001b[39;49m\u001b[39m.\u001b[39;49mindex)\n\u001b[0;32m   4536\u001b[0m \u001b[39mreturn\u001b[39;00m sanitize_array(value, \u001b[39mself\u001b[39m\u001b[39m.\u001b[39mindex, copy\u001b[39m=\u001b[39m\u001b[39mTrue\u001b[39;00m, allow_2d\u001b[39m=\u001b[39m\u001b[39mTrue\u001b[39;00m)\n",
      "File \u001b[1;32mc:\\Users\\DELSTEI9\\AppData\\Local\\Programs\\Python\\Python310\\lib\\site-packages\\pandas\\core\\common.py:557\u001b[0m, in \u001b[0;36mrequire_length_match\u001b[1;34m(data, index)\u001b[0m\n\u001b[0;32m    553\u001b[0m \u001b[39m\"\"\"\u001b[39;00m\n\u001b[0;32m    554\u001b[0m \u001b[39mCheck the length of data matches the length of the index.\u001b[39;00m\n\u001b[0;32m    555\u001b[0m \u001b[39m\"\"\"\u001b[39;00m\n\u001b[0;32m    556\u001b[0m \u001b[39mif\u001b[39;00m \u001b[39mlen\u001b[39m(data) \u001b[39m!=\u001b[39m \u001b[39mlen\u001b[39m(index):\n\u001b[1;32m--> 557\u001b[0m     \u001b[39mraise\u001b[39;00m \u001b[39mValueError\u001b[39;00m(\n\u001b[0;32m    558\u001b[0m         \u001b[39m\"\u001b[39m\u001b[39mLength of values \u001b[39m\u001b[39m\"\u001b[39m\n\u001b[0;32m    559\u001b[0m         \u001b[39mf\u001b[39m\u001b[39m\"\u001b[39m\u001b[39m(\u001b[39m\u001b[39m{\u001b[39;00m\u001b[39mlen\u001b[39m(data)\u001b[39m}\u001b[39;00m\u001b[39m) \u001b[39m\u001b[39m\"\u001b[39m\n\u001b[0;32m    560\u001b[0m         \u001b[39m\"\u001b[39m\u001b[39mdoes not match length of index \u001b[39m\u001b[39m\"\u001b[39m\n\u001b[0;32m    561\u001b[0m         \u001b[39mf\u001b[39m\u001b[39m\"\u001b[39m\u001b[39m(\u001b[39m\u001b[39m{\u001b[39;00m\u001b[39mlen\u001b[39m(index)\u001b[39m}\u001b[39;00m\u001b[39m)\u001b[39m\u001b[39m\"\u001b[39m\n\u001b[0;32m    562\u001b[0m     )\n",
      "\u001b[1;31mValueError\u001b[0m: Length of values (4880) does not match length of index (1)"
     ]
    }
   ],
   "source": [
    "df_top['test']=sentences"
   ]
  },
  {
   "cell_type": "code",
   "execution_count": 122,
   "metadata": {},
   "outputs": [
    {
     "data": {
      "text/html": [
       "<div>\n",
       "<style scoped>\n",
       "    .dataframe tbody tr th:only-of-type {\n",
       "        vertical-align: middle;\n",
       "    }\n",
       "\n",
       "    .dataframe tbody tr th {\n",
       "        vertical-align: top;\n",
       "    }\n",
       "\n",
       "    .dataframe thead th {\n",
       "        text-align: right;\n",
       "    }\n",
       "</style>\n",
       "<table border=\"1\" class=\"dataframe\">\n",
       "  <thead>\n",
       "    <tr style=\"text-align: right;\">\n",
       "      <th></th>\n",
       "      <th>text</th>\n",
       "      <th>topic</th>\n",
       "    </tr>\n",
       "  </thead>\n",
       "  <tbody>\n",
       "    <tr>\n",
       "      <th>0</th>\n",
       "      <td>ieittesaltentr Â§ bundestagswahlprogramm Â§ be...</td>\n",
       "      <td>Infrastruktur</td>\n",
       "    </tr>\n",
       "  </tbody>\n",
       "</table>\n",
       "</div>"
      ],
      "text/plain": [
       "                                                text          topic\n",
       "0  ieittesaltentr Â§ bundestagswahlprogramm Â§ be...  Infrastruktur"
      ]
     },
     "execution_count": 122,
     "metadata": {},
     "output_type": "execute_result"
    }
   ],
   "source": [
    "df_top.head()"
   ]
  },
  {
   "cell_type": "code",
   "execution_count": 149,
   "metadata": {},
   "outputs": [
    {
     "ename": "ValueError",
     "evalue": "Mime type rendering requires nbformat>=4.2.0 but it is not installed",
     "output_type": "error",
     "traceback": [
      "\u001b[1;31m---------------------------------------------------------------------------\u001b[0m",
      "\u001b[1;31mValueError\u001b[0m                                Traceback (most recent call last)",
      "File \u001b[1;32mc:\\Users\\DELSTEI9\\AppData\\Local\\Programs\\Python\\Python310\\lib\\site-packages\\IPython\\core\\formatters.py:921\u001b[0m, in \u001b[0;36mIPythonDisplayFormatter.__call__\u001b[1;34m(self, obj)\u001b[0m\n\u001b[0;32m    919\u001b[0m method \u001b[39m=\u001b[39m get_real_method(obj, \u001b[39mself\u001b[39m\u001b[39m.\u001b[39mprint_method)\n\u001b[0;32m    920\u001b[0m \u001b[39mif\u001b[39;00m method \u001b[39mis\u001b[39;00m \u001b[39mnot\u001b[39;00m \u001b[39mNone\u001b[39;00m:\n\u001b[1;32m--> 921\u001b[0m     method()\n\u001b[0;32m    922\u001b[0m     \u001b[39mreturn\u001b[39;00m \u001b[39mTrue\u001b[39;00m\n",
      "File \u001b[1;32mc:\\Users\\DELSTEI9\\AppData\\Local\\Programs\\Python\\Python310\\lib\\site-packages\\plotly\\basedatatypes.py:834\u001b[0m, in \u001b[0;36mBaseFigure._ipython_display_\u001b[1;34m(self)\u001b[0m\n\u001b[0;32m    831\u001b[0m \u001b[39mimport\u001b[39;00m \u001b[39mplotly\u001b[39;00m\u001b[39m.\u001b[39;00m\u001b[39mio\u001b[39;00m \u001b[39mas\u001b[39;00m \u001b[39mpio\u001b[39;00m\n\u001b[0;32m    833\u001b[0m \u001b[39mif\u001b[39;00m pio\u001b[39m.\u001b[39mrenderers\u001b[39m.\u001b[39mrender_on_display \u001b[39mand\u001b[39;00m pio\u001b[39m.\u001b[39mrenderers\u001b[39m.\u001b[39mdefault:\n\u001b[1;32m--> 834\u001b[0m     pio\u001b[39m.\u001b[39;49mshow(\u001b[39mself\u001b[39;49m)\n\u001b[0;32m    835\u001b[0m \u001b[39melse\u001b[39;00m:\n\u001b[0;32m    836\u001b[0m     \u001b[39mprint\u001b[39m(\u001b[39mrepr\u001b[39m(\u001b[39mself\u001b[39m))\n",
      "File \u001b[1;32mc:\\Users\\DELSTEI9\\AppData\\Local\\Programs\\Python\\Python310\\lib\\site-packages\\plotly\\io\\_renderers.py:396\u001b[0m, in \u001b[0;36mshow\u001b[1;34m(fig, renderer, validate, **kwargs)\u001b[0m\n\u001b[0;32m    391\u001b[0m         \u001b[39mraise\u001b[39;00m \u001b[39mValueError\u001b[39;00m(\n\u001b[0;32m    392\u001b[0m             \u001b[39m\"\u001b[39m\u001b[39mMime type rendering requires ipython but it is not installed\u001b[39m\u001b[39m\"\u001b[39m\n\u001b[0;32m    393\u001b[0m         )\n\u001b[0;32m    395\u001b[0m     \u001b[39mif\u001b[39;00m \u001b[39mnot\u001b[39;00m nbformat \u001b[39mor\u001b[39;00m LooseVersion(nbformat\u001b[39m.\u001b[39m__version__) \u001b[39m<\u001b[39m LooseVersion(\u001b[39m\"\u001b[39m\u001b[39m4.2.0\u001b[39m\u001b[39m\"\u001b[39m):\n\u001b[1;32m--> 396\u001b[0m         \u001b[39mraise\u001b[39;00m \u001b[39mValueError\u001b[39;00m(\n\u001b[0;32m    397\u001b[0m             \u001b[39m\"\u001b[39m\u001b[39mMime type rendering requires nbformat>=4.2.0 but it is not installed\u001b[39m\u001b[39m\"\u001b[39m\n\u001b[0;32m    398\u001b[0m         )\n\u001b[0;32m    400\u001b[0m     ipython_display\u001b[39m.\u001b[39mdisplay(bundle, raw\u001b[39m=\u001b[39m\u001b[39mTrue\u001b[39;00m)\n\u001b[0;32m    402\u001b[0m \u001b[39m# external renderers\u001b[39;00m\n",
      "\u001b[1;31mValueError\u001b[0m: Mime type rendering requires nbformat>=4.2.0 but it is not installed"
     ]
    },
    {
     "data": {
      "application/vnd.plotly.v1+json": {
       "config": {
        "plotlyServerURL": "https://plot.ly"
       },
       "data": [
        {
         "alignmentgroup": "True",
         "hovertemplate": "sentence_percentage=%{x}<br>topic=%{y}<extra></extra>",
         "legendgroup": "",
         "marker": {
          "color": "#204E84",
          "pattern": {
           "shape": ""
          }
         },
         "name": "",
         "offsetgroup": "",
         "orientation": "h",
         "showlegend": false,
         "textposition": "auto",
         "type": "bar",
         "x": [
          0,
          0.6272869837950863,
          0.7318348144276007,
          0,
          3.7114479874542603,
          0.36591740721380034,
          1.986408782017773,
          92.57710402509149
         ],
         "xaxis": "x",
         "y": [
          "Bildung",
          "Gesundheit",
          "Infrastruktur",
          "Klima",
          "Politik und Ideologie",
          "Wissenschaft",
          "soziale Ursachen",
          "wirtschaft"
         ],
         "yaxis": "y"
        }
       ],
       "layout": {
        "barmode": "relative",
        "height": 300,
        "legend": {
         "tracegroupgap": 0
        },
        "margin": {
         "b": 0,
         "l": 0,
         "pad": 0,
         "r": 0,
         "t": 0
        },
        "template": {
         "data": {
          "bar": [
           {
            "error_x": {
             "color": "#2a3f5f"
            },
            "error_y": {
             "color": "#2a3f5f"
            },
            "marker": {
             "line": {
              "color": "white",
              "width": 0.5
             },
             "pattern": {
              "fillmode": "overlay",
              "size": 10,
              "solidity": 0.2
             }
            },
            "type": "bar"
           }
          ],
          "barpolar": [
           {
            "marker": {
             "line": {
              "color": "white",
              "width": 0.5
             },
             "pattern": {
              "fillmode": "overlay",
              "size": 10,
              "solidity": 0.2
             }
            },
            "type": "barpolar"
           }
          ],
          "carpet": [
           {
            "aaxis": {
             "endlinecolor": "#2a3f5f",
             "gridcolor": "#C8D4E3",
             "linecolor": "#C8D4E3",
             "minorgridcolor": "#C8D4E3",
             "startlinecolor": "#2a3f5f"
            },
            "baxis": {
             "endlinecolor": "#2a3f5f",
             "gridcolor": "#C8D4E3",
             "linecolor": "#C8D4E3",
             "minorgridcolor": "#C8D4E3",
             "startlinecolor": "#2a3f5f"
            },
            "type": "carpet"
           }
          ],
          "choropleth": [
           {
            "colorbar": {
             "outlinewidth": 0,
             "ticks": ""
            },
            "type": "choropleth"
           }
          ],
          "contour": [
           {
            "colorbar": {
             "outlinewidth": 0,
             "ticks": ""
            },
            "colorscale": [
             [
              0,
              "#0d0887"
             ],
             [
              0.1111111111111111,
              "#46039f"
             ],
             [
              0.2222222222222222,
              "#7201a8"
             ],
             [
              0.3333333333333333,
              "#9c179e"
             ],
             [
              0.4444444444444444,
              "#bd3786"
             ],
             [
              0.5555555555555556,
              "#d8576b"
             ],
             [
              0.6666666666666666,
              "#ed7953"
             ],
             [
              0.7777777777777778,
              "#fb9f3a"
             ],
             [
              0.8888888888888888,
              "#fdca26"
             ],
             [
              1,
              "#f0f921"
             ]
            ],
            "type": "contour"
           }
          ],
          "contourcarpet": [
           {
            "colorbar": {
             "outlinewidth": 0,
             "ticks": ""
            },
            "type": "contourcarpet"
           }
          ],
          "heatmap": [
           {
            "colorbar": {
             "outlinewidth": 0,
             "ticks": ""
            },
            "colorscale": [
             [
              0,
              "#0d0887"
             ],
             [
              0.1111111111111111,
              "#46039f"
             ],
             [
              0.2222222222222222,
              "#7201a8"
             ],
             [
              0.3333333333333333,
              "#9c179e"
             ],
             [
              0.4444444444444444,
              "#bd3786"
             ],
             [
              0.5555555555555556,
              "#d8576b"
             ],
             [
              0.6666666666666666,
              "#ed7953"
             ],
             [
              0.7777777777777778,
              "#fb9f3a"
             ],
             [
              0.8888888888888888,
              "#fdca26"
             ],
             [
              1,
              "#f0f921"
             ]
            ],
            "type": "heatmap"
           }
          ],
          "heatmapgl": [
           {
            "colorbar": {
             "outlinewidth": 0,
             "ticks": ""
            },
            "colorscale": [
             [
              0,
              "#0d0887"
             ],
             [
              0.1111111111111111,
              "#46039f"
             ],
             [
              0.2222222222222222,
              "#7201a8"
             ],
             [
              0.3333333333333333,
              "#9c179e"
             ],
             [
              0.4444444444444444,
              "#bd3786"
             ],
             [
              0.5555555555555556,
              "#d8576b"
             ],
             [
              0.6666666666666666,
              "#ed7953"
             ],
             [
              0.7777777777777778,
              "#fb9f3a"
             ],
             [
              0.8888888888888888,
              "#fdca26"
             ],
             [
              1,
              "#f0f921"
             ]
            ],
            "type": "heatmapgl"
           }
          ],
          "histogram": [
           {
            "marker": {
             "pattern": {
              "fillmode": "overlay",
              "size": 10,
              "solidity": 0.2
             }
            },
            "type": "histogram"
           }
          ],
          "histogram2d": [
           {
            "colorbar": {
             "outlinewidth": 0,
             "ticks": ""
            },
            "colorscale": [
             [
              0,
              "#0d0887"
             ],
             [
              0.1111111111111111,
              "#46039f"
             ],
             [
              0.2222222222222222,
              "#7201a8"
             ],
             [
              0.3333333333333333,
              "#9c179e"
             ],
             [
              0.4444444444444444,
              "#bd3786"
             ],
             [
              0.5555555555555556,
              "#d8576b"
             ],
             [
              0.6666666666666666,
              "#ed7953"
             ],
             [
              0.7777777777777778,
              "#fb9f3a"
             ],
             [
              0.8888888888888888,
              "#fdca26"
             ],
             [
              1,
              "#f0f921"
             ]
            ],
            "type": "histogram2d"
           }
          ],
          "histogram2dcontour": [
           {
            "colorbar": {
             "outlinewidth": 0,
             "ticks": ""
            },
            "colorscale": [
             [
              0,
              "#0d0887"
             ],
             [
              0.1111111111111111,
              "#46039f"
             ],
             [
              0.2222222222222222,
              "#7201a8"
             ],
             [
              0.3333333333333333,
              "#9c179e"
             ],
             [
              0.4444444444444444,
              "#bd3786"
             ],
             [
              0.5555555555555556,
              "#d8576b"
             ],
             [
              0.6666666666666666,
              "#ed7953"
             ],
             [
              0.7777777777777778,
              "#fb9f3a"
             ],
             [
              0.8888888888888888,
              "#fdca26"
             ],
             [
              1,
              "#f0f921"
             ]
            ],
            "type": "histogram2dcontour"
           }
          ],
          "mesh3d": [
           {
            "colorbar": {
             "outlinewidth": 0,
             "ticks": ""
            },
            "type": "mesh3d"
           }
          ],
          "parcoords": [
           {
            "line": {
             "colorbar": {
              "outlinewidth": 0,
              "ticks": ""
             }
            },
            "type": "parcoords"
           }
          ],
          "pie": [
           {
            "automargin": true,
            "type": "pie"
           }
          ],
          "scatter": [
           {
            "fillpattern": {
             "fillmode": "overlay",
             "size": 10,
             "solidity": 0.2
            },
            "type": "scatter"
           }
          ],
          "scatter3d": [
           {
            "line": {
             "colorbar": {
              "outlinewidth": 0,
              "ticks": ""
             }
            },
            "marker": {
             "colorbar": {
              "outlinewidth": 0,
              "ticks": ""
             }
            },
            "type": "scatter3d"
           }
          ],
          "scattercarpet": [
           {
            "marker": {
             "colorbar": {
              "outlinewidth": 0,
              "ticks": ""
             }
            },
            "type": "scattercarpet"
           }
          ],
          "scattergeo": [
           {
            "marker": {
             "colorbar": {
              "outlinewidth": 0,
              "ticks": ""
             }
            },
            "type": "scattergeo"
           }
          ],
          "scattergl": [
           {
            "marker": {
             "colorbar": {
              "outlinewidth": 0,
              "ticks": ""
             }
            },
            "type": "scattergl"
           }
          ],
          "scattermapbox": [
           {
            "marker": {
             "colorbar": {
              "outlinewidth": 0,
              "ticks": ""
             }
            },
            "type": "scattermapbox"
           }
          ],
          "scatterpolar": [
           {
            "marker": {
             "colorbar": {
              "outlinewidth": 0,
              "ticks": ""
             }
            },
            "type": "scatterpolar"
           }
          ],
          "scatterpolargl": [
           {
            "marker": {
             "colorbar": {
              "outlinewidth": 0,
              "ticks": ""
             }
            },
            "type": "scatterpolargl"
           }
          ],
          "scatterternary": [
           {
            "marker": {
             "colorbar": {
              "outlinewidth": 0,
              "ticks": ""
             }
            },
            "type": "scatterternary"
           }
          ],
          "surface": [
           {
            "colorbar": {
             "outlinewidth": 0,
             "ticks": ""
            },
            "colorscale": [
             [
              0,
              "#0d0887"
             ],
             [
              0.1111111111111111,
              "#46039f"
             ],
             [
              0.2222222222222222,
              "#7201a8"
             ],
             [
              0.3333333333333333,
              "#9c179e"
             ],
             [
              0.4444444444444444,
              "#bd3786"
             ],
             [
              0.5555555555555556,
              "#d8576b"
             ],
             [
              0.6666666666666666,
              "#ed7953"
             ],
             [
              0.7777777777777778,
              "#fb9f3a"
             ],
             [
              0.8888888888888888,
              "#fdca26"
             ],
             [
              1,
              "#f0f921"
             ]
            ],
            "type": "surface"
           }
          ],
          "table": [
           {
            "cells": {
             "fill": {
              "color": "#EBF0F8"
             },
             "line": {
              "color": "white"
             }
            },
            "header": {
             "fill": {
              "color": "#C8D4E3"
             },
             "line": {
              "color": "white"
             }
            },
            "type": "table"
           }
          ]
         },
         "layout": {
          "annotationdefaults": {
           "arrowcolor": "#2a3f5f",
           "arrowhead": 0,
           "arrowwidth": 1
          },
          "autotypenumbers": "strict",
          "coloraxis": {
           "colorbar": {
            "outlinewidth": 0,
            "ticks": ""
           }
          },
          "colorscale": {
           "diverging": [
            [
             0,
             "#8e0152"
            ],
            [
             0.1,
             "#c51b7d"
            ],
            [
             0.2,
             "#de77ae"
            ],
            [
             0.3,
             "#f1b6da"
            ],
            [
             0.4,
             "#fde0ef"
            ],
            [
             0.5,
             "#f7f7f7"
            ],
            [
             0.6,
             "#e6f5d0"
            ],
            [
             0.7,
             "#b8e186"
            ],
            [
             0.8,
             "#7fbc41"
            ],
            [
             0.9,
             "#4d9221"
            ],
            [
             1,
             "#276419"
            ]
           ],
           "sequential": [
            [
             0,
             "#0d0887"
            ],
            [
             0.1111111111111111,
             "#46039f"
            ],
            [
             0.2222222222222222,
             "#7201a8"
            ],
            [
             0.3333333333333333,
             "#9c179e"
            ],
            [
             0.4444444444444444,
             "#bd3786"
            ],
            [
             0.5555555555555556,
             "#d8576b"
            ],
            [
             0.6666666666666666,
             "#ed7953"
            ],
            [
             0.7777777777777778,
             "#fb9f3a"
            ],
            [
             0.8888888888888888,
             "#fdca26"
            ],
            [
             1,
             "#f0f921"
            ]
           ],
           "sequentialminus": [
            [
             0,
             "#0d0887"
            ],
            [
             0.1111111111111111,
             "#46039f"
            ],
            [
             0.2222222222222222,
             "#7201a8"
            ],
            [
             0.3333333333333333,
             "#9c179e"
            ],
            [
             0.4444444444444444,
             "#bd3786"
            ],
            [
             0.5555555555555556,
             "#d8576b"
            ],
            [
             0.6666666666666666,
             "#ed7953"
            ],
            [
             0.7777777777777778,
             "#fb9f3a"
            ],
            [
             0.8888888888888888,
             "#fdca26"
            ],
            [
             1,
             "#f0f921"
            ]
           ]
          },
          "colorway": [
           "#636efa",
           "#EF553B",
           "#00cc96",
           "#ab63fa",
           "#FFA15A",
           "#19d3f3",
           "#FF6692",
           "#B6E880",
           "#FF97FF",
           "#FECB52"
          ],
          "font": {
           "color": "#2a3f5f"
          },
          "geo": {
           "bgcolor": "white",
           "lakecolor": "white",
           "landcolor": "white",
           "showlakes": true,
           "showland": true,
           "subunitcolor": "#C8D4E3"
          },
          "hoverlabel": {
           "align": "left"
          },
          "hovermode": "closest",
          "mapbox": {
           "style": "light"
          },
          "paper_bgcolor": "white",
          "plot_bgcolor": "white",
          "polar": {
           "angularaxis": {
            "gridcolor": "#EBF0F8",
            "linecolor": "#EBF0F8",
            "ticks": ""
           },
           "bgcolor": "white",
           "radialaxis": {
            "gridcolor": "#EBF0F8",
            "linecolor": "#EBF0F8",
            "ticks": ""
           }
          },
          "scene": {
           "xaxis": {
            "backgroundcolor": "white",
            "gridcolor": "#DFE8F3",
            "gridwidth": 2,
            "linecolor": "#EBF0F8",
            "showbackground": true,
            "ticks": "",
            "zerolinecolor": "#EBF0F8"
           },
           "yaxis": {
            "backgroundcolor": "white",
            "gridcolor": "#DFE8F3",
            "gridwidth": 2,
            "linecolor": "#EBF0F8",
            "showbackground": true,
            "ticks": "",
            "zerolinecolor": "#EBF0F8"
           },
           "zaxis": {
            "backgroundcolor": "white",
            "gridcolor": "#DFE8F3",
            "gridwidth": 2,
            "linecolor": "#EBF0F8",
            "showbackground": true,
            "ticks": "",
            "zerolinecolor": "#EBF0F8"
           }
          },
          "shapedefaults": {
           "line": {
            "color": "#2a3f5f"
           }
          },
          "ternary": {
           "aaxis": {
            "gridcolor": "#DFE8F3",
            "linecolor": "#A2B1C6",
            "ticks": ""
           },
           "baxis": {
            "gridcolor": "#DFE8F3",
            "linecolor": "#A2B1C6",
            "ticks": ""
           },
           "bgcolor": "white",
           "caxis": {
            "gridcolor": "#DFE8F3",
            "linecolor": "#A2B1C6",
            "ticks": ""
           }
          },
          "title": {
           "x": 0.05
          },
          "xaxis": {
           "automargin": true,
           "gridcolor": "#EBF0F8",
           "linecolor": "#EBF0F8",
           "ticks": "",
           "title": {
            "standoff": 15
           },
           "zerolinecolor": "#EBF0F8",
           "zerolinewidth": 2
          },
          "yaxis": {
           "automargin": true,
           "gridcolor": "#EBF0F8",
           "linecolor": "#EBF0F8",
           "ticks": "",
           "title": {
            "standoff": 15
           },
           "zerolinecolor": "#EBF0F8",
           "zerolinewidth": 2
          }
         }
        },
        "title": {
         "text": "Presença de Topics no programa do partido AFD"
        },
        "xaxis": {
         "anchor": "y",
         "domain": [
          0,
          1
         ],
         "title": {
          "text": "Prozent"
         }
        },
        "yaxis": {
         "anchor": "x",
         "categoryorder": "category descending",
         "domain": [
          0,
          1
         ],
         "title": {
          "text": "Topic"
         }
        }
       }
      },
      "text/html": [
       "<div>                        <script type=\"text/javascript\">window.PlotlyConfig = {MathJaxConfig: 'local'};</script>\n",
       "        <script src=\"https://cdn.plot.ly/plotly-2.17.1.min.js\"></script>                <div id=\"55f0ab82-91c0-4bf9-9564-3e330918defe\" class=\"plotly-graph-div\" style=\"height:300px; width:100%;\"></div>            <script type=\"text/javascript\">                                    window.PLOTLYENV=window.PLOTLYENV || {};                                    if (document.getElementById(\"55f0ab82-91c0-4bf9-9564-3e330918defe\")) {                    Plotly.newPlot(                        \"55f0ab82-91c0-4bf9-9564-3e330918defe\",                        [{\"alignmentgroup\":\"True\",\"hovertemplate\":\"sentence_percentage=%{x}<br>topic=%{y}<extra></extra>\",\"legendgroup\":\"\",\"marker\":{\"color\":\"#204E84\",\"pattern\":{\"shape\":\"\"}},\"name\":\"\",\"offsetgroup\":\"\",\"orientation\":\"h\",\"showlegend\":false,\"textposition\":\"auto\",\"x\":[0.0,0.6272869837950863,0.7318348144276007,0.0,3.7114479874542603,0.36591740721380034,1.986408782017773,92.57710402509149],\"xaxis\":\"x\",\"y\":[\"Bildung\",\"Gesundheit\",\"Infrastruktur\",\"Klima\",\"Politik und Ideologie\",\"Wissenschaft\",\"soziale Ursachen\",\"wirtschaft\"],\"yaxis\":\"y\",\"type\":\"bar\"}],                        {\"template\":{\"data\":{\"histogram2dcontour\":[{\"type\":\"histogram2dcontour\",\"colorbar\":{\"outlinewidth\":0,\"ticks\":\"\"},\"colorscale\":[[0.0,\"#0d0887\"],[0.1111111111111111,\"#46039f\"],[0.2222222222222222,\"#7201a8\"],[0.3333333333333333,\"#9c179e\"],[0.4444444444444444,\"#bd3786\"],[0.5555555555555556,\"#d8576b\"],[0.6666666666666666,\"#ed7953\"],[0.7777777777777778,\"#fb9f3a\"],[0.8888888888888888,\"#fdca26\"],[1.0,\"#f0f921\"]]}],\"choropleth\":[{\"type\":\"choropleth\",\"colorbar\":{\"outlinewidth\":0,\"ticks\":\"\"}}],\"histogram2d\":[{\"type\":\"histogram2d\",\"colorbar\":{\"outlinewidth\":0,\"ticks\":\"\"},\"colorscale\":[[0.0,\"#0d0887\"],[0.1111111111111111,\"#46039f\"],[0.2222222222222222,\"#7201a8\"],[0.3333333333333333,\"#9c179e\"],[0.4444444444444444,\"#bd3786\"],[0.5555555555555556,\"#d8576b\"],[0.6666666666666666,\"#ed7953\"],[0.7777777777777778,\"#fb9f3a\"],[0.8888888888888888,\"#fdca26\"],[1.0,\"#f0f921\"]]}],\"heatmap\":[{\"type\":\"heatmap\",\"colorbar\":{\"outlinewidth\":0,\"ticks\":\"\"},\"colorscale\":[[0.0,\"#0d0887\"],[0.1111111111111111,\"#46039f\"],[0.2222222222222222,\"#7201a8\"],[0.3333333333333333,\"#9c179e\"],[0.4444444444444444,\"#bd3786\"],[0.5555555555555556,\"#d8576b\"],[0.6666666666666666,\"#ed7953\"],[0.7777777777777778,\"#fb9f3a\"],[0.8888888888888888,\"#fdca26\"],[1.0,\"#f0f921\"]]}],\"heatmapgl\":[{\"type\":\"heatmapgl\",\"colorbar\":{\"outlinewidth\":0,\"ticks\":\"\"},\"colorscale\":[[0.0,\"#0d0887\"],[0.1111111111111111,\"#46039f\"],[0.2222222222222222,\"#7201a8\"],[0.3333333333333333,\"#9c179e\"],[0.4444444444444444,\"#bd3786\"],[0.5555555555555556,\"#d8576b\"],[0.6666666666666666,\"#ed7953\"],[0.7777777777777778,\"#fb9f3a\"],[0.8888888888888888,\"#fdca26\"],[1.0,\"#f0f921\"]]}],\"contourcarpet\":[{\"type\":\"contourcarpet\",\"colorbar\":{\"outlinewidth\":0,\"ticks\":\"\"}}],\"contour\":[{\"type\":\"contour\",\"colorbar\":{\"outlinewidth\":0,\"ticks\":\"\"},\"colorscale\":[[0.0,\"#0d0887\"],[0.1111111111111111,\"#46039f\"],[0.2222222222222222,\"#7201a8\"],[0.3333333333333333,\"#9c179e\"],[0.4444444444444444,\"#bd3786\"],[0.5555555555555556,\"#d8576b\"],[0.6666666666666666,\"#ed7953\"],[0.7777777777777778,\"#fb9f3a\"],[0.8888888888888888,\"#fdca26\"],[1.0,\"#f0f921\"]]}],\"surface\":[{\"type\":\"surface\",\"colorbar\":{\"outlinewidth\":0,\"ticks\":\"\"},\"colorscale\":[[0.0,\"#0d0887\"],[0.1111111111111111,\"#46039f\"],[0.2222222222222222,\"#7201a8\"],[0.3333333333333333,\"#9c179e\"],[0.4444444444444444,\"#bd3786\"],[0.5555555555555556,\"#d8576b\"],[0.6666666666666666,\"#ed7953\"],[0.7777777777777778,\"#fb9f3a\"],[0.8888888888888888,\"#fdca26\"],[1.0,\"#f0f921\"]]}],\"mesh3d\":[{\"type\":\"mesh3d\",\"colorbar\":{\"outlinewidth\":0,\"ticks\":\"\"}}],\"scatter\":[{\"fillpattern\":{\"fillmode\":\"overlay\",\"size\":10,\"solidity\":0.2},\"type\":\"scatter\"}],\"parcoords\":[{\"type\":\"parcoords\",\"line\":{\"colorbar\":{\"outlinewidth\":0,\"ticks\":\"\"}}}],\"scatterpolargl\":[{\"type\":\"scatterpolargl\",\"marker\":{\"colorbar\":{\"outlinewidth\":0,\"ticks\":\"\"}}}],\"bar\":[{\"error_x\":{\"color\":\"#2a3f5f\"},\"error_y\":{\"color\":\"#2a3f5f\"},\"marker\":{\"line\":{\"color\":\"white\",\"width\":0.5},\"pattern\":{\"fillmode\":\"overlay\",\"size\":10,\"solidity\":0.2}},\"type\":\"bar\"}],\"scattergeo\":[{\"type\":\"scattergeo\",\"marker\":{\"colorbar\":{\"outlinewidth\":0,\"ticks\":\"\"}}}],\"scatterpolar\":[{\"type\":\"scatterpolar\",\"marker\":{\"colorbar\":{\"outlinewidth\":0,\"ticks\":\"\"}}}],\"histogram\":[{\"marker\":{\"pattern\":{\"fillmode\":\"overlay\",\"size\":10,\"solidity\":0.2}},\"type\":\"histogram\"}],\"scattergl\":[{\"type\":\"scattergl\",\"marker\":{\"colorbar\":{\"outlinewidth\":0,\"ticks\":\"\"}}}],\"scatter3d\":[{\"type\":\"scatter3d\",\"line\":{\"colorbar\":{\"outlinewidth\":0,\"ticks\":\"\"}},\"marker\":{\"colorbar\":{\"outlinewidth\":0,\"ticks\":\"\"}}}],\"scattermapbox\":[{\"type\":\"scattermapbox\",\"marker\":{\"colorbar\":{\"outlinewidth\":0,\"ticks\":\"\"}}}],\"scatterternary\":[{\"type\":\"scatterternary\",\"marker\":{\"colorbar\":{\"outlinewidth\":0,\"ticks\":\"\"}}}],\"scattercarpet\":[{\"type\":\"scattercarpet\",\"marker\":{\"colorbar\":{\"outlinewidth\":0,\"ticks\":\"\"}}}],\"carpet\":[{\"aaxis\":{\"endlinecolor\":\"#2a3f5f\",\"gridcolor\":\"#C8D4E3\",\"linecolor\":\"#C8D4E3\",\"minorgridcolor\":\"#C8D4E3\",\"startlinecolor\":\"#2a3f5f\"},\"baxis\":{\"endlinecolor\":\"#2a3f5f\",\"gridcolor\":\"#C8D4E3\",\"linecolor\":\"#C8D4E3\",\"minorgridcolor\":\"#C8D4E3\",\"startlinecolor\":\"#2a3f5f\"},\"type\":\"carpet\"}],\"table\":[{\"cells\":{\"fill\":{\"color\":\"#EBF0F8\"},\"line\":{\"color\":\"white\"}},\"header\":{\"fill\":{\"color\":\"#C8D4E3\"},\"line\":{\"color\":\"white\"}},\"type\":\"table\"}],\"barpolar\":[{\"marker\":{\"line\":{\"color\":\"white\",\"width\":0.5},\"pattern\":{\"fillmode\":\"overlay\",\"size\":10,\"solidity\":0.2}},\"type\":\"barpolar\"}],\"pie\":[{\"automargin\":true,\"type\":\"pie\"}]},\"layout\":{\"autotypenumbers\":\"strict\",\"colorway\":[\"#636efa\",\"#EF553B\",\"#00cc96\",\"#ab63fa\",\"#FFA15A\",\"#19d3f3\",\"#FF6692\",\"#B6E880\",\"#FF97FF\",\"#FECB52\"],\"font\":{\"color\":\"#2a3f5f\"},\"hovermode\":\"closest\",\"hoverlabel\":{\"align\":\"left\"},\"paper_bgcolor\":\"white\",\"plot_bgcolor\":\"white\",\"polar\":{\"bgcolor\":\"white\",\"angularaxis\":{\"gridcolor\":\"#EBF0F8\",\"linecolor\":\"#EBF0F8\",\"ticks\":\"\"},\"radialaxis\":{\"gridcolor\":\"#EBF0F8\",\"linecolor\":\"#EBF0F8\",\"ticks\":\"\"}},\"ternary\":{\"bgcolor\":\"white\",\"aaxis\":{\"gridcolor\":\"#DFE8F3\",\"linecolor\":\"#A2B1C6\",\"ticks\":\"\"},\"baxis\":{\"gridcolor\":\"#DFE8F3\",\"linecolor\":\"#A2B1C6\",\"ticks\":\"\"},\"caxis\":{\"gridcolor\":\"#DFE8F3\",\"linecolor\":\"#A2B1C6\",\"ticks\":\"\"}},\"coloraxis\":{\"colorbar\":{\"outlinewidth\":0,\"ticks\":\"\"}},\"colorscale\":{\"sequential\":[[0.0,\"#0d0887\"],[0.1111111111111111,\"#46039f\"],[0.2222222222222222,\"#7201a8\"],[0.3333333333333333,\"#9c179e\"],[0.4444444444444444,\"#bd3786\"],[0.5555555555555556,\"#d8576b\"],[0.6666666666666666,\"#ed7953\"],[0.7777777777777778,\"#fb9f3a\"],[0.8888888888888888,\"#fdca26\"],[1.0,\"#f0f921\"]],\"sequentialminus\":[[0.0,\"#0d0887\"],[0.1111111111111111,\"#46039f\"],[0.2222222222222222,\"#7201a8\"],[0.3333333333333333,\"#9c179e\"],[0.4444444444444444,\"#bd3786\"],[0.5555555555555556,\"#d8576b\"],[0.6666666666666666,\"#ed7953\"],[0.7777777777777778,\"#fb9f3a\"],[0.8888888888888888,\"#fdca26\"],[1.0,\"#f0f921\"]],\"diverging\":[[0,\"#8e0152\"],[0.1,\"#c51b7d\"],[0.2,\"#de77ae\"],[0.3,\"#f1b6da\"],[0.4,\"#fde0ef\"],[0.5,\"#f7f7f7\"],[0.6,\"#e6f5d0\"],[0.7,\"#b8e186\"],[0.8,\"#7fbc41\"],[0.9,\"#4d9221\"],[1,\"#276419\"]]},\"xaxis\":{\"gridcolor\":\"#EBF0F8\",\"linecolor\":\"#EBF0F8\",\"ticks\":\"\",\"title\":{\"standoff\":15},\"zerolinecolor\":\"#EBF0F8\",\"automargin\":true,\"zerolinewidth\":2},\"yaxis\":{\"gridcolor\":\"#EBF0F8\",\"linecolor\":\"#EBF0F8\",\"ticks\":\"\",\"title\":{\"standoff\":15},\"zerolinecolor\":\"#EBF0F8\",\"automargin\":true,\"zerolinewidth\":2},\"scene\":{\"xaxis\":{\"backgroundcolor\":\"white\",\"gridcolor\":\"#DFE8F3\",\"linecolor\":\"#EBF0F8\",\"showbackground\":true,\"ticks\":\"\",\"zerolinecolor\":\"#EBF0F8\",\"gridwidth\":2},\"yaxis\":{\"backgroundcolor\":\"white\",\"gridcolor\":\"#DFE8F3\",\"linecolor\":\"#EBF0F8\",\"showbackground\":true,\"ticks\":\"\",\"zerolinecolor\":\"#EBF0F8\",\"gridwidth\":2},\"zaxis\":{\"backgroundcolor\":\"white\",\"gridcolor\":\"#DFE8F3\",\"linecolor\":\"#EBF0F8\",\"showbackground\":true,\"ticks\":\"\",\"zerolinecolor\":\"#EBF0F8\",\"gridwidth\":2}},\"shapedefaults\":{\"line\":{\"color\":\"#2a3f5f\"}},\"annotationdefaults\":{\"arrowcolor\":\"#2a3f5f\",\"arrowhead\":0,\"arrowwidth\":1},\"geo\":{\"bgcolor\":\"white\",\"landcolor\":\"white\",\"subunitcolor\":\"#C8D4E3\",\"showland\":true,\"showlakes\":true,\"lakecolor\":\"white\"},\"title\":{\"x\":0.05},\"mapbox\":{\"style\":\"light\"}}},\"xaxis\":{\"anchor\":\"y\",\"domain\":[0.0,1.0],\"title\":{\"text\":\"Prozent\"}},\"yaxis\":{\"anchor\":\"x\",\"domain\":[0.0,1.0],\"title\":{\"text\":\"Topic\"},\"categoryorder\":\"category descending\"},\"legend\":{\"tracegroupgap\":0},\"margin\":{\"t\":0,\"l\":0,\"r\":0,\"b\":0,\"pad\":0},\"barmode\":\"relative\",\"title\":{\"text\":\"Presen\\u00e7a de Topics no programa do partido AFD\"},\"height\":300},                        {\"responsive\": true}                    )                };                            </script>        </div>"
      ],
      "text/plain": [
       "Figure({\n",
       "    'data': [{'alignmentgroup': 'True',\n",
       "              'hovertemplate': 'sentence_percentage=%{x}<br>topic=%{y}<extra></extra>',\n",
       "              'legendgroup': '',\n",
       "              'marker': {'color': '#204E84', 'pattern': {'shape': ''}},\n",
       "              'name': '',\n",
       "              'offsetgroup': '',\n",
       "              'orientation': 'h',\n",
       "              'showlegend': False,\n",
       "              'textposition': 'auto',\n",
       "              'type': 'bar',\n",
       "              'x': array([ 0.        ,  0.62728698,  0.73183481,  0.        ,  3.71144799,\n",
       "                           0.36591741,  1.98640878, 92.57710403]),\n",
       "              'xaxis': 'x',\n",
       "              'y': array(['Bildung', 'Gesundheit', 'Infrastruktur', 'Klima',\n",
       "                          'Politik und Ideologie', 'Wissenschaft', 'soziale Ursachen',\n",
       "                          'wirtschaft'], dtype=object),\n",
       "              'yaxis': 'y'}],\n",
       "    'layout': {'barmode': 'relative',\n",
       "               'height': 300,\n",
       "               'legend': {'tracegroupgap': 0},\n",
       "               'margin': {'b': 0, 'l': 0, 'pad': 0, 'r': 0, 't': 0},\n",
       "               'template': '...',\n",
       "               'title': {'text': 'Presença de Topics no programa do partido AFD'},\n",
       "               'xaxis': {'anchor': 'y', 'domain': [0.0, 1.0], 'title': {'text': 'Prozent'}},\n",
       "               'yaxis': {'anchor': 'x',\n",
       "                         'categoryorder': 'category descending',\n",
       "                         'domain': [0.0, 1.0],\n",
       "                         'title': {'text': 'Topic'}}}\n",
       "})"
      ]
     },
     "execution_count": 149,
     "metadata": {},
     "output_type": "execute_result"
    }
   ],
   "source": [
    "plot_topical_presence(\n",
    "    sentences, \n",
    "    topics, \n",
    "    title=f\"Presença de Topics no programa do partido {selected_party.upper()}\",\n",
    "    color=party_data[selected_party][\"color\"],\n",
    ")"
   ]
  },
  {
   "cell_type": "code",
   "execution_count": 37,
   "metadata": {},
   "outputs": [
    {
     "data": {
      "application/vnd.plotly.v1+json": {
       "config": {
        "plotlyServerURL": "https://plot.ly"
       },
       "data": [
        {
         "hovertemplate": "rational: %{x:.1f}%<extra></extra>",
         "marker": {
          "color": "green"
         },
         "name": "rational",
         "orientation": "h",
         "type": "bar",
         "x": [
          94.77260846837429
         ]
        },
        {
         "hovertemplate": "intuition: %{x:.1f}%<extra></extra>",
         "marker": {
          "color": "red"
         },
         "name": "intuition",
         "orientation": "h",
         "type": "bar",
         "x": [
          5.2273915316257185
         ]
        }
       ],
       "layout": {
        "barmode": "stack",
        "height": 300,
        "margin": {
         "b": 0,
         "l": 0,
         "pad": 0,
         "r": 0,
         "t": 0
        },
        "template": {
         "data": {
          "bar": [
           {
            "error_x": {
             "color": "#2a3f5f"
            },
            "error_y": {
             "color": "#2a3f5f"
            },
            "marker": {
             "line": {
              "color": "white",
              "width": 0.5
             },
             "pattern": {
              "fillmode": "overlay",
              "size": 10,
              "solidity": 0.2
             }
            },
            "type": "bar"
           }
          ],
          "barpolar": [
           {
            "marker": {
             "line": {
              "color": "white",
              "width": 0.5
             },
             "pattern": {
              "fillmode": "overlay",
              "size": 10,
              "solidity": 0.2
             }
            },
            "type": "barpolar"
           }
          ],
          "carpet": [
           {
            "aaxis": {
             "endlinecolor": "#2a3f5f",
             "gridcolor": "#C8D4E3",
             "linecolor": "#C8D4E3",
             "minorgridcolor": "#C8D4E3",
             "startlinecolor": "#2a3f5f"
            },
            "baxis": {
             "endlinecolor": "#2a3f5f",
             "gridcolor": "#C8D4E3",
             "linecolor": "#C8D4E3",
             "minorgridcolor": "#C8D4E3",
             "startlinecolor": "#2a3f5f"
            },
            "type": "carpet"
           }
          ],
          "choropleth": [
           {
            "colorbar": {
             "outlinewidth": 0,
             "ticks": ""
            },
            "type": "choropleth"
           }
          ],
          "contour": [
           {
            "colorbar": {
             "outlinewidth": 0,
             "ticks": ""
            },
            "colorscale": [
             [
              0,
              "#0d0887"
             ],
             [
              0.1111111111111111,
              "#46039f"
             ],
             [
              0.2222222222222222,
              "#7201a8"
             ],
             [
              0.3333333333333333,
              "#9c179e"
             ],
             [
              0.4444444444444444,
              "#bd3786"
             ],
             [
              0.5555555555555556,
              "#d8576b"
             ],
             [
              0.6666666666666666,
              "#ed7953"
             ],
             [
              0.7777777777777778,
              "#fb9f3a"
             ],
             [
              0.8888888888888888,
              "#fdca26"
             ],
             [
              1,
              "#f0f921"
             ]
            ],
            "type": "contour"
           }
          ],
          "contourcarpet": [
           {
            "colorbar": {
             "outlinewidth": 0,
             "ticks": ""
            },
            "type": "contourcarpet"
           }
          ],
          "heatmap": [
           {
            "colorbar": {
             "outlinewidth": 0,
             "ticks": ""
            },
            "colorscale": [
             [
              0,
              "#0d0887"
             ],
             [
              0.1111111111111111,
              "#46039f"
             ],
             [
              0.2222222222222222,
              "#7201a8"
             ],
             [
              0.3333333333333333,
              "#9c179e"
             ],
             [
              0.4444444444444444,
              "#bd3786"
             ],
             [
              0.5555555555555556,
              "#d8576b"
             ],
             [
              0.6666666666666666,
              "#ed7953"
             ],
             [
              0.7777777777777778,
              "#fb9f3a"
             ],
             [
              0.8888888888888888,
              "#fdca26"
             ],
             [
              1,
              "#f0f921"
             ]
            ],
            "type": "heatmap"
           }
          ],
          "heatmapgl": [
           {
            "colorbar": {
             "outlinewidth": 0,
             "ticks": ""
            },
            "colorscale": [
             [
              0,
              "#0d0887"
             ],
             [
              0.1111111111111111,
              "#46039f"
             ],
             [
              0.2222222222222222,
              "#7201a8"
             ],
             [
              0.3333333333333333,
              "#9c179e"
             ],
             [
              0.4444444444444444,
              "#bd3786"
             ],
             [
              0.5555555555555556,
              "#d8576b"
             ],
             [
              0.6666666666666666,
              "#ed7953"
             ],
             [
              0.7777777777777778,
              "#fb9f3a"
             ],
             [
              0.8888888888888888,
              "#fdca26"
             ],
             [
              1,
              "#f0f921"
             ]
            ],
            "type": "heatmapgl"
           }
          ],
          "histogram": [
           {
            "marker": {
             "pattern": {
              "fillmode": "overlay",
              "size": 10,
              "solidity": 0.2
             }
            },
            "type": "histogram"
           }
          ],
          "histogram2d": [
           {
            "colorbar": {
             "outlinewidth": 0,
             "ticks": ""
            },
            "colorscale": [
             [
              0,
              "#0d0887"
             ],
             [
              0.1111111111111111,
              "#46039f"
             ],
             [
              0.2222222222222222,
              "#7201a8"
             ],
             [
              0.3333333333333333,
              "#9c179e"
             ],
             [
              0.4444444444444444,
              "#bd3786"
             ],
             [
              0.5555555555555556,
              "#d8576b"
             ],
             [
              0.6666666666666666,
              "#ed7953"
             ],
             [
              0.7777777777777778,
              "#fb9f3a"
             ],
             [
              0.8888888888888888,
              "#fdca26"
             ],
             [
              1,
              "#f0f921"
             ]
            ],
            "type": "histogram2d"
           }
          ],
          "histogram2dcontour": [
           {
            "colorbar": {
             "outlinewidth": 0,
             "ticks": ""
            },
            "colorscale": [
             [
              0,
              "#0d0887"
             ],
             [
              0.1111111111111111,
              "#46039f"
             ],
             [
              0.2222222222222222,
              "#7201a8"
             ],
             [
              0.3333333333333333,
              "#9c179e"
             ],
             [
              0.4444444444444444,
              "#bd3786"
             ],
             [
              0.5555555555555556,
              "#d8576b"
             ],
             [
              0.6666666666666666,
              "#ed7953"
             ],
             [
              0.7777777777777778,
              "#fb9f3a"
             ],
             [
              0.8888888888888888,
              "#fdca26"
             ],
             [
              1,
              "#f0f921"
             ]
            ],
            "type": "histogram2dcontour"
           }
          ],
          "mesh3d": [
           {
            "colorbar": {
             "outlinewidth": 0,
             "ticks": ""
            },
            "type": "mesh3d"
           }
          ],
          "parcoords": [
           {
            "line": {
             "colorbar": {
              "outlinewidth": 0,
              "ticks": ""
             }
            },
            "type": "parcoords"
           }
          ],
          "pie": [
           {
            "automargin": true,
            "type": "pie"
           }
          ],
          "scatter": [
           {
            "fillpattern": {
             "fillmode": "overlay",
             "size": 10,
             "solidity": 0.2
            },
            "type": "scatter"
           }
          ],
          "scatter3d": [
           {
            "line": {
             "colorbar": {
              "outlinewidth": 0,
              "ticks": ""
             }
            },
            "marker": {
             "colorbar": {
              "outlinewidth": 0,
              "ticks": ""
             }
            },
            "type": "scatter3d"
           }
          ],
          "scattercarpet": [
           {
            "marker": {
             "colorbar": {
              "outlinewidth": 0,
              "ticks": ""
             }
            },
            "type": "scattercarpet"
           }
          ],
          "scattergeo": [
           {
            "marker": {
             "colorbar": {
              "outlinewidth": 0,
              "ticks": ""
             }
            },
            "type": "scattergeo"
           }
          ],
          "scattergl": [
           {
            "marker": {
             "colorbar": {
              "outlinewidth": 0,
              "ticks": ""
             }
            },
            "type": "scattergl"
           }
          ],
          "scattermapbox": [
           {
            "marker": {
             "colorbar": {
              "outlinewidth": 0,
              "ticks": ""
             }
            },
            "type": "scattermapbox"
           }
          ],
          "scatterpolar": [
           {
            "marker": {
             "colorbar": {
              "outlinewidth": 0,
              "ticks": ""
             }
            },
            "type": "scatterpolar"
           }
          ],
          "scatterpolargl": [
           {
            "marker": {
             "colorbar": {
              "outlinewidth": 0,
              "ticks": ""
             }
            },
            "type": "scatterpolargl"
           }
          ],
          "scatterternary": [
           {
            "marker": {
             "colorbar": {
              "outlinewidth": 0,
              "ticks": ""
             }
            },
            "type": "scatterternary"
           }
          ],
          "surface": [
           {
            "colorbar": {
             "outlinewidth": 0,
             "ticks": ""
            },
            "colorscale": [
             [
              0,
              "#0d0887"
             ],
             [
              0.1111111111111111,
              "#46039f"
             ],
             [
              0.2222222222222222,
              "#7201a8"
             ],
             [
              0.3333333333333333,
              "#9c179e"
             ],
             [
              0.4444444444444444,
              "#bd3786"
             ],
             [
              0.5555555555555556,
              "#d8576b"
             ],
             [
              0.6666666666666666,
              "#ed7953"
             ],
             [
              0.7777777777777778,
              "#fb9f3a"
             ],
             [
              0.8888888888888888,
              "#fdca26"
             ],
             [
              1,
              "#f0f921"
             ]
            ],
            "type": "surface"
           }
          ],
          "table": [
           {
            "cells": {
             "fill": {
              "color": "#EBF0F8"
             },
             "line": {
              "color": "white"
             }
            },
            "header": {
             "fill": {
              "color": "#C8D4E3"
             },
             "line": {
              "color": "white"
             }
            },
            "type": "table"
           }
          ]
         },
         "layout": {
          "annotationdefaults": {
           "arrowcolor": "#2a3f5f",
           "arrowhead": 0,
           "arrowwidth": 1
          },
          "autotypenumbers": "strict",
          "coloraxis": {
           "colorbar": {
            "outlinewidth": 0,
            "ticks": ""
           }
          },
          "colorscale": {
           "diverging": [
            [
             0,
             "#8e0152"
            ],
            [
             0.1,
             "#c51b7d"
            ],
            [
             0.2,
             "#de77ae"
            ],
            [
             0.3,
             "#f1b6da"
            ],
            [
             0.4,
             "#fde0ef"
            ],
            [
             0.5,
             "#f7f7f7"
            ],
            [
             0.6,
             "#e6f5d0"
            ],
            [
             0.7,
             "#b8e186"
            ],
            [
             0.8,
             "#7fbc41"
            ],
            [
             0.9,
             "#4d9221"
            ],
            [
             1,
             "#276419"
            ]
           ],
           "sequential": [
            [
             0,
             "#0d0887"
            ],
            [
             0.1111111111111111,
             "#46039f"
            ],
            [
             0.2222222222222222,
             "#7201a8"
            ],
            [
             0.3333333333333333,
             "#9c179e"
            ],
            [
             0.4444444444444444,
             "#bd3786"
            ],
            [
             0.5555555555555556,
             "#d8576b"
            ],
            [
             0.6666666666666666,
             "#ed7953"
            ],
            [
             0.7777777777777778,
             "#fb9f3a"
            ],
            [
             0.8888888888888888,
             "#fdca26"
            ],
            [
             1,
             "#f0f921"
            ]
           ],
           "sequentialminus": [
            [
             0,
             "#0d0887"
            ],
            [
             0.1111111111111111,
             "#46039f"
            ],
            [
             0.2222222222222222,
             "#7201a8"
            ],
            [
             0.3333333333333333,
             "#9c179e"
            ],
            [
             0.4444444444444444,
             "#bd3786"
            ],
            [
             0.5555555555555556,
             "#d8576b"
            ],
            [
             0.6666666666666666,
             "#ed7953"
            ],
            [
             0.7777777777777778,
             "#fb9f3a"
            ],
            [
             0.8888888888888888,
             "#fdca26"
            ],
            [
             1,
             "#f0f921"
            ]
           ]
          },
          "colorway": [
           "#636efa",
           "#EF553B",
           "#00cc96",
           "#ab63fa",
           "#FFA15A",
           "#19d3f3",
           "#FF6692",
           "#B6E880",
           "#FF97FF",
           "#FECB52"
          ],
          "font": {
           "color": "#2a3f5f"
          },
          "geo": {
           "bgcolor": "white",
           "lakecolor": "white",
           "landcolor": "white",
           "showlakes": true,
           "showland": true,
           "subunitcolor": "#C8D4E3"
          },
          "hoverlabel": {
           "align": "left"
          },
          "hovermode": "closest",
          "mapbox": {
           "style": "light"
          },
          "paper_bgcolor": "white",
          "plot_bgcolor": "white",
          "polar": {
           "angularaxis": {
            "gridcolor": "#EBF0F8",
            "linecolor": "#EBF0F8",
            "ticks": ""
           },
           "bgcolor": "white",
           "radialaxis": {
            "gridcolor": "#EBF0F8",
            "linecolor": "#EBF0F8",
            "ticks": ""
           }
          },
          "scene": {
           "xaxis": {
            "backgroundcolor": "white",
            "gridcolor": "#DFE8F3",
            "gridwidth": 2,
            "linecolor": "#EBF0F8",
            "showbackground": true,
            "ticks": "",
            "zerolinecolor": "#EBF0F8"
           },
           "yaxis": {
            "backgroundcolor": "white",
            "gridcolor": "#DFE8F3",
            "gridwidth": 2,
            "linecolor": "#EBF0F8",
            "showbackground": true,
            "ticks": "",
            "zerolinecolor": "#EBF0F8"
           },
           "zaxis": {
            "backgroundcolor": "white",
            "gridcolor": "#DFE8F3",
            "gridwidth": 2,
            "linecolor": "#EBF0F8",
            "showbackground": true,
            "ticks": "",
            "zerolinecolor": "#EBF0F8"
           }
          },
          "shapedefaults": {
           "line": {
            "color": "#2a3f5f"
           }
          },
          "ternary": {
           "aaxis": {
            "gridcolor": "#DFE8F3",
            "linecolor": "#A2B1C6",
            "ticks": ""
           },
           "baxis": {
            "gridcolor": "#DFE8F3",
            "linecolor": "#A2B1C6",
            "ticks": ""
           },
           "bgcolor": "white",
           "caxis": {
            "gridcolor": "#DFE8F3",
            "linecolor": "#A2B1C6",
            "ticks": ""
           }
          },
          "title": {
           "x": 0.05
          },
          "xaxis": {
           "automargin": true,
           "gridcolor": "#EBF0F8",
           "linecolor": "#EBF0F8",
           "ticks": "",
           "title": {
            "standoff": 15
           },
           "zerolinecolor": "#EBF0F8",
           "zerolinewidth": 2
          },
          "yaxis": {
           "automargin": true,
           "gridcolor": "#EBF0F8",
           "linecolor": "#EBF0F8",
           "ticks": "",
           "title": {
            "standoff": 15
           },
           "zerolinecolor": "#EBF0F8",
           "zerolinewidth": 2
          }
         }
        },
        "title": {},
        "xaxis": {
         "showgrid": false,
         "visible": false,
         "zeroline": false
        },
        "yaxis": {
         "showgrid": false,
         "visible": false,
         "zeroline": false
        }
       }
      }
     },
     "metadata": {},
     "output_type": "display_data"
    }
   ],
   "source": [
    "plot_approaches(sentences, approaches)"
   ]
  },
  {
   "cell_type": "code",
   "execution_count": null,
   "metadata": {},
   "outputs": [],
   "source": [
    "import sentencepiece as spm"
   ]
  },
  {
   "cell_type": "code",
   "execution_count": 99,
   "metadata": {},
   "outputs": [
    {
     "data": {
      "text/plain": [
       "[{'label': 'positive', 'score': 0.8837923407554626}]"
      ]
     },
     "execution_count": 99,
     "metadata": {},
     "output_type": "execute_result"
    }
   ],
   "source": [
    "from transformers import pipeline, AutoModelForTokenClassification, AutoTokenizer\n",
    "\n",
    "sentiment_model_path = f\"cardiffnlp/twitter-xlm-roberta-base-sentiment\"\n",
    "tokenizer=AutoTokenizer.from_pretrained(sentiment_model_path,use_fast=False)\n",
    "sentiment_task = pipeline(\n",
    "    \"sentiment-analysis\", model=sentiment_model_path, tokenizer=tokenizer\n",
    ")\n",
    "sentiment_task(\"ich finde es gut\")"
   ]
  },
  {
   "cell_type": "code",
   "execution_count": 100,
   "metadata": {},
   "outputs": [],
   "source": [
    "from transformers import pipeline, AutoModelForTokenClassification, AutoTokenizer\n",
    "def get_sentiment(sentences):\n",
    "    \"based on pretrained model try to identify which elements have which sentiment\"\n",
    "    sentiment_model_path = \"cardiffnlp/twitter-xlm-roberta-base-sentiment\"\n",
    "    tokenizer=AutoTokenizer.from_pretrained(\"cardiffnlp/twitter-xlm-roberta-base-sentiment\",use_fast=False)\n",
    "    sentiment_task = pipeline(\n",
    "        \"sentiment-analysis\", model=sentiment_model_path, tokenizer=tokenizer\n",
    "    )\n",
    "    sentiment_outputs = [\n",
    "        sentiment_task(sentence)\n",
    "        for sentence in tqdm(sentences, desc=\"Sentiment analysis\")\n",
    "    ]\n",
    "    sentiments_dict = dict(label=[], score=[], sentence=[])\n",
    "    for idx, output in enumerate(sentiment_outputs):\n",
    "        sentiments_dict[\"label\"].append(output[0][\"label\"])\n",
    "        sentiments_dict[\"score\"].append(output[0][\"score\"])\n",
    "        sentiments_dict[\"sentence\"].append(sentences[idx])\n",
    "    sentiment_df = pd.DataFrame(sentiments_dict)\n",
    "    sentiment_df[\"label\"] = sentiment_df.label.map(\n",
    "        dict(positive=\"positiv\", negative=\"negativ\", neutral=\"neutral\")\n",
    "    )\n",
    "    return sentiment_df\n",
    "\n"
   ]
  },
  {
   "cell_type": "code",
   "execution_count": 101,
   "metadata": {},
   "outputs": [
    {
     "data": {
      "application/vnd.jupyter.widget-view+json": {
       "model_id": "d8332ba48f9e49e5b14fca6c1721c0e4",
       "version_major": 2,
       "version_minor": 0
      },
      "text/plain": [
       "Sentiment analysis:   0%|          | 0/4880 [00:00<?, ?it/s]"
      ]
     },
     "metadata": {},
     "output_type": "display_data"
    }
   ],
   "source": [
    "sentiment_df = get_sentiment(sentences)\n"
   ]
  },
  {
   "cell_type": "code",
   "execution_count": 102,
   "metadata": {},
   "outputs": [
    {
     "data": {
      "text/html": [
       "<div>\n",
       "<style scoped>\n",
       "    .dataframe tbody tr th:only-of-type {\n",
       "        vertical-align: middle;\n",
       "    }\n",
       "\n",
       "    .dataframe tbody tr th {\n",
       "        vertical-align: top;\n",
       "    }\n",
       "\n",
       "    .dataframe thead th {\n",
       "        text-align: right;\n",
       "    }\n",
       "</style>\n",
       "<table border=\"1\" class=\"dataframe\">\n",
       "  <thead>\n",
       "    <tr style=\"text-align: right;\">\n",
       "      <th></th>\n",
       "      <th>label</th>\n",
       "      <th>score</th>\n",
       "      <th>sentence</th>\n",
       "    </tr>\n",
       "  </thead>\n",
       "  <tbody>\n",
       "    <tr>\n",
       "      <th>0</th>\n",
       "      <td>neutral</td>\n",
       "      <td>0.889235</td>\n",
       "      <td>IEITTESALTENTR Alles ist drin</td>\n",
       "    </tr>\n",
       "    <tr>\n",
       "      <th>1</th>\n",
       "      <td>neutral</td>\n",
       "      <td>0.684151</td>\n",
       "      <td>Bundestagswahlprogramm</td>\n",
       "    </tr>\n",
       "    <tr>\n",
       "      <th>2</th>\n",
       "      <td>positiv</td>\n",
       "      <td>0.540158</td>\n",
       "      <td>Bereit, weil Ihr es seid</td>\n",
       "    </tr>\n",
       "    <tr>\n",
       "      <th>3</th>\n",
       "      <td>neutral</td>\n",
       "      <td>0.824043</td>\n",
       "      <td>Dieses Bundestagswahlprogramm wurde auf der  B...</td>\n",
       "    </tr>\n",
       "    <tr>\n",
       "      <th>4</th>\n",
       "      <td>neutral</td>\n",
       "      <td>0.853210</td>\n",
       "      <td>Herausgeberin:  BÜNDNIS DIE GRÜNEN Platz vor d...</td>\n",
       "    </tr>\n",
       "  </tbody>\n",
       "</table>\n",
       "</div>"
      ],
      "text/plain": [
       "     label     score                                           sentence\n",
       "0  neutral  0.889235                      IEITTESALTENTR Alles ist drin\n",
       "1  neutral  0.684151                             Bundestagswahlprogramm\n",
       "2  positiv  0.540158                           Bereit, weil Ihr es seid\n",
       "3  neutral  0.824043  Dieses Bundestagswahlprogramm wurde auf der  B...\n",
       "4  neutral  0.853210  Herausgeberin:  BÜNDNIS DIE GRÜNEN Platz vor d..."
      ]
     },
     "execution_count": 102,
     "metadata": {},
     "output_type": "execute_result"
    }
   ],
   "source": [
    "sentiment_df.head()"
   ]
  },
  {
   "cell_type": "code",
   "execution_count": 108,
   "metadata": {},
   "outputs": [
    {
     "data": {
      "text/plain": [
       "neutral    3904\n",
       "negativ     645\n",
       "positiv     331\n",
       "Name: label, dtype: int64"
      ]
     },
     "execution_count": 108,
     "metadata": {},
     "output_type": "execute_result"
    }
   ],
   "source": [
    "sentiment_df.label.value_counts()"
   ]
  },
  {
   "cell_type": "code",
   "execution_count": 109,
   "metadata": {},
   "outputs": [
    {
     "data": {
      "text/plain": [
       "array(['Düngemittel, Pestizide, Waschmittelrückstände und Medikamentenreste gehören nicht in unser Wasser',\n",
       "       'BÜNDNIS DIE GRÜNEN    Kapitel',\n",
       "       'Abkommen mit negativen Auswirkungen auf die Umwelt oder die Ernährungssouveränität wie das EU-Mercosur-Abkommen mit latein- amerikanischen Staaten lehnen wir ab',\n",
       "       'BÜNDNIS DIE GRÜNEN    Kapitel',\n",
       "       'Plastikmüll soll nicht mehr exportiert wer- den, wenn er nicht hochwertig recycelt wird',\n",
       "       'Die Klimakrise und die Endlichkeit von Ressourcen verlangen ein Umsteuern',\n",
       "       'Großstädte teilen sich immer stärker in Ein- kommensstadtteile auf, Innenstädten geht das Leben verloren',\n",
       "       'Wird dieses Leid nicht aufgearbei- tet, beeinträchtigt es das Leben dieser Menschen und ihrer Familien sowie den gesellschaftlichen Zusammenhalt über Generationen',\n",
       "       'BÜNDNIS DIE GRÜNEN    Kapitel',\n",
       "       'Und ohne Satelli- tenbilder ließe sich etwa die Vertreibung ganzer Dorfgemeinschaften in Kriegsgebieten gar nicht erst nachvollziehen'],\n",
       "      dtype=object)"
      ]
     },
     "execution_count": 109,
     "metadata": {},
     "output_type": "execute_result"
    }
   ],
   "source": [
    "sentiment_df[sentiment_df.label == \"negativ\"].sentence.sample(10).values\n"
   ]
  },
  {
   "cell_type": "code",
   "execution_count": 110,
   "metadata": {},
   "outputs": [
    {
     "data": {
      "text/plain": [
       "array(['Ein Patenschafts- programm nach dem Vorbild Kanadas kann die Willkommenskultur fördern',\n",
       "       'Die Polizist*innen verdienen unsere Wertschätzung, genauso wie gute Arbeitsverhältnisse und leistungsfähige Strukturen innerhalb der Behörden',\n",
       "       'einen neuen Fokus setzen und unser Engagement deutlich steigern',\n",
       "       'Jüdische Menschen in Deutschland müssen sich sicher fühlen können',\n",
       "       'Wich- tig ist zudem, dass Deutschland und Europa schnell den Anschluss bei der Batteriezellenproduktion finden',\n",
       "       'Bereit, weil Ihr es seid', 'Bereit, weil Ihr es seid',\n",
       "       'Bereit, weil Ihr es seid', 'Bereit, weil Ihr es seid',\n",
       "       'Bereit, weil Ihr es seid'], dtype=object)"
      ]
     },
     "execution_count": 110,
     "metadata": {},
     "output_type": "execute_result"
    }
   ],
   "source": [
    "sentiment_df[sentiment_df.label == \"positiv\"].sentence.sample(10).values\n"
   ]
  },
  {
   "cell_type": "code",
   "execution_count": 111,
   "metadata": {},
   "outputs": [],
   "source": [
    "\n",
    "def get_hate_speech(\n",
    "    sentences, sentiment_df, label_col: str = \"label\"\n",
    "):\n",
    "    \"Get the hate speech of a list of sentences.\"\n",
    "    \n",
    "    hate_model_path = \"Hate-speech-CNERG/dehatebert-mono-german\"\n",
    "    hate_task = pipeline(\n",
    "        \"text-classification\", model=hate_model_path, tokenizer=hate_model_path\n",
    "    )\n",
    "    hate_outputs = [\n",
    "        hate_task(sentence) for sentence in tqdm(sentences, desc=\"Hate speech analysis\")\n",
    "    ]\n",
    "    hate_dict = dict(label=[], score=[], sentence=[])\n",
    "    for idx, output in enumerate(hate_outputs):\n",
    "        hate_dict[\"label\"].append(output[0][\"label\"])\n",
    "        hate_dict[\"score\"].append(output[0][\"score\"])\n",
    "        hate_dict[\"sentence\"].append(sentences[idx])\n",
    "    hate_df = pd.DataFrame(hate_dict)\n",
    "    hate_df[\"label\"] = hate_df.label.map(dict(HATE=\"negativ\", NON_HATE=\"neutral\"))\n",
    "    hate_condition = (hate_df.label == \"negativ\") & (sentiment_df[label_col] == \"negativ\")\n",
    "    hate_df.loc[hate_condition, \"label\"] = \"negativ\"\n",
    "    hate_df.loc[~hate_condition, \"label\"] = \"neutral\"\n",
    "    return hate_df"
   ]
  },
  {
   "cell_type": "code",
   "execution_count": 123,
   "metadata": {},
   "outputs": [
    {
     "data": {
      "application/vnd.plotly.v1+json": {
       "config": {
        "plotlyServerURL": "https://plot.ly"
       },
       "data": [
        {
         "alignmentgroup": "True",
         "hovertemplate": "%{y:.1f}%<extra></extra>",
         "legendgroup": "",
         "marker": {
          "color": [
           "gray",
           "green",
           "red"
          ],
          "pattern": {
           "shape": ""
          }
         },
         "name": "",
         "offsetgroup": "",
         "orientation": "v",
         "showlegend": false,
         "textposition": "auto",
         "type": "bar",
         "x": [
          "neutral",
          "positiv",
          "negativ"
         ],
         "xaxis": "x",
         "y": [
          80,
          6.782786885245902,
          13.217213114754097
         ],
         "yaxis": "y"
        }
       ],
       "layout": {
        "barmode": "relative",
        "height": 300,
        "legend": {
         "tracegroupgap": 0
        },
        "margin": {
         "b": 0,
         "l": 0,
         "pad": 0,
         "r": 0,
         "t": 0
        },
        "template": {
         "data": {
          "bar": [
           {
            "error_x": {
             "color": "#2a3f5f"
            },
            "error_y": {
             "color": "#2a3f5f"
            },
            "marker": {
             "line": {
              "color": "white",
              "width": 0.5
             },
             "pattern": {
              "fillmode": "overlay",
              "size": 10,
              "solidity": 0.2
             }
            },
            "type": "bar"
           }
          ],
          "barpolar": [
           {
            "marker": {
             "line": {
              "color": "white",
              "width": 0.5
             },
             "pattern": {
              "fillmode": "overlay",
              "size": 10,
              "solidity": 0.2
             }
            },
            "type": "barpolar"
           }
          ],
          "carpet": [
           {
            "aaxis": {
             "endlinecolor": "#2a3f5f",
             "gridcolor": "#C8D4E3",
             "linecolor": "#C8D4E3",
             "minorgridcolor": "#C8D4E3",
             "startlinecolor": "#2a3f5f"
            },
            "baxis": {
             "endlinecolor": "#2a3f5f",
             "gridcolor": "#C8D4E3",
             "linecolor": "#C8D4E3",
             "minorgridcolor": "#C8D4E3",
             "startlinecolor": "#2a3f5f"
            },
            "type": "carpet"
           }
          ],
          "choropleth": [
           {
            "colorbar": {
             "outlinewidth": 0,
             "ticks": ""
            },
            "type": "choropleth"
           }
          ],
          "contour": [
           {
            "colorbar": {
             "outlinewidth": 0,
             "ticks": ""
            },
            "colorscale": [
             [
              0,
              "#0d0887"
             ],
             [
              0.1111111111111111,
              "#46039f"
             ],
             [
              0.2222222222222222,
              "#7201a8"
             ],
             [
              0.3333333333333333,
              "#9c179e"
             ],
             [
              0.4444444444444444,
              "#bd3786"
             ],
             [
              0.5555555555555556,
              "#d8576b"
             ],
             [
              0.6666666666666666,
              "#ed7953"
             ],
             [
              0.7777777777777778,
              "#fb9f3a"
             ],
             [
              0.8888888888888888,
              "#fdca26"
             ],
             [
              1,
              "#f0f921"
             ]
            ],
            "type": "contour"
           }
          ],
          "contourcarpet": [
           {
            "colorbar": {
             "outlinewidth": 0,
             "ticks": ""
            },
            "type": "contourcarpet"
           }
          ],
          "heatmap": [
           {
            "colorbar": {
             "outlinewidth": 0,
             "ticks": ""
            },
            "colorscale": [
             [
              0,
              "#0d0887"
             ],
             [
              0.1111111111111111,
              "#46039f"
             ],
             [
              0.2222222222222222,
              "#7201a8"
             ],
             [
              0.3333333333333333,
              "#9c179e"
             ],
             [
              0.4444444444444444,
              "#bd3786"
             ],
             [
              0.5555555555555556,
              "#d8576b"
             ],
             [
              0.6666666666666666,
              "#ed7953"
             ],
             [
              0.7777777777777778,
              "#fb9f3a"
             ],
             [
              0.8888888888888888,
              "#fdca26"
             ],
             [
              1,
              "#f0f921"
             ]
            ],
            "type": "heatmap"
           }
          ],
          "heatmapgl": [
           {
            "colorbar": {
             "outlinewidth": 0,
             "ticks": ""
            },
            "colorscale": [
             [
              0,
              "#0d0887"
             ],
             [
              0.1111111111111111,
              "#46039f"
             ],
             [
              0.2222222222222222,
              "#7201a8"
             ],
             [
              0.3333333333333333,
              "#9c179e"
             ],
             [
              0.4444444444444444,
              "#bd3786"
             ],
             [
              0.5555555555555556,
              "#d8576b"
             ],
             [
              0.6666666666666666,
              "#ed7953"
             ],
             [
              0.7777777777777778,
              "#fb9f3a"
             ],
             [
              0.8888888888888888,
              "#fdca26"
             ],
             [
              1,
              "#f0f921"
             ]
            ],
            "type": "heatmapgl"
           }
          ],
          "histogram": [
           {
            "marker": {
             "pattern": {
              "fillmode": "overlay",
              "size": 10,
              "solidity": 0.2
             }
            },
            "type": "histogram"
           }
          ],
          "histogram2d": [
           {
            "colorbar": {
             "outlinewidth": 0,
             "ticks": ""
            },
            "colorscale": [
             [
              0,
              "#0d0887"
             ],
             [
              0.1111111111111111,
              "#46039f"
             ],
             [
              0.2222222222222222,
              "#7201a8"
             ],
             [
              0.3333333333333333,
              "#9c179e"
             ],
             [
              0.4444444444444444,
              "#bd3786"
             ],
             [
              0.5555555555555556,
              "#d8576b"
             ],
             [
              0.6666666666666666,
              "#ed7953"
             ],
             [
              0.7777777777777778,
              "#fb9f3a"
             ],
             [
              0.8888888888888888,
              "#fdca26"
             ],
             [
              1,
              "#f0f921"
             ]
            ],
            "type": "histogram2d"
           }
          ],
          "histogram2dcontour": [
           {
            "colorbar": {
             "outlinewidth": 0,
             "ticks": ""
            },
            "colorscale": [
             [
              0,
              "#0d0887"
             ],
             [
              0.1111111111111111,
              "#46039f"
             ],
             [
              0.2222222222222222,
              "#7201a8"
             ],
             [
              0.3333333333333333,
              "#9c179e"
             ],
             [
              0.4444444444444444,
              "#bd3786"
             ],
             [
              0.5555555555555556,
              "#d8576b"
             ],
             [
              0.6666666666666666,
              "#ed7953"
             ],
             [
              0.7777777777777778,
              "#fb9f3a"
             ],
             [
              0.8888888888888888,
              "#fdca26"
             ],
             [
              1,
              "#f0f921"
             ]
            ],
            "type": "histogram2dcontour"
           }
          ],
          "mesh3d": [
           {
            "colorbar": {
             "outlinewidth": 0,
             "ticks": ""
            },
            "type": "mesh3d"
           }
          ],
          "parcoords": [
           {
            "line": {
             "colorbar": {
              "outlinewidth": 0,
              "ticks": ""
             }
            },
            "type": "parcoords"
           }
          ],
          "pie": [
           {
            "automargin": true,
            "type": "pie"
           }
          ],
          "scatter": [
           {
            "fillpattern": {
             "fillmode": "overlay",
             "size": 10,
             "solidity": 0.2
            },
            "type": "scatter"
           }
          ],
          "scatter3d": [
           {
            "line": {
             "colorbar": {
              "outlinewidth": 0,
              "ticks": ""
             }
            },
            "marker": {
             "colorbar": {
              "outlinewidth": 0,
              "ticks": ""
             }
            },
            "type": "scatter3d"
           }
          ],
          "scattercarpet": [
           {
            "marker": {
             "colorbar": {
              "outlinewidth": 0,
              "ticks": ""
             }
            },
            "type": "scattercarpet"
           }
          ],
          "scattergeo": [
           {
            "marker": {
             "colorbar": {
              "outlinewidth": 0,
              "ticks": ""
             }
            },
            "type": "scattergeo"
           }
          ],
          "scattergl": [
           {
            "marker": {
             "colorbar": {
              "outlinewidth": 0,
              "ticks": ""
             }
            },
            "type": "scattergl"
           }
          ],
          "scattermapbox": [
           {
            "marker": {
             "colorbar": {
              "outlinewidth": 0,
              "ticks": ""
             }
            },
            "type": "scattermapbox"
           }
          ],
          "scatterpolar": [
           {
            "marker": {
             "colorbar": {
              "outlinewidth": 0,
              "ticks": ""
             }
            },
            "type": "scatterpolar"
           }
          ],
          "scatterpolargl": [
           {
            "marker": {
             "colorbar": {
              "outlinewidth": 0,
              "ticks": ""
             }
            },
            "type": "scatterpolargl"
           }
          ],
          "scatterternary": [
           {
            "marker": {
             "colorbar": {
              "outlinewidth": 0,
              "ticks": ""
             }
            },
            "type": "scatterternary"
           }
          ],
          "surface": [
           {
            "colorbar": {
             "outlinewidth": 0,
             "ticks": ""
            },
            "colorscale": [
             [
              0,
              "#0d0887"
             ],
             [
              0.1111111111111111,
              "#46039f"
             ],
             [
              0.2222222222222222,
              "#7201a8"
             ],
             [
              0.3333333333333333,
              "#9c179e"
             ],
             [
              0.4444444444444444,
              "#bd3786"
             ],
             [
              0.5555555555555556,
              "#d8576b"
             ],
             [
              0.6666666666666666,
              "#ed7953"
             ],
             [
              0.7777777777777778,
              "#fb9f3a"
             ],
             [
              0.8888888888888888,
              "#fdca26"
             ],
             [
              1,
              "#f0f921"
             ]
            ],
            "type": "surface"
           }
          ],
          "table": [
           {
            "cells": {
             "fill": {
              "color": "#EBF0F8"
             },
             "line": {
              "color": "white"
             }
            },
            "header": {
             "fill": {
              "color": "#C8D4E3"
             },
             "line": {
              "color": "white"
             }
            },
            "type": "table"
           }
          ]
         },
         "layout": {
          "annotationdefaults": {
           "arrowcolor": "#2a3f5f",
           "arrowhead": 0,
           "arrowwidth": 1
          },
          "autotypenumbers": "strict",
          "coloraxis": {
           "colorbar": {
            "outlinewidth": 0,
            "ticks": ""
           }
          },
          "colorscale": {
           "diverging": [
            [
             0,
             "#8e0152"
            ],
            [
             0.1,
             "#c51b7d"
            ],
            [
             0.2,
             "#de77ae"
            ],
            [
             0.3,
             "#f1b6da"
            ],
            [
             0.4,
             "#fde0ef"
            ],
            [
             0.5,
             "#f7f7f7"
            ],
            [
             0.6,
             "#e6f5d0"
            ],
            [
             0.7,
             "#b8e186"
            ],
            [
             0.8,
             "#7fbc41"
            ],
            [
             0.9,
             "#4d9221"
            ],
            [
             1,
             "#276419"
            ]
           ],
           "sequential": [
            [
             0,
             "#0d0887"
            ],
            [
             0.1111111111111111,
             "#46039f"
            ],
            [
             0.2222222222222222,
             "#7201a8"
            ],
            [
             0.3333333333333333,
             "#9c179e"
            ],
            [
             0.4444444444444444,
             "#bd3786"
            ],
            [
             0.5555555555555556,
             "#d8576b"
            ],
            [
             0.6666666666666666,
             "#ed7953"
            ],
            [
             0.7777777777777778,
             "#fb9f3a"
            ],
            [
             0.8888888888888888,
             "#fdca26"
            ],
            [
             1,
             "#f0f921"
            ]
           ],
           "sequentialminus": [
            [
             0,
             "#0d0887"
            ],
            [
             0.1111111111111111,
             "#46039f"
            ],
            [
             0.2222222222222222,
             "#7201a8"
            ],
            [
             0.3333333333333333,
             "#9c179e"
            ],
            [
             0.4444444444444444,
             "#bd3786"
            ],
            [
             0.5555555555555556,
             "#d8576b"
            ],
            [
             0.6666666666666666,
             "#ed7953"
            ],
            [
             0.7777777777777778,
             "#fb9f3a"
            ],
            [
             0.8888888888888888,
             "#fdca26"
            ],
            [
             1,
             "#f0f921"
            ]
           ]
          },
          "colorway": [
           "#636efa",
           "#EF553B",
           "#00cc96",
           "#ab63fa",
           "#FFA15A",
           "#19d3f3",
           "#FF6692",
           "#B6E880",
           "#FF97FF",
           "#FECB52"
          ],
          "font": {
           "color": "#2a3f5f"
          },
          "geo": {
           "bgcolor": "white",
           "lakecolor": "white",
           "landcolor": "white",
           "showlakes": true,
           "showland": true,
           "subunitcolor": "#C8D4E3"
          },
          "hoverlabel": {
           "align": "left"
          },
          "hovermode": "closest",
          "mapbox": {
           "style": "light"
          },
          "paper_bgcolor": "white",
          "plot_bgcolor": "white",
          "polar": {
           "angularaxis": {
            "gridcolor": "#EBF0F8",
            "linecolor": "#EBF0F8",
            "ticks": ""
           },
           "bgcolor": "white",
           "radialaxis": {
            "gridcolor": "#EBF0F8",
            "linecolor": "#EBF0F8",
            "ticks": ""
           }
          },
          "scene": {
           "xaxis": {
            "backgroundcolor": "white",
            "gridcolor": "#DFE8F3",
            "gridwidth": 2,
            "linecolor": "#EBF0F8",
            "showbackground": true,
            "ticks": "",
            "zerolinecolor": "#EBF0F8"
           },
           "yaxis": {
            "backgroundcolor": "white",
            "gridcolor": "#DFE8F3",
            "gridwidth": 2,
            "linecolor": "#EBF0F8",
            "showbackground": true,
            "ticks": "",
            "zerolinecolor": "#EBF0F8"
           },
           "zaxis": {
            "backgroundcolor": "white",
            "gridcolor": "#DFE8F3",
            "gridwidth": 2,
            "linecolor": "#EBF0F8",
            "showbackground": true,
            "ticks": "",
            "zerolinecolor": "#EBF0F8"
           }
          },
          "shapedefaults": {
           "line": {
            "color": "#2a3f5f"
           }
          },
          "ternary": {
           "aaxis": {
            "gridcolor": "#DFE8F3",
            "linecolor": "#A2B1C6",
            "ticks": ""
           },
           "baxis": {
            "gridcolor": "#DFE8F3",
            "linecolor": "#A2B1C6",
            "ticks": ""
           },
           "bgcolor": "white",
           "caxis": {
            "gridcolor": "#DFE8F3",
            "linecolor": "#A2B1C6",
            "ticks": ""
           }
          },
          "title": {
           "x": 0.05
          },
          "xaxis": {
           "automargin": true,
           "gridcolor": "#EBF0F8",
           "linecolor": "#EBF0F8",
           "ticks": "",
           "title": {
            "standoff": 15
           },
           "zerolinecolor": "#EBF0F8",
           "zerolinewidth": 2
          },
          "yaxis": {
           "automargin": true,
           "gridcolor": "#EBF0F8",
           "linecolor": "#EBF0F8",
           "ticks": "",
           "title": {
            "standoff": 15
           },
           "zerolinecolor": "#EBF0F8",
           "zerolinewidth": 2
          }
         }
        },
        "xaxis": {
         "anchor": "y",
         "domain": [
          0,
          1
         ],
         "title": {
          "text": "Sntiment"
         }
        },
        "yaxis": {
         "anchor": "x",
         "domain": [
          0,
          1
         ],
         "title": {
          "text": "Prozent"
         }
        }
       }
      }
     },
     "metadata": {},
     "output_type": "display_data"
    }
   ],
   "source": [
    "plot_sentiment(sentiment_df)\n"
   ]
  },
  {
   "cell_type": "code",
   "execution_count": 113,
   "metadata": {},
   "outputs": [
    {
     "data": {
      "application/vnd.jupyter.widget-view+json": {
       "model_id": "343b2be874984c2596f9306a3f4ba21a",
       "version_major": 2,
       "version_minor": 0
      },
      "text/plain": [
       "Downloading:   0%|          | 0.00/1.23k [00:00<?, ?B/s]"
      ]
     },
     "metadata": {},
     "output_type": "display_data"
    },
    {
     "data": {
      "application/vnd.jupyter.widget-view+json": {
       "model_id": "235210e9ff0f4fb7b754f05e548e9e90",
       "version_major": 2,
       "version_minor": 0
      },
      "text/plain": [
       "Downloading:   0%|          | 0.00/669M [00:00<?, ?B/s]"
      ]
     },
     "metadata": {},
     "output_type": "display_data"
    },
    {
     "data": {
      "application/vnd.jupyter.widget-view+json": {
       "model_id": "086b0c5aa88d4279bd1c62dddd63a2dc",
       "version_major": 2,
       "version_minor": 0
      },
      "text/plain": [
       "Downloading:   0%|          | 0.00/152 [00:00<?, ?B/s]"
      ]
     },
     "metadata": {},
     "output_type": "display_data"
    },
    {
     "data": {
      "application/vnd.jupyter.widget-view+json": {
       "model_id": "9889df84d3574122a1c8154ffcc44b68",
       "version_major": 2,
       "version_minor": 0
      },
      "text/plain": [
       "Downloading:   0%|          | 0.00/872k [00:00<?, ?B/s]"
      ]
     },
     "metadata": {},
     "output_type": "display_data"
    },
    {
     "data": {
      "application/vnd.jupyter.widget-view+json": {
       "model_id": "08a27f39f2da4dfdb8939075c54089d5",
       "version_major": 2,
       "version_minor": 0
      },
      "text/plain": [
       "Downloading:   0%|          | 0.00/112 [00:00<?, ?B/s]"
      ]
     },
     "metadata": {},
     "output_type": "display_data"
    },
    {
     "data": {
      "application/vnd.jupyter.widget-view+json": {
       "model_id": "a4e16658f40e4107a83daf5917e7efc7",
       "version_major": 2,
       "version_minor": 0
      },
      "text/plain": [
       "Hate speech analysis:   0%|          | 0/4880 [00:00<?, ?it/s]"
      ]
     },
     "metadata": {},
     "output_type": "display_data"
    }
   ],
   "source": [
    "hate_df=get_hate_speech(sentences,sentiment_df,label_col= \"label\")"
   ]
  },
  {
   "cell_type": "code",
   "execution_count": 125,
   "metadata": {},
   "outputs": [
    {
     "data": {
      "text/html": [
       "<div>\n",
       "<style scoped>\n",
       "    .dataframe tbody tr th:only-of-type {\n",
       "        vertical-align: middle;\n",
       "    }\n",
       "\n",
       "    .dataframe tbody tr th {\n",
       "        vertical-align: top;\n",
       "    }\n",
       "\n",
       "    .dataframe thead th {\n",
       "        text-align: right;\n",
       "    }\n",
       "</style>\n",
       "<table border=\"1\" class=\"dataframe\">\n",
       "  <thead>\n",
       "    <tr style=\"text-align: right;\">\n",
       "      <th></th>\n",
       "      <th>label</th>\n",
       "      <th>sentence_count</th>\n",
       "      <th>percent</th>\n",
       "    </tr>\n",
       "  </thead>\n",
       "  <tbody>\n",
       "    <tr>\n",
       "      <th>0</th>\n",
       "      <td>neutral</td>\n",
       "      <td>4876</td>\n",
       "      <td>99.918033</td>\n",
       "    </tr>\n",
       "    <tr>\n",
       "      <th>1</th>\n",
       "      <td>negativ</td>\n",
       "      <td>4</td>\n",
       "      <td>0.081967</td>\n",
       "    </tr>\n",
       "  </tbody>\n",
       "</table>\n",
       "</div>"
      ],
      "text/plain": [
       "     label  sentence_count    percent\n",
       "0  neutral            4876  99.918033\n",
       "1  negativ               4   0.081967"
      ]
     },
     "execution_count": 125,
     "metadata": {},
     "output_type": "execute_result"
    }
   ],
   "source": [
    "hate_count = get_counts(hate_df, label_col='label')\n",
    "hate_count"
   ]
  },
  {
   "cell_type": "code",
   "execution_count": 124,
   "metadata": {},
   "outputs": [
    {
     "data": {
      "application/vnd.plotly.v1+json": {
       "config": {
        "plotlyServerURL": "https://plot.ly"
       },
       "data": [
        {
         "delta": {
          "position": "top",
          "reference": 320
         },
         "domain": {
          "x": [
           0,
           1
          ],
          "y": [
           0,
           1
          ]
         },
         "mode": "number",
         "number": {
          "suffix": "%",
          "valueformat": ".2f"
         },
         "type": "indicator",
         "value": 0.08196721311475409
        }
       ],
       "layout": {
        "font": {
         "color": "white"
        },
        "height": 300,
        "margin": {
         "b": 0,
         "l": 0,
         "pad": 0,
         "r": 0,
         "t": 0
        },
        "paper_bgcolor": "darkred",
        "template": {
         "data": {
          "bar": [
           {
            "error_x": {
             "color": "#2a3f5f"
            },
            "error_y": {
             "color": "#2a3f5f"
            },
            "marker": {
             "line": {
              "color": "white",
              "width": 0.5
             },
             "pattern": {
              "fillmode": "overlay",
              "size": 10,
              "solidity": 0.2
             }
            },
            "type": "bar"
           }
          ],
          "barpolar": [
           {
            "marker": {
             "line": {
              "color": "white",
              "width": 0.5
             },
             "pattern": {
              "fillmode": "overlay",
              "size": 10,
              "solidity": 0.2
             }
            },
            "type": "barpolar"
           }
          ],
          "carpet": [
           {
            "aaxis": {
             "endlinecolor": "#2a3f5f",
             "gridcolor": "#C8D4E3",
             "linecolor": "#C8D4E3",
             "minorgridcolor": "#C8D4E3",
             "startlinecolor": "#2a3f5f"
            },
            "baxis": {
             "endlinecolor": "#2a3f5f",
             "gridcolor": "#C8D4E3",
             "linecolor": "#C8D4E3",
             "minorgridcolor": "#C8D4E3",
             "startlinecolor": "#2a3f5f"
            },
            "type": "carpet"
           }
          ],
          "choropleth": [
           {
            "colorbar": {
             "outlinewidth": 0,
             "ticks": ""
            },
            "type": "choropleth"
           }
          ],
          "contour": [
           {
            "colorbar": {
             "outlinewidth": 0,
             "ticks": ""
            },
            "colorscale": [
             [
              0,
              "#0d0887"
             ],
             [
              0.1111111111111111,
              "#46039f"
             ],
             [
              0.2222222222222222,
              "#7201a8"
             ],
             [
              0.3333333333333333,
              "#9c179e"
             ],
             [
              0.4444444444444444,
              "#bd3786"
             ],
             [
              0.5555555555555556,
              "#d8576b"
             ],
             [
              0.6666666666666666,
              "#ed7953"
             ],
             [
              0.7777777777777778,
              "#fb9f3a"
             ],
             [
              0.8888888888888888,
              "#fdca26"
             ],
             [
              1,
              "#f0f921"
             ]
            ],
            "type": "contour"
           }
          ],
          "contourcarpet": [
           {
            "colorbar": {
             "outlinewidth": 0,
             "ticks": ""
            },
            "type": "contourcarpet"
           }
          ],
          "heatmap": [
           {
            "colorbar": {
             "outlinewidth": 0,
             "ticks": ""
            },
            "colorscale": [
             [
              0,
              "#0d0887"
             ],
             [
              0.1111111111111111,
              "#46039f"
             ],
             [
              0.2222222222222222,
              "#7201a8"
             ],
             [
              0.3333333333333333,
              "#9c179e"
             ],
             [
              0.4444444444444444,
              "#bd3786"
             ],
             [
              0.5555555555555556,
              "#d8576b"
             ],
             [
              0.6666666666666666,
              "#ed7953"
             ],
             [
              0.7777777777777778,
              "#fb9f3a"
             ],
             [
              0.8888888888888888,
              "#fdca26"
             ],
             [
              1,
              "#f0f921"
             ]
            ],
            "type": "heatmap"
           }
          ],
          "heatmapgl": [
           {
            "colorbar": {
             "outlinewidth": 0,
             "ticks": ""
            },
            "colorscale": [
             [
              0,
              "#0d0887"
             ],
             [
              0.1111111111111111,
              "#46039f"
             ],
             [
              0.2222222222222222,
              "#7201a8"
             ],
             [
              0.3333333333333333,
              "#9c179e"
             ],
             [
              0.4444444444444444,
              "#bd3786"
             ],
             [
              0.5555555555555556,
              "#d8576b"
             ],
             [
              0.6666666666666666,
              "#ed7953"
             ],
             [
              0.7777777777777778,
              "#fb9f3a"
             ],
             [
              0.8888888888888888,
              "#fdca26"
             ],
             [
              1,
              "#f0f921"
             ]
            ],
            "type": "heatmapgl"
           }
          ],
          "histogram": [
           {
            "marker": {
             "pattern": {
              "fillmode": "overlay",
              "size": 10,
              "solidity": 0.2
             }
            },
            "type": "histogram"
           }
          ],
          "histogram2d": [
           {
            "colorbar": {
             "outlinewidth": 0,
             "ticks": ""
            },
            "colorscale": [
             [
              0,
              "#0d0887"
             ],
             [
              0.1111111111111111,
              "#46039f"
             ],
             [
              0.2222222222222222,
              "#7201a8"
             ],
             [
              0.3333333333333333,
              "#9c179e"
             ],
             [
              0.4444444444444444,
              "#bd3786"
             ],
             [
              0.5555555555555556,
              "#d8576b"
             ],
             [
              0.6666666666666666,
              "#ed7953"
             ],
             [
              0.7777777777777778,
              "#fb9f3a"
             ],
             [
              0.8888888888888888,
              "#fdca26"
             ],
             [
              1,
              "#f0f921"
             ]
            ],
            "type": "histogram2d"
           }
          ],
          "histogram2dcontour": [
           {
            "colorbar": {
             "outlinewidth": 0,
             "ticks": ""
            },
            "colorscale": [
             [
              0,
              "#0d0887"
             ],
             [
              0.1111111111111111,
              "#46039f"
             ],
             [
              0.2222222222222222,
              "#7201a8"
             ],
             [
              0.3333333333333333,
              "#9c179e"
             ],
             [
              0.4444444444444444,
              "#bd3786"
             ],
             [
              0.5555555555555556,
              "#d8576b"
             ],
             [
              0.6666666666666666,
              "#ed7953"
             ],
             [
              0.7777777777777778,
              "#fb9f3a"
             ],
             [
              0.8888888888888888,
              "#fdca26"
             ],
             [
              1,
              "#f0f921"
             ]
            ],
            "type": "histogram2dcontour"
           }
          ],
          "mesh3d": [
           {
            "colorbar": {
             "outlinewidth": 0,
             "ticks": ""
            },
            "type": "mesh3d"
           }
          ],
          "parcoords": [
           {
            "line": {
             "colorbar": {
              "outlinewidth": 0,
              "ticks": ""
             }
            },
            "type": "parcoords"
           }
          ],
          "pie": [
           {
            "automargin": true,
            "type": "pie"
           }
          ],
          "scatter": [
           {
            "fillpattern": {
             "fillmode": "overlay",
             "size": 10,
             "solidity": 0.2
            },
            "type": "scatter"
           }
          ],
          "scatter3d": [
           {
            "line": {
             "colorbar": {
              "outlinewidth": 0,
              "ticks": ""
             }
            },
            "marker": {
             "colorbar": {
              "outlinewidth": 0,
              "ticks": ""
             }
            },
            "type": "scatter3d"
           }
          ],
          "scattercarpet": [
           {
            "marker": {
             "colorbar": {
              "outlinewidth": 0,
              "ticks": ""
             }
            },
            "type": "scattercarpet"
           }
          ],
          "scattergeo": [
           {
            "marker": {
             "colorbar": {
              "outlinewidth": 0,
              "ticks": ""
             }
            },
            "type": "scattergeo"
           }
          ],
          "scattergl": [
           {
            "marker": {
             "colorbar": {
              "outlinewidth": 0,
              "ticks": ""
             }
            },
            "type": "scattergl"
           }
          ],
          "scattermapbox": [
           {
            "marker": {
             "colorbar": {
              "outlinewidth": 0,
              "ticks": ""
             }
            },
            "type": "scattermapbox"
           }
          ],
          "scatterpolar": [
           {
            "marker": {
             "colorbar": {
              "outlinewidth": 0,
              "ticks": ""
             }
            },
            "type": "scatterpolar"
           }
          ],
          "scatterpolargl": [
           {
            "marker": {
             "colorbar": {
              "outlinewidth": 0,
              "ticks": ""
             }
            },
            "type": "scatterpolargl"
           }
          ],
          "scatterternary": [
           {
            "marker": {
             "colorbar": {
              "outlinewidth": 0,
              "ticks": ""
             }
            },
            "type": "scatterternary"
           }
          ],
          "surface": [
           {
            "colorbar": {
             "outlinewidth": 0,
             "ticks": ""
            },
            "colorscale": [
             [
              0,
              "#0d0887"
             ],
             [
              0.1111111111111111,
              "#46039f"
             ],
             [
              0.2222222222222222,
              "#7201a8"
             ],
             [
              0.3333333333333333,
              "#9c179e"
             ],
             [
              0.4444444444444444,
              "#bd3786"
             ],
             [
              0.5555555555555556,
              "#d8576b"
             ],
             [
              0.6666666666666666,
              "#ed7953"
             ],
             [
              0.7777777777777778,
              "#fb9f3a"
             ],
             [
              0.8888888888888888,
              "#fdca26"
             ],
             [
              1,
              "#f0f921"
             ]
            ],
            "type": "surface"
           }
          ],
          "table": [
           {
            "cells": {
             "fill": {
              "color": "#EBF0F8"
             },
             "line": {
              "color": "white"
             }
            },
            "header": {
             "fill": {
              "color": "#C8D4E3"
             },
             "line": {
              "color": "white"
             }
            },
            "type": "table"
           }
          ]
         },
         "layout": {
          "annotationdefaults": {
           "arrowcolor": "#2a3f5f",
           "arrowhead": 0,
           "arrowwidth": 1
          },
          "autotypenumbers": "strict",
          "coloraxis": {
           "colorbar": {
            "outlinewidth": 0,
            "ticks": ""
           }
          },
          "colorscale": {
           "diverging": [
            [
             0,
             "#8e0152"
            ],
            [
             0.1,
             "#c51b7d"
            ],
            [
             0.2,
             "#de77ae"
            ],
            [
             0.3,
             "#f1b6da"
            ],
            [
             0.4,
             "#fde0ef"
            ],
            [
             0.5,
             "#f7f7f7"
            ],
            [
             0.6,
             "#e6f5d0"
            ],
            [
             0.7,
             "#b8e186"
            ],
            [
             0.8,
             "#7fbc41"
            ],
            [
             0.9,
             "#4d9221"
            ],
            [
             1,
             "#276419"
            ]
           ],
           "sequential": [
            [
             0,
             "#0d0887"
            ],
            [
             0.1111111111111111,
             "#46039f"
            ],
            [
             0.2222222222222222,
             "#7201a8"
            ],
            [
             0.3333333333333333,
             "#9c179e"
            ],
            [
             0.4444444444444444,
             "#bd3786"
            ],
            [
             0.5555555555555556,
             "#d8576b"
            ],
            [
             0.6666666666666666,
             "#ed7953"
            ],
            [
             0.7777777777777778,
             "#fb9f3a"
            ],
            [
             0.8888888888888888,
             "#fdca26"
            ],
            [
             1,
             "#f0f921"
            ]
           ],
           "sequentialminus": [
            [
             0,
             "#0d0887"
            ],
            [
             0.1111111111111111,
             "#46039f"
            ],
            [
             0.2222222222222222,
             "#7201a8"
            ],
            [
             0.3333333333333333,
             "#9c179e"
            ],
            [
             0.4444444444444444,
             "#bd3786"
            ],
            [
             0.5555555555555556,
             "#d8576b"
            ],
            [
             0.6666666666666666,
             "#ed7953"
            ],
            [
             0.7777777777777778,
             "#fb9f3a"
            ],
            [
             0.8888888888888888,
             "#fdca26"
            ],
            [
             1,
             "#f0f921"
            ]
           ]
          },
          "colorway": [
           "#636efa",
           "#EF553B",
           "#00cc96",
           "#ab63fa",
           "#FFA15A",
           "#19d3f3",
           "#FF6692",
           "#B6E880",
           "#FF97FF",
           "#FECB52"
          ],
          "font": {
           "color": "#2a3f5f"
          },
          "geo": {
           "bgcolor": "white",
           "lakecolor": "white",
           "landcolor": "white",
           "showlakes": true,
           "showland": true,
           "subunitcolor": "#C8D4E3"
          },
          "hoverlabel": {
           "align": "left"
          },
          "hovermode": "closest",
          "mapbox": {
           "style": "light"
          },
          "paper_bgcolor": "white",
          "plot_bgcolor": "white",
          "polar": {
           "angularaxis": {
            "gridcolor": "#EBF0F8",
            "linecolor": "#EBF0F8",
            "ticks": ""
           },
           "bgcolor": "white",
           "radialaxis": {
            "gridcolor": "#EBF0F8",
            "linecolor": "#EBF0F8",
            "ticks": ""
           }
          },
          "scene": {
           "xaxis": {
            "backgroundcolor": "white",
            "gridcolor": "#DFE8F3",
            "gridwidth": 2,
            "linecolor": "#EBF0F8",
            "showbackground": true,
            "ticks": "",
            "zerolinecolor": "#EBF0F8"
           },
           "yaxis": {
            "backgroundcolor": "white",
            "gridcolor": "#DFE8F3",
            "gridwidth": 2,
            "linecolor": "#EBF0F8",
            "showbackground": true,
            "ticks": "",
            "zerolinecolor": "#EBF0F8"
           },
           "zaxis": {
            "backgroundcolor": "white",
            "gridcolor": "#DFE8F3",
            "gridwidth": 2,
            "linecolor": "#EBF0F8",
            "showbackground": true,
            "ticks": "",
            "zerolinecolor": "#EBF0F8"
           }
          },
          "shapedefaults": {
           "line": {
            "color": "#2a3f5f"
           }
          },
          "ternary": {
           "aaxis": {
            "gridcolor": "#DFE8F3",
            "linecolor": "#A2B1C6",
            "ticks": ""
           },
           "baxis": {
            "gridcolor": "#DFE8F3",
            "linecolor": "#A2B1C6",
            "ticks": ""
           },
           "bgcolor": "white",
           "caxis": {
            "gridcolor": "#DFE8F3",
            "linecolor": "#A2B1C6",
            "ticks": ""
           }
          },
          "title": {
           "x": 0.05
          },
          "xaxis": {
           "automargin": true,
           "gridcolor": "#EBF0F8",
           "linecolor": "#EBF0F8",
           "ticks": "",
           "title": {
            "standoff": 15
           },
           "zerolinecolor": "#EBF0F8",
           "zerolinewidth": 2
          },
          "yaxis": {
           "automargin": true,
           "gridcolor": "#EBF0F8",
           "linecolor": "#EBF0F8",
           "ticks": "",
           "title": {
            "standoff": 15
           },
           "zerolinecolor": "#EBF0F8",
           "zerolinewidth": 2
          }
         }
        }
       }
      }
     },
     "metadata": {},
     "output_type": "display_data"
    }
   ],
   "source": [
    "plot_hate_speech(hate_df)"
   ]
  },
  {
   "cell_type": "markdown",
   "metadata": {},
   "source": [
    "# Nicht Niclas seins"
   ]
  },
  {
   "cell_type": "code",
   "execution_count": null,
   "metadata": {},
   "outputs": [],
   "source": [
    "\n",
    "def get_topical_sentences_pip(\n",
    "    sentences, topics\n",
    ") :\n",
    "    \"\"\"\n",
    "    Get lists of sentences per topic, based on the presence of\n",
    "    words that are a part of the topic.\n",
    "    Args:\n",
    "        sentences (List[str]):\n",
    "            List of sentences to analyse.\n",
    "        topics (Dict[str, List[str]]):\n",
    "            Dictionary of words per topic.\n",
    "    Returns:\n",
    "        Dict[str, List[str]]:\n",
    "            Dictionary of sentences per topic.\n",
    "    \"\"\"\n",
    "    topical_sentences = dict()\n",
    "    topic_list=[x.lower() for x in list(topics.keys())+['None']]\n",
    "    for topic in topic_list:\n",
    "        topical_sentences[topic] = list()\n",
    "    classifier = pipeline(\"zero-shot-classification\",\n",
    "                      model=\"valhalla/distilbart-mnli-12-1\")\n",
    "    for sentence in tqdm(sentences):\n",
    "        class_sent=classifier(sentence, topic_list)\n",
    "        topical_sentences[class_sent['labels'][max(range(len(class_sent['scores'])), key=class_sent['scores'].__getitem__)]].append(sentence)\n",
    "    return topical_sentences"
   ]
  },
  {
   "cell_type": "code",
   "execution_count": null,
   "metadata": {},
   "outputs": [],
   "source": [
    "def plot_topical_presence_nlp_pip(\n",
    "    sentences: List[str],\n",
    "    topics:List[str],\n",
    "    title: str = None,\n",
    "    color: str = \"blue\",\n",
    "    height: int = 300,\n",
    ") :\n",
    "    \"\"\"\n",
    "    Plot the number of sentences per topic.\n",
    "    Args:\n",
    "        sentences (List[str]):\n",
    "            List of sentences to analyse.\n",
    "        topics (Dict[str, List[str]]):\n",
    "            Dictionary of words per topic.\n",
    "        title (str):\n",
    "            Title of the plot.\n",
    "        color (str):\n",
    "            Color of the bars in the plot.\n",
    "        height (int):\n",
    "            Height of the plot.\n",
    "    Returns:\n",
    "        Figure:\n",
    "            Plotly figure with the number of sentences per topic.\n",
    "    \"\"\"\n",
    "    topical_sentences = get_topical_sentences_pip(sentences, topics)\n",
    "    topic_sentence_count = dict()\n",
    "    for topic in topical_sentences.keys():\n",
    "        topic_sentence_count[topic] = len(topical_sentences[topic])\n",
    "    topic_sentence_count = pd.DataFrame(\n",
    "        topic_sentence_count, index=[\"sentence_count\"]\n",
    "    ).T\n",
    "    topic_sentence_count[\"sentence_percentage\"] = (\n",
    "        topic_sentence_count[\"sentence_count\"] / len(sentences) * 100\n",
    "    )\n",
    "    topic_sentence_count.index.name = \"topic\"\n",
    "    topic_sentence_count.sort_index(inplace=True)\n",
    "    fig = px.bar(topic_sentence_count, x=\"sentence_percentage\", orientation=\"h\")\n",
    "    fig.update_layout(\n",
    "        title=title,\n",
    "        xaxis_title=\"Percentagem de frases topicais no texto\",\n",
    "        yaxis_title=\"Topic\",\n",
    "        yaxis=dict(categoryorder=\"category descending\"),\n",
    "        margin=dict(l=0, r=0, b=0, t=0, pad=0),\n",
    "        height=height,\n",
    "    )\n",
    "    fig.update_traces(marker_color=color)\n",
    "    return fig"
   ]
  },
  {
   "cell_type": "code",
   "execution_count": null,
   "metadata": {},
   "outputs": [
    {
     "data": {
      "application/vnd.jupyter.widget-view+json": {
       "model_id": "b847ca33469b4d598237d5510662c1f9",
       "version_major": 2,
       "version_minor": 0
      },
      "text/plain": [
       "Downloading:   0%|          | 0.00/1.39k [00:00<?, ?B/s]"
      ]
     },
     "metadata": {},
     "output_type": "display_data"
    },
    {
     "data": {
      "application/vnd.jupyter.widget-view+json": {
       "model_id": "e392df86cdd14018ae61ec74774f5006",
       "version_major": 2,
       "version_minor": 0
      },
      "text/plain": [
       "Downloading:   0%|          | 0.00/890M [00:00<?, ?B/s]"
      ]
     },
     "metadata": {},
     "output_type": "display_data"
    },
    {
     "data": {
      "application/vnd.jupyter.widget-view+json": {
       "model_id": "bdb79b2ed6c34046a42d9418e82b9137",
       "version_major": 2,
       "version_minor": 0
      },
      "text/plain": [
       "Downloading:   0%|          | 0.00/26.0 [00:00<?, ?B/s]"
      ]
     },
     "metadata": {},
     "output_type": "display_data"
    },
    {
     "data": {
      "application/vnd.jupyter.widget-view+json": {
       "model_id": "217a51b586b44231a7448f4fb7e9fda6",
       "version_major": 2,
       "version_minor": 0
      },
      "text/plain": [
       "Downloading:   0%|          | 0.00/899k [00:00<?, ?B/s]"
      ]
     },
     "metadata": {},
     "output_type": "display_data"
    },
    {
     "data": {
      "application/vnd.jupyter.widget-view+json": {
       "model_id": "705f69dad58049ddb5abcbf7cd1a00b6",
       "version_major": 2,
       "version_minor": 0
      },
      "text/plain": [
       "Downloading:   0%|          | 0.00/456k [00:00<?, ?B/s]"
      ]
     },
     "metadata": {},
     "output_type": "display_data"
    },
    {
     "data": {
      "application/vnd.jupyter.widget-view+json": {
       "model_id": "f29d1d4f25894a08b15254ee1d9c4cf7",
       "version_major": 2,
       "version_minor": 0
      },
      "text/plain": [
       "Downloading:   0%|          | 0.00/772 [00:00<?, ?B/s]"
      ]
     },
     "metadata": {},
     "output_type": "display_data"
    },
    {
     "data": {
      "application/vnd.jupyter.widget-view+json": {
       "model_id": "26cf16693aee4cd29156b981ddb03d34",
       "version_major": 2,
       "version_minor": 0
      },
      "text/plain": [
       "  0%|          | 0/4880 [00:00<?, ?it/s]"
      ]
     },
     "metadata": {},
     "output_type": "display_data"
    },
    {
     "ename": "KeyboardInterrupt",
     "evalue": "",
     "output_type": "error",
     "traceback": [
      "\u001b[0;31m---------------------------------------------------------------------------\u001b[0m",
      "\u001b[0;31mKeyboardInterrupt\u001b[0m                         Traceback (most recent call last)",
      "Cell \u001b[0;32mIn[77], line 1\u001b[0m\n\u001b[0;32m----> 1\u001b[0m get_topical_sentences_pip(sentences, topics)\n",
      "Cell \u001b[0;32mIn[75], line 23\u001b[0m, in \u001b[0;36mget_topical_sentences_pip\u001b[0;34m(sentences, topics)\u001b[0m\n\u001b[1;32m     20\u001b[0m classifier \u001b[39m=\u001b[39m pipeline(\u001b[39m\"\u001b[39m\u001b[39mzero-shot-classification\u001b[39m\u001b[39m\"\u001b[39m,\n\u001b[1;32m     21\u001b[0m                   model\u001b[39m=\u001b[39m\u001b[39m\"\u001b[39m\u001b[39mvalhalla/distilbart-mnli-12-1\u001b[39m\u001b[39m\"\u001b[39m)\n\u001b[1;32m     22\u001b[0m \u001b[39mfor\u001b[39;00m sentence \u001b[39min\u001b[39;00m tqdm(sentences):\n\u001b[0;32m---> 23\u001b[0m     class_sent\u001b[39m=\u001b[39mclassifier(sentence, topic_list)\n\u001b[1;32m     24\u001b[0m     topical_sentences[class_sent[\u001b[39m'\u001b[39m\u001b[39mlabels\u001b[39m\u001b[39m'\u001b[39m][\u001b[39mmax\u001b[39m(\u001b[39mrange\u001b[39m(\u001b[39mlen\u001b[39m(class_sent[\u001b[39m'\u001b[39m\u001b[39mscores\u001b[39m\u001b[39m'\u001b[39m])), key\u001b[39m=\u001b[39mclass_sent[\u001b[39m'\u001b[39m\u001b[39mscores\u001b[39m\u001b[39m'\u001b[39m]\u001b[39m.\u001b[39m\u001b[39m__getitem__\u001b[39m)]]\u001b[39m.\u001b[39mappend(sentence)\n\u001b[1;32m     25\u001b[0m \u001b[39mreturn\u001b[39;00m topical_sentences\n",
      "File \u001b[0;32m~/opt/miniconda3/envs/NLP/lib/python3.9/site-packages/transformers/pipelines/zero_shot_classification.py:182\u001b[0m, in \u001b[0;36mZeroShotClassificationPipeline.__call__\u001b[0;34m(self, sequences, *args, **kwargs)\u001b[0m\n\u001b[1;32m    179\u001b[0m \u001b[39melse\u001b[39;00m:\n\u001b[1;32m    180\u001b[0m     \u001b[39mraise\u001b[39;00m \u001b[39mValueError\u001b[39;00m(\u001b[39mf\u001b[39m\u001b[39m\"\u001b[39m\u001b[39mUnable to understand extra arguments \u001b[39m\u001b[39m{\u001b[39;00margs\u001b[39m}\u001b[39;00m\u001b[39m\"\u001b[39m)\n\u001b[0;32m--> 182\u001b[0m \u001b[39mreturn\u001b[39;00m \u001b[39msuper\u001b[39;49m()\u001b[39m.\u001b[39;49m\u001b[39m__call__\u001b[39;49m(sequences, \u001b[39m*\u001b[39;49m\u001b[39m*\u001b[39;49mkwargs)\n",
      "File \u001b[0;32m~/opt/miniconda3/envs/NLP/lib/python3.9/site-packages/transformers/pipelines/base.py:1074\u001b[0m, in \u001b[0;36mPipeline.__call__\u001b[0;34m(self, inputs, num_workers, batch_size, *args, **kwargs)\u001b[0m\n\u001b[1;32m   1072\u001b[0m     \u001b[39mreturn\u001b[39;00m \u001b[39mself\u001b[39m\u001b[39m.\u001b[39miterate(inputs, preprocess_params, forward_params, postprocess_params)\n\u001b[1;32m   1073\u001b[0m \u001b[39melse\u001b[39;00m:\n\u001b[0;32m-> 1074\u001b[0m     \u001b[39mreturn\u001b[39;00m \u001b[39mself\u001b[39;49m\u001b[39m.\u001b[39;49mrun_single(inputs, preprocess_params, forward_params, postprocess_params)\n",
      "File \u001b[0;32m~/opt/miniconda3/envs/NLP/lib/python3.9/site-packages/transformers/pipelines/base.py:1096\u001b[0m, in \u001b[0;36mChunkPipeline.run_single\u001b[0;34m(self, inputs, preprocess_params, forward_params, postprocess_params)\u001b[0m\n\u001b[1;32m   1094\u001b[0m all_outputs \u001b[39m=\u001b[39m []\n\u001b[1;32m   1095\u001b[0m \u001b[39mfor\u001b[39;00m model_inputs \u001b[39min\u001b[39;00m \u001b[39mself\u001b[39m\u001b[39m.\u001b[39mpreprocess(inputs, \u001b[39m*\u001b[39m\u001b[39m*\u001b[39mpreprocess_params):\n\u001b[0;32m-> 1096\u001b[0m     model_outputs \u001b[39m=\u001b[39m \u001b[39mself\u001b[39;49m\u001b[39m.\u001b[39;49mforward(model_inputs, \u001b[39m*\u001b[39;49m\u001b[39m*\u001b[39;49mforward_params)\n\u001b[1;32m   1097\u001b[0m     all_outputs\u001b[39m.\u001b[39mappend(model_outputs)\n\u001b[1;32m   1098\u001b[0m outputs \u001b[39m=\u001b[39m \u001b[39mself\u001b[39m\u001b[39m.\u001b[39mpostprocess(all_outputs, \u001b[39m*\u001b[39m\u001b[39m*\u001b[39mpostprocess_params)\n",
      "File \u001b[0;32m~/opt/miniconda3/envs/NLP/lib/python3.9/site-packages/transformers/pipelines/base.py:990\u001b[0m, in \u001b[0;36mPipeline.forward\u001b[0;34m(self, model_inputs, **forward_params)\u001b[0m\n\u001b[1;32m    988\u001b[0m     \u001b[39mwith\u001b[39;00m inference_context():\n\u001b[1;32m    989\u001b[0m         model_inputs \u001b[39m=\u001b[39m \u001b[39mself\u001b[39m\u001b[39m.\u001b[39m_ensure_tensor_on_device(model_inputs, device\u001b[39m=\u001b[39m\u001b[39mself\u001b[39m\u001b[39m.\u001b[39mdevice)\n\u001b[0;32m--> 990\u001b[0m         model_outputs \u001b[39m=\u001b[39m \u001b[39mself\u001b[39;49m\u001b[39m.\u001b[39;49m_forward(model_inputs, \u001b[39m*\u001b[39;49m\u001b[39m*\u001b[39;49mforward_params)\n\u001b[1;32m    991\u001b[0m         model_outputs \u001b[39m=\u001b[39m \u001b[39mself\u001b[39m\u001b[39m.\u001b[39m_ensure_tensor_on_device(model_outputs, device\u001b[39m=\u001b[39mtorch\u001b[39m.\u001b[39mdevice(\u001b[39m\"\u001b[39m\u001b[39mcpu\u001b[39m\u001b[39m\"\u001b[39m))\n\u001b[1;32m    992\u001b[0m \u001b[39melse\u001b[39;00m:\n",
      "File \u001b[0;32m~/opt/miniconda3/envs/NLP/lib/python3.9/site-packages/transformers/pipelines/zero_shot_classification.py:201\u001b[0m, in \u001b[0;36mZeroShotClassificationPipeline._forward\u001b[0;34m(self, inputs)\u001b[0m\n\u001b[1;32m    199\u001b[0m sequence \u001b[39m=\u001b[39m inputs[\u001b[39m\"\u001b[39m\u001b[39msequence\u001b[39m\u001b[39m\"\u001b[39m]\n\u001b[1;32m    200\u001b[0m model_inputs \u001b[39m=\u001b[39m {k: inputs[k] \u001b[39mfor\u001b[39;00m k \u001b[39min\u001b[39;00m \u001b[39mself\u001b[39m\u001b[39m.\u001b[39mtokenizer\u001b[39m.\u001b[39mmodel_input_names}\n\u001b[0;32m--> 201\u001b[0m outputs \u001b[39m=\u001b[39m \u001b[39mself\u001b[39;49m\u001b[39m.\u001b[39;49mmodel(\u001b[39m*\u001b[39;49m\u001b[39m*\u001b[39;49mmodel_inputs)\n\u001b[1;32m    203\u001b[0m model_outputs \u001b[39m=\u001b[39m {\n\u001b[1;32m    204\u001b[0m     \u001b[39m\"\u001b[39m\u001b[39mcandidate_label\u001b[39m\u001b[39m\"\u001b[39m: candidate_label,\n\u001b[1;32m    205\u001b[0m     \u001b[39m\"\u001b[39m\u001b[39msequence\u001b[39m\u001b[39m\"\u001b[39m: sequence,\n\u001b[1;32m    206\u001b[0m     \u001b[39m\"\u001b[39m\u001b[39mis_last\u001b[39m\u001b[39m\"\u001b[39m: inputs[\u001b[39m\"\u001b[39m\u001b[39mis_last\u001b[39m\u001b[39m\"\u001b[39m],\n\u001b[1;32m    207\u001b[0m     \u001b[39m*\u001b[39m\u001b[39m*\u001b[39moutputs,\n\u001b[1;32m    208\u001b[0m }\n\u001b[1;32m    209\u001b[0m \u001b[39mreturn\u001b[39;00m model_outputs\n",
      "File \u001b[0;32m~/opt/miniconda3/envs/NLP/lib/python3.9/site-packages/torch/nn/modules/module.py:1130\u001b[0m, in \u001b[0;36mModule._call_impl\u001b[0;34m(self, *input, **kwargs)\u001b[0m\n\u001b[1;32m   1126\u001b[0m \u001b[39m# If we don't have any hooks, we want to skip the rest of the logic in\u001b[39;00m\n\u001b[1;32m   1127\u001b[0m \u001b[39m# this function, and just call forward.\u001b[39;00m\n\u001b[1;32m   1128\u001b[0m \u001b[39mif\u001b[39;00m \u001b[39mnot\u001b[39;00m (\u001b[39mself\u001b[39m\u001b[39m.\u001b[39m_backward_hooks \u001b[39mor\u001b[39;00m \u001b[39mself\u001b[39m\u001b[39m.\u001b[39m_forward_hooks \u001b[39mor\u001b[39;00m \u001b[39mself\u001b[39m\u001b[39m.\u001b[39m_forward_pre_hooks \u001b[39mor\u001b[39;00m _global_backward_hooks\n\u001b[1;32m   1129\u001b[0m         \u001b[39mor\u001b[39;00m _global_forward_hooks \u001b[39mor\u001b[39;00m _global_forward_pre_hooks):\n\u001b[0;32m-> 1130\u001b[0m     \u001b[39mreturn\u001b[39;00m forward_call(\u001b[39m*\u001b[39;49m\u001b[39minput\u001b[39;49m, \u001b[39m*\u001b[39;49m\u001b[39m*\u001b[39;49mkwargs)\n\u001b[1;32m   1131\u001b[0m \u001b[39m# Do not call functions when jit is used\u001b[39;00m\n\u001b[1;32m   1132\u001b[0m full_backward_hooks, non_full_backward_hooks \u001b[39m=\u001b[39m [], []\n",
      "File \u001b[0;32m~/opt/miniconda3/envs/NLP/lib/python3.9/site-packages/transformers/models/bart/modeling_bart.py:1507\u001b[0m, in \u001b[0;36mBartForSequenceClassification.forward\u001b[0;34m(self, input_ids, attention_mask, decoder_input_ids, decoder_attention_mask, head_mask, decoder_head_mask, cross_attn_head_mask, encoder_outputs, inputs_embeds, decoder_inputs_embeds, labels, use_cache, output_attentions, output_hidden_states, return_dict)\u001b[0m\n\u001b[1;32m   1502\u001b[0m \u001b[39mif\u001b[39;00m input_ids \u001b[39mis\u001b[39;00m \u001b[39mNone\u001b[39;00m \u001b[39mand\u001b[39;00m inputs_embeds \u001b[39mis\u001b[39;00m \u001b[39mnot\u001b[39;00m \u001b[39mNone\u001b[39;00m:\n\u001b[1;32m   1503\u001b[0m     \u001b[39mraise\u001b[39;00m \u001b[39mNotImplementedError\u001b[39;00m(\n\u001b[1;32m   1504\u001b[0m         \u001b[39mf\u001b[39m\u001b[39m\"\u001b[39m\u001b[39mPassing input embeddings is currently not supported for \u001b[39m\u001b[39m{\u001b[39;00m\u001b[39mself\u001b[39m\u001b[39m.\u001b[39m\u001b[39m__class__\u001b[39m\u001b[39m.\u001b[39m\u001b[39m__name__\u001b[39m\u001b[39m}\u001b[39;00m\u001b[39m\"\u001b[39m\n\u001b[1;32m   1505\u001b[0m     )\n\u001b[0;32m-> 1507\u001b[0m outputs \u001b[39m=\u001b[39m \u001b[39mself\u001b[39;49m\u001b[39m.\u001b[39;49mmodel(\n\u001b[1;32m   1508\u001b[0m     input_ids,\n\u001b[1;32m   1509\u001b[0m     attention_mask\u001b[39m=\u001b[39;49mattention_mask,\n\u001b[1;32m   1510\u001b[0m     decoder_input_ids\u001b[39m=\u001b[39;49mdecoder_input_ids,\n\u001b[1;32m   1511\u001b[0m     decoder_attention_mask\u001b[39m=\u001b[39;49mdecoder_attention_mask,\n\u001b[1;32m   1512\u001b[0m     head_mask\u001b[39m=\u001b[39;49mhead_mask,\n\u001b[1;32m   1513\u001b[0m     decoder_head_mask\u001b[39m=\u001b[39;49mdecoder_head_mask,\n\u001b[1;32m   1514\u001b[0m     cross_attn_head_mask\u001b[39m=\u001b[39;49mcross_attn_head_mask,\n\u001b[1;32m   1515\u001b[0m     encoder_outputs\u001b[39m=\u001b[39;49mencoder_outputs,\n\u001b[1;32m   1516\u001b[0m     inputs_embeds\u001b[39m=\u001b[39;49minputs_embeds,\n\u001b[1;32m   1517\u001b[0m     decoder_inputs_embeds\u001b[39m=\u001b[39;49mdecoder_inputs_embeds,\n\u001b[1;32m   1518\u001b[0m     use_cache\u001b[39m=\u001b[39;49muse_cache,\n\u001b[1;32m   1519\u001b[0m     output_attentions\u001b[39m=\u001b[39;49moutput_attentions,\n\u001b[1;32m   1520\u001b[0m     output_hidden_states\u001b[39m=\u001b[39;49moutput_hidden_states,\n\u001b[1;32m   1521\u001b[0m     return_dict\u001b[39m=\u001b[39;49mreturn_dict,\n\u001b[1;32m   1522\u001b[0m )\n\u001b[1;32m   1523\u001b[0m hidden_states \u001b[39m=\u001b[39m outputs[\u001b[39m0\u001b[39m]  \u001b[39m# last hidden state\u001b[39;00m\n\u001b[1;32m   1525\u001b[0m eos_mask \u001b[39m=\u001b[39m input_ids\u001b[39m.\u001b[39meq(\u001b[39mself\u001b[39m\u001b[39m.\u001b[39mconfig\u001b[39m.\u001b[39meos_token_id)\n",
      "File \u001b[0;32m~/opt/miniconda3/envs/NLP/lib/python3.9/site-packages/torch/nn/modules/module.py:1130\u001b[0m, in \u001b[0;36mModule._call_impl\u001b[0;34m(self, *input, **kwargs)\u001b[0m\n\u001b[1;32m   1126\u001b[0m \u001b[39m# If we don't have any hooks, we want to skip the rest of the logic in\u001b[39;00m\n\u001b[1;32m   1127\u001b[0m \u001b[39m# this function, and just call forward.\u001b[39;00m\n\u001b[1;32m   1128\u001b[0m \u001b[39mif\u001b[39;00m \u001b[39mnot\u001b[39;00m (\u001b[39mself\u001b[39m\u001b[39m.\u001b[39m_backward_hooks \u001b[39mor\u001b[39;00m \u001b[39mself\u001b[39m\u001b[39m.\u001b[39m_forward_hooks \u001b[39mor\u001b[39;00m \u001b[39mself\u001b[39m\u001b[39m.\u001b[39m_forward_pre_hooks \u001b[39mor\u001b[39;00m _global_backward_hooks\n\u001b[1;32m   1129\u001b[0m         \u001b[39mor\u001b[39;00m _global_forward_hooks \u001b[39mor\u001b[39;00m _global_forward_pre_hooks):\n\u001b[0;32m-> 1130\u001b[0m     \u001b[39mreturn\u001b[39;00m forward_call(\u001b[39m*\u001b[39;49m\u001b[39minput\u001b[39;49m, \u001b[39m*\u001b[39;49m\u001b[39m*\u001b[39;49mkwargs)\n\u001b[1;32m   1131\u001b[0m \u001b[39m# Do not call functions when jit is used\u001b[39;00m\n\u001b[1;32m   1132\u001b[0m full_backward_hooks, non_full_backward_hooks \u001b[39m=\u001b[39m [], []\n",
      "File \u001b[0;32m~/opt/miniconda3/envs/NLP/lib/python3.9/site-packages/transformers/models/bart/modeling_bart.py:1231\u001b[0m, in \u001b[0;36mBartModel.forward\u001b[0;34m(self, input_ids, attention_mask, decoder_input_ids, decoder_attention_mask, head_mask, decoder_head_mask, cross_attn_head_mask, encoder_outputs, past_key_values, inputs_embeds, decoder_inputs_embeds, use_cache, output_attentions, output_hidden_states, return_dict)\u001b[0m\n\u001b[1;32m   1228\u001b[0m return_dict \u001b[39m=\u001b[39m return_dict \u001b[39mif\u001b[39;00m return_dict \u001b[39mis\u001b[39;00m \u001b[39mnot\u001b[39;00m \u001b[39mNone\u001b[39;00m \u001b[39melse\u001b[39;00m \u001b[39mself\u001b[39m\u001b[39m.\u001b[39mconfig\u001b[39m.\u001b[39muse_return_dict\n\u001b[1;32m   1230\u001b[0m \u001b[39mif\u001b[39;00m encoder_outputs \u001b[39mis\u001b[39;00m \u001b[39mNone\u001b[39;00m:\n\u001b[0;32m-> 1231\u001b[0m     encoder_outputs \u001b[39m=\u001b[39m \u001b[39mself\u001b[39;49m\u001b[39m.\u001b[39;49mencoder(\n\u001b[1;32m   1232\u001b[0m         input_ids\u001b[39m=\u001b[39;49minput_ids,\n\u001b[1;32m   1233\u001b[0m         attention_mask\u001b[39m=\u001b[39;49mattention_mask,\n\u001b[1;32m   1234\u001b[0m         head_mask\u001b[39m=\u001b[39;49mhead_mask,\n\u001b[1;32m   1235\u001b[0m         inputs_embeds\u001b[39m=\u001b[39;49minputs_embeds,\n\u001b[1;32m   1236\u001b[0m         output_attentions\u001b[39m=\u001b[39;49moutput_attentions,\n\u001b[1;32m   1237\u001b[0m         output_hidden_states\u001b[39m=\u001b[39;49moutput_hidden_states,\n\u001b[1;32m   1238\u001b[0m         return_dict\u001b[39m=\u001b[39;49mreturn_dict,\n\u001b[1;32m   1239\u001b[0m     )\n\u001b[1;32m   1240\u001b[0m \u001b[39m# If the user passed a tuple for encoder_outputs, we wrap it in a BaseModelOutput when return_dict=True\u001b[39;00m\n\u001b[1;32m   1241\u001b[0m \u001b[39melif\u001b[39;00m return_dict \u001b[39mand\u001b[39;00m \u001b[39mnot\u001b[39;00m \u001b[39misinstance\u001b[39m(encoder_outputs, BaseModelOutput):\n",
      "File \u001b[0;32m~/opt/miniconda3/envs/NLP/lib/python3.9/site-packages/torch/nn/modules/module.py:1130\u001b[0m, in \u001b[0;36mModule._call_impl\u001b[0;34m(self, *input, **kwargs)\u001b[0m\n\u001b[1;32m   1126\u001b[0m \u001b[39m# If we don't have any hooks, we want to skip the rest of the logic in\u001b[39;00m\n\u001b[1;32m   1127\u001b[0m \u001b[39m# this function, and just call forward.\u001b[39;00m\n\u001b[1;32m   1128\u001b[0m \u001b[39mif\u001b[39;00m \u001b[39mnot\u001b[39;00m (\u001b[39mself\u001b[39m\u001b[39m.\u001b[39m_backward_hooks \u001b[39mor\u001b[39;00m \u001b[39mself\u001b[39m\u001b[39m.\u001b[39m_forward_hooks \u001b[39mor\u001b[39;00m \u001b[39mself\u001b[39m\u001b[39m.\u001b[39m_forward_pre_hooks \u001b[39mor\u001b[39;00m _global_backward_hooks\n\u001b[1;32m   1129\u001b[0m         \u001b[39mor\u001b[39;00m _global_forward_hooks \u001b[39mor\u001b[39;00m _global_forward_pre_hooks):\n\u001b[0;32m-> 1130\u001b[0m     \u001b[39mreturn\u001b[39;00m forward_call(\u001b[39m*\u001b[39;49m\u001b[39minput\u001b[39;49m, \u001b[39m*\u001b[39;49m\u001b[39m*\u001b[39;49mkwargs)\n\u001b[1;32m   1131\u001b[0m \u001b[39m# Do not call functions when jit is used\u001b[39;00m\n\u001b[1;32m   1132\u001b[0m full_backward_hooks, non_full_backward_hooks \u001b[39m=\u001b[39m [], []\n",
      "File \u001b[0;32m~/opt/miniconda3/envs/NLP/lib/python3.9/site-packages/transformers/models/bart/modeling_bart.py:850\u001b[0m, in \u001b[0;36mBartEncoder.forward\u001b[0;34m(self, input_ids, attention_mask, head_mask, inputs_embeds, output_attentions, output_hidden_states, return_dict)\u001b[0m\n\u001b[1;32m    843\u001b[0m         layer_outputs \u001b[39m=\u001b[39m torch\u001b[39m.\u001b[39mutils\u001b[39m.\u001b[39mcheckpoint\u001b[39m.\u001b[39mcheckpoint(\n\u001b[1;32m    844\u001b[0m             create_custom_forward(encoder_layer),\n\u001b[1;32m    845\u001b[0m             hidden_states,\n\u001b[1;32m    846\u001b[0m             attention_mask,\n\u001b[1;32m    847\u001b[0m             (head_mask[idx] \u001b[39mif\u001b[39;00m head_mask \u001b[39mis\u001b[39;00m \u001b[39mnot\u001b[39;00m \u001b[39mNone\u001b[39;00m \u001b[39melse\u001b[39;00m \u001b[39mNone\u001b[39;00m),\n\u001b[1;32m    848\u001b[0m         )\n\u001b[1;32m    849\u001b[0m     \u001b[39melse\u001b[39;00m:\n\u001b[0;32m--> 850\u001b[0m         layer_outputs \u001b[39m=\u001b[39m encoder_layer(\n\u001b[1;32m    851\u001b[0m             hidden_states,\n\u001b[1;32m    852\u001b[0m             attention_mask,\n\u001b[1;32m    853\u001b[0m             layer_head_mask\u001b[39m=\u001b[39;49m(head_mask[idx] \u001b[39mif\u001b[39;49;00m head_mask \u001b[39mis\u001b[39;49;00m \u001b[39mnot\u001b[39;49;00m \u001b[39mNone\u001b[39;49;00m \u001b[39melse\u001b[39;49;00m \u001b[39mNone\u001b[39;49;00m),\n\u001b[1;32m    854\u001b[0m             output_attentions\u001b[39m=\u001b[39;49moutput_attentions,\n\u001b[1;32m    855\u001b[0m         )\n\u001b[1;32m    857\u001b[0m     hidden_states \u001b[39m=\u001b[39m layer_outputs[\u001b[39m0\u001b[39m]\n\u001b[1;32m    859\u001b[0m \u001b[39mif\u001b[39;00m output_attentions:\n",
      "File \u001b[0;32m~/opt/miniconda3/envs/NLP/lib/python3.9/site-packages/torch/nn/modules/module.py:1130\u001b[0m, in \u001b[0;36mModule._call_impl\u001b[0;34m(self, *input, **kwargs)\u001b[0m\n\u001b[1;32m   1126\u001b[0m \u001b[39m# If we don't have any hooks, we want to skip the rest of the logic in\u001b[39;00m\n\u001b[1;32m   1127\u001b[0m \u001b[39m# this function, and just call forward.\u001b[39;00m\n\u001b[1;32m   1128\u001b[0m \u001b[39mif\u001b[39;00m \u001b[39mnot\u001b[39;00m (\u001b[39mself\u001b[39m\u001b[39m.\u001b[39m_backward_hooks \u001b[39mor\u001b[39;00m \u001b[39mself\u001b[39m\u001b[39m.\u001b[39m_forward_hooks \u001b[39mor\u001b[39;00m \u001b[39mself\u001b[39m\u001b[39m.\u001b[39m_forward_pre_hooks \u001b[39mor\u001b[39;00m _global_backward_hooks\n\u001b[1;32m   1129\u001b[0m         \u001b[39mor\u001b[39;00m _global_forward_hooks \u001b[39mor\u001b[39;00m _global_forward_pre_hooks):\n\u001b[0;32m-> 1130\u001b[0m     \u001b[39mreturn\u001b[39;00m forward_call(\u001b[39m*\u001b[39;49m\u001b[39minput\u001b[39;49m, \u001b[39m*\u001b[39;49m\u001b[39m*\u001b[39;49mkwargs)\n\u001b[1;32m   1131\u001b[0m \u001b[39m# Do not call functions when jit is used\u001b[39;00m\n\u001b[1;32m   1132\u001b[0m full_backward_hooks, non_full_backward_hooks \u001b[39m=\u001b[39m [], []\n",
      "File \u001b[0;32m~/opt/miniconda3/envs/NLP/lib/python3.9/site-packages/transformers/models/bart/modeling_bart.py:325\u001b[0m, in \u001b[0;36mBartEncoderLayer.forward\u001b[0;34m(self, hidden_states, attention_mask, layer_head_mask, output_attentions)\u001b[0m\n\u001b[1;32m    313\u001b[0m \u001b[39m\"\"\"\u001b[39;00m\n\u001b[1;32m    314\u001b[0m \u001b[39mArgs:\u001b[39;00m\n\u001b[1;32m    315\u001b[0m \u001b[39m    hidden_states (`torch.FloatTensor`): input to the layer of shape `(seq_len, batch, embed_dim)`\u001b[39;00m\n\u001b[0;32m   (...)\u001b[0m\n\u001b[1;32m    322\u001b[0m \u001b[39m        returned tensors for more detail.\u001b[39;00m\n\u001b[1;32m    323\u001b[0m \u001b[39m\"\"\"\u001b[39;00m\n\u001b[1;32m    324\u001b[0m residual \u001b[39m=\u001b[39m hidden_states\n\u001b[0;32m--> 325\u001b[0m hidden_states, attn_weights, _ \u001b[39m=\u001b[39m \u001b[39mself\u001b[39;49m\u001b[39m.\u001b[39;49mself_attn(\n\u001b[1;32m    326\u001b[0m     hidden_states\u001b[39m=\u001b[39;49mhidden_states,\n\u001b[1;32m    327\u001b[0m     attention_mask\u001b[39m=\u001b[39;49mattention_mask,\n\u001b[1;32m    328\u001b[0m     layer_head_mask\u001b[39m=\u001b[39;49mlayer_head_mask,\n\u001b[1;32m    329\u001b[0m     output_attentions\u001b[39m=\u001b[39;49moutput_attentions,\n\u001b[1;32m    330\u001b[0m )\n\u001b[1;32m    331\u001b[0m hidden_states \u001b[39m=\u001b[39m nn\u001b[39m.\u001b[39mfunctional\u001b[39m.\u001b[39mdropout(hidden_states, p\u001b[39m=\u001b[39m\u001b[39mself\u001b[39m\u001b[39m.\u001b[39mdropout, training\u001b[39m=\u001b[39m\u001b[39mself\u001b[39m\u001b[39m.\u001b[39mtraining)\n\u001b[1;32m    332\u001b[0m hidden_states \u001b[39m=\u001b[39m residual \u001b[39m+\u001b[39m hidden_states\n",
      "File \u001b[0;32m~/opt/miniconda3/envs/NLP/lib/python3.9/site-packages/torch/nn/modules/module.py:1130\u001b[0m, in \u001b[0;36mModule._call_impl\u001b[0;34m(self, *input, **kwargs)\u001b[0m\n\u001b[1;32m   1126\u001b[0m \u001b[39m# If we don't have any hooks, we want to skip the rest of the logic in\u001b[39;00m\n\u001b[1;32m   1127\u001b[0m \u001b[39m# this function, and just call forward.\u001b[39;00m\n\u001b[1;32m   1128\u001b[0m \u001b[39mif\u001b[39;00m \u001b[39mnot\u001b[39;00m (\u001b[39mself\u001b[39m\u001b[39m.\u001b[39m_backward_hooks \u001b[39mor\u001b[39;00m \u001b[39mself\u001b[39m\u001b[39m.\u001b[39m_forward_hooks \u001b[39mor\u001b[39;00m \u001b[39mself\u001b[39m\u001b[39m.\u001b[39m_forward_pre_hooks \u001b[39mor\u001b[39;00m _global_backward_hooks\n\u001b[1;32m   1129\u001b[0m         \u001b[39mor\u001b[39;00m _global_forward_hooks \u001b[39mor\u001b[39;00m _global_forward_pre_hooks):\n\u001b[0;32m-> 1130\u001b[0m     \u001b[39mreturn\u001b[39;00m forward_call(\u001b[39m*\u001b[39;49m\u001b[39minput\u001b[39;49m, \u001b[39m*\u001b[39;49m\u001b[39m*\u001b[39;49mkwargs)\n\u001b[1;32m   1131\u001b[0m \u001b[39m# Do not call functions when jit is used\u001b[39;00m\n\u001b[1;32m   1132\u001b[0m full_backward_hooks, non_full_backward_hooks \u001b[39m=\u001b[39m [], []\n",
      "File \u001b[0;32m~/opt/miniconda3/envs/NLP/lib/python3.9/site-packages/transformers/models/bart/modeling_bart.py:193\u001b[0m, in \u001b[0;36mBartAttention.forward\u001b[0;34m(self, hidden_states, key_value_states, past_key_value, attention_mask, layer_head_mask, output_attentions)\u001b[0m\n\u001b[1;32m    190\u001b[0m bsz, tgt_len, _ \u001b[39m=\u001b[39m hidden_states\u001b[39m.\u001b[39msize()\n\u001b[1;32m    192\u001b[0m \u001b[39m# get query proj\u001b[39;00m\n\u001b[0;32m--> 193\u001b[0m query_states \u001b[39m=\u001b[39m \u001b[39mself\u001b[39;49m\u001b[39m.\u001b[39;49mq_proj(hidden_states) \u001b[39m*\u001b[39m \u001b[39mself\u001b[39m\u001b[39m.\u001b[39mscaling\n\u001b[1;32m    194\u001b[0m \u001b[39m# get key, value proj\u001b[39;00m\n\u001b[1;32m    195\u001b[0m \u001b[39mif\u001b[39;00m is_cross_attention \u001b[39mand\u001b[39;00m past_key_value \u001b[39mis\u001b[39;00m \u001b[39mnot\u001b[39;00m \u001b[39mNone\u001b[39;00m:\n\u001b[1;32m    196\u001b[0m     \u001b[39m# reuse k,v, cross_attentions\u001b[39;00m\n",
      "File \u001b[0;32m~/opt/miniconda3/envs/NLP/lib/python3.9/site-packages/torch/nn/modules/module.py:1130\u001b[0m, in \u001b[0;36mModule._call_impl\u001b[0;34m(self, *input, **kwargs)\u001b[0m\n\u001b[1;32m   1126\u001b[0m \u001b[39m# If we don't have any hooks, we want to skip the rest of the logic in\u001b[39;00m\n\u001b[1;32m   1127\u001b[0m \u001b[39m# this function, and just call forward.\u001b[39;00m\n\u001b[1;32m   1128\u001b[0m \u001b[39mif\u001b[39;00m \u001b[39mnot\u001b[39;00m (\u001b[39mself\u001b[39m\u001b[39m.\u001b[39m_backward_hooks \u001b[39mor\u001b[39;00m \u001b[39mself\u001b[39m\u001b[39m.\u001b[39m_forward_hooks \u001b[39mor\u001b[39;00m \u001b[39mself\u001b[39m\u001b[39m.\u001b[39m_forward_pre_hooks \u001b[39mor\u001b[39;00m _global_backward_hooks\n\u001b[1;32m   1129\u001b[0m         \u001b[39mor\u001b[39;00m _global_forward_hooks \u001b[39mor\u001b[39;00m _global_forward_pre_hooks):\n\u001b[0;32m-> 1130\u001b[0m     \u001b[39mreturn\u001b[39;00m forward_call(\u001b[39m*\u001b[39;49m\u001b[39minput\u001b[39;49m, \u001b[39m*\u001b[39;49m\u001b[39m*\u001b[39;49mkwargs)\n\u001b[1;32m   1131\u001b[0m \u001b[39m# Do not call functions when jit is used\u001b[39;00m\n\u001b[1;32m   1132\u001b[0m full_backward_hooks, non_full_backward_hooks \u001b[39m=\u001b[39m [], []\n",
      "File \u001b[0;32m~/opt/miniconda3/envs/NLP/lib/python3.9/site-packages/torch/nn/modules/linear.py:114\u001b[0m, in \u001b[0;36mLinear.forward\u001b[0;34m(self, input)\u001b[0m\n\u001b[1;32m    113\u001b[0m \u001b[39mdef\u001b[39;00m \u001b[39mforward\u001b[39m(\u001b[39mself\u001b[39m, \u001b[39minput\u001b[39m: Tensor) \u001b[39m-\u001b[39m\u001b[39m>\u001b[39m Tensor:\n\u001b[0;32m--> 114\u001b[0m     \u001b[39mreturn\u001b[39;00m F\u001b[39m.\u001b[39;49mlinear(\u001b[39minput\u001b[39;49m, \u001b[39mself\u001b[39;49m\u001b[39m.\u001b[39;49mweight, \u001b[39mself\u001b[39;49m\u001b[39m.\u001b[39;49mbias)\n",
      "\u001b[0;31mKeyboardInterrupt\u001b[0m: "
     ]
    }
   ],
   "source": [
    "get_topical_sentences_pip(sentences, topics)"
   ]
  },
  {
   "cell_type": "code",
   "execution_count": null,
   "metadata": {},
   "outputs": [
    {
     "name": "stderr",
     "output_type": "stream",
     "text": [
      "No model was supplied, defaulted to facebook/bart-large-mnli and revision c626438 (https://huggingface.co/facebook/bart-large-mnli).\n",
      "Using a pipeline without specifying a model name and revision in production is not recommended.\n",
      "  0%|          | 0/4880 [00:07<?, ?it/s]\n"
     ]
    },
    {
     "ename": "KeyError",
     "evalue": "'Infrastruktur'",
     "output_type": "error",
     "traceback": [
      "\u001b[0;31m---------------------------------------------------------------------------\u001b[0m",
      "\u001b[0;31mKeyError\u001b[0m                                  Traceback (most recent call last)",
      "Cell \u001b[0;32mIn[351], line 1\u001b[0m\n\u001b[0;32m----> 1\u001b[0m plot_topical_presence_nlp_pip(\n\u001b[1;32m      2\u001b[0m     sentences, \n\u001b[1;32m      3\u001b[0m     topics, \n\u001b[1;32m      4\u001b[0m     title\u001b[39m=\u001b[39;49m\u001b[39mf\u001b[39;49m\u001b[39m\"\u001b[39;49m\u001b[39mPresença de tópicos no programa do partido \u001b[39;49m\u001b[39m{\u001b[39;49;00mselected_party\u001b[39m.\u001b[39;49mupper()\u001b[39m}\u001b[39;49;00m\u001b[39m\"\u001b[39;49m,\n\u001b[1;32m      5\u001b[0m     color\u001b[39m=\u001b[39;49mparty_data[selected_party][\u001b[39m\"\u001b[39;49m\u001b[39mcolor\u001b[39;49m\u001b[39m\"\u001b[39;49m],\n\u001b[1;32m      6\u001b[0m )\n",
      "Cell \u001b[0;32mIn[348], line 25\u001b[0m, in \u001b[0;36mplot_topical_presence_nlp_pip\u001b[0;34m(sentences, topics, title, color, height)\u001b[0m\n\u001b[1;32m      1\u001b[0m \u001b[39mdef\u001b[39;00m \u001b[39mplot_topical_presence_nlp_pip\u001b[39m(\n\u001b[1;32m      2\u001b[0m     sentences: List[\u001b[39mstr\u001b[39m],\n\u001b[1;32m      3\u001b[0m     topics:List[\u001b[39mstr\u001b[39m],\n\u001b[0;32m   (...)\u001b[0m\n\u001b[1;32m      6\u001b[0m     height: \u001b[39mint\u001b[39m \u001b[39m=\u001b[39m \u001b[39m300\u001b[39m,\n\u001b[1;32m      7\u001b[0m ) :\n\u001b[1;32m      8\u001b[0m     \u001b[39m\"\"\"\u001b[39;00m\n\u001b[1;32m      9\u001b[0m \u001b[39m    Plot the number of sentences per topic.\u001b[39;00m\n\u001b[1;32m     10\u001b[0m \u001b[39m    Args:\u001b[39;00m\n\u001b[0;32m   (...)\u001b[0m\n\u001b[1;32m     23\u001b[0m \u001b[39m            Plotly figure with the number of sentences per topic.\u001b[39;00m\n\u001b[1;32m     24\u001b[0m \u001b[39m    \"\"\"\u001b[39;00m\n\u001b[0;32m---> 25\u001b[0m     topical_sentences \u001b[39m=\u001b[39m get_topical_sentences_pip(sentences, topics)\n\u001b[1;32m     26\u001b[0m     topic_sentence_count \u001b[39m=\u001b[39m \u001b[39mdict\u001b[39m()\n\u001b[1;32m     27\u001b[0m     \u001b[39mfor\u001b[39;00m topic \u001b[39min\u001b[39;00m topical_sentences\u001b[39m.\u001b[39mkeys():\n",
      "Cell \u001b[0;32mIn[347], line 22\u001b[0m, in \u001b[0;36mget_topical_sentences_pip\u001b[0;34m(sentences, topics)\u001b[0m\n\u001b[1;32m     20\u001b[0m \u001b[39mfor\u001b[39;00m sentence \u001b[39min\u001b[39;00m tqdm(sentences):\n\u001b[1;32m     21\u001b[0m     class_sent\u001b[39m=\u001b[39mclassifier(sentence, topic_list, multi_label\u001b[39m=\u001b[39m\u001b[39mTrue\u001b[39;00m)\n\u001b[0;32m---> 22\u001b[0m     topical_sentences[class_sent[\u001b[39m'\u001b[39;49m\u001b[39mlabels\u001b[39;49m\u001b[39m'\u001b[39;49m][\u001b[39mmax\u001b[39;49m(\u001b[39mrange\u001b[39;49m(\u001b[39mlen\u001b[39;49m(class_sent[\u001b[39m'\u001b[39;49m\u001b[39mscores\u001b[39;49m\u001b[39m'\u001b[39;49m])), key\u001b[39m=\u001b[39;49mclass_sent[\u001b[39m'\u001b[39;49m\u001b[39mscores\u001b[39;49m\u001b[39m'\u001b[39;49m]\u001b[39m.\u001b[39;49m\u001b[39m__getitem__\u001b[39;49m)]]\u001b[39m.\u001b[39mappend(sentence)\n\u001b[1;32m     23\u001b[0m \u001b[39mreturn\u001b[39;00m topical_sentences\n",
      "\u001b[0;31mKeyError\u001b[0m: 'Infrastruktur'"
     ]
    }
   ],
   "source": [
    "plot_topical_presence_nlp_pip(\n",
    "    sentences, \n",
    "    topics, \n",
    "    title=f\"Presença de Topics no programa do partido {selected_party.upper()}\",\n",
    "    color=party_data[selected_party][\"color\"],\n",
    ")"
   ]
  },
  {
   "cell_type": "markdown",
   "metadata": {},
   "source": []
  },
  {
   "cell_type": "code",
   "execution_count": null,
   "metadata": {},
   "outputs": [],
   "source": [
    "sequence = \"Die Wirtschaft verlief gut\"\n",
    "\n",
    "\n",
    "a=classifier(sequence, list(topics.keys()), multi_label=True)"
   ]
  },
  {
   "cell_type": "code",
   "execution_count": null,
   "metadata": {},
   "outputs": [
    {
     "name": "stdout",
     "output_type": "stream",
     "text": [
      "CPU times: user 6 µs, sys: 0 ns, total: 6 µs\n",
      "Wall time: 8.82 µs\n"
     ]
    },
    {
     "data": {
      "text/plain": [
       "'wirtschaft'"
      ]
     },
     "execution_count": 342,
     "metadata": {},
     "output_type": "execute_result"
    }
   ],
   "source": [
    "%%time\n",
    "\n",
    "a['labels'][max(range(len(a['scores'])), key=a['scores'].__getitem__)]"
   ]
  },
  {
   "cell_type": "code",
   "execution_count": null,
   "metadata": {},
   "outputs": [
    {
     "data": {
      "text/plain": [
       "{'sequence': 'Die Wirtschaft verlief gut',\n",
       " 'labels': ['wirtschaft',\n",
       "  'Klima',\n",
       "  'soziale Ursachen',\n",
       "  'Infrastruktur',\n",
       "  'Bildung',\n",
       "  'Gesundheit',\n",
       "  'Wissenschaft',\n",
       "  'Politik und Ideologie'],\n",
       " 'scores': [0.9855690002441406,\n",
       "  0.19884544610977173,\n",
       "  0.09111900627613068,\n",
       "  0.0037139991763979197,\n",
       "  0.0007422503549605608,\n",
       "  0.0007094655302353203,\n",
       "  0.0002491624909453094,\n",
       "  5.607574712485075e-05]}"
      ]
     },
     "execution_count": 333,
     "metadata": {},
     "output_type": "execute_result"
    }
   ],
   "source": [
    "a"
   ]
  },
  {
   "cell_type": "code",
   "execution_count": null,
   "metadata": {},
   "outputs": [],
   "source": []
  },
  {
   "cell_type": "code",
   "execution_count": null,
   "metadata": {},
   "outputs": [],
   "source": []
  },
  {
   "cell_type": "code",
   "execution_count": null,
   "metadata": {},
   "outputs": [],
   "source": []
  }
 ],
 "metadata": {
  "kernelspec": {
   "display_name": "Python 3",
   "language": "python",
   "name": "python3"
  },
  "language_info": {
   "codemirror_mode": {
    "name": "ipython",
    "version": 3
   },
   "file_extension": ".py",
   "mimetype": "text/x-python",
   "name": "python",
   "nbconvert_exporter": "python",
   "pygments_lexer": "ipython3",
   "version": "3.10.5"
  },
  "orig_nbformat": 4,
  "vscode": {
   "interpreter": {
    "hash": "864e1f20dbb28239d950687f39028fbb4c0d085af87de4b77635b27f74266f13"
   }
  }
 },
 "nbformat": 4,
 "nbformat_minor": 2
}
