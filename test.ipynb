{
 "cells": [
  {
   "attachments": {},
   "cell_type": "markdown",
   "metadata": {},
   "source": [
    "### Data Files bearbeiten und neu speichern"
   ]
  },
  {
   "cell_type": "code",
   "execution_count": 2,
   "metadata": {},
   "outputs": [
    {
     "name": "stdout",
     "output_type": "stream",
     "text": [
      "Processing file: FDP_Wahlprogramm_2021_topic_class.csv\n",
      "Processing file: AFD_Wahlprogramm_2021_sentiment.csv\n",
      "Processing file: SPD_Wahlprogramm_2021_topicpred_valhalla.csv\n",
      "Processing file: FDP_Wahlprogramm_2021_hate.csv\n",
      "Processing file: CDU-CSU_Wahlprogramm_2021_hate.csv\n",
      "Processing file: DIE_LINKE_Wahlprogramm_2021_topic_class.csv\n",
      "Processing file: DIE_LINKE_Wahlprogramm_2021_hate.csv\n",
      "Processing file: DIE_LINKE_Wahlprogramm_2021_topicpred_valhalla.csv\n",
      "Processing file: AFD_Wahlprogramm_2021_topicpred_valhalla.csv\n",
      "Processing file: DIE_GRUENEN_Wahlprogramm_2021_sentiment.csv\n",
      "Processing file: DIE_GRUENEN_Wahlprogramm_2021_topicpred_valhalla.csv\n",
      "Processing file: CDU-CSU_Wahlprogramm_2021_topic_class.csv\n",
      "Processing file: AFD_Wahlprogramm_2021_hate.csv\n",
      "Processing file: DIE_GRUENEN_Wahlprogramm_2021_topic_class.csv\n",
      "Processing file: FDP_Wahlprogramm_2021_topicpred_valhalla.csv\n",
      "Processing file: CDU-CSU_Wahlprogramm_2021_sentiment.csv\n",
      "Processing file: DIE_GRUENEN_Wahlprogramm_2021_hate.csv\n",
      "Processing file: SPD_Wahlprogramm_2021_sentiment.csv\n",
      "Processing file: AFD_Wahlprogramm_2021_topic_class.csv\n",
      "Processing file: DIE_LINKE_Wahlprogramm_2021_sentiment.csv\n",
      "Processing file: SPD_Wahlprogramm_2021_topic_class.csv\n",
      "Processing file: CDU-CSU_Wahlprogramm_2021_topicpred_valhalla.csv\n",
      "Processing file: SPD_Wahlprogramm_2021_hate.csv\n",
      "Processing file: FDP_Wahlprogramm_2021_sentiment.csv\n"
     ]
    }
   ],
   "source": [
    "import os\n",
    "def format_data(input_dir):\n",
    "    ### Iteriere über Ordner und prozessiere alle Dateien mit \"Wahlprogramm\" im Namen\n",
    "    for filename in os.listdir(input_dir):\n",
    "        if \"programm\" in filename and \"fin\" not in filename and \".csv\" in filename:\n",
    "            print(f\"Processing file: {filename}\")\n",
    "            \n",
    "            ### Prozessierung\n",
    "            with open(f\"model_results_data/{filename}\", \"r\", encoding=\"utf8\") as file: \n",
    "                filedata = file.read()\n",
    "                filedata = filedata.replace(';', ' -')\n",
    "                filedata = filedata.replace('§', ';')\n",
    "            ### Speichern in separate .csv file\n",
    "            with open(f\"plotdata/{filename[:-4]}fin.csv\", 'w', encoding=\"utf8\") as file:\n",
    "                file.write(filedata)\n",
    "        else:\n",
    "            continue\n",
    "format_data(\"/Users/constantin/Documents/DHBW/5-Semster/NLP/NLP/model_results_data\") # delted dir with data after th use of this function"
   ]
  },
  {
   "attachments": {},
   "cell_type": "markdown",
   "metadata": {},
   "source": [
    "### DataFrame Erstellung für Ploterstellung"
   ]
  },
  {
   "cell_type": "code",
   "execution_count": 3,
   "metadata": {},
   "outputs": [],
   "source": [
    "import pandas as pd\n",
    "import plotly.express as px\n",
    "\n",
    "def gettopicpredlistvalhalla():\n",
    "    topicdflist=[]\n",
    "    topicpredlist=[\"AFD_Wahlprogramm_2021_topicpred_valhallafin.csv\",\n",
    "                \"CDU-CSU_Wahlprogramm_2021_topicpred_valhallafin.csv\",\n",
    "                \"DIE_GRUENEN_Wahlprogramm_2021_topicpred_valhallafin.csv\",\n",
    "                \"DIE_LINKE_Wahlprogramm_2021_topicpred_valhallafin.csv\",\n",
    "                \"FDP_Wahlprogramm_2021_topicpred_valhallafin.csv\",\n",
    "                \"SPD_Wahlprogramm_2021_topicpred_valhallafin.csv\"]\n",
    "\n",
    "    for i in topicpredlist:\n",
    "        topicdflist+=[pd.read_csv(f\"plotdata/{i}\", sep=\";\")]\n",
    "    for i in topicdflist:\n",
    "        i.drop(columns = i.columns[0], axis = 1, inplace= True)\n",
    "        i.drop(columns = i.columns[0], axis = 1, inplace= True)\n",
    "        i.drop(columns = i.columns[1], axis = 1, inplace= True)\n",
    "        i.drop(columns = i.columns[1], axis = 1, inplace= True)\n",
    "    return topicdflist\n",
    "\n",
    "def gettopicpredlisttopic_class():\n",
    "    topicdflist=[]\n",
    "    topicpredlist=[\"AFD_Wahlprogramm_2021_topic_classfin.csv\",\n",
    "                \"CDU-CSU_Wahlprogramm_2021_topic_classfin.csv\",\n",
    "                \"DIE_GRUENEN_Wahlprogramm_2021_topic_classfin.csv\",\n",
    "                \"DIE_LINKE_Wahlprogramm_2021_topic_classfin.csv\",\n",
    "                \"FDP_Wahlprogramm_2021_topic_classfin.csv\",\n",
    "                \"SPD_Wahlprogramm_2021_topic_classfin.csv\"]\n",
    "    for i in topicpredlist:\n",
    "        topicdflist+=[pd.read_csv(f\"plotdata/{i}\", sep=\";\")]\n",
    "    for i in range(len(topicdflist)):\n",
    "        topicdflist[i].drop(columns = topicdflist[i].columns[0], axis = 1, inplace= True)\n",
    "        topicdflist[i].drop(columns = topicdflist[i].columns[0], axis = 1, inplace= True)\n",
    "        topicdflist[i] = topicdflist[i].rename(columns={'topic': 'labels'})\n",
    "    return topicdflist\n",
    "\n",
    "def getfindfohneSWert(topicsys):#create merged df für barabbildung ohne topicseparierung\n",
    "    if topicsys==\"valhalla\":\n",
    "        df3l=gettopicpredlistvalhalla()\n",
    "    elif topicsys==\"topic_class\":\n",
    "        df3l=gettopicpredlisttopic_class()\n",
    "    partrf=[\"AFD\",\"CDU-CSU\",\"GRUENE\",\"LINKE\",\"FDP\",\"SPD\"]\n",
    "    dfges=[]\n",
    "    for i in range(len(df3l)):\n",
    "        dfges+=[df3l[i]]\n",
    "\n",
    "    #drop lines with \"none\" as \"labels\"\n",
    "    for i in range(len(dfges)):\n",
    "        dfges[i]=dfges[i][dfges[i][\"labels\"]!=\"none\"].reset_index()\n",
    "\n",
    "    #Erstellung finales df\n",
    "    findata=[]\n",
    "    for i in range(len(dfges)):\n",
    "        for j in dfges[i][\"labels\"].unique(): #Partei, Thema, Themenanteil, Hateanteil, Sentimentpositivanteil, Sentimentnegativanteil, Sentimentneutralanteil\n",
    "            #print(dfges[i][dfges[i][\"Top 3\"]==j])\n",
    "            findata+=   [[partrf[i], \n",
    "                        j, \n",
    "                        round(dfges[i][dfges[i][\"labels\"]==j][\"labels\"].count(),6)]]\n",
    "    result = pd.DataFrame(findata, columns=['Partei','Topic','Score'])\n",
    "    #Generierung Prozentualer Anteile\n",
    "    return result\n",
    "\n",
    "def makecsv(df, name):\n",
    "    df.to_csv(f\"plotcsv/{name}\", sep=\";\")"
   ]
  },
  {
   "cell_type": "code",
   "execution_count": 4,
   "metadata": {},
   "outputs": [],
   "source": [
    "makecsv(getfindfohneSWert(\"valhalla\"), \"aggrvalhallatopicdata.csv\") \n",
    "makecsv(getfindfohneSWert(\"topic_class\"), \"aggrtopic_classtopicdata.csv\")"
   ]
  },
  {
   "attachments": {},
   "cell_type": "markdown",
   "metadata": {},
   "source": [
    "--> Plotdata dir will be deleted after this --> Plotcsv is the new dir for the plot data"
   ]
  }
 ],
 "metadata": {
  "kernelspec": {
   "display_name": "frotend-env",
   "language": "python",
   "name": "python3"
  },
  "language_info": {
   "codemirror_mode": {
    "name": "ipython",
    "version": 3
   },
   "file_extension": ".py",
   "mimetype": "text/x-python",
   "name": "python",
   "nbconvert_exporter": "python",
   "pygments_lexer": "ipython3",
   "version": "3.10.8"
  },
  "orig_nbformat": 4,
  "vscode": {
   "interpreter": {
    "hash": "9c871d5d4e7f796d9d0930e6f0050bdfbafb1ad105a6983be8a0eaed6f1845ab"
   }
  }
 },
 "nbformat": 4,
 "nbformat_minor": 2
}
