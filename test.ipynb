{
 "cells": [
  {
   "cell_type": "code",
   "execution_count": 3,
   "metadata": {},
   "outputs": [],
   "source": [
    "from transformers import pipeline\n",
    "\n",
    "import yaml\n",
    "import pandas as pd\n",
    "\n",
    "def load_yaml_file(file_path):\n",
    "    # reads the yml files as a dictionary, were each topic is a key and the values are a list of elements\n",
    "    with open(file_path, \"r\", encoding='UTF-8') as stream:\n",
    "        yaml_dict = yaml.safe_load(stream)\n",
    "        return yaml_dict\n",
    "\n",
    "\n",
    "\n",
    "\n",
    "def zeroshotNLP(text):\n",
    "    topics = load_yaml_file('data/topic_g.yml')\n",
    "    topic_list=[x.lower() for x in list(topics.keys())+['None']]\n",
    "    zeroshot = pipeline(\"zero-shot-classification\",\n",
    "                      model=\"valhalla/distilbart-mnli-12-1\")\n",
    "\n",
    "    preddict = zeroshot(text, topic_list)\n",
    "\n",
    "    return pd.DataFrame(preddict).drop(\"sequence\",axis =1).head(3)"
   ]
  },
  {
   "cell_type": "code",
   "execution_count": 4,
   "metadata": {},
   "outputs": [],
   "source": [
    "preddict = zeroshotNLP(\"Ich mag politische Diskussionen am meisten en die sind toll!\")"
   ]
  },
  {
   "cell_type": "code",
   "execution_count": 15,
   "metadata": {},
   "outputs": [
    {
     "data": {
      "text/plain": [
       "RangeIndex(start=0, stop=3, step=1)"
      ]
     },
     "execution_count": 15,
     "metadata": {},
     "output_type": "execute_result"
    }
   ],
   "source": [
    "pd.DataFrame(preddict).drop(\"sequence\",axis =1).head(3).index "
   ]
  },
  {
   "cell_type": "code",
   "execution_count": 16,
   "metadata": {},
   "outputs": [],
   "source": [
    "\n",
    "def hatespeachNLP(text):\n",
    "    hate_model_path = \"Hate-speech-CNERG/dehatebert-mono-german\"\n",
    "    hate_task = pipeline(\n",
    "        \"text-classification\", model=hate_model_path, tokenizer=hate_model_path\n",
    "    )\n",
    "    preddict = hate_task(text)[0]\n",
    "    return preddict"
   ]
  },
  {
   "cell_type": "code",
   "execution_count": 17,
   "metadata": {},
   "outputs": [],
   "source": [
    "preddict = hatespeachNLP(\"Ich mag politische Diskussionen am meisten en die sind toll!\")"
   ]
  },
  {
   "cell_type": "code",
   "execution_count": 18,
   "metadata": {},
   "outputs": [
    {
     "data": {
      "text/plain": [
       "{'label': 'NON_HATE', 'score': 0.9873091578483582}"
      ]
     },
     "execution_count": 18,
     "metadata": {},
     "output_type": "execute_result"
    }
   ],
   "source": [
    "preddict"
   ]
  },
  {
   "cell_type": "code",
   "execution_count": 36,
   "metadata": {},
   "outputs": [],
   "source": [
    "x = str(round(preddict[\"score\"],3)*100)\n",
    "y = preddict[\"label\"]"
   ]
  },
  {
   "cell_type": "code",
   "execution_count": 37,
   "metadata": {},
   "outputs": [
    {
     "data": {
      "text/plain": [
       "'Mit einer Wahrscheinlichkeit von \\x1b[1m98.7\\x1b[0m % sagt das Modell NON_HATE vorraus.'"
      ]
     },
     "execution_count": 37,
     "metadata": {},
     "output_type": "execute_result"
    }
   ],
   "source": [
    "f\"Mit einer Wahrscheinlichkeit von \\033[1m{x}\\033[0m % sagt das Modell {y} vorraus.\""
   ]
  },
  {
   "cell_type": "code",
   "execution_count": 35,
   "metadata": {},
   "outputs": [
    {
     "data": {
      "text/plain": [
       "98.7"
      ]
     },
     "execution_count": 35,
     "metadata": {},
     "output_type": "execute_result"
    }
   ],
   "source": [
    "x"
   ]
  },
  {
   "cell_type": "code",
   "execution_count": 4,
   "metadata": {},
   "outputs": [],
   "source": [
    "\n",
    "def sentimentNLP(text):\n",
    "    sentiment_model_path = \"cardiffnlp/twitter-xlm-roberta-base-sentiment\"\n",
    "    sentiment_task = pipeline(\n",
    "        \"sentiment-analysis\", model=sentiment_model_path, tokenizer=sentiment_model_path\n",
    "    )\n",
    "    preddict = sentiment_task(text)\n",
    "    return preddict"
   ]
  },
  {
   "cell_type": "code",
   "execution_count": 5,
   "metadata": {},
   "outputs": [
    {
     "data": {
      "text/plain": [
       "[{'label': 'positive', 'score': 0.941289484500885}]"
      ]
     },
     "execution_count": 5,
     "metadata": {},
     "output_type": "execute_result"
    }
   ],
   "source": [
    "preddict = sentimentNLP(\"Ich mag politische Diskussionen am meisten denn die sind toll!\")\n",
    "preddict"
   ]
  },
  {
   "cell_type": "code",
   "execution_count": null,
   "metadata": {},
   "outputs": [],
   "source": []
  }
 ],
 "metadata": {
  "kernelspec": {
   "display_name": "frotend-env",
   "language": "python",
   "name": "python3"
  },
  "language_info": {
   "codemirror_mode": {
    "name": "ipython",
    "version": 3
   },
   "file_extension": ".py",
   "mimetype": "text/x-python",
   "name": "python",
   "nbconvert_exporter": "python",
   "pygments_lexer": "ipython3",
   "version": "3.10.8"
  },
  "orig_nbformat": 4,
  "vscode": {
   "interpreter": {
    "hash": "9c871d5d4e7f796d9d0930e6f0050bdfbafb1ad105a6983be8a0eaed6f1845ab"
   }
  }
 },
 "nbformat": 4,
 "nbformat_minor": 2
}
