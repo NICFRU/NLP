{
 "cells": [
  {
   "cell_type": "markdown",
   "metadata": {},
   "source": [
    "# Imports"
   ]
  },
  {
   "cell_type": "code",
   "execution_count": 10,
   "metadata": {},
   "outputs": [],
   "source": [
    "import spacy\n",
    "import pandas as pd\n",
    "import matplotlib.pyplot as mltp\n",
    "from nltk.tokenize import word_tokenize, sent_tokenize\n",
    "import nltk\n",
    "import sklearn as sk\n",
    "import seaborn as sea\n",
    "import re \n",
    "from tqdm import tqdm"
   ]
  },
  {
   "cell_type": "code",
   "execution_count": null,
   "metadata": {},
   "outputs": [],
   "source": []
  },
  {
   "cell_type": "markdown",
   "metadata": {},
   "source": [
    "# processing"
   ]
  },
  {
   "cell_type": "code",
   "execution_count": 11,
   "metadata": {},
   "outputs": [],
   "source": [
    "filename='data/AFD_Wahlprogramm_2021.txt'"
   ]
  },
  {
   "cell_type": "code",
   "execution_count": 12,
   "metadata": {},
   "outputs": [],
   "source": [
    "with open(filename) as f:\n",
    "    text = f.read()\n",
    "    #text = text.replace(r'\\\\d+\\\\n', '$')\n",
    "    #text=   re.sub(\"\\n\\n\", \".\", text)\n",
    "    #text=   re.sub(\"\\d+.\", \".\", text)\n",
    "    text=   re.sub(\" \\d+\\n\", \".\", text)\n",
    "    text=   re.sub(\"\\n\\d+\", \" \", text)\n",
    "    text=   re.sub(\"\\n\", \" \", text)\n",
    "sentences = re.split(r' *[\\.\\?!][\\'\"\\)\\]]* *', text)"
   ]
  },
  {
   "cell_type": "code",
   "execution_count": 31,
   "metadata": {},
   "outputs": [
    {
     "data": {
      "text/plain": [
       "['Die ganze Stadt ist ein Startup: Shenzhen ist das Silicon Valley für Hardware-Firmen',\n",
       " 'Wie deutsche Startups die Technologie vorantreiben wollen: Künstliche Intelligenz',\n",
       " 'Trend zum Urlaub in Deutschland beschert Gastwirten mehr Umsatz',\n",
       " 'Bundesanwaltschaft erhebt Anklage gegen mutmaßlichen Schweizer Spion',\n",
       " 'San Francisco erwägt Verbot von Lieferrobotern',\n",
       " 'Autonome Fahrzeuge verlagern Haftpflicht auf Hersteller',\n",
       " 'Wo bist du?',\n",
       " 'Was ist die Hauptstadt von Deutschland?']"
      ]
     },
     "execution_count": 31,
     "metadata": {},
     "output_type": "execute_result"
    }
   ],
   "source": [
    "sentences"
   ]
  },
  {
   "cell_type": "code",
   "execution_count": 13,
   "metadata": {},
   "outputs": [],
   "source": [
    "text=sentences"
   ]
  },
  {
   "cell_type": "code",
   "execution_count": 14,
   "metadata": {},
   "outputs": [
    {
     "data": {
      "text/plain": [
       "2086"
      ]
     },
     "execution_count": 14,
     "metadata": {},
     "output_type": "execute_result"
    }
   ],
   "source": [
    "len(text)"
   ]
  },
  {
   "cell_type": "code",
   "execution_count": 15,
   "metadata": {},
   "outputs": [
    {
     "data": {
      "text/plain": [
       "[]"
      ]
     },
     "execution_count": 15,
     "metadata": {},
     "output_type": "execute_result"
    }
   ],
   "source": [
    "text[0:20:-1]"
   ]
  },
  {
   "cell_type": "code",
   "execution_count": 16,
   "metadata": {},
   "outputs": [],
   "source": [
    "import numpy as np\n",
    "import json\n",
    "import glob\n",
    "\n",
    "import gensim\n",
    "import gensim.corpora as corpora\n",
    "from gensim.utils import simple_preprocess\n",
    "from gensim.models import CoherenceModel\n",
    "\n",
    "import spacy\n",
    "from spacy.lang.de.examples import sentences \n",
    "from nltk.corpus import stopwords\n",
    "\n",
    "import pyLDAvis\n",
    "import pyLDAvis.gensim_models as gensimvis\n",
    "\n",
    "import pickle \n",
    "\n",
    "import warnings\n",
    "warnings.filterwarnings('ignore',category=DeprecationWarning)"
   ]
  },
  {
   "cell_type": "code",
   "execution_count": 17,
   "metadata": {},
   "outputs": [],
   "source": [
    "german_stop_words= stopwords.words('german')"
   ]
  },
  {
   "cell_type": "code",
   "execution_count": 18,
   "metadata": {},
   "outputs": [],
   "source": [
    "def lemmatization_test(texts,  allowed_posttags=['NOUN','ADJ','VERB','ADV']):\n",
    "    nlp=spacy.load('de_core_news_lg',disable=['parser','ner'])\n",
    "    texts_out=[]\n",
    "    for text in tqdm(texts):\n",
    "        doc= nlp(text)\n",
    "        new_text=[]\n",
    "        for token in doc:\n",
    "            if token.pos_ in allowed_posttags:\n",
    "                new_text.append(token.lemma_)\n",
    "        final=' '.join(new_text)\n",
    "        texts_out.append(final)\n",
    "    return texts_out"
   ]
  },
  {
   "cell_type": "code",
   "execution_count": 19,
   "metadata": {},
   "outputs": [
    {
     "name": "stderr",
     "output_type": "stream",
     "text": [
      "100%|██████████| 2086/2086 [00:04<00:00, 453.43it/s]\n"
     ]
    }
   ],
   "source": [
    "lemma_text=lemmatization_test(text)"
   ]
  },
  {
   "cell_type": "code",
   "execution_count": 20,
   "metadata": {},
   "outputs": [],
   "source": [
    "lemma_text = list(filter(None, lemma_text))"
   ]
  },
  {
   "cell_type": "code",
   "execution_count": 21,
   "metadata": {},
   "outputs": [],
   "source": [
    "def gen_words(texts):\n",
    "    final=[]\n",
    "    for text in tqdm(texts):\n",
    "        new= gensim.utils.simple_preprocess(text,deacc=True)\n",
    "        final.append(new)\n",
    "    return final"
   ]
  },
  {
   "cell_type": "code",
   "execution_count": 22,
   "metadata": {},
   "outputs": [
    {
     "name": "stderr",
     "output_type": "stream",
     "text": [
      "100%|██████████| 1901/1901 [00:00<00:00, 41793.76it/s]\n"
     ]
    }
   ],
   "source": [
    "data_words=gen_words(lemma_text)"
   ]
  },
  {
   "cell_type": "code",
   "execution_count": 23,
   "metadata": {},
   "outputs": [],
   "source": [
    "bigram_phrases=gensim.models.Phrases(data_words,min_count=3,threshold=100)\n",
    "trigram_phases=gensim.models.Phrases(bigram_phrases[data_words],threshold=50)\n",
    "\n",
    "bigram=gensim.models.phrases.Phraser(bigram_phrases)\n",
    "trigram=gensim.models.phrases.Phraser(trigram_phases)\n",
    "\n",
    "def make_bigrams(texts):\n",
    "    return [bigram[doc] for doc in texts]\n",
    "\n",
    "def make_trgram(texts):\n",
    "    return [trigram[bigram[doc]] for doc in texts]\n",
    "\n",
    "data_bigrams=make_bigrams(data_words)\n",
    "data_bigrams_trigrams=make_trgram(data_bigrams)"
   ]
  },
  {
   "cell_type": "code",
   "execution_count": 24,
   "metadata": {},
   "outputs": [
    {
     "name": "stdout",
     "output_type": "stream",
     "text": [
      "[(4, 1), (5, 1)]\n"
     ]
    },
    {
     "name": "stderr",
     "output_type": "stream",
     "text": [
      "100%|██████████| 1901/1901 [00:00<00:00, 39137.72it/s]\n"
     ]
    }
   ],
   "source": [
    "from gensim.models import TfidfModel\n",
    "\n",
    "id2word=corpora.Dictionary(data_bigrams_trigrams)\n",
    "\n",
    "texts = data_bigrams_trigrams\n",
    "\n",
    "corpus=[id2word.doc2bow(text) for text in texts]\n",
    "\n",
    "print(corpus[3])\n",
    "\n",
    "tfidf=TfidfModel(corpus,id2word=id2word)\n",
    "\n",
    "low_value=0.03\n",
    "words=[]\n",
    "words_missing_in_tfdf=[]\n",
    "\n",
    "for i in tqdm(range(0,len(corpus))):\n",
    "    bow = corpus[i]\n",
    "    low_value_words = [] #reinitialize to be safe. You can skip this.\n",
    "    tfidf_ids = [id for id, value in tfidf[bow]]\n",
    "    bow_ids = [id for id, value in bow]\n",
    "    low_value_words = [id for id, value in tfidf[bow] if value < low_value]\n",
    "    drops=low_value_words+words_missing_in_tfdf\n",
    "    for item in drops:\n",
    "        words.append(id2word[item])\n",
    "    words_missing_in_tfidf = [id for id in bow_ids if id not in tfidf_ids] # The words with tf-idf socre 0 will be missing\n",
    "\n",
    "    new_bow = [b for b in bow if b[0] not in low_value_words and b[0] not in words_missing_in_tfidf]  \n",
    "    corpus[i]=new_bow\n"
   ]
  },
  {
   "cell_type": "code",
   "execution_count": 25,
   "metadata": {},
   "outputs": [],
   "source": [
    "topics=['climate',\n",
    "'economy',\n",
    "'education',\n",
    "'health',\n",
    "'infrastructure',\n",
    "'science',\n",
    "'social causes',\n",
    "'politics and ideology',\n",
    "'technology and entrepreneurship']"
   ]
  },
  {
   "cell_type": "code",
   "execution_count": 26,
   "metadata": {},
   "outputs": [],
   "source": [
    "num_topics=len(topics)"
   ]
  },
  {
   "cell_type": "code",
   "execution_count": 27,
   "metadata": {},
   "outputs": [],
   "source": [
    "lda_model=gensim.models.ldamodel.LdaModel(\n",
    "corpus=corpus,\n",
    "id2word=id2word,\n",
    "num_topics=num_topics,\n",
    "random_state=100,\n",
    "update_every=1,\n",
    "chunksize=100,\n",
    "passes=10,\n",
    "alpha='auto'\n",
    ")"
   ]
  },
  {
   "cell_type": "code",
   "execution_count": 28,
   "metadata": {},
   "outputs": [
    {
     "name": "stdout",
     "output_type": "stream",
     "text": [
      "{0: 0.5030000000000003, 1: 0.47600000000000026, 2: 0.49400000000000027, 3: 0.4700000000000003, 4: 0.5220000000000004, 5: 0.4940000000000003, 6: 0.6790000000000003, 7: 0.49500000000000033, 8: 0.5420000000000004}\n"
     ]
    }
   ],
   "source": [
    "dic={}\n",
    "dic_sum={}\n",
    "for idx, topic in lda_model.print_topics(num_topics,num_words=100):\n",
    "    elements=[]\n",
    "    percent=[]\n",
    "\n",
    "    for e in topic.split('+'):\n",
    "        elements.append(e.split('*')[1].replace('\"','').strip())\n",
    "        percent.append(float(e.split('*')[0].replace('\"','').strip()))\n",
    "\n",
    "    dic[str(idx)+'_word']=elements\n",
    "    dic[str(idx)+'_per']=percent\n",
    "    dic_sum[idx]=sum(percent)\n",
    "print(dic_sum)"
   ]
  },
  {
   "cell_type": "code",
   "execution_count": 29,
   "metadata": {},
   "outputs": [
    {
     "data": {
      "text/html": [
       "<div>\n",
       "<style scoped>\n",
       "    .dataframe tbody tr th:only-of-type {\n",
       "        vertical-align: middle;\n",
       "    }\n",
       "\n",
       "    .dataframe tbody tr th {\n",
       "        vertical-align: top;\n",
       "    }\n",
       "\n",
       "    .dataframe thead th {\n",
       "        text-align: right;\n",
       "    }\n",
       "</style>\n",
       "<table border=\"1\" class=\"dataframe\">\n",
       "  <thead>\n",
       "    <tr style=\"text-align: right;\">\n",
       "      <th></th>\n",
       "      <th>0_word</th>\n",
       "      <th>0_per</th>\n",
       "      <th>1_word</th>\n",
       "      <th>1_per</th>\n",
       "      <th>2_word</th>\n",
       "      <th>2_per</th>\n",
       "      <th>3_word</th>\n",
       "      <th>3_per</th>\n",
       "      <th>4_word</th>\n",
       "      <th>4_per</th>\n",
       "      <th>5_word</th>\n",
       "      <th>5_per</th>\n",
       "      <th>6_word</th>\n",
       "      <th>6_per</th>\n",
       "      <th>7_word</th>\n",
       "      <th>7_per</th>\n",
       "      <th>8_word</th>\n",
       "      <th>8_per</th>\n",
       "    </tr>\n",
       "  </thead>\n",
       "  <tbody>\n",
       "    <tr>\n",
       "      <th>0</th>\n",
       "      <td>deutsch</td>\n",
       "      <td>0.057</td>\n",
       "      <td>offentlich</td>\n",
       "      <td>0.026</td>\n",
       "      <td>wieder</td>\n",
       "      <td>0.020</td>\n",
       "      <td>landwirtschaft</td>\n",
       "      <td>0.025</td>\n",
       "      <td>fordern</td>\n",
       "      <td>0.074</td>\n",
       "      <td>setzen</td>\n",
       "      <td>0.032</td>\n",
       "      <td>paypal</td>\n",
       "      <td>0.115</td>\n",
       "      <td>ausbau</td>\n",
       "      <td>0.020</td>\n",
       "      <td>auch</td>\n",
       "      <td>0.063</td>\n",
       "    </tr>\n",
       "    <tr>\n",
       "      <th>1</th>\n",
       "      <td>gut</td>\n",
       "      <td>0.027</td>\n",
       "      <td>erhalten</td>\n",
       "      <td>0.023</td>\n",
       "      <td>dazu</td>\n",
       "      <td>0.015</td>\n",
       "      <td>regional</td>\n",
       "      <td>0.022</td>\n",
       "      <td>nur</td>\n",
       "      <td>0.030</td>\n",
       "      <td>ein</td>\n",
       "      <td>0.025</td>\n",
       "      <td>alternativefuer</td>\n",
       "      <td>0.115</td>\n",
       "      <td>digital</td>\n",
       "      <td>0.020</td>\n",
       "      <td>lehnen</td>\n",
       "      <td>0.033</td>\n",
       "    </tr>\n",
       "    <tr>\n",
       "      <th>2</th>\n",
       "      <td>kultur</td>\n",
       "      <td>0.018</td>\n",
       "      <td>frei</td>\n",
       "      <td>0.016</td>\n",
       "      <td>insbesondere</td>\n",
       "      <td>0.013</td>\n",
       "      <td>mensch</td>\n",
       "      <td>0.018</td>\n",
       "      <td>familie</td>\n",
       "      <td>0.020</td>\n",
       "      <td>deshalb</td>\n",
       "      <td>0.015</td>\n",
       "      <td>spenden</td>\n",
       "      <td>0.115</td>\n",
       "      <td>eu</td>\n",
       "      <td>0.017</td>\n",
       "      <td>hoch</td>\n",
       "      <td>0.019</td>\n",
       "    </tr>\n",
       "    <tr>\n",
       "      <th>3</th>\n",
       "      <td>sprache</td>\n",
       "      <td>0.014</td>\n",
       "      <td>neu</td>\n",
       "      <td>0.013</td>\n",
       "      <td>ermoglichen</td>\n",
       "      <td>0.013</td>\n",
       "      <td>europaisch</td>\n",
       "      <td>0.015</td>\n",
       "      <td>bleiben</td>\n",
       "      <td>0.017</td>\n",
       "      <td>wald</td>\n",
       "      <td>0.012</td>\n",
       "      <td>burger</td>\n",
       "      <td>0.020</td>\n",
       "      <td>versorgung</td>\n",
       "      <td>0.017</td>\n",
       "      <td>fuhren</td>\n",
       "      <td>0.017</td>\n",
       "    </tr>\n",
       "    <tr>\n",
       "      <th>4</th>\n",
       "      <td>schule</td>\n",
       "      <td>0.013</td>\n",
       "      <td>nutzung</td>\n",
       "      <td>0.012</td>\n",
       "      <td>landlich</td>\n",
       "      <td>0.013</td>\n",
       "      <td>starken</td>\n",
       "      <td>0.015</td>\n",
       "      <td>daher</td>\n",
       "      <td>0.016</td>\n",
       "      <td>dafur</td>\n",
       "      <td>0.011</td>\n",
       "      <td>land</td>\n",
       "      <td>0.013</td>\n",
       "      <td>klima_energie_technik_digitalisierung</td>\n",
       "      <td>0.016</td>\n",
       "      <td>sozial</td>\n",
       "      <td>0.017</td>\n",
       "    </tr>\n",
       "    <tr>\n",
       "      <th>...</th>\n",
       "      <td>...</td>\n",
       "      <td>...</td>\n",
       "      <td>...</td>\n",
       "      <td>...</td>\n",
       "      <td>...</td>\n",
       "      <td>...</td>\n",
       "      <td>...</td>\n",
       "      <td>...</td>\n",
       "      <td>...</td>\n",
       "      <td>...</td>\n",
       "      <td>...</td>\n",
       "      <td>...</td>\n",
       "      <td>...</td>\n",
       "      <td>...</td>\n",
       "      <td>...</td>\n",
       "      <td>...</td>\n",
       "      <td>...</td>\n",
       "      <td>...</td>\n",
       "    </tr>\n",
       "    <tr>\n",
       "      <th>95</th>\n",
       "      <td>stellung</td>\n",
       "      <td>0.002</td>\n",
       "      <td>bitte</td>\n",
       "      <td>0.002</td>\n",
       "      <td>bzw</td>\n",
       "      <td>0.002</td>\n",
       "      <td>konventionell</td>\n",
       "      <td>0.002</td>\n",
       "      <td>last</td>\n",
       "      <td>0.002</td>\n",
       "      <td>gesondert</td>\n",
       "      <td>0.002</td>\n",
       "      <td>ungerechtigkeit</td>\n",
       "      <td>0.001</td>\n",
       "      <td>anteil</td>\n",
       "      <td>0.002</td>\n",
       "      <td>wie</td>\n",
       "      <td>0.002</td>\n",
       "    </tr>\n",
       "    <tr>\n",
       "      <th>96</th>\n",
       "      <td>kulturgut</td>\n",
       "      <td>0.002</td>\n",
       "      <td>iban</td>\n",
       "      <td>0.002</td>\n",
       "      <td>standig</td>\n",
       "      <td>0.002</td>\n",
       "      <td>islam</td>\n",
       "      <td>0.002</td>\n",
       "      <td>beteiligter</td>\n",
       "      <td>0.002</td>\n",
       "      <td>gesicherte</td>\n",
       "      <td>0.002</td>\n",
       "      <td>app</td>\n",
       "      <td>0.001</td>\n",
       "      <td>fachen</td>\n",
       "      <td>0.002</td>\n",
       "      <td>zugute</td>\n",
       "      <td>0.002</td>\n",
       "    </tr>\n",
       "    <tr>\n",
       "      <th>97</th>\n",
       "      <td>rentensystem</td>\n",
       "      <td>0.002</td>\n",
       "      <td>folgend</td>\n",
       "      <td>0.002</td>\n",
       "      <td>lebensabend</td>\n",
       "      <td>0.002</td>\n",
       "      <td>entweren</td>\n",
       "      <td>0.002</td>\n",
       "      <td>festgelegt</td>\n",
       "      <td>0.002</td>\n",
       "      <td>zensur</td>\n",
       "      <td>0.002</td>\n",
       "      <td>endlich</td>\n",
       "      <td>0.001</td>\n",
       "      <td>erwarmung</td>\n",
       "      <td>0.002</td>\n",
       "      <td>derart</td>\n",
       "      <td>0.002</td>\n",
       "    </tr>\n",
       "    <tr>\n",
       "      <th>98</th>\n",
       "      <td>festschreiben</td>\n",
       "      <td>0.002</td>\n",
       "      <td>abgabenlast</td>\n",
       "      <td>0.002</td>\n",
       "      <td>rentenalter</td>\n",
       "      <td>0.002</td>\n",
       "      <td>aufheizung</td>\n",
       "      <td>0.002</td>\n",
       "      <td>wirken</td>\n",
       "      <td>0.002</td>\n",
       "      <td>werbung</td>\n",
       "      <td>0.002</td>\n",
       "      <td>grundsicherung</td>\n",
       "      <td>0.001</td>\n",
       "      <td>emissione</td>\n",
       "      <td>0.002</td>\n",
       "      <td>zugang</td>\n",
       "      <td>0.002</td>\n",
       "    </tr>\n",
       "    <tr>\n",
       "      <th>99</th>\n",
       "      <td>kulturpolitisch</td>\n",
       "      <td>0.002</td>\n",
       "      <td>bauer</td>\n",
       "      <td>0.002</td>\n",
       "      <td>taktung</td>\n",
       "      <td>0.002</td>\n",
       "      <td>verstarken</td>\n",
       "      <td>0.002</td>\n",
       "      <td>rahmenbedingung</td>\n",
       "      <td>0.002</td>\n",
       "      <td>streben</td>\n",
       "      <td>0.002</td>\n",
       "      <td>oft</td>\n",
       "      <td>0.001</td>\n",
       "      <td>konzern</td>\n",
       "      <td>0.002</td>\n",
       "      <td>enteignung</td>\n",
       "      <td>0.002</td>\n",
       "    </tr>\n",
       "  </tbody>\n",
       "</table>\n",
       "<p>100 rows × 18 columns</p>\n",
       "</div>"
      ],
      "text/plain": [
       "             0_word  0_per       1_word  1_per        2_word  2_per  \\\n",
       "0           deutsch  0.057   offentlich  0.026        wieder  0.020   \n",
       "1               gut  0.027     erhalten  0.023          dazu  0.015   \n",
       "2            kultur  0.018         frei  0.016  insbesondere  0.013   \n",
       "3           sprache  0.014          neu  0.013   ermoglichen  0.013   \n",
       "4            schule  0.013      nutzung  0.012      landlich  0.013   \n",
       "..              ...    ...          ...    ...           ...    ...   \n",
       "95         stellung  0.002        bitte  0.002           bzw  0.002   \n",
       "96        kulturgut  0.002         iban  0.002       standig  0.002   \n",
       "97     rentensystem  0.002      folgend  0.002   lebensabend  0.002   \n",
       "98    festschreiben  0.002  abgabenlast  0.002   rentenalter  0.002   \n",
       "99  kulturpolitisch  0.002        bauer  0.002       taktung  0.002   \n",
       "\n",
       "            3_word  3_per           4_word  4_per      5_word  5_per  \\\n",
       "0   landwirtschaft  0.025          fordern  0.074      setzen  0.032   \n",
       "1         regional  0.022              nur  0.030         ein  0.025   \n",
       "2           mensch  0.018          familie  0.020     deshalb  0.015   \n",
       "3       europaisch  0.015          bleiben  0.017        wald  0.012   \n",
       "4          starken  0.015            daher  0.016       dafur  0.011   \n",
       "..             ...    ...              ...    ...         ...    ...   \n",
       "95   konventionell  0.002             last  0.002   gesondert  0.002   \n",
       "96           islam  0.002      beteiligter  0.002  gesicherte  0.002   \n",
       "97        entweren  0.002       festgelegt  0.002      zensur  0.002   \n",
       "98      aufheizung  0.002           wirken  0.002     werbung  0.002   \n",
       "99      verstarken  0.002  rahmenbedingung  0.002     streben  0.002   \n",
       "\n",
       "             6_word  6_per                                 7_word  7_per  \\\n",
       "0            paypal  0.115                                 ausbau  0.020   \n",
       "1   alternativefuer  0.115                                digital  0.020   \n",
       "2           spenden  0.115                                     eu  0.017   \n",
       "3            burger  0.020                             versorgung  0.017   \n",
       "4              land  0.013  klima_energie_technik_digitalisierung  0.016   \n",
       "..              ...    ...                                    ...    ...   \n",
       "95  ungerechtigkeit  0.001                                 anteil  0.002   \n",
       "96              app  0.001                                 fachen  0.002   \n",
       "97          endlich  0.001                              erwarmung  0.002   \n",
       "98   grundsicherung  0.001                              emissione  0.002   \n",
       "99              oft  0.001                                konzern  0.002   \n",
       "\n",
       "        8_word  8_per  \n",
       "0         auch  0.063  \n",
       "1       lehnen  0.033  \n",
       "2         hoch  0.019  \n",
       "3       fuhren  0.017  \n",
       "4       sozial  0.017  \n",
       "..         ...    ...  \n",
       "95         wie  0.002  \n",
       "96      zugute  0.002  \n",
       "97      derart  0.002  \n",
       "98      zugang  0.002  \n",
       "99  enteignung  0.002  \n",
       "\n",
       "[100 rows x 18 columns]"
      ]
     },
     "execution_count": 29,
     "metadata": {},
     "output_type": "execute_result"
    }
   ],
   "source": [
    "pd.DataFrame(data=dic)"
   ]
  },
  {
   "cell_type": "code",
   "execution_count": 30,
   "metadata": {},
   "outputs": [
    {
     "name": "stderr",
     "output_type": "stream",
     "text": [
      "/opt/anaconda3/envs/NLP_spacy/lib/python3.9/site-packages/pyLDAvis/_prepare.py:246: FutureWarning: In a future version of pandas all arguments of DataFrame.drop except for the argument 'labels' will be keyword-only.\n",
      "  default_term_info = default_term_info.sort_values(\n",
      "/opt/anaconda3/envs/NLP_spacy/lib/python3.9/site-packages/past/builtins/misc.py:45: DeprecationWarning: the imp module is deprecated in favour of importlib; see the module's documentation for alternative uses\n",
      "  from imp import reload\n",
      "/opt/anaconda3/envs/NLP_spacy/lib/python3.9/site-packages/past/builtins/misc.py:45: DeprecationWarning: the imp module is deprecated in favour of importlib; see the module's documentation for alternative uses\n",
      "  from imp import reload\n",
      "/opt/anaconda3/envs/NLP_spacy/lib/python3.9/site-packages/past/builtins/misc.py:45: DeprecationWarning: the imp module is deprecated in favour of importlib; see the module's documentation for alternative uses\n",
      "  from imp import reload\n",
      "/opt/anaconda3/envs/NLP_spacy/lib/python3.9/site-packages/past/builtins/misc.py:45: DeprecationWarning: the imp module is deprecated in favour of importlib; see the module's documentation for alternative uses\n",
      "  from imp import reload\n",
      "/opt/anaconda3/envs/NLP_spacy/lib/python3.9/site-packages/past/builtins/misc.py:45: DeprecationWarning: the imp module is deprecated in favour of importlib; see the module's documentation for alternative uses\n",
      "  from imp import reload\n",
      "/opt/anaconda3/envs/NLP_spacy/lib/python3.9/site-packages/past/builtins/misc.py:45: DeprecationWarning: the imp module is deprecated in favour of importlib; see the module's documentation for alternative uses\n",
      "  from imp import reload\n",
      "/opt/anaconda3/envs/NLP_spacy/lib/python3.9/site-packages/past/builtins/misc.py:45: DeprecationWarning: the imp module is deprecated in favour of importlib; see the module's documentation for alternative uses\n",
      "  from imp import reload\n",
      "/opt/anaconda3/envs/NLP_spacy/lib/python3.9/site-packages/past/builtins/misc.py:45: DeprecationWarning: the imp module is deprecated in favour of importlib; see the module's documentation for alternative uses\n",
      "  from imp import reload\n",
      "/opt/anaconda3/envs/NLP_spacy/lib/python3.9/site-packages/past/builtins/misc.py:45: DeprecationWarning: the imp module is deprecated in favour of importlib; see the module's documentation for alternative uses\n",
      "  from imp import reload\n"
     ]
    },
    {
     "data": {
      "text/html": [
       "\n",
       "<link rel=\"stylesheet\" type=\"text/css\" href=\"https://cdn.jsdelivr.net/gh/bmabey/pyLDAvis@3.3.1/pyLDAvis/js/ldavis.v1.0.0.css\">\n",
       "\n",
       "\n",
       "<div id=\"ldavis_el477961404338312813761348374723\"></div>\n",
       "<script type=\"text/javascript\">\n",
       "\n",
       "var ldavis_el477961404338312813761348374723_data = {\"mdsDat\": {\"x\": [-0.10026596165508843, 0.29405468564309095, -0.24125680303196084, 0.05778381891112739, 0.0992177989395188, -0.1498932610222978, -0.21011591923206754, 0.03407585289158243, 0.21639978855609515], \"y\": [0.35109525666281466, 0.09238311702380561, 0.10545983761567772, -0.2727118731753442, 0.18534876402796496, -0.22367364120441666, -0.06653752380179352, -0.034137363417117386, -0.13722657373159125], \"topics\": [1, 2, 3, 4, 5, 6, 7, 8, 9], \"cluster\": [1, 1, 1, 1, 1, 1, 1, 1, 1], \"Freq\": [16.098735330092918, 14.714888259305278, 13.28903707580548, 10.686050792824814, 10.054407819199307, 9.554732085036251, 8.970946920832464, 8.434544672095203, 8.196657044808287]}, \"tinfo\": {\"Term\": [\"spenden\", \"alternativefuer\", \"paypal\", \"fordern\", \"auch\", \"deutsch\", \"lehnen\", \"nur\", \"setzen\", \"gut\", \"ein\", \"offentlich\", \"burger\", \"familie\", \"hoch\", \"landwirtschaft\", \"erhalten\", \"fuhren\", \"sozial\", \"ausbau\", \"digital\", \"regional\", \"bleiben\", \"stehen\", \"wieder\", \"daher\", \"kultur\", \"eu\", \"versorgung\", \"mensch\", \"alternativefuer\", \"paypal\", \"spenden\", \"burger\", \"land\", \"kind\", \"staatlich\", \"forderung\", \"politisch\", \"weit\", \"sicherheit\", \"anderer\", \"gelten\", \"immer\", \"technik\", \"verantwortung\", \"stark\", \"bringen\", \"bund\", \"sichern\", \"mobilitat_infrastruktur\", \"weiter\", \"entscheiden\", \"hand\", \"geben\", \"entscheidung\", \"mehr\", \"partei\", \"aber\", \"arbeit\", \"jedoch\", \"auch\", \"lehnen\", \"hoch\", \"fuhren\", \"sozial\", \"stehen\", \"moglich\", \"noch\", \"heimisch\", \"schutz\", \"staat\", \"gewahrleisten\", \"schaffen\", \"landwirt\", \"tier\", \"standard\", \"wichtig\", \"eigen\", \"freiheit\", \"haben\", \"machen\", \"gesetzlich\", \"struktur\", \"selbst\", \"grundlage\", \"international\", \"nehmen\", \"gesundheitlich\", \"praxis\", \"einkommen\", \"jahr\", \"jedoch\", \"fordern\", \"nur\", \"familie\", \"bleiben\", \"daher\", \"unterstutzen\", \"damit\", \"afd\", \"dabei\", \"ideologisch\", \"medium\", \"politik\", \"produkt\", \"lebensmittel\", \"nutzen\", \"beruf\", \"bedarf\", \"industrie\", \"flachendeckend\", \"erfolgen\", \"verwaltung\", \"sprechen\", \"bundesweit\", \"gesund\", \"hier\", \"produktion\", \"unabhangig\", \"umsetzung\", \"energietrager\", \"sinn\", \"verbraucher\", \"setzen\", \"ein\", \"deshalb\", \"wald\", \"dafur\", \"bereich\", \"einrichtung\", \"grund\", \"wirtschaft\", \"konsequent\", \"rahmen\", \"zahlen\", \"mittel\", \"flache\", \"entsprechend\", \"wert\", \"beitrag\", \"leisten\", \"voraussetzung\", \"brauchen\", \"technisch\", \"entwicklung\", \"sehen\", \"vermeiden\", \"finanzierung\", \"wirkung\", \"krankenhaus\", \"intakt\", \"bewahrung\", \"etwa\", \"ausbau\", \"digital\", \"eu\", \"versorgung\", \"klima_energie_technik_digitalisierung\", \"digitalisierung\", \"ziel\", \"infrastruktur\", \"verhindern\", \"gesellschaft\", \"gehoren\", \"energie\", \"behorde\", \"kommen\", \"teil\", \"steuer\", \"gro\\u00df\", \"zunehmend\", \"erneuerbar\", \"agrarpolitik\", \"liegen\", \"verursachen\", \"sauber\", \"deutlich\", \"bundesregierung\", \"orientieren\", \"gleich\", \"plattform\", \"bauen_wohnen_miete\", \"grundsatzlich\", \"eigentum\", \"bevolkerung\", \"deutsch\", \"gut\", \"kultur\", \"sprache\", \"schule\", \"identitat\", \"leben\", \"grundgesetz\", \"recht\", \"entlasten\", \"integration\", \"prinzip\", \"arbeitsplatz\", \"erreichen\", \"richten\", \"verbessern\", \"streichen\", \"bekennen\", \"pragen\", \"trager\", \"betrieb\", \"netz\", \"souveranitat\", \"wesentlich\", \"sozialpolitik\", \"unrealistisch\", \"treffen\", \"besonderer\", \"freihalten\", \"angst\", \"patient\", \"offentlich\", \"erhalten\", \"frei\", \"neu\", \"nutzung\", \"notwendig\", \"art\", \"gebiet\", \"leistung\", \"generell\", \"befurworten\", \"finanziell\", \"region\", \"bestehend\", \"form\", \"schaden\", \"internet\", \"stream\", \"fortschritt\", \"mindestens\", \"rechtlich\", \"ort\", \"gestalten\", \"okologisch\", \"mafsnahm\", \"abschiebung\", \"moglichkeit\", \"gerecht\", \"fahrzeug\", \"alternative\", \"co\", \"wieder\", \"dazu\", \"ermoglichen\", \"landlich\", \"national\", \"schutzen\", \"aufgabe\", \"stellen\", \"so\", \"abschaffung\", \"heimat\", \"eltern\", \"sogenannter\", \"rente\", \"it\", \"einfuhren\", \"grundlegend\", \"zentral\", \"betrachten\", \"vollstandig\", \"schaffung\", \"ausweisung\", \"einstieg\", \"daraus\", \"historisch\", \"reduzieren\", \"ausstatten\", \"un\", \"einseitig\", \"reform\", \"insbesondere\", \"landwirtschaft\", \"regional\", \"mensch\", \"europaisch\", \"starken\", \"bildung\", \"kommune\", \"natur\", \"klima\", \"zudem\", \"sicherstellen\", \"inhalt\", \"grundrecht\", \"bewahren\", \"ausbauen\", \"bereits\", \"daseinsvorsorge\", \"bevorzugen\", \"maf\\u00dfnahme\", \"jahrzehnt\", \"mikroklima\", \"familienpolitik\", \"pauschal\", \"bedeutung\", \"flugverkehr\", \"erfullung\", \"verbotspolitik\", \"forschung\", \"person\", \"kulturell\"], \"Freq\": [249.0, 249.0, 249.0, 132.0, 124.0, 73.0, 66.0, 53.0, 46.0, 35.0, 36.0, 32.0, 43.0, 36.0, 37.0, 27.0, 28.0, 35.0, 35.0, 28.0, 28.0, 24.0, 30.0, 31.0, 23.0, 28.0, 23.0, 23.0, 23.0, 20.0, 248.94663908731408, 248.94663908731408, 248.94663908731408, 42.54343949707013, 27.87614470522498, 26.294270485022757, 23.014081240270972, 19.616360424916454, 18.382334174972684, 15.981393931456848, 15.909278814387026, 15.89966982657356, 14.977865875544698, 14.134337962589923, 13.370037243919057, 12.408160187864405, 12.082364578474822, 10.81581722302125, 10.564297171047132, 10.41148343007631, 9.976646348755178, 9.340590011810539, 9.259822085081156, 9.239070407730466, 9.044902965992014, 8.662780227349053, 8.402071022087027, 8.34679900328604, 7.588902769907593, 7.463296917603963, 7.777214624842185, 124.02591720751765, 65.5230296245163, 37.06276267433578, 34.34250243416526, 34.2645084451525, 30.870872068663953, 22.445699840975006, 20.924541639755798, 20.10648424852399, 18.8825323897295, 18.692739916866326, 15.894100106024482, 15.867197522875205, 15.87222293715855, 15.641621235993725, 15.579063366045665, 15.33173660141464, 15.01062052395239, 14.778521480680123, 13.48391086490136, 13.226388219555897, 11.785768846296, 11.423501107297225, 11.230720376580145, 10.79451735455083, 10.499489548497023, 10.484304057510393, 10.365779009821091, 10.137104298897542, 9.634744644773527, 13.23304225732091, 12.76588804472735, 131.5943508767924, 53.11537460530774, 35.86175206312647, 29.730700239589012, 27.741001353627755, 18.932005030316674, 18.914872637857027, 18.815761117366737, 16.89014288438681, 15.448455043644723, 15.040706756204958, 13.402280781320037, 13.248926633832067, 13.02258487961741, 12.798223001186418, 11.420182197414414, 11.264184899173378, 10.881903883277507, 10.773208868573073, 10.227210862886041, 9.955408242268582, 9.437232963360533, 9.180648357822289, 8.74859767550364, 8.689582785101114, 8.33731247428954, 8.214613237699899, 7.943313047871763, 7.79936828491847, 7.582074430380165, 10.718256537358133, 45.93056455341877, 36.128691402869514, 21.62513021092109, 17.79502749978739, 15.78629746526749, 15.283707939204833, 14.961579475677846, 14.145705864895646, 13.543141390208788, 13.054828475617756, 12.946379830729224, 12.108165263077028, 10.565953209664514, 10.454652442618723, 9.826252194711154, 9.687668925814155, 9.669789493365945, 9.446833277416562, 9.42234822871446, 9.258565213837992, 9.249862174417492, 9.024902539327725, 9.003744966475761, 8.20788687963122, 7.815496073413338, 7.615273497819372, 7.520195425596546, 7.5113583804365405, 7.392171275616497, 7.264195127692391, 27.604677885510995, 27.334525250168543, 23.229079380766002, 22.463229140514777, 21.154418949052655, 19.091883983919526, 17.678952856307166, 17.443731350400103, 16.09791872631336, 14.366379516309632, 13.854763864844228, 13.15282041632914, 12.835434289907678, 12.295011089180507, 9.680048523219554, 9.03943371498459, 8.880750061085742, 8.6487534400048, 8.216945062783312, 7.9959567093183175, 7.792176732712874, 7.799740564892091, 7.685401743324097, 7.653807783169969, 7.222300503928746, 7.167710812819406, 6.890257178743011, 6.747731195210085, 6.688174642001306, 6.553948926124328, 6.563797966516257, 7.498188428507768, 72.7326437886225, 34.69754874358026, 22.776408637223998, 18.099718236050403, 17.080747642318546, 16.520819856125634, 15.12997606468578, 11.834540380591505, 10.83235752229054, 10.238462022855561, 9.72012862013775, 9.183800353083162, 9.004518760207095, 8.869962932604952, 7.789595676324106, 7.445439350521327, 7.321032943537264, 7.303299772825023, 6.732445830722983, 6.636959847871783, 6.618938754561248, 6.521017649941879, 6.48435312130711, 6.186121344101582, 6.121741731900716, 6.020247525719925, 5.965976202337382, 5.9184648008278, 5.893596753140474, 5.717529997888822, 5.733246518186934, 31.808863418952768, 28.057672674209336, 19.16592073275168, 15.669293168272159, 14.741365634504257, 14.023183457069434, 13.785306907040223, 12.55653645594371, 11.86800223506596, 11.622427693749163, 11.409020838288312, 11.33075923281041, 10.659592226535958, 10.55758180861696, 9.753540778813319, 9.650365084039535, 9.150203295741845, 8.363549629420834, 8.035128493195579, 7.696192440413693, 7.238354492538221, 6.966181751427916, 6.948446260085688, 6.543552291114471, 6.307219928809736, 6.229974162664899, 6.212933807659677, 6.021333636548608, 5.871133815556972, 5.5791401740934194, 8.78926914425651, 22.641013307725103, 16.59383491367155, 14.793528594090665, 14.590315105124846, 14.450104470275644, 14.383755875497238, 14.259406724609606, 13.941820264602995, 13.884951092957884, 13.656878719301448, 12.654612060033237, 10.287305312218756, 9.634252307869847, 9.444103941450571, 9.401973288908229, 9.247036764364228, 9.013469545789514, 8.502341618421944, 8.368213622187026, 8.268499710223848, 7.732605513824119, 7.642372077444899, 7.428402016464666, 7.354350535274295, 6.976447601471679, 6.8871597920143275, 6.661402809819338, 6.117920970355382, 5.95810423208105, 5.945515869685433, 15.090465972063834, 27.023792892869135, 24.099833914555997, 20.178257406576797, 16.767925491998316, 16.280133977377567, 14.372450874035234, 13.91036252642942, 10.921902723326307, 8.763308189833722, 8.509569830646454, 7.77640977368881, 7.670169300756579, 7.56947989777674, 7.55047227741189, 7.3815080380116145, 6.952539966457078, 7.066297268245155, 6.607997251013115, 6.4805190134449715, 6.463382034617279, 6.478107839347732, 6.215663172842226, 5.927685630090476, 5.845419335918088, 5.484690815309394, 5.485431810275862, 5.355748486237455, 5.091396869952817, 5.025874811934382, 4.925560253199141], \"Total\": [249.0, 249.0, 249.0, 132.0, 124.0, 73.0, 66.0, 53.0, 46.0, 35.0, 36.0, 32.0, 43.0, 36.0, 37.0, 27.0, 28.0, 35.0, 35.0, 28.0, 28.0, 24.0, 30.0, 31.0, 23.0, 28.0, 23.0, 23.0, 23.0, 20.0, 249.7218514792158, 249.7218514792158, 249.7218514792158, 43.31868888182981, 28.651110006056708, 27.069416908616983, 23.78899199071266, 20.391370164135715, 19.157353207873435, 16.75642738584262, 16.684627881489277, 16.67471522788317, 15.75287556265675, 14.909504902875742, 14.146412143314842, 13.183255059818784, 12.857437163521805, 11.591018115160782, 11.339741434391287, 11.186686325206201, 10.76617394086745, 10.115501762136034, 10.034671473605005, 10.014197544664913, 9.820052353264801, 9.437667322772132, 9.177036553661797, 9.12174509161535, 8.363832768560732, 8.238721851899285, 21.211334973627416, 124.77128774987666, 66.26855085922635, 37.808064085864345, 35.08790586868915, 35.00979685674288, 31.616250345295477, 23.1911744332667, 21.669909982267683, 20.85197822692653, 19.628317284483224, 19.437957895728985, 16.63959764279175, 16.612523131718156, 16.620809140429444, 16.38771328894094, 16.324666931394823, 16.07713911563886, 15.755874316616033, 15.523847720132043, 14.229259113837758, 13.97178097367695, 12.531031025787538, 12.169048421145414, 11.976103640129612, 11.539933849805044, 11.244839169738459, 11.229710836642955, 11.113610194301874, 10.882629867595815, 10.380267233462412, 18.94709661242059, 21.211334973627416, 132.33616473851538, 53.85723070397768, 36.603505471342594, 30.472594743565402, 28.482734187130934, 19.67391512386847, 19.656668582346946, 19.5576643429874, 17.63188148401798, 16.190696531433343, 15.783122557595412, 14.144050134954831, 13.991101746537213, 13.772862919744497, 13.540798795269296, 12.161854230574336, 12.006019522029867, 11.624126652589903, 11.516543163894903, 10.96900896242344, 10.69763791744994, 10.179254864085344, 9.923632923705538, 9.491801373471132, 9.431363424650142, 9.081458488991338, 8.956549006375283, 8.68554336715007, 8.545462980657135, 8.324226201047422, 15.310133990744085, 46.68197535484191, 36.88005543581232, 22.376635963984196, 18.547129035073954, 16.537637932149593, 16.035360622516748, 15.713261640641765, 14.897173939152475, 14.294667061307054, 13.806687576785421, 13.697892492854923, 12.859960118582388, 11.317651309722184, 11.206430598953329, 10.57773513890483, 10.439154691557109, 10.421236793035568, 10.198247619102425, 10.173763947087302, 10.010132342252044, 10.00141472690053, 9.776279997454795, 9.755432414240293, 8.959616923997071, 8.56689467638369, 8.366976268079423, 8.271607059994075, 8.266522651198619, 8.143902921480068, 8.016043630778064, 28.36493164317166, 28.09561463057549, 23.988927719040607, 23.2235111683174, 21.91585986959976, 19.85190133122328, 18.438815530663256, 18.204260689105887, 16.857833904677324, 15.12632003338758, 14.614839615082246, 13.91361688856362, 13.595475168977783, 13.054964439926676, 10.439941702092662, 9.79990180700115, 9.640671304082394, 9.408606211742311, 8.981479188709178, 8.764666553363089, 8.551997436129211, 8.560442616992875, 8.445734945585148, 8.413791024950319, 7.982186540606277, 7.927752145963853, 7.653376527540175, 7.511606793652419, 7.450432524873688, 7.313797214293633, 7.3254979769907855, 10.362002394264676, 73.4857121266701, 35.45096675249493, 23.529620419281688, 18.852772640019083, 17.83388244134259, 17.274028335792053, 15.883194602991622, 12.587789301434015, 11.585444969482037, 10.991699349300262, 10.473419917950986, 9.93751954520654, 9.758328024421905, 9.623241838921853, 8.543056775382777, 8.19948542057993, 8.074577740968579, 8.056346339850489, 7.486076428564499, 7.3904385398225205, 7.372946906440311, 7.275577818972451, 7.2392800670010855, 6.9396509195052, 6.87547203736269, 6.778772239385047, 6.719499425029814, 6.671614088850721, 6.650457905448886, 6.471711821828288, 6.490994842552698, 32.568565921256805, 28.817398653877447, 19.925531884360037, 16.429140697069524, 15.501542580444747, 14.78290727619207, 14.545593186708766, 13.316327192715196, 12.627907324120603, 12.382621804378452, 12.168903112201312, 12.09055656397359, 11.4199005354014, 11.317562373412779, 10.513227647091883, 10.410245099760065, 9.910123553922414, 9.123409662906798, 8.798316390643857, 8.456078883718563, 7.9979050134243, 7.726411216870225, 7.708041607963216, 7.304650450016357, 7.066846472519549, 6.9895795251833865, 6.972641673186398, 6.7809807757734255, 6.652209176124604, 6.338687442160179, 13.272661014036206, 23.40228851086073, 17.355310012744653, 15.555077271676817, 15.351819175187265, 15.211447367475126, 15.145400593891525, 15.020868503258136, 14.703110902799487, 14.646272795305638, 14.418333665200857, 13.416595443982176, 11.048787206520705, 10.395756322975163, 10.205674260652286, 10.164484231223087, 10.00845808004439, 9.775192495223745, 9.263983584188319, 9.129512463301497, 9.029996369671041, 8.49403510838935, 8.403670267360669, 8.190580063139487, 8.115927301292142, 7.738520070748941, 7.64863922258101, 7.423111032815663, 6.879769056078926, 6.719497948863705, 6.706675717510609, 17.659482983366367, 27.793419049400878, 24.86885069931, 20.946963607886786, 17.536605084253935, 17.048624107227486, 15.14113306087799, 14.679596631868707, 11.6924257584546, 9.53918725867165, 9.27840765948873, 8.544967598483026, 8.438899767325761, 8.338326774153288, 8.319336792556152, 8.15036845854923, 7.721059601362893, 7.866253696250595, 7.3769423535954175, 7.2502788451073705, 7.232189193241143, 7.274294468046782, 6.984333917007597, 6.69762229645673, 6.616044502175561, 6.255614957765827, 6.257392429309802, 6.135932198227748, 5.860212703769443, 5.794436129590615, 5.694080796084689], \"Category\": [\"Default\", \"Default\", \"Default\", \"Default\", \"Default\", \"Default\", \"Default\", \"Default\", \"Default\", \"Default\", \"Default\", \"Default\", \"Default\", \"Default\", \"Default\", \"Default\", \"Default\", \"Default\", \"Default\", \"Default\", \"Default\", \"Default\", \"Default\", \"Default\", \"Default\", \"Default\", \"Default\", \"Default\", \"Default\", \"Default\", \"Topic1\", \"Topic1\", \"Topic1\", \"Topic1\", \"Topic1\", \"Topic1\", \"Topic1\", \"Topic1\", \"Topic1\", \"Topic1\", \"Topic1\", \"Topic1\", \"Topic1\", \"Topic1\", \"Topic1\", \"Topic1\", \"Topic1\", \"Topic1\", \"Topic1\", \"Topic1\", \"Topic1\", \"Topic1\", \"Topic1\", \"Topic1\", \"Topic1\", \"Topic1\", \"Topic1\", \"Topic1\", \"Topic1\", \"Topic1\", \"Topic1\", \"Topic2\", \"Topic2\", \"Topic2\", \"Topic2\", \"Topic2\", \"Topic2\", \"Topic2\", \"Topic2\", \"Topic2\", \"Topic2\", \"Topic2\", \"Topic2\", \"Topic2\", \"Topic2\", \"Topic2\", \"Topic2\", \"Topic2\", \"Topic2\", \"Topic2\", \"Topic2\", \"Topic2\", \"Topic2\", \"Topic2\", \"Topic2\", \"Topic2\", \"Topic2\", \"Topic2\", \"Topic2\", \"Topic2\", \"Topic2\", \"Topic2\", \"Topic2\", \"Topic3\", \"Topic3\", \"Topic3\", \"Topic3\", \"Topic3\", \"Topic3\", \"Topic3\", \"Topic3\", \"Topic3\", \"Topic3\", \"Topic3\", \"Topic3\", \"Topic3\", \"Topic3\", \"Topic3\", \"Topic3\", \"Topic3\", \"Topic3\", \"Topic3\", \"Topic3\", \"Topic3\", \"Topic3\", \"Topic3\", \"Topic3\", \"Topic3\", \"Topic3\", \"Topic3\", \"Topic3\", \"Topic3\", \"Topic3\", \"Topic3\", \"Topic4\", \"Topic4\", \"Topic4\", \"Topic4\", \"Topic4\", \"Topic4\", \"Topic4\", \"Topic4\", \"Topic4\", \"Topic4\", \"Topic4\", \"Topic4\", \"Topic4\", \"Topic4\", \"Topic4\", \"Topic4\", \"Topic4\", \"Topic4\", \"Topic4\", \"Topic4\", \"Topic4\", \"Topic4\", \"Topic4\", \"Topic4\", \"Topic4\", \"Topic4\", \"Topic4\", \"Topic4\", \"Topic4\", \"Topic4\", \"Topic5\", \"Topic5\", \"Topic5\", \"Topic5\", \"Topic5\", \"Topic5\", \"Topic5\", \"Topic5\", \"Topic5\", \"Topic5\", \"Topic5\", \"Topic5\", \"Topic5\", \"Topic5\", \"Topic5\", \"Topic5\", \"Topic5\", \"Topic5\", \"Topic5\", \"Topic5\", \"Topic5\", \"Topic5\", \"Topic5\", \"Topic5\", \"Topic5\", \"Topic5\", \"Topic5\", \"Topic5\", \"Topic5\", \"Topic5\", \"Topic5\", \"Topic5\", \"Topic6\", \"Topic6\", \"Topic6\", \"Topic6\", \"Topic6\", \"Topic6\", \"Topic6\", \"Topic6\", \"Topic6\", \"Topic6\", \"Topic6\", \"Topic6\", \"Topic6\", \"Topic6\", \"Topic6\", \"Topic6\", \"Topic6\", \"Topic6\", \"Topic6\", \"Topic6\", \"Topic6\", \"Topic6\", \"Topic6\", \"Topic6\", \"Topic6\", \"Topic6\", \"Topic6\", \"Topic6\", \"Topic6\", \"Topic6\", \"Topic6\", \"Topic7\", \"Topic7\", \"Topic7\", \"Topic7\", \"Topic7\", \"Topic7\", \"Topic7\", \"Topic7\", \"Topic7\", \"Topic7\", \"Topic7\", \"Topic7\", \"Topic7\", \"Topic7\", \"Topic7\", \"Topic7\", \"Topic7\", \"Topic7\", \"Topic7\", \"Topic7\", \"Topic7\", \"Topic7\", \"Topic7\", \"Topic7\", \"Topic7\", \"Topic7\", \"Topic7\", \"Topic7\", \"Topic7\", \"Topic7\", \"Topic7\", \"Topic8\", \"Topic8\", \"Topic8\", \"Topic8\", \"Topic8\", \"Topic8\", \"Topic8\", \"Topic8\", \"Topic8\", \"Topic8\", \"Topic8\", \"Topic8\", \"Topic8\", \"Topic8\", \"Topic8\", \"Topic8\", \"Topic8\", \"Topic8\", \"Topic8\", \"Topic8\", \"Topic8\", \"Topic8\", \"Topic8\", \"Topic8\", \"Topic8\", \"Topic8\", \"Topic8\", \"Topic8\", \"Topic8\", \"Topic8\", \"Topic8\", \"Topic9\", \"Topic9\", \"Topic9\", \"Topic9\", \"Topic9\", \"Topic9\", \"Topic9\", \"Topic9\", \"Topic9\", \"Topic9\", \"Topic9\", \"Topic9\", \"Topic9\", \"Topic9\", \"Topic9\", \"Topic9\", \"Topic9\", \"Topic9\", \"Topic9\", \"Topic9\", \"Topic9\", \"Topic9\", \"Topic9\", \"Topic9\", \"Topic9\", \"Topic9\", \"Topic9\", \"Topic9\", \"Topic9\", \"Topic9\"], \"logprob\": [30.0, 29.0, 28.0, 27.0, 26.0, 25.0, 24.0, 23.0, 22.0, 21.0, 20.0, 19.0, 18.0, 17.0, 16.0, 15.0, 14.0, 13.0, 12.0, 11.0, 10.0, 9.0, 8.0, 7.0, 6.0, 5.0, 4.0, 3.0, 2.0, 1.0, -2.1592, -2.1592, -2.1592, -3.9259, -4.3487, -4.4071, -4.5403, -4.7001, -4.765, -4.905, -4.9095, -4.9101, -4.9699, -5.0278, -5.0834, -5.1581, -5.1847, -5.2954, -5.319, -5.3335, -5.3762, -5.4421, -5.4507, -5.453, -5.4742, -5.5174, -5.548, -5.5546, -5.6497, -5.6664, -5.6252, -2.7661, -3.4041, -3.9739, -4.0502, -4.0524, -4.1567, -4.4755, -4.5456, -4.5855, -4.6483, -4.6584, -4.8206, -4.8223, -4.822, -4.8366, -4.8406, -4.8566, -4.8778, -4.8934, -4.9851, -5.0043, -5.1197, -5.1509, -5.1679, -5.2075, -5.2352, -5.2367, -5.248, -5.2703, -5.3212, -5.0038, -5.0398, -2.6049, -3.5122, -3.905, -4.0924, -4.1617, -4.5438, -4.5447, -4.5499, -4.6579, -4.7471, -4.7739, -4.8892, -4.9007, -4.9179, -4.9353, -5.0492, -5.063, -5.0975, -5.1076, -5.1596, -5.1865, -5.24, -5.2675, -5.3157, -5.3225, -5.3639, -5.3787, -5.4123, -5.4306, -5.4588, -5.1127, -3.4395, -3.6795, -4.1928, -4.3877, -4.5075, -4.5398, -4.5611, -4.6172, -4.6607, -4.6975, -4.7058, -4.7727, -4.909, -4.9196, -4.9816, -4.9958, -4.9976, -5.021, -5.0235, -5.0411, -5.042, -5.0666, -5.069, -5.1615, -5.2105, -5.2365, -5.249, -5.2502, -5.2662, -5.2837, -3.8877, -3.8976, -4.0603, -4.0938, -4.1539, -4.2564, -4.3333, -4.3467, -4.427, -4.5408, -4.5771, -4.6291, -4.6535, -4.6965, -4.9356, -5.0041, -5.0218, -5.0483, -5.0995, -5.1268, -5.1526, -5.1516, -5.1664, -5.1705, -5.2285, -5.2361, -5.2756, -5.2965, -5.3054, -5.3256, -5.3241, -5.191, -2.8679, -3.6081, -4.029, -4.2588, -4.3168, -4.3501, -4.438, -4.6837, -4.7722, -4.8286, -4.8805, -4.9373, -4.957, -4.9721, -5.1019, -5.1471, -5.164, -5.1664, -5.2478, -5.2621, -5.2648, -5.2797, -5.2853, -5.3324, -5.3429, -5.3596, -5.3687, -5.3766, -5.3809, -5.4112, -5.4084, -3.6319, -3.7574, -4.1385, -4.34, -4.401, -4.451, -4.4681, -4.5614, -4.6178, -4.6387, -4.6573, -4.6642, -4.7252, -4.7348, -4.8141, -4.8247, -4.8779, -4.9678, -5.0079, -5.051, -5.1123, -5.1506, -5.1532, -5.2132, -5.25, -5.2623, -5.265, -5.2964, -5.3216, -5.3726, -4.9182, -3.9103, -4.221, -4.3358, -4.3497, -4.3593, -4.3639, -4.3726, -4.3951, -4.3992, -4.4158, -4.492, -4.6991, -4.7647, -4.7846, -4.7891, -4.8057, -4.8313, -4.8897, -4.9056, -4.9176, -4.9846, -4.9963, -5.0247, -5.0347, -5.0875, -5.1004, -5.1337, -5.2188, -5.2453, -5.2474, -4.316, -3.7047, -3.8192, -3.9968, -4.1819, -4.2115, -4.3361, -4.3688, -4.6106, -4.8308, -4.8602, -4.9503, -4.9641, -4.9773, -4.9798, -5.0024, -5.0623, -5.0461, -5.1131, -5.1326, -5.1353, -5.133, -5.1743, -5.2218, -5.2358, -5.2995, -5.2993, -5.3232, -5.3739, -5.3868, -5.407], \"loglift\": [30.0, 29.0, 28.0, 27.0, 26.0, 25.0, 24.0, 23.0, 22.0, 21.0, 20.0, 19.0, 18.0, 17.0, 16.0, 15.0, 14.0, 13.0, 12.0, 11.0, 10.0, 9.0, 8.0, 7.0, 6.0, 5.0, 4.0, 3.0, 2.0, 1.0, 1.8233, 1.8233, 1.8233, 1.8084, 1.799, 1.7974, 1.7933, 1.7877, 1.7851, 1.7791, 1.7788, 1.7788, 1.776, 1.773, 1.77, 1.7658, 1.7643, 1.7572, 1.7556, 1.7546, 1.7503, 1.7467, 1.7461, 1.7459, 1.7442, 1.7408, 1.7382, 1.7376, 1.7292, 1.7276, 0.8231, 1.9103, 1.905, 1.8964, 1.8948, 1.8948, 1.8925, 1.8836, 1.8813, 1.8799, 1.8776, 1.8772, 1.8705, 1.8704, 1.8702, 1.8697, 1.8696, 1.8688, 1.8679, 1.8671, 1.8625, 1.8615, 1.855, 1.8531, 1.8521, 1.8495, 1.8477, 1.8476, 1.8466, 1.8453, 1.8418, 1.5574, 1.4086, 2.0126, 2.0044, 1.9978, 1.9936, 1.9918, 1.9798, 1.9798, 1.9796, 1.9753, 1.9713, 1.97, 1.9644, 1.9637, 1.9622, 1.9618, 1.9553, 1.9545, 1.9522, 1.9515, 1.9482, 1.9463, 1.9425, 1.9404, 1.9367, 1.9363, 1.9327, 1.9318, 1.9289, 1.9269, 1.9248, 1.6617, 2.22, 2.2156, 2.2021, 2.1948, 2.1897, 2.1882, 2.1872, 2.1845, 2.1822, 2.1802, 2.1798, 2.176, 2.1675, 2.1668, 2.1625, 2.1615, 2.1614, 2.1597, 2.1595, 2.1582, 2.1581, 2.1563, 2.156, 2.1486, 2.1444, 2.1421, 2.141, 2.1404, 2.1394, 2.1377, 2.27, 2.2697, 2.265, 2.2639, 2.2618, 2.2581, 2.2551, 2.2545, 2.251, 2.2456, 2.2438, 2.2409, 2.2396, 2.2372, 2.2216, 2.2164, 2.2151, 2.2129, 2.2082, 2.2054, 2.2041, 2.2041, 2.2028, 2.2025, 2.1971, 2.1964, 2.1921, 2.1899, 2.1892, 2.1875, 2.1874, 1.9737, 2.3378, 2.3267, 2.3156, 2.3074, 2.305, 2.3036, 2.2995, 2.2864, 2.2809, 2.2771, 2.2735, 2.2693, 2.2677, 2.2666, 2.2558, 2.2517, 2.2502, 2.25, 2.242, 2.2406, 2.2403, 2.2386, 2.238, 2.2332, 2.232, 2.2295, 2.2292, 2.2283, 2.2273, 2.2242, 2.224, 2.3876, 2.3845, 2.3723, 2.3638, 2.3609, 2.3584, 2.3575, 2.3524, 2.3491, 2.3478, 2.3467, 2.3463, 2.3423, 2.3417, 2.3362, 2.3354, 2.3314, 2.3242, 2.3204, 2.317, 2.3114, 2.3076, 2.3074, 2.3011, 2.2975, 2.2961, 2.2958, 2.2924, 2.2863, 2.2835, 1.999, 2.4398, 2.428, 2.4226, 2.422, 2.4215, 2.4212, 2.4208, 2.4197, 2.4195, 2.4186, 2.4144, 2.4014, 2.3968, 2.3953, 2.3949, 2.3937, 2.3917, 2.387, 2.3858, 2.3847, 2.3789, 2.3779, 2.3752, 2.3743, 2.3692, 2.368, 2.3646, 2.3555, 2.3526, 2.3524, 2.3156, 2.4734, 2.47, 2.4641, 2.4566, 2.4553, 2.4493, 2.4476, 2.4333, 2.4166, 2.4149, 2.4072, 2.4059, 2.4047, 2.4045, 2.4024, 2.3966, 2.3942, 2.3914, 2.3892, 2.3891, 2.3855, 2.3848, 2.3793, 2.3776, 2.3699, 2.3698, 2.3655, 2.3608, 2.3591, 2.3565]}, \"token.table\": {\"Topic\": [1, 8, 7, 3, 5, 7, 1, 1, 6, 1, 6, 7, 2, 8, 5, 9, 8, 8, 5, 3, 9, 7, 5, 4, 6, 4, 9, 3, 6, 7, 8, 6, 1, 5, 9, 9, 4, 9, 3, 4, 1, 1, 5, 3, 1, 5, 7, 3, 4, 3, 3, 8, 9, 8, 4, 5, 6, 5, 5, 2, 5, 4, 8, 2, 4, 8, 8, 8, 5, 3, 6, 1, 1, 4, 4, 3, 9, 7, 8, 5, 6, 4, 5, 9, 7, 3, 9, 7, 4, 4, 3, 9, 3, 1, 7, 9, 7, 7, 6, 2, 2, 1, 7, 5, 1, 7, 7, 5, 2, 7, 3, 2, 2, 5, 5, 4, 6, 2, 8, 9, 5, 6, 2, 1, 8, 2, 3, 8, 2, 6, 3, 1, 3, 5, 9, 1, 8, 4, 6, 2, 7, 8, 2, 3, 9, 1, 2, 1, 9, 5, 5, 9, 4, 4, 6, 9, 1, 8, 2, 9, 6, 3, 2, 4, 7, 5, 2, 7, 9, 3, 1, 9, 9, 7, 4, 1, 2, 7, 8, 9, 2, 6, 7, 2, 7, 3, 3, 7, 7, 7, 5, 7, 1, 6, 9, 1, 9, 5, 3, 1, 6, 2, 6, 3, 3, 4, 6, 7, 8, 8, 7, 9, 8, 6, 5, 7, 2, 8, 6, 2, 8, 4, 2, 4, 1, 1, 9, 3, 8, 8, 6, 2, 6, 1, 6, 3, 2, 1, 2, 1, 9, 2, 8, 5, 7, 6, 2, 1, 4, 5, 2, 6, 6, 3, 8, 3, 6, 3, 1, 6, 9, 3, 9, 5, 4, 5, 5, 3, 8, 4, 4, 1, 1, 4, 6, 2, 8, 4, 4, 4, 8, 5, 9, 5], \"Freq\": [0.9564992774690136, 0.9709859908284326, 0.8584207359515774, 0.9714861481817302, 0.9127557735702245, 0.9465682059179185, 0.9971093779941966, 0.9595366266432591, 0.9271117387771715, 0.8496463560529451, 0.9222891439471949, 0.9624908259356992, 0.9938183875169836, 0.9320366526718011, 0.9871344078045924, 0.8588568769130228, 0.9430008481692921, 0.9519650040377596, 0.9395427683735282, 0.9162070726118744, 0.9068862819811767, 0.9039434284730811, 0.9562004886495956, 0.9595790018592536, 0.8688802224619737, 0.9354326574319195, 0.9066113152091697, 0.9044673444898321, 0.8993325932965621, 0.9719407445759878, 0.8762789943228763, 0.949416846320358, 0.19301288726848698, 0.6755451054397044, 0.948902629907132, 0.9616151142189744, 0.8595387331468612, 0.9246335755527784, 0.9844911551660629, 0.8990890122412919, 0.9490106814355036, 0.9700397547548204, 0.8769526951531659, 0.9069259281548829, 0.992643154950992, 0.30137136748764165, 0.6780855768471937, 0.9641625606098398, 0.9674900409384093, 0.983051690755551, 0.9665930887731058, 0.8625015651490033, 0.889877223682286, 0.9795273024518873, 0.9831683384137633, 0.9508199070165565, 0.9933903868845572, 0.9610040696748748, 0.9570871667650593, 0.9520258729267157, 0.9555664368465916, 0.976137361362051, 0.8992394161039522, 0.9633663349016139, 0.9546076647258936, 0.8929238531897498, 0.8546403241331442, 0.9050767123199062, 0.9343364923814618, 0.9361692886749607, 0.9097774313338188, 0.8968903489938277, 0.9536254767408378, 0.9453819620818521, 0.9205955641965149, 0.9116593882142885, 0.7990548869174098, 0.9716352380138426, 0.9643153639173803, 0.8907218768660047, 0.9352357709227352, 0.8732487399548443, 0.9587756597283975, 0.9694008571399175, 0.9019560030575342, 0.9835123586232721, 0.8590654558181076, 0.9098009625774269, 0.933827285405242, 0.892344793616443, 0.9551477247517902, 0.7992819305147474, 0.9974597666542656, 0.9808070688244356, 0.9511826753571869, 0.8532113513190175, 0.9092648689591581, 0.9535504552786114, 0.9021935158906954, 0.9662552912411855, 0.9689948476047427, 0.9164920589255143, 0.9762451621879459, 0.9579304575845127, 0.9522071027818253, 0.969100097667268, 0.8848277555123509, 0.9255390583498492, 0.9576227187775106, 0.9081424771719272, 0.9481867188197091, 0.8997976197803986, 0.961561712216712, 0.9146289843196604, 0.9335449489071266, 0.9397755612697426, 0.9533048029833918, 0.9532117032183711, 0.9206979815893639, 0.9594251001049736, 0.957095171618873, 0.9872791409147342, 0.9136104624981971, 0.8987240325406572, 0.9689492430682901, 0.9591416115221933, 0.9542628774623704, 0.9045657226450191, 0.9786272028097185, 0.9841363965332706, 0.9264579797958864, 0.938998316255269, 0.946307652072008, 0.9338473168632132, 0.9479908780259342, 0.11325359875392835, 0.8494019906544626, 0.967758795028527, 0.9547979626846084, 0.8892968453396375, 0.9081622394544023, 0.8854359744446212, 0.6861209538287767, 0.2638926745495295, 0.8296243142542942, 0.3771568366605214, 0.6128798595733472, 0.9604935373293336, 0.9434766040281368, 0.958210178608133, 0.9191905543074308, 0.9537046794328575, 0.9415726927766667, 0.9671639310204044, 0.9774913317833346, 0.878104856439349, 0.9772745277261835, 0.9770829000021117, 0.9626486812294023, 0.9714529886376833, 0.9443943976594437, 0.9438850931539777, 0.9959475368671207, 0.8825045572674685, 0.9502762169531261, 0.9354539754891397, 0.9304468789263302, 0.849035000736448, 0.8275543780014636, 0.9503822798855132, 0.8717411065348608, 0.9547923209485959, 0.8248222595821114, 0.9460649681737593, 0.9719331068762198, 0.9288350768735845, 0.9486367352074239, 0.8605060006271749, 0.9203594938595111, 0.9407799739114086, 0.8904948796517215, 0.9621228958263865, 0.9738792974640439, 0.969085705348298, 0.9470396951313531, 0.984083275490168, 0.9600615293494921, 0.9676456341140239, 0.9825424944214165, 0.9582936305986175, 0.8829741231962975, 0.9059833606469013, 0.8770251656509837, 0.9243575361770575, 0.8958403048756876, 0.9971093779941966, 0.8628967319988834, 0.9318911642067387, 0.919114389157354, 0.9395869985109542, 0.9350692671651354, 0.9188955355153684, 0.9056585960971758, 0.9291619942094618, 0.8809157702694677, 0.949051104524367, 0.9494672003514587, 0.8752291991778672, 0.9151954741614642, 0.8946309994285941, 0.9632308062491683, 0.965062691886517, 0.8818623610886023, 0.9364329665995408, 0.9472236639609265, 0.9605921766655119, 0.9631288319744356, 0.9418374068290107, 0.9532416766744252, 0.9679892435313379, 0.9243730407267345, 0.922562898069227, 0.9184957253660634, 0.985391034769672, 0.9589665477496903, 0.8939197640205284, 0.9362235617394531, 0.9610502894543369, 0.9558745897787198, 0.9619309734972797, 0.82881169736061, 0.9711567347598479, 0.8726673554040799, 0.9971093779941966, 0.954766725494324, 0.8841511603913156, 0.9774689348501359, 0.966833735913624, 0.9801118802142028, 0.9333119693593009, 0.938492156280052, 0.9805084303620725, 0.9521794464145942, 0.9183765487905509, 0.8768651519097883, 0.8669183980338173, 0.90393263460814, 0.9189609258021935, 0.8998726925894742, 0.9578597549060569, 0.976341220882685, 0.9471697737937083, 0.8929236570287196, 0.9210707565236632, 0.8721222981603478, 0.8932011642325174, 0.8851160340127174, 0.9657457542321675, 0.9102456066844049, 0.8537121100832334, 0.814872107198994, 0.7184783625440623, 0.26126485910693176, 0.9491136340808701, 0.892895317719793, 0.9473158404235371, 0.934531116898048, 0.934785798245054, 0.8859361258294102, 0.8846283486434394, 0.9705006077199714, 0.9548574783619018, 0.8897235363734958, 0.9579319681973595, 0.8645968031527157, 0.9330018165613131, 0.9828098644850896, 0.9561399176570559, 0.9793862242440986, 0.9331288658244156, 0.9715043121796023, 0.9762015336650276, 0.969994025946466, 0.9565710156694246], \"Term\": [\"aber\", \"abschaffung\", \"abschiebung\", \"afd\", \"agrarpolitik\", \"alternative\", \"alternativefuer\", \"anderer\", \"angst\", \"arbeit\", \"arbeitsplatz\", \"art\", \"auch\", \"aufgabe\", \"ausbau\", \"ausbauen\", \"ausstatten\", \"ausweisung\", \"bauen_wohnen_miete\", \"bedarf\", \"bedeutung\", \"befurworten\", \"behorde\", \"beitrag\", \"bekennen\", \"bereich\", \"bereits\", \"beruf\", \"besonderer\", \"bestehend\", \"betrachten\", \"betrieb\", \"bevolkerung\", \"bevolkerung\", \"bevorzugen\", \"bewahren\", \"bewahrung\", \"bildung\", \"bleiben\", \"brauchen\", \"bringen\", \"bund\", \"bundesregierung\", \"bundesweit\", \"burger\", \"co\", \"co\", \"dabei\", \"dafur\", \"daher\", \"damit\", \"daraus\", \"daseinsvorsorge\", \"dazu\", \"deshalb\", \"deutlich\", \"deutsch\", \"digital\", \"digitalisierung\", \"eigen\", \"eigentum\", \"ein\", \"einfuhren\", \"einkommen\", \"einrichtung\", \"einseitig\", \"einstieg\", \"eltern\", \"energie\", \"energietrager\", \"entlasten\", \"entscheiden\", \"entscheidung\", \"entsprechend\", \"entwicklung\", \"erfolgen\", \"erfullung\", \"erhalten\", \"ermoglichen\", \"erneuerbar\", \"erreichen\", \"etwa\", \"eu\", \"europaisch\", \"fahrzeug\", \"familie\", \"familienpolitik\", \"finanziell\", \"finanzierung\", \"flache\", \"flachendeckend\", \"flugverkehr\", \"fordern\", \"forderung\", \"form\", \"forschung\", \"fortschritt\", \"frei\", \"freihalten\", \"freiheit\", \"fuhren\", \"geben\", \"gebiet\", \"gehoren\", \"gelten\", \"generell\", \"gerecht\", \"gesellschaft\", \"gesetzlich\", \"gestalten\", \"gesund\", \"gesundheitlich\", \"gewahrleisten\", \"gleich\", \"gro\\u00df\", \"grund\", \"grundgesetz\", \"grundlage\", \"grundlegend\", \"grundrecht\", \"grundsatzlich\", \"gut\", \"haben\", \"hand\", \"heimat\", \"heimisch\", \"hier\", \"historisch\", \"hoch\", \"identitat\", \"ideologisch\", \"immer\", \"industrie\", \"infrastruktur\", \"inhalt\", \"insbesondere\", \"insbesondere\", \"intakt\", \"integration\", \"international\", \"internet\", \"it\", \"jahr\", \"jahr\", \"jahrzehnt\", \"jedoch\", \"jedoch\", \"kind\", \"klima\", \"klima_energie_technik_digitalisierung\", \"kommen\", \"kommune\", \"konsequent\", \"krankenhaus\", \"kultur\", \"kulturell\", \"land\", \"landlich\", \"landwirt\", \"landwirtschaft\", \"leben\", \"lebensmittel\", \"lehnen\", \"leisten\", \"leistung\", \"liegen\", \"machen\", \"mafsnahm\", \"maf\\u00dfnahme\", \"medium\", \"mehr\", \"mensch\", \"mikroklima\", \"mindestens\", \"mittel\", \"mobilitat_infrastruktur\", \"moglich\", \"moglichkeit\", \"national\", \"natur\", \"nehmen\", \"netz\", \"neu\", \"noch\", \"notwendig\", \"nur\", \"nutzen\", \"nutzung\", \"offentlich\", \"okologisch\", \"orientieren\", \"ort\", \"partei\", \"patient\", \"pauschal\", \"paypal\", \"person\", \"plattform\", \"politik\", \"politisch\", \"pragen\", \"praxis\", \"prinzip\", \"produkt\", \"produktion\", \"rahmen\", \"recht\", \"rechtlich\", \"reduzieren\", \"reform\", \"region\", \"regional\", \"rente\", \"richten\", \"sauber\", \"schaden\", \"schaffen\", \"schaffung\", \"schule\", \"schutz\", \"schutzen\", \"sehen\", \"selbst\", \"setzen\", \"sicherheit\", \"sichern\", \"sicherstellen\", \"sinn\", \"so\", \"sogenannter\", \"souveranitat\", \"sozial\", \"sozialpolitik\", \"spenden\", \"sprache\", \"sprechen\", \"staat\", \"staatlich\", \"standard\", \"stark\", \"starken\", \"stehen\", \"stellen\", \"steuer\", \"stream\", \"streichen\", \"struktur\", \"technik\", \"technisch\", \"teil\", \"tier\", \"trager\", \"treffen\", \"umsetzung\", \"un\", \"unabhangig\", \"unrealistisch\", \"unterstutzen\", \"verantwortung\", \"verbessern\", \"verbotspolitik\", \"verbraucher\", \"verbraucher\", \"verhindern\", \"vermeiden\", \"versorgung\", \"verursachen\", \"verwaltung\", \"vollstandig\", \"voraussetzung\", \"wald\", \"weit\", \"weiter\", \"wert\", \"wesentlich\", \"wichtig\", \"wieder\", \"wirkung\", \"wirtschaft\", \"zahlen\", \"zentral\", \"ziel\", \"zudem\", \"zunehmend\"]}, \"R\": 30, \"lambda.step\": 0.01, \"plot.opts\": {\"xlab\": \"PC1\", \"ylab\": \"PC2\"}, \"topic.order\": [7, 9, 5, 6, 8, 1, 2, 3, 4]};\n",
       "\n",
       "function LDAvis_load_lib(url, callback){\n",
       "  var s = document.createElement('script');\n",
       "  s.src = url;\n",
       "  s.async = true;\n",
       "  s.onreadystatechange = s.onload = callback;\n",
       "  s.onerror = function(){console.warn(\"failed to load library \" + url);};\n",
       "  document.getElementsByTagName(\"head\")[0].appendChild(s);\n",
       "}\n",
       "\n",
       "if(typeof(LDAvis) !== \"undefined\"){\n",
       "   // already loaded: just create the visualization\n",
       "   !function(LDAvis){\n",
       "       new LDAvis(\"#\" + \"ldavis_el477961404338312813761348374723\", ldavis_el477961404338312813761348374723_data);\n",
       "   }(LDAvis);\n",
       "}else if(typeof define === \"function\" && define.amd){\n",
       "   // require.js is available: use it to load d3/LDAvis\n",
       "   require.config({paths: {d3: \"https://d3js.org/d3.v5\"}});\n",
       "   require([\"d3\"], function(d3){\n",
       "      window.d3 = d3;\n",
       "      LDAvis_load_lib(\"https://cdn.jsdelivr.net/gh/bmabey/pyLDAvis@3.3.1/pyLDAvis/js/ldavis.v3.0.0.js\", function(){\n",
       "        new LDAvis(\"#\" + \"ldavis_el477961404338312813761348374723\", ldavis_el477961404338312813761348374723_data);\n",
       "      });\n",
       "    });\n",
       "}else{\n",
       "    // require.js not available: dynamically load d3 & LDAvis\n",
       "    LDAvis_load_lib(\"https://d3js.org/d3.v5.js\", function(){\n",
       "         LDAvis_load_lib(\"https://cdn.jsdelivr.net/gh/bmabey/pyLDAvis@3.3.1/pyLDAvis/js/ldavis.v3.0.0.js\", function(){\n",
       "                 new LDAvis(\"#\" + \"ldavis_el477961404338312813761348374723\", ldavis_el477961404338312813761348374723_data);\n",
       "            })\n",
       "         });\n",
       "}\n",
       "</script>"
      ],
      "text/plain": [
       "PreparedData(topic_coordinates=              x         y  topics  cluster       Freq\n",
       "topic                                                \n",
       "6     -0.100266  0.351095       1        1  16.098735\n",
       "8      0.294055  0.092383       2        1  14.714888\n",
       "4     -0.241257  0.105460       3        1  13.289037\n",
       "5      0.057784 -0.272712       4        1  10.686051\n",
       "7      0.099218  0.185349       5        1  10.054408\n",
       "0     -0.149893 -0.223674       6        1   9.554732\n",
       "1     -0.210116 -0.066538       7        1   8.970947\n",
       "2      0.034076 -0.034137       8        1   8.434545\n",
       "3      0.216400 -0.137227       9        1   8.196657, topic_info=                 Term        Freq       Total Category  logprob  loglift\n",
       "4708          spenden  249.000000  249.000000  Default  30.0000  30.0000\n",
       "4706  alternativefuer  249.000000  249.000000  Default  29.0000  29.0000\n",
       "4707           paypal  249.000000  249.000000  Default  28.0000  28.0000\n",
       "173           fordern  132.000000  132.000000  Default  27.0000  27.0000\n",
       "485              auch  124.000000  124.000000  Default  26.0000  26.0000\n",
       "...               ...         ...         ...      ...      ...      ...\n",
       "381         erfullung    5.485432    6.257392   Topic9  -5.2993   2.3698\n",
       "4329   verbotspolitik    5.355748    6.135932   Topic9  -5.3232   2.3655\n",
       "318         forschung    5.091397    5.860213   Topic9  -5.3739   2.3608\n",
       "2346           person    5.025875    5.794436   Topic9  -5.3868   2.3591\n",
       "472         kulturell    4.925560    5.694081   Topic9  -5.4070   2.3565\n",
       "\n",
       "[309 rows x 6 columns], token_table=      Topic      Freq          Term\n",
       "term                               \n",
       "461       1  0.956499          aber\n",
       "57        8  0.970986   abschaffung\n",
       "155       7  0.858421   abschiebung\n",
       "1281      3  0.971486           afd\n",
       "390       5  0.912756  agrarpolitik\n",
       "...     ...       ...           ...\n",
       "515       4  0.933129        zahlen\n",
       "1101      8  0.971504       zentral\n",
       "884       5  0.976202          ziel\n",
       "1151      9  0.969994         zudem\n",
       "1490      5  0.956571     zunehmend\n",
       "\n",
       "[284 rows x 3 columns], R=30, lambda_step=0.01, plot_opts={'xlab': 'PC1', 'ylab': 'PC2'}, topic_order=[7, 9, 5, 6, 8, 1, 2, 3, 4])"
      ]
     },
     "execution_count": 30,
     "metadata": {},
     "output_type": "execute_result"
    }
   ],
   "source": [
    "pyLDAvis.enable_notebook()\n",
    "vis=gensimvis.prepare(lda_model,corpus,id2word,mds='mmds',R=30)\n",
    "vis"
   ]
  },
  {
   "cell_type": "code",
   "execution_count": null,
   "metadata": {},
   "outputs": [],
   "source": []
  },
  {
   "cell_type": "code",
   "execution_count": null,
   "metadata": {},
   "outputs": [],
   "source": []
  }
 ],
 "metadata": {
  "kernelspec": {
   "display_name": "Python 3.9.15",
   "language": "python",
   "name": "python3"
  },
  "language_info": {
   "codemirror_mode": {
    "name": "ipython",
    "version": 3
   },
   "file_extension": ".py",
   "mimetype": "text/x-python",
   "name": "python",
   "nbconvert_exporter": "python",
   "pygments_lexer": "ipython3",
   "version": "3.9.15"
  },
  "orig_nbformat": 4,
  "vscode": {
   "interpreter": {
    "hash": "5e80c858e1a042a35b4ff88d7e6624ca09bf0a410f40b4a2cdad7117390c2b73"
   }
  }
 },
 "nbformat": 4,
 "nbformat_minor": 2
}
