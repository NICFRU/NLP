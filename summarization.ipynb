{
 "cells": [
  {
   "cell_type": "code",
   "execution_count": 17,
   "metadata": {},
   "outputs": [],
   "source": [
    "import pandas as pd\n",
    "import numpy as np\n",
    "import matplotlib.pyplot as plt\n",
    "import seaborn as sb\n",
    "import nltk\n",
    "import re\n",
    "import datasets\n",
    "from tqdm import tqdm\n",
    "import torch\n",
    "\n",
    "from transformers import pipeline\n",
    "\n",
    "import warnings\n",
    "warnings.simplefilter(action='ignore', category=FutureWarning)"
   ]
  },
  {
   "cell_type": "code",
   "execution_count": 14,
   "metadata": {},
   "outputs": [
    {
     "name": "stderr",
     "output_type": "stream",
     "text": [
      "Downloading: 100%|██████████| 1.50k/1.50k [00:00<00:00, 1.50MB/s]\n",
      "Downloading: 100%|██████████| 892M/892M [01:15<00:00, 11.8MB/s] \n",
      "Downloading: 100%|██████████| 2.37k/2.37k [00:00<00:00, 2.37MB/s]\n",
      "Downloading: 100%|██████████| 792k/792k [00:00<00:00, 8.11MB/s]\n",
      "Downloading: 100%|██████████| 2.42M/2.42M [00:02<00:00, 942kB/s] \n",
      "Downloading: 100%|██████████| 2.20k/2.20k [00:00<00:00, 2.21MB/s]\n"
     ]
    }
   ],
   "source": [
    "classifier = pipeline(\"summarization\", \"Einmalumdiewelt/T5-Base_GNAD\")\n"
   ]
  },
  {
   "cell_type": "code",
   "execution_count": 18,
   "metadata": {},
   "outputs": [
    {
     "ename": "UnicodeDecodeError",
     "evalue": "'charmap' codec can't decode byte 0x9d in position 1469: character maps to <undefined>",
     "output_type": "error",
     "traceback": [
      "\u001b[1;31m---------------------------------------------------------------------------\u001b[0m",
      "\u001b[1;31mUnicodeDecodeError\u001b[0m                        Traceback (most recent call last)",
      "Cell \u001b[1;32mIn[18], line 2\u001b[0m\n\u001b[0;32m      1\u001b[0m \u001b[39mwith\u001b[39;00m \u001b[39mopen\u001b[39m(\u001b[39m'\u001b[39m\u001b[39minput/AFD_Wahlprogramm_2021.txt\u001b[39m\u001b[39m'\u001b[39m) \u001b[39mas\u001b[39;00m f:\n\u001b[1;32m----> 2\u001b[0m     lines \u001b[39m=\u001b[39m f\u001b[39m.\u001b[39;49mreadlines()\n\u001b[0;32m      3\u001b[0m lines\n",
      "File \u001b[1;32mc:\\Users\\nikla\\anaconda3\\envs\\tf-gpu\\lib\\encodings\\cp1252.py:23\u001b[0m, in \u001b[0;36mIncrementalDecoder.decode\u001b[1;34m(self, input, final)\u001b[0m\n\u001b[0;32m     22\u001b[0m \u001b[39mdef\u001b[39;00m \u001b[39mdecode\u001b[39m(\u001b[39mself\u001b[39m, \u001b[39minput\u001b[39m, final\u001b[39m=\u001b[39m\u001b[39mFalse\u001b[39;00m):\n\u001b[1;32m---> 23\u001b[0m     \u001b[39mreturn\u001b[39;00m codecs\u001b[39m.\u001b[39;49mcharmap_decode(\u001b[39minput\u001b[39;49m,\u001b[39mself\u001b[39;49m\u001b[39m.\u001b[39;49merrors,decoding_table)[\u001b[39m0\u001b[39m]\n",
      "\u001b[1;31mUnicodeDecodeError\u001b[0m: 'charmap' codec can't decode byte 0x9d in position 1469: character maps to <undefined>"
     ]
    }
   ],
   "source": [
    "with open('input/AFD_Wahlprogramm_2021.txt') as f:\n",
    "    lines = f.readlines()\n",
    "lines"
   ]
  },
  {
   "cell_type": "code",
   "execution_count": null,
   "metadata": {},
   "outputs": [],
   "source": []
  }
 ],
 "metadata": {
  "kernelspec": {
   "display_name": "tf-gpu",
   "language": "python",
   "name": "python3"
  },
  "language_info": {
   "codemirror_mode": {
    "name": "ipython",
    "version": 3
   },
   "file_extension": ".py",
   "mimetype": "text/x-python",
   "name": "python",
   "nbconvert_exporter": "python",
   "pygments_lexer": "ipython3",
   "version": "3.9.15"
  },
  "orig_nbformat": 4,
  "vscode": {
   "interpreter": {
    "hash": "f599085227da76de7860c088523293673b66c34e63d5f725449b4547148eb02d"
   }
  }
 },
 "nbformat": 4,
 "nbformat_minor": 2
}
