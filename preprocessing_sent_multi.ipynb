{
 "cells": [
  {
   "cell_type": "markdown",
   "metadata": {},
   "source": [
    "# Imports"
   ]
  },
  {
   "cell_type": "code",
   "execution_count": 3,
   "metadata": {},
   "outputs": [
    {
     "name": "stderr",
     "output_type": "stream",
     "text": [
      "/Users/niclascramer/opt/miniconda3/envs/NLP/lib/python3.9/site-packages/scipy/__init__.py:146: UserWarning: A NumPy version >=1.16.5 and <1.23.0 is required for this version of SciPy (detected version 1.23.4\n",
      "  warnings.warn(f\"A NumPy version >={np_minversion} and <{np_maxversion}\"\n"
     ]
    }
   ],
   "source": [
    "import spacy\n",
    "import pandas as pd\n",
    "import matplotlib.pyplot as mltp\n",
    "#from nltk.tokenize import word_tokenize, sent_tokenize\n",
    "#import nltk\n",
    "import sklearn as sk\n",
    "import seaborn as sea\n",
    "import re \n",
    "from tqdm import tqdm"
   ]
  },
  {
   "cell_type": "markdown",
   "metadata": {},
   "source": [
    "Pyteseract --> ausgabe der inhalte der lokalitäten --> basierend davon die inhalte rausmacht --> coordinaten der paragrapthen oder der seitenzahlen zu erkennen \n",
    "whaitet baises sehen\n",
    "\n"
   ]
  },
  {
   "cell_type": "markdown",
   "metadata": {},
   "source": [
    "# processing"
   ]
  },
  {
   "cell_type": "code",
   "execution_count": 10,
   "metadata": {},
   "outputs": [],
   "source": [
    "filename='data/AFD_Wahlprogramm_2021.txt'"
   ]
  },
  {
   "cell_type": "code",
   "execution_count": 77,
   "metadata": {},
   "outputs": [],
   "source": [
    "def sentence_file(filename):\n",
    "    with open(filename) as f:\n",
    "        text = f.read()\n",
    "        \n",
    "        #text = text.replace(r'\\\\d+\\\\n', '$')\n",
    "        #text=   re.sub(\"\\n\\n\", \".\", text)\n",
    "        #text=   re.sub(\"\\d+.\", \".\", text)\n",
    "        text=   re.sub(\" \\d+\\n\", \".\", text)\n",
    "        text=   re.sub(\"\\n\\d+\", \" \", text)\n",
    "        text=   re.sub(\"\\n\", \" \", text)\n",
    "        \n",
    "    return re.split(r' *[\\.\\?!][\\'\"\\)\\]]* *', text)\n"
   ]
  },
  {
   "cell_type": "code",
   "execution_count": 84,
   "metadata": {},
   "outputs": [],
   "source": [
    "def multi_sentence_file(filenames,folder):\n",
    "    liste_files=[]\n",
    "    for fname in filenames:\n",
    "        with open(folder+'/'+fname) as f:\n",
    "            text = f.read()\n",
    "            \n",
    "        \n",
    "            #text = text.replace(r'\\\\d+\\\\n', '$')\n",
    "            #text=   re.sub(\"\\n\\n\", \".\", text)\n",
    "            #text=   re.sub(\"\\d+.\", \".\", text)\n",
    "            text=   re.sub(\" \\d+\\n\", \".\", text)\n",
    "            text=   re.sub(\"\\n\\d+\", \" \", text)\n",
    "            text=   re.sub(\"\\n\", \" \", text)\n",
    "            text=re.split(r' *[\\.\\?!][\\'\"\\)\\]]* *', text)\n",
    "        liste_files.append(text)\n",
    "    return liste_files"
   ]
  },
  {
   "cell_type": "code",
   "execution_count": 78,
   "metadata": {},
   "outputs": [],
   "source": [
    "sentences=sentence_file(filename)"
   ]
  },
  {
   "cell_type": "code",
   "execution_count": 79,
   "metadata": {},
   "outputs": [
    {
     "data": {
      "text/plain": [
       "['Deutschland',\n",
       " 'Aber normal',\n",
       " 'normal',\n",
       " 'Programm der Alternative für Deutschland für die Wahl zum 20',\n",
       " 'Deutschen Bundestag  AD',\n",
       " 'Inhaltsverzeichnis  Demokratie und Rechtsstaat',\n",
       " 'Das Volk ist der Souverän',\n",
       " 'Volksabstimmungen nach Schweizer Modell',\n",
       " 'Die Gewaltenteilung gewährleisten',\n",
       " 'Entpolitisierung der Justiz']"
      ]
     },
     "execution_count": 79,
     "metadata": {},
     "output_type": "execute_result"
    }
   ],
   "source": [
    "sentences[0:10]"
   ]
  },
  {
   "cell_type": "code",
   "execution_count": 80,
   "metadata": {},
   "outputs": [],
   "source": [
    "def string_create(senten):\n",
    "    string=''\n",
    "    for sent in tqdm(senten):\n",
    "        string+=' '+sent\n",
    "    return string"
   ]
  },
  {
   "cell_type": "code",
   "execution_count": 81,
   "metadata": {},
   "outputs": [],
   "source": [
    "from os import listdir\n",
    "from os.path import isfile, join\n",
    "onlyfiles = [f for f in listdir('data') if isfile(join('data', f))]"
   ]
  },
  {
   "cell_type": "code",
   "execution_count": 82,
   "metadata": {},
   "outputs": [
    {
     "data": {
      "text/plain": [
       "['DIE_GRUENEN_Wahlprogramm_2021.txt',\n",
       " 'FDP_Wahlprogramm_2021.txt',\n",
       " 'DIE_LINKE_Wahlprogramm_2021.txt',\n",
       " 'CDU-CSU_Wahlrprogramm_2021.txt',\n",
       " 'SPD_Wahlprogramm_2021.txt',\n",
       " 'AFD_Wahlprogramm_2021.txt']"
      ]
     },
     "execution_count": 82,
     "metadata": {},
     "output_type": "execute_result"
    }
   ],
   "source": [
    "onlyfiles"
   ]
  },
  {
   "cell_type": "code",
   "execution_count": 93,
   "metadata": {},
   "outputs": [
    {
     "name": "stdout",
     "output_type": "stream",
     "text": [
      "['IEITTESALTENTR Alles ist drin', 'Bundestagswahlprogramm', 'Bereit, weil Ihr es seid', 'Dieses Bundestagswahlprogramm wurde auf der 46', 'Bundesdelegiertenkonferenz von BÜNDNIS 90/DIE GRÜNEN beschlossen, die vom 11', 'bis 13', 'Juni 2021 digital stattgefunden hat', 'Herausgeberin:  BÜNDNIS 90/DIE GRÜNEN Platz vor dem Neuen Tor', '10115 Berlin  Telefon: 030 28442-0  Fax: 030 28442-210 E-Mail: info@gruene', 'de Internet: gruene']\n"
     ]
    },
    {
     "name": "stderr",
     "output_type": "stream",
     "text": [
      "100%|██████████| 5068/5068 [00:00<00:00, 3921906.40it/s]\n"
     ]
    },
    {
     "name": "stdout",
     "output_type": "stream",
     "text": [
      "['Freie Demokraten Freie Demokraten  Beschluss des 72', 'Ord', 'Bundesparteitag der Freien Demokraten vom 14', '-16', 'Mai', 'Wie es ist, darf es nicht bleiben', 'cccccceeee seen essen een ee e ee error eeeeeereeeeee ne', 'Werden wir das Land, das in uns steckt', '22 ccccoeeeeeneenee nennen een nee ers seen eeeeen ne', 'Die richtige Richtung: durch die Mitte nach vorne']\n"
     ]
    },
    {
     "name": "stderr",
     "output_type": "stream",
     "text": [
      "100%|██████████| 2414/2414 [00:00<00:00, 3888267.99it/s]\n"
     ]
    },
    {
     "name": "stdout",
     "output_type": "stream",
     "text": [
      "['Zeitzu handeln', 'Für soziale Sicherheit, Frieden und Klimagerechtigkeit  WE Lelleigersägzlanlge zur Bundestagswahl', 'DIE LINKE', 'Wahlprogramm der Partei DIE LINKE zur Bundestagswahl', 'Beschlossen auf dem Bundesparteitag am 19', 'und 20', 'Juni', 'Inhalt  Einführung', '22ccccccccsscn', 'Es kommt auf unsaalle an']\n"
     ]
    },
    {
     "name": "stderr",
     "output_type": "stream",
     "text": [
      "100%|██████████| 5356/5356 [00:00<00:00, 4123475.08it/s]\n"
     ]
    },
    {
     "name": "stdout",
     "output_type": "stream",
     "text": [
      "['Inhaltsverzeichnis  Einleitung', '2s0000000000ssssonnsnsssnnsnssnnnnnnsnnnnnnsnnnnnssnnnssnsnnnnssnnnsnnsnnnssssnnnnsnsnnsnsssnssnnsnnnee', 'Neue Verantwortung Deutschlands in der Welt - aus Überzeugung für Frieden,  Freiheit und Menschenrechte', 'oossss0ossssssnnssssonnnnsssnnnnssnnnnsssnnnnsnsnnnnnsnnnsnssnnnne', '1', '1', 'Stärkung der werte- und regelbasierten internationalen Ordnung', '1', '2', 'Deutschland als Stabilitätsanker in der globalen Welt']\n"
     ]
    },
    {
     "name": "stderr",
     "output_type": "stream",
     "text": [
      "100%|██████████| 3078/3078 [00:00<00:00, 4103645.17it/s]\n"
     ]
    },
    {
     "name": "stdout",
     "output_type": "stream",
     "text": [
      "['> | >\" EZDRESPEKT  VOR DEINER AU] (0) |', '> *  DAS ZUKUNFTSPROGRAMM DER SPD  WOFÜR WIR STEHEN', 'WAS UNS ANTREIBT', 'WONACH WIR STREBEN', 'Soziale Politik für Dich', '0', 'Zukunft', 'Respekt', 'Europa', '>»3']\n"
     ]
    },
    {
     "name": "stderr",
     "output_type": "stream",
     "text": [
      "100%|██████████| 1837/1837 [00:00<00:00, 4425580.96it/s]\n"
     ]
    },
    {
     "name": "stdout",
     "output_type": "stream",
     "text": [
      "['Deutschland', 'Aber normal', 'normal', 'Programm der Alternative für Deutschland für die Wahl zum 20', 'Deutschen Bundestag  AD', 'Inhaltsverzeichnis  Demokratie und Rechtsstaat', 'Das Volk ist der Souverän', 'Volksabstimmungen nach Schweizer Modell', 'Die Gewaltenteilung gewährleisten', 'Entpolitisierung der Justiz']\n"
     ]
    },
    {
     "name": "stderr",
     "output_type": "stream",
     "text": [
      "100%|██████████| 1983/1983 [00:00<00:00, 3528767.43it/s]\n"
     ]
    }
   ],
   "source": [
    "liste_programmtexte=[]\n",
    "liste_fil=multi_sentence_file(onlyfiles,'data')\n",
    "for elemente in liste_fil:\n",
    "    elemente=[x for x in elemente if x]\n",
    "    print(elemente[0:10])\n",
    "    liste_programmtexte.append(string_create(elemente))"
   ]
  },
  {
   "cell_type": "code",
   "execution_count": 95,
   "metadata": {},
   "outputs": [
    {
     "data": {
      "text/plain": [
       "' IEITTESALTENTR Alles ist drin Bundestagswahlprogramm Bereit, weil Ihr es seid Dieses Bundestagswahlprogramm wurde auf der 46 Bundesdelegiertenkonferenz von BÜNDNIS 90/DIE GRÜNEN beschlossen, die vom '"
      ]
     },
     "execution_count": 95,
     "metadata": {},
     "output_type": "execute_result"
    }
   ],
   "source": [
    "liste_programmtexte[0][0:200]"
   ]
  },
  {
   "cell_type": "code",
   "execution_count": 97,
   "metadata": {},
   "outputs": [],
   "source": [
    "text=sentences"
   ]
  },
  {
   "cell_type": "code",
   "execution_count": 98,
   "metadata": {},
   "outputs": [
    {
     "data": {
      "text/plain": [
       "2086"
      ]
     },
     "execution_count": 98,
     "metadata": {},
     "output_type": "execute_result"
    }
   ],
   "source": [
    "len(text)"
   ]
  },
  {
   "cell_type": "code",
   "execution_count": 30,
   "metadata": {},
   "outputs": [
    {
     "data": {
      "text/plain": [
       "''"
      ]
     },
     "execution_count": 30,
     "metadata": {},
     "output_type": "execute_result"
    }
   ],
   "source": [
    "text[0:20:-1]"
   ]
  },
  {
   "cell_type": "code",
   "execution_count": 99,
   "metadata": {},
   "outputs": [],
   "source": [
    "import numpy as np\n",
    "import json\n",
    "import glob\n",
    "\n",
    "import gensim\n",
    "import gensim.corpora as corpora\n",
    "from gensim.utils import simple_preprocess\n",
    "from gensim.models import CoherenceModel\n",
    "\n",
    "import spacy\n",
    "from spacy.lang.de.examples import sentences \n",
    "from nltk.corpus import stopwords\n",
    "\n",
    "import pyLDAvis\n",
    "import pyLDAvis.gensim_models as gensimvis\n",
    "\n",
    "import pickle \n",
    "\n",
    "import warnings\n",
    "warnings.filterwarnings('ignore',category=DeprecationWarning)"
   ]
  },
  {
   "cell_type": "code",
   "execution_count": 100,
   "metadata": {},
   "outputs": [],
   "source": [
    "german_stop_words= stopwords.words('german')"
   ]
  },
  {
   "cell_type": "code",
   "execution_count": null,
   "metadata": {},
   "outputs": [],
   "source": [
    "python -m spacy download de_core_news_lg \n",
    "\n",
    "#--> morgen"
   ]
  },
  {
   "cell_type": "code",
   "execution_count": 103,
   "metadata": {},
   "outputs": [],
   "source": [
    "def lemmatization_test(texts,  allowed_posttags=['NOUN','ADJ','VERB','ADV']):\n",
    "    nlp=spacy.load('de_core_news_sm',disable=['parser','ner'])\n",
    "    texts_out=[]\n",
    "    for text in tqdm(texts):\n",
    "        doc= nlp(text)\n",
    "        new_text=[]\n",
    "        for token in doc:\n",
    "            if token.pos_ in allowed_posttags:\n",
    "                new_text.append(token.lemma_)\n",
    "        final=' '.join(new_text)\n",
    "        texts_out.append(final)\n",
    "    return texts_out"
   ]
  },
  {
   "cell_type": "code",
   "execution_count": 104,
   "metadata": {},
   "outputs": [
    {
     "name": "stderr",
     "output_type": "stream",
     "text": [
      "100%|██████████| 6/6 [00:20<00:00,  3.38s/it]\n"
     ]
    }
   ],
   "source": [
    "lemma_text=lemmatization_test(liste_programmtexte)"
   ]
  },
  {
   "cell_type": "code",
   "execution_count": 124,
   "metadata": {},
   "outputs": [],
   "source": [
    "#lemma_text[0:2][0:10]"
   ]
  },
  {
   "cell_type": "code",
   "execution_count": 129,
   "metadata": {},
   "outputs": [
    {
     "name": "stderr",
     "output_type": "stream",
     "text": [
      "100%|██████████| 2086/2086 [00:05<00:00, 406.47it/s]\n",
      "100%|██████████| 2086/2086 [00:04<00:00, 454.54it/s]\n"
     ]
    }
   ],
   "source": [
    "#lemma_text=lemmatization_test(text)\n",
    "#lemma_text = list(filter(None, lemma_text))\n"
   ]
  },
  {
   "cell_type": "code",
   "execution_count": 105,
   "metadata": {},
   "outputs": [],
   "source": [
    "def gen_words(texts):\n",
    "    final=[]\n",
    "    for text in tqdm(texts):\n",
    "        new= gensim.utils.simple_preprocess(text,deacc=True)\n",
    "        final.append(new)\n",
    "    return final"
   ]
  },
  {
   "cell_type": "code",
   "execution_count": 106,
   "metadata": {},
   "outputs": [
    {
     "name": "stderr",
     "output_type": "stream",
     "text": [
      "100%|██████████| 6/6 [00:00<00:00, 26.19it/s]\n"
     ]
    }
   ],
   "source": [
    "data_words=gen_words(lemma_text)\n"
   ]
  },
  {
   "cell_type": "code",
   "execution_count": 107,
   "metadata": {},
   "outputs": [],
   "source": [
    "bigram_phrases=gensim.models.Phrases(data_words,min_count=3,threshold=100)\n",
    "trigram_phases=gensim.models.Phrases(bigram_phrases[data_words],threshold=50)\n",
    "\n",
    "bigram=gensim.models.phrases.Phraser(bigram_phrases)\n",
    "trigram=gensim.models.phrases.Phraser(trigram_phases)\n",
    "\n",
    "def make_bigrams(texts):\n",
    "    return [bigram[doc] for doc in texts]\n",
    "\n",
    "def make_trgram(texts):\n",
    "    return [trigram[bigram[doc]] for doc in texts]\n",
    "\n",
    "data_bigrams=make_bigrams(data_words)\n",
    "data_bigrams_trigrams=make_trgram(data_bigrams)"
   ]
  },
  {
   "cell_type": "code",
   "execution_count": null,
   "metadata": {},
   "outputs": [],
   "source": []
  },
  {
   "cell_type": "code",
   "execution_count": 125,
   "metadata": {},
   "outputs": [
    {
     "name": "stderr",
     "output_type": "stream",
     "text": [
      "100%|██████████| 6/6 [00:01<00:00,  5.14it/s]\n"
     ]
    }
   ],
   "source": [
    "from gensim.models import TfidfModel\n",
    "\n",
    "id2word=corpora.Dictionary(data_bigrams_trigrams)\n",
    "\n",
    "texts = data_bigrams_trigrams\n",
    "\n",
    "corpus=[id2word.doc2bow(text) for text in texts]\n",
    "\n",
    "#\n",
    "# \n",
    "# print(corpus[3])\n",
    "\n",
    "tfidf=TfidfModel(corpus,id2word=id2word)\n",
    "\n",
    "low_value=0.03\n",
    "words=[]\n",
    "words_missing_in_tfdf=[]\n",
    "\n",
    "for i in tqdm(range(0,len(corpus))):\n",
    "    bow = corpus[i]\n",
    "    low_value_words = [] #reinitialize to be safe. You can skip this.\n",
    "    tfidf_ids = [id for id, value in tfidf[bow]]\n",
    "    bow_ids = [id for id, value in bow]\n",
    "    low_value_words = [id for id, value in tfidf[bow] if value < low_value]\n",
    "    drops=low_value_words+words_missing_in_tfdf\n",
    "    for item in drops:\n",
    "        words.append(id2word[item])\n",
    "    words_missing_in_tfidf = [id for id in bow_ids if id not in tfidf_ids] # The words with tf-idf socre 0 will be missing\n",
    "\n",
    "    new_bow = [b for b in bow if b[0] not in low_value_words and b[0] not in words_missing_in_tfidf]  \n",
    "    corpus[i]=new_bow\n"
   ]
  },
  {
   "cell_type": "code",
   "execution_count": 126,
   "metadata": {},
   "outputs": [],
   "source": [
    "topics=['climate',\n",
    "'economy',\n",
    "'education',\n",
    "'health',\n",
    "'infrastructure',\n",
    "'science',\n",
    "'social causes',\n",
    "'politics and ideology',\n",
    "'technology and entrepreneurship']"
   ]
  },
  {
   "cell_type": "code",
   "execution_count": 127,
   "metadata": {},
   "outputs": [],
   "source": [
    "num_topics=len(topics)"
   ]
  },
  {
   "cell_type": "code",
   "execution_count": 128,
   "metadata": {},
   "outputs": [],
   "source": [
    "lda_model=gensim.models.ldamodel.LdaModel(\n",
    "corpus=corpus,\n",
    "id2word=id2word,\n",
    "num_topics=num_topics,\n",
    "random_state=100,\n",
    "update_every=1,\n",
    "chunksize=100,\n",
    "passes=10,\n",
    "alpha='auto'\n",
    ")"
   ]
  },
  {
   "cell_type": "code",
   "execution_count": 129,
   "metadata": {},
   "outputs": [
    {
     "name": "stdout",
     "output_type": "stream",
     "text": [
      "{0: 0.41700000000000026, 1: 0.3380000000000002, 2: 0.2620000000000001, 3: 0.0, 4: 0.0, 5: 0.0, 6: 0.0, 7: 0.26200000000000007, 8: 0.0}\n"
     ]
    }
   ],
   "source": [
    "dic={}\n",
    "dic_sum={}\n",
    "for idx, topic in lda_model.print_topics(num_topics,num_words=100):\n",
    "    elements=[]\n",
    "    percent=[]\n",
    "\n",
    "    for e in topic.split('+'):\n",
    "        elements.append(e.split('*')[1].replace('\"','').strip())\n",
    "        percent.append(float(e.split('*')[0].replace('\"','').strip()))\n",
    "\n",
    "    dic[str(idx)+'_word']=elements\n",
    "    dic[str(idx)+'_per']=percent\n",
    "    dic_sum[idx]=sum(percent)\n",
    "print(dic_sum)"
   ]
  },
  {
   "cell_type": "code",
   "execution_count": 130,
   "metadata": {},
   "outputs": [
    {
     "data": {
      "text/html": [
       "<div>\n",
       "<style scoped>\n",
       "    .dataframe tbody tr th:only-of-type {\n",
       "        vertical-align: middle;\n",
       "    }\n",
       "\n",
       "    .dataframe tbody tr th {\n",
       "        vertical-align: top;\n",
       "    }\n",
       "\n",
       "    .dataframe thead th {\n",
       "        text-align: right;\n",
       "    }\n",
       "</style>\n",
       "<table border=\"1\" class=\"dataframe\">\n",
       "  <thead>\n",
       "    <tr style=\"text-align: right;\">\n",
       "      <th></th>\n",
       "      <th>0_word</th>\n",
       "      <th>0_per</th>\n",
       "      <th>1_word</th>\n",
       "      <th>1_per</th>\n",
       "      <th>2_word</th>\n",
       "      <th>2_per</th>\n",
       "      <th>3_word</th>\n",
       "      <th>3_per</th>\n",
       "      <th>4_word</th>\n",
       "      <th>4_per</th>\n",
       "      <th>5_word</th>\n",
       "      <th>5_per</th>\n",
       "      <th>6_word</th>\n",
       "      <th>6_per</th>\n",
       "      <th>7_word</th>\n",
       "      <th>7_per</th>\n",
       "      <th>8_word</th>\n",
       "      <th>8_per</th>\n",
       "    </tr>\n",
       "  </thead>\n",
       "  <tbody>\n",
       "    <tr>\n",
       "      <th>0</th>\n",
       "      <td>inn</td>\n",
       "      <td>0.029</td>\n",
       "      <td>frei_demokrat</td>\n",
       "      <td>0.083</td>\n",
       "      <td>spd_parteivorstand</td>\n",
       "      <td>0.019</td>\n",
       "      <td>inn</td>\n",
       "      <td>0.0</td>\n",
       "      <td>inn</td>\n",
       "      <td>0.0</td>\n",
       "      <td>einfach</td>\n",
       "      <td>0.0</td>\n",
       "      <td>inn</td>\n",
       "      <td>0.0</td>\n",
       "      <td>grunen</td>\n",
       "      <td>0.051</td>\n",
       "      <td>inn</td>\n",
       "      <td>0.0</td>\n",
       "    </tr>\n",
       "    <tr>\n",
       "      <th>1</th>\n",
       "      <td>kapitel</td>\n",
       "      <td>0.022</td>\n",
       "      <td>bundestagswahl</td>\n",
       "      <td>0.021</td>\n",
       "      <td>inn</td>\n",
       "      <td>0.015</td>\n",
       "      <td>kapitel</td>\n",
       "      <td>0.0</td>\n",
       "      <td>grunen</td>\n",
       "      <td>0.0</td>\n",
       "      <td>innovation</td>\n",
       "      <td>0.0</td>\n",
       "      <td>solidarisch</td>\n",
       "      <td>0.0</td>\n",
       "      <td>innen</td>\n",
       "      <td>0.049</td>\n",
       "      <td>kapitel</td>\n",
       "      <td>0.0</td>\n",
       "    </tr>\n",
       "    <tr>\n",
       "      <th>2</th>\n",
       "      <td>solidarisch</td>\n",
       "      <td>0.019</td>\n",
       "      <td>programm_frei_demokrat</td>\n",
       "      <td>0.020</td>\n",
       "      <td>politik_kapitel</td>\n",
       "      <td>0.014</td>\n",
       "      <td>solidarisch</td>\n",
       "      <td>0.0</td>\n",
       "      <td>grunen_kapitel_kapitel_bereit</td>\n",
       "      <td>0.0</td>\n",
       "      <td>burgerin_burger</td>\n",
       "      <td>0.0</td>\n",
       "      <td>politik_kapitel</td>\n",
       "      <td>0.0</td>\n",
       "      <td>inn</td>\n",
       "      <td>0.047</td>\n",
       "      <td>solidarisch</td>\n",
       "      <td>0.0</td>\n",
       "    </tr>\n",
       "    <tr>\n",
       "      <th>3</th>\n",
       "      <td>stoppen</td>\n",
       "      <td>0.012</td>\n",
       "      <td>frei_demokrat_fordern</td>\n",
       "      <td>0.020</td>\n",
       "      <td>burger_inn</td>\n",
       "      <td>0.011</td>\n",
       "      <td>innovation</td>\n",
       "      <td>0.0</td>\n",
       "      <td>innen</td>\n",
       "      <td>0.0</td>\n",
       "      <td>inn</td>\n",
       "      <td>0.0</td>\n",
       "      <td>burger_inn</td>\n",
       "      <td>0.0</td>\n",
       "      <td>grunen_kapitel_kapitel_bereit</td>\n",
       "      <td>0.044</td>\n",
       "      <td>lohn</td>\n",
       "      <td>0.0</td>\n",
       "    </tr>\n",
       "    <tr>\n",
       "      <th>4</th>\n",
       "      <td>lohn</td>\n",
       "      <td>0.012</td>\n",
       "      <td>burgerin_burger</td>\n",
       "      <td>0.010</td>\n",
       "      <td>innovation</td>\n",
       "      <td>0.011</td>\n",
       "      <td>einfach</td>\n",
       "      <td>0.0</td>\n",
       "      <td>burger_inn</td>\n",
       "      <td>0.0</td>\n",
       "      <td>grunen</td>\n",
       "      <td>0.0</td>\n",
       "      <td>innovation</td>\n",
       "      <td>0.0</td>\n",
       "      <td>burger_inn</td>\n",
       "      <td>0.012</td>\n",
       "      <td>inne</td>\n",
       "      <td>0.0</td>\n",
       "    </tr>\n",
       "    <tr>\n",
       "      <th>...</th>\n",
       "      <td>...</td>\n",
       "      <td>...</td>\n",
       "      <td>...</td>\n",
       "      <td>...</td>\n",
       "      <td>...</td>\n",
       "      <td>...</td>\n",
       "      <td>...</td>\n",
       "      <td>...</td>\n",
       "      <td>...</td>\n",
       "      <td>...</td>\n",
       "      <td>...</td>\n",
       "      <td>...</td>\n",
       "      <td>...</td>\n",
       "      <td>...</td>\n",
       "      <td>...</td>\n",
       "      <td>...</td>\n",
       "      <td>...</td>\n",
       "      <td>...</td>\n",
       "    </tr>\n",
       "    <tr>\n",
       "      <th>95</th>\n",
       "      <td>extrem_rechte</td>\n",
       "      <td>0.002</td>\n",
       "      <td>islamisierung</td>\n",
       "      <td>0.001</td>\n",
       "      <td>geschlossenheit</td>\n",
       "      <td>0.001</td>\n",
       "      <td>schopfung</td>\n",
       "      <td>0.0</td>\n",
       "      <td>kfw</td>\n",
       "      <td>0.0</td>\n",
       "      <td>klimaneutral_industrieland</td>\n",
       "      <td>0.0</td>\n",
       "      <td>klinik</td>\n",
       "      <td>0.0</td>\n",
       "      <td>zuwanderung</td>\n",
       "      <td>0.000</td>\n",
       "      <td>burgerlich</td>\n",
       "      <td>0.0</td>\n",
       "    </tr>\n",
       "    <tr>\n",
       "      <th>96</th>\n",
       "      <td>politikwechsel</td>\n",
       "      <td>0.002</td>\n",
       "      <td>mafsgeblich</td>\n",
       "      <td>0.001</td>\n",
       "      <td>reallabor</td>\n",
       "      <td>0.001</td>\n",
       "      <td>sozialverband</td>\n",
       "      <td>0.0</td>\n",
       "      <td>kraftvoll</td>\n",
       "      <td>0.0</td>\n",
       "      <td>planungsverfahr</td>\n",
       "      <td>0.0</td>\n",
       "      <td>ezb</td>\n",
       "      <td>0.0</td>\n",
       "      <td>sozialverband</td>\n",
       "      <td>0.000</td>\n",
       "      <td>westdeutsch</td>\n",
       "      <td>0.0</td>\n",
       "    </tr>\n",
       "    <tr>\n",
       "      <th>97</th>\n",
       "      <td>mindest</td>\n",
       "      <td>0.002</td>\n",
       "      <td>bologna</td>\n",
       "      <td>0.001</td>\n",
       "      <td>exzellenz</td>\n",
       "      <td>0.001</td>\n",
       "      <td>euro_scheitern</td>\n",
       "      <td>0.0</td>\n",
       "      <td>zusammenwirken</td>\n",
       "      <td>0.0</td>\n",
       "      <td>sozialpolitik</td>\n",
       "      <td>0.0</td>\n",
       "      <td>mensch_pflegebedarf</td>\n",
       "      <td>0.0</td>\n",
       "      <td>blockieren</td>\n",
       "      <td>0.000</td>\n",
       "      <td>sozialverband</td>\n",
       "      <td>0.0</td>\n",
       "    </tr>\n",
       "    <tr>\n",
       "      <th>98</th>\n",
       "      <td>wohnumfeld</td>\n",
       "      <td>0.002</td>\n",
       "      <td>hysterie</td>\n",
       "      <td>0.001</td>\n",
       "      <td>einbrecher</td>\n",
       "      <td>0.001</td>\n",
       "      <td>bargeld</td>\n",
       "      <td>0.0</td>\n",
       "      <td>welthandel</td>\n",
       "      <td>0.0</td>\n",
       "      <td>linker</td>\n",
       "      <td>0.0</td>\n",
       "      <td>terroristisch</td>\n",
       "      <td>0.0</td>\n",
       "      <td>leben_reichen</td>\n",
       "      <td>0.000</td>\n",
       "      <td>nationalstaat</td>\n",
       "      <td>0.0</td>\n",
       "    </tr>\n",
       "    <tr>\n",
       "      <th>99</th>\n",
       "      <td>desweit</td>\n",
       "      <td>0.002</td>\n",
       "      <td>grofskonzern</td>\n",
       "      <td>0.001</td>\n",
       "      <td>sprachforderung</td>\n",
       "      <td>0.001</td>\n",
       "      <td>einstellung</td>\n",
       "      <td>0.0</td>\n",
       "      <td>umbau_wirtschaft</td>\n",
       "      <td>0.0</td>\n",
       "      <td>kostenfrei</td>\n",
       "      <td>0.0</td>\n",
       "      <td>patient_inn</td>\n",
       "      <td>0.0</td>\n",
       "      <td>raum</td>\n",
       "      <td>0.000</td>\n",
       "      <td>niedriglohn</td>\n",
       "      <td>0.0</td>\n",
       "    </tr>\n",
       "  </tbody>\n",
       "</table>\n",
       "<p>100 rows × 18 columns</p>\n",
       "</div>"
      ],
      "text/plain": [
       "            0_word  0_per                  1_word  1_per              2_word  \\\n",
       "0              inn  0.029           frei_demokrat  0.083  spd_parteivorstand   \n",
       "1          kapitel  0.022          bundestagswahl  0.021                 inn   \n",
       "2      solidarisch  0.019  programm_frei_demokrat  0.020     politik_kapitel   \n",
       "3          stoppen  0.012   frei_demokrat_fordern  0.020          burger_inn   \n",
       "4             lohn  0.012         burgerin_burger  0.010          innovation   \n",
       "..             ...    ...                     ...    ...                 ...   \n",
       "95   extrem_rechte  0.002           islamisierung  0.001     geschlossenheit   \n",
       "96  politikwechsel  0.002             mafsgeblich  0.001           reallabor   \n",
       "97         mindest  0.002                 bologna  0.001           exzellenz   \n",
       "98      wohnumfeld  0.002                hysterie  0.001          einbrecher   \n",
       "99         desweit  0.002            grofskonzern  0.001     sprachforderung   \n",
       "\n",
       "    2_per          3_word  3_per                         4_word  4_per  \\\n",
       "0   0.019             inn    0.0                            inn    0.0   \n",
       "1   0.015         kapitel    0.0                         grunen    0.0   \n",
       "2   0.014     solidarisch    0.0  grunen_kapitel_kapitel_bereit    0.0   \n",
       "3   0.011      innovation    0.0                          innen    0.0   \n",
       "4   0.011         einfach    0.0                     burger_inn    0.0   \n",
       "..    ...             ...    ...                            ...    ...   \n",
       "95  0.001       schopfung    0.0                            kfw    0.0   \n",
       "96  0.001   sozialverband    0.0                      kraftvoll    0.0   \n",
       "97  0.001  euro_scheitern    0.0                 zusammenwirken    0.0   \n",
       "98  0.001         bargeld    0.0                     welthandel    0.0   \n",
       "99  0.001     einstellung    0.0               umbau_wirtschaft    0.0   \n",
       "\n",
       "                        5_word  5_per               6_word  6_per  \\\n",
       "0                      einfach    0.0                  inn    0.0   \n",
       "1                   innovation    0.0          solidarisch    0.0   \n",
       "2              burgerin_burger    0.0      politik_kapitel    0.0   \n",
       "3                          inn    0.0           burger_inn    0.0   \n",
       "4                       grunen    0.0           innovation    0.0   \n",
       "..                         ...    ...                  ...    ...   \n",
       "95  klimaneutral_industrieland    0.0               klinik    0.0   \n",
       "96             planungsverfahr    0.0                  ezb    0.0   \n",
       "97               sozialpolitik    0.0  mensch_pflegebedarf    0.0   \n",
       "98                      linker    0.0        terroristisch    0.0   \n",
       "99                  kostenfrei    0.0          patient_inn    0.0   \n",
       "\n",
       "                           7_word  7_per         8_word  8_per  \n",
       "0                          grunen  0.051            inn    0.0  \n",
       "1                           innen  0.049        kapitel    0.0  \n",
       "2                             inn  0.047    solidarisch    0.0  \n",
       "3   grunen_kapitel_kapitel_bereit  0.044           lohn    0.0  \n",
       "4                      burger_inn  0.012           inne    0.0  \n",
       "..                            ...    ...            ...    ...  \n",
       "95                    zuwanderung  0.000     burgerlich    0.0  \n",
       "96                  sozialverband  0.000    westdeutsch    0.0  \n",
       "97                     blockieren  0.000  sozialverband    0.0  \n",
       "98                  leben_reichen  0.000  nationalstaat    0.0  \n",
       "99                           raum  0.000    niedriglohn    0.0  \n",
       "\n",
       "[100 rows x 18 columns]"
      ]
     },
     "execution_count": 130,
     "metadata": {},
     "output_type": "execute_result"
    }
   ],
   "source": [
    "pd.DataFrame(data=dic)"
   ]
  },
  {
   "cell_type": "code",
   "execution_count": 131,
   "metadata": {},
   "outputs": [
    {
     "name": "stderr",
     "output_type": "stream",
     "text": [
      "/Users/niclascramer/opt/miniconda3/envs/NLP/lib/python3.9/site-packages/pyLDAvis/_prepare.py:246: FutureWarning: In a future version of pandas all arguments of DataFrame.drop except for the argument 'labels' will be keyword-only.\n",
      "  default_term_info = default_term_info.sort_values(\n",
      "/Users/niclascramer/opt/miniconda3/envs/NLP/lib/python3.9/site-packages/past/builtins/misc.py:45: DeprecationWarning: the imp module is deprecated in favour of importlib; see the module's documentation for alternative uses\n",
      "  from imp import reload\n",
      "/Users/niclascramer/opt/miniconda3/envs/NLP/lib/python3.9/site-packages/past/builtins/misc.py:45: DeprecationWarning: the imp module is deprecated in favour of importlib; see the module's documentation for alternative uses\n",
      "  from imp import reload\n",
      "/Users/niclascramer/opt/miniconda3/envs/NLP/lib/python3.9/site-packages/past/builtins/misc.py:45: DeprecationWarning: the imp module is deprecated in favour of importlib; see the module's documentation for alternative uses\n",
      "  from imp import reload\n",
      "/Users/niclascramer/opt/miniconda3/envs/NLP/lib/python3.9/site-packages/past/builtins/misc.py:45: DeprecationWarning: the imp module is deprecated in favour of importlib; see the module's documentation for alternative uses\n",
      "  from imp import reload\n",
      "/Users/niclascramer/opt/miniconda3/envs/NLP/lib/python3.9/site-packages/past/builtins/misc.py:45: DeprecationWarning: the imp module is deprecated in favour of importlib; see the module's documentation for alternative uses\n",
      "  from imp import reload\n",
      "/Users/niclascramer/opt/miniconda3/envs/NLP/lib/python3.9/site-packages/past/builtins/misc.py:45: DeprecationWarning: the imp module is deprecated in favour of importlib; see the module's documentation for alternative uses\n",
      "  from imp import reload\n",
      "/Users/niclascramer/opt/miniconda3/envs/NLP/lib/python3.9/site-packages/past/builtins/misc.py:45: DeprecationWarning: the imp module is deprecated in favour of importlib; see the module's documentation for alternative uses\n",
      "  from imp import reload\n",
      "/Users/niclascramer/opt/miniconda3/envs/NLP/lib/python3.9/site-packages/past/builtins/misc.py:45: DeprecationWarning: the imp module is deprecated in favour of importlib; see the module's documentation for alternative uses\n",
      "  from imp import reload\n",
      "/Users/niclascramer/opt/miniconda3/envs/NLP/lib/python3.9/site-packages/past/builtins/misc.py:45: DeprecationWarning: the imp module is deprecated in favour of importlib; see the module's documentation for alternative uses\n",
      "  from imp import reload\n",
      "/Users/niclascramer/opt/miniconda3/envs/NLP/lib/python3.9/site-packages/scipy/__init__.py:146: UserWarning: A NumPy version >=1.16.5 and <1.23.0 is required for this version of SciPy (detected version 1.23.4\n",
      "  warnings.warn(f\"A NumPy version >={np_minversion} and <{np_maxversion}\"\n",
      "/Users/niclascramer/opt/miniconda3/envs/NLP/lib/python3.9/site-packages/scipy/__init__.py:146: UserWarning: A NumPy version >=1.16.5 and <1.23.0 is required for this version of SciPy (detected version 1.23.4\n",
      "  warnings.warn(f\"A NumPy version >={np_minversion} and <{np_maxversion}\"\n",
      "/Users/niclascramer/opt/miniconda3/envs/NLP/lib/python3.9/site-packages/scipy/__init__.py:146: UserWarning: A NumPy version >=1.16.5 and <1.23.0 is required for this version of SciPy (detected version 1.23.4\n",
      "  warnings.warn(f\"A NumPy version >={np_minversion} and <{np_maxversion}\"\n",
      "/Users/niclascramer/opt/miniconda3/envs/NLP/lib/python3.9/site-packages/scipy/__init__.py:146: UserWarning: A NumPy version >=1.16.5 and <1.23.0 is required for this version of SciPy (detected version 1.23.4\n",
      "  warnings.warn(f\"A NumPy version >={np_minversion} and <{np_maxversion}\"\n",
      "/Users/niclascramer/opt/miniconda3/envs/NLP/lib/python3.9/site-packages/scipy/__init__.py:146: UserWarning: A NumPy version >=1.16.5 and <1.23.0 is required for this version of SciPy (detected version 1.23.4\n",
      "  warnings.warn(f\"A NumPy version >={np_minversion} and <{np_maxversion}\"\n",
      "/Users/niclascramer/opt/miniconda3/envs/NLP/lib/python3.9/site-packages/scipy/__init__.py:146: UserWarning: A NumPy version >=1.16.5 and <1.23.0 is required for this version of SciPy (detected version 1.23.4\n",
      "  warnings.warn(f\"A NumPy version >={np_minversion} and <{np_maxversion}\"\n",
      "/Users/niclascramer/opt/miniconda3/envs/NLP/lib/python3.9/site-packages/scipy/__init__.py:146: UserWarning: A NumPy version >=1.16.5 and <1.23.0 is required for this version of SciPy (detected version 1.23.4\n",
      "  warnings.warn(f\"A NumPy version >={np_minversion} and <{np_maxversion}\"\n",
      "/Users/niclascramer/opt/miniconda3/envs/NLP/lib/python3.9/site-packages/scipy/__init__.py:146: UserWarning: A NumPy version >=1.16.5 and <1.23.0 is required for this version of SciPy (detected version 1.23.4\n",
      "  warnings.warn(f\"A NumPy version >={np_minversion} and <{np_maxversion}\"\n",
      "/Users/niclascramer/opt/miniconda3/envs/NLP/lib/python3.9/site-packages/scipy/__init__.py:146: UserWarning: A NumPy version >=1.16.5 and <1.23.0 is required for this version of SciPy (detected version 1.23.4\n",
      "  warnings.warn(f\"A NumPy version >={np_minversion} and <{np_maxversion}\"\n",
      "/Users/niclascramer/opt/miniconda3/envs/NLP/lib/python3.9/site-packages/joblib/backports.py:36: DeprecationWarning: distutils Version classes are deprecated. Use packaging.version instead.\n",
      "  if LooseVersion(np.__version__) < '1.13':\n",
      "/Users/niclascramer/opt/miniconda3/envs/NLP/lib/python3.9/site-packages/joblib/backports.py:36: DeprecationWarning: distutils Version classes are deprecated. Use packaging.version instead.\n",
      "  if LooseVersion(np.__version__) < '1.13':\n",
      "/Users/niclascramer/opt/miniconda3/envs/NLP/lib/python3.9/site-packages/setuptools/_distutils/version.py:346: DeprecationWarning: distutils Version classes are deprecated. Use packaging.version instead.\n",
      "  other = LooseVersion(other)\n",
      "/Users/niclascramer/opt/miniconda3/envs/NLP/lib/python3.9/site-packages/setuptools/_distutils/version.py:346: DeprecationWarning: distutils Version classes are deprecated. Use packaging.version instead.\n",
      "  other = LooseVersion(other)\n",
      "/Users/niclascramer/opt/miniconda3/envs/NLP/lib/python3.9/site-packages/joblib/backports.py:36: DeprecationWarning: distutils Version classes are deprecated. Use packaging.version instead.\n",
      "  if LooseVersion(np.__version__) < '1.13':\n",
      "/Users/niclascramer/opt/miniconda3/envs/NLP/lib/python3.9/site-packages/joblib/backports.py:36: DeprecationWarning: distutils Version classes are deprecated. Use packaging.version instead.\n",
      "  if LooseVersion(np.__version__) < '1.13':\n",
      "/Users/niclascramer/opt/miniconda3/envs/NLP/lib/python3.9/site-packages/setuptools/_distutils/version.py:346: DeprecationWarning: distutils Version classes are deprecated. Use packaging.version instead.\n",
      "  other = LooseVersion(other)\n",
      "/Users/niclascramer/opt/miniconda3/envs/NLP/lib/python3.9/site-packages/setuptools/_distutils/version.py:346: DeprecationWarning: distutils Version classes are deprecated. Use packaging.version instead.\n",
      "  other = LooseVersion(other)\n",
      "/Users/niclascramer/opt/miniconda3/envs/NLP/lib/python3.9/site-packages/joblib/backports.py:36: DeprecationWarning: distutils Version classes are deprecated. Use packaging.version instead.\n",
      "  if LooseVersion(np.__version__) < '1.13':\n",
      "/Users/niclascramer/opt/miniconda3/envs/NLP/lib/python3.9/site-packages/setuptools/_distutils/version.py:346: DeprecationWarning: distutils Version classes are deprecated. Use packaging.version instead.\n",
      "  other = LooseVersion(other)\n",
      "/Users/niclascramer/opt/miniconda3/envs/NLP/lib/python3.9/site-packages/joblib/backports.py:36: DeprecationWarning: distutils Version classes are deprecated. Use packaging.version instead.\n",
      "  if LooseVersion(np.__version__) < '1.13':\n",
      "/Users/niclascramer/opt/miniconda3/envs/NLP/lib/python3.9/site-packages/setuptools/_distutils/version.py:346: DeprecationWarning: distutils Version classes are deprecated. Use packaging.version instead.\n",
      "  other = LooseVersion(other)\n",
      "/Users/niclascramer/opt/miniconda3/envs/NLP/lib/python3.9/site-packages/joblib/backports.py:36: DeprecationWarning: distutils Version classes are deprecated. Use packaging.version instead.\n",
      "  if LooseVersion(np.__version__) < '1.13':\n",
      "/Users/niclascramer/opt/miniconda3/envs/NLP/lib/python3.9/site-packages/setuptools/_distutils/version.py:346: DeprecationWarning: distutils Version classes are deprecated. Use packaging.version instead.\n",
      "  other = LooseVersion(other)\n",
      "/Users/niclascramer/opt/miniconda3/envs/NLP/lib/python3.9/site-packages/joblib/backports.py:36: DeprecationWarning: distutils Version classes are deprecated. Use packaging.version instead.\n",
      "  if LooseVersion(np.__version__) < '1.13':\n",
      "/Users/niclascramer/opt/miniconda3/envs/NLP/lib/python3.9/site-packages/setuptools/_distutils/version.py:346: DeprecationWarning: distutils Version classes are deprecated. Use packaging.version instead.\n",
      "  other = LooseVersion(other)\n",
      "/Users/niclascramer/opt/miniconda3/envs/NLP/lib/python3.9/site-packages/joblib/backports.py:36: DeprecationWarning: distutils Version classes are deprecated. Use packaging.version instead.\n",
      "  if LooseVersion(np.__version__) < '1.13':\n",
      "/Users/niclascramer/opt/miniconda3/envs/NLP/lib/python3.9/site-packages/setuptools/_distutils/version.py:346: DeprecationWarning: distutils Version classes are deprecated. Use packaging.version instead.\n",
      "  other = LooseVersion(other)\n",
      "/Users/niclascramer/opt/miniconda3/envs/NLP/lib/python3.9/site-packages/joblib/backports.py:36: DeprecationWarning: distutils Version classes are deprecated. Use packaging.version instead.\n",
      "  if LooseVersion(np.__version__) < '1.13':\n",
      "/Users/niclascramer/opt/miniconda3/envs/NLP/lib/python3.9/site-packages/setuptools/_distutils/version.py:346: DeprecationWarning: distutils Version classes are deprecated. Use packaging.version instead.\n",
      "  other = LooseVersion(other)\n",
      "/Users/niclascramer/opt/miniconda3/envs/NLP/lib/python3.9/site-packages/joblib/backports.py:36: DeprecationWarning: distutils Version classes are deprecated. Use packaging.version instead.\n",
      "  if LooseVersion(np.__version__) < '1.13':\n",
      "/Users/niclascramer/opt/miniconda3/envs/NLP/lib/python3.9/site-packages/setuptools/_distutils/version.py:346: DeprecationWarning: distutils Version classes are deprecated. Use packaging.version instead.\n",
      "  other = LooseVersion(other)\n",
      "/Users/niclascramer/opt/miniconda3/envs/NLP/lib/python3.9/site-packages/joblib/backports.py:36: DeprecationWarning: distutils Version classes are deprecated. Use packaging.version instead.\n",
      "  if LooseVersion(np.__version__) < '1.13':\n",
      "/Users/niclascramer/opt/miniconda3/envs/NLP/lib/python3.9/site-packages/setuptools/_distutils/version.py:346: DeprecationWarning: distutils Version classes are deprecated. Use packaging.version instead.\n",
      "  other = LooseVersion(other)\n",
      "/Users/niclascramer/opt/miniconda3/envs/NLP/lib/python3.9/site-packages/joblib/backports.py:36: DeprecationWarning: distutils Version classes are deprecated. Use packaging.version instead.\n",
      "  if LooseVersion(np.__version__) < '1.13':\n",
      "/Users/niclascramer/opt/miniconda3/envs/NLP/lib/python3.9/site-packages/setuptools/_distutils/version.py:346: DeprecationWarning: distutils Version classes are deprecated. Use packaging.version instead.\n",
      "  other = LooseVersion(other)\n",
      "/Users/niclascramer/opt/miniconda3/envs/NLP/lib/python3.9/site-packages/joblib/backports.py:36: DeprecationWarning: distutils Version classes are deprecated. Use packaging.version instead.\n",
      "  if LooseVersion(np.__version__) < '1.13':\n",
      "/Users/niclascramer/opt/miniconda3/envs/NLP/lib/python3.9/site-packages/setuptools/_distutils/version.py:346: DeprecationWarning: distutils Version classes are deprecated. Use packaging.version instead.\n",
      "  other = LooseVersion(other)\n",
      "/Users/niclascramer/opt/miniconda3/envs/NLP/lib/python3.9/site-packages/joblib/backports.py:36: DeprecationWarning: distutils Version classes are deprecated. Use packaging.version instead.\n",
      "  if LooseVersion(np.__version__) < '1.13':\n",
      "/Users/niclascramer/opt/miniconda3/envs/NLP/lib/python3.9/site-packages/setuptools/_distutils/version.py:346: DeprecationWarning: distutils Version classes are deprecated. Use packaging.version instead.\n",
      "  other = LooseVersion(other)\n",
      "/Users/niclascramer/opt/miniconda3/envs/NLP/lib/python3.9/site-packages/joblib/backports.py:36: DeprecationWarning: distutils Version classes are deprecated. Use packaging.version instead.\n",
      "  if LooseVersion(np.__version__) < '1.13':\n",
      "/Users/niclascramer/opt/miniconda3/envs/NLP/lib/python3.9/site-packages/setuptools/_distutils/version.py:346: DeprecationWarning: distutils Version classes are deprecated. Use packaging.version instead.\n",
      "  other = LooseVersion(other)\n",
      "/Users/niclascramer/opt/miniconda3/envs/NLP/lib/python3.9/site-packages/joblib/backports.py:36: DeprecationWarning: distutils Version classes are deprecated. Use packaging.version instead.\n",
      "  if LooseVersion(np.__version__) < '1.13':\n",
      "/Users/niclascramer/opt/miniconda3/envs/NLP/lib/python3.9/site-packages/setuptools/_distutils/version.py:346: DeprecationWarning: distutils Version classes are deprecated. Use packaging.version instead.\n",
      "  other = LooseVersion(other)\n",
      "/Users/niclascramer/opt/miniconda3/envs/NLP/lib/python3.9/site-packages/joblib/backports.py:36: DeprecationWarning: distutils Version classes are deprecated. Use packaging.version instead.\n",
      "  if LooseVersion(np.__version__) < '1.13':\n",
      "/Users/niclascramer/opt/miniconda3/envs/NLP/lib/python3.9/site-packages/setuptools/_distutils/version.py:346: DeprecationWarning: distutils Version classes are deprecated. Use packaging.version instead.\n",
      "  other = LooseVersion(other)\n"
     ]
    },
    {
     "data": {
      "text/html": [
       "\n",
       "<link rel=\"stylesheet\" type=\"text/css\" href=\"https://cdn.jsdelivr.net/gh/bmabey/pyLDAvis@3.3.1/pyLDAvis/js/ldavis.v1.0.0.css\">\n",
       "\n",
       "\n",
       "<div id=\"ldavis_el8520660965441449741552358\"></div>\n",
       "<script type=\"text/javascript\">\n",
       "\n",
       "var ldavis_el8520660965441449741552358_data = {\"mdsDat\": {\"x\": [0.11536321625195767, 0.057423101684100954, -0.11743768525498509, -0.045557814716894206, -0.0018223618837277398, -0.0016243825925486071, -0.001968523924778503, -0.002188623757533854, -0.0021869258055906746], \"y\": [0.12403356076112443, -0.12811901471703246, -0.035436391940815555, 0.0796875826563783, -0.008204785306392867, -0.008020543728446048, -0.008007354179980473, -0.007901618603474117, -0.008031434941361167], \"topics\": [1, 2, 3, 4, 5, 6, 7, 8, 9], \"cluster\": [1, 1, 1, 1, 1, 1, 1, 1, 1], \"Freq\": [36.864465764822306, 24.701188582476146, 23.074092037407482, 15.348641359883498, 0.0023951522280015996, 0.0023830873801245116, 0.002302103498820717, 0.002301197570601258, 0.0022307147330218207]}, \"tinfo\": {\"Term\": [\"frei_demokrat\", \"grunen\", \"innen\", \"grunen_kapitel_kapitel_bereit\", \"inn\", \"kapitel\", \"solidarisch\", \"bundestagswahl\", \"programm_frei_demokrat\", \"frei_demokrat_fordern\", \"spd_parteivorstand\", \"politik_kapitel\", \"stoppen\", \"lohn\", \"innovation\", \"burgerin_burger\", \"einfach\", \"burger_inn\", \"osten\", \"kampfen\", \"in\", \"respekt\", \"inne\", \"gewerkschaft\", \"profit\", \"gefluchtet\", \"queer\", \"coronakrise\", \"fair\", \"starken_frei_demokrat\", \"kapitel\", \"solidarisch\", \"stoppen\", \"lohn\", \"osten\", \"kampfen\", \"in\", \"gewerkschaft\", \"profit\", \"queer\", \"coronakrise\", \"rechter\", \"gemeinnutzig\", \"privatisierung\", \"bahn\", \"sofort\", \"ungleichheit\", \"zivil\", \"reichtum\", \"bewegung\", \"gut_bezahlt\", \"ausbeutung\", \"nahverkehr\", \"offentliche\", \"ostdeutsch\", \"aufrustung\", \"spaltung\", \"schuler_inn\", \"arbeitgeber_inn\", \"job\", \"inn\", \"inne\", \"gefluchtet\", \"uberall\", \"burger_inn\", \"frei_demokrat\", \"programm_frei_demokrat\", \"frei_demokrat_fordern\", \"bundestagswahl\", \"starken_frei_demokrat\", \"familienpolitik\", \"mafsnahme\", \"klima_energie_technik_digitalisierung\", \"fordern_frei_demokrat\", \"bargeld\", \"demokratie_rechtsstaat\", \"sozialpolitik\", \"target\", \"befurworten\", \"euro_scheitern\", \"freie_demokrat\", \"islam\", \"freiheitlich\", \"migrant\", \"kulturell_identitat\", \"ideologisch\", \"burgerlich\", \"rentenkonzept\", \"migration_asyl_integration\", \"asylbewerber\", \"sofortig\", \"klinik\", \"nationalstaat\", \"deutsch_bundesbank\", \"ezb\", \"einstellung\", \"burgerin_burger\", \"deutsch_sprache\", \"zuwanderung\", \"spd_parteivorstand\", \"politik_kapitel\", \"innovation\", \"einfach\", \"respekt\", \"fair\", \"raum\", \"cyber\", \"verbraucherinn_verbraucher\", \"ehrenamt\", \"sozial_marktwirtschaft\", \"zukunftsmission\", \"aufstieg\", \"corona_krise\", \"frieden_freiheit\", \"intensivieren\", \"kriminell\", \"potenzial\", \"meinsam\", \"rasch\", \"selbststandige\", \"unions_versprechen\", \"wirwerde\", \"weltspitze\", \"aussiedler\", \"ki\", \"burgergeld\", \"gefahrenabwehr\", \"solide\", \"dorf\", \"burger_inn\", \"burgerin_burger\", \"inn\", \"uberall\", \"inne\", \"zuwanderung\", \"innen\", \"grunen\", \"grunen_kapitel_kapitel_bereit\", \"akteur_inn\", \"mobilitatswende\", \"sozial_okologische\", \"klimakrise\", \"ff\", \"selbstandige\", \"mull\", \"grunen_bereit\", \"patientinn\", \"gefluchtet\", \"inne\", \"inn\", \"klimagerecht\", \"burger_inn\", \"aanfeindung\", \"aansprechperson\", \"abbau\", \"abbaubar\", \"abbauen\", \"abbiegeassis\", \"abbild\", \"abbilden\", \"abbricht\", \"abbruchen\", \"abdecken\", \"abendschule\", \"abendtermin\", \"frei_demokrat\", \"solidarisch\", \"kapitel\", \"bundestagswahl\", \"stoppen\", \"lohn\", \"osten\", \"frei_demokrat_fordern\", \"burgerin_burger\", \"programm_frei_demokrat\", \"coronakrise\", \"profit\", \"uberall\", \"in\", \"aanfeindung\", \"aansprechperson\", \"abbau\", \"abbaubar\", \"abbauen\", \"abbiegeassis\", \"abbild\", \"abbilden\", \"abbricht\", \"abbruchen\", \"abdecken\", \"abendschule\", \"abendtermin\", \"aber\", \"abfall\", \"abfedert\", \"abfischen\", \"abgabe\", \"abgabenordnung\", \"abgabenreform\", \"abgaberegelung\", \"abgas\", \"abgase\", \"abgeben\", \"abgebrannt\", \"abgegrenzt\", \"abgeordneter\", \"abgeschlossen\", \"abgeschottet\", \"abgesichert\", \"einfach\", \"innovation\", \"burgerin_burger\", \"raum\", \"fair\", \"grunen\", \"sozial_marktwirtschaft\", \"inn\", \"intensivieren\", \"uberall\", \"verbraucherinn_verbraucher\", \"ki\", \"kriminell\", \"cyber\", \"grunen_kapitel_kapitel_bereit\", \"kapitel\", \"innen\", \"zuwanderung\", \"solidarisch\", \"potenzial\", \"frieden_freiheit\", \"gefahrenabwehr\", \"ehrenamt\", \"rasch\", \"weltspitze\", \"zusammenwirken\", \"deutsch_sprache\", \"unions_versprechen\", \"straftater\", \"terroristisch\", \"stoppen\", \"inne\", \"meinsam\", \"lohn\", \"gewerkschaft\", \"aanfeindung\", \"aansprechperson\", \"abbau\", \"abbaubar\", \"abbauen\", \"abbiegeassis\", \"abbild\", \"abbilden\", \"abbricht\", \"abbruchen\", \"abdecken\", \"abendschule\", \"abendtermin\", \"aber\", \"abfall\", \"abfedert\", \"abfischen\", \"abgabe\", \"abgabenordnung\", \"abgabenreform\", \"abgaberegelung\", \"abgas\", \"abgase\", \"abgeben\", \"abgebrannt\", \"abgegrenzt\", \"abgeordneter\", \"abgeschlossen\", \"abgeschottet\", \"abgesichert\", \"inn\", \"kapitel\", \"lohn\", \"solidarisch\", \"kampfen\", \"stoppen\", \"inne\", \"gewerkschaft\", \"osten\", \"gemeinnutzig\", \"profit\", \"rechter\", \"ungleichheit\", \"grunen\", \"sofort\", \"reichtum\", \"coronakrise\", \"queer\", \"klimagerecht\", \"in\", \"zivil\", \"uberall\", \"burger_inn\", \"privatisierung\", \"bewegung\", \"kostenfrei\", \"kasse\", \"nahverkehr\", \"gefluchtet\", \"gut_bezahlt\", \"offentliche\", \"aanfeindung\", \"aansprechperson\", \"abbau\", \"abbaubar\", \"abbauen\", \"abbiegeassis\", \"abbild\", \"abbilden\", \"abbricht\", \"abbruchen\", \"abdecken\", \"abendschule\", \"abendtermin\", \"aber\", \"abfall\", \"abfedert\", \"abfischen\", \"abgabe\", \"abgabenordnung\", \"abgabenreform\", \"abgaberegelung\", \"abgas\", \"abgase\", \"abgeben\", \"abgebrannt\", \"abgegrenzt\", \"abgeordneter\", \"abgeschlossen\", \"abgeschottet\", \"abgesichert\", \"inn\", \"kapitel\", \"solidarisch\", \"innovation\", \"einfach\", \"lohn\", \"stoppen\", \"burgerin_burger\", \"gefluchtet\", \"grunen\", \"grunen_kapitel_kapitel_bereit\", \"osten\", \"kampfen\", \"raum\", \"fair\", \"uberall\", \"innen\", \"inne\", \"coronakrise\", \"in\", \"burger_inn\", \"gewerkschaft\", \"rechter\", \"privatisierung\", \"ungleichheit\", \"bahn\", \"nahverkehr\", \"sozial_marktwirtschaft\", \"aufrustung\", \"profit\", \"gemeinnutzig\", \"aanfeindung\", \"aansprechperson\", \"abbau\", \"abbaubar\", \"abbauen\", \"abbiegeassis\", \"abbild\", \"abbilden\", \"abbricht\", \"abbruchen\", \"abdecken\", \"abendschule\", \"abendtermin\", \"aber\", \"abfall\", \"abfedert\", \"abfischen\", \"abgabe\", \"abgabenordnung\", \"abgabenreform\", \"abgaberegelung\", \"abgas\", \"abgase\", \"abgeben\", \"abgebrannt\", \"abgegrenzt\", \"abgeordneter\", \"abgeschlossen\", \"abgeschottet\", \"abgesichert\", \"grunen\", \"inn\", \"grunen_kapitel_kapitel_bereit\", \"innen\", \"burger_inn\", \"inne\", \"gefluchtet\", \"fair\", \"einfach\", \"solidarisch\", \"burgerin_burger\", \"innovation\", \"ff\", \"klimagerecht\", \"kapitel\", \"selbstandige\", \"akteur_inn\", \"lohn\", \"klimakrise\", \"raum\", \"mobilitatswende\", \"uberall\", \"verbraucherinn_verbraucher\", \"grunen_bereit\", \"sozial_okologische\", \"mull\", \"coronakrise\", \"stoppen\", \"cyber\", \"profit\", \"in\", \"osten\", \"queer\", \"gewerkschaft\", \"aanfeindung\", \"aansprechperson\", \"abbau\", \"abbaubar\", \"abbauen\", \"abbiegeassis\", \"abbild\", \"abbilden\", \"abbricht\", \"abbruchen\", \"abdecken\", \"abendschule\", \"abendtermin\", \"aber\", \"abfall\", \"abfedert\", \"abfischen\", \"abgabe\", \"abgabenordnung\", \"abgabenreform\", \"abgaberegelung\", \"abgas\", \"abgase\", \"abgeben\", \"abgebrannt\", \"abgegrenzt\", \"abgeordneter\", \"abgeschlossen\", \"abgeschottet\", \"abgesichert\", \"inn\", \"innovation\", \"politik_kapitel\", \"einfach\", \"burger_inn\", \"spd_parteivorstand\", \"solidarisch\", \"kapitel\", \"burgerin_burger\", \"respekt\", \"raum\", \"uberall\", \"fair\", \"osten\", \"zuwanderung\", \"lohn\", \"stoppen\", \"ehrenamt\", \"inne\", \"mafsnahme\", \"corona_krise\", \"kampfen\", \"in\", \"deutsch_sprache\", \"rechter\", \"cyber\", \"gemeinnutzig\", \"familienpolitik\", \"kriminell\", \"profit\", \"reichtum\", \"privatisierung\", \"coronakrise\", \"queer\"], \"Freq\": [95.0, 36.0, 35.0, 31.0, 100.0, 37.0, 32.0, 23.0, 23.0, 22.0, 20.0, 15.0, 21.0, 20.0, 11.0, 22.0, 11.0, 28.0, 14.0, 13.0, 13.0, 9.0, 22.0, 13.0, 13.0, 14.0, 12.0, 11.0, 8.0, 8.0, 37.31885287771358, 32.711615719014446, 21.214423594753814, 20.28167470334454, 14.762464338617226, 13.852806847733033, 13.854811448792576, 12.932739062626425, 12.930194021121231, 12.01311950631673, 11.547239796153589, 11.088273554124598, 11.087000231531576, 10.163849369995392, 9.253489466899936, 9.246315400628045, 9.249950945109632, 8.787627397226117, 8.32259282686968, 7.867977370980318, 7.8670360103227575, 7.870491942549409, 7.40500994523648, 7.405726790575373, 7.410584339862855, 6.946224919143271, 6.949408225625824, 6.949038577190445, 6.94640132403651, 6.492999854548809, 49.837865535022765, 11.569157302298201, 9.261559990765653, 7.864040334499378, 7.432402417794914, 95.23401512869027, 23.386406461011465, 22.650610578309863, 23.733867478461868, 8.429121632920236, 5.849486252836893, 5.848743736699601, 5.487649327799263, 4.7799401119523095, 4.39841012234285, 4.0349997830446815, 4.032490970379639, 4.032867601213389, 3.6701508858900724, 3.6691913100426015, 3.3224459449039734, 3.307308447863336, 3.3065858109569257, 3.3056622326356475, 3.3063888991158854, 2.9434011277931016, 2.9443359889210967, 2.942251624699224, 2.945762995332566, 2.941976539125929, 2.579134907013958, 2.5807776299443295, 2.5801627169782426, 2.580283872831325, 2.5810806538961626, 2.5808133588322675, 12.079682342690209, 4.396188483972585, 3.6701006505363556, 20.633306671431377, 15.03807766017981, 11.847431122006432, 11.15258875622562, 9.458525543479157, 8.030629259749265, 6.988537857794367, 4.207309661831791, 4.207437140741252, 3.8598975128798507, 3.5127290293237508, 3.17953529574597, 3.1665929241800987, 3.1657362056822627, 3.1652646842828975, 3.163787886286481, 3.1644328091158425, 3.1657562811010758, 2.8174374760470027, 2.4697741334171677, 2.471159086372515, 2.4690336014057106, 2.470451176916629, 2.469761084394939, 2.4698253257351404, 2.469454432372574, 2.1313622966044723, 2.123515317276022, 2.1231381503450772, 2.123521088958931, 12.247474996459866, 10.459684672131184, 16.437441754922023, 3.5118296505609377, 3.178693884754979, 2.4713264651768667, 35.40050868687614, 36.67309259341338, 31.715401809500158, 3.6957696771750537, 3.435005982148319, 3.435875324666143, 3.171145170939613, 2.909058432749231, 2.9088070445326712, 2.1246716112421296, 2.122460029249301, 1.8630731270580143, 5.534755940439484, 8.156031953388545, 33.8100472182147, 2.9137613621073677, 8.413520256924354, 0.02920552370233415, 0.02920552370233415, 0.02920552370233415, 0.02920552370233415, 0.02920552370233415, 0.02920552370233415, 0.02920552370233415, 0.02920552370233415, 0.02920552370233415, 0.02920552370233415, 0.02920552370233415, 0.02920552370233415, 0.02920552370233415, 0.08546943238333418, 0.05240898159346897, 0.05250685669944736, 0.048510810641494005, 0.04386010255319404, 0.04326679047335704, 0.04085069473512578, 0.04137173374597965, 0.04020260274666904, 0.040102523716356815, 0.03806850499539038, 0.03809710123964628, 0.03766724731593494, 0.037938820349559296, 6.179925332394718e-06, 6.179925332394718e-06, 6.179925332394718e-06, 6.179925332394718e-06, 6.179925332394718e-06, 6.179925332394718e-06, 6.179925332394718e-06, 6.179925332394718e-06, 6.179925332394718e-06, 6.179925332394718e-06, 6.179925332394718e-06, 6.179925332394718e-06, 6.179925332394718e-06, 6.179925332394718e-06, 6.179925332394718e-06, 6.179925332394718e-06, 6.179925332394718e-06, 6.179925332394718e-06, 6.179925332394718e-06, 6.179925332394718e-06, 6.179925332394718e-06, 6.179925332394718e-06, 6.179925332394718e-06, 6.179925332394718e-06, 6.179925332394718e-06, 6.179925332394718e-06, 6.179925332394718e-06, 6.179925332394718e-06, 6.179925332394718e-06, 6.179925332394718e-06, 8.096714960208907e-06, 8.068271599512894e-06, 7.859110902143543e-06, 7.29526372729982e-06, 7.260628143925809e-06, 7.578795404099936e-06, 6.921576479252315e-06, 7.638374891709763e-06, 6.876065636909192e-06, 7.129520222118759e-06, 6.886818793419819e-06, 6.731142635940892e-06, 6.776334790867368e-06, 6.82383549627561e-06, 7.19337655184114e-06, 7.178672973790311e-06, 7.16904641596331e-06, 6.850963813493734e-06, 7.078010892998437e-06, 6.753184164738508e-06, 6.731931010814514e-06, 6.612608418300489e-06, 6.685576033475062e-06, 6.6205080403563086e-06, 6.620091670972873e-06, 6.59955363044741e-06, 6.721468458155083e-06, 6.5948970496889655e-06, 6.575765629485255e-06, 6.57408346461552e-06, 6.829356562440131e-06, 6.792936655139452e-06, 6.606949783366074e-06, 6.694861925442887e-06, 6.6231881893200664e-06, 6.143948903374137e-06, 6.143948903374137e-06, 6.143948903374137e-06, 6.143948903374137e-06, 6.143948903374137e-06, 6.143948903374137e-06, 6.143948903374137e-06, 6.143948903374137e-06, 6.143948903374137e-06, 6.143948903374137e-06, 6.143948903374137e-06, 6.143948903374137e-06, 6.143948903374137e-06, 6.143948903374137e-06, 6.143948903374137e-06, 6.143948903374137e-06, 6.143948903374137e-06, 6.143948903374137e-06, 6.143948903374137e-06, 6.143948903374137e-06, 6.143948903374137e-06, 6.143948903374137e-06, 6.143948903374137e-06, 6.143948903374137e-06, 6.143948903374137e-06, 6.143948903374137e-06, 6.143948903374137e-06, 6.143948903374137e-06, 6.143948903374137e-06, 6.143948903374137e-06, 1.414968661345336e-05, 1.1710925775048948e-05, 9.235797277107355e-06, 9.401381369968378e-06, 8.504807563384823e-06, 8.75785934792296e-06, 8.771050450318837e-06, 8.15194820652221e-06, 8.168360344973125e-06, 7.906689434033753e-06, 7.957762738944663e-06, 7.892830150912352e-06, 7.669748499183021e-06, 8.209685500535674e-06, 7.629670614308116e-06, 7.584154953201498e-06, 7.665325547738073e-06, 7.676397099880987e-06, 7.530292297480038e-06, 7.675583944185925e-06, 7.4975708799141365e-06, 7.557185559287314e-06, 7.828206140887827e-06, 7.489416645314659e-06, 7.3955530467412336e-06, 7.302230472076474e-06, 7.220009416447773e-06, 7.301575250007446e-06, 7.501140179862478e-06, 7.292385132804399e-06, 7.231294786422854e-06, 5.938342176256397e-06, 5.938342176256397e-06, 5.938342176256397e-06, 5.938342176256397e-06, 5.938342176256397e-06, 5.938342176256397e-06, 5.938342176256397e-06, 5.938342176256397e-06, 5.938342176256397e-06, 5.938342176256397e-06, 5.938342176256397e-06, 5.938342176256397e-06, 5.938342176256397e-06, 5.938342176256397e-06, 5.938342176256397e-06, 5.938342176256397e-06, 5.938342176256397e-06, 5.938342176256397e-06, 5.938342176256397e-06, 5.938342176256397e-06, 5.938342176256397e-06, 5.938342176256397e-06, 5.938342176256397e-06, 5.938342176256397e-06, 5.938342176256397e-06, 5.938342176256397e-06, 5.938342176256397e-06, 5.938342176256397e-06, 5.938342176256397e-06, 5.938342176256397e-06, 1.0911551133365709e-05, 8.38151720126335e-06, 8.163387639300902e-06, 7.530050797844736e-06, 7.4676643567233445e-06, 7.31865685593313e-06, 7.300311308372188e-06, 7.1405427763147784e-06, 6.992544562301843e-06, 7.139961458426781e-06, 7.099347445551973e-06, 6.90207100023665e-06, 6.887381574466576e-06, 6.7306096070269765e-06, 6.751605901565762e-06, 6.8138170866886185e-06, 7.034540280950815e-06, 6.9182211534588e-06, 6.7752013051542505e-06, 6.80118457172278e-06, 6.893260474346008e-06, 6.77071271737034e-06, 6.6797376414879116e-06, 6.661776248816616e-06, 6.631121314537135e-06, 6.628070764812634e-06, 6.568790423308136e-06, 6.464067140254909e-06, 6.5465552096904205e-06, 6.625975516758718e-06, 6.604854039363836e-06, 5.930690650004446e-06, 5.930690650004446e-06, 5.930690650004446e-06, 5.930690650004446e-06, 5.930690650004446e-06, 5.930690650004446e-06, 5.930690650004446e-06, 5.930690650004446e-06, 5.930690650004446e-06, 5.930690650004446e-06, 5.930690650004446e-06, 5.930690650004446e-06, 5.930690650004446e-06, 5.930690650004446e-06, 5.930690650004446e-06, 5.930690650004446e-06, 5.930690650004446e-06, 5.930690650004446e-06, 5.930690650004446e-06, 5.930690650004446e-06, 5.930690650004446e-06, 5.930690650004446e-06, 5.930690650004446e-06, 5.930690650004446e-06, 5.930690650004446e-06, 5.930690650004446e-06, 5.930690650004446e-06, 5.930690650004446e-06, 5.930690650004446e-06, 5.930690650004446e-06, 2.18914621725644e-05, 2.7153799046908456e-05, 1.7683921722105565e-05, 1.7410001156725284e-05, 1.0212955799186291e-05, 9.389741771271281e-06, 8.900739238446028e-06, 8.276195125051443e-06, 8.487566099352408e-06, 8.9593674555266e-06, 8.648403435928012e-06, 8.257651890605838e-06, 7.3234537499237725e-06, 7.770932263784243e-06, 8.44742949910996e-06, 7.258315457620713e-06, 7.260352006861386e-06, 7.96170233810496e-06, 7.075873023973838e-06, 7.2901048650652716e-06, 7.024508812018986e-06, 7.3408285494363645e-06, 6.964305475825237e-06, 6.763989272460107e-06, 6.862206630309827e-06, 6.674600871744779e-06, 7.103563524133311e-06, 7.275823993661782e-06, 6.810974590713528e-06, 7.098465894351934e-06, 7.050164327107709e-06, 7.044464491905703e-06, 6.93321212399673e-06, 6.9020468203517314e-06, 5.7457369915845475e-06, 5.7457369915845475e-06, 5.7457369915845475e-06, 5.7457369915845475e-06, 5.7457369915845475e-06, 5.7457369915845475e-06, 5.7457369915845475e-06, 5.7457369915845475e-06, 5.7457369915845475e-06, 5.7457369915845475e-06, 5.7457369915845475e-06, 5.7457369915845475e-06, 5.7457369915845475e-06, 5.7457369915845475e-06, 5.7457369915845475e-06, 5.7457369915845475e-06, 5.7457369915845475e-06, 5.7457369915845475e-06, 5.7457369915845475e-06, 5.7457369915845475e-06, 5.7457369915845475e-06, 5.7457369915845475e-06, 5.7457369915845475e-06, 5.7457369915845475e-06, 5.7457369915845475e-06, 5.7457369915845475e-06, 5.7457369915845475e-06, 5.7457369915845475e-06, 5.7457369915845475e-06, 5.7457369915845475e-06, 1.6848688340740715e-05, 9.867423149255326e-06, 9.948386955604278e-06, 9.207098920442148e-06, 9.92364157066477e-06, 9.610386528241513e-06, 9.972910208258637e-06, 9.493984662039241e-06, 9.058230108466761e-06, 8.164553260646827e-06, 7.790310396794076e-06, 8.070322167642194e-06, 7.785618326101962e-06, 8.027562839946938e-06, 7.482730720536787e-06, 8.102757271927334e-06, 8.12461872781323e-06, 7.209532269984359e-06, 7.858450422926982e-06, 7.156505578678938e-06, 6.896857955651289e-06, 7.485343238811957e-06, 7.449190261740562e-06, 7.095899855105126e-06, 7.3106009434659965e-06, 6.9698955058868054e-06, 7.308295468110572e-06, 6.979758785851971e-06, 6.771297112872601e-06, 7.241284298539398e-06, 7.082516574457542e-06, 7.098269771567164e-06, 7.077064856838057e-06, 7.048453005501751e-06], \"Total\": [95.0, 36.0, 35.0, 31.0, 100.0, 37.0, 32.0, 23.0, 23.0, 22.0, 20.0, 15.0, 21.0, 20.0, 11.0, 22.0, 11.0, 28.0, 14.0, 13.0, 13.0, 9.0, 22.0, 13.0, 13.0, 14.0, 12.0, 11.0, 8.0, 8.0, 37.458091339283065, 32.84864545772091, 21.342751499642215, 20.409648596372108, 14.885943000819264, 13.970420121924775, 13.974665786391752, 13.051837874347632, 13.05034360410667, 12.132513772740422, 11.66684341133583, 11.20670596644243, 11.205897172458734, 10.28351217019733, 9.36954076365028, 9.363147408563563, 9.36743479324934, 8.905182825962541, 8.438770777188461, 7.983201093478153, 7.98330750859992, 7.9870787277738415, 7.51978134968584, 7.520603613243398, 7.5269827080150655, 7.060592536302275, 7.064575224570323, 7.064300344031309, 7.062459594000849, 6.60723433237245, 100.13191092981218, 22.946311137424193, 14.87799540830105, 11.456234826612485, 28.135114845227243, 95.42669634651512, 23.52125515664212, 22.790019263755337, 23.881790149077013, 8.555109680178072, 5.978908157157292, 5.979863606822824, 5.618885533159556, 4.904470629367895, 4.524937535445417, 4.161929867039947, 4.160428164864213, 4.160971664490426, 3.7973011331956137, 3.797888517959222, 3.444795487950143, 3.4331610082611155, 3.432861863487339, 3.432267131129431, 3.4333273342231143, 3.0680012666648637, 3.0689995292389667, 3.067178667974852, 3.071391825699606, 3.0678205842749997, 2.703313048613216, 2.7051974398361542, 2.7047204392747655, 2.7051568777487645, 2.706001232098297, 2.7058888625353776, 22.63191636231643, 5.9149523000897135, 6.227994097436191, 20.766727252725143, 15.169324087922293, 11.978633942973255, 11.281998605638796, 9.585860695304806, 8.15821174360069, 7.115712816955073, 4.332418604468754, 4.3328863414509335, 3.983818916343707, 3.6365169111348097, 3.3032985316898635, 3.2902156038289854, 3.2897022520434747, 3.28926269012157, 3.2877775142704553, 3.288536637648312, 3.290229362072339, 2.9406859226326874, 2.592993076561502, 2.594483830294605, 2.592277494287834, 2.5938957588783325, 2.5932231677652995, 2.593365719102406, 2.5931951821029404, 2.253897510029827, 2.2461898311796156, 2.2457925498764695, 2.246335514762984, 28.135114845227243, 22.63191636231643, 100.13191092981218, 11.456234826612485, 22.946311137424193, 6.227994097436191, 35.59940287281202, 36.893044159285026, 31.920112761305674, 3.8338401514102003, 3.572474156903463, 3.573792288852141, 3.3097707457989034, 3.0449021078274745, 3.0457334387074377, 2.259542386979562, 2.259970172984881, 1.9974646969892786, 14.87799540830105, 22.946311137424193, 100.13191092981218, 9.024963149472937, 28.135114845227243, 0.16002767655058328, 0.16002767655058328, 0.16002767655058328, 0.16002767655058328, 0.16002767655058328, 0.16002767655058328, 0.16002767655058328, 0.16002767655058328, 0.16002767655058328, 0.16002767655058328, 0.16002767655058328, 0.16002767655058328, 0.16002767655058328, 95.42669634651512, 32.84864545772091, 37.458091339283065, 23.881790149077013, 21.342751499642215, 20.409648596372108, 14.885943000819264, 22.790019263755337, 22.63191636231643, 23.52125515664212, 11.66684341133583, 13.05034360410667, 11.456234826612485, 13.974665786391752, 0.16002767655058328, 0.16002767655058328, 0.16002767655058328, 0.16002767655058328, 0.16002767655058328, 0.16002767655058328, 0.16002767655058328, 0.16002767655058328, 0.16002767655058328, 0.16002767655058328, 0.16002767655058328, 0.16002767655058328, 0.16002767655058328, 0.16002767655058328, 0.16002767655058328, 0.16002767655058328, 0.16002767655058328, 0.16002767655058328, 0.16002767655058328, 0.16002767655058328, 0.16002767655058328, 0.16002767655058328, 0.16002767655058328, 0.16002767655058328, 0.16002767655058328, 0.16002767655058328, 0.16002767655058328, 0.16002767655058328, 0.16002767655058328, 0.16002767655058328, 11.281998605638796, 11.978633942973255, 22.63191636231643, 7.115712816955073, 8.15821174360069, 36.893044159285026, 3.6365169111348097, 100.13191092981218, 3.2877775142704553, 11.456234826612485, 4.3328863414509335, 2.5931951821029404, 3.288536637648312, 4.332418604468754, 31.920112761305674, 37.458091339283065, 35.59940287281202, 6.227994097436191, 32.84864545772091, 3.290229362072339, 3.28926269012157, 2.2461898311796156, 3.983818916343707, 2.592993076561502, 2.5932231677652995, 2.2457085485839965, 5.9149523000897135, 2.592277494287834, 2.2446458262331364, 2.245074748412203, 21.342751499642215, 22.946311137424193, 2.9406859226326874, 20.409648596372108, 13.051837874347632, 0.16002767655058328, 0.16002767655058328, 0.16002767655058328, 0.16002767655058328, 0.16002767655058328, 0.16002767655058328, 0.16002767655058328, 0.16002767655058328, 0.16002767655058328, 0.16002767655058328, 0.16002767655058328, 0.16002767655058328, 0.16002767655058328, 0.16002767655058328, 0.16002767655058328, 0.16002767655058328, 0.16002767655058328, 0.16002767655058328, 0.16002767655058328, 0.16002767655058328, 0.16002767655058328, 0.16002767655058328, 0.16002767655058328, 0.16002767655058328, 0.16002767655058328, 0.16002767655058328, 0.16002767655058328, 0.16002767655058328, 0.16002767655058328, 0.16002767655058328, 100.13191092981218, 37.458091339283065, 20.409648596372108, 32.84864545772091, 13.970420121924775, 21.342751499642215, 22.946311137424193, 13.051837874347632, 14.885943000819264, 11.205897172458734, 13.05034360410667, 11.20670596644243, 9.36743479324934, 36.893044159285026, 9.363147408563563, 8.438770777188461, 11.66684341133583, 12.132513772740422, 9.024963149472937, 13.974665786391752, 8.905182825962541, 11.456234826612485, 28.135114845227243, 10.28351217019733, 7.983201093478153, 6.599837810318705, 5.221433587511511, 7.51978134968584, 14.87799540830105, 7.98330750859992, 7.520603613243398, 0.16002767655058328, 0.16002767655058328, 0.16002767655058328, 0.16002767655058328, 0.16002767655058328, 0.16002767655058328, 0.16002767655058328, 0.16002767655058328, 0.16002767655058328, 0.16002767655058328, 0.16002767655058328, 0.16002767655058328, 0.16002767655058328, 0.16002767655058328, 0.16002767655058328, 0.16002767655058328, 0.16002767655058328, 0.16002767655058328, 0.16002767655058328, 0.16002767655058328, 0.16002767655058328, 0.16002767655058328, 0.16002767655058328, 0.16002767655058328, 0.16002767655058328, 0.16002767655058328, 0.16002767655058328, 0.16002767655058328, 0.16002767655058328, 0.16002767655058328, 100.13191092981218, 37.458091339283065, 32.84864545772091, 11.978633942973255, 11.281998605638796, 20.409648596372108, 21.342751499642215, 22.63191636231643, 14.87799540830105, 36.893044159285026, 31.920112761305674, 14.885943000819264, 13.970420121924775, 7.115712816955073, 8.15821174360069, 11.456234826612485, 35.59940287281202, 22.946311137424193, 11.66684341133583, 13.974665786391752, 28.135114845227243, 13.051837874347632, 11.20670596644243, 10.28351217019733, 9.36743479324934, 9.36954076365028, 7.51978134968584, 3.6365169111348097, 7.060592536302275, 13.05034360410667, 11.205897172458734, 0.16002767655058328, 0.16002767655058328, 0.16002767655058328, 0.16002767655058328, 0.16002767655058328, 0.16002767655058328, 0.16002767655058328, 0.16002767655058328, 0.16002767655058328, 0.16002767655058328, 0.16002767655058328, 0.16002767655058328, 0.16002767655058328, 0.16002767655058328, 0.16002767655058328, 0.16002767655058328, 0.16002767655058328, 0.16002767655058328, 0.16002767655058328, 0.16002767655058328, 0.16002767655058328, 0.16002767655058328, 0.16002767655058328, 0.16002767655058328, 0.16002767655058328, 0.16002767655058328, 0.16002767655058328, 0.16002767655058328, 0.16002767655058328, 0.16002767655058328, 36.893044159285026, 100.13191092981218, 31.920112761305674, 35.59940287281202, 28.135114845227243, 22.946311137424193, 14.87799540830105, 8.15821174360069, 11.281998605638796, 32.84864545772091, 22.63191636231643, 11.978633942973255, 3.0449021078274745, 9.024963149472937, 37.458091339283065, 3.0457334387074377, 3.8338401514102003, 20.409648596372108, 3.3097707457989034, 7.115712816955073, 3.572474156903463, 11.456234826612485, 4.3328863414509335, 2.259970172984881, 3.573792288852141, 2.259542386979562, 11.66684341133583, 21.342751499642215, 4.332418604468754, 13.05034360410667, 13.974665786391752, 14.885943000819264, 12.132513772740422, 13.051837874347632, 0.16002767655058328, 0.16002767655058328, 0.16002767655058328, 0.16002767655058328, 0.16002767655058328, 0.16002767655058328, 0.16002767655058328, 0.16002767655058328, 0.16002767655058328, 0.16002767655058328, 0.16002767655058328, 0.16002767655058328, 0.16002767655058328, 0.16002767655058328, 0.16002767655058328, 0.16002767655058328, 0.16002767655058328, 0.16002767655058328, 0.16002767655058328, 0.16002767655058328, 0.16002767655058328, 0.16002767655058328, 0.16002767655058328, 0.16002767655058328, 0.16002767655058328, 0.16002767655058328, 0.16002767655058328, 0.16002767655058328, 0.16002767655058328, 0.16002767655058328, 100.13191092981218, 11.978633942973255, 15.169324087922293, 11.281998605638796, 28.135114845227243, 20.766727252725143, 32.84864545772091, 37.458091339283065, 22.63191636231643, 9.585860695304806, 7.115712816955073, 11.456234826612485, 8.15821174360069, 14.885943000819264, 6.227994097436191, 20.409648596372108, 21.342751499642215, 3.983818916343707, 22.946311137424193, 5.979863606822824, 3.2897022520434747, 13.970420121924775, 13.974665786391752, 5.9149523000897135, 11.20670596644243, 4.332418604468754, 11.205897172458734, 5.978908157157292, 3.288536637648312, 13.05034360410667, 8.438770777188461, 10.28351217019733, 11.66684341133583, 12.132513772740422], \"Category\": [\"Default\", \"Default\", \"Default\", \"Default\", \"Default\", \"Default\", \"Default\", \"Default\", \"Default\", \"Default\", \"Default\", \"Default\", \"Default\", \"Default\", \"Default\", \"Default\", \"Default\", \"Default\", \"Default\", \"Default\", \"Default\", \"Default\", \"Default\", \"Default\", \"Default\", \"Default\", \"Default\", \"Default\", \"Default\", \"Default\", \"Topic1\", \"Topic1\", \"Topic1\", \"Topic1\", \"Topic1\", \"Topic1\", \"Topic1\", \"Topic1\", \"Topic1\", \"Topic1\", \"Topic1\", \"Topic1\", \"Topic1\", \"Topic1\", \"Topic1\", \"Topic1\", \"Topic1\", \"Topic1\", \"Topic1\", \"Topic1\", \"Topic1\", \"Topic1\", \"Topic1\", \"Topic1\", \"Topic1\", \"Topic1\", \"Topic1\", \"Topic1\", \"Topic1\", \"Topic1\", \"Topic1\", \"Topic1\", \"Topic1\", \"Topic1\", \"Topic1\", \"Topic2\", \"Topic2\", \"Topic2\", \"Topic2\", \"Topic2\", \"Topic2\", \"Topic2\", \"Topic2\", \"Topic2\", \"Topic2\", \"Topic2\", \"Topic2\", \"Topic2\", \"Topic2\", \"Topic2\", \"Topic2\", \"Topic2\", \"Topic2\", \"Topic2\", \"Topic2\", \"Topic2\", \"Topic2\", \"Topic2\", \"Topic2\", \"Topic2\", \"Topic2\", \"Topic2\", \"Topic2\", \"Topic2\", \"Topic2\", \"Topic2\", \"Topic2\", \"Topic2\", \"Topic2\", \"Topic3\", \"Topic3\", \"Topic3\", \"Topic3\", \"Topic3\", \"Topic3\", \"Topic3\", \"Topic3\", \"Topic3\", \"Topic3\", \"Topic3\", \"Topic3\", \"Topic3\", \"Topic3\", \"Topic3\", \"Topic3\", \"Topic3\", \"Topic3\", \"Topic3\", \"Topic3\", \"Topic3\", \"Topic3\", \"Topic3\", \"Topic3\", \"Topic3\", \"Topic3\", \"Topic3\", \"Topic3\", \"Topic3\", \"Topic3\", \"Topic3\", \"Topic3\", \"Topic3\", \"Topic3\", \"Topic3\", \"Topic3\", \"Topic4\", \"Topic4\", \"Topic4\", \"Topic4\", \"Topic4\", \"Topic4\", \"Topic4\", \"Topic4\", \"Topic4\", \"Topic4\", \"Topic4\", \"Topic4\", \"Topic4\", \"Topic4\", \"Topic4\", \"Topic4\", \"Topic4\", \"Topic4\", \"Topic4\", \"Topic4\", \"Topic4\", \"Topic4\", \"Topic4\", \"Topic4\", \"Topic4\", \"Topic4\", \"Topic4\", \"Topic4\", \"Topic4\", \"Topic4\", \"Topic4\", \"Topic4\", \"Topic4\", \"Topic4\", \"Topic4\", \"Topic4\", \"Topic4\", \"Topic4\", \"Topic4\", \"Topic4\", \"Topic4\", \"Topic4\", \"Topic4\", \"Topic4\", \"Topic5\", \"Topic5\", \"Topic5\", \"Topic5\", \"Topic5\", \"Topic5\", \"Topic5\", \"Topic5\", \"Topic5\", \"Topic5\", \"Topic5\", \"Topic5\", \"Topic5\", \"Topic5\", \"Topic5\", \"Topic5\", \"Topic5\", \"Topic5\", \"Topic5\", \"Topic5\", \"Topic5\", \"Topic5\", \"Topic5\", \"Topic5\", \"Topic5\", \"Topic5\", \"Topic5\", \"Topic5\", \"Topic5\", \"Topic5\", \"Topic5\", \"Topic5\", \"Topic5\", \"Topic5\", \"Topic5\", \"Topic5\", \"Topic5\", \"Topic5\", \"Topic5\", \"Topic5\", \"Topic5\", \"Topic5\", \"Topic5\", \"Topic5\", \"Topic5\", \"Topic5\", \"Topic5\", \"Topic5\", \"Topic5\", \"Topic5\", \"Topic5\", \"Topic5\", \"Topic5\", \"Topic5\", \"Topic5\", \"Topic5\", \"Topic5\", \"Topic5\", \"Topic5\", \"Topic5\", \"Topic5\", \"Topic5\", \"Topic5\", \"Topic5\", \"Topic5\", \"Topic6\", \"Topic6\", \"Topic6\", \"Topic6\", \"Topic6\", \"Topic6\", \"Topic6\", \"Topic6\", \"Topic6\", \"Topic6\", \"Topic6\", \"Topic6\", \"Topic6\", \"Topic6\", \"Topic6\", \"Topic6\", \"Topic6\", \"Topic6\", \"Topic6\", \"Topic6\", \"Topic6\", \"Topic6\", \"Topic6\", \"Topic6\", \"Topic6\", \"Topic6\", \"Topic6\", \"Topic6\", \"Topic6\", \"Topic6\", \"Topic6\", \"Topic6\", \"Topic6\", \"Topic6\", \"Topic6\", \"Topic6\", \"Topic6\", \"Topic6\", \"Topic6\", \"Topic6\", \"Topic6\", \"Topic6\", \"Topic6\", \"Topic6\", \"Topic6\", \"Topic6\", \"Topic6\", \"Topic6\", \"Topic6\", \"Topic6\", \"Topic6\", \"Topic6\", \"Topic6\", \"Topic6\", \"Topic6\", \"Topic6\", \"Topic6\", \"Topic6\", \"Topic6\", \"Topic6\", \"Topic6\", \"Topic7\", \"Topic7\", \"Topic7\", \"Topic7\", \"Topic7\", \"Topic7\", \"Topic7\", \"Topic7\", \"Topic7\", \"Topic7\", \"Topic7\", \"Topic7\", \"Topic7\", \"Topic7\", \"Topic7\", \"Topic7\", \"Topic7\", \"Topic7\", \"Topic7\", \"Topic7\", \"Topic7\", \"Topic7\", \"Topic7\", \"Topic7\", \"Topic7\", \"Topic7\", \"Topic7\", \"Topic7\", \"Topic7\", \"Topic7\", \"Topic7\", \"Topic7\", \"Topic7\", \"Topic7\", \"Topic7\", \"Topic7\", \"Topic7\", \"Topic7\", \"Topic7\", \"Topic7\", \"Topic7\", \"Topic7\", \"Topic7\", \"Topic7\", \"Topic7\", \"Topic7\", \"Topic7\", \"Topic7\", \"Topic7\", \"Topic7\", \"Topic7\", \"Topic7\", \"Topic7\", \"Topic7\", \"Topic7\", \"Topic7\", \"Topic7\", \"Topic7\", \"Topic7\", \"Topic7\", \"Topic7\", \"Topic8\", \"Topic8\", \"Topic8\", \"Topic8\", \"Topic8\", \"Topic8\", \"Topic8\", \"Topic8\", \"Topic8\", \"Topic8\", \"Topic8\", \"Topic8\", \"Topic8\", \"Topic8\", \"Topic8\", \"Topic8\", \"Topic8\", \"Topic8\", \"Topic8\", \"Topic8\", \"Topic8\", \"Topic8\", \"Topic8\", \"Topic8\", \"Topic8\", \"Topic8\", \"Topic8\", \"Topic8\", \"Topic8\", \"Topic8\", \"Topic8\", \"Topic8\", \"Topic8\", \"Topic8\", \"Topic8\", \"Topic8\", \"Topic8\", \"Topic8\", \"Topic8\", \"Topic8\", \"Topic8\", \"Topic8\", \"Topic8\", \"Topic8\", \"Topic8\", \"Topic8\", \"Topic8\", \"Topic8\", \"Topic8\", \"Topic8\", \"Topic8\", \"Topic8\", \"Topic8\", \"Topic8\", \"Topic8\", \"Topic8\", \"Topic8\", \"Topic8\", \"Topic8\", \"Topic8\", \"Topic8\", \"Topic8\", \"Topic8\", \"Topic8\", \"Topic9\", \"Topic9\", \"Topic9\", \"Topic9\", \"Topic9\", \"Topic9\", \"Topic9\", \"Topic9\", \"Topic9\", \"Topic9\", \"Topic9\", \"Topic9\", \"Topic9\", \"Topic9\", \"Topic9\", \"Topic9\", \"Topic9\", \"Topic9\", \"Topic9\", \"Topic9\", \"Topic9\", \"Topic9\", \"Topic9\", \"Topic9\", \"Topic9\", \"Topic9\", \"Topic9\", \"Topic9\", \"Topic9\", \"Topic9\", \"Topic9\", \"Topic9\", \"Topic9\", \"Topic9\", \"Topic9\", \"Topic9\", \"Topic9\", \"Topic9\", \"Topic9\", \"Topic9\", \"Topic9\", \"Topic9\", \"Topic9\", \"Topic9\", \"Topic9\", \"Topic9\", \"Topic9\", \"Topic9\", \"Topic9\", \"Topic9\", \"Topic9\", \"Topic9\", \"Topic9\", \"Topic9\", \"Topic9\", \"Topic9\", \"Topic9\", \"Topic9\", \"Topic9\", \"Topic9\", \"Topic9\", \"Topic9\", \"Topic9\", \"Topic9\"], \"logprob\": [30.0, 29.0, 28.0, 27.0, 26.0, 25.0, 24.0, 23.0, 22.0, 21.0, 20.0, 19.0, 18.0, 17.0, 16.0, 15.0, 14.0, 13.0, 12.0, 11.0, 10.0, 9.0, 8.0, 7.0, 6.0, 5.0, 4.0, 3.0, 2.0, 1.0, -3.8317, -3.9635, -4.3965, -4.4415, -4.7591, -4.8227, -4.8226, -4.8914, -4.8916, -4.9652, -5.0048, -5.0453, -5.0454, -5.1324, -5.2262, -5.227, -5.2266, -5.2779, -5.3322, -5.3884, -5.3885, -5.3881, -5.449, -5.449, -5.4483, -5.513, -5.5125, -5.5126, -5.513, -5.5805, -3.5424, -5.0029, -5.2253, -5.3889, -5.4454, -2.4945, -3.8987, -3.9306, -3.8839, -4.9191, -5.2845, -5.2846, -5.3483, -5.4864, -5.5696, -5.6558, -5.6564, -5.6563, -5.7506, -5.7508, -5.8501, -5.8547, -5.8549, -5.8552, -5.855, -5.9712, -5.9709, -5.9716, -5.9704, -5.9717, -6.1034, -6.1027, -6.103, -6.1029, -6.1026, -6.1027, -4.5593, -5.5701, -5.7506, -3.9558, -4.2721, -4.5106, -4.571, -4.7358, -4.8994, -5.0384, -5.5458, -5.5458, -5.632, -5.7263, -5.8259, -5.83, -5.8303, -5.8304, -5.8309, -5.8307, -5.8303, -5.9468, -6.0785, -6.078, -6.0788, -6.0783, -6.0785, -6.0785, -6.0787, -6.2259, -6.2296, -6.2298, -6.2296, -4.4773, -4.6351, -4.1831, -5.7265, -5.8262, -6.0779, -3.0083, -2.9729, -3.1182, -5.2678, -5.341, -5.3407, -5.4209, -5.5072, -5.5072, -5.8214, -5.8224, -5.9528, -4.8639, -4.4762, -3.0542, -5.5055, -4.4451, -10.1084, -10.1084, -10.1084, -10.1084, -10.1084, -10.1084, -10.1084, -10.1084, -10.1084, -10.1084, -10.1084, -10.1084, -10.1084, -9.0346, -9.5237, -9.5218, -9.601, -9.7017, -9.7154, -9.7728, -9.7601, -9.7888, -9.7913, -9.8434, -9.8426, -9.8539, -9.8468, -9.8039, -9.8039, -9.8039, -9.8039, -9.8039, -9.8039, -9.8039, -9.8039, -9.8039, -9.8039, -9.8039, -9.8039, -9.8039, -9.8039, -9.8039, -9.8039, -9.8039, -9.8039, -9.8039, -9.8039, -9.8039, -9.8039, -9.8039, -9.8039, -9.8039, -9.8039, -9.8039, -9.8039, -9.8039, -9.8039, -9.5337, -9.5372, -9.5635, -9.6379, -9.6427, -9.5998, -9.6905, -9.592, -9.6971, -9.6609, -9.6956, -9.7184, -9.7117, -9.7047, -9.652, -9.654, -9.6554, -9.7008, -9.6682, -9.7151, -9.7183, -9.7362, -9.7252, -9.735, -9.7351, -9.7382, -9.7199, -9.7389, -9.7418, -9.742, -9.7039, -9.7093, -9.737, -9.7238, -9.7346, -9.8046, -9.8046, -9.8046, -9.8046, -9.8046, -9.8046, -9.8046, -9.8046, -9.8046, -9.8046, -9.8046, -9.8046, -9.8046, -9.8046, -9.8046, -9.8046, -9.8046, -9.8046, -9.8046, -9.8046, -9.8046, -9.8046, -9.8046, -9.8046, -9.8046, -9.8046, -9.8046, -9.8046, -9.8046, -9.8046, -8.9704, -9.1596, -9.397, -9.3793, -9.4795, -9.4502, -9.4487, -9.5219, -9.5198, -9.5524, -9.546, -9.5542, -9.5828, -9.5148, -9.5881, -9.594, -9.5834, -9.582, -9.6012, -9.5821, -9.6055, -9.5976, -9.5624, -9.6066, -9.6192, -9.6319, -9.6433, -9.632, -9.6051, -9.6333, -9.6417, -9.8041, -9.8041, -9.8041, -9.8041, -9.8041, -9.8041, -9.8041, -9.8041, -9.8041, -9.8041, -9.8041, -9.8041, -9.8041, -9.8041, -9.8041, -9.8041, -9.8041, -9.8041, -9.8041, -9.8041, -9.8041, -9.8041, -9.8041, -9.8041, -9.8041, -9.8041, -9.8041, -9.8041, -9.8041, -9.8041, -9.1957, -9.4595, -9.4859, -9.5666, -9.575, -9.5951, -9.5976, -9.6197, -9.6407, -9.6198, -9.6255, -9.6537, -9.6558, -9.6789, -9.6758, -9.6666, -9.6347, -9.6514, -9.6723, -9.6684, -9.655, -9.6729, -9.6865, -9.6892, -9.6938, -9.6942, -9.7032, -9.7193, -9.7066, -9.6945, -9.6977, -9.805, -9.805, -9.805, -9.805, -9.805, -9.805, -9.805, -9.805, -9.805, -9.805, -9.805, -9.805, -9.805, -9.805, -9.805, -9.805, -9.805, -9.805, -9.805, -9.805, -9.805, -9.805, -9.805, -9.805, -9.805, -9.805, -9.805, -9.805, -9.805, -9.805, -8.499, -8.2836, -8.7125, -8.7281, -9.2615, -9.3455, -9.399, -9.4718, -9.4465, -9.3924, -9.4278, -9.474, -9.5941, -9.5348, -9.4513, -9.603, -9.6027, -9.5105, -9.6285, -9.5986, -9.6357, -9.5917, -9.6443, -9.6735, -9.6591, -9.6868, -9.6245, -9.6006, -9.6666, -9.6253, -9.6321, -9.6329, -9.6488, -9.6533, -9.8056, -9.8056, -9.8056, -9.8056, -9.8056, -9.8056, -9.8056, -9.8056, -9.8056, -9.8056, -9.8056, -9.8056, -9.8056, -9.8056, -9.8056, -9.8056, -9.8056, -9.8056, -9.8056, -9.8056, -9.8056, -9.8056, -9.8056, -9.8056, -9.8056, -9.8056, -9.8056, -9.8056, -9.8056, -9.8056, -8.7298, -9.2648, -9.2566, -9.3341, -9.2591, -9.2912, -9.2542, -9.3034, -9.3504, -9.4542, -9.5012, -9.4658, -9.5018, -9.4712, -9.5414, -9.4618, -9.4591, -9.5786, -9.4924, -9.586, -9.623, -9.5411, -9.5459, -9.5945, -9.5647, -9.6124, -9.565, -9.611, -9.6413, -9.5742, -9.5964, -9.5942, -9.5972, -9.6012], \"loglift\": [30.0, 29.0, 28.0, 27.0, 26.0, 25.0, 24.0, 23.0, 22.0, 21.0, 20.0, 19.0, 18.0, 17.0, 16.0, 15.0, 14.0, 13.0, 12.0, 11.0, 10.0, 9.0, 8.0, 7.0, 6.0, 5.0, 4.0, 3.0, 2.0, 1.0, 0.9942, 0.9937, 0.9919, 0.9916, 0.9896, 0.9895, 0.9893, 0.9888, 0.9887, 0.988, 0.9876, 0.9873, 0.9873, 0.9862, 0.9855, 0.9854, 0.9853, 0.9846, 0.9841, 0.9834, 0.9833, 0.9832, 0.9825, 0.9825, 0.9823, 0.9816, 0.9815, 0.9815, 0.9814, 0.9805, 0.3002, 0.3131, 0.5239, 0.6217, -0.3332, 1.3963, 1.3926, 1.3922, 1.3921, 1.3835, 1.3764, 1.3761, 1.3747, 1.3726, 1.37, 1.3673, 1.3671, 1.367, 1.3643, 1.3638, 1.3622, 1.361, 1.3608, 1.3607, 1.3606, 1.3569, 1.3569, 1.3567, 1.3566, 1.3564, 1.3513, 1.3512, 1.3512, 1.3511, 1.3511, 1.351, 0.7705, 1.1016, 0.8695, 1.46, 1.4578, 1.4554, 1.4549, 1.4531, 1.4507, 1.4484, 1.4372, 1.4371, 1.4349, 1.4318, 1.4283, 1.4282, 1.428, 1.428, 1.428, 1.428, 1.4279, 1.4236, 1.4178, 1.4178, 1.4177, 1.4177, 1.4177, 1.4177, 1.4176, 1.4106, 1.4103, 1.4103, 1.4102, 0.6348, 0.6946, -0.3405, 0.2841, -0.5102, 0.5422, 1.8685, 1.8682, 1.8677, 1.8375, 1.8349, 1.8348, 1.8314, 1.8285, 1.8281, 1.8126, 1.8114, 1.8045, 0.8853, 0.8397, 0.7884, 0.7436, 0.667, 0.1732, 0.1732, 0.1732, 0.1732, 0.1732, 0.1732, 0.1732, 0.1732, 0.1732, 0.1732, 0.1732, 0.1732, 0.1732, -5.1438, -4.5664, -4.6959, -4.3249, -4.3133, -4.2822, -4.0241, -4.4373, -4.459, -4.5001, -3.851, -3.9623, -3.8434, -4.0349, 0.4777, 0.4777, 0.4777, 0.4777, 0.4777, 0.4777, 0.4777, 0.4777, 0.4777, 0.4777, 0.4777, 0.4777, 0.4777, 0.4777, 0.4777, 0.4777, 0.4777, 0.4777, 0.4777, 0.4777, 0.4777, 0.4777, 0.4777, 0.4777, 0.4777, 0.4777, 0.4777, 0.4777, 0.4777, 0.4777, -3.5078, -3.5712, -4.2337, -3.1511, -3.2926, -4.7587, -2.5324, -5.7493, -2.4382, -3.6503, -2.7127, -2.2222, -2.453, -2.7217, -4.6661, -4.8281, -4.7786, -3.0807, -4.7109, -2.457, -2.4598, -2.0963, -2.6583, -2.2387, -2.2388, -2.0981, -3.0482, -2.2423, -2.1012, -2.1016, -4.3155, -4.3933, -2.3666, -4.2907, -3.8544, 0.4769, 0.4769, 0.4769, 0.4769, 0.4769, 0.4769, 0.4769, 0.4769, 0.4769, 0.4769, 0.4769, 0.4769, 0.4769, 0.4769, 0.4769, 0.4769, 0.4769, 0.4769, 0.4769, 0.4769, 0.4769, 0.4769, 0.4769, 0.4769, 0.4769, 0.4769, 0.4769, 0.4769, 0.4769, 0.4769, -5.1278, -4.3337, -3.9639, -4.422, -3.6673, -4.0617, -4.1327, -3.6417, -3.7711, -3.5197, -3.6656, -3.5215, -3.3709, -4.6737, -3.3757, -3.2778, -3.591, -3.6287, -3.352, -3.7702, -3.343, -3.587, -4.4503, -3.488, -3.2474, -3.0698, -2.8469, -3.2004, -3.8558, -3.2615, -3.2102, 0.4774, 0.4774, 0.4774, 0.4774, 0.4774, 0.4774, 0.4774, 0.4774, 0.4774, 0.4774, 0.4774, 0.4774, 0.4774, 0.4774, 0.4774, 0.4774, 0.4774, 0.4774, 0.4774, 0.4774, 0.4774, 0.4774, 0.4774, 0.4774, 0.4774, 0.4774, 0.4774, 0.4774, 0.4774, 0.4774, -5.3531, -4.6336, -4.5287, -3.6006, -3.549, -4.162, -4.2092, -4.29, -3.8914, -4.7787, -4.6396, -3.905, -3.8437, -3.192, -3.3257, -3.656, -4.7579, -4.3354, -3.6799, -3.8566, -4.5429, -3.7927, -3.6538, -3.5706, -3.4819, -3.4826, -3.2716, -2.5612, -3.212, -3.8142, -3.665, 0.4765, 0.4765, 0.4765, 0.4765, 0.4765, 0.4765, 0.4765, 0.4765, 0.4765, 0.4765, 0.4765, 0.4765, 0.4765, 0.4765, 0.4765, 0.4765, 0.4765, 0.4765, 0.4765, 0.4765, 0.4765, 0.4765, 0.4765, 0.4765, 0.4765, 0.4765, 0.4765, 0.4765, 0.4765, 0.4765, -3.6579, -4.441, -3.7266, -3.8513, -4.1494, -4.0296, -3.6498, -3.1217, -3.4206, -4.4352, -4.098, -3.508, -2.2584, -3.2856, -4.6254, -2.2676, -2.4975, -4.0774, -2.3762, -3.1118, -2.4599, -3.5811, -2.6615, -2.0398, -2.4836, -2.0529, -3.6322, -4.2122, -2.6836, -3.745, -3.8202, -3.8842, -3.6956, -3.7731, 0.476, 0.476, 0.476, 0.476, 0.476, 0.476, 0.476, 0.476, 0.476, 0.476, 0.476, 0.476, 0.476, 0.476, 0.476, 0.476, 0.476, 0.476, 0.476, 0.476, 0.476, 0.476, 0.476, 0.476, 0.476, 0.476, 0.476, 0.476, 0.476, 0.476, -4.8871, -3.2988, -3.5268, -3.3081, -4.147, -3.8754, -4.2969, -4.4775, -4.0206, -3.2654, -3.0143, -3.4552, -3.1517, -3.7224, -2.9214, -4.0287, -4.0707, -2.5117, -4.1765, -2.9253, -2.3646, -3.7289, -3.734, -2.9229, -3.5321, -2.6294, -3.5323, -2.9501, -2.3827, -3.6939, -3.2801, -3.4756, -3.6048, -3.648]}, \"token.table\": {\"Topic\": [4, 1, 2, 1, 3, 1, 3, 1, 2, 2, 1, 2, 1, 3, 4, 3, 2, 3, 2, 3, 1, 3, 2, 2, 2, 3, 3, 3, 3, 2, 2, 2, 3, 2, 4, 2, 2, 2, 2, 2, 3, 3, 1, 4, 1, 1, 4, 4, 4, 1, 2, 1, 1, 3, 4, 1, 3, 4, 4, 3, 3, 2, 1, 1, 1, 1, 3, 2, 1, 4, 4, 2, 1, 3, 2, 1, 2, 3, 2, 2, 4, 4, 1, 2, 1, 1, 1, 4, 3, 3, 1, 1, 2, 1, 3, 3, 1, 1, 2, 3, 1, 4, 3, 1, 2, 1, 3, 3, 4, 2, 1, 3, 2, 1, 3, 2, 3, 1, 3, 1, 3, 3, 3, 3, 1, 3, 3, 2, 3], \"Freq\": [1.0433403172870108, 0.9911561130836196, 0.977892910484194, 0.9914182080341364, 0.9117943506525082, 1.0016177719873007, 0.7711985954268815, 0.9605593515229758, 0.8839901034360368, 1.053379718830412, 1.0021042820198491, 1.0049497902035436, 0.24879941093211708, 0.42651327588362925, 0.2843421839224195, 0.887351794436089, 0.5302246530029051, 0.4418538775024209, 0.9775172564930055, 0.9119366344283835, 1.0285558464203322, 0.9232718177034245, 0.9610926007373798, 1.1089929847235345, 0.6762522835457745, 0.16906307088644362, 0.8903389484144022, 1.004061701597407, 0.975004552340766, 1.108692984969473, 1.053216802200761, 1.1086469453207637, 0.980607055985671, 1.0035277081179879, 0.9852533492909196, 1.0194780186999342, 0.9955285432394548, 1.0092137147325106, 0.8708789855577689, 0.8739064137443597, 0.9120585014415863, 0.8903966940985011, 0.6049202028237304, 0.40328013521582023, 0.9816259984104818, 0.9960283084384985, 1.0028990787600285, 0.8849674318305172, 1.0025027242006228, 1.002090924266928, 0.9778353198860358, 1.0018128672267008, 0.49934131422946354, 0.15978922055342834, 0.3395520936760352, 0.5229598748196458, 0.13073996870491145, 0.3486399165464305, 0.9831625582329697, 1.0017836806040206, 0.9124705023313258, 0.8738302668535461, 0.9080955356165776, 1.002117322014447, 0.9877705637712871, 0.9575914193295247, 0.771249311969687, 0.8898561770822282, 0.664822659176221, 0.3324113295881105, 0.9064071896242071, 1.1089763563363793, 0.9091132498164013, 0.9122598683119281, 0.8737879345485808, 0.9799286795929978, 1.0033673666326104, 1.0201701504097422, 0.8740578414748307, 0.9767558716858459, 0.8397541502722388, 0.8851349775622025, 0.9308781298930247, 1.1091719337930577, 0.9307763525355011, 0.9299875224299491, 1.007662060722284, 1.0012692604853255, 0.9888377302152106, 0.9117905379430633, 0.9724304142879339, 0.9961423541299841, 0.9778389735934256, 0.9890777974603947, 0.7713094254197339, 0.9837384082337673, 0.9815551539353853, 0.9480053684626037, 0.9780975693798732, 0.938882828164636, 0.9908978467930463, 0.9849844250563022, 0.7708662419271656, 0.9612152417645986, 1.1097493875298616, 1.0046076342013521, 0.8905542055119965, 1.0999536363359745, 0.8394444213666273, 0.9614395061020241, 0.9908592912499915, 1.011233004817562, 0.9351136687979297, 0.9839406132968394, 0.8910091635063471, 0.9613139243739264, 0.8908389359483337, 0.6983097083010418, 0.3491548541505209, 0.9607753028060433, 0.7715223406471968, 0.9231721501054972, 0.7712409887666909, 0.7710410077792994, 1.010647414644989, 0.9081831300501001, 0.8905875169157971, 0.6422613665685128, 0.3211306832842564], \"Term\": [\"akteur_inn\", \"arbeitgeber_inn\", \"asylbewerber\", \"aufrustung\", \"aufstieg\", \"ausbeutung\", \"aussiedler\", \"bahn\", \"bargeld\", \"befurworten\", \"bewegung\", \"bundestagswahl\", \"burger_inn\", \"burger_inn\", \"burger_inn\", \"burgergeld\", \"burgerin_burger\", \"burgerin_burger\", \"burgerlich\", \"corona_krise\", \"coronakrise\", \"cyber\", \"demokratie_rechtsstaat\", \"deutsch_bundesbank\", \"deutsch_sprache\", \"deutsch_sprache\", \"dorf\", \"ehrenamt\", \"einfach\", \"einstellung\", \"euro_scheitern\", \"ezb\", \"fair\", \"familienpolitik\", \"ff\", \"fordern_frei_demokrat\", \"frei_demokrat\", \"frei_demokrat_fordern\", \"freie_demokrat\", \"freiheitlich\", \"frieden_freiheit\", \"gefahrenabwehr\", \"gefluchtet\", \"gefluchtet\", \"gemeinnutzig\", \"gewerkschaft\", \"grunen\", \"grunen_bereit\", \"grunen_kapitel_kapitel_bereit\", \"gut_bezahlt\", \"ideologisch\", \"in\", \"inn\", \"inn\", \"inn\", \"inne\", \"inne\", \"inne\", \"innen\", \"innovation\", \"intensivieren\", \"islam\", \"job\", \"kampfen\", \"kapitel\", \"kasse\", \"ki\", \"klima_energie_technik_digitalisierung\", \"klimagerecht\", \"klimagerecht\", \"klimakrise\", \"klinik\", \"kostenfrei\", \"kriminell\", \"kulturell_identitat\", \"lohn\", \"mafsnahme\", \"meinsam\", \"migrant\", \"migration_asyl_integration\", \"mobilitatswende\", \"mull\", \"nahverkehr\", \"nationalstaat\", \"offentliche\", \"ostdeutsch\", \"osten\", \"patientinn\", \"politik_kapitel\", \"potenzial\", \"privatisierung\", \"profit\", \"programm_frei_demokrat\", \"queer\", \"rasch\", \"raum\", \"rechter\", \"reichtum\", \"rentenkonzept\", \"respekt\", \"schuler_inn\", \"selbstandige\", \"selbststandige\", \"sofort\", \"sofortig\", \"solidarisch\", \"solide\", \"sozial_marktwirtschaft\", \"sozial_okologische\", \"sozialpolitik\", \"spaltung\", \"spd_parteivorstand\", \"starken_frei_demokrat\", \"stoppen\", \"straftater\", \"target\", \"terroristisch\", \"uberall\", \"uberall\", \"ungleichheit\", \"unions_versprechen\", \"verbraucherinn_verbraucher\", \"weltspitze\", \"wirwerde\", \"zivil\", \"zukunftsmission\", \"zusammenwirken\", \"zuwanderung\", \"zuwanderung\"]}, \"R\": 30, \"lambda.step\": 0.01, \"plot.opts\": {\"xlab\": \"PC1\", \"ylab\": \"PC2\"}, \"topic.order\": [1, 2, 3, 8, 6, 9, 4, 5, 7]};\n",
       "\n",
       "function LDAvis_load_lib(url, callback){\n",
       "  var s = document.createElement('script');\n",
       "  s.src = url;\n",
       "  s.async = true;\n",
       "  s.onreadystatechange = s.onload = callback;\n",
       "  s.onerror = function(){console.warn(\"failed to load library \" + url);};\n",
       "  document.getElementsByTagName(\"head\")[0].appendChild(s);\n",
       "}\n",
       "\n",
       "if(typeof(LDAvis) !== \"undefined\"){\n",
       "   // already loaded: just create the visualization\n",
       "   !function(LDAvis){\n",
       "       new LDAvis(\"#\" + \"ldavis_el8520660965441449741552358\", ldavis_el8520660965441449741552358_data);\n",
       "   }(LDAvis);\n",
       "}else if(typeof define === \"function\" && define.amd){\n",
       "   // require.js is available: use it to load d3/LDAvis\n",
       "   require.config({paths: {d3: \"https://d3js.org/d3.v5\"}});\n",
       "   require([\"d3\"], function(d3){\n",
       "      window.d3 = d3;\n",
       "      LDAvis_load_lib(\"https://cdn.jsdelivr.net/gh/bmabey/pyLDAvis@3.3.1/pyLDAvis/js/ldavis.v3.0.0.js\", function(){\n",
       "        new LDAvis(\"#\" + \"ldavis_el8520660965441449741552358\", ldavis_el8520660965441449741552358_data);\n",
       "      });\n",
       "    });\n",
       "}else{\n",
       "    // require.js not available: dynamically load d3 & LDAvis\n",
       "    LDAvis_load_lib(\"https://d3js.org/d3.v5.js\", function(){\n",
       "         LDAvis_load_lib(\"https://cdn.jsdelivr.net/gh/bmabey/pyLDAvis@3.3.1/pyLDAvis/js/ldavis.v3.0.0.js\", function(){\n",
       "                 new LDAvis(\"#\" + \"ldavis_el8520660965441449741552358\", ldavis_el8520660965441449741552358_data);\n",
       "            })\n",
       "         });\n",
       "}\n",
       "</script>"
      ],
      "text/plain": [
       "PreparedData(topic_coordinates=              x         y  topics  cluster       Freq\n",
       "topic                                                \n",
       "0      0.115363  0.124034       1        1  36.864466\n",
       "1      0.057423 -0.128119       2        1  24.701189\n",
       "2     -0.117438 -0.035436       3        1  23.074092\n",
       "7     -0.045558  0.079688       4        1  15.348641\n",
       "5     -0.001822 -0.008205       5        1   0.002395\n",
       "8     -0.001624 -0.008021       6        1   0.002383\n",
       "3     -0.001969 -0.008007       7        1   0.002302\n",
       "4     -0.002189 -0.007902       8        1   0.002301\n",
       "6     -0.002187 -0.008031       9        1   0.002231, topic_info=                               Term        Freq       Total Category  logprob  \\\n",
       "8726                  frei_demokrat   95.000000   95.000000  Default  30.0000   \n",
       "3022                         grunen   36.000000   36.000000  Default  29.0000   \n",
       "3371                          innen   35.000000   35.000000  Default  28.0000   \n",
       "3025  grunen_kapitel_kapitel_bereit   31.000000   31.000000  Default  27.0000   \n",
       "3369                            inn  100.000000  100.000000  Default  26.0000   \n",
       "...                             ...         ...         ...      ...      ...   \n",
       "5240                         profit    0.000007   13.050344   Topic9  -9.5742   \n",
       "5474                       reichtum    0.000007    8.438771   Topic9  -9.5964   \n",
       "5222                 privatisierung    0.000007   10.283512   Topic9  -9.5942   \n",
       "8393                    coronakrise    0.000007   11.666843   Topic9  -9.5972   \n",
       "5303                          queer    0.000007   12.132514   Topic9  -9.6012   \n",
       "\n",
       "      loglift  \n",
       "8726  30.0000  \n",
       "3022  29.0000  \n",
       "3371  28.0000  \n",
       "3025  27.0000  \n",
       "3369  26.0000  \n",
       "...       ...  \n",
       "5240  -3.6939  \n",
       "5474  -3.2801  \n",
       "5222  -3.4756  \n",
       "8393  -3.6048  \n",
       "5303  -3.6480  \n",
       "\n",
       "[494 rows x 6 columns], token_table=       Topic      Freq             Term\n",
       "term                                   \n",
       "133        4  1.043340       akteur_inn\n",
       "392        1  0.991156  arbeitgeber_inn\n",
       "8130       2  0.977893     asylbewerber\n",
       "523        1  0.991418       aufrustung\n",
       "531        3  0.911794         aufstieg\n",
       "...      ...       ...              ...\n",
       "7800       1  1.010647            zivil\n",
       "16531      3  0.908183  zukunftsmission\n",
       "7918       3  0.890588   zusammenwirken\n",
       "15824      2  0.642261      zuwanderung\n",
       "15824      3  0.321131      zuwanderung\n",
       "\n",
       "[129 rows x 3 columns], R=30, lambda_step=0.01, plot_opts={'xlab': 'PC1', 'ylab': 'PC2'}, topic_order=[1, 2, 3, 8, 6, 9, 4, 5, 7])"
      ]
     },
     "execution_count": 131,
     "metadata": {},
     "output_type": "execute_result"
    }
   ],
   "source": [
    "pyLDAvis.enable_notebook()\n",
    "vis=gensimvis.prepare(lda_model,corpus,id2word,mds='mmds',R=30)\n",
    "vis"
   ]
  },
  {
   "cell_type": "code",
   "execution_count": 133,
   "metadata": {},
   "outputs": [
    {
     "name": "stderr",
     "output_type": "stream",
     "text": [
      "100%|██████████| 6/6 [00:20<00:00,  3.34s/it]\n",
      "100%|██████████| 6/6 [00:00<00:00, 38.67it/s]\n"
     ]
    }
   ],
   "source": [
    "lemma_text_2=lemmatization_test(liste_programmtexte,allowed_posttags=['NOUN','VERB'])\n",
    "lemma_text_2 = list(filter(None, lemma_text_2))\n",
    "data_words_2=gen_words(lemma_text_2)"
   ]
  },
  {
   "cell_type": "code",
   "execution_count": 134,
   "metadata": {},
   "outputs": [],
   "source": [
    "bigram_phrases_2=gensim.models.Phrases(data_words_2,min_count=3,threshold=100)\n",
    "trigram_phases_2=gensim.models.Phrases(bigram_phrases_2[data_words_2],threshold=50)\n",
    "\n",
    "bigram_2=gensim.models.phrases.Phraser(bigram_phrases_2)\n",
    "trigram_2=gensim.models.phrases.Phraser(trigram_phases_2)\n",
    "\n",
    "def make_bigrams_2(texts):\n",
    "    return [bigram_2[doc] for doc in texts]\n",
    "\n",
    "def make_trgram_2(texts):\n",
    "    return [trigram_2[bigram_2[doc]] for doc in texts]\n",
    "\n",
    "data_bigrams_2=make_bigrams_2(data_words_2)\n",
    "data_bigrams_trigrams_2=make_trgram_2(data_bigrams_2)"
   ]
  },
  {
   "cell_type": "code",
   "execution_count": 140,
   "metadata": {},
   "outputs": [
    {
     "name": "stderr",
     "output_type": "stream",
     "text": [
      "100%|██████████| 6/6 [00:00<00:00,  8.38it/s]\n"
     ]
    }
   ],
   "source": [
    "from gensim.models import TfidfModel\n",
    "\n",
    "id2word_2=corpora.Dictionary(data_bigrams_trigrams_2)\n",
    "\n",
    "texts_2 = data_bigrams_trigrams_2\n",
    "\n",
    "corpus_2=[id2word_2.doc2bow(text) for text in texts]\n",
    "\n",
    "#\n",
    "# print(corpus_2[3])\n",
    "\n",
    "tfidf=TfidfModel(corpus_2,id2word=id2word_2)\n",
    "\n",
    "low_value=0.03\n",
    "words=[]\n",
    "words_missing_in_tfdf=[]\n",
    "\n",
    "for i in tqdm(range(0,len(corpus_2))):\n",
    "    bow = corpus_2[i]\n",
    "    low_value_words = [] #reinitialize to be safe. You can skip this.\n",
    "    tfidf_ids = [id for id, value in tfidf[bow]]\n",
    "    bow_ids = [id for id, value in bow]\n",
    "    low_value_words = [id for id, value in tfidf[bow] if value < low_value]\n",
    "    drops=low_value_words+words_missing_in_tfdf\n",
    "    for item in drops:\n",
    "        words.append(id2word_2[item])\n",
    "    words_missing_in_tfidf = [id for id in bow_ids if id not in tfidf_ids] # The words with tf-idf socre 0 will be missing\n",
    "\n",
    "    new_bow = [b for b in bow if b[0] not in low_value_words and b[0] not in words_missing_in_tfidf]  \n",
    "    corpus_2[i]=new_bow\n"
   ]
  },
  {
   "cell_type": "code",
   "execution_count": null,
   "metadata": {},
   "outputs": [],
   "source": []
  },
  {
   "cell_type": "code",
   "execution_count": 141,
   "metadata": {},
   "outputs": [],
   "source": [
    "lda_model_2=gensim.models.ldamodel.LdaModel(\n",
    "corpus=corpus_2,\n",
    "id2word=id2word_2,\n",
    "num_topics=num_topics,\n",
    "random_state=100,\n",
    "update_every=1,\n",
    "chunksize=100,\n",
    "passes=10,\n",
    "alpha='auto'\n",
    ")"
   ]
  },
  {
   "cell_type": "code",
   "execution_count": 142,
   "metadata": {},
   "outputs": [
    {
     "name": "stdout",
     "output_type": "stream",
     "text": [
      "{0: 0.23900000000000013, 1: 0.21700000000000014, 2: 0.0, 3: 0.32100000000000006, 4: 0.0, 5: 0.0, 6: 0.24900000000000017, 7: 0.5230000000000004, 8: 0.0}\n"
     ]
    }
   ],
   "source": [
    "dic={}\n",
    "dic_sum={}\n",
    "for idx, topic in lda_model_2.print_topics(num_topics,num_words=100):\n",
    "    elements=[]\n",
    "    percent=[]\n",
    "\n",
    "    for e in topic.split('+'):\n",
    "        elements.append(e.split('*')[1].replace('\"','').strip())\n",
    "        percent.append(float(e.split('*')[0].replace('\"','').strip()))\n",
    "\n",
    "    dic[str(idx)+'_word']=elements\n",
    "    dic[str(idx)+'_per']=percent\n",
    "    dic_sum[idx]=sum(percent)\n",
    "print(dic_sum)"
   ]
  },
  {
   "cell_type": "code",
   "execution_count": 143,
   "metadata": {},
   "outputs": [
    {
     "data": {
      "text/html": [
       "<div>\n",
       "<style scoped>\n",
       "    .dataframe tbody tr th:only-of-type {\n",
       "        vertical-align: middle;\n",
       "    }\n",
       "\n",
       "    .dataframe tbody tr th {\n",
       "        vertical-align: top;\n",
       "    }\n",
       "\n",
       "    .dataframe thead th {\n",
       "        text-align: right;\n",
       "    }\n",
       "</style>\n",
       "<table border=\"1\" class=\"dataframe\">\n",
       "  <thead>\n",
       "    <tr style=\"text-align: right;\">\n",
       "      <th></th>\n",
       "      <th>0_word</th>\n",
       "      <th>0_per</th>\n",
       "      <th>1_word</th>\n",
       "      <th>1_per</th>\n",
       "      <th>2_word</th>\n",
       "      <th>2_per</th>\n",
       "      <th>3_word</th>\n",
       "      <th>3_per</th>\n",
       "      <th>4_word</th>\n",
       "      <th>4_per</th>\n",
       "      <th>5_word</th>\n",
       "      <th>5_per</th>\n",
       "      <th>6_word</th>\n",
       "      <th>6_per</th>\n",
       "      <th>7_word</th>\n",
       "      <th>7_per</th>\n",
       "      <th>8_word</th>\n",
       "      <th>8_per</th>\n",
       "    </tr>\n",
       "  </thead>\n",
       "  <tbody>\n",
       "    <tr>\n",
       "      <th>0</th>\n",
       "      <td>innovation</td>\n",
       "      <td>0.014</td>\n",
       "      <td>familienpolitik</td>\n",
       "      <td>0.007</td>\n",
       "      <td>inn</td>\n",
       "      <td>0.0</td>\n",
       "      <td>grunen</td>\n",
       "      <td>0.062</td>\n",
       "      <td>burgerin_burger</td>\n",
       "      <td>0.0</td>\n",
       "      <td>inn</td>\n",
       "      <td>0.0</td>\n",
       "      <td>bundestagswahl</td>\n",
       "      <td>0.027</td>\n",
       "      <td>inn</td>\n",
       "      <td>0.046</td>\n",
       "      <td>inn</td>\n",
       "      <td>0.0</td>\n",
       "    </tr>\n",
       "    <tr>\n",
       "      <th>1</th>\n",
       "      <td>burgerin_burger</td>\n",
       "      <td>0.013</td>\n",
       "      <td>mafsnahme</td>\n",
       "      <td>0.007</td>\n",
       "      <td>burgerin_burger</td>\n",
       "      <td>0.0</td>\n",
       "      <td>innen</td>\n",
       "      <td>0.060</td>\n",
       "      <td>innovation</td>\n",
       "      <td>0.0</td>\n",
       "      <td>solidarisch</td>\n",
       "      <td>0.0</td>\n",
       "      <td>burgerin_burger</td>\n",
       "      <td>0.014</td>\n",
       "      <td>kapitel</td>\n",
       "      <td>0.024</td>\n",
       "      <td>kapitel</td>\n",
       "      <td>0.0</td>\n",
       "    </tr>\n",
       "    <tr>\n",
       "      <th>2</th>\n",
       "      <td>fair</td>\n",
       "      <td>0.010</td>\n",
       "      <td>klima_energie_technik_digitalisierung</td>\n",
       "      <td>0.006</td>\n",
       "      <td>innovation</td>\n",
       "      <td>0.0</td>\n",
       "      <td>inn</td>\n",
       "      <td>0.057</td>\n",
       "      <td>bundestagswahl</td>\n",
       "      <td>0.0</td>\n",
       "      <td>kapitel</td>\n",
       "      <td>0.0</td>\n",
       "      <td>innovation</td>\n",
       "      <td>0.014</td>\n",
       "      <td>solidarisch</td>\n",
       "      <td>0.021</td>\n",
       "      <td>solidarisch</td>\n",
       "      <td>0.0</td>\n",
       "    </tr>\n",
       "    <tr>\n",
       "      <th>3</th>\n",
       "      <td>raum</td>\n",
       "      <td>0.009</td>\n",
       "      <td>bargeld</td>\n",
       "      <td>0.005</td>\n",
       "      <td>solidarisch</td>\n",
       "      <td>0.0</td>\n",
       "      <td>grunen_kapitel_kapitel_bereit</td>\n",
       "      <td>0.054</td>\n",
       "      <td>fair</td>\n",
       "      <td>0.0</td>\n",
       "      <td>lohn</td>\n",
       "      <td>0.0</td>\n",
       "      <td>fair</td>\n",
       "      <td>0.008</td>\n",
       "      <td>spd_parteivorstand</td>\n",
       "      <td>0.018</td>\n",
       "      <td>lohn</td>\n",
       "      <td>0.0</td>\n",
       "    </tr>\n",
       "    <tr>\n",
       "      <th>4</th>\n",
       "      <td>verbraucherinn_verbraucher</td>\n",
       "      <td>0.005</td>\n",
       "      <td>target</td>\n",
       "      <td>0.005</td>\n",
       "      <td>kapitel</td>\n",
       "      <td>0.0</td>\n",
       "      <td>burger_inn</td>\n",
       "      <td>0.014</td>\n",
       "      <td>klima_energie_technik_digitalisierung</td>\n",
       "      <td>0.0</td>\n",
       "      <td>osten</td>\n",
       "      <td>0.0</td>\n",
       "      <td>potential</td>\n",
       "      <td>0.006</td>\n",
       "      <td>burger_inn</td>\n",
       "      <td>0.015</td>\n",
       "      <td>osten</td>\n",
       "      <td>0.0</td>\n",
       "    </tr>\n",
       "    <tr>\n",
       "      <th>...</th>\n",
       "      <td>...</td>\n",
       "      <td>...</td>\n",
       "      <td>...</td>\n",
       "      <td>...</td>\n",
       "      <td>...</td>\n",
       "      <td>...</td>\n",
       "      <td>...</td>\n",
       "      <td>...</td>\n",
       "      <td>...</td>\n",
       "      <td>...</td>\n",
       "      <td>...</td>\n",
       "      <td>...</td>\n",
       "      <td>...</td>\n",
       "      <td>...</td>\n",
       "      <td>...</td>\n",
       "      <td>...</td>\n",
       "      <td>...</td>\n",
       "      <td>...</td>\n",
       "    </tr>\n",
       "    <tr>\n",
       "      <th>95</th>\n",
       "      <td>gebedurftig</td>\n",
       "      <td>0.001</td>\n",
       "      <td>rekonstruktion</td>\n",
       "      <td>0.001</td>\n",
       "      <td>burokratie</td>\n",
       "      <td>0.0</td>\n",
       "      <td>rustungsexport</td>\n",
       "      <td>0.000</td>\n",
       "      <td>korrigieren</td>\n",
       "      <td>0.0</td>\n",
       "      <td>kundigung</td>\n",
       "      <td>0.0</td>\n",
       "      <td>gewinnsteuer</td>\n",
       "      <td>0.001</td>\n",
       "      <td>sinti_zze</td>\n",
       "      <td>0.002</td>\n",
       "      <td>kapitalismus</td>\n",
       "      <td>0.0</td>\n",
       "    </tr>\n",
       "    <tr>\n",
       "      <th>96</th>\n",
       "      <td>geschlossenheit</td>\n",
       "      <td>0.001</td>\n",
       "      <td>keim</td>\n",
       "      <td>0.001</td>\n",
       "      <td>moscheeverein</td>\n",
       "      <td>0.0</td>\n",
       "      <td>asylbewerber</td>\n",
       "      <td>0.000</td>\n",
       "      <td>drei_saulen</td>\n",
       "      <td>0.0</td>\n",
       "      <td>diktator</td>\n",
       "      <td>0.0</td>\n",
       "      <td>atmosphare</td>\n",
       "      <td>0.001</td>\n",
       "      <td>hartz_iv</td>\n",
       "      <td>0.002</td>\n",
       "      <td>target</td>\n",
       "      <td>0.0</td>\n",
       "    </tr>\n",
       "    <tr>\n",
       "      <th>97</th>\n",
       "      <td>bio</td>\n",
       "      <td>0.001</td>\n",
       "      <td>wehrfahigkeit</td>\n",
       "      <td>0.001</td>\n",
       "      <td>frieden_freiheit</td>\n",
       "      <td>0.0</td>\n",
       "      <td>nahverkehr</td>\n",
       "      <td>0.000</td>\n",
       "      <td>gemafs</td>\n",
       "      <td>0.0</td>\n",
       "      <td>geheimdienst</td>\n",
       "      <td>0.0</td>\n",
       "      <td>lungen</td>\n",
       "      <td>0.001</td>\n",
       "      <td>kulturbereich</td>\n",
       "      <td>0.002</td>\n",
       "      <td>hartz_iv</td>\n",
       "      <td>0.0</td>\n",
       "    </tr>\n",
       "    <tr>\n",
       "      <th>98</th>\n",
       "      <td>mittelmeerraum</td>\n",
       "      <td>0.001</td>\n",
       "      <td>quarantan</td>\n",
       "      <td>0.001</td>\n",
       "      <td>einfuhrung_digitalsteuer</td>\n",
       "      <td>0.0</td>\n",
       "      <td>systemwechsel</td>\n",
       "      <td>0.000</td>\n",
       "      <td>zertifikat</td>\n",
       "      <td>0.0</td>\n",
       "      <td>sinti_zze</td>\n",
       "      <td>0.0</td>\n",
       "      <td>aktienrente</td>\n",
       "      <td>0.001</td>\n",
       "      <td>personalrat</td>\n",
       "      <td>0.002</td>\n",
       "      <td>politikwechsel</td>\n",
       "      <td>0.0</td>\n",
       "    </tr>\n",
       "    <tr>\n",
       "      <th>99</th>\n",
       "      <td>spataussiedler</td>\n",
       "      <td>0.001</td>\n",
       "      <td>abgelehnter</td>\n",
       "      <td>0.001</td>\n",
       "      <td>keim</td>\n",
       "      <td>0.0</td>\n",
       "      <td>profitinteresse</td>\n",
       "      <td>0.000</td>\n",
       "      <td>konfuzius_institute</td>\n",
       "      <td>0.0</td>\n",
       "      <td>schufa</td>\n",
       "      <td>0.0</td>\n",
       "      <td>rechnung</td>\n",
       "      <td>0.001</td>\n",
       "      <td>vermogensabgabe</td>\n",
       "      <td>0.002</td>\n",
       "      <td>streik</td>\n",
       "      <td>0.0</td>\n",
       "    </tr>\n",
       "  </tbody>\n",
       "</table>\n",
       "<p>100 rows × 18 columns</p>\n",
       "</div>"
      ],
      "text/plain": [
       "                        0_word  0_per                                 1_word  \\\n",
       "0                   innovation  0.014                        familienpolitik   \n",
       "1              burgerin_burger  0.013                              mafsnahme   \n",
       "2                         fair  0.010  klima_energie_technik_digitalisierung   \n",
       "3                         raum  0.009                                bargeld   \n",
       "4   verbraucherinn_verbraucher  0.005                                 target   \n",
       "..                         ...    ...                                    ...   \n",
       "95                 gebedurftig  0.001                         rekonstruktion   \n",
       "96             geschlossenheit  0.001                                   keim   \n",
       "97                         bio  0.001                          wehrfahigkeit   \n",
       "98              mittelmeerraum  0.001                              quarantan   \n",
       "99              spataussiedler  0.001                            abgelehnter   \n",
       "\n",
       "    1_per                    2_word  2_per                         3_word  \\\n",
       "0   0.007                       inn    0.0                         grunen   \n",
       "1   0.007           burgerin_burger    0.0                          innen   \n",
       "2   0.006                innovation    0.0                            inn   \n",
       "3   0.005               solidarisch    0.0  grunen_kapitel_kapitel_bereit   \n",
       "4   0.005                   kapitel    0.0                     burger_inn   \n",
       "..    ...                       ...    ...                            ...   \n",
       "95  0.001                burokratie    0.0                 rustungsexport   \n",
       "96  0.001             moscheeverein    0.0                   asylbewerber   \n",
       "97  0.001          frieden_freiheit    0.0                     nahverkehr   \n",
       "98  0.001  einfuhrung_digitalsteuer    0.0                  systemwechsel   \n",
       "99  0.001                      keim    0.0                profitinteresse   \n",
       "\n",
       "    3_per                                 4_word  4_per        5_word  5_per  \\\n",
       "0   0.062                        burgerin_burger    0.0           inn    0.0   \n",
       "1   0.060                             innovation    0.0   solidarisch    0.0   \n",
       "2   0.057                         bundestagswahl    0.0       kapitel    0.0   \n",
       "3   0.054                                   fair    0.0          lohn    0.0   \n",
       "4   0.014  klima_energie_technik_digitalisierung    0.0         osten    0.0   \n",
       "..    ...                                    ...    ...           ...    ...   \n",
       "95  0.000                            korrigieren    0.0     kundigung    0.0   \n",
       "96  0.000                            drei_saulen    0.0      diktator    0.0   \n",
       "97  0.000                                 gemafs    0.0  geheimdienst    0.0   \n",
       "98  0.000                             zertifikat    0.0     sinti_zze    0.0   \n",
       "99  0.000                    konfuzius_institute    0.0        schufa    0.0   \n",
       "\n",
       "             6_word  6_per              7_word  7_per          8_word  8_per  \n",
       "0    bundestagswahl  0.027                 inn  0.046             inn    0.0  \n",
       "1   burgerin_burger  0.014             kapitel  0.024         kapitel    0.0  \n",
       "2        innovation  0.014         solidarisch  0.021     solidarisch    0.0  \n",
       "3              fair  0.008  spd_parteivorstand  0.018            lohn    0.0  \n",
       "4         potential  0.006          burger_inn  0.015           osten    0.0  \n",
       "..              ...    ...                 ...    ...             ...    ...  \n",
       "95     gewinnsteuer  0.001           sinti_zze  0.002    kapitalismus    0.0  \n",
       "96       atmosphare  0.001            hartz_iv  0.002          target    0.0  \n",
       "97           lungen  0.001       kulturbereich  0.002        hartz_iv    0.0  \n",
       "98      aktienrente  0.001         personalrat  0.002  politikwechsel    0.0  \n",
       "99         rechnung  0.001     vermogensabgabe  0.002          streik    0.0  \n",
       "\n",
       "[100 rows x 18 columns]"
      ]
     },
     "execution_count": 143,
     "metadata": {},
     "output_type": "execute_result"
    }
   ],
   "source": [
    "pd.DataFrame(data=dic)"
   ]
  },
  {
   "cell_type": "code",
   "execution_count": 144,
   "metadata": {},
   "outputs": [
    {
     "name": "stderr",
     "output_type": "stream",
     "text": [
      "/Users/niclascramer/opt/miniconda3/envs/NLP/lib/python3.9/site-packages/pyLDAvis/_prepare.py:246: FutureWarning: In a future version of pandas all arguments of DataFrame.drop except for the argument 'labels' will be keyword-only.\n",
      "  default_term_info = default_term_info.sort_values(\n",
      "/Users/niclascramer/opt/miniconda3/envs/NLP/lib/python3.9/site-packages/past/builtins/misc.py:45: DeprecationWarning: the imp module is deprecated in favour of importlib; see the module's documentation for alternative uses\n",
      "  from imp import reload\n",
      "/Users/niclascramer/opt/miniconda3/envs/NLP/lib/python3.9/site-packages/scipy/__init__.py:146: UserWarning: A NumPy version >=1.16.5 and <1.23.0 is required for this version of SciPy (detected version 1.23.4\n",
      "  warnings.warn(f\"A NumPy version >={np_minversion} and <{np_maxversion}\"\n"
     ]
    },
    {
     "data": {
      "text/html": [
       "\n",
       "<link rel=\"stylesheet\" type=\"text/css\" href=\"https://cdn.jsdelivr.net/gh/bmabey/pyLDAvis@3.3.1/pyLDAvis/js/ldavis.v1.0.0.css\">\n",
       "\n",
       "\n",
       "<div id=\"ldavis_el85206110683876169975297309\"></div>\n",
       "<script type=\"text/javascript\">\n",
       "\n",
       "var ldavis_el85206110683876169975297309_data = {\"mdsDat\": {\"x\": [0.16449698485751743, -0.012532357536459274, -0.12151623753912168, -0.06985320118945336, 0.10339208984461533, -0.016207064231641855, -0.01584798147095478, -0.01613863428947023, -0.015793598445031646], \"y\": [0.13198502671040058, -0.12477773620828159, -0.047310776280312716, 0.09637712846650964, -0.046408231450429695, -0.002664506625705904, -0.002376762328492627, -0.0025769755974933955, -0.0022471666861942933], \"topics\": [1, 2, 3, 4, 5, 6, 7, 8, 9], \"cluster\": [1, 1, 1, 1, 1, 1, 1, 1, 1], \"Freq\": [36.868894846101455, 16.615570603501087, 16.355638987771716, 15.695922013739134, 14.455921914882946, 0.0021028076730177396, 0.0020344265446629877, 0.0020087557656665663, 0.0019056440203216768]}, \"tinfo\": {\"Term\": [\"inn\", \"grunen\", \"innen\", \"grunen_kapitel_kapitel_bereit\", \"kapitel\", \"bundestagswahl\", \"solidarisch\", \"spd_parteivorstand\", \"burger_inn\", \"innovation\", \"stoppen\", \"lohn\", \"inne\", \"burgerin_burger\", \"politik_kapitel\", \"osten\", \"umbau\", \"tarifvertrag\", \"durchsetzen\", \"investieren\", \"kapitel\", \"solidarisch\", \"spd_parteivorstand\", \"politik_kapitel\", \"stoppen\", \"lohn\", \"osten\", \"umbau\", \"tarifvertrag\", \"durchsetzen\", \"in\", \"investieren\", \"kampfen\", \"respekt\", \"profit\", \"gewerkschaft\", \"queer\", \"gemeinnutzig\", \"rechter\", \"privatisierung\", \"inn\", \"burger_inn\", \"inne\", \"bundestagswahl\", \"burokratie\", \"potential\", \"nennen\", \"start_ups\", \"subvention\", \"einwanderung\", \"binnenmarkt\", \"quelle\", \"cybersicherheit\", \"abschreibung\", \"urheberrecht\", \"zertifikat\", \"bergen\", \"lsbti\", \"uberzeugen\", \"kraftstoff\", \"freihandel\", \"tarif\", \"eu_mitgliedstaate\", \"burgerin_burger\", \"schulerin_schuler\", \"innovation\", \"selbststandige\", \"fair\", \"coronakrise\", \"aufstieg\", \"raum\", \"cyber\", \"ehrenamt\", \"kriminell\", \"potenzial\", \"frieden_freiheit\", \"ehrenamtlich\", \"wirwerde\", \"weltspitze\", \"ki\", \"aussiedler\", \"unions_versprechen\", \"solide\", \"gefahrenabwehr\", \"baustein\", \"dorf\", \"cyberraum\", \"straftater\", \"zusammenwirken\", \"abschottung\", \"verbraucherinn_verbraucher\", \"innovation\", \"fair\", \"burgerin_burger\", \"intensivieren\", \"aufstieg\", \"corona_krise\", \"zuwanderung\", \"selbststandige\", \"familienpolitik\", \"mafsnahme\", \"klima_energie_technik_digitalisierung\", \"bargeld\", \"sozialpolitik\", \"target\", \"demokratie_rechtsstaat\", \"befurworten\", \"euro_scheitern\", \"islam\", \"wissenschaft_forschung\", \"ausweisung\", \"migrant\", \"asylbewerber\", \"rentenkonzept\", \"migration_asyl_integration\", \"nationalstaat\", \"klinik\", \"abtreibung\", \"steuer_finanz\", \"zuwanderung\", \"freiheitlich\", \"grunen\", \"innen\", \"grunen_kapitel_kapitel_bereit\", \"mobilitatswende\", \"sozial_okologische\", \"klimakrise\", \"selbstandige\", \"ff\", \"klimakris\", \"bauer\", \"mull\", \"grunen_bereit\", \"patientinn\", \"gefluchtet\", \"inne\", \"klimagerecht\", \"inn\", \"burger_inn\", \"aanfeindung\", \"aansprechperson\", \"spd_parteivorstand\", \"burgerin_burger\", \"aanfeindung\", \"aansprechperson\", \"abbau\", \"abbau_burokratie\", \"abbauen\", \"abbilden\", \"abbricht\", \"abbruchen\", \"abdecken\", \"abendschule\", \"abendtermin\", \"abfall\", \"abfedert\", \"abfischen\", \"abgabe\", \"abgabenordnung\", \"abgabenreform\", \"abgaberegelung\", \"abgas\", \"abgase\", \"burgerin_burger\", \"innovation\", \"bundestagswahl\", \"fair\", \"klima_energie_technik_digitalisierung\", \"raum\", \"mafsnahme\", \"verbraucherinn_verbraucher\", \"freiheitlich\", \"aufstieg\", \"familienpolitik\", \"sozialpolitik\", \"euro_scheitern\", \"befurworten\", \"target\", \"bargeld\", \"migration_asyl_integration\", \"nationalstaat\", \"ehrenamt\", \"demokratie_rechtsstaat\", \"selbststandige\", \"coronakrise\", \"zuwanderung\", \"inn\", \"solidarisch\", \"aanfeindung\", \"aansprechperson\", \"abbau\", \"abbau_burokratie\", \"abbauen\", \"abbilden\", \"abbricht\", \"abbruchen\", \"abdecken\", \"abendschule\", \"abendtermin\", \"abfall\", \"abfedert\", \"abfischen\", \"abgabe\", \"abgabenordnung\", \"abgabenreform\", \"abgaberegelung\", \"abgas\", \"abgase\", \"solidarisch\", \"inn\", \"lohn\", \"kapitel\", \"osten\", \"stoppen\", \"umbau\", \"kampfen\", \"tarifvertrag\", \"coronakrise\", \"in\", \"burgerin_burger\", \"innovation\", \"durchsetzen\", \"gewerkschaft\", \"profit\", \"ungleichheit\", \"bahn\", \"privatisierung\", \"bundestagswahl\", \"inne\", \"aanfeindung\", \"aansprechperson\", \"abbau\", \"abbau_burokratie\", \"abbauen\", \"abbilden\", \"abbricht\", \"abbruchen\", \"abdecken\", \"abendschule\", \"abendtermin\", \"abfall\", \"abfedert\", \"abfischen\", \"abgabe\", \"abgabenordnung\", \"abgabenreform\", \"abgaberegelung\", \"abgas\", \"abgase\", \"inn\", \"burgerin_burger\", \"innovation\", \"solidarisch\", \"bargeld\", \"klima_energie_technik_digitalisierung\", \"euro_scheitern\", \"kapitel\", \"mafsnahme\", \"familienpolitik\", \"fair\", \"bundestagswahl\", \"grunen\", \"sozialpolitik\", \"islam\", \"rentenkonzept\", \"demokratie_rechtsstaat\", \"target\", \"zuwanderung\", \"ausweisung\", \"coronakrise\", \"grunen_kapitel_kapitel_bereit\", \"lohn\", \"tarifvertrag\", \"inne\", \"stoppen\", \"innen\", \"umbau\", \"aanfeindung\", \"aansprechperson\", \"abbau\", \"abbau_burokratie\", \"abbauen\", \"abbilden\", \"abbricht\", \"abbruchen\", \"abdecken\", \"abendschule\", \"abendtermin\", \"abfall\", \"abfedert\", \"abfischen\", \"abgabe\", \"abgabenordnung\", \"abgabenreform\", \"abgaberegelung\", \"abgas\", \"abgase\", \"inn\", \"kapitel\", \"lohn\", \"solidarisch\", \"osten\", \"stoppen\", \"in\", \"investieren\", \"durchsetzen\", \"privatisierung\", \"profit\", \"tarifvertrag\", \"coronakrise\", \"umbau\", \"gemeinnutzig\", \"queer\", \"kampfen\", \"inne\", \"rechter\", \"bahn\", \"gewerkschaft\"], \"Freq\": [126.0, 45.0, 43.0, 38.0, 44.0, 23.0, 38.0, 32.0, 38.0, 23.0, 25.0, 24.0, 28.0, 22.0, 23.0, 17.0, 17.0, 17.0, 17.0, 17.0, 44.17923101996572, 38.703508820527155, 32.32077973274132, 23.58067999440112, 25.10778647774311, 23.98762368066261, 17.466144316301598, 17.46769493448389, 16.929400322419646, 16.932692166334878, 16.390442876890987, 16.936294820760622, 16.386239207665902, 14.826394589611398, 15.298534644119938, 15.304153273901179, 14.219827272120066, 13.124511285436771, 13.125464323190007, 12.030987181448074, 84.58571012286174, 27.91837208536743, 18.592011602420385, 22.80936825968264, 4.588370059299837, 4.588905582581973, 4.238068570739961, 3.8912541745345717, 3.1870482168934267, 2.839401321886364, 2.8393570173951757, 2.4897440864079594, 2.489605755791367, 2.489313423537282, 2.488411469223222, 2.4895780896680484, 2.1397275782652025, 2.1398343733706, 2.1395300460140967, 2.139135368450673, 1.7907474856652215, 1.7895381084843573, 1.7889991027531325, 11.591874281030229, 3.540045701456396, 11.249511615576989, 4.239428660578623, 6.693706711586284, 3.8903394512405187, 2.8403021153840604, 6.953507953004707, 4.188498467728215, 3.838858081409522, 3.1508953235585713, 3.149352546547215, 3.1487604599247847, 2.80194072171314, 2.4582292002157713, 2.4583693661064463, 2.4586483647882926, 2.458035519902162, 2.4555106294421494, 2.1137511465037737, 2.112915864443311, 2.112373102502518, 2.111569053058999, 2.111907279447367, 2.111622377039147, 2.1114755456509533, 2.1105939859934333, 4.1904398414911785, 11.810228641133044, 8.000077143550683, 10.437799654986568, 3.1478293851428414, 3.152150912848273, 3.1451351910458585, 2.4637847971760594, 2.46851292023012, 5.426501907126185, 5.423408857702385, 5.084173855529299, 4.078542049490791, 3.740049788564356, 3.740965056321056, 3.7403922829285845, 3.404352310891806, 3.4027085572568696, 3.067465423762266, 3.0682045097862467, 3.0667541174305817, 3.067540721349279, 2.731928410364952, 2.729973048997354, 2.730120354470976, 2.3941962529928533, 2.3950033261585055, 2.3946961046930477, 2.3934197009364997, 3.411773509479777, 3.0676898544342364, 44.78743443242994, 43.17981486834384, 38.70007064538943, 4.191220859531166, 4.186418948267851, 3.8700445668464822, 3.5513974917249844, 3.550291274646237, 3.2300360440210336, 3.22953040249569, 2.5925154996862982, 2.5913468348692343, 2.272228624385075, 6.743784114128284, 9.945046394864262, 3.554587881029698, 41.289308059620986, 10.271911659677293, 0.03561099109766336, 0.03561099109766336, 0.05319028191784293, 0.047287150657266526, 7.612208068434702e-06, 7.612208068434702e-06, 7.612208068434702e-06, 7.612208068434702e-06, 7.612208068434702e-06, 7.612208068434702e-06, 7.612208068434702e-06, 7.612208068434702e-06, 7.612208068434702e-06, 7.612208068434702e-06, 7.612208068434702e-06, 7.612208068434702e-06, 7.612208068434702e-06, 7.612208068434702e-06, 7.612208068434702e-06, 7.612208068434702e-06, 7.612208068434702e-06, 7.612208068434702e-06, 7.612208068434702e-06, 7.612208068434702e-06, 1.1654878120644284e-05, 1.1073833153683504e-05, 1.0386491252557283e-05, 9.643985096659773e-06, 8.89441966681475e-06, 8.793545350735807e-06, 8.69997745205604e-06, 8.657471073819945e-06, 8.543452245802531e-06, 8.546720966624532e-06, 8.509103131771341e-06, 8.4112748778629e-06, 8.38463847588362e-06, 8.383634599076863e-06, 8.324848124181195e-06, 8.337343023765293e-06, 8.240983092716733e-06, 8.209727480156365e-06, 8.313451980004493e-06, 8.301143777021651e-06, 8.380144749903374e-06, 8.528996266755234e-06, 8.350720141305329e-06, 8.486922963422056e-06, 8.38895162646265e-06, 7.356146457405035e-06, 7.356146457405035e-06, 7.356146457405035e-06, 7.356146457405035e-06, 7.356146457405035e-06, 7.356146457405035e-06, 7.356146457405035e-06, 7.356146457405035e-06, 7.356146457405035e-06, 7.356146457405035e-06, 7.356146457405035e-06, 7.356146457405035e-06, 7.356146457405035e-06, 7.356146457405035e-06, 7.356146457405035e-06, 7.356146457405035e-06, 7.356146457405035e-06, 7.356146457405035e-06, 7.356146457405035e-06, 7.356146457405035e-06, 1.6382743458635103e-05, 1.7178105292329167e-05, 1.2552602132083939e-05, 1.3123014250790607e-05, 1.17359797980067e-05, 1.1253474518454007e-05, 1.0891875750272602e-05, 1.0752213805833482e-05, 1.0609307266227947e-05, 1.0435078501963188e-05, 1.0335096409248964e-05, 1.0521178346638215e-05, 1.0518761371229055e-05, 1.0246357508729018e-05, 1.0163134345965167e-05, 1.0157790350412725e-05, 9.771951502668397e-06, 9.759623077411385e-06, 9.822484425288757e-06, 1.0119761296593626e-05, 1.0182553059267794e-05, 7.265031925020518e-06, 7.265031925020518e-06, 7.265031925020518e-06, 7.265031925020518e-06, 7.265031925020518e-06, 7.265031925020518e-06, 7.265031925020518e-06, 7.265031925020518e-06, 7.265031925020518e-06, 7.265031925020518e-06, 7.265031925020518e-06, 7.265031925020518e-06, 7.265031925020518e-06, 7.265031925020518e-06, 7.265031925020518e-06, 7.265031925020518e-06, 7.265031925020518e-06, 7.265031925020518e-06, 7.265031925020518e-06, 7.265031925020518e-06, 1.3678757237217615e-05, 1.0585138971311912e-05, 1.0538254372118522e-05, 1.023722489719646e-05, 8.891172615340453e-06, 8.889183762222387e-06, 8.683380223748225e-06, 1.0086740127753748e-05, 8.90017033010833e-06, 8.869738172971e-06, 9.374844736141251e-06, 9.54153854885711e-06, 9.737948209979791e-06, 8.577785352962625e-06, 8.492608935632804e-06, 8.426591584062169e-06, 8.496708706724033e-06, 8.493964805729832e-06, 8.660306311498647e-06, 8.386184462388919e-06, 9.029670908383622e-06, 9.316216328403958e-06, 9.088938146560162e-06, 8.87138787583299e-06, 8.948814271255111e-06, 8.91826151111724e-06, 8.990857939099384e-06, 8.784126122984668e-06, 6.8922502367366895e-06, 6.8922502367366895e-06, 6.8922502367366895e-06, 6.8922502367366895e-06, 6.8922502367366895e-06, 6.8922502367366895e-06, 6.8922502367366895e-06, 6.8922502367366895e-06, 6.8922502367366895e-06, 6.8922502367366895e-06, 6.8922502367366895e-06, 6.8922502367366895e-06, 6.8922502367366895e-06, 6.8922502367366895e-06, 6.8922502367366895e-06, 6.8922502367366895e-06, 6.8922502367366895e-06, 6.8922502367366895e-06, 6.8922502367366895e-06, 6.8922502367366895e-06, 2.035672491834722e-05, 1.4887320033488622e-05, 1.2673436293078678e-05, 1.3092616646403327e-05, 1.0727131048346468e-05, 1.071116533058053e-05, 1.022548854284468e-05, 1.014302153681198e-05, 1.0007313975913419e-05, 9.711698917089965e-06, 9.879509878688956e-06, 9.807547309504732e-06, 9.684248977059556e-06, 9.679413843509856e-06, 9.417069190946009e-06, 9.46220866087552e-06, 9.546859208504093e-06, 9.861531891087765e-06, 9.258581792477564e-06, 9.025814455497044e-06, 9.17987583109904e-06], \"Total\": [126.0, 45.0, 43.0, 38.0, 44.0, 23.0, 38.0, 32.0, 38.0, 23.0, 25.0, 24.0, 28.0, 22.0, 23.0, 17.0, 17.0, 17.0, 17.0, 17.0, 44.37134411743737, 38.88840520484739, 32.48946083857817, 23.739694763436148, 25.2864309492506, 24.16392325619936, 17.632704064138938, 17.641854871088587, 17.098511503682136, 17.101993398322172, 16.555871453140725, 17.107334382105712, 16.555872403667593, 14.984005454217272, 15.463547876656694, 15.471025301678713, 14.383432102802518, 13.288183354003236, 13.28992694681114, 12.192854929046927, 126.1170244605364, 38.334688371233135, 28.68764405211319, 23.032989074482526, 4.773718186937187, 4.774602645803777, 4.424995426384928, 4.073659913483956, 3.3703907028378297, 3.0185475534047175, 3.019776951220034, 2.6689213460564396, 2.668847508917848, 2.668617895924154, 2.6678462976296027, 2.6693603356445346, 2.31776844487854, 2.3180648420258723, 2.317855730489943, 2.317827352106474, 1.9677285775552475, 1.9669353987343032, 1.966456884945916, 22.222622772116452, 4.765088054040212, 23.269110580493304, 6.858625298775903, 14.87738900053061, 17.68767107028747, 6.1488660632185335, 7.164828773240964, 4.383988406347117, 4.034238001673045, 3.3399046269449117, 3.339820822604876, 3.3396580309327266, 2.9918234012483396, 2.644483226164607, 2.6449247891654246, 2.6454235793655942, 2.6453439111855737, 2.6467970529830582, 2.2976555263462495, 2.2976020055173465, 2.297158486400586, 2.297059990847359, 2.2976455563665694, 2.298363906650226, 2.298276684697805, 2.2973892381799863, 5.435388414037174, 23.269110580493304, 14.87738900053061, 22.222622772116452, 4.394038441234182, 6.1488660632185335, 9.359651573318379, 6.023263236243068, 6.858625298775903, 5.615599057723635, 5.612685020779113, 5.2725392227387795, 4.261841002879454, 3.923792854708048, 3.924977441068323, 3.9245740095808745, 3.5871696645426354, 3.585765695912964, 3.2489865323582956, 3.25032186263433, 3.2495850426590813, 3.2505542365625213, 2.912664150245196, 2.91104882549606, 2.911808608574478, 2.574299493553535, 2.575313593236856, 2.575022570158062, 2.5744418925083976, 6.023263236243068, 5.003378908069503, 45.07689251827011, 43.48047655378718, 38.98669117856319, 4.377521132640625, 4.37821443835378, 4.057144407720726, 3.737059519953356, 3.7367384627429434, 3.416169464606655, 3.415747996368056, 2.775893366645102, 2.775479397792659, 2.455136285492742, 17.844693782223423, 28.68764405211319, 10.815994271187002, 126.1170244605364, 38.334688371233135, 0.21191371100422807, 0.21191371100422807, 32.48946083857817, 22.222622772116452, 0.21191371100422807, 0.21191371100422807, 0.21191371100422807, 0.21191371100422807, 0.21191371100422807, 0.21191371100422807, 0.21191371100422807, 0.21191371100422807, 0.21191371100422807, 0.21191371100422807, 0.21191371100422807, 0.21191371100422807, 0.21191371100422807, 0.21191371100422807, 0.21191371100422807, 0.21191371100422807, 0.21191371100422807, 0.21191371100422807, 0.21191371100422807, 0.21191371100422807, 22.222622772116452, 23.269110580493304, 23.032989074482526, 14.87738900053061, 5.2725392227387795, 7.164828773240964, 5.612685020779113, 5.435388414037174, 5.003378908069503, 6.1488660632185335, 5.615599057723635, 3.923792854708048, 3.585765695912964, 3.5871696645426354, 3.924977441068323, 4.261841002879454, 2.911808608574478, 2.574299493553535, 4.034238001673045, 3.9245740095808745, 6.858625298775903, 17.68767107028747, 6.023263236243068, 126.1170244605364, 38.88840520484739, 0.21191371100422807, 0.21191371100422807, 0.21191371100422807, 0.21191371100422807, 0.21191371100422807, 0.21191371100422807, 0.21191371100422807, 0.21191371100422807, 0.21191371100422807, 0.21191371100422807, 0.21191371100422807, 0.21191371100422807, 0.21191371100422807, 0.21191371100422807, 0.21191371100422807, 0.21191371100422807, 0.21191371100422807, 0.21191371100422807, 0.21191371100422807, 0.21191371100422807, 38.88840520484739, 126.1170244605364, 24.16392325619936, 44.37134411743737, 17.632704064138938, 25.2864309492506, 17.641854871088587, 16.555872403667593, 17.098511503682136, 17.68767107028747, 16.555871453140725, 22.222622772116452, 23.269110580493304, 17.101993398322172, 15.471025301678713, 15.463547876656694, 11.104043214395457, 11.10215525640583, 12.192854929046927, 23.032989074482526, 28.68764405211319, 0.21191371100422807, 0.21191371100422807, 0.21191371100422807, 0.21191371100422807, 0.21191371100422807, 0.21191371100422807, 0.21191371100422807, 0.21191371100422807, 0.21191371100422807, 0.21191371100422807, 0.21191371100422807, 0.21191371100422807, 0.21191371100422807, 0.21191371100422807, 0.21191371100422807, 0.21191371100422807, 0.21191371100422807, 0.21191371100422807, 0.21191371100422807, 0.21191371100422807, 126.1170244605364, 22.222622772116452, 23.269110580493304, 38.88840520484739, 4.261841002879454, 5.2725392227387795, 3.585765695912964, 44.37134411743737, 5.612685020779113, 5.615599057723635, 14.87738900053061, 23.032989074482526, 45.07689251827011, 3.923792854708048, 3.2489865323582956, 2.91104882549606, 3.9245740095808745, 3.924977441068323, 6.023263236243068, 3.2495850426590813, 17.68767107028747, 38.98669117856319, 24.16392325619936, 17.098511503682136, 28.68764405211319, 25.2864309492506, 43.48047655378718, 17.641854871088587, 0.21191371100422807, 0.21191371100422807, 0.21191371100422807, 0.21191371100422807, 0.21191371100422807, 0.21191371100422807, 0.21191371100422807, 0.21191371100422807, 0.21191371100422807, 0.21191371100422807, 0.21191371100422807, 0.21191371100422807, 0.21191371100422807, 0.21191371100422807, 0.21191371100422807, 0.21191371100422807, 0.21191371100422807, 0.21191371100422807, 0.21191371100422807, 0.21191371100422807, 126.1170244605364, 44.37134411743737, 24.16392325619936, 38.88840520484739, 17.632704064138938, 25.2864309492506, 16.555871453140725, 17.107334382105712, 17.101993398322172, 12.192854929046927, 15.463547876656694, 17.098511503682136, 17.68767107028747, 17.641854871088587, 13.288183354003236, 14.383432102802518, 16.555872403667593, 28.68764405211319, 13.28992694681114, 11.10215525640583, 15.471025301678713], \"Category\": [\"Default\", \"Default\", \"Default\", \"Default\", \"Default\", \"Default\", \"Default\", \"Default\", \"Default\", \"Default\", \"Default\", \"Default\", \"Default\", \"Default\", \"Default\", \"Default\", \"Default\", \"Default\", \"Default\", \"Default\", \"Topic1\", \"Topic1\", \"Topic1\", \"Topic1\", \"Topic1\", \"Topic1\", \"Topic1\", \"Topic1\", \"Topic1\", \"Topic1\", \"Topic1\", \"Topic1\", \"Topic1\", \"Topic1\", \"Topic1\", \"Topic1\", \"Topic1\", \"Topic1\", \"Topic1\", \"Topic1\", \"Topic1\", \"Topic1\", \"Topic1\", \"Topic2\", \"Topic2\", \"Topic2\", \"Topic2\", \"Topic2\", \"Topic2\", \"Topic2\", \"Topic2\", \"Topic2\", \"Topic2\", \"Topic2\", \"Topic2\", \"Topic2\", \"Topic2\", \"Topic2\", \"Topic2\", \"Topic2\", \"Topic2\", \"Topic2\", \"Topic2\", \"Topic2\", \"Topic2\", \"Topic2\", \"Topic2\", \"Topic2\", \"Topic2\", \"Topic2\", \"Topic3\", \"Topic3\", \"Topic3\", \"Topic3\", \"Topic3\", \"Topic3\", \"Topic3\", \"Topic3\", \"Topic3\", \"Topic3\", \"Topic3\", \"Topic3\", \"Topic3\", \"Topic3\", \"Topic3\", \"Topic3\", \"Topic3\", \"Topic3\", \"Topic3\", \"Topic3\", \"Topic3\", \"Topic3\", \"Topic3\", \"Topic3\", \"Topic3\", \"Topic3\", \"Topic3\", \"Topic3\", \"Topic3\", \"Topic4\", \"Topic4\", \"Topic4\", \"Topic4\", \"Topic4\", \"Topic4\", \"Topic4\", \"Topic4\", \"Topic4\", \"Topic4\", \"Topic4\", \"Topic4\", \"Topic4\", \"Topic4\", \"Topic4\", \"Topic4\", \"Topic4\", \"Topic4\", \"Topic4\", \"Topic4\", \"Topic4\", \"Topic4\", \"Topic5\", \"Topic5\", \"Topic5\", \"Topic5\", \"Topic5\", \"Topic5\", \"Topic5\", \"Topic5\", \"Topic5\", \"Topic5\", \"Topic5\", \"Topic5\", \"Topic5\", \"Topic5\", \"Topic5\", \"Topic5\", \"Topic5\", \"Topic5\", \"Topic5\", \"Topic5\", \"Topic5\", \"Topic5\", \"Topic6\", \"Topic6\", \"Topic6\", \"Topic6\", \"Topic6\", \"Topic6\", \"Topic6\", \"Topic6\", \"Topic6\", \"Topic6\", \"Topic6\", \"Topic6\", \"Topic6\", \"Topic6\", \"Topic6\", \"Topic6\", \"Topic6\", \"Topic6\", \"Topic6\", \"Topic6\", \"Topic6\", \"Topic6\", \"Topic6\", \"Topic6\", \"Topic6\", \"Topic6\", \"Topic6\", \"Topic6\", \"Topic6\", \"Topic6\", \"Topic6\", \"Topic6\", \"Topic6\", \"Topic6\", \"Topic6\", \"Topic6\", \"Topic6\", \"Topic6\", \"Topic6\", \"Topic6\", \"Topic6\", \"Topic6\", \"Topic6\", \"Topic6\", \"Topic6\", \"Topic7\", \"Topic7\", \"Topic7\", \"Topic7\", \"Topic7\", \"Topic7\", \"Topic7\", \"Topic7\", \"Topic7\", \"Topic7\", \"Topic7\", \"Topic7\", \"Topic7\", \"Topic7\", \"Topic7\", \"Topic7\", \"Topic7\", \"Topic7\", \"Topic7\", \"Topic7\", \"Topic7\", \"Topic7\", \"Topic7\", \"Topic7\", \"Topic7\", \"Topic7\", \"Topic7\", \"Topic7\", \"Topic7\", \"Topic7\", \"Topic7\", \"Topic7\", \"Topic7\", \"Topic7\", \"Topic7\", \"Topic7\", \"Topic7\", \"Topic7\", \"Topic7\", \"Topic7\", \"Topic7\", \"Topic8\", \"Topic8\", \"Topic8\", \"Topic8\", \"Topic8\", \"Topic8\", \"Topic8\", \"Topic8\", \"Topic8\", \"Topic8\", \"Topic8\", \"Topic8\", \"Topic8\", \"Topic8\", \"Topic8\", \"Topic8\", \"Topic8\", \"Topic8\", \"Topic8\", \"Topic8\", \"Topic8\", \"Topic8\", \"Topic8\", \"Topic8\", \"Topic8\", \"Topic8\", \"Topic8\", \"Topic8\", \"Topic8\", \"Topic8\", \"Topic8\", \"Topic8\", \"Topic8\", \"Topic8\", \"Topic8\", \"Topic8\", \"Topic8\", \"Topic8\", \"Topic8\", \"Topic8\", \"Topic8\", \"Topic8\", \"Topic8\", \"Topic8\", \"Topic8\", \"Topic8\", \"Topic8\", \"Topic8\", \"Topic9\", \"Topic9\", \"Topic9\", \"Topic9\", \"Topic9\", \"Topic9\", \"Topic9\", \"Topic9\", \"Topic9\", \"Topic9\", \"Topic9\", \"Topic9\", \"Topic9\", \"Topic9\", \"Topic9\", \"Topic9\", \"Topic9\", \"Topic9\", \"Topic9\", \"Topic9\", \"Topic9\", \"Topic9\", \"Topic9\", \"Topic9\", \"Topic9\", \"Topic9\", \"Topic9\", \"Topic9\", \"Topic9\", \"Topic9\", \"Topic9\", \"Topic9\", \"Topic9\", \"Topic9\", \"Topic9\", \"Topic9\", \"Topic9\", \"Topic9\", \"Topic9\", \"Topic9\", \"Topic9\"], \"logprob\": [20.0, 19.0, 18.0, 17.0, 16.0, 15.0, 14.0, 13.0, 12.0, 11.0, 10.0, 9.0, 8.0, 7.0, 6.0, 5.0, 4.0, 3.0, 2.0, 1.0, -3.7313, -3.8637, -4.0439, -4.3592, -4.2964, -4.3421, -4.6593, -4.6592, -4.6905, -4.6903, -4.7229, -4.6901, -4.7231, -4.8232, -4.7918, -4.7915, -4.865, -4.9451, -4.945, -5.0321, -3.0818, -4.1903, -4.5969, -3.5954, -5.199, -5.1989, -5.2785, -5.3638, -5.5635, -5.679, -5.679, -5.8104, -5.8104, -5.8106, -5.8109, -5.8105, -5.9619, -5.9618, -5.962, -5.9622, -6.1399, -6.1406, -6.1409, -4.2723, -5.4584, -4.3022, -5.2781, -4.8214, -5.3641, -5.6787, -4.7675, -5.2745, -5.3616, -5.5591, -5.5596, -5.5598, -5.6765, -5.8074, -5.8073, -5.8072, -5.8074, -5.8085, -5.9583, -5.9587, -5.959, -5.9594, -5.9592, -5.9593, -5.9594, -5.9598, -5.274, -4.2378, -4.6273, -4.3614, -5.5601, -5.5587, -5.5609, -5.8051, -5.8032, -4.9743, -4.9749, -5.0395, -5.2599, -5.3465, -5.3463, -5.3464, -5.4406, -5.4411, -5.5448, -5.5445, -5.545, -5.5447, -5.6606, -5.6613, -5.6613, -5.7926, -5.7922, -5.7924, -5.7929, -5.4384, -5.5447, -2.7814, -2.818, -2.9275, -5.1503, -5.1515, -5.2301, -5.316, -5.3163, -5.4108, -5.411, -5.6307, -5.6311, -5.7626, -4.6747, -4.2863, -5.3151, -2.8627, -4.2539, -9.9184, -9.9184, -9.5172, -9.6348, -9.5335, -9.5335, -9.5335, -9.5335, -9.5335, -9.5335, -9.5335, -9.5335, -9.5335, -9.5335, -9.5335, -9.5335, -9.5335, -9.5335, -9.5335, -9.5335, -9.5335, -9.5335, -9.5335, -9.5335, -9.1075, -9.1587, -9.2227, -9.2969, -9.3778, -9.3892, -9.3999, -9.4048, -9.4181, -9.4177, -9.4221, -9.4337, -9.4369, -9.437, -9.444, -9.4425, -9.4541, -9.4579, -9.4454, -9.4469, -9.4374, -9.4198, -9.4409, -9.4247, -9.4363, -9.5347, -9.5347, -9.5347, -9.5347, -9.5347, -9.5347, -9.5347, -9.5347, -9.5347, -9.5347, -9.5347, -9.5347, -9.5347, -9.5347, -9.5347, -9.5347, -9.5347, -9.5347, -9.5347, -9.5347, -8.734, -8.6866, -9.0003, -8.9558, -9.0675, -9.1095, -9.1422, -9.1551, -9.1685, -9.185, -9.1946, -9.1768, -9.177, -9.2033, -9.2114, -9.212, -9.2507, -9.2519, -9.2455, -9.2157, -9.2095, -9.5344, -9.5344, -9.5344, -9.5344, -9.5344, -9.5344, -9.5344, -9.5344, -9.5344, -9.5344, -9.5344, -9.5344, -9.5344, -9.5344, -9.5344, -9.5344, -9.5344, -9.5344, -9.5344, -9.5344, -8.9016, -9.158, -9.1625, -9.1915, -9.3324, -9.3327, -9.3561, -9.2063, -9.3314, -9.3348, -9.2795, -9.2618, -9.2415, -9.3683, -9.3783, -9.3861, -9.3778, -9.3781, -9.3587, -9.3909, -9.317, -9.2857, -9.3104, -9.3347, -9.326, -9.3294, -9.3213, -9.3445, -9.5344, -9.5344, -9.5344, -9.5344, -9.5344, -9.5344, -9.5344, -9.5344, -9.5344, -9.5344, -9.5344, -9.5344, -9.5344, -9.5344, -9.5344, -9.5344, -9.5344, -9.5344, -9.5344, -9.5344, -8.4514, -8.7643, -8.9253, -8.8927, -9.092, -9.0935, -9.1399, -9.148, -9.1615, -9.1915, -9.1743, -9.1816, -9.1943, -9.1948, -9.2223, -9.2175, -9.2086, -9.1762, -9.2392, -9.2647, -9.2478], \"loglift\": [20.0, 19.0, 18.0, 17.0, 16.0, 15.0, 14.0, 13.0, 12.0, 11.0, 10.0, 9.0, 8.0, 7.0, 6.0, 5.0, 4.0, 3.0, 2.0, 1.0, 0.9935, 0.993, 0.9926, 0.9911, 0.9907, 0.9905, 0.9883, 0.9879, 0.9879, 0.9879, 0.9878, 0.9878, 0.9875, 0.9872, 0.9871, 0.987, 0.9864, 0.9854, 0.9853, 0.9844, 0.5984, 0.6807, 0.5641, 1.7851, 1.7552, 1.7552, 1.7517, 1.749, 1.7389, 1.7336, 1.7332, 1.7253, 1.7253, 1.7253, 1.7252, 1.7251, 1.7149, 1.7148, 1.7148, 1.7146, 1.7006, 1.7003, 1.7003, 1.144, 1.4977, 1.068, 1.3138, 0.9962, 0.2805, 1.0225, 1.7807, 1.765, 1.761, 1.7523, 1.7519, 1.7517, 1.745, 1.7376, 1.7375, 1.7374, 1.7372, 1.7356, 1.7272, 1.7268, 1.7267, 1.7264, 1.7263, 1.7259, 1.7258, 1.7258, 1.5505, 1.1324, 1.1902, 1.0549, 1.4771, 1.1424, 0.72, 0.9167, 0.7887, 1.8175, 1.8175, 1.8154, 1.8078, 1.8038, 1.8038, 1.8037, 1.7995, 1.7994, 1.7943, 1.7941, 1.7939, 1.7938, 1.7877, 1.7875, 1.7873, 1.7792, 1.7792, 1.7792, 1.7789, 1.2834, 1.3626, 1.9276, 1.9271, 1.9267, 1.8906, 1.8893, 1.8869, 1.8831, 1.8829, 1.878, 1.878, 1.8657, 1.8654, 1.8566, 0.961, 0.8747, 0.8213, 0.8175, 0.6171, 0.1505, 0.1505, -4.4807, -4.2186, 0.5355, 0.5355, 0.5355, 0.5355, 0.5355, 0.5355, 0.5355, 0.5355, 0.5355, 0.5355, 0.5355, 0.5355, 0.5355, 0.5355, 0.5355, 0.5355, 0.5355, 0.5355, 0.5355, 0.5355, -3.6912, -3.7884, -3.8423, -3.4794, -2.5229, -2.841, -2.6076, -2.5804, -2.5108, -2.7166, -2.6303, -2.2833, -2.1964, -2.1969, -2.294, -2.3748, -2.0055, -1.8861, -2.3228, -2.2967, -2.8455, -3.7753, -2.7191, -5.7445, -4.5796, 0.5343, 0.5343, 0.5343, 0.5343, 0.5343, 0.5343, 0.5343, 0.5343, 0.5343, 0.5343, 0.5343, 0.5343, 0.5343, 0.5343, 0.5343, 0.5343, 0.5343, 0.5343, 0.5343, 0.5343, -3.8773, -5.0064, -3.6677, -4.231, -3.4199, -3.8224, -3.4951, -3.4444, -3.4901, -3.5405, -3.484, -3.7605, -3.8068, -3.5251, -3.433, -3.433, -3.1406, -3.1417, -3.229, -3.8352, -4.0486, 0.5345, 0.5345, 0.5345, 0.5345, 0.5345, 0.5345, 0.5345, 0.5345, 0.5345, 0.5345, 0.5345, 0.5345, 0.5345, 0.5345, 0.5345, 0.5345, 0.5345, 0.5345, 0.5345, 0.5345, -5.2215, -3.7418, -3.7922, -4.3348, -2.2647, -2.4778, -2.1157, -4.4815, -2.5391, -2.543, -3.4619, -3.8814, -4.5324, -2.218, -2.0392, -1.9372, -2.2277, -2.2281, -2.637, -2.052, -3.6725, -4.4316, -3.9779, -3.6563, -4.165, -4.0423, -4.5762, -3.6974, 0.5346, 0.5346, 0.5346, 0.5346, 0.5346, 0.5346, 0.5346, 0.5346, 0.5346, 0.5346, 0.5346, 0.5346, 0.5346, 0.5346, 0.5346, 0.5346, 0.5346, 0.5346, 0.5346, 0.5346, -4.7712, -4.0395, -3.5928, -4.0361, -3.4444, -3.8064, -3.4293, -3.4701, -3.4833, -3.1749, -3.3954, -3.5032, -3.5498, -3.5477, -3.2918, -3.3662, -3.4979, -4.0152, -3.3089, -3.1545, -3.4694]}, \"token.table\": {\"Topic\": [3, 2, 4, 4, 2, 3, 3, 4, 1, 4, 5, 3, 4, 2, 2, 2, 1, 5, 2, 3, 2, 1, 3, 1, 2, 3, 3, 2, 4, 3, 1, 3, 3, 2, 2, 4, 2, 3, 4, 5, 2, 2, 4, 3, 3, 1, 5, 1, 1, 5, 5, 5, 1, 1, 5, 1, 5, 5, 2, 3, 2, 3, 1, 4, 1, 1, 3, 4, 1, 5, 5, 5, 4, 2, 3, 1, 2, 4, 4, 4, 5, 5, 4, 2, 1, 5, 1, 2, 3, 1, 1, 1, 2, 3, 1, 4, 1, 2, 3, 5, 2, 3, 1, 3, 5, 4, 1, 2, 4, 1, 3, 2, 4, 2, 1, 2, 1, 1, 3, 2, 2, 3, 3, 3, 4, 2, 3, 3, 4], \"Freq\": [0.8705533945934295, 0.7494516180284369, 0.7766922213335142, 1.0299848678906052, 0.48789483608132034, 0.48789483608132034, 0.7560453639102269, 0.9231947958331166, 0.9907986103556886, 0.9385615271187862, 0.8782849329604765, 0.8706408425192277, 0.8363139412260001, 0.8628989683673115, 0.9934508569541721, 0.9985677467055688, 0.7304089635175325, 0.2608603441134045, 0.5399902668130084, 0.44999188901084036, 1.0474015859758983, 0.6410495041401156, 0.3205247520700578, 0.7915117792708061, 0.22614622264880174, 0.9124111720297479, 0.8704562783664259, 0.7493871393240263, 1.0192188987225088, 0.8706781746967884, 0.9940361690040076, 0.9915131428391567, 1.002732981748939, 0.9938554708592227, 1.0170576407298177, 0.8366413911035468, 0.47051266857042867, 0.53772876408049, 0.8903769568667929, 1.070452224548734, 1.0164003424114758, 0.39972986990339243, 0.5995948048550886, 0.8982955656577017, 0.8704727777906269, 0.6164297428828961, 0.39227347274366114, 0.9783128102370429, 0.9695543577433356, 0.998294192124292, 1.080894350138539, 1.000341368324279, 0.9664245126139057, 0.6739772077844857, 0.3250948884607519, 0.6623060424719827, 0.348582127616833, 0.988949602399302, 0.4727297144404563, 0.5157051430259523, 0.2275810768098614, 0.6827432304295842, 0.9937258266128249, 0.9233648616642411, 0.9664244571283087, 0.9916309923707848, 0.756022595247157, 0.9483096832047442, 0.6471896919035428, 0.36982268108773875, 0.8781765749859913, 0.9859151161560875, 0.7766044512995574, 0.8628770379219021, 0.8982292415769277, 0.9932161986089197, 0.862788634614768, 0.8908392296181152, 0.9229195336154478, 1.0302874959452426, 0.9137591524514479, 1.0807331564129028, 0.7769103808660669, 0.9039557365752725, 0.9641175816348146, 0.8146187288330526, 1.0109649782424657, 1.047207562789401, 0.8982517803635243, 0.9841829554957231, 0.9700231874111858, 0.9733420994334302, 0.7493664071274231, 0.9769947365865096, 0.9781844589536509, 1.0305564007463126, 1.001067441268064, 0.8394388423963098, 0.20985971059907746, 1.0703602601571425, 0.5832072501050469, 0.29160362505252346, 1.0028696161378894, 0.8704525012852629, 0.9136144554637233, 1.0194218064290812, 0.9849347811276394, 0.9819180012449887, 0.7768674079690755, 0.9886725433958844, 0.870184218527396, 0.8901045203673376, 1.0191141376117712, 1.0168102121132059, 0.9942385918411131, 0.8628664733923042, 0.9636174951115568, 0.9906301504428069, 0.7556302806616438, 0.749668375489627, 0.1839794921403313, 0.7359179685613252, 0.7561651689275735, 0.7562914297250714, 0.9229855155232385, 0.74924317009344, 0.870217242909104, 0.33204592287543355, 0.49806888431315033], \"Term\": [\"abschottung\", \"abschreibung\", \"abtreibung\", \"asylbewerber\", \"aufstieg\", \"aufstieg\", \"aussiedler\", \"ausweisung\", \"bahn\", \"bargeld\", \"bauer\", \"baustein\", \"befurworten\", \"bergen\", \"binnenmarkt\", \"bundestagswahl\", \"burger_inn\", \"burger_inn\", \"burgerin_burger\", \"burgerin_burger\", \"burokratie\", \"corona_krise\", \"corona_krise\", \"coronakrise\", \"coronakrise\", \"cyber\", \"cyberraum\", \"cybersicherheit\", \"demokratie_rechtsstaat\", \"dorf\", \"durchsetzen\", \"ehrenamt\", \"ehrenamtlich\", \"einwanderung\", \"eu_mitgliedstaate\", \"euro_scheitern\", \"fair\", \"fair\", \"familienpolitik\", \"ff\", \"freihandel\", \"freiheitlich\", \"freiheitlich\", \"frieden_freiheit\", \"gefahrenabwehr\", \"gefluchtet\", \"gefluchtet\", \"gemeinnutzig\", \"gewerkschaft\", \"grunen\", \"grunen_bereit\", \"grunen_kapitel_kapitel_bereit\", \"in\", \"inn\", \"inn\", \"inne\", \"inne\", \"innen\", \"innovation\", \"innovation\", \"intensivieren\", \"intensivieren\", \"investieren\", \"islam\", \"kampfen\", \"kapitel\", \"ki\", \"klima_energie_technik_digitalisierung\", \"klimagerecht\", \"klimagerecht\", \"klimakris\", \"klimakrise\", \"klinik\", \"kraftstoff\", \"kriminell\", \"lohn\", \"lsbti\", \"mafsnahme\", \"migrant\", \"migration_asyl_integration\", \"mobilitatswende\", \"mull\", \"nationalstaat\", \"nennen\", \"osten\", \"patientinn\", \"politik_kapitel\", \"potential\", \"potenzial\", \"privatisierung\", \"profit\", \"queer\", \"quelle\", \"raum\", \"rechter\", \"rentenkonzept\", \"respekt\", \"schulerin_schuler\", \"schulerin_schuler\", \"selbstandige\", \"selbststandige\", \"selbststandige\", \"solidarisch\", \"solide\", \"sozial_okologische\", \"sozialpolitik\", \"spd_parteivorstand\", \"start_ups\", \"steuer_finanz\", \"stoppen\", \"straftater\", \"subvention\", \"target\", \"tarif\", \"tarifvertrag\", \"uberzeugen\", \"umbau\", \"ungleichheit\", \"unions_versprechen\", \"urheberrecht\", \"verbraucherinn_verbraucher\", \"verbraucherinn_verbraucher\", \"weltspitze\", \"wirwerde\", \"wissenschaft_forschung\", \"zertifikat\", \"zusammenwirken\", \"zuwanderung\", \"zuwanderung\"]}, \"R\": 20, \"lambda.step\": 0.01, \"plot.opts\": {\"xlab\": \"PC1\", \"ylab\": \"PC2\"}, \"topic.order\": [8, 7, 1, 2, 4, 5, 6, 3, 9]};\n",
       "\n",
       "function LDAvis_load_lib(url, callback){\n",
       "  var s = document.createElement('script');\n",
       "  s.src = url;\n",
       "  s.async = true;\n",
       "  s.onreadystatechange = s.onload = callback;\n",
       "  s.onerror = function(){console.warn(\"failed to load library \" + url);};\n",
       "  document.getElementsByTagName(\"head\")[0].appendChild(s);\n",
       "}\n",
       "\n",
       "if(typeof(LDAvis) !== \"undefined\"){\n",
       "   // already loaded: just create the visualization\n",
       "   !function(LDAvis){\n",
       "       new LDAvis(\"#\" + \"ldavis_el85206110683876169975297309\", ldavis_el85206110683876169975297309_data);\n",
       "   }(LDAvis);\n",
       "}else if(typeof define === \"function\" && define.amd){\n",
       "   // require.js is available: use it to load d3/LDAvis\n",
       "   require.config({paths: {d3: \"https://d3js.org/d3.v5\"}});\n",
       "   require([\"d3\"], function(d3){\n",
       "      window.d3 = d3;\n",
       "      LDAvis_load_lib(\"https://cdn.jsdelivr.net/gh/bmabey/pyLDAvis@3.3.1/pyLDAvis/js/ldavis.v3.0.0.js\", function(){\n",
       "        new LDAvis(\"#\" + \"ldavis_el85206110683876169975297309\", ldavis_el85206110683876169975297309_data);\n",
       "      });\n",
       "    });\n",
       "}else{\n",
       "    // require.js not available: dynamically load d3 & LDAvis\n",
       "    LDAvis_load_lib(\"https://d3js.org/d3.v5.js\", function(){\n",
       "         LDAvis_load_lib(\"https://cdn.jsdelivr.net/gh/bmabey/pyLDAvis@3.3.1/pyLDAvis/js/ldavis.v3.0.0.js\", function(){\n",
       "                 new LDAvis(\"#\" + \"ldavis_el85206110683876169975297309\", ldavis_el85206110683876169975297309_data);\n",
       "            })\n",
       "         });\n",
       "}\n",
       "</script>"
      ],
      "text/plain": [
       "PreparedData(topic_coordinates=              x         y  topics  cluster       Freq\n",
       "topic                                                \n",
       "7      0.164497  0.131985       1        1  36.868895\n",
       "6     -0.012532 -0.124778       2        1  16.615571\n",
       "0     -0.121516 -0.047311       3        1  16.355639\n",
       "1     -0.069853  0.096377       4        1  15.695922\n",
       "3      0.103392 -0.046408       5        1  14.455922\n",
       "4     -0.016207 -0.002665       6        1   0.002103\n",
       "5     -0.015848 -0.002377       7        1   0.002034\n",
       "2     -0.016139 -0.002577       8        1   0.002009\n",
       "8     -0.015794 -0.002247       9        1   0.001906, topic_info=                               Term        Freq       Total Category  logprob  \\\n",
       "2530                            inn  126.000000  126.000000  Default  20.0000   \n",
       "2274                         grunen   45.000000   45.000000  Default  19.0000   \n",
       "2532                          innen   43.000000   43.000000  Default  18.0000   \n",
       "2277  grunen_kapitel_kapitel_bereit   38.000000   38.000000  Default  17.0000   \n",
       "2666                        kapitel   44.000000   44.000000  Default  16.0000   \n",
       "...                             ...         ...         ...      ...      ...   \n",
       "2655                        kampfen    0.000010   16.555872   Topic9  -9.2086   \n",
       "2531                           inne    0.000010   28.687644   Topic9  -9.1762   \n",
       "4004                        rechter    0.000009   13.289927   Topic9  -9.2392   \n",
       "576                            bahn    0.000009   11.102155   Topic9  -9.2647   \n",
       "2173                   gewerkschaft    0.000009   15.471025   Topic9  -9.2478   \n",
       "\n",
       "      loglift  \n",
       "2530  20.0000  \n",
       "2274  19.0000  \n",
       "2532  18.0000  \n",
       "2277  17.0000  \n",
       "2666  16.0000  \n",
       "...       ...  \n",
       "2655  -3.4979  \n",
       "2531  -4.0152  \n",
       "4004  -3.3089  \n",
       "576   -3.1545  \n",
       "2173  -3.4694  \n",
       "\n",
       "[318 rows x 6 columns], token_table=       Topic      Freq                    Term\n",
       "term                                          \n",
       "5924       3  0.870553             abschottung\n",
       "57         2  0.749452            abschreibung\n",
       "7796       4  0.776692              abtreibung\n",
       "6051       4  1.029985            asylbewerber\n",
       "411        2  0.487895                aufstieg\n",
       "...      ...       ...                     ...\n",
       "5678       4  0.922986  wissenschaft_forschung\n",
       "5761       2  0.749243              zertifikat\n",
       "5877       3  0.870217          zusammenwirken\n",
       "12066      3  0.332046             zuwanderung\n",
       "12066      4  0.498069             zuwanderung\n",
       "\n",
       "[129 rows x 3 columns], R=20, lambda_step=0.01, plot_opts={'xlab': 'PC1', 'ylab': 'PC2'}, topic_order=[8, 7, 1, 2, 4, 5, 6, 3, 9])"
      ]
     },
     "execution_count": 144,
     "metadata": {},
     "output_type": "execute_result"
    }
   ],
   "source": [
    "pyLDAvis.enable_notebook()\n",
    "vis=gensimvis.prepare(lda_model_2,corpus_2,id2word_2,mds='mmds',R=20)\n",
    "vis"
   ]
  },
  {
   "cell_type": "code",
   "execution_count": null,
   "metadata": {},
   "outputs": [],
   "source": []
  },
  {
   "cell_type": "code",
   "execution_count": null,
   "metadata": {},
   "outputs": [],
   "source": []
  },
  {
   "cell_type": "code",
   "execution_count": 6,
   "metadata": {},
   "outputs": [],
   "source": []
  },
  {
   "cell_type": "code",
   "execution_count": 7,
   "metadata": {},
   "outputs": [],
   "source": []
  },
  {
   "cell_type": "code",
   "execution_count": null,
   "metadata": {},
   "outputs": [
    {
     "ename": "",
     "evalue": "",
     "output_type": "error",
     "traceback": [
      "\u001b[1;31mDas Ausführen von Zellen mit „Python 3.9.15“ erfordert das ipykernel-Paket.\n",
      "\u001b[1;31mFühren Sie den folgenden Befehl aus, um „ipykernel“ in der Python-Umgebung zu installieren. \n",
      "\u001b[1;31mBefehl: „conda install -p /opt/anaconda3/envs/NLP_spacy ipykernel --update-deps --force-reinstall“"
     ]
    }
   ],
   "source": []
  },
  {
   "cell_type": "code",
   "execution_count": null,
   "metadata": {},
   "outputs": [],
   "source": []
  }
 ],
 "metadata": {
  "kernelspec": {
   "display_name": "Python 3.9.15 ('NLP')",
   "language": "python",
   "name": "python3"
  },
  "language_info": {
   "codemirror_mode": {
    "name": "ipython",
    "version": 3
   },
   "file_extension": ".py",
   "mimetype": "text/x-python",
   "name": "python",
   "nbconvert_exporter": "python",
   "pygments_lexer": "ipython3",
   "version": "3.9.15"
  },
  "orig_nbformat": 4,
  "vscode": {
   "interpreter": {
    "hash": "54c35701683d52397dec8c1b1dabb7d7599bf83c9aec0584240eb3e578830d84"
   }
  }
 },
 "nbformat": 4,
 "nbformat_minor": 2
}
