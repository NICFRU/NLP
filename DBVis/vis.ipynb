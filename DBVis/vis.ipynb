{
 "cells": [
  {
   "cell_type": "code",
   "execution_count": 609,
   "metadata": {},
   "outputs": [],
   "source": [
    "import matplotlib.pyplot as plt\n",
    "import pandas as pd\n",
    "import plotly\n",
    "import numpy as np\n",
    "#import mpld3"
   ]
  },
  {
   "cell_type": "code",
   "execution_count": 610,
   "metadata": {},
   "outputs": [
    {
     "name": "stdout",
     "output_type": "stream",
     "text": [
      "Processing file: AFD_Wahlprogramm_2021_hate.csv\n",
      "Processing file: AFD_Wahlprogramm_2021_sentiment.csv\n",
      "Processing file: AFD_Wahlprogramm_2021_topicpred_valhalla.csv\n",
      "Processing file: AFD_Wahlprogramm_2021_topic_class.csv\n",
      "Processing file: CDU-CSU_Wahlprogramm_2021_hate.csv\n",
      "Processing file: CDU-CSU_Wahlprogramm_2021_sentiment.csv\n",
      "Processing file: CDU-CSU_Wahlprogramm_2021_topicpred_valhalla.csv\n",
      "Processing file: CDU-CSU_Wahlprogramm_2021_topic_class.csv\n",
      "Processing file: DIE_GRUENEN_Wahlprogramm_2021_hate.csv\n",
      "Processing file: DIE_GRUENEN_Wahlprogramm_2021_sentiment.csv\n",
      "Processing file: DIE_GRUENEN_Wahlprogramm_2021_topicpred_valhalla.csv\n",
      "Processing file: DIE_GRUENEN_Wahlprogramm_2021_topic_class.csv\n",
      "Processing file: DIE_LINKE_Wahlprogramm_2021_hate.csv\n",
      "Processing file: DIE_LINKE_Wahlprogramm_2021_sentiment.csv\n",
      "Processing file: DIE_LINKE_Wahlprogramm_2021_topicpred_valhalla.csv\n",
      "Processing file: DIE_LINKE_Wahlprogramm_2021_topic_class.csv\n",
      "Processing file: FDP_Wahlprogramm_2021_hate.csv\n",
      "Processing file: FDP_Wahlprogramm_2021_sentiment.csv\n",
      "Processing file: FDP_Wahlprogramm_2021_topicpred_valhalla.csv\n",
      "Processing file: FDP_Wahlprogramm_2021_topic_class.csv\n",
      "Processing file: SPD_Wahlprogramm_2021_hate.csv\n",
      "Processing file: SPD_Wahlprogramm_2021_sentiment.csv\n",
      "Processing file: SPD_Wahlprogramm_2021_topicpred_valhalla.csv\n",
      "Processing file: SPD_Wahlprogramm_2021_topic_class.csv\n"
     ]
    }
   ],
   "source": [
    "import os\n",
    "def format_data(input_dir):\n",
    "    ### Iteriere über Ordner und prozessiere alle Dateien mit \"Wahlprogramm\" im Namen\n",
    "    for filename in os.listdir(input_dir):\n",
    "        if \"Wahlprogramm\" in filename and \"fin\" not in filename and \".csv\" in filename:\n",
    "            print(f\"Processing file: {filename}\")\n",
    "            \n",
    "            ### Prozessierung\n",
    "            with open(filename, \"r\", encoding=\"utf8\") as file:\n",
    "                filedata = file.read()\n",
    "                filedata = filedata.replace(';', ' -')\n",
    "                filedata = filedata.replace('§', ';')\n",
    "            ### Speichern in separate .csv file\n",
    "            with open(filename[:-4]+\"fin\"+\".csv\", 'w', encoding=\"utf8\") as file:\n",
    "                file.write(filedata)\n",
    "        else:\n",
    "            continue\n",
    "format_data(\"B:\\\\Unizeugs\\\\NLPProjekt\\\\NLP\\\\DBVis\\\\\")"
   ]
  },
  {
   "cell_type": "code",
   "execution_count": 611,
   "metadata": {},
   "outputs": [],
   "source": [
    "hatelist=[\"AFD_Wahlprogramm_2021_hatefin.csv\",\"CDU-CSU_Wahlprogramm_2021_hatefin.csv\",\"DIE_GRUENEN_Wahlprogramm_2021_hatefin.csv\",\"DIE_LINKE_Wahlprogramm_2021_hatefin.csv\",\"FDP_Wahlprogramm_2021_hatefin.csv\",\"SPD_Wahlprogramm_2021_hatefin.csv\"]\n",
    "sentimentlist=[\"AFD_Wahlprogramm_2021_sentimentfin.csv\",\"CDU-CSU_Wahlprogramm_2021_sentimentfin.csv\",\"DIE_GRUENEN_Wahlprogramm_2021_sentimentfin.csv\",\"DIE_LINKE_Wahlprogramm_2021_sentimentfin.csv\",\"FDP_Wahlprogramm_2021_sentimentfin.csv\",\"SPD_Wahlprogramm_2021_sentimentfin.csv\"]\n",
    "topicpredlist=[\"AFD_Wahlprogramm_2021_topic_classfin.csv\",\"CDU-CSU_Wahlprogramm_2021_topic_classfin.csv\",\"DIE_GRUENEN_Wahlprogramm_2021_topic_classfin.csv\",\"DIE_LINKE_Wahlprogramm_2021_topic_classfin.csv\",\"FDP_Wahlprogramm_2021_topic_classfin.csv\",\"SPD_Wahlprogramm_2021_topic_classfin.csv\"]"
   ]
  },
  {
   "cell_type": "code",
   "execution_count": 612,
   "metadata": {},
   "outputs": [],
   "source": [
    "#convert data for simple plots\n",
    "hatedflist=[]\n",
    "sentdflist=[]\n",
    "topicdflist=[]\n",
    "partrf=[\"AFD\",\"CDU-CSU\",\"GRUENE\",\"LINKE\",\"FDP\",\"SPD\"]\n",
    "for i in hatelist:\n",
    "    hatedflist+=[pd.read_csv(i, sep=\";\")]\n",
    "for i in hatedflist:\n",
    "    i.drop(columns = i.columns[0], axis = 1, inplace= True)\n",
    "\n",
    "for i in sentimentlist:\n",
    "    sentdflist+=[pd.read_csv(i, sep=\";\")]\n",
    "for i in sentdflist:\n",
    "    i.drop(columns = i.columns[0], axis = 1, inplace= True)\n",
    "    \n",
    "for i in topicpredlist:\n",
    "    topicdflist+=[pd.read_csv(i, sep=\";\")]\n",
    "for i in range(len(topicdflist)):\n",
    "    topicdflist[i].drop(columns = topicdflist[i].columns[0], axis = 1, inplace= True)\n",
    "    topicdflist[i].drop(columns = topicdflist[i].columns[0], axis = 1, inplace= True)\n",
    "    topicdflist[i] = topicdflist[i].rename(columns={'topic': 'labels'})\n",
    "\n"
   ]
  },
  {
   "cell_type": "code",
   "execution_count": 613,
   "metadata": {},
   "outputs": [],
   "source": [
    "#Erstellung merged df zwischen sentiment und topic\n",
    "topichatedflist=[]\n",
    "topichatedflist=hatedflist.copy()\n",
    "for i in range(len(topichatedflist)):\n",
    "    topichatedflist[i] = pd.concat([topichatedflist[i],topicdflist[i]], axis=1)"
   ]
  },
  {
   "cell_type": "code",
   "execution_count": 614,
   "metadata": {},
   "outputs": [],
   "source": [
    "def getcountpnn(inputdf):\n",
    "    posc=0\n",
    "    neuc=0\n",
    "    negc=0\n",
    "    for i in inputdf[\"label\"]:\n",
    "        if i==\"neutral\":\n",
    "            neuc+=1\n",
    "        elif i==\"positiv\":\n",
    "            posc+=1\n",
    "        elif i==\"negativ\":\n",
    "            negc+=1\n",
    "    return [posc, neuc, negc]\n",
    "\n",
    "def createsentchartabs(inputlist, partrf):\n",
    "    positiv=[]\n",
    "    negativ=[]\n",
    "    for i in inputlist:\n",
    "        h=getcountpnn(i)\n",
    "        positiv+=[h[0]]\n",
    "        negativ+=[h[2]]\n",
    "    labels=partrf\n",
    "    x=np.arange(len(labels))\n",
    "    width=0.35 #width of bars\n",
    "    fig, ax = plt.subplots()\n",
    "    rects1 = ax.bar(x - width/2, positiv, width, label='positiv')\n",
    "    rects2 = ax.bar(x + width/2, negativ, width, label='negativ')\n",
    "    # Add some text for labels, title and custom x-axis tick labels, etc.\n",
    "    ax.set_ylabel('Menge')\n",
    "    ax.set_title('Sentiments der Parteien - absolut')\n",
    "    ax.set_xticks(x, labels)\n",
    "    ax.legend()\n",
    "    ax.bar_label(rects1, padding=3)\n",
    "    ax.bar_label(rects2, padding=3)\n",
    "    fig.tight_layout()\n",
    "    #plt.savefig(\"Sentiments-der-Parteien-absolut.png\")\n",
    "    plt.show()\n",
    "    \n",
    "def createsentchartrel(inputlist, partrf):\n",
    "    positiv=[]\n",
    "    negativ=[]\n",
    "    for i in inputlist:\n",
    "        h=getcountpnn(i)\n",
    "        positiv+=[round(h[0]/(h[0]+h[1]+h[2]),2)]\n",
    "        negativ+=[round(h[2]/(h[0]+h[1]+h[2]),2)]\n",
    "    labels=partrf\n",
    "    x=np.arange(len(labels))\n",
    "    width=0.35 #width of bars\n",
    "    fig, ax = plt.subplots()\n",
    "    rects1 = ax.bar(x - width/2, positiv, width, label='positiv')\n",
    "    rects2 = ax.bar(x + width/2, negativ, width, label='negativ')\n",
    "    # Add some text for labels, title and custom x-axis tick labels, etc.\n",
    "    ax.set_ylabel('Menge')\n",
    "    ax.set_title('Sentiments der Parteien - relativ')\n",
    "    ax.set_xticks(x, labels)\n",
    "    ax.legend()\n",
    "    ax.bar_label(rects1, padding=3)\n",
    "    ax.bar_label(rects2, padding=3)\n",
    "    fig.tight_layout()\n",
    "    #plt.savefig(\"Sentiments-der-Parteien-relativ.png\")\n",
    "    plt.show()\n",
    "\n",
    "def createhatechartabs(inputlist, partrf):\n",
    "    negativ=[]\n",
    "    for i in inputlist:\n",
    "        h=getcountpnn(i)\n",
    "        negativ+=[h[2]]\n",
    "    labels=partrf\n",
    "    x=np.arange(len(labels))\n",
    "    width=0.35 #width of bars\n",
    "    fig, ax = plt.subplots()\n",
    "    rects2 = ax.bar(x + width/2, negativ, width, label='negativ')\n",
    "    # Add some text for labels, title and custom x-axis tick labels, etc.\n",
    "    ax.set_ylabel('Menge')\n",
    "    ax.set_title('Hatespeech der Parteien - absolut')\n",
    "    ax.set_xticks(x, labels)\n",
    "    ax.bar_label(rects2, padding=3)\n",
    "    fig.tight_layout()\n",
    "    #plt.savefig('Hatespeech-der-Parteien-absolut.png')\n",
    "    plt.show()\n",
    "\n",
    "def createhatechartrel(inputlist, partrf):\n",
    "    negativ=[]\n",
    "    for i in inputlist:\n",
    "        h=getcountpnn(i)\n",
    "        negativ+=[round(h[2]/(h[0]+h[1]+h[2]),4)]\n",
    "    labels=partrf\n",
    "    x=np.arange(len(labels))\n",
    "    width=0.35 #width of bars\n",
    "    fig, ax = plt.subplots()\n",
    "    rects2 = ax.bar(x + width/2, negativ, width, label='negativ')\n",
    "    # Add some text for labels, title and custom x-axis tick labels, etc.\n",
    "    ax.set_ylabel('Menge')\n",
    "    ax.set_title('Hatespeech der Parteien - relativ')\n",
    "    ax.set_xticks(x, labels)\n",
    "    ax.bar_label(rects2, padding=3)\n",
    "    fig.tight_layout()\n",
    "    #plt.savefig(\"Hatespeech-der-Parteien-relativ.png\")\n",
    "    plt.show()"
   ]
  },
  {
   "cell_type": "code",
   "execution_count": 615,
   "metadata": {},
   "outputs": [
    {
     "data": {
      "image/png": "[encoded data removed]",
      "text/plain": [
       "<Figure size 640x480 with 1 Axes>"
      ]
     },
     "metadata": {},
     "output_type": "display_data"
    },
    {
     "data": {
      "image/png": "[encoded data removed]",
      "text/plain": [
       "<Figure size 640x480 with 1 Axes>"
      ]
     },
     "metadata": {},
     "output_type": "display_data"
    },
    {
     "data": {
      "image/png": "[encoded data removed]",
      "text/plain": [
       "<Figure size 640x480 with 1 Axes>"
      ]
     },
     "metadata": {},
     "output_type": "display_data"
    },
    {
     "data": {
      "image/png": "[encoded data removed]",
      "text/plain": [
       "<Figure size 640x480 with 1 Axes>"
      ]
     },
     "metadata": {},
     "output_type": "display_data"
    }
   ],
   "source": [
    "createsentchartabs(sentdflist,partrf)\n",
    "createsentchartrel(sentdflist,partrf)\n",
    "createhatechartabs(hatedflist,partrf)\n",
    "createhatechartrel(hatedflist,partrf)"
   ]
  },
  {
   "cell_type": "code",
   "execution_count": 616,
   "metadata": {},
   "outputs": [],
   "source": [
    "def getthemelist(inputdf): #Gibt eine liste aller Themen mit summierter Gewichtung im Text an\n",
    "    themelist=[]\n",
    "    vallist=[]\n",
    "    themrf=['politik und ideologie', 'wirtschaft', 'bildung', 'gesundheit', 'soziale ursachen', 'klima', 'infrastruktur', 'wissenschaft']\n",
    "    swert=0.3 #schwellwert für relevanz\n",
    "    for i in inputdf[\"labels\"]:\n",
    "        for h in i:\n",
    "            if h[0] in themelist:\n",
    "                vallist[themelist.index(h[0])]+=float(h[1])\n",
    "            if not h[0] in themelist and h[0] !=\"none\" and float(h[1])>swert:\n",
    "                themelist+=[h[0]]\n",
    "                vallist+=[float(h[1])]\n",
    "    #Ergänzung nicht benannter Themengebiete\n",
    "    for i in themrf:\n",
    "        if i not in themelist:\n",
    "            themelist+=[i]\n",
    "            vallist+=[0]\n",
    "    #normalisierung der Werte\n",
    "    sum=0\n",
    "    for i in vallist:\n",
    "        sum+=i\n",
    "    for i in range(len(vallist)):\n",
    "        if sum==0:\n",
    "            vallist[i]=0\n",
    "        else:\n",
    "            vallist[i]=vallist[i]/sum\n",
    "    return [themelist,vallist]\n",
    "\n",
    "def getthemdistrplot(inputdf,namestr):\n",
    "    hd=getthemelist(inputdf)\n",
    "    barlabelspre=hd[0]\n",
    "    barvalspre=hd[1]\n",
    "    #themensortierung\n",
    "    themrf=['politik und ideologie', 'wirtschaft', 'bildung', 'gesundheit', 'soziale ursachen', 'klima', 'infrastruktur', 'wissenschaft']\n",
    "    barvals=[]\n",
    "    for i in themrf:\n",
    "        barvals+=[round(barvalspre[barlabelspre.index(i)], 4)]\n",
    "    \n",
    "    plt.bar(themrf,barvals,label=\"Themen\")\n",
    "    plt.title(\"Themenverteilung im Wahlprogramm - \"+namestr)\n",
    "    plt.ylabel(\"relativer Anteil\")\n",
    "    plt.xticks(rotation=90)\n",
    "    plt.tight_layout()\n",
    "    #plt.savefig('Themenverteilung-im-Wahlprogramm-'+ namestr+\".png\")\n",
    "    plt.show()\n",
    "\n",
    "def gethatethemedistrdf(inputdf): #Hier werden die themen der als hatespeech gezeichneten bereiche dargestellt\n",
    "    hatedf=inputdf[inputdf[\"labels\"]==\"negativ\"].copy()\n",
    "    hatedf.drop(columns = hatedf.columns[0], axis = 1, inplace= True)\n",
    "    hatedf.drop(columns = hatedf.columns[0], axis = 1, inplace= True)\n",
    "    hatedf.drop(columns = hatedf.columns[0], axis = 1, inplace= True)\n",
    "    #print(hatedf)\n",
    "    return hatedf\n",
    "\n"
   ]
  },
  {
   "cell_type": "code",
   "execution_count": 617,
   "metadata": {},
   "outputs": [],
   "source": [
    "def getcombplot_hatetopicdistr(inputdfallg,inputdfneg,partbez):\n",
    "    themrf=['politik und ideologie', 'wirtschaft', 'bildung', 'gesundheit', 'soziale ursachen', 'klima', 'infrastruktur', 'wissenschaft']\n",
    "    hdallg=getthemelist(inputdfallg)\n",
    "    allgemeinpre=hdallg[1]\n",
    "    labelallgemeinpre=hdallg[0]\n",
    "    hdneg=getthemelist(inputdfneg)\n",
    "    negativpre=hdneg[1]\n",
    "    labelnegativpre=hdneg[0]\n",
    "    #sortierung von dem ersten datensatz\n",
    "    allgemein=[]\n",
    "    for i in themrf:\n",
    "        allgemein+=[round(allgemeinpre[labelallgemeinpre.index(i)],2)]\n",
    "\n",
    "    #sortierung von dem zweiten datensatz\n",
    "    negativ=[]\n",
    "    for i in themrf:\n",
    "        negativ+=[round(negativpre[labelnegativpre.index(i)], 2)]\n",
    "    \n",
    "    x=np.arange(len(themrf))\n",
    "    width=0.45 #width of bars\n",
    "    fig, ax = plt.subplots()\n",
    "    rects1 = ax.bar(x - width/2, allgemein, width, label='Allgemein')\n",
    "    rects2 = ax.bar(x + width/2, negativ, width, label='Hatespeech')\n",
    "    ax.set_ylabel('Relative Menge')\n",
    "    ax.set_title('Vergleich der Themenverteilung Allgemein und in Hatespeech - relativ - '+ partbez, pad=20)\n",
    "    ax.set_xticks(x, themrf, rotation=90)\n",
    "    ax.legend()\n",
    "    ax.bar_label(rects1, padding=5, rotation=90)\n",
    "    ax.bar_label(rects2, padding=5, rotation=90)\n",
    "    ax.set_ylim([0, 1.1])\n",
    "    fig.tight_layout()\n",
    "    #plt.savefig('Vergleich-der-Themenverteilung-Allgemein-und-in-Hatespeech-relativ-'+ partbez+\".png\")\n",
    "    plt.show()"
   ]
  },
  {
   "cell_type": "code",
   "execution_count": 618,
   "metadata": {},
   "outputs": [],
   "source": [
    "def getfindata():#create merged df für clusterabbildung mit topicseparierung\n",
    "    df1l=hatedflist.copy()\n",
    "    df2l=sentdflist.copy()\n",
    "    df3l=topicdflist.copy()\n",
    "    for i in range(len(df1l)):\n",
    "        df1l[i]=df1l[i].rename(columns={'label': 'hatelabel', 'score': 'hatescore'})\n",
    "    for i in range(len(df2l)):\n",
    "        df2l[i]=df2l[i].rename(columns={'label': 'sentlabel', 'score': 'sentscore'})\n",
    "    partrf=[\"AFD\",\"CDU-CSU\",\"GRUENE\",\"LINKE\",\"FDP\",\"SPD\"]\n",
    "    dfges=[]\n",
    "    for i in range(len(df1l)):\n",
    "        dfges+=[pd.concat([df1l[i],pd.concat([df2l[i],df3l[i]], axis=1)], axis=1)]\n",
    "\n",
    "    #topicreinigung, nur klassifizierungen mit genauigkeit größer 0.4 bleiben bestehen\n",
    "    for i in range(len(dfges)):\n",
    "        for j in dfges[i][\"labels\"].index:\n",
    "            if float(dfges[i][\"labels\"][j][0][1]) > 0.3: #topicschwellwert 0.4\n",
    "                dfges[i][\"labels\"][j]=dfges[i][\"labels\"][j][0][0]\n",
    "            else:\n",
    "                dfges[i][\"labels\"][j]=\"none\"\n",
    "\n",
    "    #drop lines with \"none\" as \"Top 3\"\n",
    "    for i in range(len(dfges)):\n",
    "        dfges[i]=dfges[i][dfges[i][\"labels\"]!=\"none\"].reset_index()\n",
    "\n",
    "    #Erstellung finales df\n",
    "    findata=[]\n",
    "    for i in range(len(dfges)):\n",
    "        for j in dfges[i][\"labels\"].unique(): #Partei, Thema, hate, Sentimentpositiv, Sentimentnegativ\n",
    "            findata+=   [[partrf[i], \n",
    "                        j, \n",
    "                        round(dfges[i][(dfges[i][\"labels\"]==j) & (dfges[i][\"hatelabel\"]==\"negativ\")].hatelabel.count()/dfges[i][dfges[i][\"labels\"]==j].hatelabel.count(),6),\n",
    "                        round(dfges[i][(dfges[i][\"labels\"]==j) & (dfges[i][\"sentlabel\"]==\"positiv\")].sentlabel.count()/dfges[i][dfges[i][\"labels\"]==j].sentlabel.count(),6),\n",
    "                        round(dfges[i][(dfges[i][\"labels\"]==j) & (dfges[i][\"sentlabel\"]==\"negativ\")].sentlabel.count()/dfges[i][dfges[i][\"labels\"]==j].sentlabel.count(),6)]]\n",
    "    return findata\n",
    "\n",
    "def getfindataohneSWert():#create merged df für clusterabbildung ohne topicseparierung\n",
    "    df1l=hatedflist.copy()\n",
    "    df2l=sentdflist.copy()\n",
    "    df3l=topicdflist.copy()\n",
    "    for i in range(len(df1l)):\n",
    "        df1l[i]=df1l[i].rename(columns={'label': 'hatelabel', 'score': 'hatescore'})\n",
    "    for i in range(len(df2l)):\n",
    "        df2l[i]=df2l[i].rename(columns={'label': 'sentlabel', 'score': 'sentscore'})\n",
    "    partrf=[\"AFD\",\"CDU-CSU\",\"GRUENE\",\"LINKE\",\"FDP\",\"SPD\"]\n",
    "    dfges=[]\n",
    "    for i in range(len(df1l)):\n",
    "        dfges+=[pd.concat([df1l[i],pd.concat([df2l[i],df3l[i]], axis=1)], axis=1)]\n",
    "\n",
    "\n",
    "    #drop lines with \"none\" as \"Top 3\"\n",
    "    for i in range(len(dfges)):\n",
    "        dfges[i]=dfges[i][dfges[i][\"labels\"]!=\"none\"].reset_index()\n",
    "\n",
    "    #Erstellung finales df\n",
    "    findata=[]\n",
    "    for i in range(len(dfges)):\n",
    "        for j in dfges[i][\"labels\"].unique(): #Partei, Thema, hate, Sentimentpositiv, Sentimentnegativ\n",
    "            findata+=   [[partrf[i], \n",
    "                        j, \n",
    "                        round(dfges[i][(dfges[i][\"labels\"]==j) & (dfges[i][\"hatelabel\"]==\"negativ\")].hatelabel.count()/dfges[i][dfges[i][\"labels\"]==j].hatelabel.count(),6),\n",
    "                        round(dfges[i][(dfges[i][\"labels\"]==j) & (dfges[i][\"sentlabel\"]==\"positiv\")].sentlabel.count()/dfges[i][dfges[i][\"labels\"]==j].sentlabel.count(),6),\n",
    "                        round(dfges[i][(dfges[i][\"labels\"]==j) & (dfges[i][\"sentlabel\"]==\"negativ\")].sentlabel.count()/dfges[i][dfges[i][\"labels\"]==j].sentlabel.count(),6)]]\n",
    "    return findata\n",
    "\n",
    "findata=getfindataohneSWert()\n",
    "#print(findata)\n"
   ]
  },
  {
   "cell_type": "code",
   "execution_count": 619,
   "metadata": {},
   "outputs": [
    {
     "data": {
      "application/vnd.plotly.v1+json": {
       "config": {
        "plotlyServerURL": "https://plot.ly"
       },
       "data": [
        {
         "hovertemplate": "<b>%{hovertext}</b><br><br>Partei=AFD<br>Sentiment-positiv=%{x}<br>Sentiment-negativ=%{y}<br>Hatespeech=%{marker.size}<extra></extra>",
         "hovertext": [
          "Politik und Ideologie",
          "wirtschaft",
          "soziale Ursachen",
          "Klima",
          "Gesundheit",
          "Wissenschaft",
          "Bildung",
          "Infrastruktur"
         ],
         "legendgroup": "AFD",
         "marker": {
          "color": "#636efa",
          "size": [
           0.014286,
           0.028725,
           0.010989,
           0,
           0.009346,
           0,
           0,
           0
          ],
          "sizemode": "area",
          "sizeref": 0.000046486944444444446,
          "symbol": "circle"
         },
         "mode": "markers",
         "name": "AFD",
         "orientation": "v",
         "showlegend": true,
         "type": "scatter",
         "x": [
          0.038095,
          0.032316,
          0.010989,
          0.060606,
          0.009346,
          0.032258,
          0.052632,
          0.043478
         ],
         "xaxis": "x",
         "y": [
          0.232143,
          0.202873,
          0.236264,
          0.151515,
          0.214953,
          0.177419,
          0.105263,
          0.043478
         ],
         "yaxis": "y"
        },
        {
         "hovertemplate": "<b>%{hovertext}</b><br><br>Partei=CDU-CSU<br>Sentiment-positiv=%{x}<br>Sentiment-negativ=%{y}<br>Hatespeech=%{marker.size}<extra></extra>",
         "hovertext": [
          "soziale Ursachen",
          "wirtschaft",
          "Politik und Ideologie",
          "Gesundheit",
          "Klima",
          "Infrastruktur",
          "Wissenschaft",
          "Bildung"
         ],
         "legendgroup": "CDU-CSU",
         "marker": {
          "color": "#EF553B",
          "size": [
           0.026738,
           0.00223,
           0.00401,
           0.007042,
           0,
           0,
           0,
           0.012821
          ],
          "sizemode": "area",
          "sizeref": 0.000046486944444444446,
          "symbol": "circle"
         },
         "mode": "markers",
         "name": "CDU-CSU",
         "orientation": "v",
         "showlegend": true,
         "type": "scatter",
         "x": [
          0.139037,
          0.095875,
          0.088212,
          0.077465,
          0.125,
          0.157895,
          0.131387,
          0.064103
         ],
         "xaxis": "x",
         "y": [
          0.128342,
          0.13155,
          0.096231,
          0.049296,
          0.125,
          0.026316,
          0.072993,
          0.064103
         ],
         "yaxis": "y"
        },
        {
         "hovertemplate": "<b>%{hovertext}</b><br><br>Partei=GRUENE<br>Sentiment-positiv=%{x}<br>Sentiment-negativ=%{y}<br>Hatespeech=%{marker.size}<extra></extra>",
         "hovertext": [
          "soziale Ursachen",
          "Politik und Ideologie",
          "wirtschaft",
          "Infrastruktur",
          "Bildung",
          "Gesundheit",
          "Klima",
          "Wissenschaft"
         ],
         "legendgroup": "GRUENE",
         "marker": {
          "color": "#00cc96",
          "size": [
           0.167353,
           0.005385,
           0.004743,
           0,
           0.006173,
           0.004545,
           0,
           0
          ],
          "sizemode": "area",
          "sizeref": 0.000046486944444444446,
          "symbol": "circle"
         },
         "mode": "markers",
         "name": "GRUENE",
         "orientation": "v",
         "showlegend": true,
         "type": "scatter",
         "x": [
          0.027435,
          0.036618,
          0.138889,
          0.033333,
          0.067901,
          0.022727,
          0.061947,
          0.04
         ],
         "xaxis": "x",
         "y": [
          0.245542,
          0.121163,
          0.103659,
          0.1,
          0.037037,
          0.113636,
          0.150442,
          0.113333
         ],
         "yaxis": "y"
        },
        {
         "hovertemplate": "<b>%{hovertext}</b><br><br>Partei=LINKE<br>Sentiment-positiv=%{x}<br>Sentiment-negativ=%{y}<br>Hatespeech=%{marker.size}<extra></extra>",
         "hovertext": [
          "wirtschaft",
          "Politik und Ideologie",
          "soziale Ursachen",
          "Klima",
          "Gesundheit",
          "Infrastruktur",
          "Bildung",
          "Wissenschaft"
         ],
         "legendgroup": "LINKE",
         "marker": {
          "color": "#ab63fa",
          "size": [
           0.010209,
           0.009538,
           0.027523,
           0.00578,
           0.011278,
           0.014706,
           0.014634,
           0.00813
          ],
          "sizemode": "area",
          "sizeref": 0.000046486944444444446,
          "symbol": "circle"
         },
         "mode": "markers",
         "name": "LINKE",
         "orientation": "v",
         "showlegend": true,
         "type": "scatter",
         "x": [
          0.039306,
          0.018574,
          0.018349,
          0.00578,
          0.015038,
          0.014706,
          0.043902,
          0.02439
         ],
         "xaxis": "x",
         "y": [
          0.193977,
          0.177209,
          0.231651,
          0.306358,
          0.244361,
          0.132353,
          0.078049,
          0.203252
         ],
         "yaxis": "y"
        },
        {
         "hovertemplate": "<b>%{hovertext}</b><br><br>Partei=FDP<br>Sentiment-positiv=%{x}<br>Sentiment-negativ=%{y}<br>Hatespeech=%{marker.size}<extra></extra>",
         "hovertext": [
          "wirtschaft",
          "Politik und Ideologie",
          "soziale Ursachen",
          "Bildung",
          "Wissenschaft",
          "Gesundheit",
          "Klima",
          "Infrastruktur"
         ],
         "legendgroup": "FDP",
         "marker": {
          "color": "#FFA15A",
          "size": [
           0.005789,
           0.00304,
           0.010526,
           0,
           0,
           0,
           0,
           0
          ],
          "sizemode": "area",
          "sizeref": 0.000046486944444444446,
          "symbol": "circle"
         },
         "mode": "markers",
         "name": "FDP",
         "orientation": "v",
         "showlegend": true,
         "type": "scatter",
         "x": [
          0.059334,
          0.04154,
          0.068421,
          0.027778,
          0.123288,
          0.068702,
          0.112676,
          0.058824
         ],
         "xaxis": "x",
         "y": [
          0.15919,
          0.106383,
          0.084211,
          0.046296,
          0.068493,
          0.053435,
          0.225352,
          0.058824
         ],
         "yaxis": "y"
        },
        {
         "hovertemplate": "<b>%{hovertext}</b><br><br>Partei=SPD<br>Sentiment-positiv=%{x}<br>Sentiment-negativ=%{y}<br>Hatespeech=%{marker.size}<extra></extra>",
         "hovertext": [
          "Politik und Ideologie",
          "wirtschaft",
          "soziale Ursachen",
          "Klima",
          "Gesundheit",
          "Wissenschaft",
          "Infrastruktur",
          "Bildung"
         ],
         "legendgroup": "SPD",
         "marker": {
          "color": "#19d3f3",
          "size": [
           0.008143,
           0.086301,
           0.006897,
           0,
           0,
           0,
           0.052632,
           0
          ],
          "sizemode": "area",
          "sizeref": 0.000046486944444444446,
          "symbol": "circle"
         },
         "mode": "markers",
         "name": "SPD",
         "orientation": "v",
         "showlegend": true,
         "type": "scatter",
         "x": [
          0.104235,
          0.063014,
          0.082759,
          0.038462,
          0.037975,
          0.241379,
          0.052632,
          0.177778
         ],
         "xaxis": "x",
         "y": [
          0.094463,
          0.157534,
          0.144828,
          0.134615,
          0.151899,
          0.068966,
          0.105263,
          0.022222
         ],
         "yaxis": "y"
        }
       ],
       "layout": {
        "legend": {
         "itemsizing": "constant",
         "title": {
          "text": "Partei"
         },
         "tracegroupgap": 0
        },
        "template": {
         "data": {
          "bar": [
           {
            "error_x": {
             "color": "#2a3f5f"
            },
            "error_y": {
             "color": "#2a3f5f"
            },
            "marker": {
             "line": {
              "color": "#E5ECF6",
              "width": 0.5
             },
             "pattern": {
              "fillmode": "overlay",
              "size": 10,
              "solidity": 0.2
             }
            },
            "type": "bar"
           }
          ],
          "barpolar": [
           {
            "marker": {
             "line": {
              "color": "#E5ECF6",
              "width": 0.5
             },
             "pattern": {
              "fillmode": "overlay",
              "size": 10,
              "solidity": 0.2
             }
            },
            "type": "barpolar"
           }
          ],
          "carpet": [
           {
            "aaxis": {
             "endlinecolor": "#2a3f5f",
             "gridcolor": "white",
             "linecolor": "white",
             "minorgridcolor": "white",
             "startlinecolor": "#2a3f5f"
            },
            "baxis": {
             "endlinecolor": "#2a3f5f",
             "gridcolor": "white",
             "linecolor": "white",
             "minorgridcolor": "white",
             "startlinecolor": "#2a3f5f"
            },
            "type": "carpet"
           }
          ],
          "choropleth": [
           {
            "colorbar": {
             "outlinewidth": 0,
             "ticks": ""
            },
            "type": "choropleth"
           }
          ],
          "contour": [
           {
            "colorbar": {
             "outlinewidth": 0,
             "ticks": ""
            },
            "colorscale": [
             [
              0,
              "#0d0887"
             ],
             [
              0.1111111111111111,
              "#46039f"
             ],
             [
              0.2222222222222222,
              "#7201a8"
             ],
             [
              0.3333333333333333,
              "#9c179e"
             ],
             [
              0.4444444444444444,
              "#bd3786"
             ],
             [
              0.5555555555555556,
              "#d8576b"
             ],
             [
              0.6666666666666666,
              "#ed7953"
             ],
             [
              0.7777777777777778,
              "#fb9f3a"
             ],
             [
              0.8888888888888888,
              "#fdca26"
             ],
             [
              1,
              "#f0f921"
             ]
            ],
            "type": "contour"
           }
          ],
          "contourcarpet": [
           {
            "colorbar": {
             "outlinewidth": 0,
             "ticks": ""
            },
            "type": "contourcarpet"
           }
          ],
          "heatmap": [
           {
            "colorbar": {
             "outlinewidth": 0,
             "ticks": ""
            },
            "colorscale": [
             [
              0,
              "#0d0887"
             ],
             [
              0.1111111111111111,
              "#46039f"
             ],
             [
              0.2222222222222222,
              "#7201a8"
             ],
             [
              0.3333333333333333,
              "#9c179e"
             ],
             [
              0.4444444444444444,
              "#bd3786"
             ],
             [
              0.5555555555555556,
              "#d8576b"
             ],
             [
              0.6666666666666666,
              "#ed7953"
             ],
             [
              0.7777777777777778,
              "#fb9f3a"
             ],
             [
              0.8888888888888888,
              "#fdca26"
             ],
             [
              1,
              "#f0f921"
             ]
            ],
            "type": "heatmap"
           }
          ],
          "heatmapgl": [
           {
            "colorbar": {
             "outlinewidth": 0,
             "ticks": ""
            },
            "colorscale": [
             [
              0,
              "#0d0887"
             ],
             [
              0.1111111111111111,
              "#46039f"
             ],
             [
              0.2222222222222222,
              "#7201a8"
             ],
             [
              0.3333333333333333,
              "#9c179e"
             ],
             [
              0.4444444444444444,
              "#bd3786"
             ],
             [
              0.5555555555555556,
              "#d8576b"
             ],
             [
              0.6666666666666666,
              "#ed7953"
             ],
             [
              0.7777777777777778,
              "#fb9f3a"
             ],
             [
              0.8888888888888888,
              "#fdca26"
             ],
             [
              1,
              "#f0f921"
             ]
            ],
            "type": "heatmapgl"
           }
          ],
          "histogram": [
           {
            "marker": {
             "pattern": {
              "fillmode": "overlay",
              "size": 10,
              "solidity": 0.2
             }
            },
            "type": "histogram"
           }
          ],
          "histogram2d": [
           {
            "colorbar": {
             "outlinewidth": 0,
             "ticks": ""
            },
            "colorscale": [
             [
              0,
              "#0d0887"
             ],
             [
              0.1111111111111111,
              "#46039f"
             ],
             [
              0.2222222222222222,
              "#7201a8"
             ],
             [
              0.3333333333333333,
              "#9c179e"
             ],
             [
              0.4444444444444444,
              "#bd3786"
             ],
             [
              0.5555555555555556,
              "#d8576b"
             ],
             [
              0.6666666666666666,
              "#ed7953"
             ],
             [
              0.7777777777777778,
              "#fb9f3a"
             ],
             [
              0.8888888888888888,
              "#fdca26"
             ],
             [
              1,
              "#f0f921"
             ]
            ],
            "type": "histogram2d"
           }
          ],
          "histogram2dcontour": [
           {
            "colorbar": {
             "outlinewidth": 0,
             "ticks": ""
            },
            "colorscale": [
             [
              0,
              "#0d0887"
             ],
             [
              0.1111111111111111,
              "#46039f"
             ],
             [
              0.2222222222222222,
              "#7201a8"
             ],
             [
              0.3333333333333333,
              "#9c179e"
             ],
             [
              0.4444444444444444,
              "#bd3786"
             ],
             [
              0.5555555555555556,
              "#d8576b"
             ],
             [
              0.6666666666666666,
              "#ed7953"
             ],
             [
              0.7777777777777778,
              "#fb9f3a"
             ],
             [
              0.8888888888888888,
              "#fdca26"
             ],
             [
              1,
              "#f0f921"
             ]
            ],
            "type": "histogram2dcontour"
           }
          ],
          "mesh3d": [
           {
            "colorbar": {
             "outlinewidth": 0,
             "ticks": ""
            },
            "type": "mesh3d"
           }
          ],
          "parcoords": [
           {
            "line": {
             "colorbar": {
              "outlinewidth": 0,
              "ticks": ""
             }
            },
            "type": "parcoords"
           }
          ],
          "pie": [
           {
            "automargin": true,
            "type": "pie"
           }
          ],
          "scatter": [
           {
            "fillpattern": {
             "fillmode": "overlay",
             "size": 10,
             "solidity": 0.2
            },
            "type": "scatter"
           }
          ],
          "scatter3d": [
           {
            "line": {
             "colorbar": {
              "outlinewidth": 0,
              "ticks": ""
             }
            },
            "marker": {
             "colorbar": {
              "outlinewidth": 0,
              "ticks": ""
             }
            },
            "type": "scatter3d"
           }
          ],
          "scattercarpet": [
           {
            "marker": {
             "colorbar": {
              "outlinewidth": 0,
              "ticks": ""
             }
            },
            "type": "scattercarpet"
           }
          ],
          "scattergeo": [
           {
            "marker": {
             "colorbar": {
              "outlinewidth": 0,
              "ticks": ""
             }
            },
            "type": "scattergeo"
           }
          ],
          "scattergl": [
           {
            "marker": {
             "colorbar": {
              "outlinewidth": 0,
              "ticks": ""
             }
            },
            "type": "scattergl"
           }
          ],
          "scattermapbox": [
           {
            "marker": {
             "colorbar": {
              "outlinewidth": 0,
              "ticks": ""
             }
            },
            "type": "scattermapbox"
           }
          ],
          "scatterpolar": [
           {
            "marker": {
             "colorbar": {
              "outlinewidth": 0,
              "ticks": ""
             }
            },
            "type": "scatterpolar"
           }
          ],
          "scatterpolargl": [
           {
            "marker": {
             "colorbar": {
              "outlinewidth": 0,
              "ticks": ""
             }
            },
            "type": "scatterpolargl"
           }
          ],
          "scatterternary": [
           {
            "marker": {
             "colorbar": {
              "outlinewidth": 0,
              "ticks": ""
             }
            },
            "type": "scatterternary"
           }
          ],
          "surface": [
           {
            "colorbar": {
             "outlinewidth": 0,
             "ticks": ""
            },
            "colorscale": [
             [
              0,
              "#0d0887"
             ],
             [
              0.1111111111111111,
              "#46039f"
             ],
             [
              0.2222222222222222,
              "#7201a8"
             ],
             [
              0.3333333333333333,
              "#9c179e"
             ],
             [
              0.4444444444444444,
              "#bd3786"
             ],
             [
              0.5555555555555556,
              "#d8576b"
             ],
             [
              0.6666666666666666,
              "#ed7953"
             ],
             [
              0.7777777777777778,
              "#fb9f3a"
             ],
             [
              0.8888888888888888,
              "#fdca26"
             ],
             [
              1,
              "#f0f921"
             ]
            ],
            "type": "surface"
           }
          ],
          "table": [
           {
            "cells": {
             "fill": {
              "color": "#EBF0F8"
             },
             "line": {
              "color": "white"
             }
            },
            "header": {
             "fill": {
              "color": "#C8D4E3"
             },
             "line": {
              "color": "white"
             }
            },
            "type": "table"
           }
          ]
         },
         "layout": {
          "annotationdefaults": {
           "arrowcolor": "#2a3f5f",
           "arrowhead": 0,
           "arrowwidth": 1
          },
          "autotypenumbers": "strict",
          "coloraxis": {
           "colorbar": {
            "outlinewidth": 0,
            "ticks": ""
           }
          },
          "colorscale": {
           "diverging": [
            [
             0,
             "#8e0152"
            ],
            [
             0.1,
             "#c51b7d"
            ],
            [
             0.2,
             "#de77ae"
            ],
            [
             0.3,
             "#f1b6da"
            ],
            [
             0.4,
             "#fde0ef"
            ],
            [
             0.5,
             "#f7f7f7"
            ],
            [
             0.6,
             "#e6f5d0"
            ],
            [
             0.7,
             "#b8e186"
            ],
            [
             0.8,
             "#7fbc41"
            ],
            [
             0.9,
             "#4d9221"
            ],
            [
             1,
             "#276419"
            ]
           ],
           "sequential": [
            [
             0,
             "#0d0887"
            ],
            [
             0.1111111111111111,
             "#46039f"
            ],
            [
             0.2222222222222222,
             "#7201a8"
            ],
            [
             0.3333333333333333,
             "#9c179e"
            ],
            [
             0.4444444444444444,
             "#bd3786"
            ],
            [
             0.5555555555555556,
             "#d8576b"
            ],
            [
             0.6666666666666666,
             "#ed7953"
            ],
            [
             0.7777777777777778,
             "#fb9f3a"
            ],
            [
             0.8888888888888888,
             "#fdca26"
            ],
            [
             1,
             "#f0f921"
            ]
           ],
           "sequentialminus": [
            [
             0,
             "#0d0887"
            ],
            [
             0.1111111111111111,
             "#46039f"
            ],
            [
             0.2222222222222222,
             "#7201a8"
            ],
            [
             0.3333333333333333,
             "#9c179e"
            ],
            [
             0.4444444444444444,
             "#bd3786"
            ],
            [
             0.5555555555555556,
             "#d8576b"
            ],
            [
             0.6666666666666666,
             "#ed7953"
            ],
            [
             0.7777777777777778,
             "#fb9f3a"
            ],
            [
             0.8888888888888888,
             "#fdca26"
            ],
            [
             1,
             "#f0f921"
            ]
           ]
          },
          "colorway": [
           "#636efa",
           "#EF553B",
           "#00cc96",
           "#ab63fa",
           "#FFA15A",
           "#19d3f3",
           "#FF6692",
           "#B6E880",
           "#FF97FF",
           "#FECB52"
          ],
          "font": {
           "color": "#2a3f5f"
          },
          "geo": {
           "bgcolor": "white",
           "lakecolor": "white",
           "landcolor": "#E5ECF6",
           "showlakes": true,
           "showland": true,
           "subunitcolor": "white"
          },
          "hoverlabel": {
           "align": "left"
          },
          "hovermode": "closest",
          "mapbox": {
           "style": "light"
          },
          "paper_bgcolor": "white",
          "plot_bgcolor": "#E5ECF6",
          "polar": {
           "angularaxis": {
            "gridcolor": "white",
            "linecolor": "white",
            "ticks": ""
           },
           "bgcolor": "#E5ECF6",
           "radialaxis": {
            "gridcolor": "white",
            "linecolor": "white",
            "ticks": ""
           }
          },
          "scene": {
           "xaxis": {
            "backgroundcolor": "#E5ECF6",
            "gridcolor": "white",
            "gridwidth": 2,
            "linecolor": "white",
            "showbackground": true,
            "ticks": "",
            "zerolinecolor": "white"
           },
           "yaxis": {
            "backgroundcolor": "#E5ECF6",
            "gridcolor": "white",
            "gridwidth": 2,
            "linecolor": "white",
            "showbackground": true,
            "ticks": "",
            "zerolinecolor": "white"
           },
           "zaxis": {
            "backgroundcolor": "#E5ECF6",
            "gridcolor": "white",
            "gridwidth": 2,
            "linecolor": "white",
            "showbackground": true,
            "ticks": "",
            "zerolinecolor": "white"
           }
          },
          "shapedefaults": {
           "line": {
            "color": "#2a3f5f"
           }
          },
          "ternary": {
           "aaxis": {
            "gridcolor": "white",
            "linecolor": "white",
            "ticks": ""
           },
           "baxis": {
            "gridcolor": "white",
            "linecolor": "white",
            "ticks": ""
           },
           "bgcolor": "#E5ECF6",
           "caxis": {
            "gridcolor": "white",
            "linecolor": "white",
            "ticks": ""
           }
          },
          "title": {
           "x": 0.05
          },
          "xaxis": {
           "automargin": true,
           "gridcolor": "white",
           "linecolor": "white",
           "ticks": "",
           "title": {
            "standoff": 15
           },
           "zerolinecolor": "white",
           "zerolinewidth": 2
          },
          "yaxis": {
           "automargin": true,
           "gridcolor": "white",
           "linecolor": "white",
           "ticks": "",
           "title": {
            "standoff": 15
           },
           "zerolinecolor": "white",
           "zerolinewidth": 2
          }
         }
        },
        "title": {
         "text": "Hatespeechvergleich je Partei und Themengebiet"
        },
        "xaxis": {
         "anchor": "y",
         "domain": [
          0,
          1
         ],
         "title": {
          "text": "Sentiment-positiv"
         },
         "type": "log"
        },
        "yaxis": {
         "anchor": "x",
         "domain": [
          0,
          1
         ],
         "title": {
          "text": "Sentiment-negativ"
         }
        }
       }
      }
     },
     "metadata": {},
     "output_type": "display_data"
    }
   ],
   "source": [
    "import plotly.express as px\n",
    "# Create the pandas DataFrame\n",
    "dffin = pd.DataFrame(findata, columns=['Partei','Topic','Hatespeech','Sentiment-positiv','Sentiment-negativ'])\n",
    "fig = px.scatter(dffin, x=\"Sentiment-positiv\", y=\"Sentiment-negativ\",\n",
    "\t         size=\"Hatespeech\", color=\"Partei\",\n",
    "                 hover_name=\"Topic\", log_x=True, size_max=60,\n",
    "                 title=\"Hatespeechvergleich je Partei und Themengebiet\")\n",
    "fig.write_html(\"Hatespeechvergleich-je-Partei-und-Themengebiet.html\",\n",
    "                full_html=False,\n",
    "                include_plotlyjs='cdn')\n",
    "fig.show()"
   ]
  },
  {
   "cell_type": "code",
   "execution_count": 620,
   "metadata": {},
   "outputs": [
    {
     "data": {
      "application/vnd.plotly.v1+json": {
       "config": {
        "plotlyServerURL": "https://plot.ly"
       },
       "data": [
        {
         "hovertemplate": "<b>%{hovertext}</b><br><br>Partei=AFD<br>Sentiment-positiv=%{x}<br>Sentiment-negativ=%{y}<br>Hatespeech=%{marker.size}<extra></extra>",
         "hovertext": [
          "AFD"
         ],
         "legendgroup": "AFD",
         "marker": {
          "color": "#636efa",
          "size": [
           0.00791825
          ],
          "sizemode": "area",
          "sizeref": 0.0000065346875,
          "symbol": "circle"
         },
         "mode": "markers",
         "name": "AFD",
         "orientation": "v",
         "showlegend": true,
         "type": "scatter",
         "x": [
          0.034964999999999996
         ],
         "xaxis": "x",
         "y": [
          0.1704885
         ],
         "yaxis": "y"
        },
        {
         "hovertemplate": "<b>%{hovertext}</b><br><br>Partei=CDU-CSU<br>Sentiment-positiv=%{x}<br>Sentiment-negativ=%{y}<br>Hatespeech=%{marker.size}<extra></extra>",
         "hovertext": [
          "CDU-CSU"
         ],
         "legendgroup": "CDU-CSU",
         "marker": {
          "color": "#EF553B",
          "size": [
           0.006605125
          ],
          "sizemode": "area",
          "sizeref": 0.0000065346875,
          "symbol": "circle"
         },
         "mode": "markers",
         "name": "CDU-CSU",
         "orientation": "v",
         "showlegend": true,
         "type": "scatter",
         "x": [
          0.10987175
         ],
         "xaxis": "x",
         "y": [
          0.086728875
         ],
         "yaxis": "y"
        },
        {
         "hovertemplate": "<b>%{hovertext}</b><br><br>Partei=FDP<br>Sentiment-positiv=%{x}<br>Sentiment-negativ=%{y}<br>Hatespeech=%{marker.size}<extra></extra>",
         "hovertext": [
          "FDP"
         ],
         "legendgroup": "FDP",
         "marker": {
          "color": "#00cc96",
          "size": [
           0.002419375
          ],
          "sizemode": "area",
          "sizeref": 0.0000065346875,
          "symbol": "circle"
         },
         "mode": "markers",
         "name": "FDP",
         "orientation": "v",
         "showlegend": true,
         "type": "scatter",
         "x": [
          0.070070375
         ],
         "xaxis": "x",
         "y": [
          0.100273
         ],
         "yaxis": "y"
        },
        {
         "hovertemplate": "<b>%{hovertext}</b><br><br>Partei=GRUENE<br>Sentiment-positiv=%{x}<br>Sentiment-negativ=%{y}<br>Hatespeech=%{marker.size}<extra></extra>",
         "hovertext": [
          "GRUENE"
         ],
         "legendgroup": "GRUENE",
         "marker": {
          "color": "#ab63fa",
          "size": [
           0.023524875
          ],
          "sizemode": "area",
          "sizeref": 0.0000065346875,
          "symbol": "circle"
         },
         "mode": "markers",
         "name": "GRUENE",
         "orientation": "v",
         "showlegend": true,
         "type": "scatter",
         "x": [
          0.05360625
         ],
         "xaxis": "x",
         "y": [
          0.1231015
         ],
         "yaxis": "y"
        },
        {
         "hovertemplate": "<b>%{hovertext}</b><br><br>Partei=LINKE<br>Sentiment-positiv=%{x}<br>Sentiment-negativ=%{y}<br>Hatespeech=%{marker.size}<extra></extra>",
         "hovertext": [
          "LINKE"
         ],
         "legendgroup": "LINKE",
         "marker": {
          "color": "#FFA15A",
          "size": [
           0.01272475
          ],
          "sizemode": "area",
          "sizeref": 0.0000065346875,
          "symbol": "circle"
         },
         "mode": "markers",
         "name": "LINKE",
         "orientation": "v",
         "showlegend": true,
         "type": "scatter",
         "x": [
          0.022505625
         ],
         "xaxis": "x",
         "y": [
          0.19590125
         ],
         "yaxis": "y"
        },
        {
         "hovertemplate": "<b>%{hovertext}</b><br><br>Partei=SPD<br>Sentiment-positiv=%{x}<br>Sentiment-negativ=%{y}<br>Hatespeech=%{marker.size}<extra></extra>",
         "hovertext": [
          "SPD"
         ],
         "legendgroup": "SPD",
         "marker": {
          "color": "#19d3f3",
          "size": [
           0.019246625
          ],
          "sizemode": "area",
          "sizeref": 0.0000065346875,
          "symbol": "circle"
         },
         "mode": "markers",
         "name": "SPD",
         "orientation": "v",
         "showlegend": true,
         "type": "scatter",
         "x": [
          0.09977925
         ],
         "xaxis": "x",
         "y": [
          0.10997375000000001
         ],
         "yaxis": "y"
        }
       ],
       "layout": {
        "legend": {
         "itemsizing": "constant",
         "title": {
          "text": "Partei"
         },
         "tracegroupgap": 0
        },
        "template": {
         "data": {
          "bar": [
           {
            "error_x": {
             "color": "#2a3f5f"
            },
            "error_y": {
             "color": "#2a3f5f"
            },
            "marker": {
             "line": {
              "color": "#E5ECF6",
              "width": 0.5
             },
             "pattern": {
              "fillmode": "overlay",
              "size": 10,
              "solidity": 0.2
             }
            },
            "type": "bar"
           }
          ],
          "barpolar": [
           {
            "marker": {
             "line": {
              "color": "#E5ECF6",
              "width": 0.5
             },
             "pattern": {
              "fillmode": "overlay",
              "size": 10,
              "solidity": 0.2
             }
            },
            "type": "barpolar"
           }
          ],
          "carpet": [
           {
            "aaxis": {
             "endlinecolor": "#2a3f5f",
             "gridcolor": "white",
             "linecolor": "white",
             "minorgridcolor": "white",
             "startlinecolor": "#2a3f5f"
            },
            "baxis": {
             "endlinecolor": "#2a3f5f",
             "gridcolor": "white",
             "linecolor": "white",
             "minorgridcolor": "white",
             "startlinecolor": "#2a3f5f"
            },
            "type": "carpet"
           }
          ],
          "choropleth": [
           {
            "colorbar": {
             "outlinewidth": 0,
             "ticks": ""
            },
            "type": "choropleth"
           }
          ],
          "contour": [
           {
            "colorbar": {
             "outlinewidth": 0,
             "ticks": ""
            },
            "colorscale": [
             [
              0,
              "#0d0887"
             ],
             [
              0.1111111111111111,
              "#46039f"
             ],
             [
              0.2222222222222222,
              "#7201a8"
             ],
             [
              0.3333333333333333,
              "#9c179e"
             ],
             [
              0.4444444444444444,
              "#bd3786"
             ],
             [
              0.5555555555555556,
              "#d8576b"
             ],
             [
              0.6666666666666666,
              "#ed7953"
             ],
             [
              0.7777777777777778,
              "#fb9f3a"
             ],
             [
              0.8888888888888888,
              "#fdca26"
             ],
             [
              1,
              "#f0f921"
             ]
            ],
            "type": "contour"
           }
          ],
          "contourcarpet": [
           {
            "colorbar": {
             "outlinewidth": 0,
             "ticks": ""
            },
            "type": "contourcarpet"
           }
          ],
          "heatmap": [
           {
            "colorbar": {
             "outlinewidth": 0,
             "ticks": ""
            },
            "colorscale": [
             [
              0,
              "#0d0887"
             ],
             [
              0.1111111111111111,
              "#46039f"
             ],
             [
              0.2222222222222222,
              "#7201a8"
             ],
             [
              0.3333333333333333,
              "#9c179e"
             ],
             [
              0.4444444444444444,
              "#bd3786"
             ],
             [
              0.5555555555555556,
              "#d8576b"
             ],
             [
              0.6666666666666666,
              "#ed7953"
             ],
             [
              0.7777777777777778,
              "#fb9f3a"
             ],
             [
              0.8888888888888888,
              "#fdca26"
             ],
             [
              1,
              "#f0f921"
             ]
            ],
            "type": "heatmap"
           }
          ],
          "heatmapgl": [
           {
            "colorbar": {
             "outlinewidth": 0,
             "ticks": ""
            },
            "colorscale": [
             [
              0,
              "#0d0887"
             ],
             [
              0.1111111111111111,
              "#46039f"
             ],
             [
              0.2222222222222222,
              "#7201a8"
             ],
             [
              0.3333333333333333,
              "#9c179e"
             ],
             [
              0.4444444444444444,
              "#bd3786"
             ],
             [
              0.5555555555555556,
              "#d8576b"
             ],
             [
              0.6666666666666666,
              "#ed7953"
             ],
             [
              0.7777777777777778,
              "#fb9f3a"
             ],
             [
              0.8888888888888888,
              "#fdca26"
             ],
             [
              1,
              "#f0f921"
             ]
            ],
            "type": "heatmapgl"
           }
          ],
          "histogram": [
           {
            "marker": {
             "pattern": {
              "fillmode": "overlay",
              "size": 10,
              "solidity": 0.2
             }
            },
            "type": "histogram"
           }
          ],
          "histogram2d": [
           {
            "colorbar": {
             "outlinewidth": 0,
             "ticks": ""
            },
            "colorscale": [
             [
              0,
              "#0d0887"
             ],
             [
              0.1111111111111111,
              "#46039f"
             ],
             [
              0.2222222222222222,
              "#7201a8"
             ],
             [
              0.3333333333333333,
              "#9c179e"
             ],
             [
              0.4444444444444444,
              "#bd3786"
             ],
             [
              0.5555555555555556,
              "#d8576b"
             ],
             [
              0.6666666666666666,
              "#ed7953"
             ],
             [
              0.7777777777777778,
              "#fb9f3a"
             ],
             [
              0.8888888888888888,
              "#fdca26"
             ],
             [
              1,
              "#f0f921"
             ]
            ],
            "type": "histogram2d"
           }
          ],
          "histogram2dcontour": [
           {
            "colorbar": {
             "outlinewidth": 0,
             "ticks": ""
            },
            "colorscale": [
             [
              0,
              "#0d0887"
             ],
             [
              0.1111111111111111,
              "#46039f"
             ],
             [
              0.2222222222222222,
              "#7201a8"
             ],
             [
              0.3333333333333333,
              "#9c179e"
             ],
             [
              0.4444444444444444,
              "#bd3786"
             ],
             [
              0.5555555555555556,
              "#d8576b"
             ],
             [
              0.6666666666666666,
              "#ed7953"
             ],
             [
              0.7777777777777778,
              "#fb9f3a"
             ],
             [
              0.8888888888888888,
              "#fdca26"
             ],
             [
              1,
              "#f0f921"
             ]
            ],
            "type": "histogram2dcontour"
           }
          ],
          "mesh3d": [
           {
            "colorbar": {
             "outlinewidth": 0,
             "ticks": ""
            },
            "type": "mesh3d"
           }
          ],
          "parcoords": [
           {
            "line": {
             "colorbar": {
              "outlinewidth": 0,
              "ticks": ""
             }
            },
            "type": "parcoords"
           }
          ],
          "pie": [
           {
            "automargin": true,
            "type": "pie"
           }
          ],
          "scatter": [
           {
            "fillpattern": {
             "fillmode": "overlay",
             "size": 10,
             "solidity": 0.2
            },
            "type": "scatter"
           }
          ],
          "scatter3d": [
           {
            "line": {
             "colorbar": {
              "outlinewidth": 0,
              "ticks": ""
             }
            },
            "marker": {
             "colorbar": {
              "outlinewidth": 0,
              "ticks": ""
             }
            },
            "type": "scatter3d"
           }
          ],
          "scattercarpet": [
           {
            "marker": {
             "colorbar": {
              "outlinewidth": 0,
              "ticks": ""
             }
            },
            "type": "scattercarpet"
           }
          ],
          "scattergeo": [
           {
            "marker": {
             "colorbar": {
              "outlinewidth": 0,
              "ticks": ""
             }
            },
            "type": "scattergeo"
           }
          ],
          "scattergl": [
           {
            "marker": {
             "colorbar": {
              "outlinewidth": 0,
              "ticks": ""
             }
            },
            "type": "scattergl"
           }
          ],
          "scattermapbox": [
           {
            "marker": {
             "colorbar": {
              "outlinewidth": 0,
              "ticks": ""
             }
            },
            "type": "scattermapbox"
           }
          ],
          "scatterpolar": [
           {
            "marker": {
             "colorbar": {
              "outlinewidth": 0,
              "ticks": ""
             }
            },
            "type": "scatterpolar"
           }
          ],
          "scatterpolargl": [
           {
            "marker": {
             "colorbar": {
              "outlinewidth": 0,
              "ticks": ""
             }
            },
            "type": "scatterpolargl"
           }
          ],
          "scatterternary": [
           {
            "marker": {
             "colorbar": {
              "outlinewidth": 0,
              "ticks": ""
             }
            },
            "type": "scatterternary"
           }
          ],
          "surface": [
           {
            "colorbar": {
             "outlinewidth": 0,
             "ticks": ""
            },
            "colorscale": [
             [
              0,
              "#0d0887"
             ],
             [
              0.1111111111111111,
              "#46039f"
             ],
             [
              0.2222222222222222,
              "#7201a8"
             ],
             [
              0.3333333333333333,
              "#9c179e"
             ],
             [
              0.4444444444444444,
              "#bd3786"
             ],
             [
              0.5555555555555556,
              "#d8576b"
             ],
             [
              0.6666666666666666,
              "#ed7953"
             ],
             [
              0.7777777777777778,
              "#fb9f3a"
             ],
             [
              0.8888888888888888,
              "#fdca26"
             ],
             [
              1,
              "#f0f921"
             ]
            ],
            "type": "surface"
           }
          ],
          "table": [
           {
            "cells": {
             "fill": {
              "color": "#EBF0F8"
             },
             "line": {
              "color": "white"
             }
            },
            "header": {
             "fill": {
              "color": "#C8D4E3"
             },
             "line": {
              "color": "white"
             }
            },
            "type": "table"
           }
          ]
         },
         "layout": {
          "annotationdefaults": {
           "arrowcolor": "#2a3f5f",
           "arrowhead": 0,
           "arrowwidth": 1
          },
          "autotypenumbers": "strict",
          "coloraxis": {
           "colorbar": {
            "outlinewidth": 0,
            "ticks": ""
           }
          },
          "colorscale": {
           "diverging": [
            [
             0,
             "#8e0152"
            ],
            [
             0.1,
             "#c51b7d"
            ],
            [
             0.2,
             "#de77ae"
            ],
            [
             0.3,
             "#f1b6da"
            ],
            [
             0.4,
             "#fde0ef"
            ],
            [
             0.5,
             "#f7f7f7"
            ],
            [
             0.6,
             "#e6f5d0"
            ],
            [
             0.7,
             "#b8e186"
            ],
            [
             0.8,
             "#7fbc41"
            ],
            [
             0.9,
             "#4d9221"
            ],
            [
             1,
             "#276419"
            ]
           ],
           "sequential": [
            [
             0,
             "#0d0887"
            ],
            [
             0.1111111111111111,
             "#46039f"
            ],
            [
             0.2222222222222222,
             "#7201a8"
            ],
            [
             0.3333333333333333,
             "#9c179e"
            ],
            [
             0.4444444444444444,
             "#bd3786"
            ],
            [
             0.5555555555555556,
             "#d8576b"
            ],
            [
             0.6666666666666666,
             "#ed7953"
            ],
            [
             0.7777777777777778,
             "#fb9f3a"
            ],
            [
             0.8888888888888888,
             "#fdca26"
            ],
            [
             1,
             "#f0f921"
            ]
           ],
           "sequentialminus": [
            [
             0,
             "#0d0887"
            ],
            [
             0.1111111111111111,
             "#46039f"
            ],
            [
             0.2222222222222222,
             "#7201a8"
            ],
            [
             0.3333333333333333,
             "#9c179e"
            ],
            [
             0.4444444444444444,
             "#bd3786"
            ],
            [
             0.5555555555555556,
             "#d8576b"
            ],
            [
             0.6666666666666666,
             "#ed7953"
            ],
            [
             0.7777777777777778,
             "#fb9f3a"
            ],
            [
             0.8888888888888888,
             "#fdca26"
            ],
            [
             1,
             "#f0f921"
            ]
           ]
          },
          "colorway": [
           "#636efa",
           "#EF553B",
           "#00cc96",
           "#ab63fa",
           "#FFA15A",
           "#19d3f3",
           "#FF6692",
           "#B6E880",
           "#FF97FF",
           "#FECB52"
          ],
          "font": {
           "color": "#2a3f5f"
          },
          "geo": {
           "bgcolor": "white",
           "lakecolor": "white",
           "landcolor": "#E5ECF6",
           "showlakes": true,
           "showland": true,
           "subunitcolor": "white"
          },
          "hoverlabel": {
           "align": "left"
          },
          "hovermode": "closest",
          "mapbox": {
           "style": "light"
          },
          "paper_bgcolor": "white",
          "plot_bgcolor": "#E5ECF6",
          "polar": {
           "angularaxis": {
            "gridcolor": "white",
            "linecolor": "white",
            "ticks": ""
           },
           "bgcolor": "#E5ECF6",
           "radialaxis": {
            "gridcolor": "white",
            "linecolor": "white",
            "ticks": ""
           }
          },
          "scene": {
           "xaxis": {
            "backgroundcolor": "#E5ECF6",
            "gridcolor": "white",
            "gridwidth": 2,
            "linecolor": "white",
            "showbackground": true,
            "ticks": "",
            "zerolinecolor": "white"
           },
           "yaxis": {
            "backgroundcolor": "#E5ECF6",
            "gridcolor": "white",
            "gridwidth": 2,
            "linecolor": "white",
            "showbackground": true,
            "ticks": "",
            "zerolinecolor": "white"
           },
           "zaxis": {
            "backgroundcolor": "#E5ECF6",
            "gridcolor": "white",
            "gridwidth": 2,
            "linecolor": "white",
            "showbackground": true,
            "ticks": "",
            "zerolinecolor": "white"
           }
          },
          "shapedefaults": {
           "line": {
            "color": "#2a3f5f"
           }
          },
          "ternary": {
           "aaxis": {
            "gridcolor": "white",
            "linecolor": "white",
            "ticks": ""
           },
           "baxis": {
            "gridcolor": "white",
            "linecolor": "white",
            "ticks": ""
           },
           "bgcolor": "#E5ECF6",
           "caxis": {
            "gridcolor": "white",
            "linecolor": "white",
            "ticks": ""
           }
          },
          "title": {
           "x": 0.05
          },
          "xaxis": {
           "automargin": true,
           "gridcolor": "white",
           "linecolor": "white",
           "ticks": "",
           "title": {
            "standoff": 15
           },
           "zerolinecolor": "white",
           "zerolinewidth": 2
          },
          "yaxis": {
           "automargin": true,
           "gridcolor": "white",
           "linecolor": "white",
           "ticks": "",
           "title": {
            "standoff": 15
           },
           "zerolinecolor": "white",
           "zerolinewidth": 2
          }
         }
        },
        "title": {
         "text": "Hatespeechvergleich je Partei"
        },
        "xaxis": {
         "anchor": "y",
         "domain": [
          0,
          1
         ],
         "title": {
          "text": "Sentiment-positiv"
         },
         "type": "log"
        },
        "yaxis": {
         "anchor": "x",
         "domain": [
          0,
          1
         ],
         "title": {
          "text": "Sentiment-negativ"
         }
        }
       }
      }
     },
     "metadata": {},
     "output_type": "display_data"
    }
   ],
   "source": [
    "# Create the pandas DataFrame\n",
    "dffinoTpre = pd.DataFrame(getfindataohneSWert(), columns=['Partei','Topic','Hatespeech','Sentiment-positiv','Sentiment-negativ'])\n",
    "dffinoT = dffinoTpre.groupby([\"Partei\"], as_index=False)[[\"Hatespeech\",\"Sentiment-positiv\",\"Sentiment-negativ\"]].mean()\n",
    "fig = px.scatter(dffinoT, x=\"Sentiment-positiv\", y=\"Sentiment-negativ\",\n",
    "\t            size=\"Hatespeech\", color=\"Partei\",\n",
    "                 hover_name=\"Partei\", log_x=True, size_max=60,\n",
    "                 title=\"Hatespeechvergleich je Partei\")\n",
    "fig.write_html(\"Hatespeechvergleich-je-Partei.html\",\n",
    "                full_html=False,\n",
    "                include_plotlyjs='cdn')\n",
    "fig.show()\n"
   ]
  },
  {
   "cell_type": "code",
   "execution_count": 621,
   "metadata": {},
   "outputs": [],
   "source": [
    "def returnthemdistrplot(inputdf,namestr):\n",
    "    hd=getthemelist(inputdf)\n",
    "    barlabelspre=hd[0]\n",
    "    barvalspre=hd[1]\n",
    "    #themensortierung\n",
    "    themrf=['politik und ideologie', 'wirtschaft', 'bildung', 'gesundheit', 'soziale ursachen', 'klima', 'infrastruktur', 'wissenschaft']\n",
    "    barvals=[]\n",
    "    for i in themrf:\n",
    "        barvals+=[round(barvalspre[barlabelspre.index(i)], 4)]\n",
    "    fig, ax = plt.subplots()\n",
    "    plt.bar(themrf,barvals,label=\"Themen\")\n",
    "    plt.title(\"Themenverteilung im Wahlprogramm - \"+namestr)\n",
    "    plt.ylabel(\"relativer Anteil\")\n",
    "    plt.xticks(rotation=90)\n",
    "    plt.tight_layout()\n",
    "    #plt.savefig('Themenverteilung-im-Wahlprogramm-'+ namestr+\".png\")\n",
    "    #plt.show()\n",
    "    return fig\n",
    "\n",
    "def getchart(partei):\n",
    "    partrf=[\"AFD\",\"CDU-CSU\",\"GRUENE\",\"LINKE\",\"FDP\",\"SPD\"]\n",
    "    hatelist=[\"AFD_Wahlprogramm_2021_hatefin.csv\",\"CDU-CSU_Wahlprogramm_2021_hatefin.csv\",\"DIE_GRUENEN_Wahlprogramm_2021_hatefin.csv\",\"DIE_LINKE_Wahlprogramm_2021_hatefin.csv\",\"FDP_Wahlprogramm_2021_hatefin.csv\",\"SPD_Wahlprogramm_2021_hatefin.csv\"]\n",
    "    sentimentlist=[\"AFD_Wahlprogramm_2021_sentimentfin.csv\",\"CDU-CSU_Wahlprogramm_2021_sentimentfin.csv\",\"DIE_GRUENEN_Wahlprogramm_2021_sentimentfin.csv\",\"DIE_LINKE_Wahlprogramm_2021_sentimentfin.csv\",\"FDP_Wahlprogramm_2021_sentimentfin.csv\",\"SPD_Wahlprogramm_2021_sentimentfin.csv\"]\n",
    "    topicpredlist=[\"AFD_Wahlprogramm_2021_topicpred_valhallafin.csv\",\"CDU-CSU_Wahlprogramm_2021_topicpred_valhallafin.csv\",\"DIE_GRUENEN_Wahlprogramm_2021_topicpred_valhallafin.csv\",\"DIE_LINKE_Wahlprogramm_2021_topicpred_valhallafin.csv\",\"FDP_Wahlprogramm_2021_topicpred_valhallafin.csv\",\"SPD_Wahlprogramm_2021_topicpred_valhallafin.csv\"]\n",
    "    if partei==partrf[0]:\n",
    "        i=0\n",
    "        return returnthemdistrplot(topicdflist[i],partrf[i])\n",
    "    if partei==partrf[1]:\n",
    "        i=1\n",
    "        return returnthemdistrplot(topicdflist[i],partrf[i])\n",
    "    if partei==partrf[2]:\n",
    "        i=2\n",
    "        return returnthemdistrplot(topicdflist[i],partrf[i])\n",
    "    if partei==partrf[3]:\n",
    "        i=3\n",
    "        return returnthemdistrplot(topicdflist[i],partrf[i])\n",
    "    if partei==partrf[4]:\n",
    "        i=4\n",
    "        return returnthemdistrplot(topicdflist[i],partrf[i])\n",
    "    if partei==partrf[5]:\n",
    "        i=5\n",
    "        return returnthemdistrplot(topicdflist[i],partrf[i])\n",
    "\n",
    "def gethatechart(partei): #hatespeechthemenverteilung von parteien\n",
    "    partrf=[\"AFD\",\"CDU-CSU\",\"GRUENE\",\"LINKE\",\"FDP\",\"SPD\"]\n",
    "    hatelist=[\"AFD_Wahlprogramm_2021_hatefin.csv\",\"CDU-CSU_Wahlprogramm_2021_hatefin.csv\",\"DIE_GRUENEN_Wahlprogramm_2021_hatefin.csv\",\"DIE_LINKE_Wahlprogramm_2021_hatefin.csv\",\"FDP_Wahlprogramm_2021_hatefin.csv\",\"SPD_Wahlprogramm_2021_hatefin.csv\"]\n",
    "    sentimentlist=[\"AFD_Wahlprogramm_2021_sentimentfin.csv\",\"CDU-CSU_Wahlprogramm_2021_sentimentfin.csv\",\"DIE_GRUENEN_Wahlprogramm_2021_sentimentfin.csv\",\"DIE_LINKE_Wahlprogramm_2021_sentimentfin.csv\",\"FDP_Wahlprogramm_2021_sentimentfin.csv\",\"SPD_Wahlprogramm_2021_sentimentfin.csv\"]\n",
    "    topicpredlist=[\"AFD_Wahlprogramm_2021_topicpred_valhallafin.csv\",\"CDU-CSU_Wahlprogramm_2021_topicpred_valhallafin.csv\",\"DIE_GRUENEN_Wahlprogramm_2021_topicpred_valhallafin.csv\",\"DIE_LINKE_Wahlprogramm_2021_topicpred_valhallafin.csv\",\"FDP_Wahlprogramm_2021_topicpred_valhallafin.csv\",\"SPD_Wahlprogramm_2021_topicpred_valhallafin.csv\"]\n",
    "    if partei==partrf[0]:\n",
    "        i=0\n",
    "        hatei=pd.read_csv(hatelist[i], sep=\";\")\n",
    "        hate=hatei.drop(columns = hatei.columns[0], axis = 1, inplace= True)\n",
    "        return returnthemdistrplot(gethatethemedistrdf(topichatedflist[i]),partrf[i])\n",
    "    if partei==partrf[1]:\n",
    "        i=1\n",
    "        return returnthemdistrplot(gethatethemedistrdf(topichatedflist[i]),partrf[i])\n",
    "    if partei==partrf[2]:\n",
    "        i=2\n",
    "        return returnthemdistrplot(gethatethemedistrdf(topichatedflist[i]),partrf[i])\n",
    "    if partei==partrf[3]:\n",
    "        i=3\n",
    "        return returnthemdistrplot(gethatethemedistrdf(topichatedflist[i]),partrf[i])\n",
    "    if partei==partrf[4]:\n",
    "        i=4\n",
    "        return returnthemdistrplot(gethatethemedistrdf(topichatedflist[i]),partrf[i])\n",
    "    if partei==partrf[5]:\n",
    "        i=5\n",
    "        return returnthemdistrplot(gethatethemedistrdf(topichatedflist[i]),partrf[i])\n",
    "\n"
   ]
  },
  {
   "cell_type": "code",
   "execution_count": 622,
   "metadata": {},
   "outputs": [],
   "source": [
    "#getchart(\"AFD\").show()\n",
    "#gethatechart(\"AFD\").show()"
   ]
  },
  {
   "attachments": {},
   "cell_type": "markdown",
   "metadata": {},
   "source": [
    "# Wichtig für Constantin"
   ]
  },
  {
   "cell_type": "code",
   "execution_count": 623,
   "metadata": {},
   "outputs": [],
   "source": [
    "#Ignorieren\n",
    "def gettopicpredlistold():\n",
    "    topicdflist=[]\n",
    "    partrf=[\"AFD\",\"CDU-CSU\",\"GRUENE\",\"LINKE\",\"FDP\",\"SPD\"]\n",
    "    topicpredlist=[\"AFD_Wahlprogramm_2021_topicpred_valhallafin.csv\",\n",
    "                \"CDU-CSU_Wahlprogramm_2021_topicpred_valhallafin.csv\",\n",
    "                \"DIE_GRUENEN_Wahlprogramm_2021_topicpred_valhallafin.csv\",\n",
    "                \"DIE_LINKE_Wahlprogramm_2021_topicpred_valhallafin.csv\",\n",
    "                \"FDP_Wahlprogramm_2021_topicpred_valhallafin.csv\",\n",
    "                \"SPD_Wahlprogramm_2021_topicpred_valhallafin.csv\"]\n",
    "    for i in topicpredlist:\n",
    "        topicdflist+=[pd.read_csv(i, sep=\";\")]\n",
    "    for i in topicdflist:\n",
    "        i.drop(columns = i.columns[0], axis = 1, inplace= True)\n",
    "        i.drop(columns = i.columns[1], axis = 1, inplace= True)\n",
    "        i.drop(columns = i.columns[1], axis = 1, inplace= True)\n",
    "        i.drop(columns = i.columns[0], axis = 1, inplace= True)\n",
    "    #clean up topicdflist\n",
    "    for i in topicdflist:\n",
    "        for h in i[\"Top 3\"].index:\n",
    "            prer1=i[\"Top 3\"][h].split(', ')\n",
    "            prer2=[]\n",
    "            for k in prer1:\n",
    "                prer2+=[k.strip(\"]['()\")]\n",
    "            prer3=[[prer2[0],prer2[1]],[prer2[2],prer2[3]],[prer2[4],prer2[5]]]\n",
    "            i[\"Top 3\"][h]=prer3\n",
    "    return topicdflist"
   ]
  },
  {
   "cell_type": "code",
   "execution_count": 624,
   "metadata": {},
   "outputs": [
    {
     "name": "stdout",
     "output_type": "stream",
     "text": [
      "Processing file: AFD_Wahlprogramm_2021_hate.csv\n",
      "Processing file: AFD_Wahlprogramm_2021_sentiment.csv\n",
      "Processing file: AFD_Wahlprogramm_2021_topicpred_valhalla.csv\n",
      "Processing file: AFD_Wahlprogramm_2021_topic_class.csv\n",
      "Processing file: CDU-CSU_Wahlprogramm_2021_hate.csv\n",
      "Processing file: CDU-CSU_Wahlprogramm_2021_sentiment.csv\n",
      "Processing file: CDU-CSU_Wahlprogramm_2021_topicpred_valhalla.csv\n",
      "Processing file: CDU-CSU_Wahlprogramm_2021_topic_class.csv\n",
      "Processing file: DIE_GRUENEN_Wahlprogramm_2021_hate.csv\n",
      "Processing file: DIE_GRUENEN_Wahlprogramm_2021_sentiment.csv\n",
      "Processing file: DIE_GRUENEN_Wahlprogramm_2021_topicpred_valhalla.csv\n",
      "Processing file: DIE_GRUENEN_Wahlprogramm_2021_topic_class.csv\n",
      "Processing file: DIE_LINKE_Wahlprogramm_2021_hate.csv\n",
      "Processing file: DIE_LINKE_Wahlprogramm_2021_sentiment.csv\n",
      "Processing file: DIE_LINKE_Wahlprogramm_2021_topicpred_valhalla.csv\n",
      "Processing file: DIE_LINKE_Wahlprogramm_2021_topic_class.csv\n",
      "Processing file: FDP_Wahlprogramm_2021_hate.csv\n",
      "Processing file: FDP_Wahlprogramm_2021_sentiment.csv\n",
      "Processing file: FDP_Wahlprogramm_2021_topicpred_valhalla.csv\n",
      "Processing file: FDP_Wahlprogramm_2021_topic_class.csv\n",
      "Processing file: SPD_Wahlprogramm_2021_hate.csv\n",
      "Processing file: SPD_Wahlprogramm_2021_sentiment.csv\n",
      "Processing file: SPD_Wahlprogramm_2021_topicpred_valhalla.csv\n",
      "Processing file: SPD_Wahlprogramm_2021_topic_class.csv\n"
     ]
    }
   ],
   "source": [
    "import os\n",
    "def format_data(input_dir):\n",
    "    ### Iteriere über Ordner und prozessiere alle Dateien mit \"Wahlprogramm\" im Namen\n",
    "    for filename in os.listdir(input_dir):\n",
    "        if \"programm\" in filename and \"fin\" not in filename and \".csv\" in filename:\n",
    "            print(f\"Processing file: {filename}\")\n",
    "            \n",
    "            ### Prozessierung\n",
    "            with open(filename, \"r\", encoding=\"utf8\") as file:\n",
    "                filedata = file.read()\n",
    "                filedata = filedata.replace(';', ' -')\n",
    "                filedata = filedata.replace('§', ';')\n",
    "            ### Speichern in separate .csv file\n",
    "            with open(filename[:-4]+\"fin\"+\".csv\", 'w', encoding=\"utf8\") as file:\n",
    "                file.write(filedata)\n",
    "        else:\n",
    "            continue\n",
    "format_data(\"B:\\\\Unizeugs\\\\NLPProjekt\\\\NLP\\\\DBVis\\\\\")#Pfadanpassung notwendig"
   ]
  },
  {
   "cell_type": "code",
   "execution_count": 625,
   "metadata": {},
   "outputs": [],
   "source": [
    "import plotly.express as px\n",
    "def gettopicpredlistvalhalla():\n",
    "    topicdflist=[]\n",
    "    partrf=[\"AFD\",\"CDU-CSU\",\"GRUENE\",\"LINKE\",\"FDP\",\"SPD\"]\n",
    "    topicpredlist=[\"AFD_Wahlprogramm_2021_topicpred_valhallafin.csv\",\n",
    "                \"CDU-CSU_Wahlprogramm_2021_topicpred_valhallafin.csv\",\n",
    "                \"DIE_GRUENEN_Wahlprogramm_2021_topicpred_valhallafin.csv\",\n",
    "                \"DIE_LINKE_Wahlprogramm_2021_topicpred_valhallafin.csv\",\n",
    "                \"FDP_Wahlprogramm_2021_topicpred_valhallafin.csv\",\n",
    "                \"SPD_Wahlprogramm_2021_topicpred_valhallafin.csv\"]\n",
    "    for i in topicpredlist:\n",
    "        topicdflist+=[pd.read_csv(i, sep=\";\")]\n",
    "    for i in topicdflist:\n",
    "        i.drop(columns = i.columns[0], axis = 1, inplace= True)\n",
    "        i.drop(columns = i.columns[0], axis = 1, inplace= True)\n",
    "        i.drop(columns = i.columns[1], axis = 1, inplace= True)\n",
    "        i.drop(columns = i.columns[1], axis = 1, inplace= True)\n",
    "    return topicdflist\n",
    "\n",
    "def gettopicpredlisttopic_class():\n",
    "    topicdflist=[]\n",
    "    partrf=[\"AFD\",\"CDU-CSU\",\"GRUENE\",\"LINKE\",\"FDP\",\"SPD\"]\n",
    "    topicpredlist=[\"AFD_Wahlprogramm_2021_topic_classfin.csv\",\n",
    "                \"CDU-CSU_Wahlprogramm_2021_topic_classfin.csv\",\n",
    "                \"DIE_GRUENEN_Wahlprogramm_2021_topic_classfin.csv\",\n",
    "                \"DIE_LINKE_Wahlprogramm_2021_topic_classfin.csv\",\n",
    "                \"FDP_Wahlprogramm_2021_topic_classfin.csv\",\n",
    "                \"SPD_Wahlprogramm_2021_topic_classfin.csv\"]\n",
    "    for i in topicpredlist:\n",
    "        topicdflist+=[pd.read_csv(i, sep=\";\")]\n",
    "    for i in range(len(topicdflist)):\n",
    "        topicdflist[i].drop(columns = topicdflist[i].columns[0], axis = 1, inplace= True)\n",
    "        topicdflist[i].drop(columns = topicdflist[i].columns[0], axis = 1, inplace= True)\n",
    "        topicdflist[i] = topicdflist[i].rename(columns={'topic': 'labels'})\n",
    "    return topicdflist"
   ]
  },
  {
   "cell_type": "code",
   "execution_count": 626,
   "metadata": {},
   "outputs": [],
   "source": [
    "def getfindfohneSWert(topicsys):#create merged df für barabbildung ohne topicseparierung\n",
    "    if topicsys==\"valhalla\":\n",
    "        df3l=gettopicpredlistvalhalla()\n",
    "    elif topicsys==\"topic_class\":\n",
    "        df3l=gettopicpredlisttopic_class()\n",
    "    partrf=[\"AFD\",\"CDU-CSU\",\"GRUENE\",\"LINKE\",\"FDP\",\"SPD\"]\n",
    "    dfges=[]\n",
    "    for i in range(len(df3l)):\n",
    "        dfges+=[df3l[i]]\n",
    "\n",
    "    #drop lines with \"none\" as \"labels\"\n",
    "    for i in range(len(dfges)):\n",
    "        dfges[i]=dfges[i][dfges[i][\"labels\"]!=\"none\"].reset_index()\n",
    "\n",
    "    #Erstellung finales df\n",
    "    findata=[]\n",
    "    for i in range(len(dfges)):\n",
    "        for j in dfges[i][\"labels\"].unique(): #Partei, Thema, Themenanteil, Hateanteil, Sentimentpositivanteil, Sentimentnegativanteil, Sentimentneutralanteil\n",
    "            #print(dfges[i][dfges[i][\"Top 3\"]==j])\n",
    "            findata+=   [[partrf[i], \n",
    "                        j, \n",
    "                        round(dfges[i][dfges[i][\"labels\"]==j][\"labels\"].count(),6)]]\n",
    "    result = pd.DataFrame(findata, columns=['Partei','Topic','Score'])\n",
    "    #Generierung Prozentualer Anteile\n",
    "    return result"
   ]
  },
  {
   "cell_type": "code",
   "execution_count": 627,
   "metadata": {},
   "outputs": [],
   "source": [
    "def makecsv(df, name):\n",
    "    df.to_csv(name, sep=\";\")"
   ]
  },
  {
   "cell_type": "code",
   "execution_count": 628,
   "metadata": {},
   "outputs": [],
   "source": [
    "makecsv(getfindfohneSWert(\"valhalla\"), \"aggrvalhallatopicdata.csv\") #fällt weg wegen valhalla\n",
    "makecsv(getfindfohneSWert(\"topic_class\"), \"aggrtopic_classtopicdata.csv\")"
   ]
  },
  {
   "cell_type": "code",
   "execution_count": 629,
   "metadata": {},
   "outputs": [],
   "source": [
    "def getreltopicscore(inputdf):\n",
    "    inputdf[\"Anteil\"]=0\n",
    "    for i in inputdf[\"Topic\"].unique():\n",
    "        for j in inputdf[inputdf[\"Topic\"]==i].index:\n",
    "            inputdf[\"Anteil\"][j] = round(inputdf[\"Score\"][j]/inputdf[inputdf[\"Topic\"]==i][\"Score\"].sum(), 4)\n",
    "    return inputdf\n",
    "\n",
    "def getbarchalleparteienvalhalla(): #fällt weg wegen valhalla\n",
    "    data=pd.read_csv(\"aggrvalhallatopicdata.csv\", sep=\";\")\n",
    "    data=getreltopicscore(data).copy()\n",
    "    fig = px.bar(data, x='Topic', y='Score', color=\"Partei\", text=\"Anteil\", title=\"Topicverteilung für alle Parteien (Valhalla)\")\n",
    "    return fig\n",
    "\n",
    "def getbarcheinzelparteivalhalla(partei):#[\"AFD\",\"CDU-CSU\",\"GRUENE\",\"LINKE\",\"FDP\",\"SPD\"] #fällt weg wegen valhalla\n",
    "    datapre=pd.read_csv(\"aggrvalhallatopicdata.csv\", sep=\";\")\n",
    "    data=datapre[datapre[\"Partei\"]==partei].copy()\n",
    "    fig = px.bar(data, x='Topic', y='Score', text=\"Score\", title=\"Topicverteilung für die \"+partei+\" (Valhalla)\")\n",
    "    return fig\n",
    "\n",
    "def getbarchalleparteientopic_class():\n",
    "    data=pd.read_csv(\"aggrtopic_classtopicdata.csv\", sep=\";\")\n",
    "    data=getreltopicscore(data).copy()\n",
    "    fig = px.bar(data, x='Topic', y='Score', color=\"Partei\", text=\"Anteil\", title=\"Topicverteilung für alle Parteien (topic_class)\")\n",
    "    return fig\n",
    "\n",
    "def getbarcheinzelparteitopic_class(partei):#[\"AFD\",\"CDU-CSU\",\"GRUENE\",\"LINKE\",\"FDP\",\"SPD\"]\n",
    "    datapre=pd.read_csv(\"aggrtopic_classtopicdata.csv\", sep=\";\")\n",
    "    data=datapre[datapre[\"Partei\"]==partei].copy()\n",
    "    fig = px.bar(data, x='Topic', y='Score', text=\"Score\", title=\"Topicverteilung für die \"+partei+\" (topic_class)\")\n",
    "    return fig"
   ]
  },
  {
   "cell_type": "code",
   "execution_count": 630,
   "metadata": {},
   "outputs": [
    {
     "name": "stderr",
     "output_type": "stream",
     "text": [
      "C:\\Users\\JDari\\AppData\\Local\\Temp\\ipykernel_8432\\2806428116.py:5: SettingWithCopyWarning:\n",
      "\n",
      "\n",
      "A value is trying to be set on a copy of a slice from a DataFrame\n",
      "\n",
      "See the caveats in the documentation: https://pandas.pydata.org/pandas-docs/stable/user_guide/indexing.html#returning-a-view-versus-a-copy\n",
      "\n"
     ]
    },
    {
     "data": {
      "application/vnd.plotly.v1+json": {
       "config": {
        "plotlyServerURL": "https://plot.ly"
       },
       "data": [
        {
         "alignmentgroup": "True",
         "hovertemplate": "Partei=AFD<br>Topic=%{x}<br>Score=%{y}<br>Anteil=%{text}<extra></extra>",
         "legendgroup": "AFD",
         "marker": {
          "color": "#636efa",
          "pattern": {
           "shape": ""
          }
         },
         "name": "AFD",
         "offsetgroup": "AFD",
         "orientation": "v",
         "showlegend": true,
         "text": [
          0.1962,
          0.0905,
          0.0928,
          0.069,
          0.1014,
          0.0957,
          0.1126,
          0.0932
         ],
         "textposition": "auto",
         "type": "bar",
         "x": [
          "politik und ideologie",
          "gesundheit",
          "bildung",
          "klima",
          "wirtschaft",
          "infrastruktur",
          "soziale ursachen",
          "wissenschaft"
         ],
         "xaxis": "x",
         "y": [
          319,
          430,
          846,
          30,
          136,
          38,
          50,
          22
         ],
         "yaxis": "y"
        },
        {
         "alignmentgroup": "True",
         "hovertemplate": "Partei=CDU-CSU<br>Topic=%{x}<br>Score=%{y}<br>Anteil=%{text}<extra></extra>",
         "legendgroup": "CDU-CSU",
         "marker": {
          "color": "#EF553B",
          "pattern": {
           "shape": ""
          }
         },
         "name": "CDU-CSU",
         "offsetgroup": "CDU-CSU",
         "orientation": "v",
         "showlegend": true,
         "text": [
          0.1627,
          0.1619,
          0.1172,
          0.0689,
          0.1797,
          0.0743,
          0.1461,
          0.1864
         ],
         "textposition": "auto",
         "type": "bar",
         "x": [
          "gesundheit",
          "bildung",
          "klima",
          "politik und ideologie",
          "wirtschaft",
          "soziale ursachen",
          "infrastruktur",
          "wissenschaft"
         ],
         "xaxis": "x",
         "y": [
          773,
          1476,
          51,
          112,
          241,
          33,
          58,
          44
         ],
         "yaxis": "y"
        },
        {
         "alignmentgroup": "True",
         "hovertemplate": "Partei=GRUENE<br>Topic=%{x}<br>Score=%{y}<br>Anteil=%{text}<extra></extra>",
         "legendgroup": "GRUENE",
         "marker": {
          "color": "#00cc96",
          "pattern": {
           "shape": ""
          }
         },
         "name": "GRUENE",
         "offsetgroup": "GRUENE",
         "orientation": "v",
         "showlegend": true,
         "text": [
          0.247,
          0.297,
          0.2066,
          0.2576,
          0.1869,
          0.339,
          0.3701,
          0.2897
         ],
         "textposition": "auto",
         "type": "bar",
         "x": [
          "bildung",
          "politik und ideologie",
          "wirtschaft",
          "gesundheit",
          "soziale ursachen",
          "wissenschaft",
          "klima",
          "infrastruktur"
         ],
         "xaxis": "x",
         "y": [
          2251,
          483,
          277,
          1224,
          83,
          80,
          161,
          115
         ],
         "yaxis": "y"
        },
        {
         "alignmentgroup": "True",
         "hovertemplate": "Partei=LINKE<br>Topic=%{x}<br>Score=%{y}<br>Anteil=%{text}<extra></extra>",
         "legendgroup": "LINKE",
         "marker": {
          "color": "#ab63fa",
          "pattern": {
           "shape": ""
          }
         },
         "name": "LINKE",
         "offsetgroup": "LINKE",
         "orientation": "v",
         "showlegend": true,
         "text": [
          0.297,
          0.4887,
          0.2765,
          0.1661,
          0.3028,
          0.269,
          0.1737,
          0.3048
         ],
         "textposition": "auto",
         "type": "bar",
         "x": [
          "gesundheit",
          "soziale ursachen",
          "bildung",
          "politik und ideologie",
          "wirtschaft",
          "klima",
          "wissenschaft",
          "infrastruktur"
         ],
         "xaxis": "x",
         "y": [
          1411,
          217,
          2520,
          270,
          406,
          117,
          41,
          121
         ],
         "yaxis": "y"
        },
        {
         "alignmentgroup": "True",
         "hovertemplate": "Partei=FDP<br>Topic=%{x}<br>Score=%{y}<br>Anteil=%{text}<extra></extra>",
         "legendgroup": "FDP",
         "marker": {
          "color": "#FFA15A",
          "pattern": {
           "shape": ""
          }
         },
         "name": "FDP",
         "offsetgroup": "FDP",
         "orientation": "v",
         "showlegend": true,
         "text": [
          0.123,
          0.1882,
          0.1071,
          0.1253,
          0.0989,
          0.0405,
          0.1229,
          0.0831
         ],
         "textposition": "auto",
         "type": "bar",
         "x": [
          "bildung",
          "politik und ideologie",
          "gesundheit",
          "wirtschaft",
          "klima",
          "soziale ursachen",
          "wissenschaft",
          "infrastruktur"
         ],
         "xaxis": "x",
         "y": [
          1121,
          306,
          509,
          168,
          43,
          18,
          29,
          33
         ],
         "yaxis": "y"
        },
        {
         "alignmentgroup": "True",
         "hovertemplate": "Partei=SPD<br>Topic=%{x}<br>Score=%{y}<br>Anteil=%{text}<extra></extra>",
         "legendgroup": "SPD",
         "marker": {
          "color": "#19d3f3",
          "pattern": {
           "shape": ""
          }
         },
         "name": "SPD",
         "offsetgroup": "SPD",
         "orientation": "v",
         "showlegend": true,
         "text": [
          0.0988,
          0.0836,
          0.0843,
          0.085,
          0.0806,
          0.0759,
          0.0847,
          0.0968
         ],
         "textposition": "auto",
         "type": "bar",
         "x": [
          "bildung",
          "politik und ideologie",
          "wirtschaft",
          "gesundheit",
          "infrastruktur",
          "klima",
          "wissenschaft",
          "soziale ursachen"
         ],
         "xaxis": "x",
         "y": [
          901,
          136,
          113,
          404,
          32,
          33,
          20,
          43
         ],
         "yaxis": "y"
        }
       ],
       "layout": {
        "barmode": "relative",
        "legend": {
         "title": {
          "text": "Partei"
         },
         "tracegroupgap": 0
        },
        "template": {
         "data": {
          "bar": [
           {
            "error_x": {
             "color": "#2a3f5f"
            },
            "error_y": {
             "color": "#2a3f5f"
            },
            "marker": {
             "line": {
              "color": "#E5ECF6",
              "width": 0.5
             },
             "pattern": {
              "fillmode": "overlay",
              "size": 10,
              "solidity": 0.2
             }
            },
            "type": "bar"
           }
          ],
          "barpolar": [
           {
            "marker": {
             "line": {
              "color": "#E5ECF6",
              "width": 0.5
             },
             "pattern": {
              "fillmode": "overlay",
              "size": 10,
              "solidity": 0.2
             }
            },
            "type": "barpolar"
           }
          ],
          "carpet": [
           {
            "aaxis": {
             "endlinecolor": "#2a3f5f",
             "gridcolor": "white",
             "linecolor": "white",
             "minorgridcolor": "white",
             "startlinecolor": "#2a3f5f"
            },
            "baxis": {
             "endlinecolor": "#2a3f5f",
             "gridcolor": "white",
             "linecolor": "white",
             "minorgridcolor": "white",
             "startlinecolor": "#2a3f5f"
            },
            "type": "carpet"
           }
          ],
          "choropleth": [
           {
            "colorbar": {
             "outlinewidth": 0,
             "ticks": ""
            },
            "type": "choropleth"
           }
          ],
          "contour": [
           {
            "colorbar": {
             "outlinewidth": 0,
             "ticks": ""
            },
            "colorscale": [
             [
              0,
              "#0d0887"
             ],
             [
              0.1111111111111111,
              "#46039f"
             ],
             [
              0.2222222222222222,
              "#7201a8"
             ],
             [
              0.3333333333333333,
              "#9c179e"
             ],
             [
              0.4444444444444444,
              "#bd3786"
             ],
             [
              0.5555555555555556,
              "#d8576b"
             ],
             [
              0.6666666666666666,
              "#ed7953"
             ],
             [
              0.7777777777777778,
              "#fb9f3a"
             ],
             [
              0.8888888888888888,
              "#fdca26"
             ],
             [
              1,
              "#f0f921"
             ]
            ],
            "type": "contour"
           }
          ],
          "contourcarpet": [
           {
            "colorbar": {
             "outlinewidth": 0,
             "ticks": ""
            },
            "type": "contourcarpet"
           }
          ],
          "heatmap": [
           {
            "colorbar": {
             "outlinewidth": 0,
             "ticks": ""
            },
            "colorscale": [
             [
              0,
              "#0d0887"
             ],
             [
              0.1111111111111111,
              "#46039f"
             ],
             [
              0.2222222222222222,
              "#7201a8"
             ],
             [
              0.3333333333333333,
              "#9c179e"
             ],
             [
              0.4444444444444444,
              "#bd3786"
             ],
             [
              0.5555555555555556,
              "#d8576b"
             ],
             [
              0.6666666666666666,
              "#ed7953"
             ],
             [
              0.7777777777777778,
              "#fb9f3a"
             ],
             [
              0.8888888888888888,
              "#fdca26"
             ],
             [
              1,
              "#f0f921"
             ]
            ],
            "type": "heatmap"
           }
          ],
          "heatmapgl": [
           {
            "colorbar": {
             "outlinewidth": 0,
             "ticks": ""
            },
            "colorscale": [
             [
              0,
              "#0d0887"
             ],
             [
              0.1111111111111111,
              "#46039f"
             ],
             [
              0.2222222222222222,
              "#7201a8"
             ],
             [
              0.3333333333333333,
              "#9c179e"
             ],
             [
              0.4444444444444444,
              "#bd3786"
             ],
             [
              0.5555555555555556,
              "#d8576b"
             ],
             [
              0.6666666666666666,
              "#ed7953"
             ],
             [
              0.7777777777777778,
              "#fb9f3a"
             ],
             [
              0.8888888888888888,
              "#fdca26"
             ],
             [
              1,
              "#f0f921"
             ]
            ],
            "type": "heatmapgl"
           }
          ],
          "histogram": [
           {
            "marker": {
             "pattern": {
              "fillmode": "overlay",
              "size": 10,
              "solidity": 0.2
             }
            },
            "type": "histogram"
           }
          ],
          "histogram2d": [
           {
            "colorbar": {
             "outlinewidth": 0,
             "ticks": ""
            },
            "colorscale": [
             [
              0,
              "#0d0887"
             ],
             [
              0.1111111111111111,
              "#46039f"
             ],
             [
              0.2222222222222222,
              "#7201a8"
             ],
             [
              0.3333333333333333,
              "#9c179e"
             ],
             [
              0.4444444444444444,
              "#bd3786"
             ],
             [
              0.5555555555555556,
              "#d8576b"
             ],
             [
              0.6666666666666666,
              "#ed7953"
             ],
             [
              0.7777777777777778,
              "#fb9f3a"
             ],
             [
              0.8888888888888888,
              "#fdca26"
             ],
             [
              1,
              "#f0f921"
             ]
            ],
            "type": "histogram2d"
           }
          ],
          "histogram2dcontour": [
           {
            "colorbar": {
             "outlinewidth": 0,
             "ticks": ""
            },
            "colorscale": [
             [
              0,
              "#0d0887"
             ],
             [
              0.1111111111111111,
              "#46039f"
             ],
             [
              0.2222222222222222,
              "#7201a8"
             ],
             [
              0.3333333333333333,
              "#9c179e"
             ],
             [
              0.4444444444444444,
              "#bd3786"
             ],
             [
              0.5555555555555556,
              "#d8576b"
             ],
             [
              0.6666666666666666,
              "#ed7953"
             ],
             [
              0.7777777777777778,
              "#fb9f3a"
             ],
             [
              0.8888888888888888,
              "#fdca26"
             ],
             [
              1,
              "#f0f921"
             ]
            ],
            "type": "histogram2dcontour"
           }
          ],
          "mesh3d": [
           {
            "colorbar": {
             "outlinewidth": 0,
             "ticks": ""
            },
            "type": "mesh3d"
           }
          ],
          "parcoords": [
           {
            "line": {
             "colorbar": {
              "outlinewidth": 0,
              "ticks": ""
             }
            },
            "type": "parcoords"
           }
          ],
          "pie": [
           {
            "automargin": true,
            "type": "pie"
           }
          ],
          "scatter": [
           {
            "fillpattern": {
             "fillmode": "overlay",
             "size": 10,
             "solidity": 0.2
            },
            "type": "scatter"
           }
          ],
          "scatter3d": [
           {
            "line": {
             "colorbar": {
              "outlinewidth": 0,
              "ticks": ""
             }
            },
            "marker": {
             "colorbar": {
              "outlinewidth": 0,
              "ticks": ""
             }
            },
            "type": "scatter3d"
           }
          ],
          "scattercarpet": [
           {
            "marker": {
             "colorbar": {
              "outlinewidth": 0,
              "ticks": ""
             }
            },
            "type": "scattercarpet"
           }
          ],
          "scattergeo": [
           {
            "marker": {
             "colorbar": {
              "outlinewidth": 0,
              "ticks": ""
             }
            },
            "type": "scattergeo"
           }
          ],
          "scattergl": [
           {
            "marker": {
             "colorbar": {
              "outlinewidth": 0,
              "ticks": ""
             }
            },
            "type": "scattergl"
           }
          ],
          "scattermapbox": [
           {
            "marker": {
             "colorbar": {
              "outlinewidth": 0,
              "ticks": ""
             }
            },
            "type": "scattermapbox"
           }
          ],
          "scatterpolar": [
           {
            "marker": {
             "colorbar": {
              "outlinewidth": 0,
              "ticks": ""
             }
            },
            "type": "scatterpolar"
           }
          ],
          "scatterpolargl": [
           {
            "marker": {
             "colorbar": {
              "outlinewidth": 0,
              "ticks": ""
             }
            },
            "type": "scatterpolargl"
           }
          ],
          "scatterternary": [
           {
            "marker": {
             "colorbar": {
              "outlinewidth": 0,
              "ticks": ""
             }
            },
            "type": "scatterternary"
           }
          ],
          "surface": [
           {
            "colorbar": {
             "outlinewidth": 0,
             "ticks": ""
            },
            "colorscale": [
             [
              0,
              "#0d0887"
             ],
             [
              0.1111111111111111,
              "#46039f"
             ],
             [
              0.2222222222222222,
              "#7201a8"
             ],
             [
              0.3333333333333333,
              "#9c179e"
             ],
             [
              0.4444444444444444,
              "#bd3786"
             ],
             [
              0.5555555555555556,
              "#d8576b"
             ],
             [
              0.6666666666666666,
              "#ed7953"
             ],
             [
              0.7777777777777778,
              "#fb9f3a"
             ],
             [
              0.8888888888888888,
              "#fdca26"
             ],
             [
              1,
              "#f0f921"
             ]
            ],
            "type": "surface"
           }
          ],
          "table": [
           {
            "cells": {
             "fill": {
              "color": "#EBF0F8"
             },
             "line": {
              "color": "white"
             }
            },
            "header": {
             "fill": {
              "color": "#C8D4E3"
             },
             "line": {
              "color": "white"
             }
            },
            "type": "table"
           }
          ]
         },
         "layout": {
          "annotationdefaults": {
           "arrowcolor": "#2a3f5f",
           "arrowhead": 0,
           "arrowwidth": 1
          },
          "autotypenumbers": "strict",
          "coloraxis": {
           "colorbar": {
            "outlinewidth": 0,
            "ticks": ""
           }
          },
          "colorscale": {
           "diverging": [
            [
             0,
             "#8e0152"
            ],
            [
             0.1,
             "#c51b7d"
            ],
            [
             0.2,
             "#de77ae"
            ],
            [
             0.3,
             "#f1b6da"
            ],
            [
             0.4,
             "#fde0ef"
            ],
            [
             0.5,
             "#f7f7f7"
            ],
            [
             0.6,
             "#e6f5d0"
            ],
            [
             0.7,
             "#b8e186"
            ],
            [
             0.8,
             "#7fbc41"
            ],
            [
             0.9,
             "#4d9221"
            ],
            [
             1,
             "#276419"
            ]
           ],
           "sequential": [
            [
             0,
             "#0d0887"
            ],
            [
             0.1111111111111111,
             "#46039f"
            ],
            [
             0.2222222222222222,
             "#7201a8"
            ],
            [
             0.3333333333333333,
             "#9c179e"
            ],
            [
             0.4444444444444444,
             "#bd3786"
            ],
            [
             0.5555555555555556,
             "#d8576b"
            ],
            [
             0.6666666666666666,
             "#ed7953"
            ],
            [
             0.7777777777777778,
             "#fb9f3a"
            ],
            [
             0.8888888888888888,
             "#fdca26"
            ],
            [
             1,
             "#f0f921"
            ]
           ],
           "sequentialminus": [
            [
             0,
             "#0d0887"
            ],
            [
             0.1111111111111111,
             "#46039f"
            ],
            [
             0.2222222222222222,
             "#7201a8"
            ],
            [
             0.3333333333333333,
             "#9c179e"
            ],
            [
             0.4444444444444444,
             "#bd3786"
            ],
            [
             0.5555555555555556,
             "#d8576b"
            ],
            [
             0.6666666666666666,
             "#ed7953"
            ],
            [
             0.7777777777777778,
             "#fb9f3a"
            ],
            [
             0.8888888888888888,
             "#fdca26"
            ],
            [
             1,
             "#f0f921"
            ]
           ]
          },
          "colorway": [
           "#636efa",
           "#EF553B",
           "#00cc96",
           "#ab63fa",
           "#FFA15A",
           "#19d3f3",
           "#FF6692",
           "#B6E880",
           "#FF97FF",
           "#FECB52"
          ],
          "font": {
           "color": "#2a3f5f"
          },
          "geo": {
           "bgcolor": "white",
           "lakecolor": "white",
           "landcolor": "#E5ECF6",
           "showlakes": true,
           "showland": true,
           "subunitcolor": "white"
          },
          "hoverlabel": {
           "align": "left"
          },
          "hovermode": "closest",
          "mapbox": {
           "style": "light"
          },
          "paper_bgcolor": "white",
          "plot_bgcolor": "#E5ECF6",
          "polar": {
           "angularaxis": {
            "gridcolor": "white",
            "linecolor": "white",
            "ticks": ""
           },
           "bgcolor": "#E5ECF6",
           "radialaxis": {
            "gridcolor": "white",
            "linecolor": "white",
            "ticks": ""
           }
          },
          "scene": {
           "xaxis": {
            "backgroundcolor": "#E5ECF6",
            "gridcolor": "white",
            "gridwidth": 2,
            "linecolor": "white",
            "showbackground": true,
            "ticks": "",
            "zerolinecolor": "white"
           },
           "yaxis": {
            "backgroundcolor": "#E5ECF6",
            "gridcolor": "white",
            "gridwidth": 2,
            "linecolor": "white",
            "showbackground": true,
            "ticks": "",
            "zerolinecolor": "white"
           },
           "zaxis": {
            "backgroundcolor": "#E5ECF6",
            "gridcolor": "white",
            "gridwidth": 2,
            "linecolor": "white",
            "showbackground": true,
            "ticks": "",
            "zerolinecolor": "white"
           }
          },
          "shapedefaults": {
           "line": {
            "color": "#2a3f5f"
           }
          },
          "ternary": {
           "aaxis": {
            "gridcolor": "white",
            "linecolor": "white",
            "ticks": ""
           },
           "baxis": {
            "gridcolor": "white",
            "linecolor": "white",
            "ticks": ""
           },
           "bgcolor": "#E5ECF6",
           "caxis": {
            "gridcolor": "white",
            "linecolor": "white",
            "ticks": ""
           }
          },
          "title": {
           "x": 0.05
          },
          "xaxis": {
           "automargin": true,
           "gridcolor": "white",
           "linecolor": "white",
           "ticks": "",
           "title": {
            "standoff": 15
           },
           "zerolinecolor": "white",
           "zerolinewidth": 2
          },
          "yaxis": {
           "automargin": true,
           "gridcolor": "white",
           "linecolor": "white",
           "ticks": "",
           "title": {
            "standoff": 15
           },
           "zerolinecolor": "white",
           "zerolinewidth": 2
          }
         }
        },
        "title": {
         "text": "Topicverteilung für alle Parteien (Valhalla)"
        },
        "xaxis": {
         "anchor": "y",
         "domain": [
          0,
          1
         ],
         "title": {
          "text": "Topic"
         }
        },
        "yaxis": {
         "anchor": "x",
         "domain": [
          0,
          1
         ],
         "title": {
          "text": "Score"
         }
        }
       }
      }
     },
     "metadata": {},
     "output_type": "display_data"
    }
   ],
   "source": [
    "getbarchalleparteienvalhalla()"
   ]
  },
  {
   "cell_type": "code",
   "execution_count": 631,
   "metadata": {},
   "outputs": [
    {
     "data": {
      "application/vnd.plotly.v1+json": {
       "config": {
        "plotlyServerURL": "https://plot.ly"
       },
       "data": [
        {
         "alignmentgroup": "True",
         "hovertemplate": "Topic=%{x}<br>Score=%{text}<extra></extra>",
         "legendgroup": "",
         "marker": {
          "color": "#636efa",
          "pattern": {
           "shape": ""
          }
         },
         "name": "",
         "offsetgroup": "",
         "orientation": "v",
         "showlegend": false,
         "text": [
          319,
          430,
          846,
          30,
          136,
          38,
          50,
          22
         ],
         "textposition": "auto",
         "type": "bar",
         "x": [
          "politik und ideologie",
          "gesundheit",
          "bildung",
          "klima",
          "wirtschaft",
          "infrastruktur",
          "soziale ursachen",
          "wissenschaft"
         ],
         "xaxis": "x",
         "y": [
          319,
          430,
          846,
          30,
          136,
          38,
          50,
          22
         ],
         "yaxis": "y"
        }
       ],
       "layout": {
        "barmode": "relative",
        "legend": {
         "tracegroupgap": 0
        },
        "template": {
         "data": {
          "bar": [
           {
            "error_x": {
             "color": "#2a3f5f"
            },
            "error_y": {
             "color": "#2a3f5f"
            },
            "marker": {
             "line": {
              "color": "#E5ECF6",
              "width": 0.5
             },
             "pattern": {
              "fillmode": "overlay",
              "size": 10,
              "solidity": 0.2
             }
            },
            "type": "bar"
           }
          ],
          "barpolar": [
           {
            "marker": {
             "line": {
              "color": "#E5ECF6",
              "width": 0.5
             },
             "pattern": {
              "fillmode": "overlay",
              "size": 10,
              "solidity": 0.2
             }
            },
            "type": "barpolar"
           }
          ],
          "carpet": [
           {
            "aaxis": {
             "endlinecolor": "#2a3f5f",
             "gridcolor": "white",
             "linecolor": "white",
             "minorgridcolor": "white",
             "startlinecolor": "#2a3f5f"
            },
            "baxis": {
             "endlinecolor": "#2a3f5f",
             "gridcolor": "white",
             "linecolor": "white",
             "minorgridcolor": "white",
             "startlinecolor": "#2a3f5f"
            },
            "type": "carpet"
           }
          ],
          "choropleth": [
           {
            "colorbar": {
             "outlinewidth": 0,
             "ticks": ""
            },
            "type": "choropleth"
           }
          ],
          "contour": [
           {
            "colorbar": {
             "outlinewidth": 0,
             "ticks": ""
            },
            "colorscale": [
             [
              0,
              "#0d0887"
             ],
             [
              0.1111111111111111,
              "#46039f"
             ],
             [
              0.2222222222222222,
              "#7201a8"
             ],
             [
              0.3333333333333333,
              "#9c179e"
             ],
             [
              0.4444444444444444,
              "#bd3786"
             ],
             [
              0.5555555555555556,
              "#d8576b"
             ],
             [
              0.6666666666666666,
              "#ed7953"
             ],
             [
              0.7777777777777778,
              "#fb9f3a"
             ],
             [
              0.8888888888888888,
              "#fdca26"
             ],
             [
              1,
              "#f0f921"
             ]
            ],
            "type": "contour"
           }
          ],
          "contourcarpet": [
           {
            "colorbar": {
             "outlinewidth": 0,
             "ticks": ""
            },
            "type": "contourcarpet"
           }
          ],
          "heatmap": [
           {
            "colorbar": {
             "outlinewidth": 0,
             "ticks": ""
            },
            "colorscale": [
             [
              0,
              "#0d0887"
             ],
             [
              0.1111111111111111,
              "#46039f"
             ],
             [
              0.2222222222222222,
              "#7201a8"
             ],
             [
              0.3333333333333333,
              "#9c179e"
             ],
             [
              0.4444444444444444,
              "#bd3786"
             ],
             [
              0.5555555555555556,
              "#d8576b"
             ],
             [
              0.6666666666666666,
              "#ed7953"
             ],
             [
              0.7777777777777778,
              "#fb9f3a"
             ],
             [
              0.8888888888888888,
              "#fdca26"
             ],
             [
              1,
              "#f0f921"
             ]
            ],
            "type": "heatmap"
           }
          ],
          "heatmapgl": [
           {
            "colorbar": {
             "outlinewidth": 0,
             "ticks": ""
            },
            "colorscale": [
             [
              0,
              "#0d0887"
             ],
             [
              0.1111111111111111,
              "#46039f"
             ],
             [
              0.2222222222222222,
              "#7201a8"
             ],
             [
              0.3333333333333333,
              "#9c179e"
             ],
             [
              0.4444444444444444,
              "#bd3786"
             ],
             [
              0.5555555555555556,
              "#d8576b"
             ],
             [
              0.6666666666666666,
              "#ed7953"
             ],
             [
              0.7777777777777778,
              "#fb9f3a"
             ],
             [
              0.8888888888888888,
              "#fdca26"
             ],
             [
              1,
              "#f0f921"
             ]
            ],
            "type": "heatmapgl"
           }
          ],
          "histogram": [
           {
            "marker": {
             "pattern": {
              "fillmode": "overlay",
              "size": 10,
              "solidity": 0.2
             }
            },
            "type": "histogram"
           }
          ],
          "histogram2d": [
           {
            "colorbar": {
             "outlinewidth": 0,
             "ticks": ""
            },
            "colorscale": [
             [
              0,
              "#0d0887"
             ],
             [
              0.1111111111111111,
              "#46039f"
             ],
             [
              0.2222222222222222,
              "#7201a8"
             ],
             [
              0.3333333333333333,
              "#9c179e"
             ],
             [
              0.4444444444444444,
              "#bd3786"
             ],
             [
              0.5555555555555556,
              "#d8576b"
             ],
             [
              0.6666666666666666,
              "#ed7953"
             ],
             [
              0.7777777777777778,
              "#fb9f3a"
             ],
             [
              0.8888888888888888,
              "#fdca26"
             ],
             [
              1,
              "#f0f921"
             ]
            ],
            "type": "histogram2d"
           }
          ],
          "histogram2dcontour": [
           {
            "colorbar": {
             "outlinewidth": 0,
             "ticks": ""
            },
            "colorscale": [
             [
              0,
              "#0d0887"
             ],
             [
              0.1111111111111111,
              "#46039f"
             ],
             [
              0.2222222222222222,
              "#7201a8"
             ],
             [
              0.3333333333333333,
              "#9c179e"
             ],
             [
              0.4444444444444444,
              "#bd3786"
             ],
             [
              0.5555555555555556,
              "#d8576b"
             ],
             [
              0.6666666666666666,
              "#ed7953"
             ],
             [
              0.7777777777777778,
              "#fb9f3a"
             ],
             [
              0.8888888888888888,
              "#fdca26"
             ],
             [
              1,
              "#f0f921"
             ]
            ],
            "type": "histogram2dcontour"
           }
          ],
          "mesh3d": [
           {
            "colorbar": {
             "outlinewidth": 0,
             "ticks": ""
            },
            "type": "mesh3d"
           }
          ],
          "parcoords": [
           {
            "line": {
             "colorbar": {
              "outlinewidth": 0,
              "ticks": ""
             }
            },
            "type": "parcoords"
           }
          ],
          "pie": [
           {
            "automargin": true,
            "type": "pie"
           }
          ],
          "scatter": [
           {
            "fillpattern": {
             "fillmode": "overlay",
             "size": 10,
             "solidity": 0.2
            },
            "type": "scatter"
           }
          ],
          "scatter3d": [
           {
            "line": {
             "colorbar": {
              "outlinewidth": 0,
              "ticks": ""
             }
            },
            "marker": {
             "colorbar": {
              "outlinewidth": 0,
              "ticks": ""
             }
            },
            "type": "scatter3d"
           }
          ],
          "scattercarpet": [
           {
            "marker": {
             "colorbar": {
              "outlinewidth": 0,
              "ticks": ""
             }
            },
            "type": "scattercarpet"
           }
          ],
          "scattergeo": [
           {
            "marker": {
             "colorbar": {
              "outlinewidth": 0,
              "ticks": ""
             }
            },
            "type": "scattergeo"
           }
          ],
          "scattergl": [
           {
            "marker": {
             "colorbar": {
              "outlinewidth": 0,
              "ticks": ""
             }
            },
            "type": "scattergl"
           }
          ],
          "scattermapbox": [
           {
            "marker": {
             "colorbar": {
              "outlinewidth": 0,
              "ticks": ""
             }
            },
            "type": "scattermapbox"
           }
          ],
          "scatterpolar": [
           {
            "marker": {
             "colorbar": {
              "outlinewidth": 0,
              "ticks": ""
             }
            },
            "type": "scatterpolar"
           }
          ],
          "scatterpolargl": [
           {
            "marker": {
             "colorbar": {
              "outlinewidth": 0,
              "ticks": ""
             }
            },
            "type": "scatterpolargl"
           }
          ],
          "scatterternary": [
           {
            "marker": {
             "colorbar": {
              "outlinewidth": 0,
              "ticks": ""
             }
            },
            "type": "scatterternary"
           }
          ],
          "surface": [
           {
            "colorbar": {
             "outlinewidth": 0,
             "ticks": ""
            },
            "colorscale": [
             [
              0,
              "#0d0887"
             ],
             [
              0.1111111111111111,
              "#46039f"
             ],
             [
              0.2222222222222222,
              "#7201a8"
             ],
             [
              0.3333333333333333,
              "#9c179e"
             ],
             [
              0.4444444444444444,
              "#bd3786"
             ],
             [
              0.5555555555555556,
              "#d8576b"
             ],
             [
              0.6666666666666666,
              "#ed7953"
             ],
             [
              0.7777777777777778,
              "#fb9f3a"
             ],
             [
              0.8888888888888888,
              "#fdca26"
             ],
             [
              1,
              "#f0f921"
             ]
            ],
            "type": "surface"
           }
          ],
          "table": [
           {
            "cells": {
             "fill": {
              "color": "#EBF0F8"
             },
             "line": {
              "color": "white"
             }
            },
            "header": {
             "fill": {
              "color": "#C8D4E3"
             },
             "line": {
              "color": "white"
             }
            },
            "type": "table"
           }
          ]
         },
         "layout": {
          "annotationdefaults": {
           "arrowcolor": "#2a3f5f",
           "arrowhead": 0,
           "arrowwidth": 1
          },
          "autotypenumbers": "strict",
          "coloraxis": {
           "colorbar": {
            "outlinewidth": 0,
            "ticks": ""
           }
          },
          "colorscale": {
           "diverging": [
            [
             0,
             "#8e0152"
            ],
            [
             0.1,
             "#c51b7d"
            ],
            [
             0.2,
             "#de77ae"
            ],
            [
             0.3,
             "#f1b6da"
            ],
            [
             0.4,
             "#fde0ef"
            ],
            [
             0.5,
             "#f7f7f7"
            ],
            [
             0.6,
             "#e6f5d0"
            ],
            [
             0.7,
             "#b8e186"
            ],
            [
             0.8,
             "#7fbc41"
            ],
            [
             0.9,
             "#4d9221"
            ],
            [
             1,
             "#276419"
            ]
           ],
           "sequential": [
            [
             0,
             "#0d0887"
            ],
            [
             0.1111111111111111,
             "#46039f"
            ],
            [
             0.2222222222222222,
             "#7201a8"
            ],
            [
             0.3333333333333333,
             "#9c179e"
            ],
            [
             0.4444444444444444,
             "#bd3786"
            ],
            [
             0.5555555555555556,
             "#d8576b"
            ],
            [
             0.6666666666666666,
             "#ed7953"
            ],
            [
             0.7777777777777778,
             "#fb9f3a"
            ],
            [
             0.8888888888888888,
             "#fdca26"
            ],
            [
             1,
             "#f0f921"
            ]
           ],
           "sequentialminus": [
            [
             0,
             "#0d0887"
            ],
            [
             0.1111111111111111,
             "#46039f"
            ],
            [
             0.2222222222222222,
             "#7201a8"
            ],
            [
             0.3333333333333333,
             "#9c179e"
            ],
            [
             0.4444444444444444,
             "#bd3786"
            ],
            [
             0.5555555555555556,
             "#d8576b"
            ],
            [
             0.6666666666666666,
             "#ed7953"
            ],
            [
             0.7777777777777778,
             "#fb9f3a"
            ],
            [
             0.8888888888888888,
             "#fdca26"
            ],
            [
             1,
             "#f0f921"
            ]
           ]
          },
          "colorway": [
           "#636efa",
           "#EF553B",
           "#00cc96",
           "#ab63fa",
           "#FFA15A",
           "#19d3f3",
           "#FF6692",
           "#B6E880",
           "#FF97FF",
           "#FECB52"
          ],
          "font": {
           "color": "#2a3f5f"
          },
          "geo": {
           "bgcolor": "white",
           "lakecolor": "white",
           "landcolor": "#E5ECF6",
           "showlakes": true,
           "showland": true,
           "subunitcolor": "white"
          },
          "hoverlabel": {
           "align": "left"
          },
          "hovermode": "closest",
          "mapbox": {
           "style": "light"
          },
          "paper_bgcolor": "white",
          "plot_bgcolor": "#E5ECF6",
          "polar": {
           "angularaxis": {
            "gridcolor": "white",
            "linecolor": "white",
            "ticks": ""
           },
           "bgcolor": "#E5ECF6",
           "radialaxis": {
            "gridcolor": "white",
            "linecolor": "white",
            "ticks": ""
           }
          },
          "scene": {
           "xaxis": {
            "backgroundcolor": "#E5ECF6",
            "gridcolor": "white",
            "gridwidth": 2,
            "linecolor": "white",
            "showbackground": true,
            "ticks": "",
            "zerolinecolor": "white"
           },
           "yaxis": {
            "backgroundcolor": "#E5ECF6",
            "gridcolor": "white",
            "gridwidth": 2,
            "linecolor": "white",
            "showbackground": true,
            "ticks": "",
            "zerolinecolor": "white"
           },
           "zaxis": {
            "backgroundcolor": "#E5ECF6",
            "gridcolor": "white",
            "gridwidth": 2,
            "linecolor": "white",
            "showbackground": true,
            "ticks": "",
            "zerolinecolor": "white"
           }
          },
          "shapedefaults": {
           "line": {
            "color": "#2a3f5f"
           }
          },
          "ternary": {
           "aaxis": {
            "gridcolor": "white",
            "linecolor": "white",
            "ticks": ""
           },
           "baxis": {
            "gridcolor": "white",
            "linecolor": "white",
            "ticks": ""
           },
           "bgcolor": "#E5ECF6",
           "caxis": {
            "gridcolor": "white",
            "linecolor": "white",
            "ticks": ""
           }
          },
          "title": {
           "x": 0.05
          },
          "xaxis": {
           "automargin": true,
           "gridcolor": "white",
           "linecolor": "white",
           "ticks": "",
           "title": {
            "standoff": 15
           },
           "zerolinecolor": "white",
           "zerolinewidth": 2
          },
          "yaxis": {
           "automargin": true,
           "gridcolor": "white",
           "linecolor": "white",
           "ticks": "",
           "title": {
            "standoff": 15
           },
           "zerolinecolor": "white",
           "zerolinewidth": 2
          }
         }
        },
        "title": {
         "text": "Topicverteilung für die AFD (Valhalla)"
        },
        "xaxis": {
         "anchor": "y",
         "domain": [
          0,
          1
         ],
         "title": {
          "text": "Topic"
         }
        },
        "yaxis": {
         "anchor": "x",
         "domain": [
          0,
          1
         ],
         "title": {
          "text": "Score"
         }
        }
       }
      }
     },
     "metadata": {},
     "output_type": "display_data"
    }
   ],
   "source": [
    "getbarcheinzelparteivalhalla(\"AFD\")"
   ]
  },
  {
   "cell_type": "code",
   "execution_count": 632,
   "metadata": {},
   "outputs": [
    {
     "name": "stderr",
     "output_type": "stream",
     "text": [
      "C:\\Users\\JDari\\AppData\\Local\\Temp\\ipykernel_8432\\2806428116.py:5: SettingWithCopyWarning:\n",
      "\n",
      "\n",
      "A value is trying to be set on a copy of a slice from a DataFrame\n",
      "\n",
      "See the caveats in the documentation: https://pandas.pydata.org/pandas-docs/stable/user_guide/indexing.html#returning-a-view-versus-a-copy\n",
      "\n"
     ]
    },
    {
     "data": {
      "application/vnd.plotly.v1+json": {
       "config": {
        "plotlyServerURL": "https://plot.ly"
       },
       "data": [
        {
         "alignmentgroup": "True",
         "hovertemplate": "Partei=AFD<br>Topic=%{x}<br>Score=%{y}<br>Anteil=%{text}<extra></extra>",
         "legendgroup": "AFD",
         "marker": {
          "color": "#636efa",
          "pattern": {
           "shape": ""
          }
         },
         "name": "AFD",
         "offsetgroup": "AFD",
         "orientation": "v",
         "showlegend": true,
         "text": [
          0.1115,
          0.0883,
          0.0974,
          0.0912,
          0.1132,
          0.108,
          0.1128,
          0.1022
         ],
         "textposition": "auto",
         "type": "bar",
         "x": [
          "Politik und Ideologie",
          "wirtschaft",
          "soziale Ursachen",
          "Klima",
          "Gesundheit",
          "Wissenschaft",
          "Bildung",
          "Infrastruktur"
         ],
         "xaxis": "x",
         "y": [
          840,
          557,
          182,
          66,
          107,
          62,
          76,
          23
         ],
         "yaxis": "y"
        },
        {
         "alignmentgroup": "True",
         "hovertemplate": "Partei=CDU-CSU<br>Topic=%{x}<br>Score=%{y}<br>Anteil=%{text}<extra></extra>",
         "legendgroup": "CDU-CSU",
         "marker": {
          "color": "#EF553B",
          "pattern": {
           "shape": ""
          }
         },
         "name": "CDU-CSU",
         "offsetgroup": "CDU-CSU",
         "orientation": "v",
         "showlegend": true,
         "text": [
          0.1001,
          0.1422,
          0.1655,
          0.1503,
          0.1878,
          0.1689,
          0.2387,
          0.1157
         ],
         "textposition": "auto",
         "type": "bar",
         "x": [
          "soziale Ursachen",
          "wirtschaft",
          "Politik und Ideologie",
          "Gesundheit",
          "Klima",
          "Infrastruktur",
          "Wissenschaft",
          "Bildung"
         ],
         "xaxis": "x",
         "y": [
          187,
          897,
          1247,
          142,
          136,
          38,
          137,
          78
         ],
         "yaxis": "y"
        },
        {
         "alignmentgroup": "True",
         "hovertemplate": "Partei=GRUENE<br>Topic=%{x}<br>Score=%{y}<br>Anteil=%{text}<extra></extra>",
         "legendgroup": "GRUENE",
         "marker": {
          "color": "#00cc96",
          "pattern": {
           "shape": ""
          }
         },
         "name": "GRUENE",
         "offsetgroup": "GRUENE",
         "orientation": "v",
         "showlegend": true,
         "text": [
          0.39,
          0.2464,
          0.2339,
          0.2667,
          0.2404,
          0.2328,
          0.3122,
          0.2613
         ],
         "textposition": "auto",
         "type": "bar",
         "x": [
          "soziale Ursachen",
          "Politik und Ideologie",
          "wirtschaft",
          "Infrastruktur",
          "Bildung",
          "Gesundheit",
          "Klima",
          "Wissenschaft"
         ],
         "xaxis": "x",
         "y": [
          729,
          1857,
          1476,
          60,
          162,
          220,
          226,
          150
         ],
         "yaxis": "y"
        },
        {
         "alignmentgroup": "True",
         "hovertemplate": "Partei=LINKE<br>Topic=%{x}<br>Score=%{y}<br>Anteil=%{text}<extra></extra>",
         "legendgroup": "LINKE",
         "marker": {
          "color": "#ab63fa",
          "pattern": {
           "shape": ""
          }
         },
         "name": "LINKE",
         "offsetgroup": "LINKE",
         "orientation": "v",
         "showlegend": true,
         "text": [
          0.3105,
          0.2643,
          0.2333,
          0.239,
          0.2815,
          0.3022,
          0.3042,
          0.2143
         ],
         "textposition": "auto",
         "type": "bar",
         "x": [
          "wirtschaft",
          "Politik und Ideologie",
          "soziale Ursachen",
          "Klima",
          "Gesundheit",
          "Infrastruktur",
          "Bildung",
          "Wissenschaft"
         ],
         "xaxis": "x",
         "y": [
          1959,
          1992,
          436,
          173,
          266,
          68,
          205,
          123
         ],
         "yaxis": "y"
        },
        {
         "alignmentgroup": "True",
         "hovertemplate": "Partei=FDP<br>Topic=%{x}<br>Score=%{y}<br>Anteil=%{text}<extra></extra>",
         "legendgroup": "FDP",
         "marker": {
          "color": "#FFA15A",
          "pattern": {
           "shape": ""
          }
         },
         "name": "FDP",
         "offsetgroup": "FDP",
         "orientation": "v",
         "showlegend": true,
         "text": [
          0.1095,
          0.131,
          0.1017,
          0.1602,
          0.1272,
          0.1386,
          0.0981,
          0.0756
         ],
         "textposition": "auto",
         "type": "bar",
         "x": [
          "wirtschaft",
          "Politik und Ideologie",
          "soziale Ursachen",
          "Bildung",
          "Wissenschaft",
          "Gesundheit",
          "Klima",
          "Infrastruktur"
         ],
         "xaxis": "x",
         "y": [
          691,
          987,
          190,
          108,
          73,
          131,
          71,
          17
         ],
         "yaxis": "y"
        },
        {
         "alignmentgroup": "True",
         "hovertemplate": "Partei=SPD<br>Topic=%{x}<br>Score=%{y}<br>Anteil=%{text}<extra></extra>",
         "legendgroup": "SPD",
         "marker": {
          "color": "#19d3f3",
          "pattern": {
           "shape": ""
          }
         },
         "name": "SPD",
         "offsetgroup": "SPD",
         "orientation": "v",
         "showlegend": true,
         "text": [
          0.0815,
          0.1157,
          0.0776,
          0.0718,
          0.0836,
          0.0505,
          0.0844,
          0.0668
         ],
         "textposition": "auto",
         "type": "bar",
         "x": [
          "Politik und Ideologie",
          "wirtschaft",
          "soziale Ursachen",
          "Klima",
          "Gesundheit",
          "Wissenschaft",
          "Infrastruktur",
          "Bildung"
         ],
         "xaxis": "x",
         "y": [
          614,
          730,
          145,
          52,
          79,
          29,
          19,
          45
         ],
         "yaxis": "y"
        }
       ],
       "layout": {
        "barmode": "relative",
        "legend": {
         "title": {
          "text": "Partei"
         },
         "tracegroupgap": 0
        },
        "template": {
         "data": {
          "bar": [
           {
            "error_x": {
             "color": "#2a3f5f"
            },
            "error_y": {
             "color": "#2a3f5f"
            },
            "marker": {
             "line": {
              "color": "#E5ECF6",
              "width": 0.5
             },
             "pattern": {
              "fillmode": "overlay",
              "size": 10,
              "solidity": 0.2
             }
            },
            "type": "bar"
           }
          ],
          "barpolar": [
           {
            "marker": {
             "line": {
              "color": "#E5ECF6",
              "width": 0.5
             },
             "pattern": {
              "fillmode": "overlay",
              "size": 10,
              "solidity": 0.2
             }
            },
            "type": "barpolar"
           }
          ],
          "carpet": [
           {
            "aaxis": {
             "endlinecolor": "#2a3f5f",
             "gridcolor": "white",
             "linecolor": "white",
             "minorgridcolor": "white",
             "startlinecolor": "#2a3f5f"
            },
            "baxis": {
             "endlinecolor": "#2a3f5f",
             "gridcolor": "white",
             "linecolor": "white",
             "minorgridcolor": "white",
             "startlinecolor": "#2a3f5f"
            },
            "type": "carpet"
           }
          ],
          "choropleth": [
           {
            "colorbar": {
             "outlinewidth": 0,
             "ticks": ""
            },
            "type": "choropleth"
           }
          ],
          "contour": [
           {
            "colorbar": {
             "outlinewidth": 0,
             "ticks": ""
            },
            "colorscale": [
             [
              0,
              "#0d0887"
             ],
             [
              0.1111111111111111,
              "#46039f"
             ],
             [
              0.2222222222222222,
              "#7201a8"
             ],
             [
              0.3333333333333333,
              "#9c179e"
             ],
             [
              0.4444444444444444,
              "#bd3786"
             ],
             [
              0.5555555555555556,
              "#d8576b"
             ],
             [
              0.6666666666666666,
              "#ed7953"
             ],
             [
              0.7777777777777778,
              "#fb9f3a"
             ],
             [
              0.8888888888888888,
              "#fdca26"
             ],
             [
              1,
              "#f0f921"
             ]
            ],
            "type": "contour"
           }
          ],
          "contourcarpet": [
           {
            "colorbar": {
             "outlinewidth": 0,
             "ticks": ""
            },
            "type": "contourcarpet"
           }
          ],
          "heatmap": [
           {
            "colorbar": {
             "outlinewidth": 0,
             "ticks": ""
            },
            "colorscale": [
             [
              0,
              "#0d0887"
             ],
             [
              0.1111111111111111,
              "#46039f"
             ],
             [
              0.2222222222222222,
              "#7201a8"
             ],
             [
              0.3333333333333333,
              "#9c179e"
             ],
             [
              0.4444444444444444,
              "#bd3786"
             ],
             [
              0.5555555555555556,
              "#d8576b"
             ],
             [
              0.6666666666666666,
              "#ed7953"
             ],
             [
              0.7777777777777778,
              "#fb9f3a"
             ],
             [
              0.8888888888888888,
              "#fdca26"
             ],
             [
              1,
              "#f0f921"
             ]
            ],
            "type": "heatmap"
           }
          ],
          "heatmapgl": [
           {
            "colorbar": {
             "outlinewidth": 0,
             "ticks": ""
            },
            "colorscale": [
             [
              0,
              "#0d0887"
             ],
             [
              0.1111111111111111,
              "#46039f"
             ],
             [
              0.2222222222222222,
              "#7201a8"
             ],
             [
              0.3333333333333333,
              "#9c179e"
             ],
             [
              0.4444444444444444,
              "#bd3786"
             ],
             [
              0.5555555555555556,
              "#d8576b"
             ],
             [
              0.6666666666666666,
              "#ed7953"
             ],
             [
              0.7777777777777778,
              "#fb9f3a"
             ],
             [
              0.8888888888888888,
              "#fdca26"
             ],
             [
              1,
              "#f0f921"
             ]
            ],
            "type": "heatmapgl"
           }
          ],
          "histogram": [
           {
            "marker": {
             "pattern": {
              "fillmode": "overlay",
              "size": 10,
              "solidity": 0.2
             }
            },
            "type": "histogram"
           }
          ],
          "histogram2d": [
           {
            "colorbar": {
             "outlinewidth": 0,
             "ticks": ""
            },
            "colorscale": [
             [
              0,
              "#0d0887"
             ],
             [
              0.1111111111111111,
              "#46039f"
             ],
             [
              0.2222222222222222,
              "#7201a8"
             ],
             [
              0.3333333333333333,
              "#9c179e"
             ],
             [
              0.4444444444444444,
              "#bd3786"
             ],
             [
              0.5555555555555556,
              "#d8576b"
             ],
             [
              0.6666666666666666,
              "#ed7953"
             ],
             [
              0.7777777777777778,
              "#fb9f3a"
             ],
             [
              0.8888888888888888,
              "#fdca26"
             ],
             [
              1,
              "#f0f921"
             ]
            ],
            "type": "histogram2d"
           }
          ],
          "histogram2dcontour": [
           {
            "colorbar": {
             "outlinewidth": 0,
             "ticks": ""
            },
            "colorscale": [
             [
              0,
              "#0d0887"
             ],
             [
              0.1111111111111111,
              "#46039f"
             ],
             [
              0.2222222222222222,
              "#7201a8"
             ],
             [
              0.3333333333333333,
              "#9c179e"
             ],
             [
              0.4444444444444444,
              "#bd3786"
             ],
             [
              0.5555555555555556,
              "#d8576b"
             ],
             [
              0.6666666666666666,
              "#ed7953"
             ],
             [
              0.7777777777777778,
              "#fb9f3a"
             ],
             [
              0.8888888888888888,
              "#fdca26"
             ],
             [
              1,
              "#f0f921"
             ]
            ],
            "type": "histogram2dcontour"
           }
          ],
          "mesh3d": [
           {
            "colorbar": {
             "outlinewidth": 0,
             "ticks": ""
            },
            "type": "mesh3d"
           }
          ],
          "parcoords": [
           {
            "line": {
             "colorbar": {
              "outlinewidth": 0,
              "ticks": ""
             }
            },
            "type": "parcoords"
           }
          ],
          "pie": [
           {
            "automargin": true,
            "type": "pie"
           }
          ],
          "scatter": [
           {
            "fillpattern": {
             "fillmode": "overlay",
             "size": 10,
             "solidity": 0.2
            },
            "type": "scatter"
           }
          ],
          "scatter3d": [
           {
            "line": {
             "colorbar": {
              "outlinewidth": 0,
              "ticks": ""
             }
            },
            "marker": {
             "colorbar": {
              "outlinewidth": 0,
              "ticks": ""
             }
            },
            "type": "scatter3d"
           }
          ],
          "scattercarpet": [
           {
            "marker": {
             "colorbar": {
              "outlinewidth": 0,
              "ticks": ""
             }
            },
            "type": "scattercarpet"
           }
          ],
          "scattergeo": [
           {
            "marker": {
             "colorbar": {
              "outlinewidth": 0,
              "ticks": ""
             }
            },
            "type": "scattergeo"
           }
          ],
          "scattergl": [
           {
            "marker": {
             "colorbar": {
              "outlinewidth": 0,
              "ticks": ""
             }
            },
            "type": "scattergl"
           }
          ],
          "scattermapbox": [
           {
            "marker": {
             "colorbar": {
              "outlinewidth": 0,
              "ticks": ""
             }
            },
            "type": "scattermapbox"
           }
          ],
          "scatterpolar": [
           {
            "marker": {
             "colorbar": {
              "outlinewidth": 0,
              "ticks": ""
             }
            },
            "type": "scatterpolar"
           }
          ],
          "scatterpolargl": [
           {
            "marker": {
             "colorbar": {
              "outlinewidth": 0,
              "ticks": ""
             }
            },
            "type": "scatterpolargl"
           }
          ],
          "scatterternary": [
           {
            "marker": {
             "colorbar": {
              "outlinewidth": 0,
              "ticks": ""
             }
            },
            "type": "scatterternary"
           }
          ],
          "surface": [
           {
            "colorbar": {
             "outlinewidth": 0,
             "ticks": ""
            },
            "colorscale": [
             [
              0,
              "#0d0887"
             ],
             [
              0.1111111111111111,
              "#46039f"
             ],
             [
              0.2222222222222222,
              "#7201a8"
             ],
             [
              0.3333333333333333,
              "#9c179e"
             ],
             [
              0.4444444444444444,
              "#bd3786"
             ],
             [
              0.5555555555555556,
              "#d8576b"
             ],
             [
              0.6666666666666666,
              "#ed7953"
             ],
             [
              0.7777777777777778,
              "#fb9f3a"
             ],
             [
              0.8888888888888888,
              "#fdca26"
             ],
             [
              1,
              "#f0f921"
             ]
            ],
            "type": "surface"
           }
          ],
          "table": [
           {
            "cells": {
             "fill": {
              "color": "#EBF0F8"
             },
             "line": {
              "color": "white"
             }
            },
            "header": {
             "fill": {
              "color": "#C8D4E3"
             },
             "line": {
              "color": "white"
             }
            },
            "type": "table"
           }
          ]
         },
         "layout": {
          "annotationdefaults": {
           "arrowcolor": "#2a3f5f",
           "arrowhead": 0,
           "arrowwidth": 1
          },
          "autotypenumbers": "strict",
          "coloraxis": {
           "colorbar": {
            "outlinewidth": 0,
            "ticks": ""
           }
          },
          "colorscale": {
           "diverging": [
            [
             0,
             "#8e0152"
            ],
            [
             0.1,
             "#c51b7d"
            ],
            [
             0.2,
             "#de77ae"
            ],
            [
             0.3,
             "#f1b6da"
            ],
            [
             0.4,
             "#fde0ef"
            ],
            [
             0.5,
             "#f7f7f7"
            ],
            [
             0.6,
             "#e6f5d0"
            ],
            [
             0.7,
             "#b8e186"
            ],
            [
             0.8,
             "#7fbc41"
            ],
            [
             0.9,
             "#4d9221"
            ],
            [
             1,
             "#276419"
            ]
           ],
           "sequential": [
            [
             0,
             "#0d0887"
            ],
            [
             0.1111111111111111,
             "#46039f"
            ],
            [
             0.2222222222222222,
             "#7201a8"
            ],
            [
             0.3333333333333333,
             "#9c179e"
            ],
            [
             0.4444444444444444,
             "#bd3786"
            ],
            [
             0.5555555555555556,
             "#d8576b"
            ],
            [
             0.6666666666666666,
             "#ed7953"
            ],
            [
             0.7777777777777778,
             "#fb9f3a"
            ],
            [
             0.8888888888888888,
             "#fdca26"
            ],
            [
             1,
             "#f0f921"
            ]
           ],
           "sequentialminus": [
            [
             0,
             "#0d0887"
            ],
            [
             0.1111111111111111,
             "#46039f"
            ],
            [
             0.2222222222222222,
             "#7201a8"
            ],
            [
             0.3333333333333333,
             "#9c179e"
            ],
            [
             0.4444444444444444,
             "#bd3786"
            ],
            [
             0.5555555555555556,
             "#d8576b"
            ],
            [
             0.6666666666666666,
             "#ed7953"
            ],
            [
             0.7777777777777778,
             "#fb9f3a"
            ],
            [
             0.8888888888888888,
             "#fdca26"
            ],
            [
             1,
             "#f0f921"
            ]
           ]
          },
          "colorway": [
           "#636efa",
           "#EF553B",
           "#00cc96",
           "#ab63fa",
           "#FFA15A",
           "#19d3f3",
           "#FF6692",
           "#B6E880",
           "#FF97FF",
           "#FECB52"
          ],
          "font": {
           "color": "#2a3f5f"
          },
          "geo": {
           "bgcolor": "white",
           "lakecolor": "white",
           "landcolor": "#E5ECF6",
           "showlakes": true,
           "showland": true,
           "subunitcolor": "white"
          },
          "hoverlabel": {
           "align": "left"
          },
          "hovermode": "closest",
          "mapbox": {
           "style": "light"
          },
          "paper_bgcolor": "white",
          "plot_bgcolor": "#E5ECF6",
          "polar": {
           "angularaxis": {
            "gridcolor": "white",
            "linecolor": "white",
            "ticks": ""
           },
           "bgcolor": "#E5ECF6",
           "radialaxis": {
            "gridcolor": "white",
            "linecolor": "white",
            "ticks": ""
           }
          },
          "scene": {
           "xaxis": {
            "backgroundcolor": "#E5ECF6",
            "gridcolor": "white",
            "gridwidth": 2,
            "linecolor": "white",
            "showbackground": true,
            "ticks": "",
            "zerolinecolor": "white"
           },
           "yaxis": {
            "backgroundcolor": "#E5ECF6",
            "gridcolor": "white",
            "gridwidth": 2,
            "linecolor": "white",
            "showbackground": true,
            "ticks": "",
            "zerolinecolor": "white"
           },
           "zaxis": {
            "backgroundcolor": "#E5ECF6",
            "gridcolor": "white",
            "gridwidth": 2,
            "linecolor": "white",
            "showbackground": true,
            "ticks": "",
            "zerolinecolor": "white"
           }
          },
          "shapedefaults": {
           "line": {
            "color": "#2a3f5f"
           }
          },
          "ternary": {
           "aaxis": {
            "gridcolor": "white",
            "linecolor": "white",
            "ticks": ""
           },
           "baxis": {
            "gridcolor": "white",
            "linecolor": "white",
            "ticks": ""
           },
           "bgcolor": "#E5ECF6",
           "caxis": {
            "gridcolor": "white",
            "linecolor": "white",
            "ticks": ""
           }
          },
          "title": {
           "x": 0.05
          },
          "xaxis": {
           "automargin": true,
           "gridcolor": "white",
           "linecolor": "white",
           "ticks": "",
           "title": {
            "standoff": 15
           },
           "zerolinecolor": "white",
           "zerolinewidth": 2
          },
          "yaxis": {
           "automargin": true,
           "gridcolor": "white",
           "linecolor": "white",
           "ticks": "",
           "title": {
            "standoff": 15
           },
           "zerolinecolor": "white",
           "zerolinewidth": 2
          }
         }
        },
        "title": {
         "text": "Topicverteilung für alle Parteien (topic_class)"
        },
        "xaxis": {
         "anchor": "y",
         "domain": [
          0,
          1
         ],
         "title": {
          "text": "Topic"
         }
        },
        "yaxis": {
         "anchor": "x",
         "domain": [
          0,
          1
         ],
         "title": {
          "text": "Score"
         }
        }
       }
      }
     },
     "metadata": {},
     "output_type": "display_data"
    }
   ],
   "source": [
    "getbarchalleparteientopic_class()"
   ]
  },
  {
   "cell_type": "code",
   "execution_count": 633,
   "metadata": {},
   "outputs": [
    {
     "data": {
      "application/vnd.plotly.v1+json": {
       "config": {
        "plotlyServerURL": "https://plot.ly"
       },
       "data": [
        {
         "alignmentgroup": "True",
         "hovertemplate": "Topic=%{x}<br>Score=%{text}<extra></extra>",
         "legendgroup": "",
         "marker": {
          "color": "#636efa",
          "pattern": {
           "shape": ""
          }
         },
         "name": "",
         "offsetgroup": "",
         "orientation": "v",
         "showlegend": false,
         "text": [
          840,
          557,
          182,
          66,
          107,
          62,
          76,
          23
         ],
         "textposition": "auto",
         "type": "bar",
         "x": [
          "Politik und Ideologie",
          "wirtschaft",
          "soziale Ursachen",
          "Klima",
          "Gesundheit",
          "Wissenschaft",
          "Bildung",
          "Infrastruktur"
         ],
         "xaxis": "x",
         "y": [
          840,
          557,
          182,
          66,
          107,
          62,
          76,
          23
         ],
         "yaxis": "y"
        }
       ],
       "layout": {
        "barmode": "relative",
        "legend": {
         "tracegroupgap": 0
        },
        "template": {
         "data": {
          "bar": [
           {
            "error_x": {
             "color": "#2a3f5f"
            },
            "error_y": {
             "color": "#2a3f5f"
            },
            "marker": {
             "line": {
              "color": "#E5ECF6",
              "width": 0.5
             },
             "pattern": {
              "fillmode": "overlay",
              "size": 10,
              "solidity": 0.2
             }
            },
            "type": "bar"
           }
          ],
          "barpolar": [
           {
            "marker": {
             "line": {
              "color": "#E5ECF6",
              "width": 0.5
             },
             "pattern": {
              "fillmode": "overlay",
              "size": 10,
              "solidity": 0.2
             }
            },
            "type": "barpolar"
           }
          ],
          "carpet": [
           {
            "aaxis": {
             "endlinecolor": "#2a3f5f",
             "gridcolor": "white",
             "linecolor": "white",
             "minorgridcolor": "white",
             "startlinecolor": "#2a3f5f"
            },
            "baxis": {
             "endlinecolor": "#2a3f5f",
             "gridcolor": "white",
             "linecolor": "white",
             "minorgridcolor": "white",
             "startlinecolor": "#2a3f5f"
            },
            "type": "carpet"
           }
          ],
          "choropleth": [
           {
            "colorbar": {
             "outlinewidth": 0,
             "ticks": ""
            },
            "type": "choropleth"
           }
          ],
          "contour": [
           {
            "colorbar": {
             "outlinewidth": 0,
             "ticks": ""
            },
            "colorscale": [
             [
              0,
              "#0d0887"
             ],
             [
              0.1111111111111111,
              "#46039f"
             ],
             [
              0.2222222222222222,
              "#7201a8"
             ],
             [
              0.3333333333333333,
              "#9c179e"
             ],
             [
              0.4444444444444444,
              "#bd3786"
             ],
             [
              0.5555555555555556,
              "#d8576b"
             ],
             [
              0.6666666666666666,
              "#ed7953"
             ],
             [
              0.7777777777777778,
              "#fb9f3a"
             ],
             [
              0.8888888888888888,
              "#fdca26"
             ],
             [
              1,
              "#f0f921"
             ]
            ],
            "type": "contour"
           }
          ],
          "contourcarpet": [
           {
            "colorbar": {
             "outlinewidth": 0,
             "ticks": ""
            },
            "type": "contourcarpet"
           }
          ],
          "heatmap": [
           {
            "colorbar": {
             "outlinewidth": 0,
             "ticks": ""
            },
            "colorscale": [
             [
              0,
              "#0d0887"
             ],
             [
              0.1111111111111111,
              "#46039f"
             ],
             [
              0.2222222222222222,
              "#7201a8"
             ],
             [
              0.3333333333333333,
              "#9c179e"
             ],
             [
              0.4444444444444444,
              "#bd3786"
             ],
             [
              0.5555555555555556,
              "#d8576b"
             ],
             [
              0.6666666666666666,
              "#ed7953"
             ],
             [
              0.7777777777777778,
              "#fb9f3a"
             ],
             [
              0.8888888888888888,
              "#fdca26"
             ],
             [
              1,
              "#f0f921"
             ]
            ],
            "type": "heatmap"
           }
          ],
          "heatmapgl": [
           {
            "colorbar": {
             "outlinewidth": 0,
             "ticks": ""
            },
            "colorscale": [
             [
              0,
              "#0d0887"
             ],
             [
              0.1111111111111111,
              "#46039f"
             ],
             [
              0.2222222222222222,
              "#7201a8"
             ],
             [
              0.3333333333333333,
              "#9c179e"
             ],
             [
              0.4444444444444444,
              "#bd3786"
             ],
             [
              0.5555555555555556,
              "#d8576b"
             ],
             [
              0.6666666666666666,
              "#ed7953"
             ],
             [
              0.7777777777777778,
              "#fb9f3a"
             ],
             [
              0.8888888888888888,
              "#fdca26"
             ],
             [
              1,
              "#f0f921"
             ]
            ],
            "type": "heatmapgl"
           }
          ],
          "histogram": [
           {
            "marker": {
             "pattern": {
              "fillmode": "overlay",
              "size": 10,
              "solidity": 0.2
             }
            },
            "type": "histogram"
           }
          ],
          "histogram2d": [
           {
            "colorbar": {
             "outlinewidth": 0,
             "ticks": ""
            },
            "colorscale": [
             [
              0,
              "#0d0887"
             ],
             [
              0.1111111111111111,
              "#46039f"
             ],
             [
              0.2222222222222222,
              "#7201a8"
             ],
             [
              0.3333333333333333,
              "#9c179e"
             ],
             [
              0.4444444444444444,
              "#bd3786"
             ],
             [
              0.5555555555555556,
              "#d8576b"
             ],
             [
              0.6666666666666666,
              "#ed7953"
             ],
             [
              0.7777777777777778,
              "#fb9f3a"
             ],
             [
              0.8888888888888888,
              "#fdca26"
             ],
             [
              1,
              "#f0f921"
             ]
            ],
            "type": "histogram2d"
           }
          ],
          "histogram2dcontour": [
           {
            "colorbar": {
             "outlinewidth": 0,
             "ticks": ""
            },
            "colorscale": [
             [
              0,
              "#0d0887"
             ],
             [
              0.1111111111111111,
              "#46039f"
             ],
             [
              0.2222222222222222,
              "#7201a8"
             ],
             [
              0.3333333333333333,
              "#9c179e"
             ],
             [
              0.4444444444444444,
              "#bd3786"
             ],
             [
              0.5555555555555556,
              "#d8576b"
             ],
             [
              0.6666666666666666,
              "#ed7953"
             ],
             [
              0.7777777777777778,
              "#fb9f3a"
             ],
             [
              0.8888888888888888,
              "#fdca26"
             ],
             [
              1,
              "#f0f921"
             ]
            ],
            "type": "histogram2dcontour"
           }
          ],
          "mesh3d": [
           {
            "colorbar": {
             "outlinewidth": 0,
             "ticks": ""
            },
            "type": "mesh3d"
           }
          ],
          "parcoords": [
           {
            "line": {
             "colorbar": {
              "outlinewidth": 0,
              "ticks": ""
             }
            },
            "type": "parcoords"
           }
          ],
          "pie": [
           {
            "automargin": true,
            "type": "pie"
           }
          ],
          "scatter": [
           {
            "fillpattern": {
             "fillmode": "overlay",
             "size": 10,
             "solidity": 0.2
            },
            "type": "scatter"
           }
          ],
          "scatter3d": [
           {
            "line": {
             "colorbar": {
              "outlinewidth": 0,
              "ticks": ""
             }
            },
            "marker": {
             "colorbar": {
              "outlinewidth": 0,
              "ticks": ""
             }
            },
            "type": "scatter3d"
           }
          ],
          "scattercarpet": [
           {
            "marker": {
             "colorbar": {
              "outlinewidth": 0,
              "ticks": ""
             }
            },
            "type": "scattercarpet"
           }
          ],
          "scattergeo": [
           {
            "marker": {
             "colorbar": {
              "outlinewidth": 0,
              "ticks": ""
             }
            },
            "type": "scattergeo"
           }
          ],
          "scattergl": [
           {
            "marker": {
             "colorbar": {
              "outlinewidth": 0,
              "ticks": ""
             }
            },
            "type": "scattergl"
           }
          ],
          "scattermapbox": [
           {
            "marker": {
             "colorbar": {
              "outlinewidth": 0,
              "ticks": ""
             }
            },
            "type": "scattermapbox"
           }
          ],
          "scatterpolar": [
           {
            "marker": {
             "colorbar": {
              "outlinewidth": 0,
              "ticks": ""
             }
            },
            "type": "scatterpolar"
           }
          ],
          "scatterpolargl": [
           {
            "marker": {
             "colorbar": {
              "outlinewidth": 0,
              "ticks": ""
             }
            },
            "type": "scatterpolargl"
           }
          ],
          "scatterternary": [
           {
            "marker": {
             "colorbar": {
              "outlinewidth": 0,
              "ticks": ""
             }
            },
            "type": "scatterternary"
           }
          ],
          "surface": [
           {
            "colorbar": {
             "outlinewidth": 0,
             "ticks": ""
            },
            "colorscale": [
             [
              0,
              "#0d0887"
             ],
             [
              0.1111111111111111,
              "#46039f"
             ],
             [
              0.2222222222222222,
              "#7201a8"
             ],
             [
              0.3333333333333333,
              "#9c179e"
             ],
             [
              0.4444444444444444,
              "#bd3786"
             ],
             [
              0.5555555555555556,
              "#d8576b"
             ],
             [
              0.6666666666666666,
              "#ed7953"
             ],
             [
              0.7777777777777778,
              "#fb9f3a"
             ],
             [
              0.8888888888888888,
              "#fdca26"
             ],
             [
              1,
              "#f0f921"
             ]
            ],
            "type": "surface"
           }
          ],
          "table": [
           {
            "cells": {
             "fill": {
              "color": "#EBF0F8"
             },
             "line": {
              "color": "white"
             }
            },
            "header": {
             "fill": {
              "color": "#C8D4E3"
             },
             "line": {
              "color": "white"
             }
            },
            "type": "table"
           }
          ]
         },
         "layout": {
          "annotationdefaults": {
           "arrowcolor": "#2a3f5f",
           "arrowhead": 0,
           "arrowwidth": 1
          },
          "autotypenumbers": "strict",
          "coloraxis": {
           "colorbar": {
            "outlinewidth": 0,
            "ticks": ""
           }
          },
          "colorscale": {
           "diverging": [
            [
             0,
             "#8e0152"
            ],
            [
             0.1,
             "#c51b7d"
            ],
            [
             0.2,
             "#de77ae"
            ],
            [
             0.3,
             "#f1b6da"
            ],
            [
             0.4,
             "#fde0ef"
            ],
            [
             0.5,
             "#f7f7f7"
            ],
            [
             0.6,
             "#e6f5d0"
            ],
            [
             0.7,
             "#b8e186"
            ],
            [
             0.8,
             "#7fbc41"
            ],
            [
             0.9,
             "#4d9221"
            ],
            [
             1,
             "#276419"
            ]
           ],
           "sequential": [
            [
             0,
             "#0d0887"
            ],
            [
             0.1111111111111111,
             "#46039f"
            ],
            [
             0.2222222222222222,
             "#7201a8"
            ],
            [
             0.3333333333333333,
             "#9c179e"
            ],
            [
             0.4444444444444444,
             "#bd3786"
            ],
            [
             0.5555555555555556,
             "#d8576b"
            ],
            [
             0.6666666666666666,
             "#ed7953"
            ],
            [
             0.7777777777777778,
             "#fb9f3a"
            ],
            [
             0.8888888888888888,
             "#fdca26"
            ],
            [
             1,
             "#f0f921"
            ]
           ],
           "sequentialminus": [
            [
             0,
             "#0d0887"
            ],
            [
             0.1111111111111111,
             "#46039f"
            ],
            [
             0.2222222222222222,
             "#7201a8"
            ],
            [
             0.3333333333333333,
             "#9c179e"
            ],
            [
             0.4444444444444444,
             "#bd3786"
            ],
            [
             0.5555555555555556,
             "#d8576b"
            ],
            [
             0.6666666666666666,
             "#ed7953"
            ],
            [
             0.7777777777777778,
             "#fb9f3a"
            ],
            [
             0.8888888888888888,
             "#fdca26"
            ],
            [
             1,
             "#f0f921"
            ]
           ]
          },
          "colorway": [
           "#636efa",
           "#EF553B",
           "#00cc96",
           "#ab63fa",
           "#FFA15A",
           "#19d3f3",
           "#FF6692",
           "#B6E880",
           "#FF97FF",
           "#FECB52"
          ],
          "font": {
           "color": "#2a3f5f"
          },
          "geo": {
           "bgcolor": "white",
           "lakecolor": "white",
           "landcolor": "#E5ECF6",
           "showlakes": true,
           "showland": true,
           "subunitcolor": "white"
          },
          "hoverlabel": {
           "align": "left"
          },
          "hovermode": "closest",
          "mapbox": {
           "style": "light"
          },
          "paper_bgcolor": "white",
          "plot_bgcolor": "#E5ECF6",
          "polar": {
           "angularaxis": {
            "gridcolor": "white",
            "linecolor": "white",
            "ticks": ""
           },
           "bgcolor": "#E5ECF6",
           "radialaxis": {
            "gridcolor": "white",
            "linecolor": "white",
            "ticks": ""
           }
          },
          "scene": {
           "xaxis": {
            "backgroundcolor": "#E5ECF6",
            "gridcolor": "white",
            "gridwidth": 2,
            "linecolor": "white",
            "showbackground": true,
            "ticks": "",
            "zerolinecolor": "white"
           },
           "yaxis": {
            "backgroundcolor": "#E5ECF6",
            "gridcolor": "white",
            "gridwidth": 2,
            "linecolor": "white",
            "showbackground": true,
            "ticks": "",
            "zerolinecolor": "white"
           },
           "zaxis": {
            "backgroundcolor": "#E5ECF6",
            "gridcolor": "white",
            "gridwidth": 2,
            "linecolor": "white",
            "showbackground": true,
            "ticks": "",
            "zerolinecolor": "white"
           }
          },
          "shapedefaults": {
           "line": {
            "color": "#2a3f5f"
           }
          },
          "ternary": {
           "aaxis": {
            "gridcolor": "white",
            "linecolor": "white",
            "ticks": ""
           },
           "baxis": {
            "gridcolor": "white",
            "linecolor": "white",
            "ticks": ""
           },
           "bgcolor": "#E5ECF6",
           "caxis": {
            "gridcolor": "white",
            "linecolor": "white",
            "ticks": ""
           }
          },
          "title": {
           "x": 0.05
          },
          "xaxis": {
           "automargin": true,
           "gridcolor": "white",
           "linecolor": "white",
           "ticks": "",
           "title": {
            "standoff": 15
           },
           "zerolinecolor": "white",
           "zerolinewidth": 2
          },
          "yaxis": {
           "automargin": true,
           "gridcolor": "white",
           "linecolor": "white",
           "ticks": "",
           "title": {
            "standoff": 15
           },
           "zerolinecolor": "white",
           "zerolinewidth": 2
          }
         }
        },
        "title": {
         "text": "Topicverteilung für die AFD (topic_class)"
        },
        "xaxis": {
         "anchor": "y",
         "domain": [
          0,
          1
         ],
         "title": {
          "text": "Topic"
         }
        },
        "yaxis": {
         "anchor": "x",
         "domain": [
          0,
          1
         ],
         "title": {
          "text": "Score"
         }
        }
       }
      }
     },
     "metadata": {},
     "output_type": "display_data"
    }
   ],
   "source": [
    "getbarcheinzelparteitopic_class(\"AFD\")"
   ]
  }
 ],
 "metadata": {
  "kernelspec": {
   "display_name": "venv",
   "language": "python",
   "name": "python3"
  },
  "language_info": {
   "codemirror_mode": {
    "name": "ipython",
    "version": 3
   },
   "file_extension": ".py",
   "mimetype": "text/x-python",
   "name": "python",
   "nbconvert_exporter": "python",
   "pygments_lexer": "ipython3",
   "version": "3.8.5"
  },
  "orig_nbformat": 4,
  "vscode": {
   "interpreter": {
    "hash": "ba7bbf22b11a629a4916e26525f07d2f8258df9cee7f246eed40b087bce1fde2"
   }
  }
 },
 "nbformat": 4,
 "nbformat_minor": 2
}
